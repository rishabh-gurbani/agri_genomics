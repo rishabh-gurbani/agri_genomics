{
 "cells": [
  {
   "cell_type": "code",
   "execution_count": 14,
   "metadata": {
    "collapsed": true
   },
   "outputs": [
    {
     "name": "stdout",
     "output_type": "stream",
     "text": [
      "seq CATGTAGACTAG is 12 bases long\n",
      "reverse complement is CTAGTCTACATG\n",
      "protein translation is HVD*\n"
     ]
    }
   ],
   "source": [
    "from Bio.Seq import Seq\n",
    "\n",
    "# create a sequence object\n",
    "my_seq = Seq(\"CATGTAGACTAG\")\n",
    "\n",
    "# print out some details about it\n",
    "print(\"seq %s is %i bases long\" % (my_seq, len(my_seq)))\n",
    "print(\"reverse complement is %s\" % my_seq.reverse_complement())\n",
    "print(\"protein translation is %s\" % my_seq.translate())\n"
   ]
  },
  {
   "cell_type": "code",
   "execution_count": 15,
   "outputs": [
    {
     "name": "stdout",
     "output_type": "stream",
     "text": [
      "ACATATCAT\n",
      "AACAGATCT\n",
      "AGATATTAG\n",
      "GCATCGATT\n"
     ]
    }
   ],
   "source": [
    "from Bio.Align import MultipleSeqAlignment\n",
    "from Bio.Seq import Seq\n",
    "from Bio.SeqRecord import SeqRecord\n",
    "\n",
    "# create three DNA sequences\n",
    "seq1 = Seq(\"ACATATCAT\")\n",
    "seq2 = Seq(\"AACAGATCT\")\n",
    "seq3 = Seq(\"AGATATTAG\")\n",
    "seq4 = Seq(\"GCATCGATT\")\n",
    "\n",
    "# create sequence records with IDs and descriptions\n",
    "rec1 = SeqRecord(seq1, id=\"Seq1\", description=\"Sequence 1\")\n",
    "rec2 = SeqRecord(seq2, id=\"Seq2\", description=\"Sequence 2\")\n",
    "rec3 = SeqRecord(seq3, id=\"Seq3\", description=\"Sequence 3\")\n",
    "rec4 = SeqRecord(seq4, id=\"Seq4\", description=\"Sequence 4\")\n",
    "\n",
    "# create a list of sequence records\n",
    "records = [rec1, rec2, rec3, rec4]\n",
    "\n",
    "# perform a multiple sequence alignment using the ClustalW algorithm\n",
    "alignment = MultipleSeqAlignment(records)\n",
    "\n",
    "for record in alignment:\n",
    "    print(record.seq)"
   ],
   "metadata": {
    "collapsed": false
   }
  },
  {
   "cell_type": "code",
   "execution_count": 16,
   "outputs": [
    {
     "name": "stderr",
     "output_type": "stream",
     "text": [
      "/opt/homebrew/lib/python3.9/site-packages/Bio/pairwise2.py:278: BiopythonDeprecationWarning: Bio.pairwise2 has been deprecated, and we intend to remove it in a future release of Biopython. As an alternative, please consider using Bio.Align.PairwiseAligner as a replacement, and contact the Biopython developers if you still need the Bio.pairwise2 module.\n",
      "  warnings.warn(\n"
     ]
    },
    {
     "ename": "TypeError",
     "evalue": "'align' object is not callable",
     "output_type": "error",
     "traceback": [
      "\u001B[0;31m---------------------------------------------------------------------------\u001B[0m",
      "\u001B[0;31mTypeError\u001B[0m                                 Traceback (most recent call last)",
      "Input \u001B[0;32mIn [16]\u001B[0m, in \u001B[0;36m<cell line: 13>\u001B[0;34m()\u001B[0m\n\u001B[1;32m     10\u001B[0m seq4 \u001B[38;5;241m=\u001B[39m Seq(\u001B[38;5;124m\"\u001B[39m\u001B[38;5;124mGCATCGATT\u001B[39m\u001B[38;5;124m\"\u001B[39m)\n\u001B[1;32m     12\u001B[0m \u001B[38;5;66;03m# perform pairwise alignments of the sequences using the Needleman-Wunsch algorithm\u001B[39;00m\n\u001B[0;32m---> 13\u001B[0m alignments \u001B[38;5;241m=\u001B[39m [\u001B[43malign\u001B[49m\u001B[43m(\u001B[49m\u001B[43mseq1\u001B[49m\u001B[43m,\u001B[49m\u001B[43m \u001B[49m\u001B[43mseq2\u001B[49m\u001B[43m,\u001B[49m\u001B[43m \u001B[49m\u001B[43mgap_char\u001B[49m\u001B[38;5;241;43m=\u001B[39;49m\u001B[38;5;124;43m\"\u001B[39;49m\u001B[38;5;124;43m-\u001B[39;49m\u001B[38;5;124;43m\"\u001B[39;49m\u001B[43m,\u001B[49m\u001B[43m \u001B[49m\u001B[43mmatch_score\u001B[49m\u001B[38;5;241;43m=\u001B[39;49m\u001B[38;5;241;43m2\u001B[39;49m\u001B[43m,\u001B[49m\u001B[43m \u001B[49m\u001B[43mmismatch_score\u001B[49m\u001B[38;5;241;43m=\u001B[39;49m\u001B[38;5;241;43m-\u001B[39;49m\u001B[38;5;241;43m1\u001B[39;49m\u001B[43m)\u001B[49m,\n\u001B[1;32m     14\u001B[0m               align(seq1, seq3, gap_char\u001B[38;5;241m=\u001B[39m\u001B[38;5;124m\"\u001B[39m\u001B[38;5;124m-\u001B[39m\u001B[38;5;124m\"\u001B[39m, match_score\u001B[38;5;241m=\u001B[39m\u001B[38;5;241m2\u001B[39m, mismatch_score\u001B[38;5;241m=\u001B[39m\u001B[38;5;241m-\u001B[39m\u001B[38;5;241m1\u001B[39m),\n\u001B[1;32m     15\u001B[0m               align(seq1, seq4, gap_char\u001B[38;5;241m=\u001B[39m\u001B[38;5;124m\"\u001B[39m\u001B[38;5;124m-\u001B[39m\u001B[38;5;124m\"\u001B[39m, match_score\u001B[38;5;241m=\u001B[39m\u001B[38;5;241m2\u001B[39m, mismatch_score\u001B[38;5;241m=\u001B[39m\u001B[38;5;241m-\u001B[39m\u001B[38;5;241m1\u001B[39m),\n\u001B[1;32m     16\u001B[0m               align(seq2, seq3, gap_char\u001B[38;5;241m=\u001B[39m\u001B[38;5;124m\"\u001B[39m\u001B[38;5;124m-\u001B[39m\u001B[38;5;124m\"\u001B[39m, match_score\u001B[38;5;241m=\u001B[39m\u001B[38;5;241m2\u001B[39m, mismatch_score\u001B[38;5;241m=\u001B[39m\u001B[38;5;241m-\u001B[39m\u001B[38;5;241m1\u001B[39m),\n\u001B[1;32m     17\u001B[0m               align(seq2, seq4, gap_char\u001B[38;5;241m=\u001B[39m\u001B[38;5;124m\"\u001B[39m\u001B[38;5;124m-\u001B[39m\u001B[38;5;124m\"\u001B[39m, match_score\u001B[38;5;241m=\u001B[39m\u001B[38;5;241m2\u001B[39m, mismatch_score\u001B[38;5;241m=\u001B[39m\u001B[38;5;241m-\u001B[39m\u001B[38;5;241m1\u001B[39m),\n\u001B[1;32m     18\u001B[0m               align(seq3, seq4, gap_char\u001B[38;5;241m=\u001B[39m\u001B[38;5;124m\"\u001B[39m\u001B[38;5;124m-\u001B[39m\u001B[38;5;124m\"\u001B[39m, match_score\u001B[38;5;241m=\u001B[39m\u001B[38;5;241m2\u001B[39m, mismatch_score\u001B[38;5;241m=\u001B[39m\u001B[38;5;241m-\u001B[39m\u001B[38;5;241m1\u001B[39m)]\n\u001B[1;32m     20\u001B[0m \u001B[38;5;66;03m# create sequence records with IDs and descriptions\u001B[39;00m\n\u001B[1;32m     21\u001B[0m rec1 \u001B[38;5;241m=\u001B[39m SeqRecord(seq1, \u001B[38;5;28mid\u001B[39m\u001B[38;5;241m=\u001B[39m\u001B[38;5;124m\"\u001B[39m\u001B[38;5;124mS1\u001B[39m\u001B[38;5;124m\"\u001B[39m, description\u001B[38;5;241m=\u001B[39m\u001B[38;5;124m\"\u001B[39m\u001B[38;5;124mSequence 1\u001B[39m\u001B[38;5;124m\"\u001B[39m)\n",
      "\u001B[0;31mTypeError\u001B[0m: 'align' object is not callable"
     ]
    }
   ],
   "source": [
    "from Bio.Align import MultipleSeqAlignment\n",
    "from Bio.Seq import Seq\n",
    "from Bio.SeqRecord import SeqRecord\n",
    "from Bio.pairwise2 import align\n",
    "\n",
    "# create four DNA sequences\n",
    "seq1 = Seq(\"ACATATCAT\")\n",
    "seq2 = Seq(\"AACAGATCT\")\n",
    "seq3 = Seq(\"AGATATTAG\")\n",
    "seq4 = Seq(\"GCATCGATT\")\n",
    "\n",
    "# perform pairwise alignments of the sequences using the Needleman-Wunsch algorithm\n",
    "alignments = [align(seq1, seq2, gap_char=\"-\", match_score=2, mismatch_score=-1),\n",
    "              align(seq1, seq3, gap_char=\"-\", match_score=2, mismatch_score=-1),\n",
    "              align(seq1, seq4, gap_char=\"-\", match_score=2, mismatch_score=-1),\n",
    "              align(seq2, seq3, gap_char=\"-\", match_score=2, mismatch_score=-1),\n",
    "              align(seq2, seq4, gap_char=\"-\", match_score=2, mismatch_score=-1),\n",
    "              align(seq3, seq4, gap_char=\"-\", match_score=2, mismatch_score=-1)]\n",
    "\n",
    "# create sequence records with IDs and descriptions\n",
    "rec1 = SeqRecord(seq1, id=\"S1\", description=\"Sequence 1\")\n",
    "rec2 = SeqRecord(seq2, id=\"S2\", description=\"Sequence 2\")\n",
    "rec3 = SeqRecord(seq3, id=\"S3\", description=\"Sequence 3\")\n",
    "rec4 = SeqRecord(seq4, id=\"S4\", description=\"Sequence 4\")\n",
    "\n",
    "# initialize the final aligned sequences with gaps\n",
    "aligned_seqs = [\"-\" * len(seq1) for i in range(4)]\n",
    "\n",
    "# add the aligned segments from each pairwise alignment to the final aligned sequences\n",
    "for aln in alignments:\n",
    "    i = int(aln[0][1][1:]) - 1\n",
    "    j = int(aln[0][3][1:]) - 1\n",
    "    for k in range(len(aln[0][0])):\n",
    "        if aln[0][0][k] != \"-\":\n",
    "            aligned_seqs[i] = aligned_seqs[i][:k] + aln[0][0][k] + aligned_seqs[i][k+1:]\n",
    "        if aln[0][1][k] != \"-\":\n",
    "            aligned_seqs[j] = aligned_seqs[j][:k] + aln[0][1][k] + aligned_seqs[j][k+1:]\n",
    "\n",
    "# create a list of sequence records\n",
    "records = [rec1, rec2, rec3, rec4]\n",
    "\n",
    "# create a multiple sequence alignment object from the final aligned sequences and the sequence records\n",
    "alignment = MultipleSeqAlignment([SeqRecord(Seq(aligned_seqs[i]), id=records[i].id, description=records[i].description) for i in range(4)])\n",
    "\n",
    "# print the alignment\n",
    "print(alignment)\n"
   ],
   "metadata": {
    "collapsed": false
   }
  },
  {
   "cell_type": "code",
   "execution_count": null,
   "outputs": [],
   "source": [],
   "metadata": {
    "collapsed": false
   }
  }
 ],
 "metadata": {
  "kernelspec": {
   "display_name": "Python 3",
   "language": "python",
   "name": "python3"
  },
  "language_info": {
   "codemirror_mode": {
    "name": "ipython",
    "version": 2
   },
   "file_extension": ".py",
   "mimetype": "text/x-python",
   "name": "python",
   "nbconvert_exporter": "python",
   "pygments_lexer": "ipython2",
   "version": "2.7.6"
  }
 },
 "nbformat": 4,
 "nbformat_minor": 0
}
