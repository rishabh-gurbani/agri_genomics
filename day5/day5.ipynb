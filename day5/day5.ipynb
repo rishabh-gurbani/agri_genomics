{
 "cells": [
  {
   "cell_type": "code",
   "execution_count": 1,
   "metadata": {
    "collapsed": true
   },
   "outputs": [],
   "source": [
    "from Bio.Align.Applications import ClustalwCommandline"
   ]
  },
  {
   "cell_type": "code",
   "execution_count": 2,
   "outputs": [
    {
     "data": {
      "text/plain": "('\\n\\n\\n CLUSTAL 2.1 Multiple Sequence Alignments\\n\\n\\nSequence format is Pearson\\nSequence 1: test1          9 bp\\nSequence 2: test2          9 bp\\nSequence 3: test3          9 bp\\nSequence 4: test4          9 bp\\nStart of Pairwise alignments\\nAligning...\\n\\nSequences (1:2) Aligned. Score:  66\\nSequences (1:3) Aligned. Score:  66\\nSequences (1:4) Aligned. Score:  33\\nSequences (2:3) Aligned. Score:  55\\nSequences (2:4) Aligned. Score:  33\\nSequences (3:4) Aligned. Score:  33\\nGuide tree file created:   [clustalw.dnd]\\n\\nThere are 3 groups\\nStart of Multiple Alignment\\n\\nAligning...\\nGroup 1: Sequences:   2      Score:114\\nGroup 2: Sequences:   3      Score:101\\nGroup 3: Sequences:   4      Score:83\\nAlignment Score 5\\n\\nCLUSTAL-Alignment file created  [output.aln]\\n\\n',\n '')"
     },
     "execution_count": 2,
     "metadata": {},
     "output_type": "execute_result"
    }
   ],
   "source": [
    "infile = \"clustalw.fasta\"\n",
    "cline = ClustalwCommandline(\"clustalw2\", infile = infile, outfile = \"output.aln\")\n",
    "cline()"
   ],
   "metadata": {
    "collapsed": false
   }
  },
  {
   "cell_type": "code",
   "execution_count": 3,
   "outputs": [
    {
     "name": "stdout",
     "output_type": "stream",
     "text": [
      "Alignment with 4 rows and 11 columns\n",
      "--ACATATCAT test1\n",
      "-AACAGATCT- test2\n",
      "--AGATATTAG test3\n",
      "GCATCGATT-- test4\n"
     ]
    }
   ],
   "source": [
    "from Bio import AlignIO\n",
    "fileName = \"output.aln\"\n",
    "formatType = \"clustal\"\n",
    "align = AlignIO.read(fileName, \"clustal\")\n",
    "print(align)"
   ],
   "metadata": {
    "collapsed": false
   }
  },
  {
   "cell_type": "code",
   "execution_count": 4,
   "outputs": [],
   "source": [
    "# S1: A-CATATC-AT-\n",
    "# S2: A-GATATT-AG-\n",
    "# S3: AACAGATC-T--\n",
    "# S4: G-CAT--CGATT"
   ],
   "metadata": {
    "collapsed": false
   }
  },
  {
   "cell_type": "code",
   "execution_count": 1,
   "outputs": [
    {
     "ename": "ApplicationError",
     "evalue": "Non-zero return code 1 from 'muscle -in example.fasta -out out.aln', message 'Invalid command line'",
     "output_type": "error",
     "traceback": [
      "\u001B[0;31m---------------------------------------------------------------------------\u001B[0m",
      "\u001B[0;31mApplicationError\u001B[0m                          Traceback (most recent call last)",
      "Input \u001B[0;32mIn [1]\u001B[0m, in \u001B[0;36m<cell line: 12>\u001B[0;34m()\u001B[0m\n\u001B[1;32m     10\u001B[0m \u001B[38;5;66;03m# Run Muscle\u001B[39;00m\n\u001B[1;32m     11\u001B[0m muscle_cline \u001B[38;5;241m=\u001B[39m MuscleCommandline(\u001B[38;5;28minput\u001B[39m\u001B[38;5;241m=\u001B[39minput_file, out\u001B[38;5;241m=\u001B[39moutput_file)\n\u001B[0;32m---> 12\u001B[0m \u001B[43mmuscle_cline\u001B[49m\u001B[43m(\u001B[49m\u001B[43m)\u001B[49m\n\u001B[1;32m     14\u001B[0m \u001B[38;5;66;03m# Parse the output file and get the alignment\u001B[39;00m\n\u001B[1;32m     15\u001B[0m alignment \u001B[38;5;241m=\u001B[39m AlignIO\u001B[38;5;241m.\u001B[39mread(output_file, \u001B[38;5;124m\"\u001B[39m\u001B[38;5;124mclustal\u001B[39m\u001B[38;5;124m\"\u001B[39m)\n",
      "File \u001B[0;32m/opt/homebrew/lib/python3.9/site-packages/Bio/Application/__init__.py:574\u001B[0m, in \u001B[0;36mAbstractCommandline.__call__\u001B[0;34m(self, stdin, stdout, stderr, cwd, env)\u001B[0m\n\u001B[1;32m    571\u001B[0m     stderr_arg\u001B[38;5;241m.\u001B[39mclose()\n\u001B[1;32m    573\u001B[0m \u001B[38;5;28;01mif\u001B[39;00m return_code:\n\u001B[0;32m--> 574\u001B[0m     \u001B[38;5;28;01mraise\u001B[39;00m ApplicationError(return_code, \u001B[38;5;28mstr\u001B[39m(\u001B[38;5;28mself\u001B[39m), stdout_str, stderr_str)\n\u001B[1;32m    575\u001B[0m \u001B[38;5;28;01mreturn\u001B[39;00m stdout_str, stderr_str\n",
      "\u001B[0;31mApplicationError\u001B[0m: Non-zero return code 1 from 'muscle -in example.fasta -out out.aln', message 'Invalid command line'"
     ]
    }
   ],
   "source": [
    "from Bio.Align.Applications import MuscleCommandline\n",
    "from Bio import AlignIO\n",
    "\n",
    "# Input file\n",
    "input_file = \"example.fasta\"\n",
    "\n",
    "# Output file\n",
    "output_file = \"out.aln\"\n",
    "\n",
    "# Run Muscle\n",
    "muscle_cline = MuscleCommandline(input=input_file, out=output_file)\n",
    "muscle_cline()\n",
    "\n",
    "# Parse the output file and get the alignment\n",
    "alignment = AlignIO.read(output_file, \"clustal\")\n",
    "\n",
    "# Print the alignment\n",
    "print(alignment)\n"
   ],
   "metadata": {
    "collapsed": false
   }
  },
  {
   "cell_type": "code",
   "execution_count": 6,
   "outputs": [
    {
     "data": {
      "text/plain": "<Figure size 432x288 with 1 Axes>",
      "image/png": "[encoded data removed]"
     },
     "metadata": {
      "needs_background": "light"
     },
     "output_type": "display_data"
    }
   ],
   "source": [
    "from Bio import Phylo\n",
    "from Bio.Phylo.TreeConstruction import DistanceCalculator, DistanceTreeConstructor\n",
    "from Bio.Align import MultipleSeqAlignment\n",
    "from Bio.Seq import Seq\n",
    "from Bio.SeqRecord import SeqRecord\n",
    "\n",
    "# create a multiple sequence alignment object\n",
    "records = [SeqRecord(Seq(\"--ACATATCAT\"), id=\"seq1\"),\n",
    "           SeqRecord(Seq(\"-AACAGATCT-\"), id=\"seq2\"),\n",
    "           SeqRecord(Seq(\"--AGATATTAG\"), id=\"seq3\"),\n",
    "           SeqRecord(Seq(\"GCATCGATT--\"), id=\"seq4\")]\n",
    "alignment = MultipleSeqAlignment(records)\n",
    "\n",
    "# calculate distance matrix\n",
    "calculator = DistanceCalculator('identity')\n",
    "dm = calculator.get_distance(alignment)\n",
    "\n",
    "# construct tree\n",
    "constructor = DistanceTreeConstructor()\n",
    "tree = constructor.nj(dm)\n",
    "\n",
    "# visualize the tree\n",
    "Phylo.draw(tree)\n"
   ],
   "metadata": {
    "collapsed": false
   }
  },
  {
   "cell_type": "code",
   "execution_count": 7,
   "outputs": [
    {
     "data": {
      "text/plain": "('\\n\\n\\n CLUSTAL 2.1 Multiple Sequence Alignments\\n\\n\\nSequence format is Pearson\\nSequence 1: C.irapeanum       140 bp\\nSequence 2: C.californicum    140 bp\\nSequence 3: C.fasciculatum    140 bp\\nSequence 4: C.margaritaceum   140 bp\\nSequence 5: C.lichiangense    140 bp\\nSequence 6: C.yatabeanum      140 bp\\nSequence 7: C.guttatum        140 bp\\nSequence 8: C.acaule          140 bp\\nSequence 9: C.formosanum      140 bp\\nStart of Pairwise alignments\\nAligning...\\n\\nSequences (1:2) Aligned. Score:  85\\nSequences (1:3) Aligned. Score:  82\\nSequences (1:4) Aligned. Score:  79\\nSequences (1:5) Aligned. Score:  63\\nSequences (1:6) Aligned. Score:  65\\nSequences (1:7) Aligned. Score:  65\\nSequences (1:8) Aligned. Score:  57\\nSequences (1:9) Aligned. Score:  76\\nSequences (2:3) Aligned. Score:  82\\nSequences (2:4) Aligned. Score:  84\\nSequences (2:5) Aligned. Score:  66\\nSequences (2:6) Aligned. Score:  68\\nSequences (2:7) Aligned. Score:  67\\nSequences (2:8) Aligned. Score:  58\\nSequences (2:9) Aligned. Score:  81\\nSequences (3:4) Aligned. Score:  76\\nSequences (3:5) Aligned. Score:  62\\nSequences (3:6) Aligned. Score:  67\\nSequences (3:7) Aligned. Score:  67\\nSequences (3:8) Aligned. Score:  55\\nSequences (3:9) Aligned. Score:  75\\nSequences (4:5) Aligned. Score:  77\\nSequences (4:6) Aligned. Score:  63\\nSequences (4:7) Aligned. Score:  63\\nSequences (4:8) Aligned. Score:  57\\nSequences (4:9) Aligned. Score:  82\\nSequences (5:6) Aligned. Score:  56\\nSequences (5:7) Aligned. Score:  67\\nSequences (5:8) Aligned. Score:  72\\nSequences (5:9) Aligned. Score:  67\\nSequences (6:7) Aligned. Score:  97\\nSequences (6:8) Aligned. Score:  61\\nSequences (6:9) Aligned. Score:  80\\nSequences (7:8) Aligned. Score:  60\\nSequences (7:9) Aligned. Score:  80\\nSequences (8:9) Aligned. Score:  61\\nGuide tree file created:   [orchid.dnd]\\n\\nThere are 8 groups\\nStart of Multiple Alignment\\n\\nAligning...\\nGroup 1: Sequences:   2      Score:2266\\nGroup 2: Sequences:   3      Score:2334\\nGroup 3: Sequences:   4      Score:2264\\nGroup 4: Sequences:   2      Score:2603\\nGroup 5: Sequences:   3      Score:2185\\nGroup 6: Sequences:   7      Score:2101\\nGroup 7: Sequences:   2      Score:1950\\nGroup 8: Sequences:   9      Score:1600\\nAlignment Score 21581\\n\\nCLUSTAL-Alignment file created  [out.aln]\\n\\n',\n '')"
     },
     "execution_count": 7,
     "metadata": {},
     "output_type": "execute_result"
    }
   ],
   "source": [
    "infile = \"orchid.fasta\"\n",
    "cline = ClustalwCommandline(\"clustalw2\", infile = infile, outfile = \"out.aln\")\n",
    "cline()"
   ],
   "metadata": {
    "collapsed": false
   }
  },
  {
   "cell_type": "code",
   "execution_count": null,
   "outputs": [],
   "source": [],
   "metadata": {
    "collapsed": false
   }
  }
 ],
 "metadata": {
  "kernelspec": {
   "display_name": "Python 3",
   "language": "python",
   "name": "python3"
  },
  "language_info": {
   "codemirror_mode": {
    "name": "ipython",
    "version": 2
   },
   "file_extension": ".py",
   "mimetype": "text/x-python",
   "name": "python",
   "nbconvert_exporter": "python",
   "pygments_lexer": "ipython2",
   "version": "2.7.6"
  }
 },
 "nbformat": 4,
 "nbformat_minor": 0
}
