{
 "cells": [
  {
   "cell_type": "markdown",
   "source": [
    "# Analysing for 24 chromosomes"
   ],
   "metadata": {
    "collapsed": false
   }
  },
  {
   "cell_type": "markdown",
   "source": [
    "merging data"
   ],
   "metadata": {
    "collapsed": false
   }
  },
  {
   "cell_type": "code",
   "execution_count": 1,
   "metadata": {
    "collapsed": true,
    "ExecuteTime": {
     "end_time": "2023-05-13T16:47:47.016396Z",
     "start_time": "2023-05-13T16:47:46.726692Z"
    }
   },
   "outputs": [],
   "source": [
    "import pandas as pd"
   ]
  },
  {
   "cell_type": "code",
   "execution_count": 2,
   "outputs": [
    {
     "data": {
      "text/plain": "  Cultivar Name    Cultivar ID       Subpopulation   Location   Accession\n0         02428           C152  Temperate Japonica    Jiangsu  SRR1239752\n1      02428-IL          CX277  Temperate Japonica      China   ERS470588\n2        053A-3          CX351  Temperate Japonica      China   ERS470636\n3         10340           W146            Indica I      Italy  SRR1239949\n4      104_UPLA  IRIS_313-8063   Tropical Japonica  Argentina   ERS468624",
      "text/html": "<div>\n<style scoped>\n    .dataframe tbody tr th:only-of-type {\n        vertical-align: middle;\n    }\n\n    .dataframe tbody tr th {\n        vertical-align: top;\n    }\n\n    .dataframe thead th {\n        text-align: right;\n    }\n</style>\n<table border=\"1\" class=\"dataframe\">\n  <thead>\n    <tr style=\"text-align: right;\">\n      <th></th>\n      <th>Cultivar Name</th>\n      <th>Cultivar ID</th>\n      <th>Subpopulation</th>\n      <th>Location</th>\n      <th>Accession</th>\n    </tr>\n  </thead>\n  <tbody>\n    <tr>\n      <th>0</th>\n      <td>02428</td>\n      <td>C152</td>\n      <td>Temperate Japonica</td>\n      <td>Jiangsu</td>\n      <td>SRR1239752</td>\n    </tr>\n    <tr>\n      <th>1</th>\n      <td>02428-IL</td>\n      <td>CX277</td>\n      <td>Temperate Japonica</td>\n      <td>China</td>\n      <td>ERS470588</td>\n    </tr>\n    <tr>\n      <th>2</th>\n      <td>053A-3</td>\n      <td>CX351</td>\n      <td>Temperate Japonica</td>\n      <td>China</td>\n      <td>ERS470636</td>\n    </tr>\n    <tr>\n      <th>3</th>\n      <td>10340</td>\n      <td>W146</td>\n      <td>Indica I</td>\n      <td>Italy</td>\n      <td>SRR1239949</td>\n    </tr>\n    <tr>\n      <th>4</th>\n      <td>104_UPLA</td>\n      <td>IRIS_313-8063</td>\n      <td>Tropical Japonica</td>\n      <td>Argentina</td>\n      <td>ERS468624</td>\n    </tr>\n  </tbody>\n</table>\n</div>"
     },
     "execution_count": 2,
     "metadata": {},
     "output_type": "execute_result"
    }
   ],
   "source": [
    "cultivars = pd.read_csv(\"Cultivars.csv\")\n",
    "cultivars.head()"
   ],
   "metadata": {
    "collapsed": false,
    "ExecuteTime": {
     "end_time": "2023-05-13T16:47:47.635239Z",
     "start_time": "2023-05-13T16:47:47.604894Z"
    }
   }
  },
  {
   "cell_type": "code",
   "execution_count": 3,
   "outputs": [
    {
     "data": {
      "text/plain": "  Cultivar Name Cultivar ID       Subpopulation  Plant Height (cm)\n0         02428        C152  Temperate Japonica              100.0\n1         10340        W146            Indica I              127.4\n2          108S        W150           Indica II              104.6\n3             2        W129         VI/Aromatic              151.2\n4          4484        W086           Indica II              103.4",
      "text/html": "<div>\n<style scoped>\n    .dataframe tbody tr th:only-of-type {\n        vertical-align: middle;\n    }\n\n    .dataframe tbody tr th {\n        vertical-align: top;\n    }\n\n    .dataframe thead th {\n        text-align: right;\n    }\n</style>\n<table border=\"1\" class=\"dataframe\">\n  <thead>\n    <tr style=\"text-align: right;\">\n      <th></th>\n      <th>Cultivar Name</th>\n      <th>Cultivar ID</th>\n      <th>Subpopulation</th>\n      <th>Plant Height (cm)</th>\n    </tr>\n  </thead>\n  <tbody>\n    <tr>\n      <th>0</th>\n      <td>02428</td>\n      <td>C152</td>\n      <td>Temperate Japonica</td>\n      <td>100.0</td>\n    </tr>\n    <tr>\n      <th>1</th>\n      <td>10340</td>\n      <td>W146</td>\n      <td>Indica I</td>\n      <td>127.4</td>\n    </tr>\n    <tr>\n      <th>2</th>\n      <td>108S</td>\n      <td>W150</td>\n      <td>Indica II</td>\n      <td>104.6</td>\n    </tr>\n    <tr>\n      <th>3</th>\n      <td>2</td>\n      <td>W129</td>\n      <td>VI/Aromatic</td>\n      <td>151.2</td>\n    </tr>\n    <tr>\n      <th>4</th>\n      <td>4484</td>\n      <td>W086</td>\n      <td>Indica II</td>\n      <td>103.4</td>\n    </tr>\n  </tbody>\n</table>\n</div>"
     },
     "execution_count": 3,
     "metadata": {},
     "output_type": "execute_result"
    }
   ],
   "source": [
    "heights = pd.read_csv(\"Height.csv\")\n",
    "heights.head()"
   ],
   "metadata": {
    "collapsed": false,
    "ExecuteTime": {
     "end_time": "2023-05-13T16:47:48.141822Z",
     "start_time": "2023-05-13T16:47:48.129984Z"
    }
   }
  },
  {
   "cell_type": "code",
   "execution_count": 4,
   "outputs": [
    {
     "data": {
      "text/plain": "      Cultivar ID vg0112116426 vg0128525986 vg0130976864 vg0131664768  \\\n0      Chromosome        chr01        chr01        chr01        chr01   \n1        Position     12116426     28525986     30976864     31664768   \n2  Variation Type          SNP          SNP          SNP          SNP   \n3       Reference            G            A            A            A   \n4  Primary Allele            G            A            G            G   \n\n  vg0133440209 vg0135617816 vg0135642980 vg0138418739 vg0138428840  ...  \\\n0        chr01        chr01        chr01        chr01        chr01  ...   \n1     33440209     35617816     35642980     38418739     38428840  ...   \n2          SNP          SNP          SNP          SNP          SNP  ...   \n3            G            C            C            A            T  ...   \n4            G            C            C            A            T  ...   \n\n  vg0713178880 vg0719727299 vg0719727339 vg0719834473 vg0819793460  \\\n0        chr07        chr07        chr07        chr07        chr08   \n1     13178880     19727299     19727339     19834473     19793460   \n2          SNP          SNP          SNP          SNP          SNP   \n3            T            A            C            C            A   \n4            T            G            T            C            A   \n\n  vg0904094998 vg0904282939 vg1019044175 vg1123563633 vg1207667840  \n0        chr09        chr09        chr10        chr11        chr12  \n1      4094998      4282939     19044175     23563633      7667840  \n2          SNP          SNP          SNP          SNP          SNP  \n3            A            C            C            T            T  \n4            C            C            T            T            T  \n\n[5 rows x 25 columns]",
      "text/html": "<div>\n<style scoped>\n    .dataframe tbody tr th:only-of-type {\n        vertical-align: middle;\n    }\n\n    .dataframe tbody tr th {\n        vertical-align: top;\n    }\n\n    .dataframe thead th {\n        text-align: right;\n    }\n</style>\n<table border=\"1\" class=\"dataframe\">\n  <thead>\n    <tr style=\"text-align: right;\">\n      <th></th>\n      <th>Cultivar ID</th>\n      <th>vg0112116426</th>\n      <th>vg0128525986</th>\n      <th>vg0130976864</th>\n      <th>vg0131664768</th>\n      <th>vg0133440209</th>\n      <th>vg0135617816</th>\n      <th>vg0135642980</th>\n      <th>vg0138418739</th>\n      <th>vg0138428840</th>\n      <th>...</th>\n      <th>vg0713178880</th>\n      <th>vg0719727299</th>\n      <th>vg0719727339</th>\n      <th>vg0719834473</th>\n      <th>vg0819793460</th>\n      <th>vg0904094998</th>\n      <th>vg0904282939</th>\n      <th>vg1019044175</th>\n      <th>vg1123563633</th>\n      <th>vg1207667840</th>\n    </tr>\n  </thead>\n  <tbody>\n    <tr>\n      <th>0</th>\n      <td>Chromosome</td>\n      <td>chr01</td>\n      <td>chr01</td>\n      <td>chr01</td>\n      <td>chr01</td>\n      <td>chr01</td>\n      <td>chr01</td>\n      <td>chr01</td>\n      <td>chr01</td>\n      <td>chr01</td>\n      <td>...</td>\n      <td>chr07</td>\n      <td>chr07</td>\n      <td>chr07</td>\n      <td>chr07</td>\n      <td>chr08</td>\n      <td>chr09</td>\n      <td>chr09</td>\n      <td>chr10</td>\n      <td>chr11</td>\n      <td>chr12</td>\n    </tr>\n    <tr>\n      <th>1</th>\n      <td>Position</td>\n      <td>12116426</td>\n      <td>28525986</td>\n      <td>30976864</td>\n      <td>31664768</td>\n      <td>33440209</td>\n      <td>35617816</td>\n      <td>35642980</td>\n      <td>38418739</td>\n      <td>38428840</td>\n      <td>...</td>\n      <td>13178880</td>\n      <td>19727299</td>\n      <td>19727339</td>\n      <td>19834473</td>\n      <td>19793460</td>\n      <td>4094998</td>\n      <td>4282939</td>\n      <td>19044175</td>\n      <td>23563633</td>\n      <td>7667840</td>\n    </tr>\n    <tr>\n      <th>2</th>\n      <td>Variation Type</td>\n      <td>SNP</td>\n      <td>SNP</td>\n      <td>SNP</td>\n      <td>SNP</td>\n      <td>SNP</td>\n      <td>SNP</td>\n      <td>SNP</td>\n      <td>SNP</td>\n      <td>SNP</td>\n      <td>...</td>\n      <td>SNP</td>\n      <td>SNP</td>\n      <td>SNP</td>\n      <td>SNP</td>\n      <td>SNP</td>\n      <td>SNP</td>\n      <td>SNP</td>\n      <td>SNP</td>\n      <td>SNP</td>\n      <td>SNP</td>\n    </tr>\n    <tr>\n      <th>3</th>\n      <td>Reference</td>\n      <td>G</td>\n      <td>A</td>\n      <td>A</td>\n      <td>A</td>\n      <td>G</td>\n      <td>C</td>\n      <td>C</td>\n      <td>A</td>\n      <td>T</td>\n      <td>...</td>\n      <td>T</td>\n      <td>A</td>\n      <td>C</td>\n      <td>C</td>\n      <td>A</td>\n      <td>A</td>\n      <td>C</td>\n      <td>C</td>\n      <td>T</td>\n      <td>T</td>\n    </tr>\n    <tr>\n      <th>4</th>\n      <td>Primary Allele</td>\n      <td>G</td>\n      <td>A</td>\n      <td>G</td>\n      <td>G</td>\n      <td>G</td>\n      <td>C</td>\n      <td>C</td>\n      <td>A</td>\n      <td>T</td>\n      <td>...</td>\n      <td>T</td>\n      <td>G</td>\n      <td>T</td>\n      <td>C</td>\n      <td>A</td>\n      <td>C</td>\n      <td>C</td>\n      <td>T</td>\n      <td>T</td>\n      <td>T</td>\n    </tr>\n  </tbody>\n</table>\n<p>5 rows × 25 columns</p>\n</div>"
     },
     "execution_count": 4,
     "metadata": {},
     "output_type": "execute_result"
    }
   ],
   "source": [
    "genotype = pd.read_csv(\"Genotype_24chr.csv\")\n",
    "genotype = genotype.rename(columns={'Variation ID': 'Cultivar ID'})\n",
    "genotype.head()"
   ],
   "metadata": {
    "collapsed": false,
    "ExecuteTime": {
     "end_time": "2023-05-13T16:47:48.634747Z",
     "start_time": "2023-05-13T16:47:48.615783Z"
    }
   }
  },
  {
   "cell_type": "code",
   "execution_count": 5,
   "outputs": [
    {
     "data": {
      "text/plain": "(4732, 25)"
     },
     "execution_count": 5,
     "metadata": {},
     "output_type": "execute_result"
    }
   ],
   "source": [
    "genotype.shape"
   ],
   "metadata": {
    "collapsed": false,
    "ExecuteTime": {
     "end_time": "2023-05-13T16:47:49.046940Z",
     "start_time": "2023-05-13T16:47:49.031032Z"
    }
   }
  },
  {
   "cell_type": "code",
   "execution_count": 6,
   "outputs": [
    {
     "name": "stdout",
     "output_type": "stream",
     "text": [
      "[('vg0719834473', 2501), ('vg0128525986', 2393), ('vg0405463763', 1882), ('vg0405463422', 1667), ('vg0131664768', 1243), ('vg0603483061', 700), ('vg1123563633', 384), ('vg0904094998', 336), ('vg0133440209', 252), ('vg0135617816', 148), ('vg0719727299', 83), ('vg0719727339', 67), ('vg0138608956', 12), ('vg0135642980', 9), ('vg0112116426', 0), ('vg0130976864', 0), ('vg0138418739', 0), ('vg0138428840', 0), ('vg0138999212', 0), ('vg0713178880', 0), ('vg0819793460', 0), ('vg0904282939', 0), ('vg1019044175', 0), ('vg1207667840', 0)]\n"
     ]
    }
   ],
   "source": [
    "# counting del values for each SNP\n",
    "\n",
    "delCount = []\n",
    "for i in range(1, genotype.shape[1]):\n",
    "    val = 0\n",
    "    for j in range(6, genotype.shape[0]):\n",
    "        if genotype.iloc[j, i] == \"DEL\":\n",
    "            val = val + 1\n",
    "    delCount.append((genotype.columns[i],val))\n",
    "\n",
    "print(sorted(delCount, key=lambda x : x[1], reverse=True))"
   ],
   "metadata": {
    "collapsed": false,
    "ExecuteTime": {
     "end_time": "2023-05-13T16:47:50.650916Z",
     "start_time": "2023-05-13T16:47:49.509270Z"
    }
   }
  },
  {
   "cell_type": "code",
   "execution_count": 7,
   "outputs": [
    {
     "name": "stdout",
     "output_type": "stream",
     "text": [
      "[('vg0603483061', 927), ('vg0133440209', 833), ('vg0405463422', 815), ('vg0405463763', 396), ('vg0904094998', 328), ('vg0138999212', 148), ('vg0131664768', 144), ('vg0128525986', 133), ('vg0130976864', 79), ('vg0135617816', 64), ('vg0112116426', 30), ('vg0719727299', 19), ('vg0138428840', 17), ('vg0719727339', 17), ('vg0138418739', 16), ('vg0719834473', 14), ('vg0819793460', 11), ('vg1123563633', 9), ('vg1207667840', 7), ('vg0135642980', 4), ('vg0713178880', 4), ('vg0138608956', 2), ('vg1019044175', 1), ('vg0904282939', 0)]\n"
     ]
    }
   ],
   "source": [
    "# counting n values for each SNP\n",
    "\n",
    "delCount = []\n",
    "for i in range(1, genotype.shape[1]):\n",
    "    val = 0\n",
    "    for j in range(6, genotype.shape[0]):\n",
    "        if genotype.iloc[j, i] == \"N\":\n",
    "            val = val + 1\n",
    "    delCount.append((genotype.columns[i],val))\n",
    "\n",
    "print(sorted(delCount, key=lambda x : x[1], reverse=True))"
   ],
   "metadata": {
    "collapsed": false,
    "ExecuteTime": {
     "end_time": "2023-05-13T16:47:51.515736Z",
     "start_time": "2023-05-13T16:47:50.726060Z"
    }
   }
  },
  {
   "cell_type": "code",
   "execution_count": 8,
   "outputs": [
    {
     "data": {
      "text/plain": "      Cultivar ID vg0112116426 vg0128525986 vg0130976864 vg0131664768  \\\n0      Chromosome        chr01        chr01        chr01        chr01   \n1        Position     12116426     28525986     30976864     31664768   \n2  Variation Type          SNP          SNP          SNP          SNP   \n3       Reference            G            A            A            A   \n4  Primary Allele            G            A            G            G   \n\n  vg0133440209 vg0135617816 vg0135642980 vg0138418739 vg0138428840  ...  \\\n0        chr01        chr01        chr01        chr01        chr01  ...   \n1     33440209     35617816     35642980     38418739     38428840  ...   \n2          SNP          SNP          SNP          SNP          SNP  ...   \n3            G            C            C            A            T  ...   \n4            G            C            C            A            T  ...   \n\n  vg0713178880 vg0719727299 vg0719727339 vg0719834473 vg0819793460  \\\n0        chr07        chr07        chr07        chr07        chr08   \n1     13178880     19727299     19727339     19834473     19793460   \n2          SNP          SNP          SNP          SNP          SNP   \n3            T            A            C            C            A   \n4            T            G            T            C            A   \n\n  vg0904094998 vg0904282939 vg1019044175 vg1123563633 vg1207667840  \n0        chr09        chr09        chr10        chr11        chr12  \n1      4094998      4282939     19044175     23563633      7667840  \n2          SNP          SNP          SNP          SNP          SNP  \n3            A            C            C            T            T  \n4            C            C            T            T            T  \n\n[5 rows x 25 columns]",
      "text/html": "<div>\n<style scoped>\n    .dataframe tbody tr th:only-of-type {\n        vertical-align: middle;\n    }\n\n    .dataframe tbody tr th {\n        vertical-align: top;\n    }\n\n    .dataframe thead th {\n        text-align: right;\n    }\n</style>\n<table border=\"1\" class=\"dataframe\">\n  <thead>\n    <tr style=\"text-align: right;\">\n      <th></th>\n      <th>Cultivar ID</th>\n      <th>vg0112116426</th>\n      <th>vg0128525986</th>\n      <th>vg0130976864</th>\n      <th>vg0131664768</th>\n      <th>vg0133440209</th>\n      <th>vg0135617816</th>\n      <th>vg0135642980</th>\n      <th>vg0138418739</th>\n      <th>vg0138428840</th>\n      <th>...</th>\n      <th>vg0713178880</th>\n      <th>vg0719727299</th>\n      <th>vg0719727339</th>\n      <th>vg0719834473</th>\n      <th>vg0819793460</th>\n      <th>vg0904094998</th>\n      <th>vg0904282939</th>\n      <th>vg1019044175</th>\n      <th>vg1123563633</th>\n      <th>vg1207667840</th>\n    </tr>\n  </thead>\n  <tbody>\n    <tr>\n      <th>0</th>\n      <td>Chromosome</td>\n      <td>chr01</td>\n      <td>chr01</td>\n      <td>chr01</td>\n      <td>chr01</td>\n      <td>chr01</td>\n      <td>chr01</td>\n      <td>chr01</td>\n      <td>chr01</td>\n      <td>chr01</td>\n      <td>...</td>\n      <td>chr07</td>\n      <td>chr07</td>\n      <td>chr07</td>\n      <td>chr07</td>\n      <td>chr08</td>\n      <td>chr09</td>\n      <td>chr09</td>\n      <td>chr10</td>\n      <td>chr11</td>\n      <td>chr12</td>\n    </tr>\n    <tr>\n      <th>1</th>\n      <td>Position</td>\n      <td>12116426</td>\n      <td>28525986</td>\n      <td>30976864</td>\n      <td>31664768</td>\n      <td>33440209</td>\n      <td>35617816</td>\n      <td>35642980</td>\n      <td>38418739</td>\n      <td>38428840</td>\n      <td>...</td>\n      <td>13178880</td>\n      <td>19727299</td>\n      <td>19727339</td>\n      <td>19834473</td>\n      <td>19793460</td>\n      <td>4094998</td>\n      <td>4282939</td>\n      <td>19044175</td>\n      <td>23563633</td>\n      <td>7667840</td>\n    </tr>\n    <tr>\n      <th>2</th>\n      <td>Variation Type</td>\n      <td>SNP</td>\n      <td>SNP</td>\n      <td>SNP</td>\n      <td>SNP</td>\n      <td>SNP</td>\n      <td>SNP</td>\n      <td>SNP</td>\n      <td>SNP</td>\n      <td>SNP</td>\n      <td>...</td>\n      <td>SNP</td>\n      <td>SNP</td>\n      <td>SNP</td>\n      <td>SNP</td>\n      <td>SNP</td>\n      <td>SNP</td>\n      <td>SNP</td>\n      <td>SNP</td>\n      <td>SNP</td>\n      <td>SNP</td>\n    </tr>\n    <tr>\n      <th>3</th>\n      <td>Reference</td>\n      <td>G</td>\n      <td>A</td>\n      <td>A</td>\n      <td>A</td>\n      <td>G</td>\n      <td>C</td>\n      <td>C</td>\n      <td>A</td>\n      <td>T</td>\n      <td>...</td>\n      <td>T</td>\n      <td>A</td>\n      <td>C</td>\n      <td>C</td>\n      <td>A</td>\n      <td>A</td>\n      <td>C</td>\n      <td>C</td>\n      <td>T</td>\n      <td>T</td>\n    </tr>\n    <tr>\n      <th>4</th>\n      <td>Primary Allele</td>\n      <td>G</td>\n      <td>A</td>\n      <td>G</td>\n      <td>G</td>\n      <td>G</td>\n      <td>C</td>\n      <td>C</td>\n      <td>A</td>\n      <td>T</td>\n      <td>...</td>\n      <td>T</td>\n      <td>G</td>\n      <td>T</td>\n      <td>C</td>\n      <td>A</td>\n      <td>C</td>\n      <td>C</td>\n      <td>T</td>\n      <td>T</td>\n      <td>T</td>\n    </tr>\n  </tbody>\n</table>\n<p>5 rows × 25 columns</p>\n</div>"
     },
     "execution_count": 8,
     "metadata": {},
     "output_type": "execute_result"
    }
   ],
   "source": [
    "genotype.head()"
   ],
   "metadata": {
    "collapsed": false,
    "ExecuteTime": {
     "end_time": "2023-05-13T16:47:52.176508Z",
     "start_time": "2023-05-13T16:47:52.171992Z"
    }
   }
  },
  {
   "cell_type": "code",
   "execution_count": 9,
   "outputs": [
    {
     "data": {
      "text/plain": "        Cultivar ID vg0112116426 vg0128525986 vg0130976864 vg0131664768  \\\n0        Chromosome        chr01        chr01        chr01        chr01   \n1          Position     12116426     28525986     30976864     31664768   \n2    Variation Type          SNP          SNP          SNP          SNP   \n3         Reference            G            A            A            A   \n4    Primary Allele            G            A            G            G   \n5  Secondary Allele            A            G            A            A   \n\n  vg0133440209 vg0135617816 vg0135642980 vg0138418739 vg0138428840  ...  \\\n0        chr01        chr01        chr01        chr01        chr01  ...   \n1     33440209     35617816     35642980     38418739     38428840  ...   \n2          SNP          SNP          SNP          SNP          SNP  ...   \n3            G            C            C            A            T  ...   \n4            G            C            C            A            T  ...   \n5            A            T            G            G            C  ...   \n\n  vg0713178880 vg0719727299 vg0719727339 vg0719834473 vg0819793460  \\\n0        chr07        chr07        chr07        chr07        chr08   \n1     13178880     19727299     19727339     19834473     19793460   \n2          SNP          SNP          SNP          SNP          SNP   \n3            T            A            C            C            A   \n4            T            G            T            C            A   \n5            A            A            C            T            T   \n\n  vg0904094998 vg0904282939 vg1019044175 vg1123563633 vg1207667840  \n0        chr09        chr09        chr10        chr11        chr12  \n1      4094998      4282939     19044175     23563633      7667840  \n2          SNP          SNP          SNP          SNP          SNP  \n3            A            C            C            T            T  \n4            C            C            T            T            T  \n5            A            T            C            C            C  \n\n[6 rows x 25 columns]",
      "text/html": "<div>\n<style scoped>\n    .dataframe tbody tr th:only-of-type {\n        vertical-align: middle;\n    }\n\n    .dataframe tbody tr th {\n        vertical-align: top;\n    }\n\n    .dataframe thead th {\n        text-align: right;\n    }\n</style>\n<table border=\"1\" class=\"dataframe\">\n  <thead>\n    <tr style=\"text-align: right;\">\n      <th></th>\n      <th>Cultivar ID</th>\n      <th>vg0112116426</th>\n      <th>vg0128525986</th>\n      <th>vg0130976864</th>\n      <th>vg0131664768</th>\n      <th>vg0133440209</th>\n      <th>vg0135617816</th>\n      <th>vg0135642980</th>\n      <th>vg0138418739</th>\n      <th>vg0138428840</th>\n      <th>...</th>\n      <th>vg0713178880</th>\n      <th>vg0719727299</th>\n      <th>vg0719727339</th>\n      <th>vg0719834473</th>\n      <th>vg0819793460</th>\n      <th>vg0904094998</th>\n      <th>vg0904282939</th>\n      <th>vg1019044175</th>\n      <th>vg1123563633</th>\n      <th>vg1207667840</th>\n    </tr>\n  </thead>\n  <tbody>\n    <tr>\n      <th>0</th>\n      <td>Chromosome</td>\n      <td>chr01</td>\n      <td>chr01</td>\n      <td>chr01</td>\n      <td>chr01</td>\n      <td>chr01</td>\n      <td>chr01</td>\n      <td>chr01</td>\n      <td>chr01</td>\n      <td>chr01</td>\n      <td>...</td>\n      <td>chr07</td>\n      <td>chr07</td>\n      <td>chr07</td>\n      <td>chr07</td>\n      <td>chr08</td>\n      <td>chr09</td>\n      <td>chr09</td>\n      <td>chr10</td>\n      <td>chr11</td>\n      <td>chr12</td>\n    </tr>\n    <tr>\n      <th>1</th>\n      <td>Position</td>\n      <td>12116426</td>\n      <td>28525986</td>\n      <td>30976864</td>\n      <td>31664768</td>\n      <td>33440209</td>\n      <td>35617816</td>\n      <td>35642980</td>\n      <td>38418739</td>\n      <td>38428840</td>\n      <td>...</td>\n      <td>13178880</td>\n      <td>19727299</td>\n      <td>19727339</td>\n      <td>19834473</td>\n      <td>19793460</td>\n      <td>4094998</td>\n      <td>4282939</td>\n      <td>19044175</td>\n      <td>23563633</td>\n      <td>7667840</td>\n    </tr>\n    <tr>\n      <th>2</th>\n      <td>Variation Type</td>\n      <td>SNP</td>\n      <td>SNP</td>\n      <td>SNP</td>\n      <td>SNP</td>\n      <td>SNP</td>\n      <td>SNP</td>\n      <td>SNP</td>\n      <td>SNP</td>\n      <td>SNP</td>\n      <td>...</td>\n      <td>SNP</td>\n      <td>SNP</td>\n      <td>SNP</td>\n      <td>SNP</td>\n      <td>SNP</td>\n      <td>SNP</td>\n      <td>SNP</td>\n      <td>SNP</td>\n      <td>SNP</td>\n      <td>SNP</td>\n    </tr>\n    <tr>\n      <th>3</th>\n      <td>Reference</td>\n      <td>G</td>\n      <td>A</td>\n      <td>A</td>\n      <td>A</td>\n      <td>G</td>\n      <td>C</td>\n      <td>C</td>\n      <td>A</td>\n      <td>T</td>\n      <td>...</td>\n      <td>T</td>\n      <td>A</td>\n      <td>C</td>\n      <td>C</td>\n      <td>A</td>\n      <td>A</td>\n      <td>C</td>\n      <td>C</td>\n      <td>T</td>\n      <td>T</td>\n    </tr>\n    <tr>\n      <th>4</th>\n      <td>Primary Allele</td>\n      <td>G</td>\n      <td>A</td>\n      <td>G</td>\n      <td>G</td>\n      <td>G</td>\n      <td>C</td>\n      <td>C</td>\n      <td>A</td>\n      <td>T</td>\n      <td>...</td>\n      <td>T</td>\n      <td>G</td>\n      <td>T</td>\n      <td>C</td>\n      <td>A</td>\n      <td>C</td>\n      <td>C</td>\n      <td>T</td>\n      <td>T</td>\n      <td>T</td>\n    </tr>\n    <tr>\n      <th>5</th>\n      <td>Secondary Allele</td>\n      <td>A</td>\n      <td>G</td>\n      <td>A</td>\n      <td>A</td>\n      <td>A</td>\n      <td>T</td>\n      <td>G</td>\n      <td>G</td>\n      <td>C</td>\n      <td>...</td>\n      <td>A</td>\n      <td>A</td>\n      <td>C</td>\n      <td>T</td>\n      <td>T</td>\n      <td>A</td>\n      <td>T</td>\n      <td>C</td>\n      <td>C</td>\n      <td>C</td>\n    </tr>\n  </tbody>\n</table>\n<p>6 rows × 25 columns</p>\n</div>"
     },
     "execution_count": 9,
     "metadata": {},
     "output_type": "execute_result"
    }
   ],
   "source": [
    "genotypeHeader = genotype.iloc[:6, :]\n",
    "primaryAlleleRow = 4\n",
    "secondaryAlleleRow = 5\n",
    "genotypeHeader"
   ],
   "metadata": {
    "collapsed": false,
    "ExecuteTime": {
     "end_time": "2023-05-13T16:47:52.947542Z",
     "start_time": "2023-05-13T16:47:52.944528Z"
    }
   }
  },
  {
   "cell_type": "code",
   "execution_count": 10,
   "outputs": [
    {
     "data": {
      "text/plain": "                             Cultivar ID vg0112116426 vg0128525986  \\\n6                 B001 (Heibiao) Imputed            G            A   \n7               B002 (Sansuijin) Imputed            G            A   \n8           B003 (Zaoshengbai__) Imputed            G            A   \n9     B004 (Qiuguangtengxi_104_) Imputed            G            A   \n10                 B005 (Wanshi) Imputed            G            A   \n...                                  ...          ...          ...   \n4727       W326 (Haolvguangnian) Imputed            G            A   \n4728              W327 (JinghuB) Imputed            G            A   \n4729         W328 (Sibeitichao6) Imputed            G            A   \n4730            W329 (GPNO_5055) Imputed            A          DEL   \n4731           W330 (ASWINA_330) Imputed            G            G   \n\n     vg0130976864 vg0131664768 vg0133440209 vg0135617816 vg0135642980  \\\n6               G            A            G            C            C   \n7               A            A            G            C            C   \n8               A            G            G            C            C   \n9               A            A            G            C            C   \n10              A            A            G            C            C   \n...           ...          ...          ...          ...          ...   \n4727            G            A            G            C            C   \n4728            A            A            G            C            C   \n4729            A            A            N            C            C   \n4730            G            G            G            C            C   \n4731            G            G            G            C            C   \n\n     vg0138418739 vg0138428840  ... vg0713178880 vg0719727299 vg0719727339  \\\n6               A            T  ...            A            A            C   \n7               A            T  ...            T            G            T   \n8               A            T  ...            T            A            C   \n9               A            T  ...            T            A            C   \n10              A            T  ...            A            A            C   \n...           ...          ...  ...          ...          ...          ...   \n4727            A            T  ...            T            A            C   \n4728            A            T  ...            T            G            T   \n4729            A            T  ...            T            A            C   \n4730            A            T  ...            T            G            C   \n4731            A            C  ...            T            G            T   \n\n     vg0719834473 vg0819793460 vg0904094998 vg0904282939 vg1019044175  \\\n6               C            A            A            C            C   \n7               T            A            A            C            C   \n8               C            A            A            C            C   \n9               C            A            A            C            C   \n10              C            A            A            C            C   \n...           ...          ...          ...          ...          ...   \n4727            C            A            A            C            C   \n4728            T            A            A            C            C   \n4729            C            A            C            C            C   \n4730            C            A            A            C            T   \n4731            C            T            N            C            C   \n\n     vg1123563633 vg1207667840  \n6               T            T  \n7               T            T  \n8               T            T  \n9               T            T  \n10            DEL            T  \n...           ...          ...  \n4727            T            C  \n4728            T            C  \n4729            T            T  \n4730            T            C  \n4731          DEL            C  \n\n[4726 rows x 25 columns]",
      "text/html": "<div>\n<style scoped>\n    .dataframe tbody tr th:only-of-type {\n        vertical-align: middle;\n    }\n\n    .dataframe tbody tr th {\n        vertical-align: top;\n    }\n\n    .dataframe thead th {\n        text-align: right;\n    }\n</style>\n<table border=\"1\" class=\"dataframe\">\n  <thead>\n    <tr style=\"text-align: right;\">\n      <th></th>\n      <th>Cultivar ID</th>\n      <th>vg0112116426</th>\n      <th>vg0128525986</th>\n      <th>vg0130976864</th>\n      <th>vg0131664768</th>\n      <th>vg0133440209</th>\n      <th>vg0135617816</th>\n      <th>vg0135642980</th>\n      <th>vg0138418739</th>\n      <th>vg0138428840</th>\n      <th>...</th>\n      <th>vg0713178880</th>\n      <th>vg0719727299</th>\n      <th>vg0719727339</th>\n      <th>vg0719834473</th>\n      <th>vg0819793460</th>\n      <th>vg0904094998</th>\n      <th>vg0904282939</th>\n      <th>vg1019044175</th>\n      <th>vg1123563633</th>\n      <th>vg1207667840</th>\n    </tr>\n  </thead>\n  <tbody>\n    <tr>\n      <th>6</th>\n      <td>B001 (Heibiao) Imputed</td>\n      <td>G</td>\n      <td>A</td>\n      <td>G</td>\n      <td>A</td>\n      <td>G</td>\n      <td>C</td>\n      <td>C</td>\n      <td>A</td>\n      <td>T</td>\n      <td>...</td>\n      <td>A</td>\n      <td>A</td>\n      <td>C</td>\n      <td>C</td>\n      <td>A</td>\n      <td>A</td>\n      <td>C</td>\n      <td>C</td>\n      <td>T</td>\n      <td>T</td>\n    </tr>\n    <tr>\n      <th>7</th>\n      <td>B002 (Sansuijin) Imputed</td>\n      <td>G</td>\n      <td>A</td>\n      <td>A</td>\n      <td>A</td>\n      <td>G</td>\n      <td>C</td>\n      <td>C</td>\n      <td>A</td>\n      <td>T</td>\n      <td>...</td>\n      <td>T</td>\n      <td>G</td>\n      <td>T</td>\n      <td>T</td>\n      <td>A</td>\n      <td>A</td>\n      <td>C</td>\n      <td>C</td>\n      <td>T</td>\n      <td>T</td>\n    </tr>\n    <tr>\n      <th>8</th>\n      <td>B003 (Zaoshengbai__) Imputed</td>\n      <td>G</td>\n      <td>A</td>\n      <td>A</td>\n      <td>G</td>\n      <td>G</td>\n      <td>C</td>\n      <td>C</td>\n      <td>A</td>\n      <td>T</td>\n      <td>...</td>\n      <td>T</td>\n      <td>A</td>\n      <td>C</td>\n      <td>C</td>\n      <td>A</td>\n      <td>A</td>\n      <td>C</td>\n      <td>C</td>\n      <td>T</td>\n      <td>T</td>\n    </tr>\n    <tr>\n      <th>9</th>\n      <td>B004 (Qiuguangtengxi_104_) Imputed</td>\n      <td>G</td>\n      <td>A</td>\n      <td>A</td>\n      <td>A</td>\n      <td>G</td>\n      <td>C</td>\n      <td>C</td>\n      <td>A</td>\n      <td>T</td>\n      <td>...</td>\n      <td>T</td>\n      <td>A</td>\n      <td>C</td>\n      <td>C</td>\n      <td>A</td>\n      <td>A</td>\n      <td>C</td>\n      <td>C</td>\n      <td>T</td>\n      <td>T</td>\n    </tr>\n    <tr>\n      <th>10</th>\n      <td>B005 (Wanshi) Imputed</td>\n      <td>G</td>\n      <td>A</td>\n      <td>A</td>\n      <td>A</td>\n      <td>G</td>\n      <td>C</td>\n      <td>C</td>\n      <td>A</td>\n      <td>T</td>\n      <td>...</td>\n      <td>A</td>\n      <td>A</td>\n      <td>C</td>\n      <td>C</td>\n      <td>A</td>\n      <td>A</td>\n      <td>C</td>\n      <td>C</td>\n      <td>DEL</td>\n      <td>T</td>\n    </tr>\n    <tr>\n      <th>...</th>\n      <td>...</td>\n      <td>...</td>\n      <td>...</td>\n      <td>...</td>\n      <td>...</td>\n      <td>...</td>\n      <td>...</td>\n      <td>...</td>\n      <td>...</td>\n      <td>...</td>\n      <td>...</td>\n      <td>...</td>\n      <td>...</td>\n      <td>...</td>\n      <td>...</td>\n      <td>...</td>\n      <td>...</td>\n      <td>...</td>\n      <td>...</td>\n      <td>...</td>\n      <td>...</td>\n    </tr>\n    <tr>\n      <th>4727</th>\n      <td>W326 (Haolvguangnian) Imputed</td>\n      <td>G</td>\n      <td>A</td>\n      <td>G</td>\n      <td>A</td>\n      <td>G</td>\n      <td>C</td>\n      <td>C</td>\n      <td>A</td>\n      <td>T</td>\n      <td>...</td>\n      <td>T</td>\n      <td>A</td>\n      <td>C</td>\n      <td>C</td>\n      <td>A</td>\n      <td>A</td>\n      <td>C</td>\n      <td>C</td>\n      <td>T</td>\n      <td>C</td>\n    </tr>\n    <tr>\n      <th>4728</th>\n      <td>W327 (JinghuB) Imputed</td>\n      <td>G</td>\n      <td>A</td>\n      <td>A</td>\n      <td>A</td>\n      <td>G</td>\n      <td>C</td>\n      <td>C</td>\n      <td>A</td>\n      <td>T</td>\n      <td>...</td>\n      <td>T</td>\n      <td>G</td>\n      <td>T</td>\n      <td>T</td>\n      <td>A</td>\n      <td>A</td>\n      <td>C</td>\n      <td>C</td>\n      <td>T</td>\n      <td>C</td>\n    </tr>\n    <tr>\n      <th>4729</th>\n      <td>W328 (Sibeitichao6) Imputed</td>\n      <td>G</td>\n      <td>A</td>\n      <td>A</td>\n      <td>A</td>\n      <td>N</td>\n      <td>C</td>\n      <td>C</td>\n      <td>A</td>\n      <td>T</td>\n      <td>...</td>\n      <td>T</td>\n      <td>A</td>\n      <td>C</td>\n      <td>C</td>\n      <td>A</td>\n      <td>C</td>\n      <td>C</td>\n      <td>C</td>\n      <td>T</td>\n      <td>T</td>\n    </tr>\n    <tr>\n      <th>4730</th>\n      <td>W329 (GPNO_5055) Imputed</td>\n      <td>A</td>\n      <td>DEL</td>\n      <td>G</td>\n      <td>G</td>\n      <td>G</td>\n      <td>C</td>\n      <td>C</td>\n      <td>A</td>\n      <td>T</td>\n      <td>...</td>\n      <td>T</td>\n      <td>G</td>\n      <td>C</td>\n      <td>C</td>\n      <td>A</td>\n      <td>A</td>\n      <td>C</td>\n      <td>T</td>\n      <td>T</td>\n      <td>C</td>\n    </tr>\n    <tr>\n      <th>4731</th>\n      <td>W330 (ASWINA_330) Imputed</td>\n      <td>G</td>\n      <td>G</td>\n      <td>G</td>\n      <td>G</td>\n      <td>G</td>\n      <td>C</td>\n      <td>C</td>\n      <td>A</td>\n      <td>C</td>\n      <td>...</td>\n      <td>T</td>\n      <td>G</td>\n      <td>T</td>\n      <td>C</td>\n      <td>T</td>\n      <td>N</td>\n      <td>C</td>\n      <td>C</td>\n      <td>DEL</td>\n      <td>C</td>\n    </tr>\n  </tbody>\n</table>\n<p>4726 rows × 25 columns</p>\n</div>"
     },
     "execution_count": 10,
     "metadata": {},
     "output_type": "execute_result"
    }
   ],
   "source": [
    "genotype = genotype.iloc[6:, :]\n",
    "genotype"
   ],
   "metadata": {
    "collapsed": false,
    "ExecuteTime": {
     "end_time": "2023-05-13T16:47:58.108962Z",
     "start_time": "2023-05-13T16:47:58.069415Z"
    }
   }
  },
  {
   "cell_type": "code",
   "execution_count": 11,
   "outputs": [
    {
     "data": {
      "text/plain": "                             Cultivar ID vg0112116426 vg0128525986  \\\n6                 B001 (Heibiao) Imputed            G            A   \n7               B002 (Sansuijin) Imputed            G            A   \n8           B003 (Zaoshengbai__) Imputed            G            A   \n9     B004 (Qiuguangtengxi_104_) Imputed            G            A   \n10                 B005 (Wanshi) Imputed            G            A   \n...                                  ...          ...          ...   \n4727       W326 (Haolvguangnian) Imputed            G            A   \n4728              W327 (JinghuB) Imputed            G            A   \n4729         W328 (Sibeitichao6) Imputed            G            A   \n4730            W329 (GPNO_5055) Imputed            A            G   \n4731           W330 (ASWINA_330) Imputed            G            G   \n\n     vg0130976864 vg0131664768 vg0133440209 vg0135617816 vg0135642980  \\\n6               G            A            G            C            C   \n7               A            A            G            C            C   \n8               A            G            G            C            C   \n9               A            A            G            C            C   \n10              A            A            G            C            C   \n...           ...          ...          ...          ...          ...   \n4727            G            A            G            C            C   \n4728            A            A            G            C            C   \n4729            A            A            G            C            C   \n4730            G            G            G            C            C   \n4731            G            G            G            C            C   \n\n     vg0138418739 vg0138428840  ... vg0713178880 vg0719727299 vg0719727339  \\\n6               A            T  ...            A            A            C   \n7               A            T  ...            T            G            T   \n8               A            T  ...            T            A            C   \n9               A            T  ...            T            A            C   \n10              A            T  ...            A            A            C   \n...           ...          ...  ...          ...          ...          ...   \n4727            A            T  ...            T            A            C   \n4728            A            T  ...            T            G            T   \n4729            A            T  ...            T            A            C   \n4730            A            T  ...            T            G            C   \n4731            A            C  ...            T            G            T   \n\n     vg0719834473 vg0819793460 vg0904094998 vg0904282939 vg1019044175  \\\n6               C            A            A            C            C   \n7               T            A            A            C            C   \n8               C            A            A            C            C   \n9               C            A            A            C            C   \n10              C            A            A            C            C   \n...           ...          ...          ...          ...          ...   \n4727            C            A            A            C            C   \n4728            T            A            A            C            C   \n4729            C            A            C            C            C   \n4730            C            A            A            C            T   \n4731            C            T            C            C            C   \n\n     vg1123563633 vg1207667840  \n6               T            T  \n7               T            T  \n8               T            T  \n9               T            T  \n10              C            T  \n...           ...          ...  \n4727            T            C  \n4728            T            C  \n4729            T            T  \n4730            T            C  \n4731            C            C  \n\n[4726 rows x 25 columns]",
      "text/html": "<div>\n<style scoped>\n    .dataframe tbody tr th:only-of-type {\n        vertical-align: middle;\n    }\n\n    .dataframe tbody tr th {\n        vertical-align: top;\n    }\n\n    .dataframe thead th {\n        text-align: right;\n    }\n</style>\n<table border=\"1\" class=\"dataframe\">\n  <thead>\n    <tr style=\"text-align: right;\">\n      <th></th>\n      <th>Cultivar ID</th>\n      <th>vg0112116426</th>\n      <th>vg0128525986</th>\n      <th>vg0130976864</th>\n      <th>vg0131664768</th>\n      <th>vg0133440209</th>\n      <th>vg0135617816</th>\n      <th>vg0135642980</th>\n      <th>vg0138418739</th>\n      <th>vg0138428840</th>\n      <th>...</th>\n      <th>vg0713178880</th>\n      <th>vg0719727299</th>\n      <th>vg0719727339</th>\n      <th>vg0719834473</th>\n      <th>vg0819793460</th>\n      <th>vg0904094998</th>\n      <th>vg0904282939</th>\n      <th>vg1019044175</th>\n      <th>vg1123563633</th>\n      <th>vg1207667840</th>\n    </tr>\n  </thead>\n  <tbody>\n    <tr>\n      <th>6</th>\n      <td>B001 (Heibiao) Imputed</td>\n      <td>G</td>\n      <td>A</td>\n      <td>G</td>\n      <td>A</td>\n      <td>G</td>\n      <td>C</td>\n      <td>C</td>\n      <td>A</td>\n      <td>T</td>\n      <td>...</td>\n      <td>A</td>\n      <td>A</td>\n      <td>C</td>\n      <td>C</td>\n      <td>A</td>\n      <td>A</td>\n      <td>C</td>\n      <td>C</td>\n      <td>T</td>\n      <td>T</td>\n    </tr>\n    <tr>\n      <th>7</th>\n      <td>B002 (Sansuijin) Imputed</td>\n      <td>G</td>\n      <td>A</td>\n      <td>A</td>\n      <td>A</td>\n      <td>G</td>\n      <td>C</td>\n      <td>C</td>\n      <td>A</td>\n      <td>T</td>\n      <td>...</td>\n      <td>T</td>\n      <td>G</td>\n      <td>T</td>\n      <td>T</td>\n      <td>A</td>\n      <td>A</td>\n      <td>C</td>\n      <td>C</td>\n      <td>T</td>\n      <td>T</td>\n    </tr>\n    <tr>\n      <th>8</th>\n      <td>B003 (Zaoshengbai__) Imputed</td>\n      <td>G</td>\n      <td>A</td>\n      <td>A</td>\n      <td>G</td>\n      <td>G</td>\n      <td>C</td>\n      <td>C</td>\n      <td>A</td>\n      <td>T</td>\n      <td>...</td>\n      <td>T</td>\n      <td>A</td>\n      <td>C</td>\n      <td>C</td>\n      <td>A</td>\n      <td>A</td>\n      <td>C</td>\n      <td>C</td>\n      <td>T</td>\n      <td>T</td>\n    </tr>\n    <tr>\n      <th>9</th>\n      <td>B004 (Qiuguangtengxi_104_) Imputed</td>\n      <td>G</td>\n      <td>A</td>\n      <td>A</td>\n      <td>A</td>\n      <td>G</td>\n      <td>C</td>\n      <td>C</td>\n      <td>A</td>\n      <td>T</td>\n      <td>...</td>\n      <td>T</td>\n      <td>A</td>\n      <td>C</td>\n      <td>C</td>\n      <td>A</td>\n      <td>A</td>\n      <td>C</td>\n      <td>C</td>\n      <td>T</td>\n      <td>T</td>\n    </tr>\n    <tr>\n      <th>10</th>\n      <td>B005 (Wanshi) Imputed</td>\n      <td>G</td>\n      <td>A</td>\n      <td>A</td>\n      <td>A</td>\n      <td>G</td>\n      <td>C</td>\n      <td>C</td>\n      <td>A</td>\n      <td>T</td>\n      <td>...</td>\n      <td>A</td>\n      <td>A</td>\n      <td>C</td>\n      <td>C</td>\n      <td>A</td>\n      <td>A</td>\n      <td>C</td>\n      <td>C</td>\n      <td>C</td>\n      <td>T</td>\n    </tr>\n    <tr>\n      <th>...</th>\n      <td>...</td>\n      <td>...</td>\n      <td>...</td>\n      <td>...</td>\n      <td>...</td>\n      <td>...</td>\n      <td>...</td>\n      <td>...</td>\n      <td>...</td>\n      <td>...</td>\n      <td>...</td>\n      <td>...</td>\n      <td>...</td>\n      <td>...</td>\n      <td>...</td>\n      <td>...</td>\n      <td>...</td>\n      <td>...</td>\n      <td>...</td>\n      <td>...</td>\n      <td>...</td>\n    </tr>\n    <tr>\n      <th>4727</th>\n      <td>W326 (Haolvguangnian) Imputed</td>\n      <td>G</td>\n      <td>A</td>\n      <td>G</td>\n      <td>A</td>\n      <td>G</td>\n      <td>C</td>\n      <td>C</td>\n      <td>A</td>\n      <td>T</td>\n      <td>...</td>\n      <td>T</td>\n      <td>A</td>\n      <td>C</td>\n      <td>C</td>\n      <td>A</td>\n      <td>A</td>\n      <td>C</td>\n      <td>C</td>\n      <td>T</td>\n      <td>C</td>\n    </tr>\n    <tr>\n      <th>4728</th>\n      <td>W327 (JinghuB) Imputed</td>\n      <td>G</td>\n      <td>A</td>\n      <td>A</td>\n      <td>A</td>\n      <td>G</td>\n      <td>C</td>\n      <td>C</td>\n      <td>A</td>\n      <td>T</td>\n      <td>...</td>\n      <td>T</td>\n      <td>G</td>\n      <td>T</td>\n      <td>T</td>\n      <td>A</td>\n      <td>A</td>\n      <td>C</td>\n      <td>C</td>\n      <td>T</td>\n      <td>C</td>\n    </tr>\n    <tr>\n      <th>4729</th>\n      <td>W328 (Sibeitichao6) Imputed</td>\n      <td>G</td>\n      <td>A</td>\n      <td>A</td>\n      <td>A</td>\n      <td>G</td>\n      <td>C</td>\n      <td>C</td>\n      <td>A</td>\n      <td>T</td>\n      <td>...</td>\n      <td>T</td>\n      <td>A</td>\n      <td>C</td>\n      <td>C</td>\n      <td>A</td>\n      <td>C</td>\n      <td>C</td>\n      <td>C</td>\n      <td>T</td>\n      <td>T</td>\n    </tr>\n    <tr>\n      <th>4730</th>\n      <td>W329 (GPNO_5055) Imputed</td>\n      <td>A</td>\n      <td>G</td>\n      <td>G</td>\n      <td>G</td>\n      <td>G</td>\n      <td>C</td>\n      <td>C</td>\n      <td>A</td>\n      <td>T</td>\n      <td>...</td>\n      <td>T</td>\n      <td>G</td>\n      <td>C</td>\n      <td>C</td>\n      <td>A</td>\n      <td>A</td>\n      <td>C</td>\n      <td>T</td>\n      <td>T</td>\n      <td>C</td>\n    </tr>\n    <tr>\n      <th>4731</th>\n      <td>W330 (ASWINA_330) Imputed</td>\n      <td>G</td>\n      <td>G</td>\n      <td>G</td>\n      <td>G</td>\n      <td>G</td>\n      <td>C</td>\n      <td>C</td>\n      <td>A</td>\n      <td>C</td>\n      <td>...</td>\n      <td>T</td>\n      <td>G</td>\n      <td>T</td>\n      <td>C</td>\n      <td>T</td>\n      <td>C</td>\n      <td>C</td>\n      <td>C</td>\n      <td>C</td>\n      <td>C</td>\n    </tr>\n  </tbody>\n</table>\n<p>4726 rows × 25 columns</p>\n</div>"
     },
     "execution_count": 11,
     "metadata": {},
     "output_type": "execute_result"
    }
   ],
   "source": [
    "# replacing genotype for each column with their primary allele\n",
    "\n",
    "for i in range(1, genotype.shape[1]):\n",
    "    primaryAllele = genotypeHeader.iloc[primaryAlleleRow, i]\n",
    "    secondaryAllele = genotypeHeader.iloc[secondaryAlleleRow, i]\n",
    "    col = genotype.iloc[:, i]\n",
    "    col.replace(\"DEL\", secondaryAllele, inplace=True)\n",
    "    col.replace(\"N\", primaryAllele, inplace=True)\n",
    "\n",
    "genotype"
   ],
   "metadata": {
    "collapsed": false,
    "ExecuteTime": {
     "end_time": "2023-05-13T16:47:58.548581Z",
     "start_time": "2023-05-13T16:47:58.533803Z"
    }
   }
  },
  {
   "cell_type": "code",
   "execution_count": 12,
   "outputs": [
    {
     "data": {
      "text/plain": "     Cultivar ID vg0112116426 vg0128525986 vg0130976864 vg0131664768  \\\n6           B001            G            A            G            A   \n7           B002            G            A            A            A   \n8           B003            G            A            A            G   \n9           B004            G            A            A            A   \n10          B005            G            A            A            A   \n...          ...          ...          ...          ...          ...   \n4727        W326            G            A            G            A   \n4728        W327            G            A            A            A   \n4729        W328            G            A            A            A   \n4730        W329            A            G            G            G   \n4731        W330            G            G            G            G   \n\n     vg0133440209 vg0135617816 vg0135642980 vg0138418739 vg0138428840  ...  \\\n6               G            C            C            A            T  ...   \n7               G            C            C            A            T  ...   \n8               G            C            C            A            T  ...   \n9               G            C            C            A            T  ...   \n10              G            C            C            A            T  ...   \n...           ...          ...          ...          ...          ...  ...   \n4727            G            C            C            A            T  ...   \n4728            G            C            C            A            T  ...   \n4729            G            C            C            A            T  ...   \n4730            G            C            C            A            T  ...   \n4731            G            C            C            A            C  ...   \n\n     vg0713178880 vg0719727299 vg0719727339 vg0719834473 vg0819793460  \\\n6               A            A            C            C            A   \n7               T            G            T            T            A   \n8               T            A            C            C            A   \n9               T            A            C            C            A   \n10              A            A            C            C            A   \n...           ...          ...          ...          ...          ...   \n4727            T            A            C            C            A   \n4728            T            G            T            T            A   \n4729            T            A            C            C            A   \n4730            T            G            C            C            A   \n4731            T            G            T            C            T   \n\n     vg0904094998 vg0904282939 vg1019044175 vg1123563633 vg1207667840  \n6               A            C            C            T            T  \n7               A            C            C            T            T  \n8               A            C            C            T            T  \n9               A            C            C            T            T  \n10              A            C            C            C            T  \n...           ...          ...          ...          ...          ...  \n4727            A            C            C            T            C  \n4728            A            C            C            T            C  \n4729            C            C            C            T            T  \n4730            A            C            T            T            C  \n4731            C            C            C            C            C  \n\n[4726 rows x 25 columns]",
      "text/html": "<div>\n<style scoped>\n    .dataframe tbody tr th:only-of-type {\n        vertical-align: middle;\n    }\n\n    .dataframe tbody tr th {\n        vertical-align: top;\n    }\n\n    .dataframe thead th {\n        text-align: right;\n    }\n</style>\n<table border=\"1\" class=\"dataframe\">\n  <thead>\n    <tr style=\"text-align: right;\">\n      <th></th>\n      <th>Cultivar ID</th>\n      <th>vg0112116426</th>\n      <th>vg0128525986</th>\n      <th>vg0130976864</th>\n      <th>vg0131664768</th>\n      <th>vg0133440209</th>\n      <th>vg0135617816</th>\n      <th>vg0135642980</th>\n      <th>vg0138418739</th>\n      <th>vg0138428840</th>\n      <th>...</th>\n      <th>vg0713178880</th>\n      <th>vg0719727299</th>\n      <th>vg0719727339</th>\n      <th>vg0719834473</th>\n      <th>vg0819793460</th>\n      <th>vg0904094998</th>\n      <th>vg0904282939</th>\n      <th>vg1019044175</th>\n      <th>vg1123563633</th>\n      <th>vg1207667840</th>\n    </tr>\n  </thead>\n  <tbody>\n    <tr>\n      <th>6</th>\n      <td>B001</td>\n      <td>G</td>\n      <td>A</td>\n      <td>G</td>\n      <td>A</td>\n      <td>G</td>\n      <td>C</td>\n      <td>C</td>\n      <td>A</td>\n      <td>T</td>\n      <td>...</td>\n      <td>A</td>\n      <td>A</td>\n      <td>C</td>\n      <td>C</td>\n      <td>A</td>\n      <td>A</td>\n      <td>C</td>\n      <td>C</td>\n      <td>T</td>\n      <td>T</td>\n    </tr>\n    <tr>\n      <th>7</th>\n      <td>B002</td>\n      <td>G</td>\n      <td>A</td>\n      <td>A</td>\n      <td>A</td>\n      <td>G</td>\n      <td>C</td>\n      <td>C</td>\n      <td>A</td>\n      <td>T</td>\n      <td>...</td>\n      <td>T</td>\n      <td>G</td>\n      <td>T</td>\n      <td>T</td>\n      <td>A</td>\n      <td>A</td>\n      <td>C</td>\n      <td>C</td>\n      <td>T</td>\n      <td>T</td>\n    </tr>\n    <tr>\n      <th>8</th>\n      <td>B003</td>\n      <td>G</td>\n      <td>A</td>\n      <td>A</td>\n      <td>G</td>\n      <td>G</td>\n      <td>C</td>\n      <td>C</td>\n      <td>A</td>\n      <td>T</td>\n      <td>...</td>\n      <td>T</td>\n      <td>A</td>\n      <td>C</td>\n      <td>C</td>\n      <td>A</td>\n      <td>A</td>\n      <td>C</td>\n      <td>C</td>\n      <td>T</td>\n      <td>T</td>\n    </tr>\n    <tr>\n      <th>9</th>\n      <td>B004</td>\n      <td>G</td>\n      <td>A</td>\n      <td>A</td>\n      <td>A</td>\n      <td>G</td>\n      <td>C</td>\n      <td>C</td>\n      <td>A</td>\n      <td>T</td>\n      <td>...</td>\n      <td>T</td>\n      <td>A</td>\n      <td>C</td>\n      <td>C</td>\n      <td>A</td>\n      <td>A</td>\n      <td>C</td>\n      <td>C</td>\n      <td>T</td>\n      <td>T</td>\n    </tr>\n    <tr>\n      <th>10</th>\n      <td>B005</td>\n      <td>G</td>\n      <td>A</td>\n      <td>A</td>\n      <td>A</td>\n      <td>G</td>\n      <td>C</td>\n      <td>C</td>\n      <td>A</td>\n      <td>T</td>\n      <td>...</td>\n      <td>A</td>\n      <td>A</td>\n      <td>C</td>\n      <td>C</td>\n      <td>A</td>\n      <td>A</td>\n      <td>C</td>\n      <td>C</td>\n      <td>C</td>\n      <td>T</td>\n    </tr>\n    <tr>\n      <th>...</th>\n      <td>...</td>\n      <td>...</td>\n      <td>...</td>\n      <td>...</td>\n      <td>...</td>\n      <td>...</td>\n      <td>...</td>\n      <td>...</td>\n      <td>...</td>\n      <td>...</td>\n      <td>...</td>\n      <td>...</td>\n      <td>...</td>\n      <td>...</td>\n      <td>...</td>\n      <td>...</td>\n      <td>...</td>\n      <td>...</td>\n      <td>...</td>\n      <td>...</td>\n      <td>...</td>\n    </tr>\n    <tr>\n      <th>4727</th>\n      <td>W326</td>\n      <td>G</td>\n      <td>A</td>\n      <td>G</td>\n      <td>A</td>\n      <td>G</td>\n      <td>C</td>\n      <td>C</td>\n      <td>A</td>\n      <td>T</td>\n      <td>...</td>\n      <td>T</td>\n      <td>A</td>\n      <td>C</td>\n      <td>C</td>\n      <td>A</td>\n      <td>A</td>\n      <td>C</td>\n      <td>C</td>\n      <td>T</td>\n      <td>C</td>\n    </tr>\n    <tr>\n      <th>4728</th>\n      <td>W327</td>\n      <td>G</td>\n      <td>A</td>\n      <td>A</td>\n      <td>A</td>\n      <td>G</td>\n      <td>C</td>\n      <td>C</td>\n      <td>A</td>\n      <td>T</td>\n      <td>...</td>\n      <td>T</td>\n      <td>G</td>\n      <td>T</td>\n      <td>T</td>\n      <td>A</td>\n      <td>A</td>\n      <td>C</td>\n      <td>C</td>\n      <td>T</td>\n      <td>C</td>\n    </tr>\n    <tr>\n      <th>4729</th>\n      <td>W328</td>\n      <td>G</td>\n      <td>A</td>\n      <td>A</td>\n      <td>A</td>\n      <td>G</td>\n      <td>C</td>\n      <td>C</td>\n      <td>A</td>\n      <td>T</td>\n      <td>...</td>\n      <td>T</td>\n      <td>A</td>\n      <td>C</td>\n      <td>C</td>\n      <td>A</td>\n      <td>C</td>\n      <td>C</td>\n      <td>C</td>\n      <td>T</td>\n      <td>T</td>\n    </tr>\n    <tr>\n      <th>4730</th>\n      <td>W329</td>\n      <td>A</td>\n      <td>G</td>\n      <td>G</td>\n      <td>G</td>\n      <td>G</td>\n      <td>C</td>\n      <td>C</td>\n      <td>A</td>\n      <td>T</td>\n      <td>...</td>\n      <td>T</td>\n      <td>G</td>\n      <td>C</td>\n      <td>C</td>\n      <td>A</td>\n      <td>A</td>\n      <td>C</td>\n      <td>T</td>\n      <td>T</td>\n      <td>C</td>\n    </tr>\n    <tr>\n      <th>4731</th>\n      <td>W330</td>\n      <td>G</td>\n      <td>G</td>\n      <td>G</td>\n      <td>G</td>\n      <td>G</td>\n      <td>C</td>\n      <td>C</td>\n      <td>A</td>\n      <td>C</td>\n      <td>...</td>\n      <td>T</td>\n      <td>G</td>\n      <td>T</td>\n      <td>C</td>\n      <td>T</td>\n      <td>C</td>\n      <td>C</td>\n      <td>C</td>\n      <td>C</td>\n      <td>C</td>\n    </tr>\n  </tbody>\n</table>\n<p>4726 rows × 25 columns</p>\n</div>"
     },
     "execution_count": 12,
     "metadata": {},
     "output_type": "execute_result"
    }
   ],
   "source": [
    "def extractVariantID(cultivarID):\n",
    "    return cultivarID.split(sep=\" \")[0]\n",
    "\n",
    "genotype['Cultivar ID'] = genotype['Cultivar ID'].map(extractVariantID)\n",
    "genotype"
   ],
   "metadata": {
    "collapsed": false,
    "ExecuteTime": {
     "end_time": "2023-05-13T16:48:01.125544Z",
     "start_time": "2023-05-13T16:48:01.065287Z"
    }
   }
  },
  {
   "cell_type": "code",
   "execution_count": 13,
   "outputs": [],
   "source": [
    "mapping = pd.merge(genotype, heights.iloc[:, 1:4], on='Cultivar ID' )"
   ],
   "metadata": {
    "collapsed": false,
    "ExecuteTime": {
     "end_time": "2023-05-13T16:48:02.094565Z",
     "start_time": "2023-05-13T16:48:02.082108Z"
    }
   }
  },
  {
   "cell_type": "code",
   "execution_count": 14,
   "outputs": [
    {
     "data": {
      "text/plain": "    Cultivar ID vg0112116426 vg0128525986 vg0130976864 vg0131664768  \\\n0          C001            G            G            G            A   \n1          C002            G            G            G            G   \n2          C003            G            A            G            A   \n3          C004            G            A            G            G   \n4          C005            A            G            G            G   \n..          ...          ...          ...          ...          ...   \n524        W326            G            A            G            A   \n525        W327            G            A            A            A   \n526        W328            G            A            A            A   \n527        W329            A            G            G            G   \n528        W330            G            G            G            G   \n\n    vg0133440209 vg0135617816 vg0135642980 vg0138418739 vg0138428840  ...  \\\n0              G            C            C            A            T  ...   \n1              G            C            C            A            C  ...   \n2              G            C            C            A            T  ...   \n3              G            C            C            A            T  ...   \n4              G            C            C            A            T  ...   \n..           ...          ...          ...          ...          ...  ...   \n524            G            C            C            A            T  ...   \n525            G            C            C            A            T  ...   \n526            G            C            C            A            T  ...   \n527            G            C            C            A            T  ...   \n528            G            C            C            A            C  ...   \n\n    vg0719727339 vg0719834473 vg0819793460 vg0904094998 vg0904282939  \\\n0              T            T            T            C            C   \n1              C            C            T            C            C   \n2              C            C            A            A            C   \n3              C            T            A            C            T   \n4              C            C            A            A            C   \n..           ...          ...          ...          ...          ...   \n524            C            C            A            A            C   \n525            T            T            A            A            C   \n526            C            C            A            C            C   \n527            C            C            A            A            C   \n528            T            C            T            C            C   \n\n    vg1019044175 vg1123563633 vg1207667840          Subpopulation  \\\n0              C            C            C               Indica I   \n1              C            C            C            VI/Aromatic   \n2              C            T            T  Japonica Intermediate   \n3              C            T            C     Temperate Japonica   \n4              T            T            C      Tropical Japonica   \n..           ...          ...          ...                    ...   \n524            C            T            C  Japonica Intermediate   \n525            C            T            C     Temperate Japonica   \n526            C            T            T           Intermediate   \n527            T            T            C      Tropical Japonica   \n528            C            C            C                    Aus   \n\n    Plant Height (cm)  \n0              144.13  \n1              177.62  \n2              141.57  \n3              140.40  \n4              163.33  \n..                ...  \n524            155.40  \n525             89.80  \n526            117.40  \n527            147.40  \n528            149.60  \n\n[529 rows x 27 columns]",
      "text/html": "<div>\n<style scoped>\n    .dataframe tbody tr th:only-of-type {\n        vertical-align: middle;\n    }\n\n    .dataframe tbody tr th {\n        vertical-align: top;\n    }\n\n    .dataframe thead th {\n        text-align: right;\n    }\n</style>\n<table border=\"1\" class=\"dataframe\">\n  <thead>\n    <tr style=\"text-align: right;\">\n      <th></th>\n      <th>Cultivar ID</th>\n      <th>vg0112116426</th>\n      <th>vg0128525986</th>\n      <th>vg0130976864</th>\n      <th>vg0131664768</th>\n      <th>vg0133440209</th>\n      <th>vg0135617816</th>\n      <th>vg0135642980</th>\n      <th>vg0138418739</th>\n      <th>vg0138428840</th>\n      <th>...</th>\n      <th>vg0719727339</th>\n      <th>vg0719834473</th>\n      <th>vg0819793460</th>\n      <th>vg0904094998</th>\n      <th>vg0904282939</th>\n      <th>vg1019044175</th>\n      <th>vg1123563633</th>\n      <th>vg1207667840</th>\n      <th>Subpopulation</th>\n      <th>Plant Height (cm)</th>\n    </tr>\n  </thead>\n  <tbody>\n    <tr>\n      <th>0</th>\n      <td>C001</td>\n      <td>G</td>\n      <td>G</td>\n      <td>G</td>\n      <td>A</td>\n      <td>G</td>\n      <td>C</td>\n      <td>C</td>\n      <td>A</td>\n      <td>T</td>\n      <td>...</td>\n      <td>T</td>\n      <td>T</td>\n      <td>T</td>\n      <td>C</td>\n      <td>C</td>\n      <td>C</td>\n      <td>C</td>\n      <td>C</td>\n      <td>Indica I</td>\n      <td>144.13</td>\n    </tr>\n    <tr>\n      <th>1</th>\n      <td>C002</td>\n      <td>G</td>\n      <td>G</td>\n      <td>G</td>\n      <td>G</td>\n      <td>G</td>\n      <td>C</td>\n      <td>C</td>\n      <td>A</td>\n      <td>C</td>\n      <td>...</td>\n      <td>C</td>\n      <td>C</td>\n      <td>T</td>\n      <td>C</td>\n      <td>C</td>\n      <td>C</td>\n      <td>C</td>\n      <td>C</td>\n      <td>VI/Aromatic</td>\n      <td>177.62</td>\n    </tr>\n    <tr>\n      <th>2</th>\n      <td>C003</td>\n      <td>G</td>\n      <td>A</td>\n      <td>G</td>\n      <td>A</td>\n      <td>G</td>\n      <td>C</td>\n      <td>C</td>\n      <td>A</td>\n      <td>T</td>\n      <td>...</td>\n      <td>C</td>\n      <td>C</td>\n      <td>A</td>\n      <td>A</td>\n      <td>C</td>\n      <td>C</td>\n      <td>T</td>\n      <td>T</td>\n      <td>Japonica Intermediate</td>\n      <td>141.57</td>\n    </tr>\n    <tr>\n      <th>3</th>\n      <td>C004</td>\n      <td>G</td>\n      <td>A</td>\n      <td>G</td>\n      <td>G</td>\n      <td>G</td>\n      <td>C</td>\n      <td>C</td>\n      <td>A</td>\n      <td>T</td>\n      <td>...</td>\n      <td>C</td>\n      <td>T</td>\n      <td>A</td>\n      <td>C</td>\n      <td>T</td>\n      <td>C</td>\n      <td>T</td>\n      <td>C</td>\n      <td>Temperate Japonica</td>\n      <td>140.40</td>\n    </tr>\n    <tr>\n      <th>4</th>\n      <td>C005</td>\n      <td>A</td>\n      <td>G</td>\n      <td>G</td>\n      <td>G</td>\n      <td>G</td>\n      <td>C</td>\n      <td>C</td>\n      <td>A</td>\n      <td>T</td>\n      <td>...</td>\n      <td>C</td>\n      <td>C</td>\n      <td>A</td>\n      <td>A</td>\n      <td>C</td>\n      <td>T</td>\n      <td>T</td>\n      <td>C</td>\n      <td>Tropical Japonica</td>\n      <td>163.33</td>\n    </tr>\n    <tr>\n      <th>...</th>\n      <td>...</td>\n      <td>...</td>\n      <td>...</td>\n      <td>...</td>\n      <td>...</td>\n      <td>...</td>\n      <td>...</td>\n      <td>...</td>\n      <td>...</td>\n      <td>...</td>\n      <td>...</td>\n      <td>...</td>\n      <td>...</td>\n      <td>...</td>\n      <td>...</td>\n      <td>...</td>\n      <td>...</td>\n      <td>...</td>\n      <td>...</td>\n      <td>...</td>\n      <td>...</td>\n    </tr>\n    <tr>\n      <th>524</th>\n      <td>W326</td>\n      <td>G</td>\n      <td>A</td>\n      <td>G</td>\n      <td>A</td>\n      <td>G</td>\n      <td>C</td>\n      <td>C</td>\n      <td>A</td>\n      <td>T</td>\n      <td>...</td>\n      <td>C</td>\n      <td>C</td>\n      <td>A</td>\n      <td>A</td>\n      <td>C</td>\n      <td>C</td>\n      <td>T</td>\n      <td>C</td>\n      <td>Japonica Intermediate</td>\n      <td>155.40</td>\n    </tr>\n    <tr>\n      <th>525</th>\n      <td>W327</td>\n      <td>G</td>\n      <td>A</td>\n      <td>A</td>\n      <td>A</td>\n      <td>G</td>\n      <td>C</td>\n      <td>C</td>\n      <td>A</td>\n      <td>T</td>\n      <td>...</td>\n      <td>T</td>\n      <td>T</td>\n      <td>A</td>\n      <td>A</td>\n      <td>C</td>\n      <td>C</td>\n      <td>T</td>\n      <td>C</td>\n      <td>Temperate Japonica</td>\n      <td>89.80</td>\n    </tr>\n    <tr>\n      <th>526</th>\n      <td>W328</td>\n      <td>G</td>\n      <td>A</td>\n      <td>A</td>\n      <td>A</td>\n      <td>G</td>\n      <td>C</td>\n      <td>C</td>\n      <td>A</td>\n      <td>T</td>\n      <td>...</td>\n      <td>C</td>\n      <td>C</td>\n      <td>A</td>\n      <td>C</td>\n      <td>C</td>\n      <td>C</td>\n      <td>T</td>\n      <td>T</td>\n      <td>Intermediate</td>\n      <td>117.40</td>\n    </tr>\n    <tr>\n      <th>527</th>\n      <td>W329</td>\n      <td>A</td>\n      <td>G</td>\n      <td>G</td>\n      <td>G</td>\n      <td>G</td>\n      <td>C</td>\n      <td>C</td>\n      <td>A</td>\n      <td>T</td>\n      <td>...</td>\n      <td>C</td>\n      <td>C</td>\n      <td>A</td>\n      <td>A</td>\n      <td>C</td>\n      <td>T</td>\n      <td>T</td>\n      <td>C</td>\n      <td>Tropical Japonica</td>\n      <td>147.40</td>\n    </tr>\n    <tr>\n      <th>528</th>\n      <td>W330</td>\n      <td>G</td>\n      <td>G</td>\n      <td>G</td>\n      <td>G</td>\n      <td>G</td>\n      <td>C</td>\n      <td>C</td>\n      <td>A</td>\n      <td>C</td>\n      <td>...</td>\n      <td>T</td>\n      <td>C</td>\n      <td>T</td>\n      <td>C</td>\n      <td>C</td>\n      <td>C</td>\n      <td>C</td>\n      <td>C</td>\n      <td>Aus</td>\n      <td>149.60</td>\n    </tr>\n  </tbody>\n</table>\n<p>529 rows × 27 columns</p>\n</div>"
     },
     "execution_count": 14,
     "metadata": {},
     "output_type": "execute_result"
    }
   ],
   "source": [
    "mapping"
   ],
   "metadata": {
    "collapsed": false,
    "ExecuteTime": {
     "end_time": "2023-05-13T16:48:02.734414Z",
     "start_time": "2023-05-13T16:48:02.724993Z"
    }
   }
  },
  {
   "cell_type": "code",
   "execution_count": 15,
   "outputs": [],
   "source": [
    "mapping['sequence'] = mapping.apply(lambda x: ''.join(x[1:-2]), axis=1)"
   ],
   "metadata": {
    "collapsed": false,
    "ExecuteTime": {
     "end_time": "2023-05-13T16:48:03.661841Z",
     "start_time": "2023-05-13T16:48:03.645339Z"
    }
   }
  },
  {
   "cell_type": "code",
   "execution_count": 16,
   "outputs": [
    {
     "data": {
      "text/plain": "    Cultivar ID vg0112116426 vg0128525986 vg0130976864 vg0131664768  \\\n0          C001            G            G            G            A   \n1          C002            G            G            G            G   \n2          C003            G            A            G            A   \n3          C004            G            A            G            G   \n4          C005            A            G            G            G   \n..          ...          ...          ...          ...          ...   \n524        W326            G            A            G            A   \n525        W327            G            A            A            A   \n526        W328            G            A            A            A   \n527        W329            A            G            G            G   \n528        W330            G            G            G            G   \n\n    vg0133440209 vg0135617816 vg0135642980 vg0138418739 vg0138428840  ...  \\\n0              G            C            C            A            T  ...   \n1              G            C            C            A            C  ...   \n2              G            C            C            A            T  ...   \n3              G            C            C            A            T  ...   \n4              G            C            C            A            T  ...   \n..           ...          ...          ...          ...          ...  ...   \n524            G            C            C            A            T  ...   \n525            G            C            C            A            T  ...   \n526            G            C            C            A            T  ...   \n527            G            C            C            A            T  ...   \n528            G            C            C            A            C  ...   \n\n    vg0719834473 vg0819793460 vg0904094998 vg0904282939 vg1019044175  \\\n0              T            T            C            C            C   \n1              C            T            C            C            C   \n2              C            A            A            C            C   \n3              T            A            C            T            C   \n4              C            A            A            C            T   \n..           ...          ...          ...          ...          ...   \n524            C            A            A            C            C   \n525            T            A            A            C            C   \n526            C            A            C            C            C   \n527            C            A            A            C            T   \n528            C            T            C            C            C   \n\n    vg1123563633 vg1207667840          Subpopulation Plant Height (cm)  \\\n0              C            C               Indica I            144.13   \n1              C            C            VI/Aromatic            177.62   \n2              T            T  Japonica Intermediate            141.57   \n3              T            C     Temperate Japonica            140.40   \n4              T            C      Tropical Japonica            163.33   \n..           ...          ...                    ...               ...   \n524            T            C  Japonica Intermediate            155.40   \n525            T            C     Temperate Japonica             89.80   \n526            T            T           Intermediate            117.40   \n527            T            C      Tropical Japonica            147.40   \n528            C            C                    Aus            149.60   \n\n                     sequence  \n0    GGGAGCCATCGTAATGTTTCCCCC  \n1    GGGGGCCACCGTAATGCCTCCCCC  \n2    GAGAGCCATAGGAGTGCCAACCTT  \n3    GAGGGCCATAGGAGAACTACTCTC  \n4    AGGGGCCATAGTAAAGCCAACTTC  \n..                        ...  \n524  GAGAGCCATAGGTGTACCAACCTC  \n525  GAAAGCCATAGGTGTGTTAACCTC  \n526  GAAAGCCATAGGTATACCACCCTT  \n527  AGGGGCCATAGGTATGCCAACTTC  \n528  GGGGGCCACCGTAATGTCTCCCCC  \n\n[529 rows x 28 columns]",
      "text/html": "<div>\n<style scoped>\n    .dataframe tbody tr th:only-of-type {\n        vertical-align: middle;\n    }\n\n    .dataframe tbody tr th {\n        vertical-align: top;\n    }\n\n    .dataframe thead th {\n        text-align: right;\n    }\n</style>\n<table border=\"1\" class=\"dataframe\">\n  <thead>\n    <tr style=\"text-align: right;\">\n      <th></th>\n      <th>Cultivar ID</th>\n      <th>vg0112116426</th>\n      <th>vg0128525986</th>\n      <th>vg0130976864</th>\n      <th>vg0131664768</th>\n      <th>vg0133440209</th>\n      <th>vg0135617816</th>\n      <th>vg0135642980</th>\n      <th>vg0138418739</th>\n      <th>vg0138428840</th>\n      <th>...</th>\n      <th>vg0719834473</th>\n      <th>vg0819793460</th>\n      <th>vg0904094998</th>\n      <th>vg0904282939</th>\n      <th>vg1019044175</th>\n      <th>vg1123563633</th>\n      <th>vg1207667840</th>\n      <th>Subpopulation</th>\n      <th>Plant Height (cm)</th>\n      <th>sequence</th>\n    </tr>\n  </thead>\n  <tbody>\n    <tr>\n      <th>0</th>\n      <td>C001</td>\n      <td>G</td>\n      <td>G</td>\n      <td>G</td>\n      <td>A</td>\n      <td>G</td>\n      <td>C</td>\n      <td>C</td>\n      <td>A</td>\n      <td>T</td>\n      <td>...</td>\n      <td>T</td>\n      <td>T</td>\n      <td>C</td>\n      <td>C</td>\n      <td>C</td>\n      <td>C</td>\n      <td>C</td>\n      <td>Indica I</td>\n      <td>144.13</td>\n      <td>GGGAGCCATCGTAATGTTTCCCCC</td>\n    </tr>\n    <tr>\n      <th>1</th>\n      <td>C002</td>\n      <td>G</td>\n      <td>G</td>\n      <td>G</td>\n      <td>G</td>\n      <td>G</td>\n      <td>C</td>\n      <td>C</td>\n      <td>A</td>\n      <td>C</td>\n      <td>...</td>\n      <td>C</td>\n      <td>T</td>\n      <td>C</td>\n      <td>C</td>\n      <td>C</td>\n      <td>C</td>\n      <td>C</td>\n      <td>VI/Aromatic</td>\n      <td>177.62</td>\n      <td>GGGGGCCACCGTAATGCCTCCCCC</td>\n    </tr>\n    <tr>\n      <th>2</th>\n      <td>C003</td>\n      <td>G</td>\n      <td>A</td>\n      <td>G</td>\n      <td>A</td>\n      <td>G</td>\n      <td>C</td>\n      <td>C</td>\n      <td>A</td>\n      <td>T</td>\n      <td>...</td>\n      <td>C</td>\n      <td>A</td>\n      <td>A</td>\n      <td>C</td>\n      <td>C</td>\n      <td>T</td>\n      <td>T</td>\n      <td>Japonica Intermediate</td>\n      <td>141.57</td>\n      <td>GAGAGCCATAGGAGTGCCAACCTT</td>\n    </tr>\n    <tr>\n      <th>3</th>\n      <td>C004</td>\n      <td>G</td>\n      <td>A</td>\n      <td>G</td>\n      <td>G</td>\n      <td>G</td>\n      <td>C</td>\n      <td>C</td>\n      <td>A</td>\n      <td>T</td>\n      <td>...</td>\n      <td>T</td>\n      <td>A</td>\n      <td>C</td>\n      <td>T</td>\n      <td>C</td>\n      <td>T</td>\n      <td>C</td>\n      <td>Temperate Japonica</td>\n      <td>140.40</td>\n      <td>GAGGGCCATAGGAGAACTACTCTC</td>\n    </tr>\n    <tr>\n      <th>4</th>\n      <td>C005</td>\n      <td>A</td>\n      <td>G</td>\n      <td>G</td>\n      <td>G</td>\n      <td>G</td>\n      <td>C</td>\n      <td>C</td>\n      <td>A</td>\n      <td>T</td>\n      <td>...</td>\n      <td>C</td>\n      <td>A</td>\n      <td>A</td>\n      <td>C</td>\n      <td>T</td>\n      <td>T</td>\n      <td>C</td>\n      <td>Tropical Japonica</td>\n      <td>163.33</td>\n      <td>AGGGGCCATAGTAAAGCCAACTTC</td>\n    </tr>\n    <tr>\n      <th>...</th>\n      <td>...</td>\n      <td>...</td>\n      <td>...</td>\n      <td>...</td>\n      <td>...</td>\n      <td>...</td>\n      <td>...</td>\n      <td>...</td>\n      <td>...</td>\n      <td>...</td>\n      <td>...</td>\n      <td>...</td>\n      <td>...</td>\n      <td>...</td>\n      <td>...</td>\n      <td>...</td>\n      <td>...</td>\n      <td>...</td>\n      <td>...</td>\n      <td>...</td>\n      <td>...</td>\n    </tr>\n    <tr>\n      <th>524</th>\n      <td>W326</td>\n      <td>G</td>\n      <td>A</td>\n      <td>G</td>\n      <td>A</td>\n      <td>G</td>\n      <td>C</td>\n      <td>C</td>\n      <td>A</td>\n      <td>T</td>\n      <td>...</td>\n      <td>C</td>\n      <td>A</td>\n      <td>A</td>\n      <td>C</td>\n      <td>C</td>\n      <td>T</td>\n      <td>C</td>\n      <td>Japonica Intermediate</td>\n      <td>155.40</td>\n      <td>GAGAGCCATAGGTGTACCAACCTC</td>\n    </tr>\n    <tr>\n      <th>525</th>\n      <td>W327</td>\n      <td>G</td>\n      <td>A</td>\n      <td>A</td>\n      <td>A</td>\n      <td>G</td>\n      <td>C</td>\n      <td>C</td>\n      <td>A</td>\n      <td>T</td>\n      <td>...</td>\n      <td>T</td>\n      <td>A</td>\n      <td>A</td>\n      <td>C</td>\n      <td>C</td>\n      <td>T</td>\n      <td>C</td>\n      <td>Temperate Japonica</td>\n      <td>89.80</td>\n      <td>GAAAGCCATAGGTGTGTTAACCTC</td>\n    </tr>\n    <tr>\n      <th>526</th>\n      <td>W328</td>\n      <td>G</td>\n      <td>A</td>\n      <td>A</td>\n      <td>A</td>\n      <td>G</td>\n      <td>C</td>\n      <td>C</td>\n      <td>A</td>\n      <td>T</td>\n      <td>...</td>\n      <td>C</td>\n      <td>A</td>\n      <td>C</td>\n      <td>C</td>\n      <td>C</td>\n      <td>T</td>\n      <td>T</td>\n      <td>Intermediate</td>\n      <td>117.40</td>\n      <td>GAAAGCCATAGGTATACCACCCTT</td>\n    </tr>\n    <tr>\n      <th>527</th>\n      <td>W329</td>\n      <td>A</td>\n      <td>G</td>\n      <td>G</td>\n      <td>G</td>\n      <td>G</td>\n      <td>C</td>\n      <td>C</td>\n      <td>A</td>\n      <td>T</td>\n      <td>...</td>\n      <td>C</td>\n      <td>A</td>\n      <td>A</td>\n      <td>C</td>\n      <td>T</td>\n      <td>T</td>\n      <td>C</td>\n      <td>Tropical Japonica</td>\n      <td>147.40</td>\n      <td>AGGGGCCATAGGTATGCCAACTTC</td>\n    </tr>\n    <tr>\n      <th>528</th>\n      <td>W330</td>\n      <td>G</td>\n      <td>G</td>\n      <td>G</td>\n      <td>G</td>\n      <td>G</td>\n      <td>C</td>\n      <td>C</td>\n      <td>A</td>\n      <td>C</td>\n      <td>...</td>\n      <td>C</td>\n      <td>T</td>\n      <td>C</td>\n      <td>C</td>\n      <td>C</td>\n      <td>C</td>\n      <td>C</td>\n      <td>Aus</td>\n      <td>149.60</td>\n      <td>GGGGGCCACCGTAATGTCTCCCCC</td>\n    </tr>\n  </tbody>\n</table>\n<p>529 rows × 28 columns</p>\n</div>"
     },
     "execution_count": 16,
     "metadata": {},
     "output_type": "execute_result"
    }
   ],
   "source": [
    "mapping"
   ],
   "metadata": {
    "collapsed": false,
    "ExecuteTime": {
     "end_time": "2023-05-13T16:48:04.232858Z",
     "start_time": "2023-05-13T16:48:04.212419Z"
    }
   }
  },
  {
   "cell_type": "code",
   "execution_count": 17,
   "outputs": [
    {
     "data": {
      "text/plain": "317"
     },
     "execution_count": 17,
     "metadata": {},
     "output_type": "execute_result"
    }
   ],
   "source": [
    "len(mapping['sequence'].unique())"
   ],
   "metadata": {
    "collapsed": false,
    "ExecuteTime": {
     "end_time": "2023-05-13T16:48:05.385961Z",
     "start_time": "2023-05-13T16:48:05.382234Z"
    }
   }
  },
  {
   "cell_type": "code",
   "execution_count": 18,
   "outputs": [],
   "source": [
    "mapping.to_csv('mapping_24.csv', index=False)"
   ],
   "metadata": {
    "collapsed": false,
    "ExecuteTime": {
     "end_time": "2023-05-13T16:48:05.834983Z",
     "start_time": "2023-05-13T16:48:05.819214Z"
    }
   }
  },
  {
   "cell_type": "code",
   "execution_count": 19,
   "outputs": [],
   "source": [
    "mapping_dropped = mapping.drop(\"vg0128525986\", axis=1).drop(\"vg0131664768\", axis=1)"
   ],
   "metadata": {
    "collapsed": false,
    "ExecuteTime": {
     "end_time": "2023-05-13T16:48:06.757414Z",
     "start_time": "2023-05-13T16:48:06.747567Z"
    }
   }
  },
  {
   "cell_type": "code",
   "execution_count": 20,
   "outputs": [],
   "source": [
    "mapping_dropped['sequence'] = mapping_dropped.apply(lambda x: ''.join(x[1:-3]), axis=1)"
   ],
   "metadata": {
    "collapsed": false,
    "ExecuteTime": {
     "end_time": "2023-05-13T16:48:07.764559Z",
     "start_time": "2023-05-13T16:48:07.758313Z"
    }
   }
  },
  {
   "cell_type": "code",
   "execution_count": 21,
   "outputs": [],
   "source": [
    "mapping_dropped.to_csv('mapping_22.csv', index=False)"
   ],
   "metadata": {
    "collapsed": false,
    "ExecuteTime": {
     "end_time": "2023-05-13T16:48:08.356398Z",
     "start_time": "2023-05-13T16:48:08.349453Z"
    }
   }
  },
  {
   "cell_type": "code",
   "execution_count": 22,
   "outputs": [
    {
     "data": {
      "text/plain": "{'C001': 'GGGAGCCATCGTAATGTTTCCCCC',\n 'C002': 'GGGGGCCACCGTAATGCCTCCCCC',\n 'C003': 'GAGAGCCATAGGAGTGCCAACCTT',\n 'C004': 'GAGGGCCATAGGAGAACTACTCTC',\n 'C005': 'AGGGGCCATAGTAAAGCCAACTTC',\n 'C006': 'GGGAGCGGTATTAATGTTACCTTT',\n 'C007': 'GGGAGCGGTATTAATGTTACCTTT',\n 'C008': 'GGGGGCGGTATGTATGTTACCTTC',\n 'C009': 'GGGAGCCGTATGAATGTTACCTTT',\n 'C010': 'GAGGGCCGTATGTATGCCAACCTT',\n 'C011': 'GGGAGCGGTATGTATGTTACCTTT',\n 'C012': 'GAAAGCCATAGGTGAGTTAACCTT',\n 'C013': 'GGGGGCCACCGTAATGTCTCCCTC',\n 'C014': 'GAAAGCGGTATGTGTACCAACTTT',\n 'C015': 'GGGGGCCACAGTAATGTCTCCCCC',\n 'C016': 'GAGAGCCATAGGTGTACCAACCCT',\n 'C017': 'GAAGGCCATAGGTGTACCAACCTT',\n 'C018': 'GAAAGCCATAGGTGTACCAACCTT',\n 'C019': 'GGGAGCGGTATTAATGTTACCTTT',\n 'C020': 'GGGAGCGGTAGTAATGTTACCTCT',\n 'C021': 'GGGAGCGGTATTAATGCTACCTCT',\n 'C022': 'GGGAGCGATCGGTATGTTACCTTT',\n 'C023': 'GAGGGCCATAGGTGTACCAACCTT',\n 'C024': 'GGAAGCGATCGTAATGTTAACTCT',\n 'C025': 'GGGGGCGGTATGTATGTTACCTTT',\n 'C026': 'GAAAGCCATAGGTGTACCAACCTT',\n 'C027': 'GGGAGCGGTATGAATGTTACCTTC',\n 'C028': 'GAAAGCCATAGGTGTACCAACCTT',\n 'C029': 'GGAAGCCGTATGTATACCAACCTT',\n 'C030': 'GGGAGCGGTATTAATGTTACCTTT',\n 'C031': 'GGGAGCGGTATTAATGTTACCTTT',\n 'C032': 'AAAGGCCATAGGTGTACTACTCTT',\n 'C033': 'GGGAACGATCGTAATGTTACCTCT',\n 'C034': 'GAGGGCCATAGGTGTGTTAACCTT',\n 'C035': 'AAAGGCCATAGGTGTACCAACCTT',\n 'C036': 'GGGAACGATCGTAATGTTTCCTCT',\n 'C037': 'GGGAGCGGTATTAATGTTACCTTT',\n 'C038': 'GGGGACGATCGTAGTGTTACCTTT',\n 'C039': 'GGGGGCGGTATTAATGTTACCTCT',\n 'C040': 'GGGAGCGGTATGTATGTTACCTCT',\n 'C041': 'GGGAGCGGTAGTAATGTTACCTTC',\n 'C042': 'GGGGGCGGTATGAATGTTACCTTT',\n 'C043': 'GGGAGCGGTATGAATGTTACCTTT',\n 'C044': 'GGGGGCGGTATTAATGTTACCTTT',\n 'C045': 'GGGAGCGGTATGAATGTTACCTTC',\n 'C046': 'GGGAGCGGTAGTAATGTTACCTTT',\n 'C047': 'GGGGGCCACAGTAATGTTTCCTTT',\n 'C048': 'GAAAGCCATAGGTGTGTTAACCTT',\n 'C049': 'GGGAGCGGTATGAATGCTACCTTT',\n 'C050': 'GGGAGCGGTATGTATGCTACCTTT',\n 'C051': 'GAAAGCCGTATGTGTGTTAACTTT',\n 'C052': 'GAAAGCCATAGGAGTACCAACCTC',\n 'C053': 'GGGAGCGGTATGTATGCTACCTTT',\n 'C054': 'GAGGGCCATAGGTGTGTTAACCTT',\n 'C055': 'GGGAGCGACCGTAATGTTACCTTT',\n 'C056': 'GAGAGCCATAGGTGTACCAACCCT',\n 'C057': 'GAAGGCCATAGGTGTACCAACCTT',\n 'C058': 'GGGAGCGGTATTAATGTTACCTCT',\n 'C059': 'GGGAGCGGTATTAATGTTACCTCT',\n 'C060': 'GGGAGCGATCGTAATGTTACCTCC',\n 'C061': 'GGGAGCGGTATGTATGTTACCTTT',\n 'C062': 'GGGAGCGGTATGTATGTTACCTTT',\n 'C063': 'GAAAGCCATAGGTGAACCAACCCC',\n 'C064': 'GAAAGCCATAGGTGTGTTAACCTT',\n 'C065': 'GGGAGCGGTAGGTATGTTACCTTT',\n 'C066': 'GGGGGCGATCGGTATGTTTCCTTC',\n 'C067': 'AAGAGCCATAGGAGTGTTAACCTC',\n 'C068': 'GGGAGCGGTATGAATGTTACCTTT',\n 'C069': 'GGGAGCGGTATGTATGTTACCTTT',\n 'C070': 'GAGAGCCATAGGTGAACCAACCTT',\n 'C071': 'GAGAGCCATAGGAGTGTTACTCTC',\n 'C072': 'GGGAACGATCGTAATGTTTCCTTT',\n 'C073': 'GGGAGCGACCGTAATGTTTCCTTC',\n 'C074': 'AAGGGCCATAGGAGTACCACTCTC',\n 'C075': 'AAGAGCCATAGGAGTGTTAACCTC',\n 'C076': 'GGGAGCGACCGTAATGTTACCTCC',\n 'C077': 'GGGGGCGACCGTAATGTTACCTCC',\n 'C078': 'GGGGGCCATCGTAATGTTTCCTTC',\n 'C079': 'AGGGGCCATAGGTGAGTTACTCTC',\n 'C080': 'GGGGACCACCGTAATGTTTCCTTT',\n 'C081': 'GGGAGCGACCGTAATGTTACCTCC',\n 'C082': 'AAGAGCCATAGGAGTGTTACTCTC',\n 'C083': 'GGGGGCCATAGGTGAGTTACTTCT',\n 'C084': 'GAGAGCCATAGGTATACCAACCCC',\n 'C085': 'GAGAGCCATAGGTGTACCAACCCC',\n 'C086': 'GGGGGCCACCGTAATGTCACCCTC',\n 'C087': 'GAGGGCCATAGTAGAACTAACCTT',\n 'C088': 'GGGGGCCACAGTAATGTTTACTTC',\n 'C089': 'GAGAGCCATAGGAGTGTTACTCTT',\n 'C090': 'GGGGACCACCGTAATGTTACCTTT',\n 'C091': 'GGGGGCCATCGTAATGTTACCTTC',\n 'C092': 'GGGGGCCATCGTAATGTTAACTTC',\n 'C093': 'AAGGGCCATAGGAGAGTTAACCTC',\n 'C094': 'GGGAGTCATCGGTATGTTACCTTC',\n 'C095': 'GGGGGCGACCGGTATGTTTCCTTC',\n 'C096': 'GGGGGCCACCGTAATGTTTCCTTC',\n 'C097': 'GGGGACCACCGTAATGTTTCCTTT',\n 'C098': 'GGGGGCCACCGTAATGTTACCCTC',\n 'C099': 'GGGAACCATCGGTATGTTTCCTTC',\n 'C100': 'GGGGGCCACCGTAATGTTTCCTTC',\n 'C101': 'AAGGGCCATAGGTGAGTTACTCCC',\n 'C102': 'GGGAACCACCGGTATACTACCTTT',\n 'C103': 'AGGGGCCATAGGTAAGTTACTCTC',\n 'C104': 'GGGGACCACCGTAATGTTTCCTTT',\n 'C105': 'GGGGGCCATCGTAATGTCACCTTT',\n 'C106': 'GAGAGCCATAGGTGAGTTACTCCC',\n 'C107': 'GGGAGCGGTAGTAATGTTTCCTTT',\n 'C108': 'GGGGGCCACCGTAATGTTTCCTTT',\n 'C109': 'GGGGGCGACCGTAATGTTTCCTTT',\n 'C110': 'GGGGGCCACCGTAATGTTACCTTC',\n 'C111': 'AAGGGCCATAGGAGAACCACTCCC',\n 'C112': 'GGGAGCGATCGTAATGTTACCTTT',\n 'C113': 'GGGAACGATCGTAATGTTACCTTT',\n 'C114': 'GGAAGCGATCGTAATGTTACCTCT',\n 'C115': 'GGGGGCGGTATGAATGTTAACTTT',\n 'C116': 'GAAAGCCATAGGTGTACCAACCTT',\n 'C117': 'GGGGGCGATCGTAATGTTAACTTT',\n 'C118': 'GGGAACGATCGGTATGTTACCCTT',\n 'C119': 'GAAAGCCGTATGTATGTTAACTTT',\n 'C120': 'GAAAGCCATAGGTGAACCAACCCT',\n 'C121': 'GGGAACGATAGTAATGTTTCCTCT',\n 'C122': 'GGGAGCGGTATTAATGTTACCTCT',\n 'C123': 'GGGGGCCATAGGTAAACCAACCTT',\n 'C124': 'GGGAGCGGTATTAATGTTACCCTT',\n 'C125': 'GGGGGCCACAGGTATGTTACCTTC',\n 'C127': 'GGGAGCGATCGTAATGTTACCTTC',\n 'C128': 'GGGGGCCATCGTAATGTTTCCTCC',\n 'C129': 'GGGGGCCACCGTAATGTTTCCTTC',\n 'C130': 'AAGGGCCATAGGAGAGTTAACCTC',\n 'C131': 'GGGGACCATCGTAATGTTACCTTC',\n 'C132': 'GGGGGCCACCGTAATGTTACCTTT',\n 'C133': 'AGGGGCCATAGGTGAGTTACTCTC',\n 'C134': 'GGGAGCCATAGTAGAGTTACTCCC',\n 'C135': 'GGGGGCCACAGTAATGTTTCCTTC',\n 'C136': 'GGGGACCACAGTAATGTTTCCTTC',\n 'C137': 'AGGAGCCATAGGAGAACCACTCCC',\n 'C138': 'AAGAGCCATAGGAGTACTACTCTC',\n 'C139': 'GGGAGCGATCGTAATGTCTCTCTC',\n 'C140': 'GGGGGCCACCGTAATGTTACCTTC',\n 'C141': 'GGGGGCCACAGTAATGTTTCCTTC',\n 'C142': 'GGGAGCGGTAGTAATGTTTCCTTT',\n 'C143': 'GGGGACCACCGGTATGTTACCTTC',\n 'C144': 'AGGAGCCATAGTAGAGTTACTCCC',\n 'C145': 'GGAAGCGATCGTAATGTTAACTCT',\n 'C146': 'GAAAGCCATAGGTGTACCAACCTT',\n 'C147': 'GGGAGCGGTATGTATGCTAACTTT',\n 'C148': 'GGGAGCGATCGGAATGTTACCTTT',\n 'C149': 'GAAAGCCATAGGTGAACCAACCCT',\n 'C150': 'GAAAGCCATAGGTGTACCAACCTT',\n 'C151': 'GGGAGCGGTATTAATGTTACCTTT',\n 'C152': 'GAAAGCCGTATGTGTACCAACCTT',\n 'C153': 'GAGGGCCATAGGTGAGCCAACTTT',\n 'C154': 'GAAAGCCATAGGTGTACCAACCTT',\n 'C155': 'GGGAGCGATCGTAATGTTACCTCT',\n 'C156': 'GGGAACGGTATTAATGTTACCTCT',\n 'C157': 'GGGAGCGATCGGTATGTTAACTCT',\n 'C158': 'GGGGGCGGTATTAATGTTACCTCT',\n 'C159': 'GGGAACGGTATTAATGTTACCTCT',\n 'C160': 'GGGAGCGGTATTTATGTTACCTTT',\n 'C161': 'GGGAACGGTATTAATGTTACCTCT',\n 'C162': 'GGGGGCCATCGTAGTGTTTCCTTT',\n 'C163': 'GGGGGCGATATGAATGCTACCTTT',\n 'C164': 'GGGAGCGATATGAATGTTACCTTT',\n 'C165': 'GGGAACGGTATTAATGTTACCTTT',\n 'C166': 'GGGGGCGGTATGAATGTTACCTTT',\n 'C167': 'GGGGGCGGTATTAATGTTACCTTT',\n 'C168': 'GGGAGCGGTAGGAATGTTACCTTT',\n 'C169': 'GGGAGCGGTATTAATGTTACCTTT',\n 'C170': 'GGGAGCGGTAGTAATGTTACCTTT',\n 'C171': 'AAGGGCCATAGGTGTGTTAACCTC',\n 'C172': 'GAAAGCCATAGGTGAACCAACCCT',\n 'C173': 'GGGAGCGGTATTAATGTTTCCTTC',\n 'C174': 'GGGAACGATCGGAATGTTACCTTT',\n 'C175': 'GGGAGCGATCGTAATGTTTCCTTT',\n 'C176': 'GGGGGCGGTATTAATACTACCTTC',\n 'C177': 'GAAGGCCATAGGTGTACCAACCTT',\n 'C178': 'GGGGGCGGTATGTATGTTACCTTT',\n 'C179': 'GAGGGCCATAGGTATGTCAATCTC',\n 'C180': 'GGGGGCGATCGTAATGTTTCCTCC',\n 'C181': 'AAGAGCCATAGGAGTGTTAACCTT',\n 'C182': 'GGGGGCCACAGTAATGTTACCTTC',\n 'C183': 'GGGGGCCATCGTAATGTTTCCTCC',\n 'C184': 'GGGAACGACCGTAATGTTACCTCC',\n 'C185': 'GAAAGCCATAGGTATACCAATCTC',\n 'C186': 'GAGAGCCATAGGTATACCAATCTC',\n 'C187': 'AAGGGCCATAGGAGTGTTACTCTT',\n 'C188': 'AAGGGCCATAGGAGTGTTAACCTT',\n 'C189': 'GAGGGCCATAGGAGAACCACTCTT',\n 'C190': 'GGGGGCGACCGTAATGTTTCCTTC',\n 'C191': 'GGGGACGATCGTAATGTTACCTTC',\n 'C192': 'GGGGGCCATCGTAATGTTTCCTTT',\n 'C193': 'GGGAACCATCGTAATGTCTCCTCC',\n 'C194': 'GGGGACCACCGTAATGTTTCCTTT',\n 'C195': 'AAGGGCCATAGGTATATTAACCTT',\n 'C196': 'AGGGGCCATAGGTAAGTTACTCTC',\n 'C197': 'GGGGGCCACCGTAATGTTACCTTT',\n 'C198': 'GGGGACCACCGTAATGTTTCCTTC',\n 'C199': 'GGGGGCGACCGTAATGTTTCCTTC',\n 'C200': 'GGGGACCACAGTAATGTTTCCTTC',\n 'C201': 'GGGGACCACCGTAATGTTTCCTTC',\n 'C202': 'GGGGGCCACAGTAATGTTTCCTCC',\n 'C203': 'GGGAGCGGTATTAATGTTACCCTT',\n 'W001': 'GGGGGCCACAGTAATGTTACCTCC',\n 'W002': 'AAGGGCCATAGTAAAGCCAACTTC',\n 'W003': 'GAAAGCCATAGGTAAACCAACCTC',\n 'W004': 'AAGGGCCATAGTAAAGCCAACTTC',\n 'W005': 'GGGGGCCATAGGTAAGCCAACTTT',\n 'W006': 'GGGGGCCATAGGTAAGCCAACTTT',\n 'W007': 'AAGGGCCATAGGTGAGCCAACTTC',\n 'W008': 'AAGGGCCATAGGTAAGCCAACTTT',\n 'W009': 'GGGGGCCACCGTAATGTTTCCTTT',\n 'W010': 'GAAAGCCATAGGTGTGCCAACCTT',\n 'W011': 'AAGAGCCATAGGTGAACCAACCTT',\n 'W012': 'GAAAGCCATAGGTGTACCAACCTT',\n 'W013': 'GAAAGCCATAGGTATACCAACCTT',\n 'W014': 'GGGGGCCACCGGTATGTCTCCCCT',\n 'W015': 'GGGGGCCACCGTAATGTCTCCCTC',\n 'W016': 'GAAAGCCATAGGTGTACCAACCTT',\n 'W017': 'GGGGGCCATAGGTGAGCCAACTTT',\n 'W018': 'GAGAGCCATAGGTGTACCAACCTT',\n 'W019': 'GGGAGCCATAGGTGTACCAACCTT',\n 'W020': 'GGGGGCCACCGGAATGTCTCCTCC',\n 'W021': 'GAAAGCCATAGGTATACCAATCTC',\n 'W022': 'AAGGGCCATAGGTGAGCCAACTTT',\n 'W023': 'GGGGACCACCGGAATGCTTCCTTT',\n 'W024': 'GGGGGCCATAGGTAAGCCAACTTT',\n 'W025': 'GGGGGCCACCGTAATGTCTCCCTC',\n 'W026': 'GGGGACCACCGGTATGTTTCCTTC',\n 'W027': 'GAAAGCCATAGGTGTGTTAACCTT',\n 'W028': 'GGGGGTCACCGGTATGTCTCCCTC',\n 'W029': 'GGGGGCCATCGTAATGTTACCTCC',\n 'W030': 'GGGAGCCACCGGTATGTCACCCTT',\n 'W031': 'GGGAGCGACCGTAATGTTTCCTTC',\n 'W032': 'GGGAGCGACCGTAATGTTTCCTTC',\n 'W033': 'GGGGACCATCGGTATGTTTCCTTC',\n 'W034': 'GGGGGCCACCGTAATGTCTCCCTC',\n 'W035': 'GGGGGCCACCGTAATGTTACCCTC',\n 'W036': 'GGGGGCGACCGGTATGTTTCCTTC',\n 'W037': 'GGGGGCCACCGGTATGTTTCCCTC',\n 'W038': 'AAGAGCCATAGGTGTACCACTCTT',\n 'W039': 'GGGGACGACCGTAATGTTTCCTTC',\n 'W040': 'GGGAGCGGTATTAATGTTACCTTT',\n 'W041': 'GAGGGCCATAGGTAAGCCAACCTT',\n 'W042': 'GGGGGCCACCGTAATACCTCCCTC',\n 'W043': 'GGGAGCGGTATTAATGTTACCTTT',\n 'W044': 'GGGGGCGGTATGAATGTTACCTTT',\n 'W045': 'GAGGGCCATAGGTGTACTAACCTT',\n 'W046': 'GGGGGCGGTATTAATGTTACCTTT',\n 'W047': 'GAGGGCCACCGTAATGTTAACCCT',\n 'W048': 'GGGGGCCACCGGAATGTCTCCCCC',\n 'W049': 'GGGGGCCACCGGAATGTCACCCTC',\n 'W050': 'GGGGGCCATAGGAGTGTTAACCCC',\n 'W051': 'GGGAGCGGTATGTATGTTACCTTT',\n 'W052': 'GAAAGCCATAGGTGTGTTAACCTT',\n 'W053': 'GGGGGCCATAGGTAAGCCAACTTT',\n 'W054': 'GGGAGCCACCGTAATGTTTCCTTT',\n 'W055': 'GGGGGCGATAGGTAAGTTACCCTT',\n 'W056': 'GAGAGCCATAGGTGAGTTAACCTT',\n 'W057': 'GGGGGCCATAGGTAAGCCAACTTT',\n 'W058': 'GGGGACGATCGTAATGTTACCTTT',\n 'W059': 'GAGAGCCATAGGTGTGTTAACCTT',\n 'W060': 'GAAAGCCATAGGTGAACCAACCTT',\n 'W061': 'GAAAGCCATAGGTGTGCCAACCTT',\n 'W062': 'GAGGGCCATAGGTATGCCAACCTT',\n 'W063': 'GAAAGCCATAGGTGTGCCAACCTT',\n 'W064': 'GAGAGCCATAGGTGTACCAACCTT',\n 'W065': 'GGGGGCCATAGGTAAGCCAACTTT',\n 'W066': 'GGGGGCCACCGGTATGTCTCCTTT',\n 'W067': 'AAGGGCCATAGGAGAGCCACTTTT',\n 'W068': 'GAGGGCCATAGTTGTGTTAACCTT',\n 'W069': 'GGGGGCCACCGGTATGTCTCCCTC',\n 'W070': 'GAGAGCGATCGGTATGTTACCCTT',\n 'W071': 'GGGAGCGACCGGTGTGTTACCTTT',\n 'W072': 'GGGGGCCACCGTAATGTCTCCCTC',\n 'W073': 'GGGAGCGGTATTAATGTTACCTTC',\n 'W074': 'GGGGGCCACCGTAATACTACCTTC',\n 'W075': 'GGGGACCACCGTAATGTTACCCTC',\n 'W076': 'GGGGGCCACCGGTATGTCTCCCTC',\n 'W077': 'GGGGGCCACCGTAATGTCTCCCCC',\n 'W078': 'GGGGACGGTATGTATGTTACCTCT',\n 'W079': 'GGGGGCCACCGGTATGCTTCCTCT',\n 'W080': 'GGGGACCACAGTAATGTTACCTTT',\n 'W081': 'GGGGGCCACCGGTGTACCACCCCC',\n 'W082': 'GAGAGCCATAGGAGTGTTAACCTC',\n 'W083': 'GGGAGCGGTATGAATGTCACCTTT',\n 'W084': 'GGGAGCGGTATTAATGTTTCCTTC',\n 'W085': 'GGGAGCGGTATGTATGTTACCTTC',\n 'W086': 'GGGGGCGGTATGTATGTTACCTTT',\n 'W087': 'GGAAGCGATCGGTATGTTAACTTT',\n 'W088': 'GAAAGCCATAGGTGTACCAACCTT',\n 'W089': 'GGGGGCCACCGGTATGTCTCCTTT',\n 'W090': 'GGGGGCCACCGGAATGTCTCCCTC',\n 'W091': 'GGGGGCCACCGGAATGTCTCCCCC',\n 'W092': 'GGGGGCCACCGGAATGTCTCCCTC',\n 'W093': 'GGGGGCCACCGGTATGTCTCCTTT',\n 'W094': 'GGGGGCCACCGGTATGTCTCCCTC',\n 'W095': 'GGGGGCCACCGGTATGTCTCCCCC',\n 'W096': 'GGGGGCCACCGGAATGTCTCCCTC',\n 'W097': 'GAGAGCCATCGGTATGTCACCCTC',\n 'W098': 'GGGGGCCACCGGAATGTTTCCCTC',\n 'W099': 'GGGGGCCACCGGAATGTCTCCCTC',\n 'W100': 'GGGGGCCACCGGAATGTTTCCCTC',\n 'W101': 'GGGAACGATCGTAATGTCACCTTC',\n 'W102': 'AGGGGCCATAGGTAAGCCAACCTC',\n 'W103': 'GGGGGCCACCGTAATGTCTCCCTC',\n 'W104': 'GGGGGCCACCGGTATGTCTCCCTC',\n 'W105': 'GGGGGCCACCGTAATGTCACCCTC',\n 'W106': 'GGGGGCCACCGGAATGTCTCCCTT',\n 'W107': 'GGGGGCCATCGGTATGTTTCCTTC',\n 'W108': 'GGGGGCCACCGGAATGTTTCCCTC',\n 'W109': 'GAAAGCCATAGGAGTGTTAACCTT',\n 'W110': 'GGGGGCCATAGTAGAGCCAACTTC',\n 'W111': 'GGGGGCCACCGTAATGTTTCCTTT',\n 'W112': 'GGGAACCGTCGTAATGTTTCCCTT',\n 'W113': 'GGGGGCCATAGGTAAGCCAACTTT',\n 'W114': 'GGGGGCCACCGGTATGTTACCTTC',\n 'W115': 'GGGGGCCACCGGTATGTCTCCCTC',\n 'W116': 'AAGGGCCATAGTAAAGCCAACCTT',\n 'W117': 'GAAAGCCATAGGTGTACCAACCTT',\n 'W118': 'GAGGGCGGTATGTGTGCCAACTTT',\n 'W119': 'AAAAGCCATAGGTGAGCCAACTTT',\n 'W120': 'GAAAGCCATAGGTGTGTTAACTTT',\n 'W121': 'GGGGGCCACCGTTATGTCTCCCTC',\n 'W122': 'AAGGGCCATAGGTATACCAATCTC',\n 'W123': 'GAGGGCCATAGGTAAGCCAACTTT',\n 'W124': 'GGGAGCGACCGGTATGTTTCCTTC',\n 'W125': 'GAAAGCCATAGGTGTACCTCTCTT',\n 'W126': 'GGGGGCCACAGTAATGTTTCCTTC',\n 'W127': 'GAGAGCCATAGGTGTACCAACCTC',\n 'W128': 'GAAAGCCACAGGTAAGCCTACCTT',\n 'W129': 'GGGGGCCACCGTAGTACCACCCTC',\n 'W130': 'GAAAGCCATAGGTGTACCAACCTT',\n 'W131': 'GGGGGCCACCGGTATGTCTCCCTC',\n 'W132': 'GGGAACGATCGTAATGTTTCCTCC',\n 'W133': 'GGGAACCATCGTAATGTTACCTTC',\n 'W134': 'GGGGGCCACCGGAATGTCACCCTC',\n 'W135': 'GGGAACCATCGTAATGTTACCCTC',\n 'W136': 'GGGGGCCACCGTAATGTCTCCCCC',\n 'W137': 'GGGGGCGACCGTAATGTTACCCTC',\n 'W138': 'GGGGGCGATCGTAATGTTACCTTT',\n 'W139': 'GAGAGCCATAGGTGTACCAACCTT',\n 'W140': 'GGGGGCCACCGTAATGTCTCCCTT',\n 'W141': 'GGGGGCCACCGTAATGTCTCCCTC',\n 'W142': 'GGGGGCCACCGGTATGTCTCCCTC',\n 'W143': 'AAGGGCCATAGTAGAGCCACTCCC',\n 'W144': 'GGGGGCGACCGTAATGTTACCTTC',\n 'W145': 'GGGAGCCACCGTAATGTTACCCTT',\n 'W146': 'GGGAGCGACAGGTATGTTACCTTT',\n 'W147': 'GGGAGCGGTATGTATGTTTCCTTT',\n 'W148': 'GGGAACGATCGTAATGTTTCCTTT',\n 'W149': 'GGGAGCCGTATTAATGTTACCTTT',\n 'W150': 'GGGAGCGGTAGTAATGTTACCTTT',\n 'W151': 'GGGAGCGGTATTAATGTTACCTTT',\n 'W152': 'GGGAGCGGTATTAATGCTACCTTT',\n 'W153': 'GAGAGCGGTATGTATGTTACCTTT',\n 'W154': 'GGGAGCGGTATGAATGTTTCCTTT',\n 'W155': 'GGAAGCGGTAGGTATGTTTACTTT',\n 'W156': 'GGGAGCGATCGTAATGTTAACTTT',\n 'W157': 'GGGAGCCATAGGAATGTTACCTTT',\n 'W158': 'GAAAGCCGTATGTATGTTAACCTT',\n 'W159': 'GGGAGCGGTAGGTATACCACCTTT',\n 'W160': 'GAAAGCCATAGGAGTGTTAACCTT',\n 'W161': 'GGGAGCGGTAGGTATGTTACCTTT',\n 'W162': 'GAAAGCCATAGGAGTACCAACCTT',\n 'W163': 'GGGAGCCGTAGTTATGTTACCTTT',\n 'W164': 'GGGAGCGATCGTAATGTTACCTTT',\n 'W165': 'GGGGGCCGTATGAATGTTACCTTT',\n 'W166': 'GGGAGCGGTATGTATGTTACCTTT',\n 'W167': 'GGGAGCGGTATGTATGTTACCTTT',\n 'W168': 'GGGAGCGGTATGTATGTTACCTTT',\n 'W169': 'GGGGGCGGTATTAATGTTACCTTT',\n 'W170': 'GGGAGCGGTATTAATGTTACCTTT',\n 'W171': 'GGGAGCGGTATGTATGTTACCCTT',\n 'W172': 'GGGAGCGGTATGAATGTTTCCTTT',\n 'W173': 'AGGAGCCATAGGAATACCACCCTT',\n 'W174': 'GGGAGCGGTATTAATGTTACCTTT',\n 'W175': 'GGGGGCGATAGTAATGTTAACCTT',\n 'W176': 'GGGAGCGGTATGTATGTTACCTTT',\n 'W177': 'GGGAGCGGTATGTATGTTACCTTT',\n 'W178': 'GGGGGCCACCGGTATGTTACCTTT',\n 'W179': 'GGGAGCGGTATTAATGTTACCTTT',\n 'W180': 'GGGAGCGGTATTAATGTTACCTTT',\n 'W181': 'GGGAGCGGTATTAGTGTTTCCTTT',\n 'W182': 'GGGAGCGGTATGTATGTTACCTTT',\n 'W183': 'GGGAGCGGTATTAATGTTACCTTT',\n 'W184': 'GGGAGCGGTATGTATGTTACCTTT',\n 'W185': 'GGGGGCGGTATTAATGTTACCTTT',\n 'W186': 'GGGAGCCGTATGTATGTTACCTTT',\n 'W187': 'GGGGGCCGTATGAATGTTACCTTT',\n 'W188': 'AGGAGCGGTATGTATGTTACCTTC',\n 'W189': 'GGGGGCGGTAGTAATGTTACCTTT',\n 'W191': 'GGGGGCCGTATGAATGTTTCCTTC',\n 'W192': 'GGGGGCCGTATGAATGTTTCCTTC',\n 'W193': 'GAAAGCCATAGGTGAGCCAACCTT',\n 'W194': 'GGGAGCGATCGGTATGTTTCCTTT',\n 'W195': 'GGGAGCGGTATGTATGTTACCTTT',\n 'W197': 'GGGAGCGGTATGAATGTTACCTTT',\n 'W198': 'GGGGACGACAGTAATGTTACCTTC',\n 'W199': 'GGGAGCGGTATTAATGTTACCTTC',\n 'W200': 'GGGAACGGTATTAATGTTACCTTT',\n 'W201': 'GGGAGCGGTATGAATGTTACCTTT',\n 'W202': 'GGGAGCGGTAGGTATGTTACCTTT',\n 'W203': 'GGGGGCCACCGTAATGTTTCCTTT',\n 'W204': 'GGGGACCACCGTAATGTTACCTTT',\n 'W205': 'GGGGACCACCGTAATGTTACCTTT',\n 'W206': 'GGGAGCGGTATTAATGTTACCTTC',\n 'W207': 'GAAAGCCATAGGTGTGTTACTCTT',\n 'W208': 'GGGGGCCGTATGTAAGTTAACTTT',\n 'W209': 'GAAAGCCATAGGTGTGTTAACCTT',\n 'W210': 'GGGGACCACAGTAATGTTACCTCT',\n 'W211': 'GGGAGCGGTATGTATGTTACCTTT',\n 'W212': 'GGGGACCACAGTAATGTTACCTTC',\n 'W213': 'GGGAGCGATAGGTATGTTACCTTT',\n 'W214': 'GGGGGCCACCGGAATGTCTCCCTC',\n 'W215': 'GGGGGCCACCGTAATGTCTCCCTC',\n 'W216': 'GGGAGCGGTATGTATGTTACCTTT',\n 'W217': 'GGGGGCCATAGGAATGCTACCTTT',\n 'W218': 'GGGGGCCATAGGTATGCTACCTTT',\n 'W219': 'GGGGGCCACCGGTGTGCCTCCCCC',\n 'W220': 'GGGGGCCACCGTAATGTCTCCCCC',\n 'W221': 'GGGAGCCACCGGAATGTTACCTTT',\n 'W222': 'GGGAGCGGTATTAATGTTACCTTT',\n 'W223': 'GGGAGCGGTATTAATGTTACCTCT',\n 'W224': 'GGGAGCGGTATTAATGTTACCTTT',\n 'W225': 'GAGGGCGGTATGAATGCCAACTTT',\n 'W226': 'GAAAGCCATAGGTGTGCCAACTTT',\n 'W227': 'GGGAGCGGTATGTATGTTACCTTT',\n 'W228': 'GGGAGCGGTATTAATGTTACCTTT',\n 'W229': 'GGGAGCGGTATTAATGTTACCTTT',\n 'W230': 'GGGAGCGGTATTAATGTTACCTTT',\n 'W231': 'GGGAGCGGTATGTGTGTTACCTTT',\n 'W233': 'GGGAGCCGTATTAATGTTACCTTT',\n 'W234': 'GGGAGCCGTATGTATGTTACCTTT',\n 'W235': 'GGGGATCACAGTAATGTTTCCTTC',\n 'W236': 'GGGAGCGGTATTAATGCCACCTTT',\n 'W237': 'GGGGGCGGTATGAATGTTACCTTT',\n 'W238': 'GGGAGCGGTATGAATGTTACCTTT',\n 'W239': 'GGGAGCGGTATGTATGTTACCTTC',\n 'W240': 'GGGAGCCGTAGTAATGTTACCCTT',\n 'W241': 'GGGAGCGACCGGTATGTTTCCTTT',\n 'W242': 'GGGAGCGGTATGTATGTTACCTTT',\n 'W243': 'GGGAGCGGTATGTATGCCACCTTT',\n 'W244': 'GGGAGCGGTATTAATGCCACCTTT',\n 'W245': 'GGGAGCGATAGTAATGTTAACTTT',\n 'W246': 'GGGGACCATCTTAATGTTACCTTC',\n 'W247': 'GGGGACCACAGTAATGTTACCTCT',\n 'W248': 'GGGGGCCATCGTAATGTTACCTTT',\n 'W249': 'GAAAGCCATAGGTGAACCAACCTT',\n 'W250': 'GAAAGCCATAGGTGAACCAACCTT',\n 'W251': 'AGGGGCCATAGGTAAACCAACTTT',\n 'W252': 'GGGGGCCACCGGTATACCTCCCCC',\n 'W253': 'GGGGGCCATAGGTAAGCCAACTTT',\n 'W254': 'GGGGGCCATAGGTGAGCCAACTTT',\n 'W255': 'GGGGGCCACCGGTGTGCCTCCCCC',\n 'W256': 'GGGGGCCACCGGTATGTCACCCCC',\n 'W257': 'AGGGGCGATAGGTAAGCCAACTTT',\n 'W258': 'GGGGGCCACCGTAATACCACCCCC',\n 'W259': 'GGGAGCGGTATTAATGCCACCTTT',\n 'W260': 'AAGGGCCATAGGTATGCCAACTTC',\n 'W261': 'GGGGGCCATAGTAATGTCTACCCC',\n 'W262': 'GGGAGCGGTAGGTATGTCACCTTT',\n 'W263': 'GGGAGCGATATTAATGTTACCTTT',\n 'W264': 'GGGAGCGGTATTAATGTTACCTTT',\n 'W265': 'GGGAGCGATATTAATGTTACCTTT',\n 'W266': 'GGGGGCGATCGTAATGTTACCTTC',\n 'W267': 'GGGAGCCGTATGTATGTTACCTTT',\n 'W268': 'GGGAGCGGTAGTAATGTTACCTTT',\n 'W269': 'GGGAGCGGTATTAATGTTACCTTC',\n 'W270': 'GGGGACGGTATTAATGTTACCTTC',\n 'W271': 'GGGAGCGGTATTAATGTTACCTTT',\n 'W272': 'GGGGACCACCGTAATGTTTCCTTC',\n 'W273': 'AGGGGCCATAGGTAAGCCAACTTC',\n 'W274': 'GGGAGCGGTATTAATGTTTCCTTT',\n 'W275': 'GGGGGCCATAGGTAAGCCAACTTT',\n 'W276': 'GGGAGCGATCGTAATGTCACCTTT',\n 'W277': 'GGGGGCCACAGTAATGTCTCCCCC',\n 'W278': 'GGGGGCCACCGGAATGTCTCCCCC',\n 'W279': 'GGGGGCCACCGGTATGTCTCCCCC',\n 'W280': 'GGGGGCCACCGTAATGTCTCCCTC',\n 'W281': 'AAGAGCCATAGGTGTGTTAACCTT',\n 'W282': 'GGGAGCCACCGGAATGTTACCTTC',\n 'W283': 'GAAAGCCATAGGTGTACCAACCTT',\n 'W284': 'GAGGGCCATAGTAAAGCCAACTTC',\n 'W285': 'GAGGGCCATAGTAAAGCCAACTTT',\n 'W286': 'GGGGGCCACCGGAATGTCTCCCTC',\n 'W287': 'GGGGGCCACCGGTATGTCTCCCTC',\n 'W288': 'AAGGGCCATAGGTAAGCCAACTTC',\n 'W289': 'GGGAGCGGTATGAATGTTACCTTT',\n 'W290': 'GAGAGCCATAGGTATGTTAACCCT',\n 'W291': 'GGGAGCGGTATTAATGTTTCCTTT',\n 'W292': 'GGGGGCCACCGGAATGTTTCCCTC',\n 'W293': 'GGGAGCGGTATTTATGTTACCTTT',\n 'W294': 'GGGGGCCGTATTAATGCCAACTTT',\n 'W295': 'GGGAGCGGTATTAATGTTACCTTT',\n 'W296': 'GGGGGCCACCGTAATGTCTCCCTC',\n 'W297': 'GGGGGCCACCGTAATGTCTCCCTC',\n 'W298': 'GGGAGCGGTATTAATGTTTCCTTT',\n 'W299': 'GGGAGCGGTATGTATGTTTCCTTT',\n 'W300': 'GAGGGCCATAGTAGTGCCAACTTT',\n 'W301': 'GGGAGCGGTATGTATGTTACCTTT',\n 'W302': 'AGGGGCCATAGGTATGCCAACCTT',\n 'W303': 'GGGGGCCATAGGTAAGCCAACTTT',\n 'W304': 'GGGGGCCATAGGTATGTTTACTTT',\n 'W305': 'GAAAGCCATAGGTGTACCAACCTT',\n 'W306': 'GGGAGCGGTATGTATGTCTCCCCC',\n 'W307': 'GGGAGCGGTATTAATGTTACCTTT',\n 'W308': 'GGGAGCGGTATTAATGTTACCTTT',\n 'W309': 'GGGAGCGGTATTAATGTTACCTTT',\n 'W310': 'GGGAGCCACCGGTATGTTACCTTT',\n 'W311': 'GGGAGCGGTATGTATGTTACCTTT',\n 'W312': 'GGGAGCGGTATTAATGTTACCTTT',\n 'W313': 'GGGAGCGGTATTTATGTTACCCTT',\n 'W314': 'GGGGGCCACCGGTATGTTACCTTC',\n 'W315': 'GGGAGCGGTATTAATGTTACCTTT',\n 'W316': 'GGGAGCGGTATGTATGTTACCTTT',\n 'W317': 'GGGAGCGGTATTAATGTTACCTTT',\n 'W318': 'GGGGGCGATCGGTATGTTACCTTT',\n 'W319': 'AGGGGCCATAGGTAAGTTACTCCC',\n 'W320': 'GGGGACCACAGTAATGTTTCCTTC',\n 'W321': 'GGGAGCGGTATGTATGTTTCCTTT',\n 'W322': 'GGGAGCCGTATGAATGTTACCTTT',\n 'W323': 'GAAAGCCATAGGTATACCAACCTC',\n 'W324': 'GAGAGCCATAGGTATACCAACCTC',\n 'W325': 'AAGGGCCATAGGTGAGTTAACCTC',\n 'W326': 'GAGAGCCATAGGTGTACCAACCTC',\n 'W327': 'GAAAGCCATAGGTGTGTTAACCTC',\n 'W328': 'GAAAGCCATAGGTATACCACCCTT',\n 'W329': 'AGGGGCCATAGGTATGCCAACTTC',\n 'W330': 'GGGGGCCACCGTAATGTCTCCCCC'}"
     },
     "execution_count": 22,
     "metadata": {},
     "output_type": "execute_result"
    }
   ],
   "source": [
    "sequences = []\n",
    "for i in range(mapping.shape[0]):\n",
    "    sequences.append((mapping.iloc[i, 0], mapping.iloc[i, -1]))\n",
    "sequences_dict = dict() \n",
    "for x, y in sequences:\n",
    "    sequences_dict[x]=y\n",
    "sequences_dict"
   ],
   "metadata": {
    "collapsed": false,
    "ExecuteTime": {
     "end_time": "2023-05-13T16:48:09.059160Z",
     "start_time": "2023-05-13T16:48:09.051655Z"
    }
   }
  },
  {
   "cell_type": "code",
   "execution_count": 23,
   "outputs": [],
   "source": [
    "filename = 'sequences_24.fasta'\n",
    "\n",
    "# open the output file for writing\n",
    "with open(filename, 'w') as f:\n",
    "\n",
    "    # iterate over each sequence and write to the file in FASTA format\n",
    "    for seq in sequences:\n",
    "        cultivar_id, sequence = seq\n",
    "        name = cultivar_id\n",
    "        f.write(f'>{name}\\n{sequence}\\n')"
   ],
   "metadata": {
    "collapsed": false,
    "ExecuteTime": {
     "end_time": "2023-05-13T16:48:11.313889Z",
     "start_time": "2023-05-13T16:48:11.307725Z"
    }
   }
  },
  {
   "cell_type": "code",
   "execution_count": 24,
   "outputs": [
    {
     "name": "stdout",
     "output_type": "stream",
     "text": [
      "\n",
      "\n",
      "muscle 5.1.osxarm64 [ef62d8-dirty]  8.6Gb RAM, 8 cores\n",
      "Built Jan 15 2022 11:59:50\n",
      "(C) Copyright 2004-2021 Robert C. Edgar.\n",
      "https://drive5.com\n",
      "\n",
      "Input: 529 seqs, avg length 24, max 24\n",
      "\n",
      "00:00 24Mb   CPU has 8 cores, running 8 threads\n",
      "00:01 189Mb   100.0% Calc posteriors  \r\n",
      "00:13 555Mb   100.0% Consistency (1/2)  \r\n",
      "00:23 754Mb   100.0% Consistency (2/2)  \r\n",
      "00:23 758Mb   100.0% UPGMA5           \r\n",
      "00:27 909Mb   100.0% Refining\r\n",
      "\n"
     ]
    }
   ],
   "source": [
    "from Bio import AlignIO\n",
    "from Bio.Phylo.TreeConstruction import DistanceCalculator, DistanceTreeConstructor\n",
    "from Bio import Phylo\n",
    "# script to run muscle command line\n",
    "\n",
    "import subprocess\n",
    "\n",
    "# Set the input and output file names\n",
    "input_file = \"sequences_24.fasta\"\n",
    "output_file = \"aligned_24.fasta\"\n",
    "\n",
    "# Define the MUSCLE command as a list of arguments\n",
    "muscle_command = [\"muscle\", \"-align\", input_file, \"-output\", output_file]\n",
    "\n",
    "# Run the MUSCLE command using subprocess\n",
    "process = subprocess.Popen(muscle_command, stdout=subprocess.PIPE, stderr=subprocess.PIPE)\n",
    "\n",
    "# Get the standard output and error messages\n",
    "stdout, stderr = process.communicate()\n",
    "\n",
    "# Print the standard output and error messages\n",
    "print(stdout.decode())\n",
    "print(stderr.decode())\n"
   ],
   "metadata": {
    "collapsed": false,
    "ExecuteTime": {
     "end_time": "2023-05-13T16:48:39.627709Z",
     "start_time": "2023-05-13T16:48:11.698190Z"
    }
   }
  },
  {
   "cell_type": "code",
   "execution_count": 25,
   "outputs": [],
   "source": [
    "# Read in the FASTA file and create phylogenetic tree\n",
    "alignment = AlignIO.read(\"aligned_24.fasta\", \"fasta\")\n",
    "\n",
    "# Calculate the distance matrix\n",
    "calculator = DistanceCalculator('identity')\n",
    "dm = calculator.get_distance(alignment)\n",
    "\n",
    "# Construct the tree using the UPGMA\n",
    "constructor = DistanceTreeConstructor(calculator, 'upgma')\n",
    "tree = constructor.build_tree(alignment)\n",
    "\n",
    "# Visualize the tree\n",
    "# print(Phylo.draw_ascii(tree))"
   ],
   "metadata": {
    "collapsed": false,
    "ExecuteTime": {
     "end_time": "2023-05-13T16:49:18.234434Z",
     "start_time": "2023-05-13T16:48:47.184101Z"
    }
   }
  },
  {
   "cell_type": "code",
   "execution_count": 26,
   "outputs": [
    {
     "name": "stdout",
     "output_type": "stream",
     "text": [
      "                                            _ C051\n",
      "                                          _|\n",
      "                                    _____| |_ C119\n",
      "                                   |     |\n",
      "                                   |     |___ W158\n",
      "                             ______|\n",
      "                            |      |     ____ C014\n",
      "                            |      |   _|\n",
      "                            |      |__| |____ C152\n",
      "                            |         |\n",
      "                      ______|         |______ C029\n",
      "                     |      |\n",
      "                     |      |         _____ C010\n",
      "                     |      |     ___|\n",
      "                     |      |    |   |   __ W062\n",
      "                     |      |    |   |__|\n",
      "                     |      |____|      |__ W041\n",
      "                     |           |\n",
      "                     |           | ________ W294\n",
      "                     |           ||\n",
      "                     |            |    ____ W118\n",
      "                     |            |___|\n",
      "                     |                |____ W225\n",
      "            _________|\n",
      "           |         |    __________ W128\n",
      "           |         |   |\n",
      "           |         |   |          ____ W119\n",
      "           |         |   |         |\n",
      "           |         |   |         |     _ W193\n",
      "           |         |   |         |    |\n",
      "           |         |   |      ___|   _| , W249\n",
      "           |         |   |     |   |  | | |\n",
      "           |         |   |     |   |  | |_| W250\n",
      "           |         |   |     |   |  |   |\n",
      "           |         |   |     |   |  |   | W060\n",
      "           |         |   |     |   |__|\n",
      "           |         |   |     |      |   , W063\n",
      "           |         |___|     |      |   |\n",
      "           |             |     |      |  _| W010\n",
      "           |             |     |      | | |\n",
      "           |             |     |      |_| | W061\n",
      "           |             |     |        |\n",
      "           |             |     |        |_ W226\n",
      "           |             |     |\n",
      "           |             |     |              _ C035\n",
      "           |             |     |             |\n",
      "           |             |     |            _| , C057\n",
      "           |             |     |           | | |\n",
      "           |             |     |           | |_| C177\n",
      "           |             |     |      _____|   |\n",
      "           |             |     |     |     |   | C017\n",
      "           |             |_____|     |     |\n",
      "           |                   |     |     |  _ W045\n",
      "           |                   |     |     |_|\n",
      "           |                   |     |       |_ C023\n",
      "           |                   |     |\n",
      "           |                   |     |                 _ W323\n",
      "           |                   |     |               _|\n",
      "           |                   |     |              | |_ W003\n",
      "           |                   |     |             _|\n",
      "           |                   |     |            | |  _ C186\n",
      "           |                   |     |            | |_|\n",
      "           |                   |     |            |   | , C185\n",
      "           |                   |     |         ___|   |_|\n",
      "           |                   |     |        |   |     | W021\n",
      "           |                   |     |        |   |\n",
      "           |                   |     |        |   |   , W127\n",
      "           |                   |     |        |   |  _|\n",
      "           |                   |     |        |   |_| | W326\n",
      "           |                   |     |        |     |\n",
      "           |                   |     |        |     |_ W324\n",
      "           |                   |     |        |\n",
      "           |                   |     |        |       _ W328\n",
      "           |                   |_____|        |   ___|\n",
      "           |                         |     ___|  |   |_ W013\n",
      "           |                         |    |   |  |\n",
      "           |                         |    |   |  |    _ W162\n",
      "           |                         |    |   |  |   |\n",
      "           |                         |    |   |  |   | , C150\n",
      "           |                         |    |   |  |   | |\n",
      "           |                         |    |   |  |   | | W117\n",
      "           |                         |    |   |  |   | |\n",
      "           |                         |    |   |  |   | | C146\n",
      "           |                         |    |   |  |   | |\n",
      "           |                         |    |   |  |   | | W016\n",
      "           |                         |    |   |__|   | |\n",
      "           |                         |    |      |   | | W283\n",
      "           |                         |    |      |   | |\n",
      "           |                         |    |      |   | | W130\n",
      "           |                         |    |      |  ,| |\n",
      "           |                         |    |      |  || | C018\n",
      "           |                         |    |      |  || |\n",
      "           |                         |    |      |  || | C028\n",
      "           |                         |    |      |  || |\n",
      "           |                         |    |      |  || | C116\n",
      "           |                         |    |      |  || |\n",
      "           |                         |    |      |  || | W088\n",
      "           |                         |    |      |__|| |\n",
      "  _________|                         |____|         || | W305\n",
      " |         |                              |         || |\n",
      " |         |                              |         || | W012\n",
      " |         |                              |         || |\n",
      " |         |                              |         ||_| C026\n",
      " |         |                              |         |  |\n",
      " |         |                              |         |  | C154\n",
      " |         |                              |         |\n",
      " |         |                              |         |__ C052\n",
      " |         |                              |\n",
      " |         |                              |              _ C084\n",
      " |         |                              |            ,|\n",
      " |         |                              |            ||_ C085\n",
      " |         |                              |          __|\n",
      " |         |                              |         |  |  , C056\n",
      " |         |                              |         |  |__|\n",
      " |         |                              |         |     | C016\n",
      " |         |                              |         |\n",
      " |         |                              |     ____|     _ W019\n",
      " |         |                              |    |    |    |\n",
      " |         |                              |    |    |   _| , W018\n",
      " |         |                              |    |    |  | | |\n",
      " |         |                              |    |    |  | |_| W139\n",
      " |         |                              |    |    |__|   |\n",
      " |         |                              |    |       |   | W064\n",
      " |         |                              |____|       |\n",
      " |         |                                   |       |  _ C070\n",
      " |         |                                   |       |_|\n",
      " |         |                                   |         |_ W011\n",
      " |         |                                   |\n",
      " |         |                                   |     _ C063\n",
      " |         |                                   |    |\n",
      " |         |                                   |____| , C172\n",
      " |         |                                        | |\n",
      " |         |                                        |_| C149\n",
      " |         |                                          |\n",
      " |         |                                          | C120\n",
      " |         |\n",
      " |         |                            _ C144\n",
      " |         |                   ________|\n",
      " |         |                  |        |_ C134\n",
      " |         |                  |\n",
      " |         |           _______|  ________ C083\n",
      " |         |          |       | |\n",
      " |         |          |       | |        __ W319\n",
      " |         |          |       | |       |\n",
      " |         |          |       |_|    ___|    , C079\n",
      " |         |          |         |   |   |   _|\n",
      " |         |          |         |   |   |  | | C133\n",
      " |         |          |         |   |   |__|\n",
      " |         |          |         |___|      | , C103\n",
      " |         |          |             |      |_|\n",
      " |         |          |             |        | C196\n",
      " |         |          |             |\n",
      " |         |          |             |   ___ C101\n",
      " |         |          |             |__|\n",
      " |         |          |                |___ C106\n",
      " |         |          |\n",
      " |         |          |                      _____ W207\n",
      " |         |          |                  ___|\n",
      " |         |          |                 |   |   __ C089\n",
      " |         |          |                 |   |__|\n",
      " |         |          |                 |      | _ C082\n",
      " |         |          |                 |      ||\n",
      " |         |          |            _____|       |_ C071\n",
      " |         |          |           |     |\n",
      " |         |          |           |     |    _____ W125\n",
      " |         |          |           |     |  ,|\n",
      " |         |          |           |     | _||_____ W038\n",
      " |         |          |           |     || |\n",
      " |         |          |           |     || |______ C032\n",
      " |         |          |           |      |\n",
      " |         |          |           |      |________ C138\n",
      " |         |          |           |\n",
      " |         |          |           |       _________ W067\n",
      " |         |          |       ____|      |\n",
      " |         |__________|      |    |      |      ___ C074\n",
      " |                    |      |    |    __|    _|\n",
      " |                    |      |    |   |  |  ,| |___ C111\n",
      " |                    |      |    |   |  |  ||\n",
      " |                    |      |    |   |  |__||_____ W143\n",
      " |                    |      |    |   |     |\n",
      " |                    |      |    |   |     |______ C137\n",
      " |                    |      |    |   |\n",
      " |                    |      |    |   |            ______ C003\n",
      " |                    |      |    |   |         __|\n",
      " |                    |      |    |___|        |  |______ W300\n",
      " |                    |      |        |        |\n",
      " |                    |      |        |        |    _____ W110\n",
      " |                    |      |        |        |   |\n",
      " |                    |      |        |     ___|  _|      _ W285\n",
      " |                    |      |        |    |   | | |    _|\n",
      " |                    |      |        |    |   | | |   | |_ W284\n",
      " |                    |      |        |    |   | | |___|\n",
      " |                    |      |        |    |   | |     |   , W002\n",
      " |                    |      |        |    |   |_|     |  _|\n",
      " |                    |      |        |____|     |     |_| | W004\n",
      " |                    |      |             |     |       |\n",
      " |                    |      |             |     |       |_ C005\n",
      " |                    |      |             |     |\n",
      " |                    |      |             |     |_______ W116\n",
      " |                    |      |             |\n",
      " |                    |      |             |    _______ C087\n",
      " |                    |      |             |___|\n",
      " |                    |      |                 |    ___ C189\n",
      " |                    |      |                 |___|\n",
      " |                    |      |                     |___ C004\n",
      " |                    |      |\n",
      " |                    |      |                  _____ W122\n",
      " |                    |      |              ___|\n",
      " |                    |______|             |   |_____ C179\n",
      " |                           |             |\n",
      " |                           |             |          _ W260\n",
      " |                           |             |        ,|\n",
      " |                           |       ______|     ___||_ W288\n",
      " |                           |      |      |    |   |\n",
      " |                           |      |      |    |   |__ W007\n",
      " |                           |      |      |    |\n",
      " |                           |      |      |    |   ____ W302\n",
      " |                           |      |      |    |  |\n",
      " |                           |      |      |____| ,|   _ W329\n",
      " |                           |      |           | || ,|\n",
      " |                           |      |           | ||_||_ W273\n",
      " |                           |      |           | |  |\n",
      " |                           |      |           | |  |__ W102\n",
      " |                           |      |           | |\n",
      " |                           |      |           |_|   ___ C123\n",
      " |                           |      |             |__|\n",
      " |                           |      |             |  |___ W251\n",
      " |                           |      |             |\n",
      " |                           |      |             | _____ W257\n",
      " |                           |      |             ||\n",
      " |                           |      |             ||         , W017\n",
      " |                           |      |             ||        _|\n",
      " |                           |      |             ||       | | W254\n",
      " |                           |      |             ||       |\n",
      " |                           |      |             ||       | , W024\n",
      " |                           |      |             ||       | |\n",
      " |                           |      |             ||       | | W006\n",
      " |                           |      |             ||       | |\n",
      " |                           |      |             ||       | | W057\n",
      " |                           |      |              |       | |\n",
      " |                           |      |              |    ___| | W253\n",
      " |                           |      |              |   |   | |\n",
      " |                           |      |              |   |   | | W005\n",
      " |                           |      |              |   |   | |\n",
      " |                           |______|              |   |   | | W065\n",
      " |                                  |              |   |   | |\n",
      " |                                  |              |   |   | | W275\n",
      " |                                  |              |   |   | |\n",
      " |                                  |              |___|   | | W113\n",
      " |                                  |                  |   | |\n",
      " |                                  |                  |   |_| W303\n",
      " |                                  |                  |     |\n",
      " |                                  |                  |     | W053\n",
      " |                                  |                  |\n",
      " |                                  |                  |   _ W022\n",
      " |                                  |                  | ,|\n",
      " |                                  |                  | ||_ C153\n",
      " |                                  |                  |_|\n",
      " |                                  |                    | _ W008\n",
      " |                                  |                    ||\n",
      " |                                  |                     |_ W123\n",
      " |                                  |\n",
      " |                                  |      _______ W290\n",
      " |                                  |    ,|\n",
      " |                                  |    ||_______ C195\n",
      " |                                  |    |\n",
      " |                                  |    |             _ W068\n",
      " |                                  |    |        ____|\n",
      " |                                  |    |       |    | , C054\n",
      " |                                  |    |       |    |_|\n",
      " |                                  |    |       |      | C034\n",
      " |                                  |    |       |\n",
      " |                                  |    |       |        _ C181\n",
      " |                                  |    |       |      ,|\n",
      " |                                  |    |       |      || , C075\n",
      " |                                  |    |     __|    __||_|\n",
      " |                                  |    |    |  |   |  |  | C067\n",
      " |                                  |____|    |  |   |  |\n",
      " |                                       |    |  |   |  |__ W082\n",
      " |                                       |    |  |   |\n",
      " |                                       |    |  |   |   ___ W327\n",
      " |                                       |    |  |   |  |\n",
      " |                                       |    |  |   |  |    , W160\n",
      " |                                       |    |  |___| ,|  __|\n",
      " |                                       |    |      | || |  | W109\n",
      " |                                       |    |      | || |\n",
      " |                                       |    |      | ||_| _ W120\n",
      " |                                       |    |      | |  ||\n",
      " |                                       |    |      | |  || , W052\n",
      " |                                       |    |      | |  || |\n",
      " |                                       |    |      | |  || | C048\n",
      " |                                       |    |      | |   | |\n",
      " |                                       |____|      |_|   | | W209\n",
      " |                                            |        |   | |\n",
      " |                                            |        |   |_| C064\n",
      " |                                            |        |     |\n",
      " |                                            |        |     | W027\n",
      " |                                            |        |\n",
      " |                                            |        |     _ W056\n",
      " |                                            |        |   _|\n",
      " |                                            |        |  | |_ C012\n",
      " |                                            |        |__|\n",
      " |                                            |           |  _ W281\n",
      " |                                            |           |_|\n",
      " |                                            |             |_ W059\n",
      " |                                            |\n",
      " |                                            |      ___ C187\n",
      " |                                            |   __|\n",
      " |                                            |  |  |___ C188\n",
      " |                                            |  |\n",
      " |                                            |__|     _ W325\n",
      " |                                               |   ,|\n",
      " |                                               |   || , C130\n",
      " |                                               |___||_|\n",
      " |                                                   |  | C093\n",
      " |                                                   |\n",
      " |                                                   |__ C171\n",
      " |\n",
      " |                   _____ W270\n",
      " |        __________|\n",
      " |       |          |_____ C176\n",
      " |       |\n",
      " |       |________________ W306\n",
      " |       |\n",
      " |       |             _________ W159\n",
      " |       |       _____|\n",
      " |       |      |     |_________ W173\n",
      " |     __|      |\n",
      " |    |  |      |          ________ W304\n",
      "_|    |  |      |      ___|\n",
      " |    |  |      |     |   |________ W155\n",
      " |    |  |      |     |\n",
      " |    |  |      |     |    _________ W055\n",
      " |    |  |      |     |  _|\n",
      " |    |  |      |     | | |     ____ C163\n",
      " |    |  |      |     | | |____|\n",
      " |    |  |      |     | |      |   _ W217\n",
      " |    |  |      |     | |      |__|\n",
      " |    |  |      |     | |         |_ W218\n",
      " |    |  |      |     | |\n",
      " |    |  |      |     | |            ____ W240\n",
      " |    |  |      |     | |          ,|\n",
      " |    |  |      |     | |          ||____ W163\n",
      " |    |  |      |     | |          |\n",
      " |    |  |      |     | |        __|_____ W157\n",
      " |    |  |      |     | |       |  |\n",
      " |    |  |      |     | |       |  |          , W149\n",
      " |    |  |      |     | |       |  |         _|\n",
      " |    |  |      |     | |       |  |        | | W233\n",
      " |    |  |      |     | |       |  |      __|\n",
      " |    |  |______|     | |       |  |     |  | , W322\n",
      " |    |         |     | |       |  |     |  |_|\n",
      " |    |         |     | |       |  |_____|    | C009\n",
      " |    |         |     | |       |        |\n",
      " |    |         |     | |       |        |  , W267\n",
      " |    |         |     | |       |        |  |\n",
      " |    |         |     | |       |        |__| W186\n",
      " |    |         |     | |       |           |\n",
      " |    |         |     | |       |           | W234\n",
      " |    |         |     | |       |\n",
      " |    |         |     | |       |              _ W313\n",
      " |    |         |     | |       |            ,|\n",
      " |    |         |     | |       |            || , C203\n",
      " |    |         |     | |       |         ___||_|\n",
      " |    |         |     | |       |        |   |  | C124\n",
      " |    |         |     | |       |        |   |\n",
      " |    |         |     | |       |        |   |__ W171\n",
      " |    |         |     | |       |        |\n",
      " |    |         |     | |       |        |       _ W243\n",
      " |    |         |     | |       |        |     ,|\n",
      " |    |         |     | |       |        |     || , C050\n",
      " |    |         |     | |       |        |   __||_|\n",
      " |    |         |     | |       |     ___|  |  |  | C053\n",
      " |    |         |     | |       |    |   |  |  |\n",
      " |    |         |     | |       |    |   |  |  |__ C147\n",
      " |    |         |_____| |       |    |   |  |\n",
      " |    |               | |       |    |   |  |       __ W188\n",
      " |    |               | |       |    |   |  |      |\n",
      " |    |               | |       |    |   |  |     _|    , C045\n",
      " |    |               | |       |    |   |  |    | |   _|\n",
      " |    |               | |       |    |   |  |    | |  | | C027\n",
      " |    |               | |       |    |   |__|    | |__|\n",
      " |    |               | |       |    |      |    |    | , W085\n",
      " |    |               | |       |    |      |   _|    |_|\n",
      " |    |               | |       |    |      |  | |      | W239\n",
      " |    |               | |       |    |      |  | |\n",
      " |    |               | |       |    |      |  | |   _ C008\n",
      " |    |               | |  _____|    |      |  | |  |\n",
      " |    |               | | |     |    |      |  | |__| , C025\n",
      " |    |               | | |     |    |      |  |    | |\n",
      " |    |               | | |     |    |      |  |    |_| W086\n",
      " |    |               | | |     |    |      |  |      |\n",
      " |    |               | | |     |    |      |__|      | C178\n",
      " |    |               | | |     |    |         |\n",
      " |    |               | | |     |    |         |     _ W262\n",
      " |    |               | | |     |    |         |    |\n",
      " |    |               | | |     |    |         |  __| , W202\n",
      " |    |               | | |     |    |         | |  | |\n",
      " |    |               | | |     |    |         | |  |_| C065\n",
      " |    |               | | |     |    |         | |    |\n",
      " |    |               | | |     |    |         | |    | W161\n",
      " |    |               | | |     |    |         | |\n",
      " |    |               | | |     |    |         |_| ___ W153\n",
      " |    |               | | |     |    |           ||\n",
      " |    |               | | |     |    |           || __ C040\n",
      " |    |               | | |     |    |           |||\n",
      " |    |               | | |     |    |           ||| _ W231\n",
      " |    |               | | |     |    |           ||||\n",
      " |    |               | | |     |    |           |||| , W177\n",
      " |    |               | | |     |    |            ||| |\n",
      " |    |               | | |     |    |            ||| | C061\n",
      " |    |               | | |     |    |            ||| |\n",
      " |    |               | | |     |    |            ||| | W216\n",
      " |    |               | | |     |    |            ||| |\n",
      " |    |               | | |     |    |            ||| | C062\n",
      " |    |               | | |     |    |             || |\n",
      " |    |               | | |     |    |             || | W168\n",
      " |    |               | | |     |    |             || |\n",
      " |    |               | | |     |    |             || | C069\n",
      " |    |               | | |     |    |             || |\n",
      " |    |               | | |     |    |             || | W184\n",
      " |    |               |_| |     |    |             || |\n",
      " |    |                 | |     |    |             || | W311\n",
      " |    |                 | |     |    |             || |\n",
      " |    |                 | |     |    |             || | W182\n",
      " |    |                 | |     |    |             || |\n",
      " |    |                 | |     |    |              | | W316\n",
      " |    |                 | |     |    |              | |\n",
      " |    |                 | |     |    |              | | W051\n",
      " |    |                 | |     |    |              | |\n",
      " |    |                 | |     |____|              | | W227\n",
      " |    |                 | |          |              | |\n",
      " |    |                 | |          |              | | W211\n",
      " |    |                 | |          |              | |\n",
      " |    |                 | |          |              | | C011\n",
      " |    |                 | |          |              | |\n",
      " |    |                 | |          |              | | W176\n",
      " |    |                 | |          |              | |\n",
      " |    |                 | |          |              | | W166\n",
      " |    |                 | |          |              | |\n",
      " |    |                 | |          |              | | W167\n",
      " |    |                 | |          |              | |\n",
      " |    |                 | |          |              | | W301\n",
      " |    |                 | |          |              | |\n",
      " |    |                 | |          |              |_| W195\n",
      " |    |                 | |          |                |\n",
      " |    |                 | |          |                | W242\n",
      " |    |                 | |          |\n",
      " |    |                 | |          |            _ C164\n",
      " |    |                 | |          |          _|\n",
      " |    |                 | |          |         | | , W263\n",
      " |    |                 | |          |         | |_|\n",
      " |    |                 | |          |         |   | W265\n",
      " |    |                 | |          |       __|\n",
      " |    |                 | |          |      |  | __ W083\n",
      " |    |                 | |          |      |  ||\n",
      " |    |                 | |          |      |  || _ C168\n",
      " |    |                 | |          |      |  |||\n",
      " |    |                 | |          |      |   || , W201\n",
      " |    |                 | |          |      |   || |\n",
      " |    |                 | |          |      |   || | C068\n",
      " |    |                 | |          |      |   || |\n",
      " |    |                 | |          |      |    | | W289\n",
      " |    |                 | |          |    __|    | |\n",
      " |    |                 | |          |   |  |    | | W197\n",
      " |    |                 | |          |   |  |    | |\n",
      " |    |                 | |          |   |  |    |_| W238\n",
      " |    |                 | |          |   |  |      |\n",
      " |    |                 | |          |   |  |      | C043\n",
      " |    |                 | |          |   |  |\n",
      " |    |                 | |          |   |  |     _ W152\n",
      " |    |                 | |          |   |  |   ,|\n",
      " |    |                 | |          |   |  |   ||_ C049\n",
      " |    |                 | |          |   |  |___|\n",
      " |    |                 | |          |   |      |  , W236\n",
      " |    |                 | |          |   |      |  |\n",
      " |    |                 | |          |   |      |__| W259\n",
      " |    |                 | |          |   |         |\n",
      " |    |                 | |          |   |         | W244\n",
      " |    |                 | |          |   |\n",
      " |    |                 | |          |   |             , W084\n",
      " |    |                 | |          |   |            _|\n",
      " |    |                 | |          |   |           | | C173\n",
      " |    |                 | |          |   |           |\n",
      " |    |                 | |          |   |       ____| , W269\n",
      " |    |                 | |          |   |      |    | |\n",
      " |    |                 | |          |   |      |    | | W206\n",
      " |    |                 | |          |   |      |    | |\n",
      " |    |                 | |          |___|      |    |_| W199\n",
      " |    |                 | |              |      |      |\n",
      " |    |                 | |              |      |      | W073\n",
      " |    |                 | |              |   ___|\n",
      " |    |                 | |              |  |   |        , W154\n",
      " |    |                 | |              |  |   |       _|\n",
      " |    |                 | |              |  |   |      | | W172\n",
      " |    |                 | |              |  |   |   ___|\n",
      " |    |                 | |              |  |   |  |   | , W321\n",
      " |    |                 | |              |  |   |  |   | |\n",
      " |    |                 | |              |  |   |  |   |_| W147\n",
      " |    |                 | |              |  |   |__|     |\n",
      " |    |                 | |              |  |      |     | W299\n",
      " |    |                 | |              |  |      |\n",
      " |    |                 | |              |  |      |  _ W181\n",
      " |    |                 | |              |  |      | |\n",
      " |    |                 | |              |  |      |_| , W298\n",
      " |    |                 | |              |  |        | |\n",
      " |    |                 | |              |  |        |_| W274\n",
      " |    |                 | |              |  |          |\n",
      " |    |                 | |              |  |          | W291\n",
      " |    |                 | |              |  |\n",
      " |    |                 |_|              |  |       _ C041\n",
      " |    |                   |              |  |      |\n",
      " |    |                   |              |  |      | , W150\n",
      " |    |                   |              |  |     ,| |\n",
      " |    |                   |              |__|     || | C170\n",
      " |    |                   |                 |     || |\n",
      " |    |                   |                 |     ||_| C046\n",
      " |    |                   |                 |    _|  |\n",
      " |    |                   |                 |   | |  | W268\n",
      " |    |                   |                 |   | |\n",
      " |    |                   |                 |  _| |  , C142\n",
      " |    |                   |                 | | | |__|\n",
      " |    |                   |                 | | |    | C107\n",
      " |    |                   |                 | | |\n",
      " |    |                   |                 | | |___ C020\n",
      " |    |                   |                 | |\n",
      " |    |                   |                 | |          _ C021\n",
      " |    |                   |                 | |         |\n",
      " |    |                   |                 | |         | , C059\n",
      " |    |                   |                 | |        ,| |\n",
      " |    |                   |                 | |        || | C058\n",
      " |    |                   |                 | |        || |\n",
      " |    |                   |                 | |        ||_| C122\n",
      " |    |                   |                 | |       _|  |\n",
      " |    |                   |                 | |      | |  | W223\n",
      " |    |                   |                 | |      | |\n",
      " |    |                   |                 | |      | |  , C039\n",
      " |    |                   |                 |_|      | |__|\n",
      " |    |                   |                   |    __|    | C158\n",
      " |    |                   |                   |   |  |\n",
      " |    |                   |                   |   |  |  _ W189\n",
      " |    |                   |                   |   |  | |\n",
      " |    |                   |                   |   |  | | , W046\n",
      " |    |                   |                   |   |  | | |\n",
      " |    |                   |                   |   |  |_| | W169\n",
      " |    |                   |                   |   |    | |\n",
      " |    |                   |                   |   |    | | W185\n",
      " |    |                   |                   |   |    | |\n",
      " |    |                   |                   |   |    |_| C044\n",
      " |    |                   |                   |   |      |\n",
      " |    |                   |                   |   |      | C167\n",
      " |    |                   |                   |   |\n",
      " |    |                   |                   |   |          , W200\n",
      " |    |                   |                   |   |         _|\n",
      " |    |                   |                   |   |        | | C165\n",
      " |    |                   |                   |___|     ___|\n",
      " |    |                   |                       |    |   | , C161\n",
      " |    |                   |                       |    |   | |\n",
      " |    |                   |                       |    |   |_| C156\n",
      " |    |                   |                       |    |     |\n",
      " |    |                   |                       |    |     | C159\n",
      " |____|                   |                       |    |\n",
      "      |                   |                       |    |     , C160\n",
      "      |                   |                       |    |    _|\n",
      "      |                   |                       |    |   | | W293\n",
      "      |                   |                       |    |   |\n",
      "      |                   |                       |    |   | , W307\n",
      "      |                   |                       |    |   | |\n",
      "      |                   |                       |    |   | | C006\n",
      "      |                   |                       |    |   | |\n",
      "      |                   |                       |    |   | | W040\n",
      "      |                   |                       |    |   | |\n",
      "      |                   |                       |    |   | | W228\n",
      "      |                   |                       |____|   | |\n",
      "      |                   |                            |   | | C031\n",
      "      |                   |                            |   | |\n",
      "      |                   |                            |   | | W180\n",
      "      |                   |                            |   | |\n",
      "      |                   |                            |   | | W309\n",
      "      |                   |                            |   | |\n",
      "      |                   |                            |   | | W295\n",
      "      |                   |                            |   | |\n",
      "      |                   |                            |   | | W174\n",
      "      |                   |                            |   | |\n",
      "      |                   |                            |   | | W222\n",
      "      |                   |                            |   | |\n",
      "      |                   |                            |   | | C007\n",
      "      |                   |                            |   | |\n",
      "      |                   |                            |   | | W229\n",
      "      |                   |                            |   | |\n",
      "      |                   |                            |   | | W308\n",
      "      |                   |                            |   | |\n",
      "      |                   |                            |___| | C030\n",
      "      |                   |                                | |\n",
      "      |                   |                                | | C037\n",
      "      |                   |                                | |\n",
      "      |                   |                                | | W224\n",
      "      |                   |                                | |\n",
      "      |                   |                                | | C169\n",
      "      |                   |                                | |\n",
      "      |                   |                                | | W151\n",
      "      |                   |                                | |\n",
      "      |                   |                                | | W179\n",
      "      |                   |                                | |\n",
      "      |                   |                                | | C019\n",
      "      |                   |                                | |\n",
      "      |                   |                                | | C151\n",
      "      |                   |                                | |\n",
      "      |                   |                                | | W170\n",
      "      |                   |                                | |\n",
      "      |                   |                                | | W317\n",
      "      |                   |                                | |\n",
      "      |                   |                                | | W315\n",
      "      |                   |                                | |\n",
      "      |                   |                                | | W183\n",
      "      |                   |                                | |\n",
      "      |                   |                                | | W271\n",
      "      |                   |                                | |\n",
      "      |                   |                                | | W043\n",
      "      |                   |                                | |\n",
      "      |                   |                                | | W230\n",
      "      |                   |                                | |\n",
      "      |                   |                                |_| W312\n",
      "      |                   |                                  |\n",
      "      |                   |                                  | W264\n",
      "      |                   |\n",
      "      |                   | _________ W078\n",
      "      |                   ||\n",
      "      |                   ||             , W191\n",
      "      |                   ||       ______|\n",
      "      |                   ||      |      | W192\n",
      "      |                   ||      |\n",
      "      |                   ||      |        , W187\n",
      "      |                   ||      |       _|\n",
      "      |                    |  ____|      | | W165\n",
      "      |                    | |    |      |\n",
      "      |                    | |    |    __| , C042\n",
      "      |                    | |    |   |  | |\n",
      "      |                    | |    |   |  | | W237\n",
      "      |                    | |    |   |  | |\n",
      "      |                    |_|    |___|  |_| C166\n",
      "      |                      |        |    |\n",
      "      |                      |        |    | W044\n",
      "      |                      |        |\n",
      "      |                      |        |__ C115\n",
      "      |                      |\n",
      "      |                      |_______ W208\n",
      "      |\n",
      "      |                             _____ W074\n",
      "      |                            |\n",
      "      |                        ____|  ___ W129\n",
      "      |                       |    | |\n",
      "      |                       |    |_|___ W258\n",
      "      |                       |      |\n",
      "      |                       |      |___ W042\n",
      "      |                       |\n",
      "      |                       |            ___ W081\n",
      "      |                       |           |\n",
      "      |                       |           |___ W252\n",
      "      |                       |       ____|\n",
      "      |                       |      |    |   , W219\n",
      "      |               ________|      |    |___|\n",
      "      |              |        |      |        | W255\n",
      "      |              |        |      |\n",
      "      |              |        |      |             _ W020\n",
      "      |              |        |      |            |\n",
      "      |              |        |      |          __| , W048\n",
      "      |              |        |      |         |  | |\n",
      "      |              |        |      |         |  |_| W091\n",
      "      |              |        |      |         |    |\n",
      "      |              |        |      |      ___|    | W278\n",
      "      |              |        |      |     |   |\n",
      "      |              |        |      |     |   |  __ C002\n",
      "      |              |        |______|     |   | |\n",
      "      |              |               |     |   | |    , C015\n",
      "      |              |               |     |   |_|   _|\n",
      "      |              |               |     |     |  | | W277\n",
      "      |              |               |     |     |  |\n",
      "      |              |               |     |     |__| , W220\n",
      "      |              |               |     |        | |\n",
      "      |              |               |     |        | | W330\n",
      "      |              |               |     |        | |\n",
      "      |              |               |     |        |_| W136\n",
      "      |              |               |     |          |\n",
      "      |              |               |     |          | W077\n",
      "      |              |               |     |\n",
      "      |              |               |     |            , W066\n",
      "      |              |               |     |            |\n",
      "      |              |               |_____|       _____| W089\n",
      "      |              |                     |      |     |\n",
      "      |              |                     |    __|     | W093\n",
      "      |              |                     |   |  |\n",
      "      |              |                     |   |  |   __ W014\n",
      "      |              |                     |   |  |__|\n",
      "      |              |                     |   |     | _ W256\n",
      "      |              |                     |   |     ||\n",
      "      |              |                     |   |      | , W279\n",
      "      |              |                     |   |      |_|\n",
      "      |              |                     |   |        | W095\n",
      "      |              |                     |   |\n",
      "      |              |                     |   |          _ W037\n",
      "      |              |                     |   |         |\n",
      "      |              |                     |   |         | , W292\n",
      "      |              |                     |   |        _| |\n",
      "      |              |                     |   |       | | | W098\n",
      "      |              |                     |   |       | | |\n",
      "      |              |                     |   |       | |_| W108\n",
      "      |              |                     |___|       |   |\n",
      "      |              |                         |       |   | W100\n",
      "      |              |                         |       |\n",
      "      |              |                         |    ___|  _ W028\n",
      "      |              |                         |   |   | |\n",
      "      |              |                         |   |   | | , W131\n",
      "      |              |                         |   |   | | |\n",
      "      |              |                         |   |   | | | W069\n",
      "      |              |                         |   |   | | |\n",
      "      |              |                         |   |   | | | W287\n",
      "      |              |                         |   |   |_| |\n",
      "      |              |                         |   |     | | W076\n",
      "      |              |                         |   |     | |\n",
      "      |              |                         |   |     | | W142\n",
      "      |              |                         |   |     | |\n",
      "      |              |                         |   |     | | W094\n",
      "      |              |                         |   |     | |\n",
      "      |       _______|                         |   |     |_| W104\n",
      "      |      |       |                         |___|       |\n",
      "      |      |       |                             |       | W115\n",
      "      |      |       |                             |\n",
      "      |      |       |                             |      _ W106\n",
      "      |      |       |                             |    _|\n",
      "      |      |       |                             |   | |_ W140\n",
      "      |      |       |                             |   |\n",
      "      |      |       |                             |   |   _ W121\n",
      "      |      |       |                             |   |  |\n",
      "      |      |       |                             |   |  | , C013\n",
      "      |      |       |                             |   |  | |\n",
      "      |      |       |                             |   |  | | W141\n",
      "      |      |       |                             |   |  | |\n",
      "      |      |       |                             |   |  | | W297\n",
      "      |      |       |                             |   |  | |\n",
      "      |      |       |                             |   |  | | W015\n",
      "      |      |       |                             |___|  | |\n",
      "      |      |       |                                 | ,| | W072\n",
      "      |      |       |                                 | || |\n",
      "      |      |       |                                 | || | W025\n",
      "      |      |       |                                 | || |\n",
      "      |      |       |                                 | || | W034\n",
      "      |      |       |                                 | || |\n",
      "      |      |       |                                 | || | W215\n",
      "      |      |       |                                 | || |\n",
      "      |      |       |                                 | || | W280\n",
      "      |      |       |                                 | || |\n",
      "      |      |       |                                 | ||_| W103\n",
      "      |      |       |                                 |_|  |\n",
      "      |      |       |                                   |  | W296\n",
      "      |      |       |                                   |\n",
      "      |      |       |                                   |        , C086\n",
      "      |      |       |                                   |      __|\n",
      "      |      |       |                                   |     |  | W105\n",
      "      |      |       |                                   |   __|\n",
      "      |      |       |                                   |  |  |  , W049\n",
      "      |      |       |                                   |  |  |__|\n",
      "      |      |       |                                   |  |     | W134\n",
      "      |      |       |                                   |  |\n",
      "      |      |       |                                   |  |  , W214\n",
      "      |      |       |                                   |__|  |\n",
      "      |      |       |                                      |  | W092\n",
      "      |      |       |                                      |  |\n",
      "      |      |       |                                      |  | W096\n",
      "      |      |       |                                      |  |\n",
      "      |      |       |                                      |  | W090\n",
      "      |      |       |                                      |  |\n",
      "      |      |       |                                      |__| W099\n",
      "      |      |       |                                         |\n",
      "      |      |       |                                         | W286\n",
      "      |      |       |\n",
      "      |      |       |          ________ C102\n",
      "      |      |       |      ___|\n",
      "      |      |       |     |   |   _____ W079\n",
      "      |      |       |     |   |__|\n",
      "      |      |       |     |      |_____ W023\n",
      "      |      |       |     |\n",
      "      |      |       |     |           _____ W030\n",
      "      |      |       |     |      ____|\n",
      "      |      |       |     |     |    |_____ W097\n",
      "      |      |       |     |     |\n",
      "      |      |       |     |     |                  _ W026\n",
      "      |      |       |_____|     |                _|\n",
      "      |      |             |     |               | |_ C143\n",
      "      |      |             |     |             __|\n",
      "      |      |             |     |            |  |  _ C099\n",
      "      |      |             |     |            |  |_|\n",
      "      |      |             |     |       _____|    |_ W033\n",
      "      |      |             |     |      |     |\n",
      "      |      |             |     |      |     |   _ C066\n",
      "      |      |             |     |      |     |__|\n",
      "      |______|             |     |      |        |_ W107\n",
      "             |             |     |    __|\n",
      "             |             |_____|   |  | ______ C094\n",
      "             |                   |   |  ||\n",
      "             |                   |   |  ||          _ W178\n",
      "             |                   |   |  ||        _|\n",
      "             |                   |   |  ||       | |_ W310\n",
      "             |                   |   |   |     __|\n",
      "             |                   |   |   |    |  |  _ C125\n",
      "             |                   |   |   |    |  |_|\n",
      "             |                   |   |   |    |    | , W314\n",
      "             |                   |   |   |____|    |_|\n",
      "             |                   |   |        |      | W114\n",
      "             |                   |   |        |\n",
      "             |                   |   |        |   _ W221\n",
      "             |                   |   |        |__|\n",
      "             |                   |   |           |_ W282\n",
      "             |                   |___|\n",
      "             |                       |                _ W194\n",
      "             |                       |              _|\n",
      "             |                       |             | |_ W241\n",
      "             |                       |          ___|\n",
      "             |                       |         |   |  _ W124\n",
      "             |                       |         |   |_|\n",
      "             |                       |         |     | , W036\n",
      "             |                       |      ___|     |_|\n",
      "             |                       |     |   |       | C095\n",
      "             |                       |     |   |\n",
      "             |                       |     |   |  ___ W071\n",
      "             |                       |     |   |_|\n",
      "             |                       |     |     |___ W146\n",
      "             |                       |     |\n",
      "             |                       |     |         ___ C118\n",
      "             |                       |_____|       _|\n",
      "             |                             |      | |___ W070\n",
      "             |                             |      |\n",
      "             |                             |    __|     _ C174\n",
      "             |                             |   |  |   _|\n",
      "             |                             |   |  |  | |_ C148\n",
      "             |                             |   |  |__|\n",
      "             |                             |   |     | __ W318\n",
      "             |                             |___|     ||\n",
      "             |                                 |      | _ W213\n",
      "             |                                 |      ||\n",
      "             |                                 |       |_ C022\n",
      "             |                                 |\n",
      "             |                                 |   ___ C157\n",
      "             |                                 |__|\n",
      "             |                                    |___ W087\n",
      "             |\n",
      "             |        ___________ W047\n",
      "             |     __|\n",
      "             |    |  |    _______ W050\n",
      "             |    |  |___|\n",
      "             |    |      |_______ W261\n",
      "             |    |\n",
      "             |    |      __________ C139\n",
      "             |    |     |\n",
      "             |    |    _|  ________ W112\n",
      "             |    |   | | |\n",
      "             |    |   | |_|   _____ C001\n",
      "             |    |   |   |  |\n",
      "             |    |   |   |__| ____ C193\n",
      "             |    |   |      ||\n",
      "             |    |   |      ||   _ C036\n",
      "             |    |   |       | ,|\n",
      "             |    |   |       |_||_ C121\n",
      "             |    |   |         |\n",
      "             |    |   |         |__ W132\n",
      "             |    |   |\n",
      "             |    |   |             ____ W175\n",
      "             |    |   |            |\n",
      "             |____|   |       _____|   _ W156\n",
      "                  |   |      |     | ,|\n",
      "                  |   |      |     |_||_ C117\n",
      "                  |   |      |       |\n",
      "                  |   |      |       |__ W245\n",
      "                  |   |      |\n",
      "                  |   |      |                        , W032\n",
      "                  |   |      |                        |\n",
      "                  |   |      |                      __| C073\n",
      "                  |   |      |                     |  |\n",
      "                  |   |      |                  ___|  | W031\n",
      "                  |   |      |                 |   |\n",
      "                  |   |      |                 |   | _ C109\n",
      "                  |   |      |                 |   ||\n",
      "                  |   |      |                 |    | , C190\n",
      "                  |   |      |                 |    |_|\n",
      "                  |   |      |              ___|      | C199\n",
      "                  |   |      |             |   |\n",
      "                  |   |      |             |   |     _ W144\n",
      "                  |   |      |             |   |   ,|\n",
      "                  |   |      |             |   |  ,||_ W137\n",
      "                  |___|      |             |   |  ||\n",
      "                      |      |             |   |__||__ C077\n",
      "                      |      |             |      |\n",
      "                      |      |             |      |  _ C184\n",
      "                      |      |             |      |_|\n",
      "                      |      |             |        | , C081\n",
      "                      |      |             |        |_|\n",
      "                      |      |         ____|          | C076\n",
      "                      |      |        |    |\n",
      "                      |      |        |    |         _ C091\n",
      "                      |      |        |    |       ,|\n",
      "                      |      |        |    |      _||_ W029\n",
      "                      |      |        |    |     | |\n",
      "                      |      |        |    |     | |__ C092\n",
      "                      |      |        |    |    _|\n",
      "                      |      |        |    |   | |   _ C127\n",
      "                      |      |        |    |   | | ,|\n",
      "                      |      |        |    |   | |_||_ C060\n",
      "                      |      |        |    |   |   |\n",
      "                      |      |        |    |___|   |__ W266\n",
      "                      |      |        |        |\n",
      "                      |      |        |        |   _ C078\n",
      "                      |      |        |        | ,|\n",
      "                      |      |        |        | || , C183\n",
      "                      |      |        |        |_||_|\n",
      "                      |      |        |          |  | C128\n",
      "                      |      |        |          |\n",
      "                      |      |        |          |__ C180\n",
      "                      |      |        |\n",
      "                      |      |        |                       , W247\n",
      "                      |      |        |                      _|\n",
      "                      |      |        |                    _| | W210\n",
      "                      |      |        |                   | |\n",
      "                      |      |        |                   | |_ W080\n",
      "                      |      |        |                ___|\n",
      "                      |      |        |               |   |     , C132\n",
      "                      |______|        |               |   |    _|\n",
      "                             |        |               |   |   | | C197\n",
      "                             |        |               |   |___|\n",
      "                             |        |               |       | , C090\n",
      "                             |        |               |       | |\n",
      "                             |        |               |       |_| W205\n",
      "                             |        |               |         |\n",
      "                             |        |               |         | W204\n",
      "                             |        |               |\n",
      "                             |        |               |        _ W039\n",
      "                             |        |          _____|       |\n",
      "                             |        |         |     |      ,| , C201\n",
      "                             |        |         |     |      || |\n",
      "                             |        |         |     |      ||_| C198\n",
      "                             |     ___|         |     |      |  |\n",
      "                             |    |   |         |     |      |  | W272\n",
      "                             |    |   |         |     |    __|\n",
      "                             |    |   |         |     |   |  |  , C080\n",
      "                             |    |   |         |     |   |  |  |\n",
      "                             |    |   |         |     |   |  |  | C194\n",
      "                             |    |   |         |     |   |  |  |\n",
      "                             |    |   |         |     |   |  |__| C097\n",
      "                             |    |   |         |     |___|     |\n",
      "                             |    |   |         |         |     | C104\n",
      "                             |    |   |         |         |\n",
      "                             |    |   |      ___|         |     _ W198\n",
      "                             |    |   |     |   |         |   _|\n",
      "                             |    |   |     |   |         |  | |_ W212\n",
      "                             |    |   |     |   |         |__|\n",
      "                             |    |   |     |   |            |  _ W235\n",
      "                             |    |   |     |   |            | |\n",
      "                             |    |   |     |   |            |_| , C136\n",
      "                             |    |   |     |   |              | |\n",
      "                             |    |   |     |   |              |_| C200\n",
      "                             |    |   |     |   |                |\n",
      "                             |    |   |     |   |                | W320\n",
      "                             |    |   |     |   |\n",
      "                             |    |   |     |   |       _ C162\n",
      "                             |    |   |     |   |     _|\n",
      "                             |    |   |     |   |    | |_ C192\n",
      "                             |    |   |  ___|   |____|\n",
      "                             |    |   | |   |        | __ C047\n",
      "                             |    |   | |   |        ||\n",
      "                             |    |   | |   |        || _ W054\n",
      "                             |    |   | |   |         ||\n",
      "                             |    |   | |   |         || , C108\n",
      "                             |    |   | |   |         || |\n",
      "                             |    |   | |   |          | | W111\n",
      "                             |    |   | |   |          | |\n",
      "                             |    |   | |   |          |_| W009\n",
      "                             |    |   | |   |            |\n",
      "                             |    |   | |   |            | W203\n",
      "                             |    |   | |   |\n",
      "                             |    |   | |   |   ____ C088\n",
      "                             |    |   | |   |  |\n",
      "                             |    |   | |   |__|   __ C182\n",
      "                             |    |   | |      | ,|\n",
      "                             |    |   | |      | ||__ W001\n",
      "                             |____|   |_|      |_|\n",
      "                                  |     |        | __ C202\n",
      "                                  |     |        ||\n",
      "                                  |     |        ||  , W126\n",
      "                                  |     |         |  |\n",
      "                                  |     |         |__| C135\n",
      "                                  |     |            |\n",
      "                                  |     |            | C141\n",
      "                                  |     |\n",
      "                                  |     |        _ W075\n",
      "                                  |     |      _|\n",
      "                                  |     |     | | , C098\n",
      "                                  |     |     | |_|\n",
      "                                  |     |     |   | W035\n",
      "                                  |     |  ___|\n",
      "                                  |     | |   |     , C110\n",
      "                                  |     | |   |    _|\n",
      "                                  |     | |   |   | | C140\n",
      "                                  |     | |   |___|\n",
      "                                  |     |_|       | , C096\n",
      "                                  |       |       | |\n",
      "                                  |       |       |_| C100\n",
      "                                  |       |         |\n",
      "                                  |       |         | C129\n",
      "                                  |       |\n",
      "                                  |       |_____ W145\n",
      "                                  |\n",
      "                                  |      _____ W101\n",
      "                                  |     |\n",
      "                                  |     |      _ C131\n",
      "                                  |    _|    _|\n",
      "                                  |   | |  ,| |_ C191\n",
      "                                  |   | |  ||\n",
      "                                  |   | |__||___ W246\n",
      "                                  |   |    |\n",
      "                                  |   |    |   _ W135\n",
      "                                  |   |    |__|\n",
      "                                  |   |       |_ W133\n",
      "                                  |   |\n",
      "                                  |   |                , C024\n",
      "                                  |   |               _|\n",
      "                                  |   |             _| | C145\n",
      "                                  |   |            | |\n",
      "                                  |   |         ___| |_ C114\n",
      "                                  |___|        |   |\n",
      "                                      |        |   |  _ C155\n",
      "                                      |        |   |_|\n",
      "                                      |        |     |_ C033\n",
      "                                      |     ___|\n",
      "                                      |    |   |    __ W276\n",
      "                                      |    |   |  ,|\n",
      "                                      |    |   |  || _ C055\n",
      "                                      |    |   |  |||\n",
      "                                      |    |   |  | | , C112\n",
      "                                      |    |   |__| |_|\n",
      "                                      |    |      |   | W164\n",
      "                                      |    |      |\n",
      "                                      |    |      | __ C175\n",
      "                                      |____|      ||\n",
      "                                           |       | _ C113\n",
      "                                           |       ||\n",
      "                                           |        | , C072\n",
      "                                           |        |_|\n",
      "                                           |          | W148\n",
      "                                           |\n",
      "                                           |        _ C038\n",
      "                                           |    ___|\n",
      "                                           |   |   |_ W058\n",
      "                                           |___|\n",
      "                                               |    _ W138\n",
      "                                               |  ,|\n",
      "                                               |__||_ W248\n",
      "                                                  |\n",
      "                                                  |__ C105\n",
      "\n"
     ]
    }
   ],
   "source": [
    "Phylo.draw_ascii(tree)"
   ],
   "metadata": {
    "collapsed": false,
    "ExecuteTime": {
     "end_time": "2023-05-13T16:49:27.018594Z",
     "start_time": "2023-05-13T16:49:27.014333Z"
    }
   }
  },
  {
   "cell_type": "code",
   "execution_count": 27,
   "outputs": [
    {
     "data": {
      "text/plain": "1"
     },
     "execution_count": 27,
     "metadata": {},
     "output_type": "execute_result"
    }
   ],
   "source": [
    "Phylo.write(tree, \"tree_24.nwk\", \"newick\")"
   ],
   "metadata": {
    "collapsed": false,
    "ExecuteTime": {
     "end_time": "2023-05-13T16:50:32.278351Z",
     "start_time": "2023-05-13T16:50:32.247401Z"
    }
   }
  },
  {
   "cell_type": "code",
   "execution_count": 28,
   "outputs": [
    {
     "name": "stdout",
     "output_type": "stream",
     "text": [
      "((((((('C051', 'C119'), 'W158'), (('C014', 'C152'), 'C029')), (('C010', ('W062', 'W041')), ('W294', ('W118', 'W225')))), ('W128', (('W119', (('W193', (('W249', 'W250'), 'W060')), ((('W063', 'W010'), 'W061'), 'W226'))), ((('C035', (('C057', 'C177'), 'C017')), ('W045', 'C023')), ((((('W323', 'W003'), ('C186', ('C185', 'W021'))), (('W127', 'W326'), 'W324')), (('W328', 'W013'), (('W162', ((((((((((((('C150', 'W117'), 'C146'), 'W016'), 'W283'), 'W130'), 'C018'), 'C028'), 'C116'), 'W088'), 'W305'), 'W012'), 'C026'), 'C154')), 'C052'))), (((('C084', 'C085'), ('C056', 'C016')), (('W019', (('W018', 'W139'), 'W064')), ('C070', 'W011'))), ('C063', (('C172', 'C149'), 'C120')))))))), ((('C144', 'C134'), ('C083', (('W319', (('C079', 'C133'), ('C103', 'C196'))), ('C101', 'C106')))), (((('W207', ('C089', ('C082', 'C071'))), ((('W125', 'W038'), 'C032'), 'C138')), (('W067', ((('C074', 'C111'), 'W143'), 'C137')), ((('C003', 'W300'), (('W110', (('W285', 'W284'), (('W002', 'W004'), 'C005'))), 'W116')), ('C087', ('C189', 'C004'))))), ((('W122', 'C179'), ((('W260', 'W288'), 'W007'), (('W302', (('W329', 'W273'), 'W102')), (('C123', 'W251'), ('W257', ((('W017', 'W254'), ((((((((('W024', 'W006'), 'W057'), 'W253'), 'W005'), 'W065'), 'W275'), 'W113'), 'W303'), 'W053')), (('W022', 'C153'), ('W008', 'W123')))))))), (('W290', 'C195'), ((('W068', ('C054', 'C034')), ((('C181', ('C075', 'C067')), 'W082'), (('W327', (('W160', 'W109'), ('W120', (((('W052', 'C048'), 'W209'), 'C064'), 'W027')))), (('W056', 'C012'), ('W281', 'W059'))))), (('C187', 'C188'), (('W325', ('C130', 'C093')), 'C171')))))))), ((('W270', 'C176'), ('W306', (('W159', 'W173'), (('W304', 'W155'), (('W055', ('C163', ('W217', 'W218'))), (((('W240', 'W163'), ('W157', ((('W149', 'W233'), ('W322', 'C009')), (('W267', 'W186'), 'W234')))), (((('W313', ('C203', 'C124')), 'W171'), ((('W243', ('C050', 'C053')), 'C147'), ((('W188', (('C045', 'C027'), ('W085', 'W239'))), ('C008', (('C025', 'W086'), 'C178'))), (('W262', (('W202', 'C065'), 'W161')), ('W153', ('C040', ('W231', ((((((((((((((((((('W177', 'C061'), 'W216'), 'C062'), 'W168'), 'C069'), 'W184'), 'W311'), 'W182'), 'W316'), 'W051'), 'W227'), 'W211'), 'C011'), 'W176'), 'W166'), 'W167'), 'W301'), 'W195'), 'W242')))))))), (((('C164', ('W263', 'W265')), ('W083', ('C168', ((((('W201', 'C068'), 'W289'), 'W197'), 'W238'), 'C043')))), (('W152', 'C049'), (('W236', 'W259'), 'W244'))), (((('W084', 'C173'), ((('W269', 'W206'), 'W199'), 'W073')), ((('W154', 'W172'), (('W321', 'W147'), 'W299')), ('W181', (('W298', 'W274'), 'W291')))), (((('C041', ((('W150', 'C170'), 'C046'), 'W268')), ('C142', 'C107')), 'C020'), (((('C021', ((('C059', 'C058'), 'C122'), 'W223')), ('C039', 'C158')), ('W189', (((('W046', 'W169'), 'W185'), 'C044'), 'C167'))), ((('W200', 'C165'), (('C161', 'C156'), 'C159')), (('C160', 'W293'), ((((((((((((((((((((((((((((('W307', 'C006'), 'W040'), 'W228'), 'C031'), 'W180'), 'W309'), 'W295'), 'W174'), 'W222'), 'C007'), 'W229'), 'W308'), 'C030'), 'C037'), 'W224'), 'C169'), 'W151'), 'W179'), 'C019'), 'C151'), 'W170'), 'W317'), 'W315'), 'W183'), 'W271'), 'W043'), 'W230'), 'W312'), 'W264'))))))))), ('W078', ((('W191', 'W192'), ((('W187', 'W165'), ((('C042', 'W237'), 'C166'), 'W044')), 'C115')), 'W208')))))))), (((('W074', (('W129', 'W258'), 'W042')), ((('W081', 'W252'), ('W219', 'W255')), ((('W020', (('W048', 'W091'), 'W278')), ('C002', (('C015', 'W277'), ((('W220', 'W330'), 'W136'), 'W077')))), (((('W066', 'W089'), 'W093'), ('W014', ('W256', ('W279', 'W095')))), ((('W037', ((('W292', 'W098'), 'W108'), 'W100')), ('W028', ((((((('W131', 'W069'), 'W287'), 'W076'), 'W142'), 'W094'), 'W104'), 'W115'))), (('W106', 'W140'), (('W121', (((((((((('C013', 'W141'), 'W297'), 'W015'), 'W072'), 'W025'), 'W034'), 'W215'), 'W280'), 'W103'), 'W296')), ((('C086', 'W105'), ('W049', 'W134')), ((((('W214', 'W092'), 'W096'), 'W090'), 'W099'), 'W286'))))))))), (('C102', ('W079', 'W023')), (('W030', 'W097'), ((((('W026', 'C143'), ('C099', 'W033')), ('C066', 'W107')), ('C094', ((('W178', 'W310'), ('C125', ('W314', 'W114'))), ('W221', 'W282')))), (((('W194', 'W241'), ('W124', ('W036', 'C095'))), ('W071', 'W146')), ((('C118', 'W070'), (('C174', 'C148'), ('W318', ('W213', 'C022')))), ('C157', 'W087'))))))), (('W047', ('W050', 'W261')), (('C139', ('W112', ('C001', ('C193', (('C036', 'C121'), 'W132'))))), (('W175', (('W156', 'C117'), 'W245')), ((((((('W032', 'C073'), 'W031'), ('C109', ('C190', 'C199'))), ((('W144', 'W137'), 'C077'), ('C184', ('C081', 'C076')))), (((('C091', 'W029'), 'C092'), (('C127', 'C060'), 'W266')), (('C078', ('C183', 'C128')), 'C180'))), ((((((('W247', 'W210'), 'W080'), (('C132', 'C197'), (('C090', 'W205'), 'W204'))), ((('W039', (('C201', 'C198'), 'W272')), ((('C080', 'C194'), 'C097'), 'C104')), (('W198', 'W212'), ('W235', (('C136', 'C200'), 'W320'))))), (('C162', 'C192'), ('C047', ('W054', ((('C108', 'W111'), 'W009'), 'W203'))))), ('C088', (('C182', 'W001'), ('C202', (('W126', 'C135'), 'C141'))))), ((('W075', ('C098', 'W035')), (('C110', 'C140'), (('C096', 'C100'), 'C129'))), 'W145'))), (('W101', ((('C131', 'C191'), 'W246'), ('W135', 'W133'))), ((((('C024', 'C145'), 'C114'), ('C155', 'C033')), (('W276', ('C055', ('C112', 'W164'))), ('C175', ('C113', ('C072', 'W148'))))), (('C038', 'W058'), (('W138', 'W248'), 'C105')))))))))))\n"
     ]
    }
   ],
   "source": [
    "# Get the tuple representation of the tree\n",
    "def get_tuple(clade):\n",
    "    if clade.is_terminal():\n",
    "        return clade.name\n",
    "    else:\n",
    "        return (get_tuple(clade.clades[0]), get_tuple(clade.clades[1]))\n",
    "\n",
    "tree_tuple = get_tuple(tree.clade)\n",
    "\n",
    "print(tree_tuple)"
   ],
   "metadata": {
    "collapsed": false,
    "ExecuteTime": {
     "end_time": "2023-05-13T16:50:32.622690Z",
     "start_time": "2023-05-13T16:50:32.618915Z"
    }
   }
  },
  {
   "cell_type": "code",
   "execution_count": 29,
   "outputs": [
    {
     "data": {
      "text/plain": "[['C051', 'C119', 'W158'],\n ['C014', 'C152', 'C029'],\n ['C010'],\n ['W062', 'W041'],\n ['W294'],\n ['W118', 'W225'],\n ['W128'],\n ['W119'],\n ['W193'],\n ['W249', 'W250', 'W060'],\n ['W063', 'W010', 'W061', 'W226'],\n ['C035'],\n ['C057', 'C177', 'C017'],\n ['W045', 'C023'],\n ['W323', 'W003'],\n ['C186'],\n ['C185', 'W021'],\n ['W127', 'W326', 'W324'],\n ['W328', 'W013'],\n ['W162'],\n ['C150',\n  'W117',\n  'C146',\n  'W016',\n  'W283',\n  'W130',\n  'C018',\n  'C028',\n  'C116',\n  'W088',\n  'W305',\n  'W012',\n  'C026',\n  'C154',\n  'C052'],\n ['C084', 'C085'],\n ['C056', 'C016'],\n ['W019'],\n ['W018', 'W139', 'W064'],\n ['C070', 'W011'],\n ['C063'],\n ['C172', 'C149', 'C120'],\n ['C144', 'C134'],\n ['C083'],\n ['W319'],\n ['C079', 'C133'],\n ['C103', 'C196'],\n ['C101', 'C106'],\n ['W207'],\n ['C089'],\n ['C082', 'C071'],\n ['W125', 'W038', 'C032', 'C138'],\n ['W067'],\n ['C074', 'C111', 'W143', 'C137'],\n ['C003', 'W300'],\n ['W110'],\n ['W285', 'W284'],\n ['W002', 'W004', 'C005', 'W116'],\n ['C087'],\n ['C189', 'C004'],\n ['W122', 'C179'],\n ['W260', 'W288', 'W007'],\n ['W302'],\n ['W329', 'W273', 'W102'],\n ['C123', 'W251'],\n ['W257'],\n ['W017', 'W254'],\n ['W024',\n  'W006',\n  'W057',\n  'W253',\n  'W005',\n  'W065',\n  'W275',\n  'W113',\n  'W303',\n  'W053'],\n ['W022', 'C153'],\n ['W008', 'W123'],\n ['W290', 'C195'],\n ['W068'],\n ['C054', 'C034'],\n ['C181'],\n ['C075', 'C067', 'W082'],\n ['W327'],\n ['W160', 'W109'],\n ['W120'],\n ['W052', 'C048', 'W209', 'C064', 'W027'],\n ['W056', 'C012'],\n ['W281', 'W059'],\n ['C187', 'C188'],\n ['W325'],\n ['C130', 'C093', 'C171'],\n ['W270', 'C176'],\n ['W306'],\n ['W159', 'W173'],\n ['W304', 'W155'],\n ['W055'],\n ['C163'],\n ['W217', 'W218'],\n ['W240', 'W163'],\n ['W157'],\n ['W149', 'W233'],\n ['W322', 'C009'],\n ['W267', 'W186', 'W234'],\n ['W313'],\n ['C203', 'C124', 'W171'],\n ['W243'],\n ['C050', 'C053', 'C147'],\n ['W188'],\n ['C045', 'C027'],\n ['W085', 'W239'],\n ['C008'],\n ['C025', 'W086', 'C178'],\n ['W262'],\n ['W202', 'C065', 'W161'],\n ['W153'],\n ['C040'],\n ['W231'],\n ['W177',\n  'C061',\n  'W216',\n  'C062',\n  'W168',\n  'C069',\n  'W184',\n  'W311',\n  'W182',\n  'W316',\n  'W051',\n  'W227',\n  'W211',\n  'C011',\n  'W176',\n  'W166',\n  'W167',\n  'W301',\n  'W195',\n  'W242'],\n ['C164'],\n ['W263', 'W265'],\n ['W083'],\n ['C168'],\n ['W201', 'C068', 'W289', 'W197', 'W238', 'C043'],\n ['W152', 'C049'],\n ['W236', 'W259', 'W244'],\n ['W084', 'C173'],\n ['W269', 'W206', 'W199', 'W073'],\n ['W154', 'W172'],\n ['W321', 'W147', 'W299'],\n ['W181'],\n ['W298', 'W274', 'W291'],\n ['C041'],\n ['W150', 'C170', 'C046', 'W268'],\n ['C142', 'C107', 'C020'],\n ['C021'],\n ['C059', 'C058', 'C122', 'W223'],\n ['C039', 'C158'],\n ['W189'],\n ['W046', 'W169', 'W185', 'C044', 'C167'],\n ['W200', 'C165'],\n ['C161', 'C156', 'C159'],\n ['C160', 'W293'],\n ['W307',\n  'C006',\n  'W040',\n  'W228',\n  'C031',\n  'W180',\n  'W309',\n  'W295',\n  'W174',\n  'W222',\n  'C007',\n  'W229',\n  'W308',\n  'C030',\n  'C037',\n  'W224',\n  'C169',\n  'W151',\n  'W179',\n  'C019',\n  'C151',\n  'W170',\n  'W317',\n  'W315',\n  'W183',\n  'W271',\n  'W043',\n  'W230',\n  'W312',\n  'W264'],\n ['W078'],\n ['W191', 'W192'],\n ['W187', 'W165'],\n ['C042', 'W237', 'C166', 'W044', 'C115', 'W208'],\n ['W074'],\n ['W129', 'W258', 'W042'],\n ['W081', 'W252'],\n ['W219', 'W255'],\n ['W020'],\n ['W048', 'W091', 'W278'],\n ['C002'],\n ['C015', 'W277'],\n ['W220', 'W330', 'W136', 'W077'],\n ['W066', 'W089', 'W093'],\n ['W014'],\n ['W256'],\n ['W279', 'W095'],\n ['W037'],\n ['W292', 'W098', 'W108', 'W100'],\n ['W028'],\n ['W131', 'W069', 'W287', 'W076', 'W142', 'W094', 'W104', 'W115'],\n ['W106', 'W140'],\n ['W121'],\n ['C013',\n  'W141',\n  'W297',\n  'W015',\n  'W072',\n  'W025',\n  'W034',\n  'W215',\n  'W280',\n  'W103',\n  'W296'],\n ['C086', 'W105'],\n ['W049', 'W134'],\n ['W214', 'W092', 'W096', 'W090', 'W099', 'W286'],\n ['C102'],\n ['W079', 'W023'],\n ['W030', 'W097'],\n ['W026', 'C143'],\n ['C099', 'W033'],\n ['C066', 'W107'],\n ['C094'],\n ['W178', 'W310'],\n ['C125'],\n ['W314', 'W114'],\n ['W221', 'W282'],\n ['W194', 'W241'],\n ['W124'],\n ['W036', 'C095'],\n ['W071', 'W146'],\n ['C118', 'W070'],\n ['C174', 'C148'],\n ['W318'],\n ['W213', 'C022'],\n ['C157', 'W087'],\n ['W047'],\n ['W050', 'W261'],\n ['C139'],\n ['W112'],\n ['C001'],\n ['C193'],\n ['C036', 'C121', 'W132'],\n ['W175'],\n ['W156', 'C117', 'W245'],\n ['W032', 'C073', 'W031'],\n ['C109'],\n ['C190', 'C199'],\n ['W144', 'W137', 'C077'],\n ['C184'],\n ['C081', 'C076'],\n ['C091', 'W029', 'C092'],\n ['C127', 'C060', 'W266'],\n ['C078'],\n ['C183', 'C128', 'C180'],\n ['W247', 'W210', 'W080'],\n ['C132', 'C197'],\n ['C090', 'W205', 'W204'],\n ['W039'],\n ['C201', 'C198', 'W272'],\n ['C080', 'C194', 'C097', 'C104'],\n ['W198', 'W212'],\n ['W235'],\n ['C136', 'C200', 'W320'],\n ['C162', 'C192'],\n ['C047'],\n ['W054'],\n ['C108', 'W111', 'W009', 'W203'],\n ['C088'],\n ['C182', 'W001'],\n ['C202'],\n ['W126', 'C135', 'C141'],\n ['W075'],\n ['C098', 'W035'],\n ['C110', 'C140'],\n ['C096', 'C100', 'C129', 'W145'],\n ['W101'],\n ['C131', 'C191', 'W246'],\n ['W135', 'W133'],\n ['C024', 'C145', 'C114'],\n ['C155', 'C033'],\n ['W276'],\n ['C055'],\n ['C112', 'W164'],\n ['C175'],\n ['C113'],\n ['C072', 'W148'],\n ['C038', 'W058'],\n ['W138', 'W248', 'C105']]"
     },
     "execution_count": 29,
     "metadata": {},
     "output_type": "execute_result"
    }
   ],
   "source": [
    "s = str(tree_tuple).replace(\" \", \"\").replace(\"'\", \"\")\n",
    "non_characters = [\"(\", \")\", \"'\"]\n",
    "clusters = []\n",
    "i = 0\n",
    "while i < len(s):\n",
    "    if s[i] == \"(\":\n",
    "        clusterOpen = i\n",
    "        flag = 0\n",
    "        i+=1\n",
    "        while i < len(s):\n",
    "            if s[i] not in non_characters:\n",
    "                flag = 1\n",
    "            if s[i] == \"(\" and flag == 1:\n",
    "                break\n",
    "            i+=1\n",
    "        clusterClose = i-1\n",
    "        cluster = s[clusterOpen:clusterClose].replace(\"(\", \"\").replace(\")\", \"\").split(\",\")\n",
    "        clusters.append(cluster)\n",
    "\n",
    "clusters"
   ],
   "metadata": {
    "collapsed": false,
    "ExecuteTime": {
     "end_time": "2023-05-13T16:50:33.402495Z",
     "start_time": "2023-05-13T16:50:33.394612Z"
    }
   }
  },
  {
   "cell_type": "code",
   "execution_count": 30,
   "outputs": [
    {
     "data": {
      "text/plain": "222"
     },
     "execution_count": 30,
     "metadata": {},
     "output_type": "execute_result"
    }
   ],
   "source": [
    "len(clusters)"
   ],
   "metadata": {
    "collapsed": false,
    "ExecuteTime": {
     "end_time": "2023-05-13T16:50:34.579760Z",
     "start_time": "2023-05-13T16:50:34.567504Z"
    }
   }
  },
  {
   "cell_type": "code",
   "execution_count": 31,
   "outputs": [
    {
     "data": {
      "text/plain": "{0: ['C051', 'C119', 'W158'],\n 1: ['C014', 'C152', 'C029'],\n 2: ['C010'],\n 3: ['W062', 'W041'],\n 4: ['W294'],\n 5: ['W118', 'W225'],\n 6: ['W128'],\n 7: ['W119'],\n 8: ['W193'],\n 9: ['W249', 'W250', 'W060'],\n 10: ['W063', 'W010', 'W061', 'W226'],\n 11: ['C035'],\n 12: ['C057', 'C177', 'C017'],\n 13: ['W045', 'C023'],\n 14: ['W323', 'W003'],\n 15: ['C186'],\n 16: ['C185', 'W021'],\n 17: ['W127', 'W326', 'W324'],\n 18: ['W328', 'W013'],\n 19: ['W162'],\n 20: ['C150',\n  'W117',\n  'C146',\n  'W016',\n  'W283',\n  'W130',\n  'C018',\n  'C028',\n  'C116',\n  'W088',\n  'W305',\n  'W012',\n  'C026',\n  'C154',\n  'C052'],\n 21: ['C084', 'C085'],\n 22: ['C056', 'C016'],\n 23: ['W019'],\n 24: ['W018', 'W139', 'W064'],\n 25: ['C070', 'W011'],\n 26: ['C063'],\n 27: ['C172', 'C149', 'C120'],\n 28: ['C144', 'C134'],\n 29: ['C083'],\n 30: ['W319'],\n 31: ['C079', 'C133'],\n 32: ['C103', 'C196'],\n 33: ['C101', 'C106'],\n 34: ['W207'],\n 35: ['C089'],\n 36: ['C082', 'C071'],\n 37: ['W125', 'W038', 'C032', 'C138'],\n 38: ['W067'],\n 39: ['C074', 'C111', 'W143', 'C137'],\n 40: ['C003', 'W300'],\n 41: ['W110'],\n 42: ['W285', 'W284'],\n 43: ['W002', 'W004', 'C005', 'W116'],\n 44: ['C087'],\n 45: ['C189', 'C004'],\n 46: ['W122', 'C179'],\n 47: ['W260', 'W288', 'W007'],\n 48: ['W302'],\n 49: ['W329', 'W273', 'W102'],\n 50: ['C123', 'W251'],\n 51: ['W257'],\n 52: ['W017', 'W254'],\n 53: ['W024',\n  'W006',\n  'W057',\n  'W253',\n  'W005',\n  'W065',\n  'W275',\n  'W113',\n  'W303',\n  'W053'],\n 54: ['W022', 'C153'],\n 55: ['W008', 'W123'],\n 56: ['W290', 'C195'],\n 57: ['W068'],\n 58: ['C054', 'C034'],\n 59: ['C181'],\n 60: ['C075', 'C067', 'W082'],\n 61: ['W327'],\n 62: ['W160', 'W109'],\n 63: ['W120'],\n 64: ['W052', 'C048', 'W209', 'C064', 'W027'],\n 65: ['W056', 'C012'],\n 66: ['W281', 'W059'],\n 67: ['C187', 'C188'],\n 68: ['W325'],\n 69: ['C130', 'C093', 'C171'],\n 70: ['W270', 'C176'],\n 71: ['W306'],\n 72: ['W159', 'W173'],\n 73: ['W304', 'W155'],\n 74: ['W055'],\n 75: ['C163'],\n 76: ['W217', 'W218'],\n 77: ['W240', 'W163'],\n 78: ['W157'],\n 79: ['W149', 'W233'],\n 80: ['W322', 'C009'],\n 81: ['W267', 'W186', 'W234'],\n 82: ['W313'],\n 83: ['C203', 'C124', 'W171'],\n 84: ['W243'],\n 85: ['C050', 'C053', 'C147'],\n 86: ['W188'],\n 87: ['C045', 'C027'],\n 88: ['W085', 'W239'],\n 89: ['C008'],\n 90: ['C025', 'W086', 'C178'],\n 91: ['W262'],\n 92: ['W202', 'C065', 'W161'],\n 93: ['W153'],\n 94: ['C040'],\n 95: ['W231'],\n 96: ['W177',\n  'C061',\n  'W216',\n  'C062',\n  'W168',\n  'C069',\n  'W184',\n  'W311',\n  'W182',\n  'W316',\n  'W051',\n  'W227',\n  'W211',\n  'C011',\n  'W176',\n  'W166',\n  'W167',\n  'W301',\n  'W195',\n  'W242'],\n 97: ['C164'],\n 98: ['W263', 'W265'],\n 99: ['W083'],\n 100: ['C168'],\n 101: ['W201', 'C068', 'W289', 'W197', 'W238', 'C043'],\n 102: ['W152', 'C049'],\n 103: ['W236', 'W259', 'W244'],\n 104: ['W084', 'C173'],\n 105: ['W269', 'W206', 'W199', 'W073'],\n 106: ['W154', 'W172'],\n 107: ['W321', 'W147', 'W299'],\n 108: ['W181'],\n 109: ['W298', 'W274', 'W291'],\n 110: ['C041'],\n 111: ['W150', 'C170', 'C046', 'W268'],\n 112: ['C142', 'C107', 'C020'],\n 113: ['C021'],\n 114: ['C059', 'C058', 'C122', 'W223'],\n 115: ['C039', 'C158'],\n 116: ['W189'],\n 117: ['W046', 'W169', 'W185', 'C044', 'C167'],\n 118: ['W200', 'C165'],\n 119: ['C161', 'C156', 'C159'],\n 120: ['C160', 'W293'],\n 121: ['W307',\n  'C006',\n  'W040',\n  'W228',\n  'C031',\n  'W180',\n  'W309',\n  'W295',\n  'W174',\n  'W222',\n  'C007',\n  'W229',\n  'W308',\n  'C030',\n  'C037',\n  'W224',\n  'C169',\n  'W151',\n  'W179',\n  'C019',\n  'C151',\n  'W170',\n  'W317',\n  'W315',\n  'W183',\n  'W271',\n  'W043',\n  'W230',\n  'W312',\n  'W264'],\n 122: ['W078'],\n 123: ['W191', 'W192'],\n 124: ['W187', 'W165'],\n 125: ['C042', 'W237', 'C166', 'W044', 'C115', 'W208'],\n 126: ['W074'],\n 127: ['W129', 'W258', 'W042'],\n 128: ['W081', 'W252'],\n 129: ['W219', 'W255'],\n 130: ['W020'],\n 131: ['W048', 'W091', 'W278'],\n 132: ['C002'],\n 133: ['C015', 'W277'],\n 134: ['W220', 'W330', 'W136', 'W077'],\n 135: ['W066', 'W089', 'W093'],\n 136: ['W014'],\n 137: ['W256'],\n 138: ['W279', 'W095'],\n 139: ['W037'],\n 140: ['W292', 'W098', 'W108', 'W100'],\n 141: ['W028'],\n 142: ['W131', 'W069', 'W287', 'W076', 'W142', 'W094', 'W104', 'W115'],\n 143: ['W106', 'W140'],\n 144: ['W121'],\n 145: ['C013',\n  'W141',\n  'W297',\n  'W015',\n  'W072',\n  'W025',\n  'W034',\n  'W215',\n  'W280',\n  'W103',\n  'W296'],\n 146: ['C086', 'W105'],\n 147: ['W049', 'W134'],\n 148: ['W214', 'W092', 'W096', 'W090', 'W099', 'W286'],\n 149: ['C102'],\n 150: ['W079', 'W023'],\n 151: ['W030', 'W097'],\n 152: ['W026', 'C143'],\n 153: ['C099', 'W033'],\n 154: ['C066', 'W107'],\n 155: ['C094'],\n 156: ['W178', 'W310'],\n 157: ['C125'],\n 158: ['W314', 'W114'],\n 159: ['W221', 'W282'],\n 160: ['W194', 'W241'],\n 161: ['W124'],\n 162: ['W036', 'C095'],\n 163: ['W071', 'W146'],\n 164: ['C118', 'W070'],\n 165: ['C174', 'C148'],\n 166: ['W318'],\n 167: ['W213', 'C022'],\n 168: ['C157', 'W087'],\n 169: ['W047'],\n 170: ['W050', 'W261'],\n 171: ['C139'],\n 172: ['W112'],\n 173: ['C001'],\n 174: ['C193'],\n 175: ['C036', 'C121', 'W132'],\n 176: ['W175'],\n 177: ['W156', 'C117', 'W245'],\n 178: ['W032', 'C073', 'W031'],\n 179: ['C109'],\n 180: ['C190', 'C199'],\n 181: ['W144', 'W137', 'C077'],\n 182: ['C184'],\n 183: ['C081', 'C076'],\n 184: ['C091', 'W029', 'C092'],\n 185: ['C127', 'C060', 'W266'],\n 186: ['C078'],\n 187: ['C183', 'C128', 'C180'],\n 188: ['W247', 'W210', 'W080'],\n 189: ['C132', 'C197'],\n 190: ['C090', 'W205', 'W204'],\n 191: ['W039'],\n 192: ['C201', 'C198', 'W272'],\n 193: ['C080', 'C194', 'C097', 'C104'],\n 194: ['W198', 'W212'],\n 195: ['W235'],\n 196: ['C136', 'C200', 'W320'],\n 197: ['C162', 'C192'],\n 198: ['C047'],\n 199: ['W054'],\n 200: ['C108', 'W111', 'W009', 'W203'],\n 201: ['C088'],\n 202: ['C182', 'W001'],\n 203: ['C202'],\n 204: ['W126', 'C135', 'C141'],\n 205: ['W075'],\n 206: ['C098', 'W035'],\n 207: ['C110', 'C140'],\n 208: ['C096', 'C100', 'C129', 'W145'],\n 209: ['W101'],\n 210: ['C131', 'C191', 'W246'],\n 211: ['W135', 'W133'],\n 212: ['C024', 'C145', 'C114'],\n 213: ['C155', 'C033'],\n 214: ['W276'],\n 215: ['C055'],\n 216: ['C112', 'W164'],\n 217: ['C175'],\n 218: ['C113'],\n 219: ['C072', 'W148'],\n 220: ['C038', 'W058'],\n 221: ['W138', 'W248', 'C105']}"
     },
     "execution_count": 31,
     "metadata": {},
     "output_type": "execute_result"
    }
   ],
   "source": [
    "clusters_dict = dict()\n",
    "for n, cluster in enumerate(clusters):\n",
    "    clusters_dict[n] = cluster\n",
    "clusters_dict"
   ],
   "metadata": {
    "collapsed": false,
    "ExecuteTime": {
     "end_time": "2023-05-13T16:50:35.427548Z",
     "start_time": "2023-05-13T16:50:35.422254Z"
    }
   }
  },
  {
   "cell_type": "code",
   "execution_count": 32,
   "outputs": [
    {
     "data": {
      "text/plain": "{'C051': 0,\n 'C119': 0,\n 'W158': 0,\n 'C014': 1,\n 'C152': 1,\n 'C029': 1,\n 'C010': 2,\n 'W062': 3,\n 'W041': 3,\n 'W294': 4,\n 'W118': 5,\n 'W225': 5,\n 'W128': 6,\n 'W119': 7,\n 'W193': 8,\n 'W249': 9,\n 'W250': 9,\n 'W060': 9,\n 'W063': 10,\n 'W010': 10,\n 'W061': 10,\n 'W226': 10,\n 'C035': 11,\n 'C057': 12,\n 'C177': 12,\n 'C017': 12,\n 'W045': 13,\n 'C023': 13,\n 'W323': 14,\n 'W003': 14,\n 'C186': 15,\n 'C185': 16,\n 'W021': 16,\n 'W127': 17,\n 'W326': 17,\n 'W324': 17,\n 'W328': 18,\n 'W013': 18,\n 'W162': 19,\n 'C150': 20,\n 'W117': 20,\n 'C146': 20,\n 'W016': 20,\n 'W283': 20,\n 'W130': 20,\n 'C018': 20,\n 'C028': 20,\n 'C116': 20,\n 'W088': 20,\n 'W305': 20,\n 'W012': 20,\n 'C026': 20,\n 'C154': 20,\n 'C052': 20,\n 'C084': 21,\n 'C085': 21,\n 'C056': 22,\n 'C016': 22,\n 'W019': 23,\n 'W018': 24,\n 'W139': 24,\n 'W064': 24,\n 'C070': 25,\n 'W011': 25,\n 'C063': 26,\n 'C172': 27,\n 'C149': 27,\n 'C120': 27,\n 'C144': 28,\n 'C134': 28,\n 'C083': 29,\n 'W319': 30,\n 'C079': 31,\n 'C133': 31,\n 'C103': 32,\n 'C196': 32,\n 'C101': 33,\n 'C106': 33,\n 'W207': 34,\n 'C089': 35,\n 'C082': 36,\n 'C071': 36,\n 'W125': 37,\n 'W038': 37,\n 'C032': 37,\n 'C138': 37,\n 'W067': 38,\n 'C074': 39,\n 'C111': 39,\n 'W143': 39,\n 'C137': 39,\n 'C003': 40,\n 'W300': 40,\n 'W110': 41,\n 'W285': 42,\n 'W284': 42,\n 'W002': 43,\n 'W004': 43,\n 'C005': 43,\n 'W116': 43,\n 'C087': 44,\n 'C189': 45,\n 'C004': 45,\n 'W122': 46,\n 'C179': 46,\n 'W260': 47,\n 'W288': 47,\n 'W007': 47,\n 'W302': 48,\n 'W329': 49,\n 'W273': 49,\n 'W102': 49,\n 'C123': 50,\n 'W251': 50,\n 'W257': 51,\n 'W017': 52,\n 'W254': 52,\n 'W024': 53,\n 'W006': 53,\n 'W057': 53,\n 'W253': 53,\n 'W005': 53,\n 'W065': 53,\n 'W275': 53,\n 'W113': 53,\n 'W303': 53,\n 'W053': 53,\n 'W022': 54,\n 'C153': 54,\n 'W008': 55,\n 'W123': 55,\n 'W290': 56,\n 'C195': 56,\n 'W068': 57,\n 'C054': 58,\n 'C034': 58,\n 'C181': 59,\n 'C075': 60,\n 'C067': 60,\n 'W082': 60,\n 'W327': 61,\n 'W160': 62,\n 'W109': 62,\n 'W120': 63,\n 'W052': 64,\n 'C048': 64,\n 'W209': 64,\n 'C064': 64,\n 'W027': 64,\n 'W056': 65,\n 'C012': 65,\n 'W281': 66,\n 'W059': 66,\n 'C187': 67,\n 'C188': 67,\n 'W325': 68,\n 'C130': 69,\n 'C093': 69,\n 'C171': 69,\n 'W270': 70,\n 'C176': 70,\n 'W306': 71,\n 'W159': 72,\n 'W173': 72,\n 'W304': 73,\n 'W155': 73,\n 'W055': 74,\n 'C163': 75,\n 'W217': 76,\n 'W218': 76,\n 'W240': 77,\n 'W163': 77,\n 'W157': 78,\n 'W149': 79,\n 'W233': 79,\n 'W322': 80,\n 'C009': 80,\n 'W267': 81,\n 'W186': 81,\n 'W234': 81,\n 'W313': 82,\n 'C203': 83,\n 'C124': 83,\n 'W171': 83,\n 'W243': 84,\n 'C050': 85,\n 'C053': 85,\n 'C147': 85,\n 'W188': 86,\n 'C045': 87,\n 'C027': 87,\n 'W085': 88,\n 'W239': 88,\n 'C008': 89,\n 'C025': 90,\n 'W086': 90,\n 'C178': 90,\n 'W262': 91,\n 'W202': 92,\n 'C065': 92,\n 'W161': 92,\n 'W153': 93,\n 'C040': 94,\n 'W231': 95,\n 'W177': 96,\n 'C061': 96,\n 'W216': 96,\n 'C062': 96,\n 'W168': 96,\n 'C069': 96,\n 'W184': 96,\n 'W311': 96,\n 'W182': 96,\n 'W316': 96,\n 'W051': 96,\n 'W227': 96,\n 'W211': 96,\n 'C011': 96,\n 'W176': 96,\n 'W166': 96,\n 'W167': 96,\n 'W301': 96,\n 'W195': 96,\n 'W242': 96,\n 'C164': 97,\n 'W263': 98,\n 'W265': 98,\n 'W083': 99,\n 'C168': 100,\n 'W201': 101,\n 'C068': 101,\n 'W289': 101,\n 'W197': 101,\n 'W238': 101,\n 'C043': 101,\n 'W152': 102,\n 'C049': 102,\n 'W236': 103,\n 'W259': 103,\n 'W244': 103,\n 'W084': 104,\n 'C173': 104,\n 'W269': 105,\n 'W206': 105,\n 'W199': 105,\n 'W073': 105,\n 'W154': 106,\n 'W172': 106,\n 'W321': 107,\n 'W147': 107,\n 'W299': 107,\n 'W181': 108,\n 'W298': 109,\n 'W274': 109,\n 'W291': 109,\n 'C041': 110,\n 'W150': 111,\n 'C170': 111,\n 'C046': 111,\n 'W268': 111,\n 'C142': 112,\n 'C107': 112,\n 'C020': 112,\n 'C021': 113,\n 'C059': 114,\n 'C058': 114,\n 'C122': 114,\n 'W223': 114,\n 'C039': 115,\n 'C158': 115,\n 'W189': 116,\n 'W046': 117,\n 'W169': 117,\n 'W185': 117,\n 'C044': 117,\n 'C167': 117,\n 'W200': 118,\n 'C165': 118,\n 'C161': 119,\n 'C156': 119,\n 'C159': 119,\n 'C160': 120,\n 'W293': 120,\n 'W307': 121,\n 'C006': 121,\n 'W040': 121,\n 'W228': 121,\n 'C031': 121,\n 'W180': 121,\n 'W309': 121,\n 'W295': 121,\n 'W174': 121,\n 'W222': 121,\n 'C007': 121,\n 'W229': 121,\n 'W308': 121,\n 'C030': 121,\n 'C037': 121,\n 'W224': 121,\n 'C169': 121,\n 'W151': 121,\n 'W179': 121,\n 'C019': 121,\n 'C151': 121,\n 'W170': 121,\n 'W317': 121,\n 'W315': 121,\n 'W183': 121,\n 'W271': 121,\n 'W043': 121,\n 'W230': 121,\n 'W312': 121,\n 'W264': 121,\n 'W078': 122,\n 'W191': 123,\n 'W192': 123,\n 'W187': 124,\n 'W165': 124,\n 'C042': 125,\n 'W237': 125,\n 'C166': 125,\n 'W044': 125,\n 'C115': 125,\n 'W208': 125,\n 'W074': 126,\n 'W129': 127,\n 'W258': 127,\n 'W042': 127,\n 'W081': 128,\n 'W252': 128,\n 'W219': 129,\n 'W255': 129,\n 'W020': 130,\n 'W048': 131,\n 'W091': 131,\n 'W278': 131,\n 'C002': 132,\n 'C015': 133,\n 'W277': 133,\n 'W220': 134,\n 'W330': 134,\n 'W136': 134,\n 'W077': 134,\n 'W066': 135,\n 'W089': 135,\n 'W093': 135,\n 'W014': 136,\n 'W256': 137,\n 'W279': 138,\n 'W095': 138,\n 'W037': 139,\n 'W292': 140,\n 'W098': 140,\n 'W108': 140,\n 'W100': 140,\n 'W028': 141,\n 'W131': 142,\n 'W069': 142,\n 'W287': 142,\n 'W076': 142,\n 'W142': 142,\n 'W094': 142,\n 'W104': 142,\n 'W115': 142,\n 'W106': 143,\n 'W140': 143,\n 'W121': 144,\n 'C013': 145,\n 'W141': 145,\n 'W297': 145,\n 'W015': 145,\n 'W072': 145,\n 'W025': 145,\n 'W034': 145,\n 'W215': 145,\n 'W280': 145,\n 'W103': 145,\n 'W296': 145,\n 'C086': 146,\n 'W105': 146,\n 'W049': 147,\n 'W134': 147,\n 'W214': 148,\n 'W092': 148,\n 'W096': 148,\n 'W090': 148,\n 'W099': 148,\n 'W286': 148,\n 'C102': 149,\n 'W079': 150,\n 'W023': 150,\n 'W030': 151,\n 'W097': 151,\n 'W026': 152,\n 'C143': 152,\n 'C099': 153,\n 'W033': 153,\n 'C066': 154,\n 'W107': 154,\n 'C094': 155,\n 'W178': 156,\n 'W310': 156,\n 'C125': 157,\n 'W314': 158,\n 'W114': 158,\n 'W221': 159,\n 'W282': 159,\n 'W194': 160,\n 'W241': 160,\n 'W124': 161,\n 'W036': 162,\n 'C095': 162,\n 'W071': 163,\n 'W146': 163,\n 'C118': 164,\n 'W070': 164,\n 'C174': 165,\n 'C148': 165,\n 'W318': 166,\n 'W213': 167,\n 'C022': 167,\n 'C157': 168,\n 'W087': 168,\n 'W047': 169,\n 'W050': 170,\n 'W261': 170,\n 'C139': 171,\n 'W112': 172,\n 'C001': 173,\n 'C193': 174,\n 'C036': 175,\n 'C121': 175,\n 'W132': 175,\n 'W175': 176,\n 'W156': 177,\n 'C117': 177,\n 'W245': 177,\n 'W032': 178,\n 'C073': 178,\n 'W031': 178,\n 'C109': 179,\n 'C190': 180,\n 'C199': 180,\n 'W144': 181,\n 'W137': 181,\n 'C077': 181,\n 'C184': 182,\n 'C081': 183,\n 'C076': 183,\n 'C091': 184,\n 'W029': 184,\n 'C092': 184,\n 'C127': 185,\n 'C060': 185,\n 'W266': 185,\n 'C078': 186,\n 'C183': 187,\n 'C128': 187,\n 'C180': 187,\n 'W247': 188,\n 'W210': 188,\n 'W080': 188,\n 'C132': 189,\n 'C197': 189,\n 'C090': 190,\n 'W205': 190,\n 'W204': 190,\n 'W039': 191,\n 'C201': 192,\n 'C198': 192,\n 'W272': 192,\n 'C080': 193,\n 'C194': 193,\n 'C097': 193,\n 'C104': 193,\n 'W198': 194,\n 'W212': 194,\n 'W235': 195,\n 'C136': 196,\n 'C200': 196,\n 'W320': 196,\n 'C162': 197,\n 'C192': 197,\n 'C047': 198,\n 'W054': 199,\n 'C108': 200,\n 'W111': 200,\n 'W009': 200,\n 'W203': 200,\n 'C088': 201,\n 'C182': 202,\n 'W001': 202,\n 'C202': 203,\n 'W126': 204,\n 'C135': 204,\n 'C141': 204,\n 'W075': 205,\n 'C098': 206,\n 'W035': 206,\n 'C110': 207,\n 'C140': 207,\n 'C096': 208,\n 'C100': 208,\n 'C129': 208,\n 'W145': 208,\n 'W101': 209,\n 'C131': 210,\n 'C191': 210,\n 'W246': 210,\n 'W135': 211,\n 'W133': 211,\n 'C024': 212,\n 'C145': 212,\n 'C114': 212,\n 'C155': 213,\n 'C033': 213,\n 'W276': 214,\n 'C055': 215,\n 'C112': 216,\n 'W164': 216,\n 'C175': 217,\n 'C113': 218,\n 'C072': 219,\n 'W148': 219,\n 'C038': 220,\n 'W058': 220,\n 'W138': 221,\n 'W248': 221,\n 'C105': 221}"
     },
     "execution_count": 32,
     "metadata": {},
     "output_type": "execute_result"
    }
   ],
   "source": [
    "sequence_cluster_dict = dict()\n",
    "for k, v in clusters_dict.items():\n",
    "    for cultivar in v:\n",
    "        sequence_cluster_dict[cultivar] = k\n",
    "sequence_cluster_dict"
   ],
   "metadata": {
    "collapsed": false,
    "ExecuteTime": {
     "end_time": "2023-05-13T16:50:36.570388Z",
     "start_time": "2023-05-13T16:50:36.549049Z"
    }
   }
  },
  {
   "cell_type": "code",
   "execution_count": 33,
   "outputs": [
    {
     "data": {
      "text/plain": "{0: ['GAAAGCCGTATGTATGTTAACCTT',\n  'GAAAGCCGTATGTATGTTAACTTT',\n  'GAAAGCCGTATGTGTGTTAACTTT'],\n 1: ['GGAAGCCGTATGTATACCAACCTT',\n  'GAAAGCGGTATGTGTACCAACTTT',\n  'GAAAGCCGTATGTGTACCAACCTT'],\n 2: ['GAGGGCCGTATGTATGCCAACCTT'],\n 3: ['GAGGGCCATAGGTATGCCAACCTT', 'GAGGGCCATAGGTAAGCCAACCTT'],\n 4: ['GGGGGCCGTATTAATGCCAACTTT'],\n 5: ['GAGGGCGGTATGAATGCCAACTTT', 'GAGGGCGGTATGTGTGCCAACTTT'],\n 6: ['GAAAGCCACAGGTAAGCCTACCTT'],\n 7: ['AAAAGCCATAGGTGAGCCAACTTT'],\n 8: ['GAAAGCCATAGGTGAGCCAACCTT'],\n 9: ['GAAAGCCATAGGTGAACCAACCTT'],\n 10: ['GAAAGCCATAGGTGTGCCAACTTT', 'GAAAGCCATAGGTGTGCCAACCTT'],\n 11: ['AAAGGCCATAGGTGTACCAACCTT'],\n 12: ['GAAGGCCATAGGTGTACCAACCTT'],\n 13: ['GAGGGCCATAGGTGTACTAACCTT', 'GAGGGCCATAGGTGTACCAACCTT'],\n 14: ['GAAAGCCATAGGTATACCAACCTC', 'GAAAGCCATAGGTAAACCAACCTC'],\n 15: ['GAGAGCCATAGGTATACCAATCTC'],\n 16: ['GAAAGCCATAGGTATACCAATCTC'],\n 17: ['GAGAGCCATAGGTATACCAACCTC', 'GAGAGCCATAGGTGTACCAACCTC'],\n 18: ['GAAAGCCATAGGTATACCACCCTT', 'GAAAGCCATAGGTATACCAACCTT'],\n 19: ['GAAAGCCATAGGAGTACCAACCTT'],\n 20: ['GAAAGCCATAGGTGTACCAACCTT', 'GAAAGCCATAGGAGTACCAACCTC'],\n 21: ['GAGAGCCATAGGTATACCAACCCC', 'GAGAGCCATAGGTGTACCAACCCC'],\n 22: ['GAGAGCCATAGGTGTACCAACCCT'],\n 23: ['GGGAGCCATAGGTGTACCAACCTT'],\n 24: ['GAGAGCCATAGGTGTACCAACCTT'],\n 25: ['GAGAGCCATAGGTGAACCAACCTT', 'AAGAGCCATAGGTGAACCAACCTT'],\n 26: ['GAAAGCCATAGGTGAACCAACCCC'],\n 27: ['GAAAGCCATAGGTGAACCAACCCT'],\n 28: ['GGGAGCCATAGTAGAGTTACTCCC', 'AGGAGCCATAGTAGAGTTACTCCC'],\n 29: ['GGGGGCCATAGGTGAGTTACTTCT'],\n 30: ['AGGGGCCATAGGTAAGTTACTCCC'],\n 31: ['AGGGGCCATAGGTGAGTTACTCTC'],\n 32: ['AGGGGCCATAGGTAAGTTACTCTC'],\n 33: ['AAGGGCCATAGGTGAGTTACTCCC', 'GAGAGCCATAGGTGAGTTACTCCC'],\n 34: ['GAAAGCCATAGGTGTGTTACTCTT'],\n 35: ['GAGAGCCATAGGAGTGTTACTCTT'],\n 36: ['AAGAGCCATAGGAGTGTTACTCTC', 'GAGAGCCATAGGAGTGTTACTCTC'],\n 37: ['GAAAGCCATAGGTGTACCTCTCTT',\n  'AAAGGCCATAGGTGTACTACTCTT',\n  'AAGAGCCATAGGAGTACTACTCTC',\n  'AAGAGCCATAGGTGTACCACTCTT'],\n 38: ['AAGGGCCATAGGAGAGCCACTTTT'],\n 39: ['AAGGGCCATAGGAGTACCACTCTC',\n  'AGGAGCCATAGGAGAACCACTCCC',\n  'AAGGGCCATAGGAGAACCACTCCC',\n  'AAGGGCCATAGTAGAGCCACTCCC'],\n 40: ['GAGGGCCATAGTAGTGCCAACTTT', 'GAGAGCCATAGGAGTGCCAACCTT'],\n 41: ['GGGGGCCATAGTAGAGCCAACTTC'],\n 42: ['GAGGGCCATAGTAAAGCCAACTTC', 'GAGGGCCATAGTAAAGCCAACTTT'],\n 43: ['AAGGGCCATAGTAAAGCCAACCTT',\n  'AAGGGCCATAGTAAAGCCAACTTC',\n  'AGGGGCCATAGTAAAGCCAACTTC'],\n 44: ['GAGGGCCATAGTAGAACTAACCTT'],\n 45: ['GAGGGCCATAGGAGAACTACTCTC', 'GAGGGCCATAGGAGAACCACTCTT'],\n 46: ['GAGGGCCATAGGTATGTCAATCTC', 'AAGGGCCATAGGTATACCAATCTC'],\n 47: ['AAGGGCCATAGGTAAGCCAACTTC',\n  'AAGGGCCATAGGTGAGCCAACTTC',\n  'AAGGGCCATAGGTATGCCAACTTC'],\n 48: ['AGGGGCCATAGGTATGCCAACCTT'],\n 49: ['AGGGGCCATAGGTATGCCAACTTC',\n  'AGGGGCCATAGGTAAGCCAACTTC',\n  'AGGGGCCATAGGTAAGCCAACCTC'],\n 50: ['GGGGGCCATAGGTAAACCAACCTT', 'AGGGGCCATAGGTAAACCAACTTT'],\n 51: ['AGGGGCGATAGGTAAGCCAACTTT'],\n 52: ['GGGGGCCATAGGTGAGCCAACTTT'],\n 53: ['GGGGGCCATAGGTAAGCCAACTTT'],\n 54: ['AAGGGCCATAGGTGAGCCAACTTT', 'GAGGGCCATAGGTGAGCCAACTTT'],\n 55: ['AAGGGCCATAGGTAAGCCAACTTT', 'GAGGGCCATAGGTAAGCCAACTTT'],\n 56: ['AAGGGCCATAGGTATATTAACCTT', 'GAGAGCCATAGGTATGTTAACCCT'],\n 57: ['GAGGGCCATAGTTGTGTTAACCTT'],\n 58: ['GAGGGCCATAGGTGTGTTAACCTT'],\n 59: ['AAGAGCCATAGGAGTGTTAACCTT'],\n 60: ['GAGAGCCATAGGAGTGTTAACCTC', 'AAGAGCCATAGGAGTGTTAACCTC'],\n 61: ['GAAAGCCATAGGTGTGTTAACCTC'],\n 62: ['GAAAGCCATAGGAGTGTTAACCTT'],\n 63: ['GAAAGCCATAGGTGTGTTAACTTT'],\n 64: ['GAAAGCCATAGGTGTGTTAACCTT'],\n 65: ['GAGAGCCATAGGTGAGTTAACCTT', 'GAAAGCCATAGGTGAGTTAACCTT'],\n 66: ['GAGAGCCATAGGTGTGTTAACCTT', 'AAGAGCCATAGGTGTGTTAACCTT'],\n 67: ['AAGGGCCATAGGAGTGTTACTCTT', 'AAGGGCCATAGGAGTGTTAACCTT'],\n 68: ['AAGGGCCATAGGTGAGTTAACCTC'],\n 69: ['AAGGGCCATAGGAGAGTTAACCTC', 'AAGGGCCATAGGTGTGTTAACCTC'],\n 70: ['GGGGGCGGTATTAATACTACCTTC', 'GGGGACGGTATTAATGTTACCTTC'],\n 71: ['GGGAGCGGTATGTATGTCTCCCCC'],\n 72: ['GGGAGCGGTAGGTATACCACCTTT', 'AGGAGCCATAGGAATACCACCCTT'],\n 73: ['GGGGGCCATAGGTATGTTTACTTT', 'GGAAGCGGTAGGTATGTTTACTTT'],\n 74: ['GGGGGCGATAGGTAAGTTACCCTT'],\n 75: ['GGGGGCGATATGAATGCTACCTTT'],\n 76: ['GGGGGCCATAGGAATGCTACCTTT', 'GGGGGCCATAGGTATGCTACCTTT'],\n 77: ['GGGAGCCGTAGTAATGTTACCCTT', 'GGGAGCCGTAGTTATGTTACCTTT'],\n 78: ['GGGAGCCATAGGAATGTTACCTTT'],\n 79: ['GGGAGCCGTATTAATGTTACCTTT'],\n 80: ['GGGAGCCGTATGAATGTTACCTTT'],\n 81: ['GGGAGCCGTATGTATGTTACCTTT'],\n 82: ['GGGAGCGGTATTTATGTTACCCTT'],\n 83: ['GGGAGCGGTATGTATGTTACCCTT', 'GGGAGCGGTATTAATGTTACCCTT'],\n 84: ['GGGAGCGGTATGTATGCCACCTTT'],\n 85: ['GGGAGCGGTATGTATGCTAACTTT', 'GGGAGCGGTATGTATGCTACCTTT'],\n 86: ['AGGAGCGGTATGTATGTTACCTTC'],\n 87: ['GGGAGCGGTATGAATGTTACCTTC'],\n 88: ['GGGAGCGGTATGTATGTTACCTTC'],\n 89: ['GGGGGCGGTATGTATGTTACCTTC'],\n 90: ['GGGGGCGGTATGTATGTTACCTTT'],\n 91: ['GGGAGCGGTAGGTATGTCACCTTT'],\n 92: ['GGGAGCGGTAGGTATGTTACCTTT'],\n 93: ['GAGAGCGGTATGTATGTTACCTTT'],\n 94: ['GGGAGCGGTATGTATGTTACCTCT'],\n 95: ['GGGAGCGGTATGTGTGTTACCTTT'],\n 96: ['GGGAGCGGTATGTATGTTACCTTT'],\n 97: ['GGGAGCGATATGAATGTTACCTTT'],\n 98: ['GGGAGCGATATTAATGTTACCTTT'],\n 99: ['GGGAGCGGTATGAATGTCACCTTT'],\n 100: ['GGGAGCGGTAGGAATGTTACCTTT'],\n 101: ['GGGAGCGGTATGAATGTTACCTTT'],\n 102: ['GGGAGCGGTATTAATGCTACCTTT', 'GGGAGCGGTATGAATGCTACCTTT'],\n 103: ['GGGAGCGGTATTAATGCCACCTTT'],\n 104: ['GGGAGCGGTATTAATGTTTCCTTC'],\n 105: ['GGGAGCGGTATTAATGTTACCTTC'],\n 106: ['GGGAGCGGTATGAATGTTTCCTTT'],\n 107: ['GGGAGCGGTATGTATGTTTCCTTT'],\n 108: ['GGGAGCGGTATTAGTGTTTCCTTT'],\n 109: ['GGGAGCGGTATTAATGTTTCCTTT'],\n 110: ['GGGAGCGGTAGTAATGTTACCTTC'],\n 111: ['GGGAGCGGTAGTAATGTTACCTTT'],\n 112: ['GGGAGCGGTAGTAATGTTACCTCT', 'GGGAGCGGTAGTAATGTTTCCTTT'],\n 113: ['GGGAGCGGTATTAATGCTACCTCT'],\n 114: ['GGGAGCGGTATTAATGTTACCTCT'],\n 115: ['GGGGGCGGTATTAATGTTACCTCT'],\n 116: ['GGGGGCGGTAGTAATGTTACCTTT'],\n 117: ['GGGGGCGGTATTAATGTTACCTTT'],\n 118: ['GGGAACGGTATTAATGTTACCTTT'],\n 119: ['GGGAACGGTATTAATGTTACCTCT'],\n 120: ['GGGAGCGGTATTTATGTTACCTTT'],\n 121: ['GGGAGCGGTATTAATGTTACCTTT'],\n 122: ['GGGGACGGTATGTATGTTACCTCT'],\n 123: ['GGGGGCCGTATGAATGTTTCCTTC'],\n 124: ['GGGGGCCGTATGAATGTTACCTTT'],\n 125: ['GGGGGCCGTATGTAAGTTAACTTT',\n  'GGGGGCGGTATGAATGTTAACTTT',\n  'GGGGGCGGTATGAATGTTACCTTT'],\n 126: ['GGGGGCCACCGTAATACTACCTTC'],\n 127: ['GGGGGCCACCGTAATACCACCCCC',\n  'GGGGGCCACCGTAGTACCACCCTC',\n  'GGGGGCCACCGTAATACCTCCCTC'],\n 128: ['GGGGGCCACCGGTATACCTCCCCC', 'GGGGGCCACCGGTGTACCACCCCC'],\n 129: ['GGGGGCCACCGGTGTGCCTCCCCC'],\n 130: ['GGGGGCCACCGGAATGTCTCCTCC'],\n 131: ['GGGGGCCACCGGAATGTCTCCCCC'],\n 132: ['GGGGGCCACCGTAATGCCTCCCCC'],\n 133: ['GGGGGCCACAGTAATGTCTCCCCC'],\n 134: ['GGGGGCCACCGTAATGTCTCCCCC'],\n 135: ['GGGGGCCACCGGTATGTCTCCTTT'],\n 136: ['GGGGGCCACCGGTATGTCTCCCCT'],\n 137: ['GGGGGCCACCGGTATGTCACCCCC'],\n 138: ['GGGGGCCACCGGTATGTCTCCCCC'],\n 139: ['GGGGGCCACCGGTATGTTTCCCTC'],\n 140: ['GGGGGCCACCGGAATGTTTCCCTC'],\n 141: ['GGGGGTCACCGGTATGTCTCCCTC'],\n 142: ['GGGGGCCACCGGTATGTCTCCCTC'],\n 143: ['GGGGGCCACCGTAATGTCTCCCTT', 'GGGGGCCACCGGAATGTCTCCCTT'],\n 144: ['GGGGGCCACCGTTATGTCTCCCTC'],\n 145: ['GGGGGCCACCGTAATGTCTCCCTC'],\n 146: ['GGGGGCCACCGTAATGTCACCCTC'],\n 147: ['GGGGGCCACCGGAATGTCACCCTC'],\n 148: ['GGGGGCCACCGGAATGTCTCCCTC'],\n 149: ['GGGAACCACCGGTATACTACCTTT'],\n 150: ['GGGGACCACCGGAATGCTTCCTTT', 'GGGGGCCACCGGTATGCTTCCTCT'],\n 151: ['GAGAGCCATCGGTATGTCACCCTC', 'GGGAGCCACCGGTATGTCACCCTT'],\n 152: ['GGGGACCACCGGTATGTTTCCTTC', 'GGGGACCACCGGTATGTTACCTTC'],\n 153: ['GGGAACCATCGGTATGTTTCCTTC', 'GGGGACCATCGGTATGTTTCCTTC'],\n 154: ['GGGGGCGATCGGTATGTTTCCTTC', 'GGGGGCCATCGGTATGTTTCCTTC'],\n 155: ['GGGAGTCATCGGTATGTTACCTTC'],\n 156: ['GGGAGCCACCGGTATGTTACCTTT', 'GGGGGCCACCGGTATGTTACCTTT'],\n 157: ['GGGGGCCACAGGTATGTTACCTTC'],\n 158: ['GGGGGCCACCGGTATGTTACCTTC'],\n 159: ['GGGAGCCACCGGAATGTTACCTTC', 'GGGAGCCACCGGAATGTTACCTTT'],\n 160: ['GGGAGCGATCGGTATGTTTCCTTT', 'GGGAGCGACCGGTATGTTTCCTTT'],\n 161: ['GGGAGCGACCGGTATGTTTCCTTC'],\n 162: ['GGGGGCGACCGGTATGTTTCCTTC'],\n 163: ['GGGAGCGACCGGTGTGTTACCTTT', 'GGGAGCGACAGGTATGTTACCTTT'],\n 164: ['GGGAACGATCGGTATGTTACCCTT', 'GAGAGCGATCGGTATGTTACCCTT'],\n 165: ['GGGAGCGATCGGAATGTTACCTTT', 'GGGAACGATCGGAATGTTACCTTT'],\n 166: ['GGGGGCGATCGGTATGTTACCTTT'],\n 167: ['GGGAGCGATAGGTATGTTACCTTT', 'GGGAGCGATCGGTATGTTACCTTT'],\n 168: ['GGGAGCGATCGGTATGTTAACTCT', 'GGAAGCGATCGGTATGTTAACTTT'],\n 169: ['GAGGGCCACCGTAATGTTAACCCT'],\n 170: ['GGGGGCCATAGGAGTGTTAACCCC', 'GGGGGCCATAGTAATGTCTACCCC'],\n 171: ['GGGAGCGATCGTAATGTCTCTCTC'],\n 172: ['GGGAACCGTCGTAATGTTTCCCTT'],\n 173: ['GGGAGCCATCGTAATGTTTCCCCC'],\n 174: ['GGGAACCATCGTAATGTCTCCTCC'],\n 175: ['GGGAACGATCGTAATGTTTCCTCT',\n  'GGGAACGATCGTAATGTTTCCTCC',\n  'GGGAACGATAGTAATGTTTCCTCT'],\n 176: ['GGGGGCGATAGTAATGTTAACCTT'],\n 177: ['GGGGGCGATCGTAATGTTAACTTT',\n  'GGGAGCGATAGTAATGTTAACTTT',\n  'GGGAGCGATCGTAATGTTAACTTT'],\n 178: ['GGGAGCGACCGTAATGTTTCCTTC'],\n 179: ['GGGGGCGACCGTAATGTTTCCTTT'],\n 180: ['GGGGGCGACCGTAATGTTTCCTTC'],\n 181: ['GGGGGCGACCGTAATGTTACCTCC',\n  'GGGGGCGACCGTAATGTTACCCTC',\n  'GGGGGCGACCGTAATGTTACCTTC'],\n 182: ['GGGAACGACCGTAATGTTACCTCC'],\n 183: ['GGGAGCGACCGTAATGTTACCTCC'],\n 184: ['GGGGGCCATCGTAATGTTACCTCC',\n  'GGGGGCCATCGTAATGTTACCTTC',\n  'GGGGGCCATCGTAATGTTAACTTC'],\n 185: ['GGGAGCGATCGTAATGTTACCTCC',\n  'GGGAGCGATCGTAATGTTACCTTC',\n  'GGGGGCGATCGTAATGTTACCTTC'],\n 186: ['GGGGGCCATCGTAATGTTTCCTTC'],\n 187: ['GGGGGCCATCGTAATGTTTCCTCC', 'GGGGGCGATCGTAATGTTTCCTCC'],\n 188: ['GGGGACCACAGTAATGTTACCTTT', 'GGGGACCACAGTAATGTTACCTCT'],\n 189: ['GGGGGCCACCGTAATGTTACCTTT'],\n 190: ['GGGGACCACCGTAATGTTACCTTT'],\n 191: ['GGGGACGACCGTAATGTTTCCTTC'],\n 192: ['GGGGACCACCGTAATGTTTCCTTC'],\n 193: ['GGGGACCACCGTAATGTTTCCTTT'],\n 194: ['GGGGACGACAGTAATGTTACCTTC', 'GGGGACCACAGTAATGTTACCTTC'],\n 195: ['GGGGATCACAGTAATGTTTCCTTC'],\n 196: ['GGGGACCACAGTAATGTTTCCTTC'],\n 197: ['GGGGGCCATCGTAGTGTTTCCTTT', 'GGGGGCCATCGTAATGTTTCCTTT'],\n 198: ['GGGGGCCACAGTAATGTTTCCTTT'],\n 199: ['GGGAGCCACCGTAATGTTTCCTTT'],\n 200: ['GGGGGCCACCGTAATGTTTCCTTT'],\n 201: ['GGGGGCCACAGTAATGTTTACTTC'],\n 202: ['GGGGGCCACAGTAATGTTACCTTC', 'GGGGGCCACAGTAATGTTACCTCC'],\n 203: ['GGGGGCCACAGTAATGTTTCCTCC'],\n 204: ['GGGGGCCACAGTAATGTTTCCTTC'],\n 205: ['GGGGACCACCGTAATGTTACCCTC'],\n 206: ['GGGGGCCACCGTAATGTTACCCTC'],\n 207: ['GGGGGCCACCGTAATGTTACCTTC'],\n 208: ['GGGGGCCACCGTAATGTTTCCTTC', 'GGGAGCCACCGTAATGTTACCCTT'],\n 209: ['GGGAACGATCGTAATGTCACCTTC'],\n 210: ['GGGGACCATCTTAATGTTACCTTC',\n  'GGGGACCATCGTAATGTTACCTTC',\n  'GGGGACGATCGTAATGTTACCTTC'],\n 211: ['GGGAACCATCGTAATGTTACCTTC', 'GGGAACCATCGTAATGTTACCCTC'],\n 212: ['GGAAGCGATCGTAATGTTAACTCT', 'GGAAGCGATCGTAATGTTACCTCT'],\n 213: ['GGGAACGATCGTAATGTTACCTCT', 'GGGAGCGATCGTAATGTTACCTCT'],\n 214: ['GGGAGCGATCGTAATGTCACCTTT'],\n 215: ['GGGAGCGACCGTAATGTTACCTTT'],\n 216: ['GGGAGCGATCGTAATGTTACCTTT'],\n 217: ['GGGAGCGATCGTAATGTTTCCTTT'],\n 218: ['GGGAACGATCGTAATGTTACCTTT'],\n 219: ['GGGAACGATCGTAATGTTTCCTTT'],\n 220: ['GGGGACGATCGTAGTGTTACCTTT', 'GGGGACGATCGTAATGTTACCTTT'],\n 221: ['GGGGGCGATCGTAATGTTACCTTT',\n  'GGGGGCCATCGTAATGTCACCTTT',\n  'GGGGGCCATCGTAATGTTACCTTT']}"
     },
     "execution_count": 33,
     "metadata": {},
     "output_type": "execute_result"
    }
   ],
   "source": [
    "unique_sequences_per_cluster = dict()\n",
    "for k,v in clusters_dict.items():\n",
    "    unique_sequences_per_cluster[k] = list(set(sequences_dict[cult] for cult in v))\n",
    "unique_sequences_per_cluster"
   ],
   "metadata": {
    "collapsed": false,
    "ExecuteTime": {
     "end_time": "2023-05-13T16:50:37.254901Z",
     "start_time": "2023-05-13T16:50:37.249412Z"
    }
   }
  },
  {
   "cell_type": "code",
   "execution_count": 34,
   "outputs": [
    {
     "data": {
      "text/plain": "{'C001': 'GGGAGCCATCGTAATGTTTCCCCC',\n 'C002': 'GGGGGCCACCGTAATGCCTCCCCC',\n 'C003': 'GAGAGCCATAGGAGTGCCAACCTT',\n 'C004': 'GAGGGCCATAGGAGAACTACTCTC',\n 'C005': 'AGGGGCCATAGTAAAGCCAACTTC',\n 'C006': 'GGGAGCGGTATTAATGTTACCTTT',\n 'C007': 'GGGAGCGGTATTAATGTTACCTTT',\n 'C008': 'GGGGGCGGTATGTATGTTACCTTC',\n 'C009': 'GGGAGCCGTATGAATGTTACCTTT',\n 'C010': 'GAGGGCCGTATGTATGCCAACCTT',\n 'C011': 'GGGAGCGGTATGTATGTTACCTTT',\n 'C012': 'GAAAGCCATAGGTGAGTTAACCTT',\n 'C013': 'GGGGGCCACCGTAATGTCTCCCTC',\n 'C014': 'GAAAGCGGTATGTGTACCAACTTT',\n 'C015': 'GGGGGCCACAGTAATGTCTCCCCC',\n 'C016': 'GAGAGCCATAGGTGTACCAACCCT',\n 'C017': 'GAAGGCCATAGGTGTACCAACCTT',\n 'C018': 'GAAAGCCATAGGTGTACCAACCTT',\n 'C019': 'GGGAGCGGTATTAATGTTACCTTT',\n 'C020': 'GGGAGCGGTAGTAATGTTACCTCT',\n 'C021': 'GGGAGCGGTATTAATGCTACCTCT',\n 'C022': 'GGGAGCGATCGGTATGTTACCTTT',\n 'C023': 'GAGGGCCATAGGTGTACCAACCTT',\n 'C024': 'GGAAGCGATCGTAATGTTAACTCT',\n 'C025': 'GGGGGCGGTATGTATGTTACCTTT',\n 'C026': 'GAAAGCCATAGGTGTACCAACCTT',\n 'C027': 'GGGAGCGGTATGAATGTTACCTTC',\n 'C028': 'GAAAGCCATAGGTGTACCAACCTT',\n 'C029': 'GGAAGCCGTATGTATACCAACCTT',\n 'C030': 'GGGAGCGGTATTAATGTTACCTTT',\n 'C031': 'GGGAGCGGTATTAATGTTACCTTT',\n 'C032': 'AAAGGCCATAGGTGTACTACTCTT',\n 'C033': 'GGGAACGATCGTAATGTTACCTCT',\n 'C034': 'GAGGGCCATAGGTGTGTTAACCTT',\n 'C035': 'AAAGGCCATAGGTGTACCAACCTT',\n 'C036': 'GGGAACGATCGTAATGTTTCCTCT',\n 'C037': 'GGGAGCGGTATTAATGTTACCTTT',\n 'C038': 'GGGGACGATCGTAGTGTTACCTTT',\n 'C039': 'GGGGGCGGTATTAATGTTACCTCT',\n 'C040': 'GGGAGCGGTATGTATGTTACCTCT',\n 'C041': 'GGGAGCGGTAGTAATGTTACCTTC',\n 'C042': 'GGGGGCGGTATGAATGTTACCTTT',\n 'C043': 'GGGAGCGGTATGAATGTTACCTTT',\n 'C044': 'GGGGGCGGTATTAATGTTACCTTT',\n 'C045': 'GGGAGCGGTATGAATGTTACCTTC',\n 'C046': 'GGGAGCGGTAGTAATGTTACCTTT',\n 'C047': 'GGGGGCCACAGTAATGTTTCCTTT',\n 'C048': 'GAAAGCCATAGGTGTGTTAACCTT',\n 'C049': 'GGGAGCGGTATGAATGCTACCTTT',\n 'C050': 'GGGAGCGGTATGTATGCTACCTTT',\n 'C051': 'GAAAGCCGTATGTGTGTTAACTTT',\n 'C052': 'GAAAGCCATAGGAGTACCAACCTC',\n 'C053': 'GGGAGCGGTATGTATGCTACCTTT',\n 'C054': 'GAGGGCCATAGGTGTGTTAACCTT',\n 'C055': 'GGGAGCGACCGTAATGTTACCTTT',\n 'C056': 'GAGAGCCATAGGTGTACCAACCCT',\n 'C057': 'GAAGGCCATAGGTGTACCAACCTT',\n 'C058': 'GGGAGCGGTATTAATGTTACCTCT',\n 'C059': 'GGGAGCGGTATTAATGTTACCTCT',\n 'C060': 'GGGAGCGATCGTAATGTTACCTCC',\n 'C061': 'GGGAGCGGTATGTATGTTACCTTT',\n 'C062': 'GGGAGCGGTATGTATGTTACCTTT',\n 'C063': 'GAAAGCCATAGGTGAACCAACCCC',\n 'C064': 'GAAAGCCATAGGTGTGTTAACCTT',\n 'C065': 'GGGAGCGGTAGGTATGTTACCTTT',\n 'C066': 'GGGGGCGATCGGTATGTTTCCTTC',\n 'C067': 'AAGAGCCATAGGAGTGTTAACCTC',\n 'C068': 'GGGAGCGGTATGAATGTTACCTTT',\n 'C069': 'GGGAGCGGTATGTATGTTACCTTT',\n 'C070': 'GAGAGCCATAGGTGAACCAACCTT',\n 'C071': 'GAGAGCCATAGGAGTGTTACTCTC',\n 'C072': 'GGGAACGATCGTAATGTTTCCTTT',\n 'C073': 'GGGAGCGACCGTAATGTTTCCTTC',\n 'C074': 'AAGGGCCATAGGAGTACCACTCTC',\n 'C075': 'AAGAGCCATAGGAGTGTTAACCTC',\n 'C076': 'GGGAGCGACCGTAATGTTACCTCC',\n 'C077': 'GGGGGCGACCGTAATGTTACCTCC',\n 'C078': 'GGGGGCCATCGTAATGTTTCCTTC',\n 'C079': 'AGGGGCCATAGGTGAGTTACTCTC',\n 'C080': 'GGGGACCACCGTAATGTTTCCTTT',\n 'C081': 'GGGAGCGACCGTAATGTTACCTCC',\n 'C082': 'AAGAGCCATAGGAGTGTTACTCTC',\n 'C083': 'GGGGGCCATAGGTGAGTTACTTCT',\n 'C084': 'GAGAGCCATAGGTATACCAACCCC',\n 'C085': 'GAGAGCCATAGGTGTACCAACCCC',\n 'C086': 'GGGGGCCACCGTAATGTCACCCTC',\n 'C087': 'GAGGGCCATAGTAGAACTAACCTT',\n 'C088': 'GGGGGCCACAGTAATGTTTACTTC',\n 'C089': 'GAGAGCCATAGGAGTGTTACTCTT',\n 'C090': 'GGGGACCACCGTAATGTTACCTTT',\n 'C091': 'GGGGGCCATCGTAATGTTACCTTC',\n 'C092': 'GGGGGCCATCGTAATGTTAACTTC',\n 'C093': 'AAGGGCCATAGGAGAGTTAACCTC',\n 'C094': 'GGGAGTCATCGGTATGTTACCTTC',\n 'C095': 'GGGGGCGACCGGTATGTTTCCTTC',\n 'C096': 'GGGGGCCACCGTAATGTTTCCTTC',\n 'C097': 'GGGGACCACCGTAATGTTTCCTTT',\n 'C098': 'GGGGGCCACCGTAATGTTACCCTC',\n 'C099': 'GGGAACCATCGGTATGTTTCCTTC',\n 'C100': 'GGGGGCCACCGTAATGTTTCCTTC',\n 'C101': 'AAGGGCCATAGGTGAGTTACTCCC',\n 'C102': 'GGGAACCACCGGTATACTACCTTT',\n 'C103': 'AGGGGCCATAGGTAAGTTACTCTC',\n 'C104': 'GGGGACCACCGTAATGTTTCCTTT',\n 'C105': 'GGGGGCCATCGTAATGTCACCTTT',\n 'C106': 'GAGAGCCATAGGTGAGTTACTCCC',\n 'C107': 'GGGAGCGGTAGTAATGTTTCCTTT',\n 'C108': 'GGGGGCCACCGTAATGTTTCCTTT',\n 'C109': 'GGGGGCGACCGTAATGTTTCCTTT',\n 'C110': 'GGGGGCCACCGTAATGTTACCTTC',\n 'C111': 'AAGGGCCATAGGAGAACCACTCCC',\n 'C112': 'GGGAGCGATCGTAATGTTACCTTT',\n 'C113': 'GGGAACGATCGTAATGTTACCTTT',\n 'C114': 'GGAAGCGATCGTAATGTTACCTCT',\n 'C115': 'GGGGGCGGTATGAATGTTAACTTT',\n 'C116': 'GAAAGCCATAGGTGTACCAACCTT',\n 'C117': 'GGGGGCGATCGTAATGTTAACTTT',\n 'C118': 'GGGAACGATCGGTATGTTACCCTT',\n 'C119': 'GAAAGCCGTATGTATGTTAACTTT',\n 'C120': 'GAAAGCCATAGGTGAACCAACCCT',\n 'C121': 'GGGAACGATAGTAATGTTTCCTCT',\n 'C122': 'GGGAGCGGTATTAATGTTACCTCT',\n 'C123': 'GGGGGCCATAGGTAAACCAACCTT',\n 'C124': 'GGGAGCGGTATTAATGTTACCCTT',\n 'C125': 'GGGGGCCACAGGTATGTTACCTTC',\n 'C127': 'GGGAGCGATCGTAATGTTACCTTC',\n 'C128': 'GGGGGCCATCGTAATGTTTCCTCC',\n 'C129': 'GGGGGCCACCGTAATGTTTCCTTC',\n 'C130': 'AAGGGCCATAGGAGAGTTAACCTC',\n 'C131': 'GGGGACCATCGTAATGTTACCTTC',\n 'C132': 'GGGGGCCACCGTAATGTTACCTTT',\n 'C133': 'AGGGGCCATAGGTGAGTTACTCTC',\n 'C134': 'GGGAGCCATAGTAGAGTTACTCCC',\n 'C135': 'GGGGGCCACAGTAATGTTTCCTTC',\n 'C136': 'GGGGACCACAGTAATGTTTCCTTC',\n 'C137': 'AGGAGCCATAGGAGAACCACTCCC',\n 'C138': 'AAGAGCCATAGGAGTACTACTCTC',\n 'C139': 'GGGAGCGATCGTAATGTCTCTCTC',\n 'C140': 'GGGGGCCACCGTAATGTTACCTTC',\n 'C141': 'GGGGGCCACAGTAATGTTTCCTTC',\n 'C142': 'GGGAGCGGTAGTAATGTTTCCTTT',\n 'C143': 'GGGGACCACCGGTATGTTACCTTC',\n 'C144': 'AGGAGCCATAGTAGAGTTACTCCC',\n 'C145': 'GGAAGCGATCGTAATGTTAACTCT',\n 'C146': 'GAAAGCCATAGGTGTACCAACCTT',\n 'C147': 'GGGAGCGGTATGTATGCTAACTTT',\n 'C148': 'GGGAGCGATCGGAATGTTACCTTT',\n 'C149': 'GAAAGCCATAGGTGAACCAACCCT',\n 'C150': 'GAAAGCCATAGGTGTACCAACCTT',\n 'C151': 'GGGAGCGGTATTAATGTTACCTTT',\n 'C152': 'GAAAGCCGTATGTGTACCAACCTT',\n 'C153': 'GAGGGCCATAGGTGAGCCAACTTT',\n 'C154': 'GAAAGCCATAGGTGTACCAACCTT',\n 'C155': 'GGGAGCGATCGTAATGTTACCTCT',\n 'C156': 'GGGAACGGTATTAATGTTACCTCT',\n 'C157': 'GGGAGCGATCGGTATGTTAACTCT',\n 'C158': 'GGGGGCGGTATTAATGTTACCTCT',\n 'C159': 'GGGAACGGTATTAATGTTACCTCT',\n 'C160': 'GGGAGCGGTATTTATGTTACCTTT',\n 'C161': 'GGGAACGGTATTAATGTTACCTCT',\n 'C162': 'GGGGGCCATCGTAGTGTTTCCTTT',\n 'C163': 'GGGGGCGATATGAATGCTACCTTT',\n 'C164': 'GGGAGCGATATGAATGTTACCTTT',\n 'C165': 'GGGAACGGTATTAATGTTACCTTT',\n 'C166': 'GGGGGCGGTATGAATGTTACCTTT',\n 'C167': 'GGGGGCGGTATTAATGTTACCTTT',\n 'C168': 'GGGAGCGGTAGGAATGTTACCTTT',\n 'C169': 'GGGAGCGGTATTAATGTTACCTTT',\n 'C170': 'GGGAGCGGTAGTAATGTTACCTTT',\n 'C171': 'AAGGGCCATAGGTGTGTTAACCTC',\n 'C172': 'GAAAGCCATAGGTGAACCAACCCT',\n 'C173': 'GGGAGCGGTATTAATGTTTCCTTC',\n 'C174': 'GGGAACGATCGGAATGTTACCTTT',\n 'C175': 'GGGAGCGATCGTAATGTTTCCTTT',\n 'C176': 'GGGGGCGGTATTAATACTACCTTC',\n 'C177': 'GAAGGCCATAGGTGTACCAACCTT',\n 'C178': 'GGGGGCGGTATGTATGTTACCTTT',\n 'C179': 'GAGGGCCATAGGTATGTCAATCTC',\n 'C180': 'GGGGGCGATCGTAATGTTTCCTCC',\n 'C181': 'AAGAGCCATAGGAGTGTTAACCTT',\n 'C182': 'GGGGGCCACAGTAATGTTACCTTC',\n 'C183': 'GGGGGCCATCGTAATGTTTCCTCC',\n 'C184': 'GGGAACGACCGTAATGTTACCTCC',\n 'C185': 'GAAAGCCATAGGTATACCAATCTC',\n 'C186': 'GAGAGCCATAGGTATACCAATCTC',\n 'C187': 'AAGGGCCATAGGAGTGTTACTCTT',\n 'C188': 'AAGGGCCATAGGAGTGTTAACCTT',\n 'C189': 'GAGGGCCATAGGAGAACCACTCTT',\n 'C190': 'GGGGGCGACCGTAATGTTTCCTTC',\n 'C191': 'GGGGACGATCGTAATGTTACCTTC',\n 'C192': 'GGGGGCCATCGTAATGTTTCCTTT',\n 'C193': 'GGGAACCATCGTAATGTCTCCTCC',\n 'C194': 'GGGGACCACCGTAATGTTTCCTTT',\n 'C195': 'AAGGGCCATAGGTATATTAACCTT',\n 'C196': 'AGGGGCCATAGGTAAGTTACTCTC',\n 'C197': 'GGGGGCCACCGTAATGTTACCTTT',\n 'C198': 'GGGGACCACCGTAATGTTTCCTTC',\n 'C199': 'GGGGGCGACCGTAATGTTTCCTTC',\n 'C200': 'GGGGACCACAGTAATGTTTCCTTC',\n 'C201': 'GGGGACCACCGTAATGTTTCCTTC',\n 'C202': 'GGGGGCCACAGTAATGTTTCCTCC',\n 'C203': 'GGGAGCGGTATTAATGTTACCCTT',\n 'W001': 'GGGGGCCACAGTAATGTTACCTCC',\n 'W002': 'AAGGGCCATAGTAAAGCCAACTTC',\n 'W003': 'GAAAGCCATAGGTAAACCAACCTC',\n 'W004': 'AAGGGCCATAGTAAAGCCAACTTC',\n 'W005': 'GGGGGCCATAGGTAAGCCAACTTT',\n 'W006': 'GGGGGCCATAGGTAAGCCAACTTT',\n 'W007': 'AAGGGCCATAGGTGAGCCAACTTC',\n 'W008': 'AAGGGCCATAGGTAAGCCAACTTT',\n 'W009': 'GGGGGCCACCGTAATGTTTCCTTT',\n 'W010': 'GAAAGCCATAGGTGTGCCAACCTT',\n 'W011': 'AAGAGCCATAGGTGAACCAACCTT',\n 'W012': 'GAAAGCCATAGGTGTACCAACCTT',\n 'W013': 'GAAAGCCATAGGTATACCAACCTT',\n 'W014': 'GGGGGCCACCGGTATGTCTCCCCT',\n 'W015': 'GGGGGCCACCGTAATGTCTCCCTC',\n 'W016': 'GAAAGCCATAGGTGTACCAACCTT',\n 'W017': 'GGGGGCCATAGGTGAGCCAACTTT',\n 'W018': 'GAGAGCCATAGGTGTACCAACCTT',\n 'W019': 'GGGAGCCATAGGTGTACCAACCTT',\n 'W020': 'GGGGGCCACCGGAATGTCTCCTCC',\n 'W021': 'GAAAGCCATAGGTATACCAATCTC',\n 'W022': 'AAGGGCCATAGGTGAGCCAACTTT',\n 'W023': 'GGGGACCACCGGAATGCTTCCTTT',\n 'W024': 'GGGGGCCATAGGTAAGCCAACTTT',\n 'W025': 'GGGGGCCACCGTAATGTCTCCCTC',\n 'W026': 'GGGGACCACCGGTATGTTTCCTTC',\n 'W027': 'GAAAGCCATAGGTGTGTTAACCTT',\n 'W028': 'GGGGGTCACCGGTATGTCTCCCTC',\n 'W029': 'GGGGGCCATCGTAATGTTACCTCC',\n 'W030': 'GGGAGCCACCGGTATGTCACCCTT',\n 'W031': 'GGGAGCGACCGTAATGTTTCCTTC',\n 'W032': 'GGGAGCGACCGTAATGTTTCCTTC',\n 'W033': 'GGGGACCATCGGTATGTTTCCTTC',\n 'W034': 'GGGGGCCACCGTAATGTCTCCCTC',\n 'W035': 'GGGGGCCACCGTAATGTTACCCTC',\n 'W036': 'GGGGGCGACCGGTATGTTTCCTTC',\n 'W037': 'GGGGGCCACCGGTATGTTTCCCTC',\n 'W038': 'AAGAGCCATAGGTGTACCACTCTT',\n 'W039': 'GGGGACGACCGTAATGTTTCCTTC',\n 'W040': 'GGGAGCGGTATTAATGTTACCTTT',\n 'W041': 'GAGGGCCATAGGTAAGCCAACCTT',\n 'W042': 'GGGGGCCACCGTAATACCTCCCTC',\n 'W043': 'GGGAGCGGTATTAATGTTACCTTT',\n 'W044': 'GGGGGCGGTATGAATGTTACCTTT',\n 'W045': 'GAGGGCCATAGGTGTACTAACCTT',\n 'W046': 'GGGGGCGGTATTAATGTTACCTTT',\n 'W047': 'GAGGGCCACCGTAATGTTAACCCT',\n 'W048': 'GGGGGCCACCGGAATGTCTCCCCC',\n 'W049': 'GGGGGCCACCGGAATGTCACCCTC',\n 'W050': 'GGGGGCCATAGGAGTGTTAACCCC',\n 'W051': 'GGGAGCGGTATGTATGTTACCTTT',\n 'W052': 'GAAAGCCATAGGTGTGTTAACCTT',\n 'W053': 'GGGGGCCATAGGTAAGCCAACTTT',\n 'W054': 'GGGAGCCACCGTAATGTTTCCTTT',\n 'W055': 'GGGGGCGATAGGTAAGTTACCCTT',\n 'W056': 'GAGAGCCATAGGTGAGTTAACCTT',\n 'W057': 'GGGGGCCATAGGTAAGCCAACTTT',\n 'W058': 'GGGGACGATCGTAATGTTACCTTT',\n 'W059': 'GAGAGCCATAGGTGTGTTAACCTT',\n 'W060': 'GAAAGCCATAGGTGAACCAACCTT',\n 'W061': 'GAAAGCCATAGGTGTGCCAACCTT',\n 'W062': 'GAGGGCCATAGGTATGCCAACCTT',\n 'W063': 'GAAAGCCATAGGTGTGCCAACCTT',\n 'W064': 'GAGAGCCATAGGTGTACCAACCTT',\n 'W065': 'GGGGGCCATAGGTAAGCCAACTTT',\n 'W066': 'GGGGGCCACCGGTATGTCTCCTTT',\n 'W067': 'AAGGGCCATAGGAGAGCCACTTTT',\n 'W068': 'GAGGGCCATAGTTGTGTTAACCTT',\n 'W069': 'GGGGGCCACCGGTATGTCTCCCTC',\n 'W070': 'GAGAGCGATCGGTATGTTACCCTT',\n 'W071': 'GGGAGCGACCGGTGTGTTACCTTT',\n 'W072': 'GGGGGCCACCGTAATGTCTCCCTC',\n 'W073': 'GGGAGCGGTATTAATGTTACCTTC',\n 'W074': 'GGGGGCCACCGTAATACTACCTTC',\n 'W075': 'GGGGACCACCGTAATGTTACCCTC',\n 'W076': 'GGGGGCCACCGGTATGTCTCCCTC',\n 'W077': 'GGGGGCCACCGTAATGTCTCCCCC',\n 'W078': 'GGGGACGGTATGTATGTTACCTCT',\n 'W079': 'GGGGGCCACCGGTATGCTTCCTCT',\n 'W080': 'GGGGACCACAGTAATGTTACCTTT',\n 'W081': 'GGGGGCCACCGGTGTACCACCCCC',\n 'W082': 'GAGAGCCATAGGAGTGTTAACCTC',\n 'W083': 'GGGAGCGGTATGAATGTCACCTTT',\n 'W084': 'GGGAGCGGTATTAATGTTTCCTTC',\n 'W085': 'GGGAGCGGTATGTATGTTACCTTC',\n 'W086': 'GGGGGCGGTATGTATGTTACCTTT',\n 'W087': 'GGAAGCGATCGGTATGTTAACTTT',\n 'W088': 'GAAAGCCATAGGTGTACCAACCTT',\n 'W089': 'GGGGGCCACCGGTATGTCTCCTTT',\n 'W090': 'GGGGGCCACCGGAATGTCTCCCTC',\n 'W091': 'GGGGGCCACCGGAATGTCTCCCCC',\n 'W092': 'GGGGGCCACCGGAATGTCTCCCTC',\n 'W093': 'GGGGGCCACCGGTATGTCTCCTTT',\n 'W094': 'GGGGGCCACCGGTATGTCTCCCTC',\n 'W095': 'GGGGGCCACCGGTATGTCTCCCCC',\n 'W096': 'GGGGGCCACCGGAATGTCTCCCTC',\n 'W097': 'GAGAGCCATCGGTATGTCACCCTC',\n 'W098': 'GGGGGCCACCGGAATGTTTCCCTC',\n 'W099': 'GGGGGCCACCGGAATGTCTCCCTC',\n 'W100': 'GGGGGCCACCGGAATGTTTCCCTC',\n 'W101': 'GGGAACGATCGTAATGTCACCTTC',\n 'W102': 'AGGGGCCATAGGTAAGCCAACCTC',\n 'W103': 'GGGGGCCACCGTAATGTCTCCCTC',\n 'W104': 'GGGGGCCACCGGTATGTCTCCCTC',\n 'W105': 'GGGGGCCACCGTAATGTCACCCTC',\n 'W106': 'GGGGGCCACCGGAATGTCTCCCTT',\n 'W107': 'GGGGGCCATCGGTATGTTTCCTTC',\n 'W108': 'GGGGGCCACCGGAATGTTTCCCTC',\n 'W109': 'GAAAGCCATAGGAGTGTTAACCTT',\n 'W110': 'GGGGGCCATAGTAGAGCCAACTTC',\n 'W111': 'GGGGGCCACCGTAATGTTTCCTTT',\n 'W112': 'GGGAACCGTCGTAATGTTTCCCTT',\n 'W113': 'GGGGGCCATAGGTAAGCCAACTTT',\n 'W114': 'GGGGGCCACCGGTATGTTACCTTC',\n 'W115': 'GGGGGCCACCGGTATGTCTCCCTC',\n 'W116': 'AAGGGCCATAGTAAAGCCAACCTT',\n 'W117': 'GAAAGCCATAGGTGTACCAACCTT',\n 'W118': 'GAGGGCGGTATGTGTGCCAACTTT',\n 'W119': 'AAAAGCCATAGGTGAGCCAACTTT',\n 'W120': 'GAAAGCCATAGGTGTGTTAACTTT',\n 'W121': 'GGGGGCCACCGTTATGTCTCCCTC',\n 'W122': 'AAGGGCCATAGGTATACCAATCTC',\n 'W123': 'GAGGGCCATAGGTAAGCCAACTTT',\n 'W124': 'GGGAGCGACCGGTATGTTTCCTTC',\n 'W125': 'GAAAGCCATAGGTGTACCTCTCTT',\n 'W126': 'GGGGGCCACAGTAATGTTTCCTTC',\n 'W127': 'GAGAGCCATAGGTGTACCAACCTC',\n 'W128': 'GAAAGCCACAGGTAAGCCTACCTT',\n 'W129': 'GGGGGCCACCGTAGTACCACCCTC',\n 'W130': 'GAAAGCCATAGGTGTACCAACCTT',\n 'W131': 'GGGGGCCACCGGTATGTCTCCCTC',\n 'W132': 'GGGAACGATCGTAATGTTTCCTCC',\n 'W133': 'GGGAACCATCGTAATGTTACCTTC',\n 'W134': 'GGGGGCCACCGGAATGTCACCCTC',\n 'W135': 'GGGAACCATCGTAATGTTACCCTC',\n 'W136': 'GGGGGCCACCGTAATGTCTCCCCC',\n 'W137': 'GGGGGCGACCGTAATGTTACCCTC',\n 'W138': 'GGGGGCGATCGTAATGTTACCTTT',\n 'W139': 'GAGAGCCATAGGTGTACCAACCTT',\n 'W140': 'GGGGGCCACCGTAATGTCTCCCTT',\n 'W141': 'GGGGGCCACCGTAATGTCTCCCTC',\n 'W142': 'GGGGGCCACCGGTATGTCTCCCTC',\n 'W143': 'AAGGGCCATAGTAGAGCCACTCCC',\n 'W144': 'GGGGGCGACCGTAATGTTACCTTC',\n 'W145': 'GGGAGCCACCGTAATGTTACCCTT',\n 'W146': 'GGGAGCGACAGGTATGTTACCTTT',\n 'W147': 'GGGAGCGGTATGTATGTTTCCTTT',\n 'W148': 'GGGAACGATCGTAATGTTTCCTTT',\n 'W149': 'GGGAGCCGTATTAATGTTACCTTT',\n 'W150': 'GGGAGCGGTAGTAATGTTACCTTT',\n 'W151': 'GGGAGCGGTATTAATGTTACCTTT',\n 'W152': 'GGGAGCGGTATTAATGCTACCTTT',\n 'W153': 'GAGAGCGGTATGTATGTTACCTTT',\n 'W154': 'GGGAGCGGTATGAATGTTTCCTTT',\n 'W155': 'GGAAGCGGTAGGTATGTTTACTTT',\n 'W156': 'GGGAGCGATCGTAATGTTAACTTT',\n 'W157': 'GGGAGCCATAGGAATGTTACCTTT',\n 'W158': 'GAAAGCCGTATGTATGTTAACCTT',\n 'W159': 'GGGAGCGGTAGGTATACCACCTTT',\n 'W160': 'GAAAGCCATAGGAGTGTTAACCTT',\n 'W161': 'GGGAGCGGTAGGTATGTTACCTTT',\n 'W162': 'GAAAGCCATAGGAGTACCAACCTT',\n 'W163': 'GGGAGCCGTAGTTATGTTACCTTT',\n 'W164': 'GGGAGCGATCGTAATGTTACCTTT',\n 'W165': 'GGGGGCCGTATGAATGTTACCTTT',\n 'W166': 'GGGAGCGGTATGTATGTTACCTTT',\n 'W167': 'GGGAGCGGTATGTATGTTACCTTT',\n 'W168': 'GGGAGCGGTATGTATGTTACCTTT',\n 'W169': 'GGGGGCGGTATTAATGTTACCTTT',\n 'W170': 'GGGAGCGGTATTAATGTTACCTTT',\n 'W171': 'GGGAGCGGTATGTATGTTACCCTT',\n 'W172': 'GGGAGCGGTATGAATGTTTCCTTT',\n 'W173': 'AGGAGCCATAGGAATACCACCCTT',\n 'W174': 'GGGAGCGGTATTAATGTTACCTTT',\n 'W175': 'GGGGGCGATAGTAATGTTAACCTT',\n 'W176': 'GGGAGCGGTATGTATGTTACCTTT',\n 'W177': 'GGGAGCGGTATGTATGTTACCTTT',\n 'W178': 'GGGGGCCACCGGTATGTTACCTTT',\n 'W179': 'GGGAGCGGTATTAATGTTACCTTT',\n 'W180': 'GGGAGCGGTATTAATGTTACCTTT',\n 'W181': 'GGGAGCGGTATTAGTGTTTCCTTT',\n 'W182': 'GGGAGCGGTATGTATGTTACCTTT',\n 'W183': 'GGGAGCGGTATTAATGTTACCTTT',\n 'W184': 'GGGAGCGGTATGTATGTTACCTTT',\n 'W185': 'GGGGGCGGTATTAATGTTACCTTT',\n 'W186': 'GGGAGCCGTATGTATGTTACCTTT',\n 'W187': 'GGGGGCCGTATGAATGTTACCTTT',\n 'W188': 'AGGAGCGGTATGTATGTTACCTTC',\n 'W189': 'GGGGGCGGTAGTAATGTTACCTTT',\n 'W191': 'GGGGGCCGTATGAATGTTTCCTTC',\n 'W192': 'GGGGGCCGTATGAATGTTTCCTTC',\n 'W193': 'GAAAGCCATAGGTGAGCCAACCTT',\n 'W194': 'GGGAGCGATCGGTATGTTTCCTTT',\n 'W195': 'GGGAGCGGTATGTATGTTACCTTT',\n 'W197': 'GGGAGCGGTATGAATGTTACCTTT',\n 'W198': 'GGGGACGACAGTAATGTTACCTTC',\n 'W199': 'GGGAGCGGTATTAATGTTACCTTC',\n 'W200': 'GGGAACGGTATTAATGTTACCTTT',\n 'W201': 'GGGAGCGGTATGAATGTTACCTTT',\n 'W202': 'GGGAGCGGTAGGTATGTTACCTTT',\n 'W203': 'GGGGGCCACCGTAATGTTTCCTTT',\n 'W204': 'GGGGACCACCGTAATGTTACCTTT',\n 'W205': 'GGGGACCACCGTAATGTTACCTTT',\n 'W206': 'GGGAGCGGTATTAATGTTACCTTC',\n 'W207': 'GAAAGCCATAGGTGTGTTACTCTT',\n 'W208': 'GGGGGCCGTATGTAAGTTAACTTT',\n 'W209': 'GAAAGCCATAGGTGTGTTAACCTT',\n 'W210': 'GGGGACCACAGTAATGTTACCTCT',\n 'W211': 'GGGAGCGGTATGTATGTTACCTTT',\n 'W212': 'GGGGACCACAGTAATGTTACCTTC',\n 'W213': 'GGGAGCGATAGGTATGTTACCTTT',\n 'W214': 'GGGGGCCACCGGAATGTCTCCCTC',\n 'W215': 'GGGGGCCACCGTAATGTCTCCCTC',\n 'W216': 'GGGAGCGGTATGTATGTTACCTTT',\n 'W217': 'GGGGGCCATAGGAATGCTACCTTT',\n 'W218': 'GGGGGCCATAGGTATGCTACCTTT',\n 'W219': 'GGGGGCCACCGGTGTGCCTCCCCC',\n 'W220': 'GGGGGCCACCGTAATGTCTCCCCC',\n 'W221': 'GGGAGCCACCGGAATGTTACCTTT',\n 'W222': 'GGGAGCGGTATTAATGTTACCTTT',\n 'W223': 'GGGAGCGGTATTAATGTTACCTCT',\n 'W224': 'GGGAGCGGTATTAATGTTACCTTT',\n 'W225': 'GAGGGCGGTATGAATGCCAACTTT',\n 'W226': 'GAAAGCCATAGGTGTGCCAACTTT',\n 'W227': 'GGGAGCGGTATGTATGTTACCTTT',\n 'W228': 'GGGAGCGGTATTAATGTTACCTTT',\n 'W229': 'GGGAGCGGTATTAATGTTACCTTT',\n 'W230': 'GGGAGCGGTATTAATGTTACCTTT',\n 'W231': 'GGGAGCGGTATGTGTGTTACCTTT',\n 'W233': 'GGGAGCCGTATTAATGTTACCTTT',\n 'W234': 'GGGAGCCGTATGTATGTTACCTTT',\n 'W235': 'GGGGATCACAGTAATGTTTCCTTC',\n 'W236': 'GGGAGCGGTATTAATGCCACCTTT',\n 'W237': 'GGGGGCGGTATGAATGTTACCTTT',\n 'W238': 'GGGAGCGGTATGAATGTTACCTTT',\n 'W239': 'GGGAGCGGTATGTATGTTACCTTC',\n 'W240': 'GGGAGCCGTAGTAATGTTACCCTT',\n 'W241': 'GGGAGCGACCGGTATGTTTCCTTT',\n 'W242': 'GGGAGCGGTATGTATGTTACCTTT',\n 'W243': 'GGGAGCGGTATGTATGCCACCTTT',\n 'W244': 'GGGAGCGGTATTAATGCCACCTTT',\n 'W245': 'GGGAGCGATAGTAATGTTAACTTT',\n 'W246': 'GGGGACCATCTTAATGTTACCTTC',\n 'W247': 'GGGGACCACAGTAATGTTACCTCT',\n 'W248': 'GGGGGCCATCGTAATGTTACCTTT',\n 'W249': 'GAAAGCCATAGGTGAACCAACCTT',\n 'W250': 'GAAAGCCATAGGTGAACCAACCTT',\n 'W251': 'AGGGGCCATAGGTAAACCAACTTT',\n 'W252': 'GGGGGCCACCGGTATACCTCCCCC',\n 'W253': 'GGGGGCCATAGGTAAGCCAACTTT',\n 'W254': 'GGGGGCCATAGGTGAGCCAACTTT',\n 'W255': 'GGGGGCCACCGGTGTGCCTCCCCC',\n 'W256': 'GGGGGCCACCGGTATGTCACCCCC',\n 'W257': 'AGGGGCGATAGGTAAGCCAACTTT',\n 'W258': 'GGGGGCCACCGTAATACCACCCCC',\n 'W259': 'GGGAGCGGTATTAATGCCACCTTT',\n 'W260': 'AAGGGCCATAGGTATGCCAACTTC',\n 'W261': 'GGGGGCCATAGTAATGTCTACCCC',\n 'W262': 'GGGAGCGGTAGGTATGTCACCTTT',\n 'W263': 'GGGAGCGATATTAATGTTACCTTT',\n 'W264': 'GGGAGCGGTATTAATGTTACCTTT',\n 'W265': 'GGGAGCGATATTAATGTTACCTTT',\n 'W266': 'GGGGGCGATCGTAATGTTACCTTC',\n 'W267': 'GGGAGCCGTATGTATGTTACCTTT',\n 'W268': 'GGGAGCGGTAGTAATGTTACCTTT',\n 'W269': 'GGGAGCGGTATTAATGTTACCTTC',\n 'W270': 'GGGGACGGTATTAATGTTACCTTC',\n 'W271': 'GGGAGCGGTATTAATGTTACCTTT',\n 'W272': 'GGGGACCACCGTAATGTTTCCTTC',\n 'W273': 'AGGGGCCATAGGTAAGCCAACTTC',\n 'W274': 'GGGAGCGGTATTAATGTTTCCTTT',\n 'W275': 'GGGGGCCATAGGTAAGCCAACTTT',\n 'W276': 'GGGAGCGATCGTAATGTCACCTTT',\n 'W277': 'GGGGGCCACAGTAATGTCTCCCCC',\n 'W278': 'GGGGGCCACCGGAATGTCTCCCCC',\n 'W279': 'GGGGGCCACCGGTATGTCTCCCCC',\n 'W280': 'GGGGGCCACCGTAATGTCTCCCTC',\n 'W281': 'AAGAGCCATAGGTGTGTTAACCTT',\n 'W282': 'GGGAGCCACCGGAATGTTACCTTC',\n 'W283': 'GAAAGCCATAGGTGTACCAACCTT',\n 'W284': 'GAGGGCCATAGTAAAGCCAACTTC',\n 'W285': 'GAGGGCCATAGTAAAGCCAACTTT',\n 'W286': 'GGGGGCCACCGGAATGTCTCCCTC',\n 'W287': 'GGGGGCCACCGGTATGTCTCCCTC',\n 'W288': 'AAGGGCCATAGGTAAGCCAACTTC',\n 'W289': 'GGGAGCGGTATGAATGTTACCTTT',\n 'W290': 'GAGAGCCATAGGTATGTTAACCCT',\n 'W291': 'GGGAGCGGTATTAATGTTTCCTTT',\n 'W292': 'GGGGGCCACCGGAATGTTTCCCTC',\n 'W293': 'GGGAGCGGTATTTATGTTACCTTT',\n 'W294': 'GGGGGCCGTATTAATGCCAACTTT',\n 'W295': 'GGGAGCGGTATTAATGTTACCTTT',\n 'W296': 'GGGGGCCACCGTAATGTCTCCCTC',\n 'W297': 'GGGGGCCACCGTAATGTCTCCCTC',\n 'W298': 'GGGAGCGGTATTAATGTTTCCTTT',\n 'W299': 'GGGAGCGGTATGTATGTTTCCTTT',\n 'W300': 'GAGGGCCATAGTAGTGCCAACTTT',\n 'W301': 'GGGAGCGGTATGTATGTTACCTTT',\n 'W302': 'AGGGGCCATAGGTATGCCAACCTT',\n 'W303': 'GGGGGCCATAGGTAAGCCAACTTT',\n 'W304': 'GGGGGCCATAGGTATGTTTACTTT',\n 'W305': 'GAAAGCCATAGGTGTACCAACCTT',\n 'W306': 'GGGAGCGGTATGTATGTCTCCCCC',\n 'W307': 'GGGAGCGGTATTAATGTTACCTTT',\n 'W308': 'GGGAGCGGTATTAATGTTACCTTT',\n 'W309': 'GGGAGCGGTATTAATGTTACCTTT',\n 'W310': 'GGGAGCCACCGGTATGTTACCTTT',\n 'W311': 'GGGAGCGGTATGTATGTTACCTTT',\n 'W312': 'GGGAGCGGTATTAATGTTACCTTT',\n 'W313': 'GGGAGCGGTATTTATGTTACCCTT',\n 'W314': 'GGGGGCCACCGGTATGTTACCTTC',\n 'W315': 'GGGAGCGGTATTAATGTTACCTTT',\n 'W316': 'GGGAGCGGTATGTATGTTACCTTT',\n 'W317': 'GGGAGCGGTATTAATGTTACCTTT',\n 'W318': 'GGGGGCGATCGGTATGTTACCTTT',\n 'W319': 'AGGGGCCATAGGTAAGTTACTCCC',\n 'W320': 'GGGGACCACAGTAATGTTTCCTTC',\n 'W321': 'GGGAGCGGTATGTATGTTTCCTTT',\n 'W322': 'GGGAGCCGTATGAATGTTACCTTT',\n 'W323': 'GAAAGCCATAGGTATACCAACCTC',\n 'W324': 'GAGAGCCATAGGTATACCAACCTC',\n 'W325': 'AAGGGCCATAGGTGAGTTAACCTC',\n 'W326': 'GAGAGCCATAGGTGTACCAACCTC',\n 'W327': 'GAAAGCCATAGGTGTGTTAACCTC',\n 'W328': 'GAAAGCCATAGGTATACCACCCTT',\n 'W329': 'AGGGGCCATAGGTATGCCAACTTC',\n 'W330': 'GGGGGCCACCGTAATGTCTCCCCC'}"
     },
     "execution_count": 34,
     "metadata": {},
     "output_type": "execute_result"
    }
   ],
   "source": [
    "sequences_dict"
   ],
   "metadata": {
    "collapsed": false,
    "ExecuteTime": {
     "end_time": "2023-05-13T16:50:37.832491Z",
     "start_time": "2023-05-13T16:50:37.827392Z"
    }
   }
  },
  {
   "cell_type": "code",
   "execution_count": 35,
   "outputs": [
    {
     "name": "stdout",
     "output_type": "stream",
     "text": [
      "sequences_dict.json\n"
     ]
    },
    {
     "ename": "TypeError",
     "evalue": "Object of type type is not JSON serializable",
     "output_type": "error",
     "traceback": [
      "\u001B[0;31m---------------------------------------------------------------------------\u001B[0m",
      "\u001B[0;31mTypeError\u001B[0m                                 Traceback (most recent call last)",
      "Input \u001B[0;32mIn [35]\u001B[0m, in \u001B[0;36m<cell line: 8>\u001B[0;34m()\u001B[0m\n\u001B[1;32m      9\u001B[0m \u001B[38;5;28mprint\u001B[39m(listN[i]\u001B[38;5;241m+\u001B[39m\u001B[38;5;124m\"\u001B[39m\u001B[38;5;124m.json\u001B[39m\u001B[38;5;124m\"\u001B[39m)\n\u001B[1;32m     10\u001B[0m \u001B[38;5;28;01mwith\u001B[39;00m \u001B[38;5;28mopen\u001B[39m(listN[i]\u001B[38;5;241m+\u001B[39m\u001B[38;5;124m\"\u001B[39m\u001B[38;5;124m.json\u001B[39m\u001B[38;5;124m\"\u001B[39m, \u001B[38;5;124m\"\u001B[39m\u001B[38;5;124mw\u001B[39m\u001B[38;5;124m\"\u001B[39m) \u001B[38;5;28;01mas\u001B[39;00m f:\n\u001B[0;32m---> 11\u001B[0m     \u001B[43mjson\u001B[49m\u001B[38;5;241;43m.\u001B[39;49m\u001B[43mdump\u001B[49m\u001B[43m(\u001B[49m\u001B[38;5;28;43mlist\u001B[39;49m\u001B[43m[\u001B[49m\u001B[43mi\u001B[49m\u001B[43m]\u001B[49m\u001B[43m,\u001B[49m\u001B[43m \u001B[49m\u001B[43mf\u001B[49m\u001B[43m)\u001B[49m\n\u001B[1;32m     12\u001B[0m     \u001B[38;5;28mprint\u001B[39m(\u001B[38;5;28mlist\u001B[39m[i])\n\u001B[1;32m     13\u001B[0m     \u001B[38;5;28mprint\u001B[39m()\n",
      "File \u001B[0;32m/opt/homebrew/Cellar/python@3.9/3.9.10/Frameworks/Python.framework/Versions/3.9/lib/python3.9/json/__init__.py:179\u001B[0m, in \u001B[0;36mdump\u001B[0;34m(obj, fp, skipkeys, ensure_ascii, check_circular, allow_nan, cls, indent, separators, default, sort_keys, **kw)\u001B[0m\n\u001B[1;32m    173\u001B[0m     iterable \u001B[38;5;241m=\u001B[39m \u001B[38;5;28mcls\u001B[39m(skipkeys\u001B[38;5;241m=\u001B[39mskipkeys, ensure_ascii\u001B[38;5;241m=\u001B[39mensure_ascii,\n\u001B[1;32m    174\u001B[0m         check_circular\u001B[38;5;241m=\u001B[39mcheck_circular, allow_nan\u001B[38;5;241m=\u001B[39mallow_nan, indent\u001B[38;5;241m=\u001B[39mindent,\n\u001B[1;32m    175\u001B[0m         separators\u001B[38;5;241m=\u001B[39mseparators,\n\u001B[1;32m    176\u001B[0m         default\u001B[38;5;241m=\u001B[39mdefault, sort_keys\u001B[38;5;241m=\u001B[39msort_keys, \u001B[38;5;241m*\u001B[39m\u001B[38;5;241m*\u001B[39mkw)\u001B[38;5;241m.\u001B[39miterencode(obj)\n\u001B[1;32m    177\u001B[0m \u001B[38;5;66;03m# could accelerate with writelines in some versions of Python, at\u001B[39;00m\n\u001B[1;32m    178\u001B[0m \u001B[38;5;66;03m# a debuggability cost\u001B[39;00m\n\u001B[0;32m--> 179\u001B[0m \u001B[38;5;28;01mfor\u001B[39;00m chunk \u001B[38;5;129;01min\u001B[39;00m iterable:\n\u001B[1;32m    180\u001B[0m     fp\u001B[38;5;241m.\u001B[39mwrite(chunk)\n",
      "File \u001B[0;32m/opt/homebrew/Cellar/python@3.9/3.9.10/Frameworks/Python.framework/Versions/3.9/lib/python3.9/json/encoder.py:438\u001B[0m, in \u001B[0;36m_make_iterencode.<locals>._iterencode\u001B[0;34m(o, _current_indent_level)\u001B[0m\n\u001B[1;32m    436\u001B[0m         \u001B[38;5;28;01mraise\u001B[39;00m \u001B[38;5;167;01mValueError\u001B[39;00m(\u001B[38;5;124m\"\u001B[39m\u001B[38;5;124mCircular reference detected\u001B[39m\u001B[38;5;124m\"\u001B[39m)\n\u001B[1;32m    437\u001B[0m     markers[markerid] \u001B[38;5;241m=\u001B[39m o\n\u001B[0;32m--> 438\u001B[0m o \u001B[38;5;241m=\u001B[39m \u001B[43m_default\u001B[49m\u001B[43m(\u001B[49m\u001B[43mo\u001B[49m\u001B[43m)\u001B[49m\n\u001B[1;32m    439\u001B[0m \u001B[38;5;28;01myield from\u001B[39;00m _iterencode(o, _current_indent_level)\n\u001B[1;32m    440\u001B[0m \u001B[38;5;28;01mif\u001B[39;00m markers \u001B[38;5;129;01mis\u001B[39;00m \u001B[38;5;129;01mnot\u001B[39;00m \u001B[38;5;28;01mNone\u001B[39;00m:\n",
      "File \u001B[0;32m/opt/homebrew/Cellar/python@3.9/3.9.10/Frameworks/Python.framework/Versions/3.9/lib/python3.9/json/encoder.py:179\u001B[0m, in \u001B[0;36mJSONEncoder.default\u001B[0;34m(self, o)\u001B[0m\n\u001B[1;32m    160\u001B[0m \u001B[38;5;28;01mdef\u001B[39;00m \u001B[38;5;21mdefault\u001B[39m(\u001B[38;5;28mself\u001B[39m, o):\n\u001B[1;32m    161\u001B[0m     \u001B[38;5;124;03m\"\"\"Implement this method in a subclass such that it returns\u001B[39;00m\n\u001B[1;32m    162\u001B[0m \u001B[38;5;124;03m    a serializable object for ``o``, or calls the base implementation\u001B[39;00m\n\u001B[1;32m    163\u001B[0m \u001B[38;5;124;03m    (to raise a ``TypeError``).\u001B[39;00m\n\u001B[0;32m   (...)\u001B[0m\n\u001B[1;32m    177\u001B[0m \n\u001B[1;32m    178\u001B[0m \u001B[38;5;124;03m    \"\"\"\u001B[39;00m\n\u001B[0;32m--> 179\u001B[0m     \u001B[38;5;28;01mraise\u001B[39;00m \u001B[38;5;167;01mTypeError\u001B[39;00m(\u001B[38;5;124mf\u001B[39m\u001B[38;5;124m'\u001B[39m\u001B[38;5;124mObject of type \u001B[39m\u001B[38;5;132;01m{\u001B[39;00mo\u001B[38;5;241m.\u001B[39m\u001B[38;5;18m__class__\u001B[39m\u001B[38;5;241m.\u001B[39m\u001B[38;5;18m__name__\u001B[39m\u001B[38;5;132;01m}\u001B[39;00m\u001B[38;5;124m \u001B[39m\u001B[38;5;124m'\u001B[39m\n\u001B[1;32m    180\u001B[0m                     \u001B[38;5;124mf\u001B[39m\u001B[38;5;124m'\u001B[39m\u001B[38;5;124mis not JSON serializable\u001B[39m\u001B[38;5;124m'\u001B[39m)\n",
      "\u001B[0;31mTypeError\u001B[0m: Object of type type is not JSON serializable"
     ]
    }
   ],
   "source": [
    "import json\n",
    "\n",
    "listX = [sequences_dict, clusters_dict, sequence_cluster_dict, unique_sequences_per_cluster]\n",
    "listN = ['sequences_dict', 'clusters_dict', 'sequence_cluster_dict', 'unique_sequences_per_cluster']\n",
    "\n",
    "# Open a new file in write mode\n",
    "\n",
    "for i in range(len(listN)):\n",
    "    print(listN[i]+\".json\")\n",
    "    with open(listN[i]+\".json\", \"w\") as f:\n",
    "        json.dump(list[i], f)\n",
    "        print(list[i])\n",
    "        print()\n",
    "\n",
    "\n",
    "# for file in listN:\n",
    "#     with open(str(file)+\".json\", \"w\") as f:\n",
    "#         # Serialize the dictionary to a JSON string and write it to the file\n",
    "#         json.dump(file, f)\n"
   ],
   "metadata": {
    "collapsed": false,
    "ExecuteTime": {
     "end_time": "2023-05-13T16:50:38.763770Z",
     "start_time": "2023-05-13T16:50:38.463305Z"
    }
   }
  },
  {
   "cell_type": "code",
   "execution_count": 46,
   "outputs": [],
   "source": [
    "import json\n",
    "# Open a new file in write mode\n",
    "with open(\"sequence_cluster_dict\", \"w\") as f:\n",
    "    # Serialize the dictionary to a JSON string and write it to the file\n",
    "    json.dump(sequence_cluster_dict, f)"
   ],
   "metadata": {
    "collapsed": false,
    "ExecuteTime": {
     "end_time": "2023-05-10T06:50:38.068827Z",
     "start_time": "2023-05-10T06:50:38.063792Z"
    }
   }
  },
  {
   "cell_type": "code",
   "execution_count": 48,
   "outputs": [],
   "source": [],
   "metadata": {
    "collapsed": false,
    "ExecuteTime": {
     "end_time": "2023-05-10T06:51:12.079381Z",
     "start_time": "2023-05-10T06:51:12.070417Z"
    }
   }
  }
 ],
 "metadata": {
  "kernelspec": {
   "display_name": "Python 3",
   "language": "python",
   "name": "python3"
  },
  "language_info": {
   "codemirror_mode": {
    "name": "ipython",
    "version": 2
   },
   "file_extension": ".py",
   "mimetype": "text/x-python",
   "name": "python",
   "nbconvert_exporter": "python",
   "pygments_lexer": "ipython2",
   "version": "2.7.6"
  }
 },
 "nbformat": 4,
 "nbformat_minor": 0
}
