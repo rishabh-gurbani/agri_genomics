{
 "cells": [
  {
   "cell_type": "markdown",
   "source": [
    "# Analysing for 24 chromosomes"
   ],
   "metadata": {
    "collapsed": false
   }
  },
  {
   "cell_type": "markdown",
   "source": [
    "merging data"
   ],
   "metadata": {
    "collapsed": false
   }
  },
  {
   "cell_type": "code",
   "execution_count": null,
   "metadata": {
    "collapsed": true
   },
   "outputs": [],
   "source": [
    "import pandas as pd"
   ]
  },
  {
   "cell_type": "code",
   "execution_count": null,
   "outputs": [],
   "source": [
    "cultivars = pd.read_csv(\"Cultivars.csv\")\n",
    "cultivars.head()"
   ],
   "metadata": {
    "collapsed": false
   }
  },
  {
   "cell_type": "code",
   "execution_count": null,
   "outputs": [],
   "source": [
    "heights = pd.read_csv(\"Height.csv\")\n",
    "heights.head()"
   ],
   "metadata": {
    "collapsed": false
   }
  },
  {
   "cell_type": "code",
   "execution_count": null,
   "outputs": [],
   "source": [
    "genotype = pd.read_csv(\"Genotype_24chr.csv\")\n",
    "genotype = genotype.rename(columns={'Variation ID': 'Cultivar ID'})\n",
    "genotype.head()"
   ],
   "metadata": {
    "collapsed": false
   }
  },
  {
   "cell_type": "code",
   "execution_count": null,
   "outputs": [],
   "source": [
    "genotype.shape"
   ],
   "metadata": {
    "collapsed": false
   }
  },
  {
   "cell_type": "code",
   "execution_count": null,
   "outputs": [],
   "source": [
    "# counting del values for each SNP\n",
    "\n",
    "delCount = []\n",
    "for i in range(1, genotype.shape[1]):\n",
    "    val = 0\n",
    "    for j in range(6, genotype.shape[0]):\n",
    "        if genotype.iloc[j, i] == \"DEL\":\n",
    "            val = val + 1\n",
    "    delCount.append((genotype.columns[i],val))\n",
    "\n",
    "print(sorted(delCount, key=lambda x : x[1], reverse=True))"
   ],
   "metadata": {
    "collapsed": false
   }
  },
  {
   "cell_type": "code",
   "execution_count": null,
   "outputs": [],
   "source": [
    "# counting n values for each SNP\n",
    "\n",
    "delCount = []\n",
    "for i in range(1, genotype.shape[1]):\n",
    "    val = 0\n",
    "    for j in range(6, genotype.shape[0]):\n",
    "        if genotype.iloc[j, i] == \"N\":\n",
    "            val = val + 1\n",
    "    delCount.append((genotype.columns[i],val))\n",
    "\n",
    "print(sorted(delCount, key=lambda x : x[1], reverse=True))"
   ],
   "metadata": {
    "collapsed": false
   }
  },
  {
   "cell_type": "code",
   "execution_count": null,
   "outputs": [],
   "source": [
    "genotype.head()"
   ],
   "metadata": {
    "collapsed": false
   }
  },
  {
   "cell_type": "code",
   "execution_count": null,
   "outputs": [],
   "source": [
    "genotypeHeader = genotype.iloc[:6, :]\n",
    "primaryAlleleRow = 4\n",
    "secondaryAlleleRow = 5\n",
    "genotypeHeader"
   ],
   "metadata": {
    "collapsed": false
   }
  },
  {
   "cell_type": "code",
   "execution_count": null,
   "outputs": [],
   "source": [
    "genotype = genotype.iloc[6:, :]\n",
    "genotype"
   ],
   "metadata": {
    "collapsed": false
   }
  },
  {
   "cell_type": "code",
   "execution_count": null,
   "outputs": [],
   "source": [
    "# replacing genotype for each column with their primary allele\n",
    "\n",
    "for i in range(1, genotype.shape[1]):\n",
    "    primaryAllele = genotypeHeader.iloc[primaryAlleleRow, i]\n",
    "    secondaryAllele = genotypeHeader.iloc[secondaryAlleleRow, i]\n",
    "    col = genotype.iloc[:, i]\n",
    "    col.replace(\"DEL\", secondaryAllele, inplace=True)\n",
    "    col.replace(\"N\", primaryAllele, inplace=True)\n",
    "\n",
    "genotype"
   ],
   "metadata": {
    "collapsed": false
   }
  },
  {
   "cell_type": "code",
   "execution_count": null,
   "outputs": [],
   "source": [
    "def extractVariantID(cultivarID):\n",
    "    return cultivarID.split(sep=\" \")[0]\n",
    "\n",
    "genotype['Cultivar ID'] = genotype['Cultivar ID'].map(extractVariantID)\n",
    "genotype"
   ],
   "metadata": {
    "collapsed": false
   }
  },
  {
   "cell_type": "code",
   "execution_count": null,
   "outputs": [],
   "source": [
    "mapping = pd.merge(genotype, heights.iloc[:, 1:4], on='Cultivar ID' )"
   ],
   "metadata": {
    "collapsed": false
   }
  },
  {
   "cell_type": "code",
   "execution_count": null,
   "outputs": [],
   "source": [
    "mapping"
   ],
   "metadata": {
    "collapsed": false
   }
  },
  {
   "cell_type": "code",
   "execution_count": null,
   "outputs": [],
   "source": [
    "mapping['sequence'] = mapping.apply(lambda x: ''.join(x[1:-2]), axis=1)"
   ],
   "metadata": {
    "collapsed": false
   }
  },
  {
   "cell_type": "code",
   "execution_count": null,
   "outputs": [],
   "source": [
    "mapping"
   ],
   "metadata": {
    "collapsed": false
   }
  },
  {
   "cell_type": "code",
   "execution_count": null,
   "outputs": [],
   "source": [
    "len(mapping['sequence'].unique())"
   ],
   "metadata": {
    "collapsed": false
   }
  },
  {
   "cell_type": "code",
   "execution_count": null,
   "outputs": [],
   "source": [
    "mapping.to_csv('mapping_24.csv', index=False)"
   ],
   "metadata": {
    "collapsed": false
   }
  },
  {
   "cell_type": "code",
   "execution_count": null,
   "outputs": [],
   "source": [
    "mapping_dropped = mapping.drop(\"vg0128525986\", axis=1).drop(\"vg0131664768\", axis=1)"
   ],
   "metadata": {
    "collapsed": false
   }
  },
  {
   "cell_type": "code",
   "execution_count": null,
   "outputs": [],
   "source": [
    "mapping_dropped['sequence'] = mapping_dropped.apply(lambda x: ''.join(x[1:-3]), axis=1)"
   ],
   "metadata": {
    "collapsed": false
   }
  },
  {
   "cell_type": "code",
   "execution_count": null,
   "outputs": [],
   "source": [
    "mapping_dropped.to_csv('mapping_22.csv', index=False)"
   ],
   "metadata": {
    "collapsed": false
   }
  },
  {
   "cell_type": "code",
   "execution_count": null,
   "outputs": [],
   "source": [
    "sequences = []\n",
    "for i in range(mapping.shape[0]):\n",
    "    sequences.append((mapping.iloc[i, 0], mapping.iloc[i, -1]))\n",
    "sequences_dict = dict() \n",
    "for x, y in sequences:\n",
    "    sequences_dict[x]=y\n",
    "sequences_dict"
   ],
   "metadata": {
    "collapsed": false
   }
  },
  {
   "cell_type": "code",
   "execution_count": null,
   "outputs": [],
   "source": [
    "filename = 'sequences_24.fasta'\n",
    "\n",
    "# open the output file for writing\n",
    "with open(filename, 'w') as f:\n",
    "\n",
    "    # iterate over each sequence and write to the file in FASTA format\n",
    "    for seq in sequences:\n",
    "        cultivar_id, sequence = seq\n",
    "        name = cultivar_id\n",
    "        f.write(f'>{name}\\n{sequence}\\n')"
   ],
   "metadata": {
    "collapsed": false
   }
  },
  {
   "cell_type": "code",
   "execution_count": null,
   "outputs": [],
   "source": [
    "from Bio import AlignIO\n",
    "from Bio.Phylo.TreeConstruction import DistanceCalculator, DistanceTreeConstructor\n",
    "from Bio import Phylo\n",
    "# script to run muscle command line\n",
    "\n",
    "import subprocess\n",
    "\n",
    "# Set the input and output file names\n",
    "input_file = \"sequences_24.fasta\"\n",
    "output_file = \"aligned_24.fasta\"\n",
    "\n",
    "# Define the MUSCLE command as a list of arguments\n",
    "muscle_command = [\"muscle\", \"-align\", input_file, \"-output\", output_file]\n",
    "\n",
    "# Run the MUSCLE command using subprocess\n",
    "process = subprocess.Popen(muscle_command, stdout=subprocess.PIPE, stderr=subprocess.PIPE)\n",
    "\n",
    "# Get the standard output and error messages\n",
    "stdout, stderr = process.communicate()\n",
    "\n",
    "# Print the standard output and error messages\n",
    "print(stdout.decode())\n",
    "print(stderr.decode())\n"
   ],
   "metadata": {
    "collapsed": false
   }
  },
  {
   "cell_type": "code",
   "execution_count": null,
   "outputs": [],
   "source": [
    "# Read in the FASTA file and create phylogenetic tree\n",
    "alignment = AlignIO.read(\"aligned_24.fasta\", \"fasta\")\n",
    "\n",
    "# Calculate the distance matrix\n",
    "calculator = DistanceCalculator('identity')\n",
    "dm = calculator.get_distance(alignment)\n",
    "\n",
    "# Construct the tree using the UPGMA\n",
    "constructor = DistanceTreeConstructor(calculator, 'upgma')\n",
    "tree = constructor.build_tree(alignment)\n",
    "\n",
    "# Visualize the tree\n",
    "# print(Phylo.draw_ascii(tree))"
   ],
   "metadata": {
    "collapsed": false
   }
  },
  {
   "cell_type": "code",
   "execution_count": null,
   "outputs": [],
   "source": [
    "Phylo.draw(tree)"
   ],
   "metadata": {
    "collapsed": false
   }
  },
  {
   "cell_type": "code",
   "execution_count": null,
   "outputs": [],
   "source": [
    "Phylo.write(tree, \"tree_24.nwk\", \"newick\")"
   ],
   "metadata": {
    "collapsed": false
   }
  },
  {
   "cell_type": "code",
   "execution_count": null,
   "outputs": [],
   "source": [
    "# Get the tuple representation of the tree\n",
    "def get_tuple(clade):\n",
    "    if clade.is_terminal():\n",
    "        return clade.name\n",
    "    else:\n",
    "        return (get_tuple(clade.clades[0]), get_tuple(clade.clades[1]))\n",
    "\n",
    "tree_tuple = get_tuple(tree.clade)\n",
    "\n",
    "print(tree_tuple)"
   ],
   "metadata": {
    "collapsed": false
   }
  },
  {
   "cell_type": "code",
   "execution_count": null,
   "outputs": [],
   "source": [
    "s = str(tree_tuple).replace(\" \", \"\").replace(\"'\", \"\")\n",
    "non_characters = [\"(\", \")\", \"'\"]\n",
    "clusters = []\n",
    "i = 0\n",
    "while i < len(s):\n",
    "    if s[i] == \"(\":\n",
    "        clusterOpen = i\n",
    "        flag = 0\n",
    "        i+=1\n",
    "        while i < len(s):\n",
    "            if s[i] not in non_characters:\n",
    "                flag = 1\n",
    "            if s[i] == \"(\" and flag == 1:\n",
    "                break\n",
    "            i+=1\n",
    "        clusterClose = i-1\n",
    "        cluster = s[clusterOpen:clusterClose].replace(\"(\", \"\").replace(\")\", \"\").split(\",\")\n",
    "        clusters.append(cluster)\n",
    "\n",
    "clusters"
   ],
   "metadata": {
    "collapsed": false
   }
  },
  {
   "cell_type": "code",
   "execution_count": null,
   "outputs": [],
   "source": [
    "len(clusters)"
   ],
   "metadata": {
    "collapsed": false
   }
  },
  {
   "cell_type": "code",
   "execution_count": null,
   "outputs": [],
   "source": [
    "clusters_dict = dict()\n",
    "for n, cluster in enumerate(clusters):\n",
    "    clusters_dict[n] = cluster\n",
    "clusters_dict"
   ],
   "metadata": {
    "collapsed": false
   }
  },
  {
   "cell_type": "code",
   "execution_count": null,
   "outputs": [],
   "source": [
    "sequence_cluster_dict = dict()\n",
    "for k, v in clusters_dict.items():\n",
    "    for cultivar in v:\n",
    "        sequence_cluster_dict[cultivar] = k\n",
    "sequence_cluster_dict"
   ],
   "metadata": {
    "collapsed": false
   }
  },
  {
   "cell_type": "code",
   "execution_count": null,
   "outputs": [],
   "source": [
    "unique_sequences_per_cluster = dict()\n",
    "for k,v in clusters_dict.items():\n",
    "    unique_sequences_per_cluster[k] = list(set(sequences_dict[cult] for cult in v))\n",
    "unique_sequences_per_cluster"
   ],
   "metadata": {
    "collapsed": false
   }
  },
  {
   "cell_type": "code",
   "execution_count": null,
   "outputs": [],
   "source": [
    "sequences_dict"
   ],
   "metadata": {
    "collapsed": false
   }
  },
  {
   "cell_type": "code",
   "execution_count": null,
   "outputs": [],
   "source": [
    "import json\n",
    "\n",
    "listX = [sequences_dict, clusters_dict, sequence_cluster_dict, unique_sequences_per_cluster]\n",
    "listN = ['sequences_dict', 'clusters_dict', 'sequence_cluster_dict', 'unique_sequences_per_cluster']\n",
    "\n",
    "# Open a new file in write mode\n",
    "\n",
    "for i in range(len(listN)):\n",
    "    print(listN[i]+\".json\")\n",
    "    with open(listN[i]+\".json\", \"w\") as f:\n",
    "        json.dump(list[i], f)\n",
    "        print(list[i])\n",
    "        print()\n",
    "\n",
    "\n",
    "# for file in listN:\n",
    "#     with open(str(file)+\".json\", \"w\") as f:\n",
    "#         # Serialize the dictionary to a JSON string and write it to the file\n",
    "#         json.dump(file, f)\n"
   ],
   "metadata": {
    "collapsed": false
   }
  },
  {
   "cell_type": "code",
   "execution_count": 46,
   "outputs": [],
   "source": [
    "import json\n",
    "# Open a new file in write mode\n",
    "with open(\"sequence_cluster_dict\", \"w\") as f:\n",
    "    # Serialize the dictionary to a JSON string and write it to the file\n",
    "    json.dump(sequence_cluster_dict, f)"
   ],
   "metadata": {
    "collapsed": false,
    "ExecuteTime": {
     "end_time": "2023-05-10T06:50:38.068827Z",
     "start_time": "2023-05-10T06:50:38.063792Z"
    }
   }
  },
  {
   "cell_type": "code",
   "execution_count": 48,
   "outputs": [],
   "source": [],
   "metadata": {
    "collapsed": false,
    "ExecuteTime": {
     "end_time": "2023-05-10T06:51:12.079381Z",
     "start_time": "2023-05-10T06:51:12.070417Z"
    }
   }
  }
 ],
 "metadata": {
  "kernelspec": {
   "display_name": "Python 3",
   "language": "python",
   "name": "python3"
  },
  "language_info": {
   "codemirror_mode": {
    "name": "ipython",
    "version": 2
   },
   "file_extension": ".py",
   "mimetype": "text/x-python",
   "name": "python",
   "nbconvert_exporter": "python",
   "pygments_lexer": "ipython2",
   "version": "2.7.6"
  }
 },
 "nbformat": 4,
 "nbformat_minor": 0
}
