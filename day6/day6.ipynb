{
 "cells": [
  {
   "cell_type": "code",
   "execution_count": 148,
   "metadata": {
    "collapsed": true
   },
   "outputs": [],
   "source": [
    "import pandas as pd"
   ]
  },
  {
   "cell_type": "code",
   "execution_count": 169,
   "outputs": [
    {
     "data": {
      "text/plain": "  Cultivar Name    Cultivar ID       Subpopulation   Location   Accession\n0         02428           C152  Temperate Japonica    Jiangsu  SRR1239752\n1      02428-IL          CX277  Temperate Japonica      China   ERS470588\n2        053A-3          CX351  Temperate Japonica      China   ERS470636\n3         10340           W146            Indica I      Italy  SRR1239949\n4      104_UPLA  IRIS_313-8063   Tropical Japonica  Argentina   ERS468624",
      "text/html": "<div>\n<style scoped>\n    .dataframe tbody tr th:only-of-type {\n        vertical-align: middle;\n    }\n\n    .dataframe tbody tr th {\n        vertical-align: top;\n    }\n\n    .dataframe thead th {\n        text-align: right;\n    }\n</style>\n<table border=\"1\" class=\"dataframe\">\n  <thead>\n    <tr style=\"text-align: right;\">\n      <th></th>\n      <th>Cultivar Name</th>\n      <th>Cultivar ID</th>\n      <th>Subpopulation</th>\n      <th>Location</th>\n      <th>Accession</th>\n    </tr>\n  </thead>\n  <tbody>\n    <tr>\n      <th>0</th>\n      <td>02428</td>\n      <td>C152</td>\n      <td>Temperate Japonica</td>\n      <td>Jiangsu</td>\n      <td>SRR1239752</td>\n    </tr>\n    <tr>\n      <th>1</th>\n      <td>02428-IL</td>\n      <td>CX277</td>\n      <td>Temperate Japonica</td>\n      <td>China</td>\n      <td>ERS470588</td>\n    </tr>\n    <tr>\n      <th>2</th>\n      <td>053A-3</td>\n      <td>CX351</td>\n      <td>Temperate Japonica</td>\n      <td>China</td>\n      <td>ERS470636</td>\n    </tr>\n    <tr>\n      <th>3</th>\n      <td>10340</td>\n      <td>W146</td>\n      <td>Indica I</td>\n      <td>Italy</td>\n      <td>SRR1239949</td>\n    </tr>\n    <tr>\n      <th>4</th>\n      <td>104_UPLA</td>\n      <td>IRIS_313-8063</td>\n      <td>Tropical Japonica</td>\n      <td>Argentina</td>\n      <td>ERS468624</td>\n    </tr>\n  </tbody>\n</table>\n</div>"
     },
     "execution_count": 169,
     "metadata": {},
     "output_type": "execute_result"
    }
   ],
   "source": [
    "cultivars = pd.read_csv(\"Cultivars.csv\")\n",
    "cultivars.head()"
   ],
   "metadata": {
    "collapsed": false
   }
  },
  {
   "cell_type": "code",
   "execution_count": 170,
   "outputs": [
    {
     "data": {
      "text/plain": "  Cultivar Name Cultivar ID       Subpopulation  Plant Height (cm)\n0         02428        C152  Temperate Japonica              100.0\n1         10340        W146            Indica I              127.4\n2          108S        W150           Indica II              104.6\n3             2        W129         VI/Aromatic              151.2\n4          4484        W086           Indica II              103.4",
      "text/html": "<div>\n<style scoped>\n    .dataframe tbody tr th:only-of-type {\n        vertical-align: middle;\n    }\n\n    .dataframe tbody tr th {\n        vertical-align: top;\n    }\n\n    .dataframe thead th {\n        text-align: right;\n    }\n</style>\n<table border=\"1\" class=\"dataframe\">\n  <thead>\n    <tr style=\"text-align: right;\">\n      <th></th>\n      <th>Cultivar Name</th>\n      <th>Cultivar ID</th>\n      <th>Subpopulation</th>\n      <th>Plant Height (cm)</th>\n    </tr>\n  </thead>\n  <tbody>\n    <tr>\n      <th>0</th>\n      <td>02428</td>\n      <td>C152</td>\n      <td>Temperate Japonica</td>\n      <td>100.0</td>\n    </tr>\n    <tr>\n      <th>1</th>\n      <td>10340</td>\n      <td>W146</td>\n      <td>Indica I</td>\n      <td>127.4</td>\n    </tr>\n    <tr>\n      <th>2</th>\n      <td>108S</td>\n      <td>W150</td>\n      <td>Indica II</td>\n      <td>104.6</td>\n    </tr>\n    <tr>\n      <th>3</th>\n      <td>2</td>\n      <td>W129</td>\n      <td>VI/Aromatic</td>\n      <td>151.2</td>\n    </tr>\n    <tr>\n      <th>4</th>\n      <td>4484</td>\n      <td>W086</td>\n      <td>Indica II</td>\n      <td>103.4</td>\n    </tr>\n  </tbody>\n</table>\n</div>"
     },
     "execution_count": 170,
     "metadata": {},
     "output_type": "execute_result"
    }
   ],
   "source": [
    "heights = pd.read_csv(\"Height.csv\")\n",
    "heights.head()"
   ],
   "metadata": {
    "collapsed": false
   }
  },
  {
   "cell_type": "code",
   "execution_count": 171,
   "outputs": [
    {
     "data": {
      "text/plain": "      Cultivar ID vg0130976864 vg0135617816 vg0138428840 vg0405463422  \\\n0      Chromosome        chr01        chr01        chr01        chr04   \n1        Position     30976864     35617816     38428840      5463422   \n2  Variation Type          SNP          SNP          SNP          SNP   \n3       Reference            A            C            T            G   \n4  Primary Allele            G            C            T            G   \n\n  vg0713178880 vg0819793460 vg1019044175 vg1123563633 vg1207667840  \n0        chr07        chr08        chr10        chr11        chr12  \n1     13178880     19793460     19044175     23563633      7667840  \n2          SNP          SNP          SNP          SNP          SNP  \n3            T            A            C            T            T  \n4            T            A            T            T            T  ",
      "text/html": "<div>\n<style scoped>\n    .dataframe tbody tr th:only-of-type {\n        vertical-align: middle;\n    }\n\n    .dataframe tbody tr th {\n        vertical-align: top;\n    }\n\n    .dataframe thead th {\n        text-align: right;\n    }\n</style>\n<table border=\"1\" class=\"dataframe\">\n  <thead>\n    <tr style=\"text-align: right;\">\n      <th></th>\n      <th>Cultivar ID</th>\n      <th>vg0130976864</th>\n      <th>vg0135617816</th>\n      <th>vg0138428840</th>\n      <th>vg0405463422</th>\n      <th>vg0713178880</th>\n      <th>vg0819793460</th>\n      <th>vg1019044175</th>\n      <th>vg1123563633</th>\n      <th>vg1207667840</th>\n    </tr>\n  </thead>\n  <tbody>\n    <tr>\n      <th>0</th>\n      <td>Chromosome</td>\n      <td>chr01</td>\n      <td>chr01</td>\n      <td>chr01</td>\n      <td>chr04</td>\n      <td>chr07</td>\n      <td>chr08</td>\n      <td>chr10</td>\n      <td>chr11</td>\n      <td>chr12</td>\n    </tr>\n    <tr>\n      <th>1</th>\n      <td>Position</td>\n      <td>30976864</td>\n      <td>35617816</td>\n      <td>38428840</td>\n      <td>5463422</td>\n      <td>13178880</td>\n      <td>19793460</td>\n      <td>19044175</td>\n      <td>23563633</td>\n      <td>7667840</td>\n    </tr>\n    <tr>\n      <th>2</th>\n      <td>Variation Type</td>\n      <td>SNP</td>\n      <td>SNP</td>\n      <td>SNP</td>\n      <td>SNP</td>\n      <td>SNP</td>\n      <td>SNP</td>\n      <td>SNP</td>\n      <td>SNP</td>\n      <td>SNP</td>\n    </tr>\n    <tr>\n      <th>3</th>\n      <td>Reference</td>\n      <td>A</td>\n      <td>C</td>\n      <td>T</td>\n      <td>G</td>\n      <td>T</td>\n      <td>A</td>\n      <td>C</td>\n      <td>T</td>\n      <td>T</td>\n    </tr>\n    <tr>\n      <th>4</th>\n      <td>Primary Allele</td>\n      <td>G</td>\n      <td>C</td>\n      <td>T</td>\n      <td>G</td>\n      <td>T</td>\n      <td>A</td>\n      <td>T</td>\n      <td>T</td>\n      <td>T</td>\n    </tr>\n  </tbody>\n</table>\n</div>"
     },
     "execution_count": 171,
     "metadata": {},
     "output_type": "execute_result"
    }
   ],
   "source": [
    "genotype = pd.read_csv(\"Genotype.csv\")\n",
    "genotype = genotype.rename(columns={'Variation ID': 'Cultivar ID'})\n",
    "genotype.head()"
   ],
   "metadata": {
    "collapsed": false
   }
  },
  {
   "cell_type": "code",
   "execution_count": 172,
   "outputs": [
    {
     "data": {
      "text/plain": "(4732, 10)"
     },
     "execution_count": 172,
     "metadata": {},
     "output_type": "execute_result"
    }
   ],
   "source": [
    "genotype.shape"
   ],
   "metadata": {
    "collapsed": false
   }
  },
  {
   "cell_type": "code",
   "execution_count": 173,
   "outputs": [
    {
     "name": "stdout",
     "output_type": "stream",
     "text": [
      "[('vg0405463422', 1667), ('vg1123563633', 384), ('vg0135617816', 148), ('vg0130976864', 0), ('vg0138428840', 0), ('vg0713178880', 0), ('vg0819793460', 0), ('vg1019044175', 0), ('vg1207667840', 0)]\n"
     ]
    }
   ],
   "source": [
    "# counting del values for each SNP\n",
    "\n",
    "delCount = []\n",
    "for i in range(1, genotype.shape[1]):\n",
    "    val = 0\n",
    "    for j in range(6, genotype.shape[0]):\n",
    "        if genotype.iloc[j, i] == \"DEL\":\n",
    "            val = val + 1\n",
    "    delCount.append((genotype.columns[i],val))\n",
    "\n",
    "print(sorted(delCount, key=lambda x : x[1], reverse=True))"
   ],
   "metadata": {
    "collapsed": false
   }
  },
  {
   "cell_type": "code",
   "execution_count": 174,
   "outputs": [],
   "source": [
    "# vg04 has very high frequency of del, hence we drop it\n",
    "\n",
    "genotype.drop(\"vg0405463422\", axis=1, inplace=True)"
   ],
   "metadata": {
    "collapsed": false
   }
  },
  {
   "cell_type": "code",
   "execution_count": 175,
   "outputs": [
    {
     "data": {
      "text/plain": "        Cultivar ID vg0130976864 vg0135617816 vg0138428840 vg0713178880  \\\n0        Chromosome        chr01        chr01        chr01        chr07   \n1          Position     30976864     35617816     38428840     13178880   \n2    Variation Type          SNP          SNP          SNP          SNP   \n3         Reference            A            C            T            T   \n4    Primary Allele            G            C            T            T   \n5  Secondary Allele            A            T            C            A   \n\n  vg0819793460 vg1019044175 vg1123563633 vg1207667840  \n0        chr08        chr10        chr11        chr12  \n1     19793460     19044175     23563633      7667840  \n2          SNP          SNP          SNP          SNP  \n3            A            C            T            T  \n4            A            T            T            T  \n5            T            C            C            C  ",
      "text/html": "<div>\n<style scoped>\n    .dataframe tbody tr th:only-of-type {\n        vertical-align: middle;\n    }\n\n    .dataframe tbody tr th {\n        vertical-align: top;\n    }\n\n    .dataframe thead th {\n        text-align: right;\n    }\n</style>\n<table border=\"1\" class=\"dataframe\">\n  <thead>\n    <tr style=\"text-align: right;\">\n      <th></th>\n      <th>Cultivar ID</th>\n      <th>vg0130976864</th>\n      <th>vg0135617816</th>\n      <th>vg0138428840</th>\n      <th>vg0713178880</th>\n      <th>vg0819793460</th>\n      <th>vg1019044175</th>\n      <th>vg1123563633</th>\n      <th>vg1207667840</th>\n    </tr>\n  </thead>\n  <tbody>\n    <tr>\n      <th>0</th>\n      <td>Chromosome</td>\n      <td>chr01</td>\n      <td>chr01</td>\n      <td>chr01</td>\n      <td>chr07</td>\n      <td>chr08</td>\n      <td>chr10</td>\n      <td>chr11</td>\n      <td>chr12</td>\n    </tr>\n    <tr>\n      <th>1</th>\n      <td>Position</td>\n      <td>30976864</td>\n      <td>35617816</td>\n      <td>38428840</td>\n      <td>13178880</td>\n      <td>19793460</td>\n      <td>19044175</td>\n      <td>23563633</td>\n      <td>7667840</td>\n    </tr>\n    <tr>\n      <th>2</th>\n      <td>Variation Type</td>\n      <td>SNP</td>\n      <td>SNP</td>\n      <td>SNP</td>\n      <td>SNP</td>\n      <td>SNP</td>\n      <td>SNP</td>\n      <td>SNP</td>\n      <td>SNP</td>\n    </tr>\n    <tr>\n      <th>3</th>\n      <td>Reference</td>\n      <td>A</td>\n      <td>C</td>\n      <td>T</td>\n      <td>T</td>\n      <td>A</td>\n      <td>C</td>\n      <td>T</td>\n      <td>T</td>\n    </tr>\n    <tr>\n      <th>4</th>\n      <td>Primary Allele</td>\n      <td>G</td>\n      <td>C</td>\n      <td>T</td>\n      <td>T</td>\n      <td>A</td>\n      <td>T</td>\n      <td>T</td>\n      <td>T</td>\n    </tr>\n    <tr>\n      <th>5</th>\n      <td>Secondary Allele</td>\n      <td>A</td>\n      <td>T</td>\n      <td>C</td>\n      <td>A</td>\n      <td>T</td>\n      <td>C</td>\n      <td>C</td>\n      <td>C</td>\n    </tr>\n  </tbody>\n</table>\n</div>"
     },
     "execution_count": 175,
     "metadata": {},
     "output_type": "execute_result"
    }
   ],
   "source": [
    "genotypeHeader = genotype.iloc[:6, :]\n",
    "primaryAlleleRow = 4\n",
    "genotypeHeader"
   ],
   "metadata": {
    "collapsed": false
   }
  },
  {
   "cell_type": "code",
   "execution_count": 176,
   "outputs": [
    {
     "data": {
      "text/plain": "                             Cultivar ID vg0130976864 vg0135617816  \\\n6                 B001 (Heibiao) Imputed            G            C   \n7               B002 (Sansuijin) Imputed            A            C   \n8           B003 (Zaoshengbai__) Imputed            A            C   \n9     B004 (Qiuguangtengxi_104_) Imputed            A            C   \n10                 B005 (Wanshi) Imputed            A            C   \n...                                  ...          ...          ...   \n4727       W326 (Haolvguangnian) Imputed            G            C   \n4728              W327 (JinghuB) Imputed            A            C   \n4729         W328 (Sibeitichao6) Imputed            A            C   \n4730            W329 (GPNO_5055) Imputed            G            C   \n4731           W330 (ASWINA_330) Imputed            G            C   \n\n     vg0138428840 vg0713178880 vg0819793460 vg1019044175 vg1123563633  \\\n6               T            A            A            C            T   \n7               T            T            A            C            T   \n8               T            T            A            C            T   \n9               T            T            A            C            T   \n10              T            A            A            C          DEL   \n...           ...          ...          ...          ...          ...   \n4727            T            T            A            C            T   \n4728            T            T            A            C            T   \n4729            T            T            A            C            T   \n4730            T            T            A            T            T   \n4731            C            T            T            C          DEL   \n\n     vg1207667840  \n6               T  \n7               T  \n8               T  \n9               T  \n10              T  \n...           ...  \n4727            C  \n4728            C  \n4729            T  \n4730            C  \n4731            C  \n\n[4726 rows x 9 columns]",
      "text/html": "<div>\n<style scoped>\n    .dataframe tbody tr th:only-of-type {\n        vertical-align: middle;\n    }\n\n    .dataframe tbody tr th {\n        vertical-align: top;\n    }\n\n    .dataframe thead th {\n        text-align: right;\n    }\n</style>\n<table border=\"1\" class=\"dataframe\">\n  <thead>\n    <tr style=\"text-align: right;\">\n      <th></th>\n      <th>Cultivar ID</th>\n      <th>vg0130976864</th>\n      <th>vg0135617816</th>\n      <th>vg0138428840</th>\n      <th>vg0713178880</th>\n      <th>vg0819793460</th>\n      <th>vg1019044175</th>\n      <th>vg1123563633</th>\n      <th>vg1207667840</th>\n    </tr>\n  </thead>\n  <tbody>\n    <tr>\n      <th>6</th>\n      <td>B001 (Heibiao) Imputed</td>\n      <td>G</td>\n      <td>C</td>\n      <td>T</td>\n      <td>A</td>\n      <td>A</td>\n      <td>C</td>\n      <td>T</td>\n      <td>T</td>\n    </tr>\n    <tr>\n      <th>7</th>\n      <td>B002 (Sansuijin) Imputed</td>\n      <td>A</td>\n      <td>C</td>\n      <td>T</td>\n      <td>T</td>\n      <td>A</td>\n      <td>C</td>\n      <td>T</td>\n      <td>T</td>\n    </tr>\n    <tr>\n      <th>8</th>\n      <td>B003 (Zaoshengbai__) Imputed</td>\n      <td>A</td>\n      <td>C</td>\n      <td>T</td>\n      <td>T</td>\n      <td>A</td>\n      <td>C</td>\n      <td>T</td>\n      <td>T</td>\n    </tr>\n    <tr>\n      <th>9</th>\n      <td>B004 (Qiuguangtengxi_104_) Imputed</td>\n      <td>A</td>\n      <td>C</td>\n      <td>T</td>\n      <td>T</td>\n      <td>A</td>\n      <td>C</td>\n      <td>T</td>\n      <td>T</td>\n    </tr>\n    <tr>\n      <th>10</th>\n      <td>B005 (Wanshi) Imputed</td>\n      <td>A</td>\n      <td>C</td>\n      <td>T</td>\n      <td>A</td>\n      <td>A</td>\n      <td>C</td>\n      <td>DEL</td>\n      <td>T</td>\n    </tr>\n    <tr>\n      <th>...</th>\n      <td>...</td>\n      <td>...</td>\n      <td>...</td>\n      <td>...</td>\n      <td>...</td>\n      <td>...</td>\n      <td>...</td>\n      <td>...</td>\n      <td>...</td>\n    </tr>\n    <tr>\n      <th>4727</th>\n      <td>W326 (Haolvguangnian) Imputed</td>\n      <td>G</td>\n      <td>C</td>\n      <td>T</td>\n      <td>T</td>\n      <td>A</td>\n      <td>C</td>\n      <td>T</td>\n      <td>C</td>\n    </tr>\n    <tr>\n      <th>4728</th>\n      <td>W327 (JinghuB) Imputed</td>\n      <td>A</td>\n      <td>C</td>\n      <td>T</td>\n      <td>T</td>\n      <td>A</td>\n      <td>C</td>\n      <td>T</td>\n      <td>C</td>\n    </tr>\n    <tr>\n      <th>4729</th>\n      <td>W328 (Sibeitichao6) Imputed</td>\n      <td>A</td>\n      <td>C</td>\n      <td>T</td>\n      <td>T</td>\n      <td>A</td>\n      <td>C</td>\n      <td>T</td>\n      <td>T</td>\n    </tr>\n    <tr>\n      <th>4730</th>\n      <td>W329 (GPNO_5055) Imputed</td>\n      <td>G</td>\n      <td>C</td>\n      <td>T</td>\n      <td>T</td>\n      <td>A</td>\n      <td>T</td>\n      <td>T</td>\n      <td>C</td>\n    </tr>\n    <tr>\n      <th>4731</th>\n      <td>W330 (ASWINA_330) Imputed</td>\n      <td>G</td>\n      <td>C</td>\n      <td>C</td>\n      <td>T</td>\n      <td>T</td>\n      <td>C</td>\n      <td>DEL</td>\n      <td>C</td>\n    </tr>\n  </tbody>\n</table>\n<p>4726 rows × 9 columns</p>\n</div>"
     },
     "execution_count": 176,
     "metadata": {},
     "output_type": "execute_result"
    }
   ],
   "source": [
    "genotype = genotype.iloc[6:, :]\n",
    "genotype"
   ],
   "metadata": {
    "collapsed": false
   }
  },
  {
   "cell_type": "code",
   "execution_count": 177,
   "outputs": [
    {
     "name": "stdout",
     "output_type": "stream",
     "text": [
      "<class 'pandas.core.series.Series'>\n"
     ]
    }
   ],
   "source": [
    "col = genotype.iloc[:, 4]\n",
    "print(type(col))"
   ],
   "metadata": {
    "collapsed": false
   }
  },
  {
   "cell_type": "code",
   "execution_count": 178,
   "outputs": [
    {
     "data": {
      "text/plain": "                             Cultivar ID vg0130976864 vg0135617816  \\\n6                 B001 (Heibiao) Imputed            G            C   \n7               B002 (Sansuijin) Imputed            A            C   \n8           B003 (Zaoshengbai__) Imputed            A            C   \n9     B004 (Qiuguangtengxi_104_) Imputed            A            C   \n10                 B005 (Wanshi) Imputed            A            C   \n...                                  ...          ...          ...   \n4727       W326 (Haolvguangnian) Imputed            G            C   \n4728              W327 (JinghuB) Imputed            A            C   \n4729         W328 (Sibeitichao6) Imputed            A            C   \n4730            W329 (GPNO_5055) Imputed            G            C   \n4731           W330 (ASWINA_330) Imputed            G            C   \n\n     vg0138428840 vg0713178880 vg0819793460 vg1019044175 vg1123563633  \\\n6               T            A            A            C            T   \n7               T            T            A            C            T   \n8               T            T            A            C            T   \n9               T            T            A            C            T   \n10              T            A            A            C            T   \n...           ...          ...          ...          ...          ...   \n4727            T            T            A            C            T   \n4728            T            T            A            C            T   \n4729            T            T            A            C            T   \n4730            T            T            A            T            T   \n4731            C            T            T            C            T   \n\n     vg1207667840  \n6               T  \n7               T  \n8               T  \n9               T  \n10              T  \n...           ...  \n4727            C  \n4728            C  \n4729            T  \n4730            C  \n4731            C  \n\n[4726 rows x 9 columns]",
      "text/html": "<div>\n<style scoped>\n    .dataframe tbody tr th:only-of-type {\n        vertical-align: middle;\n    }\n\n    .dataframe tbody tr th {\n        vertical-align: top;\n    }\n\n    .dataframe thead th {\n        text-align: right;\n    }\n</style>\n<table border=\"1\" class=\"dataframe\">\n  <thead>\n    <tr style=\"text-align: right;\">\n      <th></th>\n      <th>Cultivar ID</th>\n      <th>vg0130976864</th>\n      <th>vg0135617816</th>\n      <th>vg0138428840</th>\n      <th>vg0713178880</th>\n      <th>vg0819793460</th>\n      <th>vg1019044175</th>\n      <th>vg1123563633</th>\n      <th>vg1207667840</th>\n    </tr>\n  </thead>\n  <tbody>\n    <tr>\n      <th>6</th>\n      <td>B001 (Heibiao) Imputed</td>\n      <td>G</td>\n      <td>C</td>\n      <td>T</td>\n      <td>A</td>\n      <td>A</td>\n      <td>C</td>\n      <td>T</td>\n      <td>T</td>\n    </tr>\n    <tr>\n      <th>7</th>\n      <td>B002 (Sansuijin) Imputed</td>\n      <td>A</td>\n      <td>C</td>\n      <td>T</td>\n      <td>T</td>\n      <td>A</td>\n      <td>C</td>\n      <td>T</td>\n      <td>T</td>\n    </tr>\n    <tr>\n      <th>8</th>\n      <td>B003 (Zaoshengbai__) Imputed</td>\n      <td>A</td>\n      <td>C</td>\n      <td>T</td>\n      <td>T</td>\n      <td>A</td>\n      <td>C</td>\n      <td>T</td>\n      <td>T</td>\n    </tr>\n    <tr>\n      <th>9</th>\n      <td>B004 (Qiuguangtengxi_104_) Imputed</td>\n      <td>A</td>\n      <td>C</td>\n      <td>T</td>\n      <td>T</td>\n      <td>A</td>\n      <td>C</td>\n      <td>T</td>\n      <td>T</td>\n    </tr>\n    <tr>\n      <th>10</th>\n      <td>B005 (Wanshi) Imputed</td>\n      <td>A</td>\n      <td>C</td>\n      <td>T</td>\n      <td>A</td>\n      <td>A</td>\n      <td>C</td>\n      <td>T</td>\n      <td>T</td>\n    </tr>\n    <tr>\n      <th>...</th>\n      <td>...</td>\n      <td>...</td>\n      <td>...</td>\n      <td>...</td>\n      <td>...</td>\n      <td>...</td>\n      <td>...</td>\n      <td>...</td>\n      <td>...</td>\n    </tr>\n    <tr>\n      <th>4727</th>\n      <td>W326 (Haolvguangnian) Imputed</td>\n      <td>G</td>\n      <td>C</td>\n      <td>T</td>\n      <td>T</td>\n      <td>A</td>\n      <td>C</td>\n      <td>T</td>\n      <td>C</td>\n    </tr>\n    <tr>\n      <th>4728</th>\n      <td>W327 (JinghuB) Imputed</td>\n      <td>A</td>\n      <td>C</td>\n      <td>T</td>\n      <td>T</td>\n      <td>A</td>\n      <td>C</td>\n      <td>T</td>\n      <td>C</td>\n    </tr>\n    <tr>\n      <th>4729</th>\n      <td>W328 (Sibeitichao6) Imputed</td>\n      <td>A</td>\n      <td>C</td>\n      <td>T</td>\n      <td>T</td>\n      <td>A</td>\n      <td>C</td>\n      <td>T</td>\n      <td>T</td>\n    </tr>\n    <tr>\n      <th>4730</th>\n      <td>W329 (GPNO_5055) Imputed</td>\n      <td>G</td>\n      <td>C</td>\n      <td>T</td>\n      <td>T</td>\n      <td>A</td>\n      <td>T</td>\n      <td>T</td>\n      <td>C</td>\n    </tr>\n    <tr>\n      <th>4731</th>\n      <td>W330 (ASWINA_330) Imputed</td>\n      <td>G</td>\n      <td>C</td>\n      <td>C</td>\n      <td>T</td>\n      <td>T</td>\n      <td>C</td>\n      <td>T</td>\n      <td>C</td>\n    </tr>\n  </tbody>\n</table>\n<p>4726 rows × 9 columns</p>\n</div>"
     },
     "execution_count": 178,
     "metadata": {},
     "output_type": "execute_result"
    }
   ],
   "source": [
    "# replacing genotype for each column with their primary allele\n",
    "\n",
    "for i in range(1, genotype.shape[1]):\n",
    "    primaryAllele = genotypeHeader.iloc[primaryAlleleRow, i]\n",
    "    col = genotype.iloc[:, i]\n",
    "    col.replace(\"DEL\", primaryAllele, inplace=True)\n",
    "\n",
    "genotype"
   ],
   "metadata": {
    "collapsed": false
   }
  },
  {
   "cell_type": "code",
   "execution_count": 181,
   "outputs": [
    {
     "data": {
      "text/plain": "     Cultivar ID vg0130976864 vg0135617816 vg0138428840 vg0713178880  \\\n6           B001            G            C            T            A   \n7           B002            A            C            T            T   \n8           B003            A            C            T            T   \n9           B004            A            C            T            T   \n10          B005            A            C            T            A   \n...          ...          ...          ...          ...          ...   \n4727        W326            G            C            T            T   \n4728        W327            A            C            T            T   \n4729        W328            A            C            T            T   \n4730        W329            G            C            T            T   \n4731        W330            G            C            C            T   \n\n     vg0819793460 vg1019044175 vg1123563633 vg1207667840  \n6               A            C            T            T  \n7               A            C            T            T  \n8               A            C            T            T  \n9               A            C            T            T  \n10              A            C            T            T  \n...           ...          ...          ...          ...  \n4727            A            C            T            C  \n4728            A            C            T            C  \n4729            A            C            T            T  \n4730            A            T            T            C  \n4731            T            C            T            C  \n\n[4726 rows x 9 columns]",
      "text/html": "<div>\n<style scoped>\n    .dataframe tbody tr th:only-of-type {\n        vertical-align: middle;\n    }\n\n    .dataframe tbody tr th {\n        vertical-align: top;\n    }\n\n    .dataframe thead th {\n        text-align: right;\n    }\n</style>\n<table border=\"1\" class=\"dataframe\">\n  <thead>\n    <tr style=\"text-align: right;\">\n      <th></th>\n      <th>Cultivar ID</th>\n      <th>vg0130976864</th>\n      <th>vg0135617816</th>\n      <th>vg0138428840</th>\n      <th>vg0713178880</th>\n      <th>vg0819793460</th>\n      <th>vg1019044175</th>\n      <th>vg1123563633</th>\n      <th>vg1207667840</th>\n    </tr>\n  </thead>\n  <tbody>\n    <tr>\n      <th>6</th>\n      <td>B001</td>\n      <td>G</td>\n      <td>C</td>\n      <td>T</td>\n      <td>A</td>\n      <td>A</td>\n      <td>C</td>\n      <td>T</td>\n      <td>T</td>\n    </tr>\n    <tr>\n      <th>7</th>\n      <td>B002</td>\n      <td>A</td>\n      <td>C</td>\n      <td>T</td>\n      <td>T</td>\n      <td>A</td>\n      <td>C</td>\n      <td>T</td>\n      <td>T</td>\n    </tr>\n    <tr>\n      <th>8</th>\n      <td>B003</td>\n      <td>A</td>\n      <td>C</td>\n      <td>T</td>\n      <td>T</td>\n      <td>A</td>\n      <td>C</td>\n      <td>T</td>\n      <td>T</td>\n    </tr>\n    <tr>\n      <th>9</th>\n      <td>B004</td>\n      <td>A</td>\n      <td>C</td>\n      <td>T</td>\n      <td>T</td>\n      <td>A</td>\n      <td>C</td>\n      <td>T</td>\n      <td>T</td>\n    </tr>\n    <tr>\n      <th>10</th>\n      <td>B005</td>\n      <td>A</td>\n      <td>C</td>\n      <td>T</td>\n      <td>A</td>\n      <td>A</td>\n      <td>C</td>\n      <td>T</td>\n      <td>T</td>\n    </tr>\n    <tr>\n      <th>...</th>\n      <td>...</td>\n      <td>...</td>\n      <td>...</td>\n      <td>...</td>\n      <td>...</td>\n      <td>...</td>\n      <td>...</td>\n      <td>...</td>\n      <td>...</td>\n    </tr>\n    <tr>\n      <th>4727</th>\n      <td>W326</td>\n      <td>G</td>\n      <td>C</td>\n      <td>T</td>\n      <td>T</td>\n      <td>A</td>\n      <td>C</td>\n      <td>T</td>\n      <td>C</td>\n    </tr>\n    <tr>\n      <th>4728</th>\n      <td>W327</td>\n      <td>A</td>\n      <td>C</td>\n      <td>T</td>\n      <td>T</td>\n      <td>A</td>\n      <td>C</td>\n      <td>T</td>\n      <td>C</td>\n    </tr>\n    <tr>\n      <th>4729</th>\n      <td>W328</td>\n      <td>A</td>\n      <td>C</td>\n      <td>T</td>\n      <td>T</td>\n      <td>A</td>\n      <td>C</td>\n      <td>T</td>\n      <td>T</td>\n    </tr>\n    <tr>\n      <th>4730</th>\n      <td>W329</td>\n      <td>G</td>\n      <td>C</td>\n      <td>T</td>\n      <td>T</td>\n      <td>A</td>\n      <td>T</td>\n      <td>T</td>\n      <td>C</td>\n    </tr>\n    <tr>\n      <th>4731</th>\n      <td>W330</td>\n      <td>G</td>\n      <td>C</td>\n      <td>C</td>\n      <td>T</td>\n      <td>T</td>\n      <td>C</td>\n      <td>T</td>\n      <td>C</td>\n    </tr>\n  </tbody>\n</table>\n<p>4726 rows × 9 columns</p>\n</div>"
     },
     "execution_count": 181,
     "metadata": {},
     "output_type": "execute_result"
    }
   ],
   "source": [
    "def extractVariantID(cultivarID):\n",
    "    return cultivarID.split(sep=\" \")[0]\n",
    "\n",
    "genotype['Cultivar ID'] = genotype['Cultivar ID'].map(extractVariantID)\n",
    "genotype"
   ],
   "metadata": {
    "collapsed": false
   }
  },
  {
   "cell_type": "code",
   "execution_count": 189,
   "outputs": [],
   "source": [
    "mapping = pd.merge(genotype, heights.iloc[:, 1:4], on='Cultivar ID' )"
   ],
   "metadata": {
    "collapsed": false
   }
  },
  {
   "cell_type": "code",
   "execution_count": 190,
   "outputs": [
    {
     "data": {
      "text/plain": "    Cultivar ID vg0130976864 vg0135617816 vg0138428840 vg0713178880  \\\n0          C001            G            C            T            T   \n1          C002            G            C            C            T   \n2          C003            G            C            T            T   \n3          C004            G            C            T            A   \n4          C005            G            C            T            A   \n..          ...          ...          ...          ...          ...   \n524        W326            G            C            T            T   \n525        W327            A            C            T            T   \n526        W328            A            C            T            T   \n527        W329            G            C            T            T   \n528        W330            G            C            C            T   \n\n    vg0819793460 vg1019044175 vg1123563633 vg1207667840  \\\n0              T            C            T            C   \n1              T            C            C            C   \n2              N            C            T            T   \n3              A            C            T            C   \n4              A            T            T            C   \n..           ...          ...          ...          ...   \n524            A            C            T            C   \n525            A            C            T            C   \n526            A            C            T            T   \n527            A            T            T            C   \n528            T            C            T            C   \n\n             Subpopulation  Plant Height (cm)  \n0                 Indica I             144.13  \n1              VI/Aromatic             177.62  \n2    Japonica Intermediate             141.57  \n3       Temperate Japonica             140.40  \n4        Tropical Japonica             163.33  \n..                     ...                ...  \n524  Japonica Intermediate             155.40  \n525     Temperate Japonica              89.80  \n526           Intermediate             117.40  \n527      Tropical Japonica             147.40  \n528                    Aus             149.60  \n\n[529 rows x 11 columns]",
      "text/html": "<div>\n<style scoped>\n    .dataframe tbody tr th:only-of-type {\n        vertical-align: middle;\n    }\n\n    .dataframe tbody tr th {\n        vertical-align: top;\n    }\n\n    .dataframe thead th {\n        text-align: right;\n    }\n</style>\n<table border=\"1\" class=\"dataframe\">\n  <thead>\n    <tr style=\"text-align: right;\">\n      <th></th>\n      <th>Cultivar ID</th>\n      <th>vg0130976864</th>\n      <th>vg0135617816</th>\n      <th>vg0138428840</th>\n      <th>vg0713178880</th>\n      <th>vg0819793460</th>\n      <th>vg1019044175</th>\n      <th>vg1123563633</th>\n      <th>vg1207667840</th>\n      <th>Subpopulation</th>\n      <th>Plant Height (cm)</th>\n    </tr>\n  </thead>\n  <tbody>\n    <tr>\n      <th>0</th>\n      <td>C001</td>\n      <td>G</td>\n      <td>C</td>\n      <td>T</td>\n      <td>T</td>\n      <td>T</td>\n      <td>C</td>\n      <td>T</td>\n      <td>C</td>\n      <td>Indica I</td>\n      <td>144.13</td>\n    </tr>\n    <tr>\n      <th>1</th>\n      <td>C002</td>\n      <td>G</td>\n      <td>C</td>\n      <td>C</td>\n      <td>T</td>\n      <td>T</td>\n      <td>C</td>\n      <td>C</td>\n      <td>C</td>\n      <td>VI/Aromatic</td>\n      <td>177.62</td>\n    </tr>\n    <tr>\n      <th>2</th>\n      <td>C003</td>\n      <td>G</td>\n      <td>C</td>\n      <td>T</td>\n      <td>T</td>\n      <td>N</td>\n      <td>C</td>\n      <td>T</td>\n      <td>T</td>\n      <td>Japonica Intermediate</td>\n      <td>141.57</td>\n    </tr>\n    <tr>\n      <th>3</th>\n      <td>C004</td>\n      <td>G</td>\n      <td>C</td>\n      <td>T</td>\n      <td>A</td>\n      <td>A</td>\n      <td>C</td>\n      <td>T</td>\n      <td>C</td>\n      <td>Temperate Japonica</td>\n      <td>140.40</td>\n    </tr>\n    <tr>\n      <th>4</th>\n      <td>C005</td>\n      <td>G</td>\n      <td>C</td>\n      <td>T</td>\n      <td>A</td>\n      <td>A</td>\n      <td>T</td>\n      <td>T</td>\n      <td>C</td>\n      <td>Tropical Japonica</td>\n      <td>163.33</td>\n    </tr>\n    <tr>\n      <th>...</th>\n      <td>...</td>\n      <td>...</td>\n      <td>...</td>\n      <td>...</td>\n      <td>...</td>\n      <td>...</td>\n      <td>...</td>\n      <td>...</td>\n      <td>...</td>\n      <td>...</td>\n      <td>...</td>\n    </tr>\n    <tr>\n      <th>524</th>\n      <td>W326</td>\n      <td>G</td>\n      <td>C</td>\n      <td>T</td>\n      <td>T</td>\n      <td>A</td>\n      <td>C</td>\n      <td>T</td>\n      <td>C</td>\n      <td>Japonica Intermediate</td>\n      <td>155.40</td>\n    </tr>\n    <tr>\n      <th>525</th>\n      <td>W327</td>\n      <td>A</td>\n      <td>C</td>\n      <td>T</td>\n      <td>T</td>\n      <td>A</td>\n      <td>C</td>\n      <td>T</td>\n      <td>C</td>\n      <td>Temperate Japonica</td>\n      <td>89.80</td>\n    </tr>\n    <tr>\n      <th>526</th>\n      <td>W328</td>\n      <td>A</td>\n      <td>C</td>\n      <td>T</td>\n      <td>T</td>\n      <td>A</td>\n      <td>C</td>\n      <td>T</td>\n      <td>T</td>\n      <td>Intermediate</td>\n      <td>117.40</td>\n    </tr>\n    <tr>\n      <th>527</th>\n      <td>W329</td>\n      <td>G</td>\n      <td>C</td>\n      <td>T</td>\n      <td>T</td>\n      <td>A</td>\n      <td>T</td>\n      <td>T</td>\n      <td>C</td>\n      <td>Tropical Japonica</td>\n      <td>147.40</td>\n    </tr>\n    <tr>\n      <th>528</th>\n      <td>W330</td>\n      <td>G</td>\n      <td>C</td>\n      <td>C</td>\n      <td>T</td>\n      <td>T</td>\n      <td>C</td>\n      <td>T</td>\n      <td>C</td>\n      <td>Aus</td>\n      <td>149.60</td>\n    </tr>\n  </tbody>\n</table>\n<p>529 rows × 11 columns</p>\n</div>"
     },
     "execution_count": 190,
     "metadata": {},
     "output_type": "execute_result"
    }
   ],
   "source": [
    "mapping"
   ],
   "metadata": {
    "collapsed": false
   }
  },
  {
   "cell_type": "code",
   "execution_count": 191,
   "outputs": [],
   "source": [
    "mapping.to_csv('mapping.csv', index=False)"
   ],
   "metadata": {
    "collapsed": false
   }
  },
  {
   "cell_type": "code",
   "execution_count": null,
   "outputs": [],
   "source": [],
   "metadata": {
    "collapsed": false
   }
  }
 ],
 "metadata": {
  "kernelspec": {
   "display_name": "Python 3",
   "language": "python",
   "name": "python3"
  },
  "language_info": {
   "codemirror_mode": {
    "name": "ipython",
    "version": 2
   },
   "file_extension": ".py",
   "mimetype": "text/x-python",
   "name": "python",
   "nbconvert_exporter": "python",
   "pygments_lexer": "ipython2",
   "version": "2.7.6"
  }
 },
 "nbformat": 4,
 "nbformat_minor": 0
}
