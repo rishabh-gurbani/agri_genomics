{
 "cells": [
  {
   "cell_type": "code",
   "execution_count": 40,
   "metadata": {
    "collapsed": true,
    "ExecuteTime": {
     "end_time": "2023-05-03T09:10:20.371328Z",
     "start_time": "2023-05-03T09:10:20.368904Z"
    }
   },
   "outputs": [],
   "source": [
    "import pandas as pd"
   ]
  },
  {
   "cell_type": "code",
   "execution_count": 41,
   "outputs": [
    {
     "data": {
      "text/plain": "  Cultivar Name    Cultivar ID       Subpopulation   Location   Accession\n0         02428           C152  Temperate Japonica    Jiangsu  SRR1239752\n1      02428-IL          CX277  Temperate Japonica      China   ERS470588\n2        053A-3          CX351  Temperate Japonica      China   ERS470636\n3         10340           W146            Indica I      Italy  SRR1239949\n4      104_UPLA  IRIS_313-8063   Tropical Japonica  Argentina   ERS468624",
      "text/html": "<div>\n<style scoped>\n    .dataframe tbody tr th:only-of-type {\n        vertical-align: middle;\n    }\n\n    .dataframe tbody tr th {\n        vertical-align: top;\n    }\n\n    .dataframe thead th {\n        text-align: right;\n    }\n</style>\n<table border=\"1\" class=\"dataframe\">\n  <thead>\n    <tr style=\"text-align: right;\">\n      <th></th>\n      <th>Cultivar Name</th>\n      <th>Cultivar ID</th>\n      <th>Subpopulation</th>\n      <th>Location</th>\n      <th>Accession</th>\n    </tr>\n  </thead>\n  <tbody>\n    <tr>\n      <th>0</th>\n      <td>02428</td>\n      <td>C152</td>\n      <td>Temperate Japonica</td>\n      <td>Jiangsu</td>\n      <td>SRR1239752</td>\n    </tr>\n    <tr>\n      <th>1</th>\n      <td>02428-IL</td>\n      <td>CX277</td>\n      <td>Temperate Japonica</td>\n      <td>China</td>\n      <td>ERS470588</td>\n    </tr>\n    <tr>\n      <th>2</th>\n      <td>053A-3</td>\n      <td>CX351</td>\n      <td>Temperate Japonica</td>\n      <td>China</td>\n      <td>ERS470636</td>\n    </tr>\n    <tr>\n      <th>3</th>\n      <td>10340</td>\n      <td>W146</td>\n      <td>Indica I</td>\n      <td>Italy</td>\n      <td>SRR1239949</td>\n    </tr>\n    <tr>\n      <th>4</th>\n      <td>104_UPLA</td>\n      <td>IRIS_313-8063</td>\n      <td>Tropical Japonica</td>\n      <td>Argentina</td>\n      <td>ERS468624</td>\n    </tr>\n  </tbody>\n</table>\n</div>"
     },
     "execution_count": 41,
     "metadata": {},
     "output_type": "execute_result"
    }
   ],
   "source": [
    "cultivars = pd.read_csv(\"Cultivars.csv\")\n",
    "cultivars.head()"
   ],
   "metadata": {
    "collapsed": false,
    "ExecuteTime": {
     "end_time": "2023-05-03T09:10:20.732823Z",
     "start_time": "2023-05-03T09:10:20.708342Z"
    }
   }
  },
  {
   "cell_type": "code",
   "execution_count": 42,
   "outputs": [
    {
     "data": {
      "text/plain": "  Cultivar Name Cultivar ID       Subpopulation  Plant Height (cm)\n0         02428        C152  Temperate Japonica              100.0\n1         10340        W146            Indica I              127.4\n2          108S        W150           Indica II              104.6\n3             2        W129         VI/Aromatic              151.2\n4          4484        W086           Indica II              103.4",
      "text/html": "<div>\n<style scoped>\n    .dataframe tbody tr th:only-of-type {\n        vertical-align: middle;\n    }\n\n    .dataframe tbody tr th {\n        vertical-align: top;\n    }\n\n    .dataframe thead th {\n        text-align: right;\n    }\n</style>\n<table border=\"1\" class=\"dataframe\">\n  <thead>\n    <tr style=\"text-align: right;\">\n      <th></th>\n      <th>Cultivar Name</th>\n      <th>Cultivar ID</th>\n      <th>Subpopulation</th>\n      <th>Plant Height (cm)</th>\n    </tr>\n  </thead>\n  <tbody>\n    <tr>\n      <th>0</th>\n      <td>02428</td>\n      <td>C152</td>\n      <td>Temperate Japonica</td>\n      <td>100.0</td>\n    </tr>\n    <tr>\n      <th>1</th>\n      <td>10340</td>\n      <td>W146</td>\n      <td>Indica I</td>\n      <td>127.4</td>\n    </tr>\n    <tr>\n      <th>2</th>\n      <td>108S</td>\n      <td>W150</td>\n      <td>Indica II</td>\n      <td>104.6</td>\n    </tr>\n    <tr>\n      <th>3</th>\n      <td>2</td>\n      <td>W129</td>\n      <td>VI/Aromatic</td>\n      <td>151.2</td>\n    </tr>\n    <tr>\n      <th>4</th>\n      <td>4484</td>\n      <td>W086</td>\n      <td>Indica II</td>\n      <td>103.4</td>\n    </tr>\n  </tbody>\n</table>\n</div>"
     },
     "execution_count": 42,
     "metadata": {},
     "output_type": "execute_result"
    }
   ],
   "source": [
    "heights = pd.read_csv(\"Height.csv\")\n",
    "heights.head()"
   ],
   "metadata": {
    "collapsed": false,
    "ExecuteTime": {
     "end_time": "2023-05-03T09:10:21.344387Z",
     "start_time": "2023-05-03T09:10:21.319506Z"
    }
   }
  },
  {
   "cell_type": "code",
   "execution_count": 43,
   "outputs": [
    {
     "data": {
      "text/plain": "      Cultivar ID vg0130976864 vg0135617816 vg0138428840 vg0405463422  \\\n0      Chromosome        chr01        chr01        chr01        chr04   \n1        Position     30976864     35617816     38428840      5463422   \n2  Variation Type          SNP          SNP          SNP          SNP   \n3       Reference            A            C            T            G   \n4  Primary Allele            G            C            T            G   \n\n  vg0713178880 vg0819793460 vg1019044175 vg1123563633 vg1207667840  \n0        chr07        chr08        chr10        chr11        chr12  \n1     13178880     19793460     19044175     23563633      7667840  \n2          SNP          SNP          SNP          SNP          SNP  \n3            T            A            C            T            T  \n4            T            A            T            T            T  ",
      "text/html": "<div>\n<style scoped>\n    .dataframe tbody tr th:only-of-type {\n        vertical-align: middle;\n    }\n\n    .dataframe tbody tr th {\n        vertical-align: top;\n    }\n\n    .dataframe thead th {\n        text-align: right;\n    }\n</style>\n<table border=\"1\" class=\"dataframe\">\n  <thead>\n    <tr style=\"text-align: right;\">\n      <th></th>\n      <th>Cultivar ID</th>\n      <th>vg0130976864</th>\n      <th>vg0135617816</th>\n      <th>vg0138428840</th>\n      <th>vg0405463422</th>\n      <th>vg0713178880</th>\n      <th>vg0819793460</th>\n      <th>vg1019044175</th>\n      <th>vg1123563633</th>\n      <th>vg1207667840</th>\n    </tr>\n  </thead>\n  <tbody>\n    <tr>\n      <th>0</th>\n      <td>Chromosome</td>\n      <td>chr01</td>\n      <td>chr01</td>\n      <td>chr01</td>\n      <td>chr04</td>\n      <td>chr07</td>\n      <td>chr08</td>\n      <td>chr10</td>\n      <td>chr11</td>\n      <td>chr12</td>\n    </tr>\n    <tr>\n      <th>1</th>\n      <td>Position</td>\n      <td>30976864</td>\n      <td>35617816</td>\n      <td>38428840</td>\n      <td>5463422</td>\n      <td>13178880</td>\n      <td>19793460</td>\n      <td>19044175</td>\n      <td>23563633</td>\n      <td>7667840</td>\n    </tr>\n    <tr>\n      <th>2</th>\n      <td>Variation Type</td>\n      <td>SNP</td>\n      <td>SNP</td>\n      <td>SNP</td>\n      <td>SNP</td>\n      <td>SNP</td>\n      <td>SNP</td>\n      <td>SNP</td>\n      <td>SNP</td>\n      <td>SNP</td>\n    </tr>\n    <tr>\n      <th>3</th>\n      <td>Reference</td>\n      <td>A</td>\n      <td>C</td>\n      <td>T</td>\n      <td>G</td>\n      <td>T</td>\n      <td>A</td>\n      <td>C</td>\n      <td>T</td>\n      <td>T</td>\n    </tr>\n    <tr>\n      <th>4</th>\n      <td>Primary Allele</td>\n      <td>G</td>\n      <td>C</td>\n      <td>T</td>\n      <td>G</td>\n      <td>T</td>\n      <td>A</td>\n      <td>T</td>\n      <td>T</td>\n      <td>T</td>\n    </tr>\n  </tbody>\n</table>\n</div>"
     },
     "execution_count": 43,
     "metadata": {},
     "output_type": "execute_result"
    }
   ],
   "source": [
    "genotype = pd.read_csv(\"Genotype.csv\")\n",
    "genotype = genotype.rename(columns={'Variation ID': 'Cultivar ID'})\n",
    "genotype.head()"
   ],
   "metadata": {
    "collapsed": false,
    "ExecuteTime": {
     "end_time": "2023-05-03T09:10:22.274868Z",
     "start_time": "2023-05-03T09:10:22.253713Z"
    }
   }
  },
  {
   "cell_type": "code",
   "execution_count": 44,
   "outputs": [
    {
     "data": {
      "text/plain": "(4732, 10)"
     },
     "execution_count": 44,
     "metadata": {},
     "output_type": "execute_result"
    }
   ],
   "source": [
    "genotype.shape"
   ],
   "metadata": {
    "collapsed": false,
    "ExecuteTime": {
     "end_time": "2023-05-03T09:10:23.136310Z",
     "start_time": "2023-05-03T09:10:23.125719Z"
    }
   }
  },
  {
   "cell_type": "code",
   "execution_count": 45,
   "outputs": [
    {
     "name": "stdout",
     "output_type": "stream",
     "text": [
      "[('vg0405463422', 1667), ('vg1123563633', 384), ('vg0135617816', 148), ('vg0130976864', 0), ('vg0138428840', 0), ('vg0713178880', 0), ('vg0819793460', 0), ('vg1019044175', 0), ('vg1207667840', 0)]\n"
     ]
    }
   ],
   "source": [
    "# counting del values for each SNP\n",
    "\n",
    "delCount = []\n",
    "for i in range(1, genotype.shape[1]):\n",
    "    val = 0\n",
    "    for j in range(6, genotype.shape[0]):\n",
    "        if genotype.iloc[j, i] == \"DEL\":\n",
    "            val = val + 1\n",
    "    delCount.append((genotype.columns[i],val))\n",
    "\n",
    "print(sorted(delCount, key=lambda x : x[1], reverse=True))"
   ],
   "metadata": {
    "collapsed": false,
    "ExecuteTime": {
     "end_time": "2023-05-03T09:10:24.589834Z",
     "start_time": "2023-05-03T09:10:24.197487Z"
    }
   }
  },
  {
   "cell_type": "code",
   "execution_count": 46,
   "outputs": [
    {
     "name": "stdout",
     "output_type": "stream",
     "text": [
      "[('vg0405463422', 815), ('vg0130976864', 79), ('vg0135617816', 64), ('vg0138428840', 17), ('vg0819793460', 11), ('vg1123563633', 9), ('vg1207667840', 7), ('vg0713178880', 4), ('vg1019044175', 1)]\n"
     ]
    }
   ],
   "source": [
    "# counting n values for each SNP\n",
    "\n",
    "delCount = []\n",
    "for i in range(1, genotype.shape[1]):\n",
    "    val = 0\n",
    "    for j in range(6, genotype.shape[0]):\n",
    "        if genotype.iloc[j, i] == \"N\":\n",
    "            val = val + 1\n",
    "    delCount.append((genotype.columns[i],val))\n",
    "\n",
    "print(sorted(delCount, key=lambda x : x[1], reverse=True))"
   ],
   "metadata": {
    "collapsed": false,
    "ExecuteTime": {
     "end_time": "2023-05-03T09:10:25.127367Z",
     "start_time": "2023-05-03T09:10:24.814526Z"
    }
   }
  },
  {
   "cell_type": "code",
   "execution_count": 26,
   "outputs": [],
   "source": [
    "# vg04 has very high frequency of del, hence we drop it\n",
    "\n",
    "genotype.drop(\"vg0405463422\", axis=1, inplace=True)"
   ],
   "metadata": {
    "collapsed": false,
    "ExecuteTime": {
     "end_time": "2023-05-03T09:09:05.029895Z",
     "start_time": "2023-05-03T09:09:05.026118Z"
    }
   }
  },
  {
   "cell_type": "code",
   "execution_count": 47,
   "outputs": [
    {
     "data": {
      "text/plain": "        Cultivar ID vg0130976864 vg0135617816 vg0138428840 vg0405463422  \\\n0        Chromosome        chr01        chr01        chr01        chr04   \n1          Position     30976864     35617816     38428840      5463422   \n2    Variation Type          SNP          SNP          SNP          SNP   \n3         Reference            A            C            T            G   \n4    Primary Allele            G            C            T            G   \n5  Secondary Allele            A            T            C            T   \n\n  vg0713178880 vg0819793460 vg1019044175 vg1123563633 vg1207667840  \n0        chr07        chr08        chr10        chr11        chr12  \n1     13178880     19793460     19044175     23563633      7667840  \n2          SNP          SNP          SNP          SNP          SNP  \n3            T            A            C            T            T  \n4            T            A            T            T            T  \n5            A            T            C            C            C  ",
      "text/html": "<div>\n<style scoped>\n    .dataframe tbody tr th:only-of-type {\n        vertical-align: middle;\n    }\n\n    .dataframe tbody tr th {\n        vertical-align: top;\n    }\n\n    .dataframe thead th {\n        text-align: right;\n    }\n</style>\n<table border=\"1\" class=\"dataframe\">\n  <thead>\n    <tr style=\"text-align: right;\">\n      <th></th>\n      <th>Cultivar ID</th>\n      <th>vg0130976864</th>\n      <th>vg0135617816</th>\n      <th>vg0138428840</th>\n      <th>vg0405463422</th>\n      <th>vg0713178880</th>\n      <th>vg0819793460</th>\n      <th>vg1019044175</th>\n      <th>vg1123563633</th>\n      <th>vg1207667840</th>\n    </tr>\n  </thead>\n  <tbody>\n    <tr>\n      <th>0</th>\n      <td>Chromosome</td>\n      <td>chr01</td>\n      <td>chr01</td>\n      <td>chr01</td>\n      <td>chr04</td>\n      <td>chr07</td>\n      <td>chr08</td>\n      <td>chr10</td>\n      <td>chr11</td>\n      <td>chr12</td>\n    </tr>\n    <tr>\n      <th>1</th>\n      <td>Position</td>\n      <td>30976864</td>\n      <td>35617816</td>\n      <td>38428840</td>\n      <td>5463422</td>\n      <td>13178880</td>\n      <td>19793460</td>\n      <td>19044175</td>\n      <td>23563633</td>\n      <td>7667840</td>\n    </tr>\n    <tr>\n      <th>2</th>\n      <td>Variation Type</td>\n      <td>SNP</td>\n      <td>SNP</td>\n      <td>SNP</td>\n      <td>SNP</td>\n      <td>SNP</td>\n      <td>SNP</td>\n      <td>SNP</td>\n      <td>SNP</td>\n      <td>SNP</td>\n    </tr>\n    <tr>\n      <th>3</th>\n      <td>Reference</td>\n      <td>A</td>\n      <td>C</td>\n      <td>T</td>\n      <td>G</td>\n      <td>T</td>\n      <td>A</td>\n      <td>C</td>\n      <td>T</td>\n      <td>T</td>\n    </tr>\n    <tr>\n      <th>4</th>\n      <td>Primary Allele</td>\n      <td>G</td>\n      <td>C</td>\n      <td>T</td>\n      <td>G</td>\n      <td>T</td>\n      <td>A</td>\n      <td>T</td>\n      <td>T</td>\n      <td>T</td>\n    </tr>\n    <tr>\n      <th>5</th>\n      <td>Secondary Allele</td>\n      <td>A</td>\n      <td>T</td>\n      <td>C</td>\n      <td>T</td>\n      <td>A</td>\n      <td>T</td>\n      <td>C</td>\n      <td>C</td>\n      <td>C</td>\n    </tr>\n  </tbody>\n</table>\n</div>"
     },
     "execution_count": 47,
     "metadata": {},
     "output_type": "execute_result"
    }
   ],
   "source": [
    "genotypeHeader = genotype.iloc[:6, :]\n",
    "primaryAlleleRow = 4\n",
    "secondaryAlleleRow = 5\n",
    "genotypeHeader"
   ],
   "metadata": {
    "collapsed": false,
    "ExecuteTime": {
     "end_time": "2023-05-03T09:10:27.763480Z",
     "start_time": "2023-05-03T09:10:27.757833Z"
    }
   }
  },
  {
   "cell_type": "code",
   "execution_count": 48,
   "outputs": [
    {
     "data": {
      "text/plain": "                             Cultivar ID vg0130976864 vg0135617816  \\\n6                 B001 (Heibiao) Imputed            G            C   \n7               B002 (Sansuijin) Imputed            A            C   \n8           B003 (Zaoshengbai__) Imputed            A            C   \n9     B004 (Qiuguangtengxi_104_) Imputed            A            C   \n10                 B005 (Wanshi) Imputed            A            C   \n...                                  ...          ...          ...   \n4727       W326 (Haolvguangnian) Imputed            G            C   \n4728              W327 (JinghuB) Imputed            A            C   \n4729         W328 (Sibeitichao6) Imputed            A            C   \n4730            W329 (GPNO_5055) Imputed            G            C   \n4731           W330 (ASWINA_330) Imputed            G            C   \n\n     vg0138428840 vg0405463422 vg0713178880 vg0819793460 vg1019044175  \\\n6               T            G            A            A            C   \n7               T            G            T            A            C   \n8               T            G            T            A            C   \n9               T            G            T            A            C   \n10              T            G            A            A            C   \n...           ...          ...          ...          ...          ...   \n4727            T            G            T            A            C   \n4728            T            G            T            A            C   \n4729            T            G            T            A            C   \n4730            T            G            T            A            T   \n4731            C          DEL            T            T            C   \n\n     vg1123563633 vg1207667840  \n6               T            T  \n7               T            T  \n8               T            T  \n9               T            T  \n10            DEL            T  \n...           ...          ...  \n4727            T            C  \n4728            T            C  \n4729            T            T  \n4730            T            C  \n4731          DEL            C  \n\n[4726 rows x 10 columns]",
      "text/html": "<div>\n<style scoped>\n    .dataframe tbody tr th:only-of-type {\n        vertical-align: middle;\n    }\n\n    .dataframe tbody tr th {\n        vertical-align: top;\n    }\n\n    .dataframe thead th {\n        text-align: right;\n    }\n</style>\n<table border=\"1\" class=\"dataframe\">\n  <thead>\n    <tr style=\"text-align: right;\">\n      <th></th>\n      <th>Cultivar ID</th>\n      <th>vg0130976864</th>\n      <th>vg0135617816</th>\n      <th>vg0138428840</th>\n      <th>vg0405463422</th>\n      <th>vg0713178880</th>\n      <th>vg0819793460</th>\n      <th>vg1019044175</th>\n      <th>vg1123563633</th>\n      <th>vg1207667840</th>\n    </tr>\n  </thead>\n  <tbody>\n    <tr>\n      <th>6</th>\n      <td>B001 (Heibiao) Imputed</td>\n      <td>G</td>\n      <td>C</td>\n      <td>T</td>\n      <td>G</td>\n      <td>A</td>\n      <td>A</td>\n      <td>C</td>\n      <td>T</td>\n      <td>T</td>\n    </tr>\n    <tr>\n      <th>7</th>\n      <td>B002 (Sansuijin) Imputed</td>\n      <td>A</td>\n      <td>C</td>\n      <td>T</td>\n      <td>G</td>\n      <td>T</td>\n      <td>A</td>\n      <td>C</td>\n      <td>T</td>\n      <td>T</td>\n    </tr>\n    <tr>\n      <th>8</th>\n      <td>B003 (Zaoshengbai__) Imputed</td>\n      <td>A</td>\n      <td>C</td>\n      <td>T</td>\n      <td>G</td>\n      <td>T</td>\n      <td>A</td>\n      <td>C</td>\n      <td>T</td>\n      <td>T</td>\n    </tr>\n    <tr>\n      <th>9</th>\n      <td>B004 (Qiuguangtengxi_104_) Imputed</td>\n      <td>A</td>\n      <td>C</td>\n      <td>T</td>\n      <td>G</td>\n      <td>T</td>\n      <td>A</td>\n      <td>C</td>\n      <td>T</td>\n      <td>T</td>\n    </tr>\n    <tr>\n      <th>10</th>\n      <td>B005 (Wanshi) Imputed</td>\n      <td>A</td>\n      <td>C</td>\n      <td>T</td>\n      <td>G</td>\n      <td>A</td>\n      <td>A</td>\n      <td>C</td>\n      <td>DEL</td>\n      <td>T</td>\n    </tr>\n    <tr>\n      <th>...</th>\n      <td>...</td>\n      <td>...</td>\n      <td>...</td>\n      <td>...</td>\n      <td>...</td>\n      <td>...</td>\n      <td>...</td>\n      <td>...</td>\n      <td>...</td>\n      <td>...</td>\n    </tr>\n    <tr>\n      <th>4727</th>\n      <td>W326 (Haolvguangnian) Imputed</td>\n      <td>G</td>\n      <td>C</td>\n      <td>T</td>\n      <td>G</td>\n      <td>T</td>\n      <td>A</td>\n      <td>C</td>\n      <td>T</td>\n      <td>C</td>\n    </tr>\n    <tr>\n      <th>4728</th>\n      <td>W327 (JinghuB) Imputed</td>\n      <td>A</td>\n      <td>C</td>\n      <td>T</td>\n      <td>G</td>\n      <td>T</td>\n      <td>A</td>\n      <td>C</td>\n      <td>T</td>\n      <td>C</td>\n    </tr>\n    <tr>\n      <th>4729</th>\n      <td>W328 (Sibeitichao6) Imputed</td>\n      <td>A</td>\n      <td>C</td>\n      <td>T</td>\n      <td>G</td>\n      <td>T</td>\n      <td>A</td>\n      <td>C</td>\n      <td>T</td>\n      <td>T</td>\n    </tr>\n    <tr>\n      <th>4730</th>\n      <td>W329 (GPNO_5055) Imputed</td>\n      <td>G</td>\n      <td>C</td>\n      <td>T</td>\n      <td>G</td>\n      <td>T</td>\n      <td>A</td>\n      <td>T</td>\n      <td>T</td>\n      <td>C</td>\n    </tr>\n    <tr>\n      <th>4731</th>\n      <td>W330 (ASWINA_330) Imputed</td>\n      <td>G</td>\n      <td>C</td>\n      <td>C</td>\n      <td>DEL</td>\n      <td>T</td>\n      <td>T</td>\n      <td>C</td>\n      <td>DEL</td>\n      <td>C</td>\n    </tr>\n  </tbody>\n</table>\n<p>4726 rows × 10 columns</p>\n</div>"
     },
     "execution_count": 48,
     "metadata": {},
     "output_type": "execute_result"
    }
   ],
   "source": [
    "genotype = genotype.iloc[6:, :]\n",
    "genotype"
   ],
   "metadata": {
    "collapsed": false,
    "ExecuteTime": {
     "end_time": "2023-05-03T09:10:29.089263Z",
     "start_time": "2023-05-03T09:10:29.078452Z"
    }
   }
  },
  {
   "cell_type": "code",
   "execution_count": 49,
   "outputs": [
    {
     "name": "stdout",
     "output_type": "stream",
     "text": [
      "<class 'pandas.core.series.Series'>\n"
     ]
    }
   ],
   "source": [
    "col = genotype.iloc[:, 4]\n",
    "print(type(col))"
   ],
   "metadata": {
    "collapsed": false,
    "ExecuteTime": {
     "end_time": "2023-05-03T09:10:30.190645Z",
     "start_time": "2023-05-03T09:10:30.179592Z"
    }
   }
  },
  {
   "cell_type": "code",
   "execution_count": 50,
   "outputs": [
    {
     "data": {
      "text/plain": "                             Cultivar ID vg0130976864 vg0135617816  \\\n6                 B001 (Heibiao) Imputed            G            C   \n7               B002 (Sansuijin) Imputed            A            C   \n8           B003 (Zaoshengbai__) Imputed            A            C   \n9     B004 (Qiuguangtengxi_104_) Imputed            A            C   \n10                 B005 (Wanshi) Imputed            A            C   \n...                                  ...          ...          ...   \n4727       W326 (Haolvguangnian) Imputed            G            C   \n4728              W327 (JinghuB) Imputed            A            C   \n4729         W328 (Sibeitichao6) Imputed            A            C   \n4730            W329 (GPNO_5055) Imputed            G            C   \n4731           W330 (ASWINA_330) Imputed            G            C   \n\n     vg0138428840 vg0405463422 vg0713178880 vg0819793460 vg1019044175  \\\n6               T            G            A            A            C   \n7               T            G            T            A            C   \n8               T            G            T            A            C   \n9               T            G            T            A            C   \n10              T            G            A            A            C   \n...           ...          ...          ...          ...          ...   \n4727            T            G            T            A            C   \n4728            T            G            T            A            C   \n4729            T            G            T            A            C   \n4730            T            G            T            A            T   \n4731            C            T            T            T            C   \n\n     vg1123563633 vg1207667840  \n6               T            T  \n7               T            T  \n8               T            T  \n9               T            T  \n10              C            T  \n...           ...          ...  \n4727            T            C  \n4728            T            C  \n4729            T            T  \n4730            T            C  \n4731            C            C  \n\n[4726 rows x 10 columns]",
      "text/html": "<div>\n<style scoped>\n    .dataframe tbody tr th:only-of-type {\n        vertical-align: middle;\n    }\n\n    .dataframe tbody tr th {\n        vertical-align: top;\n    }\n\n    .dataframe thead th {\n        text-align: right;\n    }\n</style>\n<table border=\"1\" class=\"dataframe\">\n  <thead>\n    <tr style=\"text-align: right;\">\n      <th></th>\n      <th>Cultivar ID</th>\n      <th>vg0130976864</th>\n      <th>vg0135617816</th>\n      <th>vg0138428840</th>\n      <th>vg0405463422</th>\n      <th>vg0713178880</th>\n      <th>vg0819793460</th>\n      <th>vg1019044175</th>\n      <th>vg1123563633</th>\n      <th>vg1207667840</th>\n    </tr>\n  </thead>\n  <tbody>\n    <tr>\n      <th>6</th>\n      <td>B001 (Heibiao) Imputed</td>\n      <td>G</td>\n      <td>C</td>\n      <td>T</td>\n      <td>G</td>\n      <td>A</td>\n      <td>A</td>\n      <td>C</td>\n      <td>T</td>\n      <td>T</td>\n    </tr>\n    <tr>\n      <th>7</th>\n      <td>B002 (Sansuijin) Imputed</td>\n      <td>A</td>\n      <td>C</td>\n      <td>T</td>\n      <td>G</td>\n      <td>T</td>\n      <td>A</td>\n      <td>C</td>\n      <td>T</td>\n      <td>T</td>\n    </tr>\n    <tr>\n      <th>8</th>\n      <td>B003 (Zaoshengbai__) Imputed</td>\n      <td>A</td>\n      <td>C</td>\n      <td>T</td>\n      <td>G</td>\n      <td>T</td>\n      <td>A</td>\n      <td>C</td>\n      <td>T</td>\n      <td>T</td>\n    </tr>\n    <tr>\n      <th>9</th>\n      <td>B004 (Qiuguangtengxi_104_) Imputed</td>\n      <td>A</td>\n      <td>C</td>\n      <td>T</td>\n      <td>G</td>\n      <td>T</td>\n      <td>A</td>\n      <td>C</td>\n      <td>T</td>\n      <td>T</td>\n    </tr>\n    <tr>\n      <th>10</th>\n      <td>B005 (Wanshi) Imputed</td>\n      <td>A</td>\n      <td>C</td>\n      <td>T</td>\n      <td>G</td>\n      <td>A</td>\n      <td>A</td>\n      <td>C</td>\n      <td>C</td>\n      <td>T</td>\n    </tr>\n    <tr>\n      <th>...</th>\n      <td>...</td>\n      <td>...</td>\n      <td>...</td>\n      <td>...</td>\n      <td>...</td>\n      <td>...</td>\n      <td>...</td>\n      <td>...</td>\n      <td>...</td>\n      <td>...</td>\n    </tr>\n    <tr>\n      <th>4727</th>\n      <td>W326 (Haolvguangnian) Imputed</td>\n      <td>G</td>\n      <td>C</td>\n      <td>T</td>\n      <td>G</td>\n      <td>T</td>\n      <td>A</td>\n      <td>C</td>\n      <td>T</td>\n      <td>C</td>\n    </tr>\n    <tr>\n      <th>4728</th>\n      <td>W327 (JinghuB) Imputed</td>\n      <td>A</td>\n      <td>C</td>\n      <td>T</td>\n      <td>G</td>\n      <td>T</td>\n      <td>A</td>\n      <td>C</td>\n      <td>T</td>\n      <td>C</td>\n    </tr>\n    <tr>\n      <th>4729</th>\n      <td>W328 (Sibeitichao6) Imputed</td>\n      <td>A</td>\n      <td>C</td>\n      <td>T</td>\n      <td>G</td>\n      <td>T</td>\n      <td>A</td>\n      <td>C</td>\n      <td>T</td>\n      <td>T</td>\n    </tr>\n    <tr>\n      <th>4730</th>\n      <td>W329 (GPNO_5055) Imputed</td>\n      <td>G</td>\n      <td>C</td>\n      <td>T</td>\n      <td>G</td>\n      <td>T</td>\n      <td>A</td>\n      <td>T</td>\n      <td>T</td>\n      <td>C</td>\n    </tr>\n    <tr>\n      <th>4731</th>\n      <td>W330 (ASWINA_330) Imputed</td>\n      <td>G</td>\n      <td>C</td>\n      <td>C</td>\n      <td>T</td>\n      <td>T</td>\n      <td>T</td>\n      <td>C</td>\n      <td>C</td>\n      <td>C</td>\n    </tr>\n  </tbody>\n</table>\n<p>4726 rows × 10 columns</p>\n</div>"
     },
     "execution_count": 50,
     "metadata": {},
     "output_type": "execute_result"
    }
   ],
   "source": [
    "# replacing genotype for each column with their primary allele\n",
    "\n",
    "for i in range(1, genotype.shape[1]):\n",
    "    primaryAllele = genotypeHeader.iloc[primaryAlleleRow, i]\n",
    "    secondaryAllele = genotypeHeader.iloc[secondaryAlleleRow, i]\n",
    "    col = genotype.iloc[:, i]\n",
    "    col.replace(\"DEL\", secondaryAllele, inplace=True)\n",
    "    col.replace(\"N\", primaryAllele, inplace=True)\n",
    "\n",
    "genotype"
   ],
   "metadata": {
    "collapsed": false,
    "ExecuteTime": {
     "end_time": "2023-05-03T09:10:31.655725Z",
     "start_time": "2023-05-03T09:10:31.645042Z"
    }
   }
  },
  {
   "cell_type": "code",
   "execution_count": 51,
   "outputs": [
    {
     "data": {
      "text/plain": "     Cultivar ID vg0130976864 vg0135617816 vg0138428840 vg0405463422  \\\n6           B001            G            C            T            G   \n7           B002            A            C            T            G   \n8           B003            A            C            T            G   \n9           B004            A            C            T            G   \n10          B005            A            C            T            G   \n...          ...          ...          ...          ...          ...   \n4727        W326            G            C            T            G   \n4728        W327            A            C            T            G   \n4729        W328            A            C            T            G   \n4730        W329            G            C            T            G   \n4731        W330            G            C            C            T   \n\n     vg0713178880 vg0819793460 vg1019044175 vg1123563633 vg1207667840  \n6               A            A            C            T            T  \n7               T            A            C            T            T  \n8               T            A            C            T            T  \n9               T            A            C            T            T  \n10              A            A            C            C            T  \n...           ...          ...          ...          ...          ...  \n4727            T            A            C            T            C  \n4728            T            A            C            T            C  \n4729            T            A            C            T            T  \n4730            T            A            T            T            C  \n4731            T            T            C            C            C  \n\n[4726 rows x 10 columns]",
      "text/html": "<div>\n<style scoped>\n    .dataframe tbody tr th:only-of-type {\n        vertical-align: middle;\n    }\n\n    .dataframe tbody tr th {\n        vertical-align: top;\n    }\n\n    .dataframe thead th {\n        text-align: right;\n    }\n</style>\n<table border=\"1\" class=\"dataframe\">\n  <thead>\n    <tr style=\"text-align: right;\">\n      <th></th>\n      <th>Cultivar ID</th>\n      <th>vg0130976864</th>\n      <th>vg0135617816</th>\n      <th>vg0138428840</th>\n      <th>vg0405463422</th>\n      <th>vg0713178880</th>\n      <th>vg0819793460</th>\n      <th>vg1019044175</th>\n      <th>vg1123563633</th>\n      <th>vg1207667840</th>\n    </tr>\n  </thead>\n  <tbody>\n    <tr>\n      <th>6</th>\n      <td>B001</td>\n      <td>G</td>\n      <td>C</td>\n      <td>T</td>\n      <td>G</td>\n      <td>A</td>\n      <td>A</td>\n      <td>C</td>\n      <td>T</td>\n      <td>T</td>\n    </tr>\n    <tr>\n      <th>7</th>\n      <td>B002</td>\n      <td>A</td>\n      <td>C</td>\n      <td>T</td>\n      <td>G</td>\n      <td>T</td>\n      <td>A</td>\n      <td>C</td>\n      <td>T</td>\n      <td>T</td>\n    </tr>\n    <tr>\n      <th>8</th>\n      <td>B003</td>\n      <td>A</td>\n      <td>C</td>\n      <td>T</td>\n      <td>G</td>\n      <td>T</td>\n      <td>A</td>\n      <td>C</td>\n      <td>T</td>\n      <td>T</td>\n    </tr>\n    <tr>\n      <th>9</th>\n      <td>B004</td>\n      <td>A</td>\n      <td>C</td>\n      <td>T</td>\n      <td>G</td>\n      <td>T</td>\n      <td>A</td>\n      <td>C</td>\n      <td>T</td>\n      <td>T</td>\n    </tr>\n    <tr>\n      <th>10</th>\n      <td>B005</td>\n      <td>A</td>\n      <td>C</td>\n      <td>T</td>\n      <td>G</td>\n      <td>A</td>\n      <td>A</td>\n      <td>C</td>\n      <td>C</td>\n      <td>T</td>\n    </tr>\n    <tr>\n      <th>...</th>\n      <td>...</td>\n      <td>...</td>\n      <td>...</td>\n      <td>...</td>\n      <td>...</td>\n      <td>...</td>\n      <td>...</td>\n      <td>...</td>\n      <td>...</td>\n      <td>...</td>\n    </tr>\n    <tr>\n      <th>4727</th>\n      <td>W326</td>\n      <td>G</td>\n      <td>C</td>\n      <td>T</td>\n      <td>G</td>\n      <td>T</td>\n      <td>A</td>\n      <td>C</td>\n      <td>T</td>\n      <td>C</td>\n    </tr>\n    <tr>\n      <th>4728</th>\n      <td>W327</td>\n      <td>A</td>\n      <td>C</td>\n      <td>T</td>\n      <td>G</td>\n      <td>T</td>\n      <td>A</td>\n      <td>C</td>\n      <td>T</td>\n      <td>C</td>\n    </tr>\n    <tr>\n      <th>4729</th>\n      <td>W328</td>\n      <td>A</td>\n      <td>C</td>\n      <td>T</td>\n      <td>G</td>\n      <td>T</td>\n      <td>A</td>\n      <td>C</td>\n      <td>T</td>\n      <td>T</td>\n    </tr>\n    <tr>\n      <th>4730</th>\n      <td>W329</td>\n      <td>G</td>\n      <td>C</td>\n      <td>T</td>\n      <td>G</td>\n      <td>T</td>\n      <td>A</td>\n      <td>T</td>\n      <td>T</td>\n      <td>C</td>\n    </tr>\n    <tr>\n      <th>4731</th>\n      <td>W330</td>\n      <td>G</td>\n      <td>C</td>\n      <td>C</td>\n      <td>T</td>\n      <td>T</td>\n      <td>T</td>\n      <td>C</td>\n      <td>C</td>\n      <td>C</td>\n    </tr>\n  </tbody>\n</table>\n<p>4726 rows × 10 columns</p>\n</div>"
     },
     "execution_count": 51,
     "metadata": {},
     "output_type": "execute_result"
    }
   ],
   "source": [
    "def extractVariantID(cultivarID):\n",
    "    return cultivarID.split(sep=\" \")[0]\n",
    "\n",
    "genotype['Cultivar ID'] = genotype['Cultivar ID'].map(extractVariantID)\n",
    "genotype"
   ],
   "metadata": {
    "collapsed": false,
    "ExecuteTime": {
     "end_time": "2023-05-03T09:10:33.309818Z",
     "start_time": "2023-05-03T09:10:33.292805Z"
    }
   }
  },
  {
   "cell_type": "code",
   "execution_count": 52,
   "outputs": [],
   "source": [
    "mapping = pd.merge(genotype, heights.iloc[:, 1:4], on='Cultivar ID' )"
   ],
   "metadata": {
    "collapsed": false,
    "ExecuteTime": {
     "end_time": "2023-05-03T09:10:34.757175Z",
     "start_time": "2023-05-03T09:10:34.752372Z"
    }
   }
  },
  {
   "cell_type": "code",
   "execution_count": 53,
   "outputs": [
    {
     "data": {
      "text/plain": "    Cultivar ID vg0130976864 vg0135617816 vg0138428840 vg0405463422  \\\n0          C001            G            C            T            T   \n1          C002            G            C            C            T   \n2          C003            G            C            T            G   \n3          C004            G            C            T            G   \n4          C005            G            C            T            T   \n..          ...          ...          ...          ...          ...   \n524        W326            G            C            T            G   \n525        W327            A            C            T            G   \n526        W328            A            C            T            G   \n527        W329            G            C            T            G   \n528        W330            G            C            C            T   \n\n    vg0713178880 vg0819793460 vg1019044175 vg1123563633 vg1207667840  \\\n0              T            T            C            C            C   \n1              T            T            C            C            C   \n2              T            A            C            T            T   \n3              A            A            C            T            C   \n4              A            A            T            T            C   \n..           ...          ...          ...          ...          ...   \n524            T            A            C            T            C   \n525            T            A            C            T            C   \n526            T            A            C            T            T   \n527            T            A            T            T            C   \n528            T            T            C            C            C   \n\n             Subpopulation  Plant Height (cm)  \n0                 Indica I             144.13  \n1              VI/Aromatic             177.62  \n2    Japonica Intermediate             141.57  \n3       Temperate Japonica             140.40  \n4        Tropical Japonica             163.33  \n..                     ...                ...  \n524  Japonica Intermediate             155.40  \n525     Temperate Japonica              89.80  \n526           Intermediate             117.40  \n527      Tropical Japonica             147.40  \n528                    Aus             149.60  \n\n[529 rows x 12 columns]",
      "text/html": "<div>\n<style scoped>\n    .dataframe tbody tr th:only-of-type {\n        vertical-align: middle;\n    }\n\n    .dataframe tbody tr th {\n        vertical-align: top;\n    }\n\n    .dataframe thead th {\n        text-align: right;\n    }\n</style>\n<table border=\"1\" class=\"dataframe\">\n  <thead>\n    <tr style=\"text-align: right;\">\n      <th></th>\n      <th>Cultivar ID</th>\n      <th>vg0130976864</th>\n      <th>vg0135617816</th>\n      <th>vg0138428840</th>\n      <th>vg0405463422</th>\n      <th>vg0713178880</th>\n      <th>vg0819793460</th>\n      <th>vg1019044175</th>\n      <th>vg1123563633</th>\n      <th>vg1207667840</th>\n      <th>Subpopulation</th>\n      <th>Plant Height (cm)</th>\n    </tr>\n  </thead>\n  <tbody>\n    <tr>\n      <th>0</th>\n      <td>C001</td>\n      <td>G</td>\n      <td>C</td>\n      <td>T</td>\n      <td>T</td>\n      <td>T</td>\n      <td>T</td>\n      <td>C</td>\n      <td>C</td>\n      <td>C</td>\n      <td>Indica I</td>\n      <td>144.13</td>\n    </tr>\n    <tr>\n      <th>1</th>\n      <td>C002</td>\n      <td>G</td>\n      <td>C</td>\n      <td>C</td>\n      <td>T</td>\n      <td>T</td>\n      <td>T</td>\n      <td>C</td>\n      <td>C</td>\n      <td>C</td>\n      <td>VI/Aromatic</td>\n      <td>177.62</td>\n    </tr>\n    <tr>\n      <th>2</th>\n      <td>C003</td>\n      <td>G</td>\n      <td>C</td>\n      <td>T</td>\n      <td>G</td>\n      <td>T</td>\n      <td>A</td>\n      <td>C</td>\n      <td>T</td>\n      <td>T</td>\n      <td>Japonica Intermediate</td>\n      <td>141.57</td>\n    </tr>\n    <tr>\n      <th>3</th>\n      <td>C004</td>\n      <td>G</td>\n      <td>C</td>\n      <td>T</td>\n      <td>G</td>\n      <td>A</td>\n      <td>A</td>\n      <td>C</td>\n      <td>T</td>\n      <td>C</td>\n      <td>Temperate Japonica</td>\n      <td>140.40</td>\n    </tr>\n    <tr>\n      <th>4</th>\n      <td>C005</td>\n      <td>G</td>\n      <td>C</td>\n      <td>T</td>\n      <td>T</td>\n      <td>A</td>\n      <td>A</td>\n      <td>T</td>\n      <td>T</td>\n      <td>C</td>\n      <td>Tropical Japonica</td>\n      <td>163.33</td>\n    </tr>\n    <tr>\n      <th>...</th>\n      <td>...</td>\n      <td>...</td>\n      <td>...</td>\n      <td>...</td>\n      <td>...</td>\n      <td>...</td>\n      <td>...</td>\n      <td>...</td>\n      <td>...</td>\n      <td>...</td>\n      <td>...</td>\n      <td>...</td>\n    </tr>\n    <tr>\n      <th>524</th>\n      <td>W326</td>\n      <td>G</td>\n      <td>C</td>\n      <td>T</td>\n      <td>G</td>\n      <td>T</td>\n      <td>A</td>\n      <td>C</td>\n      <td>T</td>\n      <td>C</td>\n      <td>Japonica Intermediate</td>\n      <td>155.40</td>\n    </tr>\n    <tr>\n      <th>525</th>\n      <td>W327</td>\n      <td>A</td>\n      <td>C</td>\n      <td>T</td>\n      <td>G</td>\n      <td>T</td>\n      <td>A</td>\n      <td>C</td>\n      <td>T</td>\n      <td>C</td>\n      <td>Temperate Japonica</td>\n      <td>89.80</td>\n    </tr>\n    <tr>\n      <th>526</th>\n      <td>W328</td>\n      <td>A</td>\n      <td>C</td>\n      <td>T</td>\n      <td>G</td>\n      <td>T</td>\n      <td>A</td>\n      <td>C</td>\n      <td>T</td>\n      <td>T</td>\n      <td>Intermediate</td>\n      <td>117.40</td>\n    </tr>\n    <tr>\n      <th>527</th>\n      <td>W329</td>\n      <td>G</td>\n      <td>C</td>\n      <td>T</td>\n      <td>G</td>\n      <td>T</td>\n      <td>A</td>\n      <td>T</td>\n      <td>T</td>\n      <td>C</td>\n      <td>Tropical Japonica</td>\n      <td>147.40</td>\n    </tr>\n    <tr>\n      <th>528</th>\n      <td>W330</td>\n      <td>G</td>\n      <td>C</td>\n      <td>C</td>\n      <td>T</td>\n      <td>T</td>\n      <td>T</td>\n      <td>C</td>\n      <td>C</td>\n      <td>C</td>\n      <td>Aus</td>\n      <td>149.60</td>\n    </tr>\n  </tbody>\n</table>\n<p>529 rows × 12 columns</p>\n</div>"
     },
     "execution_count": 53,
     "metadata": {},
     "output_type": "execute_result"
    }
   ],
   "source": [
    "mapping"
   ],
   "metadata": {
    "collapsed": false,
    "ExecuteTime": {
     "end_time": "2023-05-03T09:10:36.209699Z",
     "start_time": "2023-05-03T09:10:36.206212Z"
    }
   }
  },
  {
   "cell_type": "code",
   "execution_count": 34,
   "outputs": [],
   "source": [
    "mapping.to_csv('mapping.csv', index=False)"
   ],
   "metadata": {
    "collapsed": false,
    "ExecuteTime": {
     "end_time": "2023-05-03T09:09:15.370258Z",
     "start_time": "2023-05-03T09:09:15.359764Z"
    }
   }
  },
  {
   "cell_type": "code",
   "execution_count": 59,
   "outputs": [],
   "source": [
    "mapping['sequence'] = mapping.apply(lambda x: ''.join(x[1:10]), axis=1)"
   ],
   "metadata": {
    "collapsed": false,
    "ExecuteTime": {
     "end_time": "2023-05-03T09:13:51.346716Z",
     "start_time": "2023-05-03T09:13:51.314629Z"
    }
   }
  },
  {
   "cell_type": "code",
   "execution_count": 60,
   "outputs": [
    {
     "data": {
      "text/plain": "    Cultivar ID vg0130976864 vg0135617816 vg0138428840 vg0405463422  \\\n0          C001            G            C            T            T   \n1          C002            G            C            C            T   \n2          C003            G            C            T            G   \n3          C004            G            C            T            G   \n4          C005            G            C            T            T   \n..          ...          ...          ...          ...          ...   \n524        W326            G            C            T            G   \n525        W327            A            C            T            G   \n526        W328            A            C            T            G   \n527        W329            G            C            T            G   \n528        W330            G            C            C            T   \n\n    vg0713178880 vg0819793460 vg1019044175 vg1123563633 vg1207667840  \\\n0              T            T            C            C            C   \n1              T            T            C            C            C   \n2              T            A            C            T            T   \n3              A            A            C            T            C   \n4              A            A            T            T            C   \n..           ...          ...          ...          ...          ...   \n524            T            A            C            T            C   \n525            T            A            C            T            C   \n526            T            A            C            T            T   \n527            T            A            T            T            C   \n528            T            T            C            C            C   \n\n             Subpopulation  Plant Height (cm)   sequence  \n0                 Indica I             144.13  GCTTTTCCC  \n1              VI/Aromatic             177.62  GCCTTTCCC  \n2    Japonica Intermediate             141.57  GCTGTACTT  \n3       Temperate Japonica             140.40  GCTGAACTC  \n4        Tropical Japonica             163.33  GCTTAATTC  \n..                     ...                ...        ...  \n524  Japonica Intermediate             155.40  GCTGTACTC  \n525     Temperate Japonica              89.80  ACTGTACTC  \n526           Intermediate             117.40  ACTGTACTT  \n527      Tropical Japonica             147.40  GCTGTATTC  \n528                    Aus             149.60  GCCTTTCCC  \n\n[529 rows x 13 columns]",
      "text/html": "<div>\n<style scoped>\n    .dataframe tbody tr th:only-of-type {\n        vertical-align: middle;\n    }\n\n    .dataframe tbody tr th {\n        vertical-align: top;\n    }\n\n    .dataframe thead th {\n        text-align: right;\n    }\n</style>\n<table border=\"1\" class=\"dataframe\">\n  <thead>\n    <tr style=\"text-align: right;\">\n      <th></th>\n      <th>Cultivar ID</th>\n      <th>vg0130976864</th>\n      <th>vg0135617816</th>\n      <th>vg0138428840</th>\n      <th>vg0405463422</th>\n      <th>vg0713178880</th>\n      <th>vg0819793460</th>\n      <th>vg1019044175</th>\n      <th>vg1123563633</th>\n      <th>vg1207667840</th>\n      <th>Subpopulation</th>\n      <th>Plant Height (cm)</th>\n      <th>sequence</th>\n    </tr>\n  </thead>\n  <tbody>\n    <tr>\n      <th>0</th>\n      <td>C001</td>\n      <td>G</td>\n      <td>C</td>\n      <td>T</td>\n      <td>T</td>\n      <td>T</td>\n      <td>T</td>\n      <td>C</td>\n      <td>C</td>\n      <td>C</td>\n      <td>Indica I</td>\n      <td>144.13</td>\n      <td>GCTTTTCCC</td>\n    </tr>\n    <tr>\n      <th>1</th>\n      <td>C002</td>\n      <td>G</td>\n      <td>C</td>\n      <td>C</td>\n      <td>T</td>\n      <td>T</td>\n      <td>T</td>\n      <td>C</td>\n      <td>C</td>\n      <td>C</td>\n      <td>VI/Aromatic</td>\n      <td>177.62</td>\n      <td>GCCTTTCCC</td>\n    </tr>\n    <tr>\n      <th>2</th>\n      <td>C003</td>\n      <td>G</td>\n      <td>C</td>\n      <td>T</td>\n      <td>G</td>\n      <td>T</td>\n      <td>A</td>\n      <td>C</td>\n      <td>T</td>\n      <td>T</td>\n      <td>Japonica Intermediate</td>\n      <td>141.57</td>\n      <td>GCTGTACTT</td>\n    </tr>\n    <tr>\n      <th>3</th>\n      <td>C004</td>\n      <td>G</td>\n      <td>C</td>\n      <td>T</td>\n      <td>G</td>\n      <td>A</td>\n      <td>A</td>\n      <td>C</td>\n      <td>T</td>\n      <td>C</td>\n      <td>Temperate Japonica</td>\n      <td>140.40</td>\n      <td>GCTGAACTC</td>\n    </tr>\n    <tr>\n      <th>4</th>\n      <td>C005</td>\n      <td>G</td>\n      <td>C</td>\n      <td>T</td>\n      <td>T</td>\n      <td>A</td>\n      <td>A</td>\n      <td>T</td>\n      <td>T</td>\n      <td>C</td>\n      <td>Tropical Japonica</td>\n      <td>163.33</td>\n      <td>GCTTAATTC</td>\n    </tr>\n    <tr>\n      <th>...</th>\n      <td>...</td>\n      <td>...</td>\n      <td>...</td>\n      <td>...</td>\n      <td>...</td>\n      <td>...</td>\n      <td>...</td>\n      <td>...</td>\n      <td>...</td>\n      <td>...</td>\n      <td>...</td>\n      <td>...</td>\n      <td>...</td>\n    </tr>\n    <tr>\n      <th>524</th>\n      <td>W326</td>\n      <td>G</td>\n      <td>C</td>\n      <td>T</td>\n      <td>G</td>\n      <td>T</td>\n      <td>A</td>\n      <td>C</td>\n      <td>T</td>\n      <td>C</td>\n      <td>Japonica Intermediate</td>\n      <td>155.40</td>\n      <td>GCTGTACTC</td>\n    </tr>\n    <tr>\n      <th>525</th>\n      <td>W327</td>\n      <td>A</td>\n      <td>C</td>\n      <td>T</td>\n      <td>G</td>\n      <td>T</td>\n      <td>A</td>\n      <td>C</td>\n      <td>T</td>\n      <td>C</td>\n      <td>Temperate Japonica</td>\n      <td>89.80</td>\n      <td>ACTGTACTC</td>\n    </tr>\n    <tr>\n      <th>526</th>\n      <td>W328</td>\n      <td>A</td>\n      <td>C</td>\n      <td>T</td>\n      <td>G</td>\n      <td>T</td>\n      <td>A</td>\n      <td>C</td>\n      <td>T</td>\n      <td>T</td>\n      <td>Intermediate</td>\n      <td>117.40</td>\n      <td>ACTGTACTT</td>\n    </tr>\n    <tr>\n      <th>527</th>\n      <td>W329</td>\n      <td>G</td>\n      <td>C</td>\n      <td>T</td>\n      <td>G</td>\n      <td>T</td>\n      <td>A</td>\n      <td>T</td>\n      <td>T</td>\n      <td>C</td>\n      <td>Tropical Japonica</td>\n      <td>147.40</td>\n      <td>GCTGTATTC</td>\n    </tr>\n    <tr>\n      <th>528</th>\n      <td>W330</td>\n      <td>G</td>\n      <td>C</td>\n      <td>C</td>\n      <td>T</td>\n      <td>T</td>\n      <td>T</td>\n      <td>C</td>\n      <td>C</td>\n      <td>C</td>\n      <td>Aus</td>\n      <td>149.60</td>\n      <td>GCCTTTCCC</td>\n    </tr>\n  </tbody>\n</table>\n<p>529 rows × 13 columns</p>\n</div>"
     },
     "execution_count": 60,
     "metadata": {},
     "output_type": "execute_result"
    }
   ],
   "source": [
    "mapping"
   ],
   "metadata": {
    "collapsed": false,
    "ExecuteTime": {
     "end_time": "2023-05-03T09:13:51.936794Z",
     "start_time": "2023-05-03T09:13:51.932918Z"
    }
   }
  },
  {
   "cell_type": "code",
   "execution_count": 61,
   "outputs": [
    {
     "data": {
      "text/plain": "75"
     },
     "execution_count": 61,
     "metadata": {},
     "output_type": "execute_result"
    }
   ],
   "source": [
    "len(mapping['sequence'].unique())"
   ],
   "metadata": {
    "collapsed": false,
    "ExecuteTime": {
     "end_time": "2023-05-03T09:13:55.897633Z",
     "start_time": "2023-05-03T09:13:55.886157Z"
    }
   }
  },
  {
   "cell_type": "code",
   "execution_count": 62,
   "outputs": [
    {
     "data": {
      "text/plain": "    Cultivar ID              Cultivar Name          Subpopulation  \\\n379        C001                   Sadu-cho               Indica I   \n124        C002                  Dom_Sufid            VI/Aromatic   \n150        C003                     Gerdeh  Japonica Intermediate   \n269        C004  Li-Jiang-Xin-Tuan-Hei-Gu_     Temperate Japonica   \n46         C005                    AZUCENA      Tropical Japonica   \n..          ...                        ...                    ...   \n174        W326             Haolvguangnian  Japonica Intermediate   \n230        W327                    JinghuB     Temperate Japonica   \n403        W328               Sibeitichao6           Intermediate   \n156        W329                  GPNO_5055      Tropical Japonica   \n41         W330                 ASWINA_330                    Aus   \n\n     Plant Height (cm) vg0130976864 vg0135617816 vg0138428840 vg0405463422  \\\n379             144.13            G            C            T            T   \n124             177.62            G            C            C            T   \n150             141.57            G            C            T            G   \n269             140.40            G            C            T            G   \n46              163.33            G            C            T            T   \n..                 ...          ...          ...          ...          ...   \n174             155.40            G            C            T            G   \n230              89.80            A            C            T            G   \n403             117.40            A            C            T            G   \n156             147.40            G            C            T            G   \n41              149.60            G            C            C            T   \n\n    vg0713178880 vg0819793460 vg1019044175 vg1123563633 vg1207667840  \\\n379            T            T            C            C            C   \n124            T            T            C            C            C   \n150            T            A            C            T            T   \n269            A            A            C            T            C   \n46             A            A            T            T            C   \n..           ...          ...          ...          ...          ...   \n174            T            A            C            T            C   \n230            T            A            C            T            C   \n403            T            A            C            T            T   \n156            T            A            T            T            C   \n41             T            T            C            C            C   \n\n      Sequence  \n379  GCTTTTCCC  \n124  GCCTTTCCC  \n150  GCTGTACTT  \n269  GCTGAACTC  \n46   GCTTAATTC  \n..         ...  \n174  GCTGTACTC  \n230  ACTGTACTC  \n403  ACTGTACTT  \n156  GCTGTATTC  \n41   GCCTTTCCC  \n\n[529 rows x 14 columns]",
      "text/html": "<div>\n<style scoped>\n    .dataframe tbody tr th:only-of-type {\n        vertical-align: middle;\n    }\n\n    .dataframe tbody tr th {\n        vertical-align: top;\n    }\n\n    .dataframe thead th {\n        text-align: right;\n    }\n</style>\n<table border=\"1\" class=\"dataframe\">\n  <thead>\n    <tr style=\"text-align: right;\">\n      <th></th>\n      <th>Cultivar ID</th>\n      <th>Cultivar Name</th>\n      <th>Subpopulation</th>\n      <th>Plant Height (cm)</th>\n      <th>vg0130976864</th>\n      <th>vg0135617816</th>\n      <th>vg0138428840</th>\n      <th>vg0405463422</th>\n      <th>vg0713178880</th>\n      <th>vg0819793460</th>\n      <th>vg1019044175</th>\n      <th>vg1123563633</th>\n      <th>vg1207667840</th>\n      <th>Sequence</th>\n    </tr>\n  </thead>\n  <tbody>\n    <tr>\n      <th>379</th>\n      <td>C001</td>\n      <td>Sadu-cho</td>\n      <td>Indica I</td>\n      <td>144.13</td>\n      <td>G</td>\n      <td>C</td>\n      <td>T</td>\n      <td>T</td>\n      <td>T</td>\n      <td>T</td>\n      <td>C</td>\n      <td>C</td>\n      <td>C</td>\n      <td>GCTTTTCCC</td>\n    </tr>\n    <tr>\n      <th>124</th>\n      <td>C002</td>\n      <td>Dom_Sufid</td>\n      <td>VI/Aromatic</td>\n      <td>177.62</td>\n      <td>G</td>\n      <td>C</td>\n      <td>C</td>\n      <td>T</td>\n      <td>T</td>\n      <td>T</td>\n      <td>C</td>\n      <td>C</td>\n      <td>C</td>\n      <td>GCCTTTCCC</td>\n    </tr>\n    <tr>\n      <th>150</th>\n      <td>C003</td>\n      <td>Gerdeh</td>\n      <td>Japonica Intermediate</td>\n      <td>141.57</td>\n      <td>G</td>\n      <td>C</td>\n      <td>T</td>\n      <td>G</td>\n      <td>T</td>\n      <td>A</td>\n      <td>C</td>\n      <td>T</td>\n      <td>T</td>\n      <td>GCTGTACTT</td>\n    </tr>\n    <tr>\n      <th>269</th>\n      <td>C004</td>\n      <td>Li-Jiang-Xin-Tuan-Hei-Gu_</td>\n      <td>Temperate Japonica</td>\n      <td>140.40</td>\n      <td>G</td>\n      <td>C</td>\n      <td>T</td>\n      <td>G</td>\n      <td>A</td>\n      <td>A</td>\n      <td>C</td>\n      <td>T</td>\n      <td>C</td>\n      <td>GCTGAACTC</td>\n    </tr>\n    <tr>\n      <th>46</th>\n      <td>C005</td>\n      <td>AZUCENA</td>\n      <td>Tropical Japonica</td>\n      <td>163.33</td>\n      <td>G</td>\n      <td>C</td>\n      <td>T</td>\n      <td>T</td>\n      <td>A</td>\n      <td>A</td>\n      <td>T</td>\n      <td>T</td>\n      <td>C</td>\n      <td>GCTTAATTC</td>\n    </tr>\n    <tr>\n      <th>...</th>\n      <td>...</td>\n      <td>...</td>\n      <td>...</td>\n      <td>...</td>\n      <td>...</td>\n      <td>...</td>\n      <td>...</td>\n      <td>...</td>\n      <td>...</td>\n      <td>...</td>\n      <td>...</td>\n      <td>...</td>\n      <td>...</td>\n      <td>...</td>\n    </tr>\n    <tr>\n      <th>174</th>\n      <td>W326</td>\n      <td>Haolvguangnian</td>\n      <td>Japonica Intermediate</td>\n      <td>155.40</td>\n      <td>G</td>\n      <td>C</td>\n      <td>T</td>\n      <td>G</td>\n      <td>T</td>\n      <td>A</td>\n      <td>C</td>\n      <td>T</td>\n      <td>C</td>\n      <td>GCTGTACTC</td>\n    </tr>\n    <tr>\n      <th>230</th>\n      <td>W327</td>\n      <td>JinghuB</td>\n      <td>Temperate Japonica</td>\n      <td>89.80</td>\n      <td>A</td>\n      <td>C</td>\n      <td>T</td>\n      <td>G</td>\n      <td>T</td>\n      <td>A</td>\n      <td>C</td>\n      <td>T</td>\n      <td>C</td>\n      <td>ACTGTACTC</td>\n    </tr>\n    <tr>\n      <th>403</th>\n      <td>W328</td>\n      <td>Sibeitichao6</td>\n      <td>Intermediate</td>\n      <td>117.40</td>\n      <td>A</td>\n      <td>C</td>\n      <td>T</td>\n      <td>G</td>\n      <td>T</td>\n      <td>A</td>\n      <td>C</td>\n      <td>T</td>\n      <td>T</td>\n      <td>ACTGTACTT</td>\n    </tr>\n    <tr>\n      <th>156</th>\n      <td>W329</td>\n      <td>GPNO_5055</td>\n      <td>Tropical Japonica</td>\n      <td>147.40</td>\n      <td>G</td>\n      <td>C</td>\n      <td>T</td>\n      <td>G</td>\n      <td>T</td>\n      <td>A</td>\n      <td>T</td>\n      <td>T</td>\n      <td>C</td>\n      <td>GCTGTATTC</td>\n    </tr>\n    <tr>\n      <th>41</th>\n      <td>W330</td>\n      <td>ASWINA_330</td>\n      <td>Aus</td>\n      <td>149.60</td>\n      <td>G</td>\n      <td>C</td>\n      <td>C</td>\n      <td>T</td>\n      <td>T</td>\n      <td>T</td>\n      <td>C</td>\n      <td>C</td>\n      <td>C</td>\n      <td>GCCTTTCCC</td>\n    </tr>\n  </tbody>\n</table>\n<p>529 rows × 14 columns</p>\n</div>"
     },
     "execution_count": 62,
     "metadata": {},
     "output_type": "execute_result"
    }
   ],
   "source": [
    "df = pd.read_csv(\"merged_final.csv\")\n",
    "df = df.iloc[:, 1:]\n",
    "df = df.sort_values('Cultivar ID')\n",
    "df"
   ],
   "metadata": {
    "collapsed": false,
    "ExecuteTime": {
     "end_time": "2023-05-03T09:13:58.713601Z",
     "start_time": "2023-05-03T09:13:58.690117Z"
    }
   }
  },
  {
   "cell_type": "code",
   "execution_count": 58,
   "outputs": [
    {
     "name": "stdout",
     "output_type": "stream",
     "text": [
      "GCTTTTCCC GCTTTTCC False\n",
      "GCCTTTCCC GCCTTTCC False\n",
      "GCTGTACTT GCTGTACT False\n",
      "GCTGAACTC GCTGAACT False\n",
      "GCTTAATTC GCTTAATT False\n",
      "GCTTTATTT GCTTTATT False\n",
      "GCTGTATTC GCTGTATT False\n",
      "GCTGTATTT ACTGAACT False\n",
      "ACTGAACTT GCCTTTCT False\n",
      "GCCTTTCTC ACTGTATT False\n",
      "ACTGTATTT GCTGTACC False\n",
      "GCTGTACCT ACTGTACT False\n",
      "ACTGTACTT GCTTTATC False\n",
      "GCTTTATCT ACTTTATC False\n",
      "ACTTTATCT GCTTTTTC False\n",
      "GCTTTTTCT GCTGTATC False\n",
      "GCTGTATCT GCCTTTTT False\n",
      "GCTTTATTC GCCTTATT False\n",
      "GCCTTTTTT ACTGAACC False\n",
      "ACTGTACTC GCTGTTTT False\n",
      "GCCTTATTT GCTTTTTT False\n",
      "GCTTTATCC GCCTTATC False\n",
      "ACTGAACCC GCTGAATC False\n",
      "GCTGTTTTC GCCTTACT False\n",
      "GCTGTACTC GCTTAACT False\n",
      "GCTGAACTT GTTGTATT False\n",
      "GCTTTTTTT GCCGTTTT False\n",
      "GCCTTTTTC GCTGAACC False\n",
      "GCCTTATCC GCCGTATT False\n",
      "GCTTTTTTC GCTTTACT False\n",
      "GCTGAATCT GCTTAACC False\n",
      "GCTGTACCC GCTTTTCT False\n",
      "GCCTTACTC GCTGAATT False\n",
      "GCTTAACTT GCCTTTTC False\n",
      "GTTGTATTC GCCGTTCC False\n",
      "GCCGTTTTC GCCGTTTC False\n",
      "GCTGAACCC GTCGTTCT False\n",
      "GCCGTATTT GCCGTACT False\n",
      "GCCTTATTC GCCGTTCT False\n",
      "ACTGAACCT GCCTTACC False\n",
      "GCTTTACTT GCCGTACC False\n",
      "GCCGTATTC ACTGAATT False\n",
      "GCTTTTTCC ACTGTTCT False\n",
      "GCTTAACCC ACCGATCT False\n",
      "GCTTTTCTC ACTGTTTT False\n",
      "GCTGAATTT GTCTTTTT False\n",
      "GCCTTTTCC GCTGTTCC False\n"
     ]
    }
   ],
   "source": [
    "for x, y in zip(df['Sequence'].unique(),mapping['sequence'].unique()):\n",
    "    print(x, y, str(x)==str(y))"
   ],
   "metadata": {
    "collapsed": false,
    "ExecuteTime": {
     "end_time": "2023-05-03T09:10:47.980485Z",
     "start_time": "2023-05-03T09:10:47.976653Z"
    }
   }
  },
  {
   "cell_type": "code",
   "execution_count": null,
   "outputs": [],
   "source": [],
   "metadata": {
    "collapsed": false
   }
  }
 ],
 "metadata": {
  "kernelspec": {
   "display_name": "Python 3",
   "language": "python",
   "name": "python3"
  },
  "language_info": {
   "codemirror_mode": {
    "name": "ipython",
    "version": 2
   },
   "file_extension": ".py",
   "mimetype": "text/x-python",
   "name": "python",
   "nbconvert_exporter": "python",
   "pygments_lexer": "ipython2",
   "version": "2.7.6"
  }
 },
 "nbformat": 4,
 "nbformat_minor": 0
}
