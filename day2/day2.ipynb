{
 "cells": [
  {
   "cell_type": "code",
   "execution_count": null,
   "metadata": {
    "collapsed": true
   },
   "outputs": [],
   "source": [
    "# 1)To find point Mutations in a given sequence\n",
    "# input : reference sequence and sequence to be  verified for mutations\n",
    "# output: if there is an alteration to a base pair AT as AA or TT  and CG as CC or GG\n",
    "# print mutation is found else no mutation\n",
    "# \tex : reference sequence : ATATCGCGCGATAT\n",
    "\n",
    "\n",
    "string = input(\"Input DNA String\")\n",
    "flag = 0\n",
    "for i in range(len(string), 2):\n",
    "    strP = string[i:i + 1]\n",
    "    if strP=='AT' or strP=='TA' or strP=='CG' or strP=='GC':\n",
    "        continue\n",
    "    else:\n",
    "        flag = 1\n",
    "        print(\"Mutation Found\")\n",
    "        break\n",
    "if not flag:\n",
    "    print(\"No mutation\")"
   ]
  },
  {
   "cell_type": "code",
   "execution_count": 4,
   "outputs": [
    {
     "name": "stdout",
     "output_type": "stream",
     "text": [
      "TAGCCGATAT\n"
     ]
    }
   ],
   "source": [
    "# 2) finding reverse complement of a DNA sequence\n",
    "# input : a sequence\n",
    "# output : reverse complement\n",
    "# ex : ATCGA\n",
    "# for a t is the reverse and vice versa for c -g is the inverse and vice versa\n",
    "# now for ATCGA -\t\twe will write from last\n",
    "# TCGAT  is the  reverse complement\n",
    "\n",
    "string = input(\"Input DNA String\")\n",
    "newString = \"\"\n",
    "for i in range(len(string)):\n",
    "    if string[i]=='A':\n",
    "        newString = newString + 'T'\n",
    "    if string[i]=='T':\n",
    "        newString = newString + 'A'\n",
    "    if string[i]=='G':\n",
    "        newString = newString + 'C'\n",
    "    if string[i]=='C':\n",
    "        newString = newString + 'G'\n",
    "\n",
    "print(newString[::-1])"
   ],
   "metadata": {
    "collapsed": false
   }
  },
  {
   "cell_type": "code",
   "execution_count": 3,
   "outputs": [
    {
     "name": "stdout",
     "output_type": "stream",
     "text": [
      "\n"
     ]
    }
   ],
   "source": [
    "# 3) find reverse complement for RNA\n",
    "\n",
    "\n",
    "\n",
    "string = input(\"Input DNA String\")\n",
    "newString = \"\"\n",
    "for i in range(len(string)):\n",
    "    if string[i]=='A':\n",
    "        newString = newString + 'U'\n",
    "    if string[i]=='U':\n",
    "        newString = newString + 'A'\n",
    "    if string[i]=='G':\n",
    "        newString = newString + 'C'\n",
    "    if string[i]=='C':\n",
    "        newString = newString + 'G'\n",
    "\n",
    "print(newString[::-1])"
   ],
   "metadata": {
    "collapsed": false
   }
  },
  {
   "cell_type": "code",
   "execution_count": null,
   "outputs": [],
   "source": [],
   "metadata": {
    "collapsed": false
   }
  }
 ],
 "metadata": {
  "kernelspec": {
   "display_name": "Python 3",
   "language": "python",
   "name": "python3"
  },
  "language_info": {
   "codemirror_mode": {
    "name": "ipython",
    "version": 2
   },
   "file_extension": ".py",
   "mimetype": "text/x-python",
   "name": "python",
   "nbconvert_exporter": "python",
   "pygments_lexer": "ipython2",
   "version": "2.7.6"
  }
 },
 "nbformat": 4,
 "nbformat_minor": 0
}
