{
 "cells": [
  {
   "cell_type": "code",
   "execution_count": 1,
   "metadata": {
    "collapsed": true,
    "ExecuteTime": {
     "end_time": "2023-07-08T06:41:35.478273Z",
     "start_time": "2023-07-08T06:41:35.150585Z"
    }
   },
   "outputs": [],
   "source": [
    "import pandas as pd"
   ]
  },
  {
   "cell_type": "code",
   "execution_count": 2,
   "outputs": [
    {
     "data": {
      "text/plain": "    Cultivar ID vg0112116426 vg0128525986 vg0130976864 vg0131664768  \\\n0          C001            G            G            G            A   \n1          C002            G            G            G            G   \n2          C003            G            A            G            A   \n3          C004            G            A            G            G   \n4          C005            A            G            G            G   \n..          ...          ...          ...          ...          ...   \n523        W326            G            A            G            A   \n524        W327            G            A            A            A   \n525        W328            G            A            A            A   \n526        W329            A            G            G            G   \n527        W330            G            G            G            G   \n\n    vg0133440209 vg0135617816 vg0135642980 vg0138418739 vg0138428840  ...  \\\n0              G            C            C            A            T  ...   \n1              G            C            C            A            C  ...   \n2              G            C            C            A            T  ...   \n3              G            C            C            A            T  ...   \n4              G            C            C            A            T  ...   \n..           ...          ...          ...          ...          ...  ...   \n523            G            C            C            A            T  ...   \n524            G            C            C            A            T  ...   \n525            G            C            C            A            T  ...   \n526            G            C            C            A            T  ...   \n527            G            C            C            A            C  ...   \n\n    vg0719834473 vg0819793460 vg0904094998 vg0904282939 vg1019044175  \\\n0              T            T            C            C            C   \n1              C            T            C            C            C   \n2              C            A            A            C            C   \n3              T            A            C            T            C   \n4              C            A            A            C            T   \n..           ...          ...          ...          ...          ...   \n523            C            A            A            C            C   \n524            T            A            A            C            C   \n525            C            A            C            C            C   \n526            C            A            A            C            T   \n527            C            T            C            C            C   \n\n    vg1123563633 vg1207667840 Subpopulation Plant Height (cm)  \\\n0              C            C        Indica            144.13   \n1              C            C   VI/Aromatic            177.62   \n2              T            T      Japonica            141.57   \n3              T            C      Japonica            140.40   \n4              T            C      Japonica            163.33   \n..           ...          ...           ...               ...   \n523            T            C      Japonica            155.40   \n524            T            C      Japonica             89.80   \n525            T            T  Intermediate            117.40   \n526            T            C      Japonica            147.40   \n527            C            C           Aus            149.60   \n\n                     sequence  \n0    GGGAGCCATCGTAATGTTTCCCCC  \n1    GGGGGCCACCGTAATGCCTCCCCC  \n2    GAGAGCCATAGGAGTGCCAACCTT  \n3    GAGGGCCATAGGAGAACTACTCTC  \n4    AGGGGCCATAGTAAAGCCAACTTC  \n..                        ...  \n523  GAGAGCCATAGGTGTACCAACCTC  \n524  GAAAGCCATAGGTGTGTTAACCTC  \n525  GAAAGCCATAGGTATACCACCCTT  \n526  AGGGGCCATAGGTATGCCAACTTC  \n527  GGGGGCCACCGTAATGTCTCCCCC  \n\n[528 rows x 28 columns]",
      "text/html": "<div>\n<style scoped>\n    .dataframe tbody tr th:only-of-type {\n        vertical-align: middle;\n    }\n\n    .dataframe tbody tr th {\n        vertical-align: top;\n    }\n\n    .dataframe thead th {\n        text-align: right;\n    }\n</style>\n<table border=\"1\" class=\"dataframe\">\n  <thead>\n    <tr style=\"text-align: right;\">\n      <th></th>\n      <th>Cultivar ID</th>\n      <th>vg0112116426</th>\n      <th>vg0128525986</th>\n      <th>vg0130976864</th>\n      <th>vg0131664768</th>\n      <th>vg0133440209</th>\n      <th>vg0135617816</th>\n      <th>vg0135642980</th>\n      <th>vg0138418739</th>\n      <th>vg0138428840</th>\n      <th>...</th>\n      <th>vg0719834473</th>\n      <th>vg0819793460</th>\n      <th>vg0904094998</th>\n      <th>vg0904282939</th>\n      <th>vg1019044175</th>\n      <th>vg1123563633</th>\n      <th>vg1207667840</th>\n      <th>Subpopulation</th>\n      <th>Plant Height (cm)</th>\n      <th>sequence</th>\n    </tr>\n  </thead>\n  <tbody>\n    <tr>\n      <th>0</th>\n      <td>C001</td>\n      <td>G</td>\n      <td>G</td>\n      <td>G</td>\n      <td>A</td>\n      <td>G</td>\n      <td>C</td>\n      <td>C</td>\n      <td>A</td>\n      <td>T</td>\n      <td>...</td>\n      <td>T</td>\n      <td>T</td>\n      <td>C</td>\n      <td>C</td>\n      <td>C</td>\n      <td>C</td>\n      <td>C</td>\n      <td>Indica</td>\n      <td>144.13</td>\n      <td>GGGAGCCATCGTAATGTTTCCCCC</td>\n    </tr>\n    <tr>\n      <th>1</th>\n      <td>C002</td>\n      <td>G</td>\n      <td>G</td>\n      <td>G</td>\n      <td>G</td>\n      <td>G</td>\n      <td>C</td>\n      <td>C</td>\n      <td>A</td>\n      <td>C</td>\n      <td>...</td>\n      <td>C</td>\n      <td>T</td>\n      <td>C</td>\n      <td>C</td>\n      <td>C</td>\n      <td>C</td>\n      <td>C</td>\n      <td>VI/Aromatic</td>\n      <td>177.62</td>\n      <td>GGGGGCCACCGTAATGCCTCCCCC</td>\n    </tr>\n    <tr>\n      <th>2</th>\n      <td>C003</td>\n      <td>G</td>\n      <td>A</td>\n      <td>G</td>\n      <td>A</td>\n      <td>G</td>\n      <td>C</td>\n      <td>C</td>\n      <td>A</td>\n      <td>T</td>\n      <td>...</td>\n      <td>C</td>\n      <td>A</td>\n      <td>A</td>\n      <td>C</td>\n      <td>C</td>\n      <td>T</td>\n      <td>T</td>\n      <td>Japonica</td>\n      <td>141.57</td>\n      <td>GAGAGCCATAGGAGTGCCAACCTT</td>\n    </tr>\n    <tr>\n      <th>3</th>\n      <td>C004</td>\n      <td>G</td>\n      <td>A</td>\n      <td>G</td>\n      <td>G</td>\n      <td>G</td>\n      <td>C</td>\n      <td>C</td>\n      <td>A</td>\n      <td>T</td>\n      <td>...</td>\n      <td>T</td>\n      <td>A</td>\n      <td>C</td>\n      <td>T</td>\n      <td>C</td>\n      <td>T</td>\n      <td>C</td>\n      <td>Japonica</td>\n      <td>140.40</td>\n      <td>GAGGGCCATAGGAGAACTACTCTC</td>\n    </tr>\n    <tr>\n      <th>4</th>\n      <td>C005</td>\n      <td>A</td>\n      <td>G</td>\n      <td>G</td>\n      <td>G</td>\n      <td>G</td>\n      <td>C</td>\n      <td>C</td>\n      <td>A</td>\n      <td>T</td>\n      <td>...</td>\n      <td>C</td>\n      <td>A</td>\n      <td>A</td>\n      <td>C</td>\n      <td>T</td>\n      <td>T</td>\n      <td>C</td>\n      <td>Japonica</td>\n      <td>163.33</td>\n      <td>AGGGGCCATAGTAAAGCCAACTTC</td>\n    </tr>\n    <tr>\n      <th>...</th>\n      <td>...</td>\n      <td>...</td>\n      <td>...</td>\n      <td>...</td>\n      <td>...</td>\n      <td>...</td>\n      <td>...</td>\n      <td>...</td>\n      <td>...</td>\n      <td>...</td>\n      <td>...</td>\n      <td>...</td>\n      <td>...</td>\n      <td>...</td>\n      <td>...</td>\n      <td>...</td>\n      <td>...</td>\n      <td>...</td>\n      <td>...</td>\n      <td>...</td>\n      <td>...</td>\n    </tr>\n    <tr>\n      <th>523</th>\n      <td>W326</td>\n      <td>G</td>\n      <td>A</td>\n      <td>G</td>\n      <td>A</td>\n      <td>G</td>\n      <td>C</td>\n      <td>C</td>\n      <td>A</td>\n      <td>T</td>\n      <td>...</td>\n      <td>C</td>\n      <td>A</td>\n      <td>A</td>\n      <td>C</td>\n      <td>C</td>\n      <td>T</td>\n      <td>C</td>\n      <td>Japonica</td>\n      <td>155.40</td>\n      <td>GAGAGCCATAGGTGTACCAACCTC</td>\n    </tr>\n    <tr>\n      <th>524</th>\n      <td>W327</td>\n      <td>G</td>\n      <td>A</td>\n      <td>A</td>\n      <td>A</td>\n      <td>G</td>\n      <td>C</td>\n      <td>C</td>\n      <td>A</td>\n      <td>T</td>\n      <td>...</td>\n      <td>T</td>\n      <td>A</td>\n      <td>A</td>\n      <td>C</td>\n      <td>C</td>\n      <td>T</td>\n      <td>C</td>\n      <td>Japonica</td>\n      <td>89.80</td>\n      <td>GAAAGCCATAGGTGTGTTAACCTC</td>\n    </tr>\n    <tr>\n      <th>525</th>\n      <td>W328</td>\n      <td>G</td>\n      <td>A</td>\n      <td>A</td>\n      <td>A</td>\n      <td>G</td>\n      <td>C</td>\n      <td>C</td>\n      <td>A</td>\n      <td>T</td>\n      <td>...</td>\n      <td>C</td>\n      <td>A</td>\n      <td>C</td>\n      <td>C</td>\n      <td>C</td>\n      <td>T</td>\n      <td>T</td>\n      <td>Intermediate</td>\n      <td>117.40</td>\n      <td>GAAAGCCATAGGTATACCACCCTT</td>\n    </tr>\n    <tr>\n      <th>526</th>\n      <td>W329</td>\n      <td>A</td>\n      <td>G</td>\n      <td>G</td>\n      <td>G</td>\n      <td>G</td>\n      <td>C</td>\n      <td>C</td>\n      <td>A</td>\n      <td>T</td>\n      <td>...</td>\n      <td>C</td>\n      <td>A</td>\n      <td>A</td>\n      <td>C</td>\n      <td>T</td>\n      <td>T</td>\n      <td>C</td>\n      <td>Japonica</td>\n      <td>147.40</td>\n      <td>AGGGGCCATAGGTATGCCAACTTC</td>\n    </tr>\n    <tr>\n      <th>527</th>\n      <td>W330</td>\n      <td>G</td>\n      <td>G</td>\n      <td>G</td>\n      <td>G</td>\n      <td>G</td>\n      <td>C</td>\n      <td>C</td>\n      <td>A</td>\n      <td>C</td>\n      <td>...</td>\n      <td>C</td>\n      <td>T</td>\n      <td>C</td>\n      <td>C</td>\n      <td>C</td>\n      <td>C</td>\n      <td>C</td>\n      <td>Aus</td>\n      <td>149.60</td>\n      <td>GGGGGCCACCGTAATGTCTCCCCC</td>\n    </tr>\n  </tbody>\n</table>\n<p>528 rows × 28 columns</p>\n</div>"
     },
     "execution_count": 2,
     "metadata": {},
     "output_type": "execute_result"
    }
   ],
   "source": [
    "mapping = pd.read_csv(\"mapping_24.csv\")\n",
    "mapping"
   ],
   "metadata": {
    "collapsed": false,
    "ExecuteTime": {
     "end_time": "2023-07-08T06:41:37.745137Z",
     "start_time": "2023-07-08T06:41:37.706332Z"
    }
   }
  },
  {
   "cell_type": "code",
   "execution_count": 3,
   "outputs": [
    {
     "data": {
      "text/plain": "    Cultivar ID                  sequence  Plant Height (cm) Subpopulation\n0          C001  GGGAGCCATCGTAATGTTTCCCCC             144.13        Indica\n1          C002  GGGGGCCACCGTAATGCCTCCCCC             177.62   VI/Aromatic\n2          C003  GAGAGCCATAGGAGTGCCAACCTT             141.57      Japonica\n3          C004  GAGGGCCATAGGAGAACTACTCTC             140.40      Japonica\n4          C005  AGGGGCCATAGTAAAGCCAACTTC             163.33      Japonica\n..          ...                       ...                ...           ...\n523        W326  GAGAGCCATAGGTGTACCAACCTC             155.40      Japonica\n524        W327  GAAAGCCATAGGTGTGTTAACCTC              89.80      Japonica\n525        W328  GAAAGCCATAGGTATACCACCCTT             117.40  Intermediate\n526        W329  AGGGGCCATAGGTATGCCAACTTC             147.40      Japonica\n527        W330  GGGGGCCACCGTAATGTCTCCCCC             149.60           Aus\n\n[528 rows x 4 columns]",
      "text/html": "<div>\n<style scoped>\n    .dataframe tbody tr th:only-of-type {\n        vertical-align: middle;\n    }\n\n    .dataframe tbody tr th {\n        vertical-align: top;\n    }\n\n    .dataframe thead th {\n        text-align: right;\n    }\n</style>\n<table border=\"1\" class=\"dataframe\">\n  <thead>\n    <tr style=\"text-align: right;\">\n      <th></th>\n      <th>Cultivar ID</th>\n      <th>sequence</th>\n      <th>Plant Height (cm)</th>\n      <th>Subpopulation</th>\n    </tr>\n  </thead>\n  <tbody>\n    <tr>\n      <th>0</th>\n      <td>C001</td>\n      <td>GGGAGCCATCGTAATGTTTCCCCC</td>\n      <td>144.13</td>\n      <td>Indica</td>\n    </tr>\n    <tr>\n      <th>1</th>\n      <td>C002</td>\n      <td>GGGGGCCACCGTAATGCCTCCCCC</td>\n      <td>177.62</td>\n      <td>VI/Aromatic</td>\n    </tr>\n    <tr>\n      <th>2</th>\n      <td>C003</td>\n      <td>GAGAGCCATAGGAGTGCCAACCTT</td>\n      <td>141.57</td>\n      <td>Japonica</td>\n    </tr>\n    <tr>\n      <th>3</th>\n      <td>C004</td>\n      <td>GAGGGCCATAGGAGAACTACTCTC</td>\n      <td>140.40</td>\n      <td>Japonica</td>\n    </tr>\n    <tr>\n      <th>4</th>\n      <td>C005</td>\n      <td>AGGGGCCATAGTAAAGCCAACTTC</td>\n      <td>163.33</td>\n      <td>Japonica</td>\n    </tr>\n    <tr>\n      <th>...</th>\n      <td>...</td>\n      <td>...</td>\n      <td>...</td>\n      <td>...</td>\n    </tr>\n    <tr>\n      <th>523</th>\n      <td>W326</td>\n      <td>GAGAGCCATAGGTGTACCAACCTC</td>\n      <td>155.40</td>\n      <td>Japonica</td>\n    </tr>\n    <tr>\n      <th>524</th>\n      <td>W327</td>\n      <td>GAAAGCCATAGGTGTGTTAACCTC</td>\n      <td>89.80</td>\n      <td>Japonica</td>\n    </tr>\n    <tr>\n      <th>525</th>\n      <td>W328</td>\n      <td>GAAAGCCATAGGTATACCACCCTT</td>\n      <td>117.40</td>\n      <td>Intermediate</td>\n    </tr>\n    <tr>\n      <th>526</th>\n      <td>W329</td>\n      <td>AGGGGCCATAGGTATGCCAACTTC</td>\n      <td>147.40</td>\n      <td>Japonica</td>\n    </tr>\n    <tr>\n      <th>527</th>\n      <td>W330</td>\n      <td>GGGGGCCACCGTAATGTCTCCCCC</td>\n      <td>149.60</td>\n      <td>Aus</td>\n    </tr>\n  </tbody>\n</table>\n<p>528 rows × 4 columns</p>\n</div>"
     },
     "execution_count": 3,
     "metadata": {},
     "output_type": "execute_result"
    }
   ],
   "source": [
    "df = mapping.iloc[:, [0,27,26,25]]\n",
    "df"
   ],
   "metadata": {
    "collapsed": false,
    "ExecuteTime": {
     "end_time": "2023-07-08T06:41:39.367529Z",
     "start_time": "2023-07-08T06:41:39.365501Z"
    }
   }
  },
  {
   "cell_type": "code",
   "execution_count": 4,
   "outputs": [],
   "source": [
    "import random\n",
    "\n",
    "def replace_characters(string):\n",
    "    # Maximum number of characters to replace (between 0 and 16)\n",
    "    max_replacements = random.randint(0, 16)\n",
    "\n",
    "    # Convert the string into a list of characters\n",
    "    char_list = list(string)\n",
    "\n",
    "    # Get the indices of characters to replace\n",
    "    indices = random.sample(range(len(char_list)), max_replacements)\n",
    "\n",
    "    # Replace the characters with 'N'\n",
    "    for index in indices:\n",
    "        char_list[index] = 'N'\n",
    "\n",
    "    # Join the characters back into a string\n",
    "    replaced_string = ''.join(char_list)\n",
    "\n",
    "    return replaced_string\n",
    "\n",
    "\n",
    "def add_or_subtract_value(value):\n",
    "    # Calculate the range of 2% of the value\n",
    "    range_2_percent = 0.02 * value\n",
    "\n",
    "    # Generate a random value within the range\n",
    "    random_value = random.uniform(-range_2_percent, range_2_percent)\n",
    "\n",
    "    # Add or subtract the random value from the input value\n",
    "    result = value + random_value\n",
    "\n",
    "    return result\n",
    "\n",
    "def add_character_columns(df, column_name):\n",
    "    # Iterate over the characters and add new columns\n",
    "    for i in range(24):\n",
    "        new_column_name = f'Character_{i+1}'\n",
    "        df[new_column_name] = df[column_name].str[i]\n",
    "\n",
    "    return df"
   ],
   "metadata": {
    "collapsed": false,
    "ExecuteTime": {
     "end_time": "2023-07-08T06:41:40.939618Z",
     "start_time": "2023-07-08T06:41:40.935255Z"
    }
   }
  },
  {
   "cell_type": "code",
   "execution_count": 5,
   "outputs": [
    {
     "data": {
      "text/plain": "                       sequence      height subpopulation reference  \\\n0      GGGAGCCATCGTAATGTTTCCCCC  144.130000        Indica      C001   \n1      GGGAGNNNNNGNNATGTTNNCCNN  144.913524        Indica      C001   \n2      GNGNGCNATCGTNATNTTNCCCNN  142.877425        Indica      C001   \n3      GGGAGCCNNCGTAANNTNTCCNCC  146.708178        Indica      C001   \n4      GGGAGCCATCGTAATGTTTCCCCC  143.726220        Indica      C001   \n...                         ...         ...           ...       ...   \n11083  NGNNNNNNNCNNAATNTNNNCCCN  148.938147           Aus      W330   \n11084  NNNNNCNACCGNNATGTNTCCCCC  151.300226           Aus      W330   \n11085  NNNGNNNNCCNNANTNNCTNNNNC  149.778012           Aus      W330   \n11086  GNNNGCCACCNNANTNNCTNCCCC  149.930487           Aus      W330   \n11087  NNGGNNCACCGTNANGNNNNNNNC  147.204749           Aus      W330   \n\n      Character_1 Character_2 Character_3 Character_4 Character_5 Character_6  \\\n0               G           G           G           A           G           C   \n1               G           G           G           A           G           N   \n2               G           N           G           N           G           C   \n3               G           G           G           A           G           C   \n4               G           G           G           A           G           C   \n...           ...         ...         ...         ...         ...         ...   \n11083           N           G           N           N           N           N   \n11084           N           N           N           N           N           C   \n11085           N           N           N           G           N           N   \n11086           G           N           N           N           G           C   \n11087           N           N           G           G           N           N   \n\n       ... Character_15 Character_16 Character_17 Character_18 Character_19  \\\n0      ...            T            G            T            T            T   \n1      ...            T            G            T            T            N   \n2      ...            T            N            T            T            N   \n3      ...            N            N            T            N            T   \n4      ...            T            G            T            T            T   \n...    ...          ...          ...          ...          ...          ...   \n11083  ...            T            N            T            N            N   \n11084  ...            T            G            T            N            T   \n11085  ...            T            N            N            C            T   \n11086  ...            T            N            N            C            T   \n11087  ...            N            G            N            N            N   \n\n      Character_20 Character_21 Character_22 Character_23 Character_24  \n0                C            C            C            C            C  \n1                N            C            C            N            N  \n2                C            C            C            N            N  \n3                C            C            N            C            C  \n4                C            C            C            C            C  \n...            ...          ...          ...          ...          ...  \n11083            N            C            C            C            N  \n11084            C            C            C            C            C  \n11085            N            N            N            N            C  \n11086            N            C            C            C            C  \n11087            N            N            N            N            C  \n\n[11088 rows x 28 columns]",
      "text/html": "<div>\n<style scoped>\n    .dataframe tbody tr th:only-of-type {\n        vertical-align: middle;\n    }\n\n    .dataframe tbody tr th {\n        vertical-align: top;\n    }\n\n    .dataframe thead th {\n        text-align: right;\n    }\n</style>\n<table border=\"1\" class=\"dataframe\">\n  <thead>\n    <tr style=\"text-align: right;\">\n      <th></th>\n      <th>sequence</th>\n      <th>height</th>\n      <th>subpopulation</th>\n      <th>reference</th>\n      <th>Character_1</th>\n      <th>Character_2</th>\n      <th>Character_3</th>\n      <th>Character_4</th>\n      <th>Character_5</th>\n      <th>Character_6</th>\n      <th>...</th>\n      <th>Character_15</th>\n      <th>Character_16</th>\n      <th>Character_17</th>\n      <th>Character_18</th>\n      <th>Character_19</th>\n      <th>Character_20</th>\n      <th>Character_21</th>\n      <th>Character_22</th>\n      <th>Character_23</th>\n      <th>Character_24</th>\n    </tr>\n  </thead>\n  <tbody>\n    <tr>\n      <th>0</th>\n      <td>GGGAGCCATCGTAATGTTTCCCCC</td>\n      <td>144.130000</td>\n      <td>Indica</td>\n      <td>C001</td>\n      <td>G</td>\n      <td>G</td>\n      <td>G</td>\n      <td>A</td>\n      <td>G</td>\n      <td>C</td>\n      <td>...</td>\n      <td>T</td>\n      <td>G</td>\n      <td>T</td>\n      <td>T</td>\n      <td>T</td>\n      <td>C</td>\n      <td>C</td>\n      <td>C</td>\n      <td>C</td>\n      <td>C</td>\n    </tr>\n    <tr>\n      <th>1</th>\n      <td>GGGAGNNNNNGNNATGTTNNCCNN</td>\n      <td>144.913524</td>\n      <td>Indica</td>\n      <td>C001</td>\n      <td>G</td>\n      <td>G</td>\n      <td>G</td>\n      <td>A</td>\n      <td>G</td>\n      <td>N</td>\n      <td>...</td>\n      <td>T</td>\n      <td>G</td>\n      <td>T</td>\n      <td>T</td>\n      <td>N</td>\n      <td>N</td>\n      <td>C</td>\n      <td>C</td>\n      <td>N</td>\n      <td>N</td>\n    </tr>\n    <tr>\n      <th>2</th>\n      <td>GNGNGCNATCGTNATNTTNCCCNN</td>\n      <td>142.877425</td>\n      <td>Indica</td>\n      <td>C001</td>\n      <td>G</td>\n      <td>N</td>\n      <td>G</td>\n      <td>N</td>\n      <td>G</td>\n      <td>C</td>\n      <td>...</td>\n      <td>T</td>\n      <td>N</td>\n      <td>T</td>\n      <td>T</td>\n      <td>N</td>\n      <td>C</td>\n      <td>C</td>\n      <td>C</td>\n      <td>N</td>\n      <td>N</td>\n    </tr>\n    <tr>\n      <th>3</th>\n      <td>GGGAGCCNNCGTAANNTNTCCNCC</td>\n      <td>146.708178</td>\n      <td>Indica</td>\n      <td>C001</td>\n      <td>G</td>\n      <td>G</td>\n      <td>G</td>\n      <td>A</td>\n      <td>G</td>\n      <td>C</td>\n      <td>...</td>\n      <td>N</td>\n      <td>N</td>\n      <td>T</td>\n      <td>N</td>\n      <td>T</td>\n      <td>C</td>\n      <td>C</td>\n      <td>N</td>\n      <td>C</td>\n      <td>C</td>\n    </tr>\n    <tr>\n      <th>4</th>\n      <td>GGGAGCCATCGTAATGTTTCCCCC</td>\n      <td>143.726220</td>\n      <td>Indica</td>\n      <td>C001</td>\n      <td>G</td>\n      <td>G</td>\n      <td>G</td>\n      <td>A</td>\n      <td>G</td>\n      <td>C</td>\n      <td>...</td>\n      <td>T</td>\n      <td>G</td>\n      <td>T</td>\n      <td>T</td>\n      <td>T</td>\n      <td>C</td>\n      <td>C</td>\n      <td>C</td>\n      <td>C</td>\n      <td>C</td>\n    </tr>\n    <tr>\n      <th>...</th>\n      <td>...</td>\n      <td>...</td>\n      <td>...</td>\n      <td>...</td>\n      <td>...</td>\n      <td>...</td>\n      <td>...</td>\n      <td>...</td>\n      <td>...</td>\n      <td>...</td>\n      <td>...</td>\n      <td>...</td>\n      <td>...</td>\n      <td>...</td>\n      <td>...</td>\n      <td>...</td>\n      <td>...</td>\n      <td>...</td>\n      <td>...</td>\n      <td>...</td>\n      <td>...</td>\n    </tr>\n    <tr>\n      <th>11083</th>\n      <td>NGNNNNNNNCNNAATNTNNNCCCN</td>\n      <td>148.938147</td>\n      <td>Aus</td>\n      <td>W330</td>\n      <td>N</td>\n      <td>G</td>\n      <td>N</td>\n      <td>N</td>\n      <td>N</td>\n      <td>N</td>\n      <td>...</td>\n      <td>T</td>\n      <td>N</td>\n      <td>T</td>\n      <td>N</td>\n      <td>N</td>\n      <td>N</td>\n      <td>C</td>\n      <td>C</td>\n      <td>C</td>\n      <td>N</td>\n    </tr>\n    <tr>\n      <th>11084</th>\n      <td>NNNNNCNACCGNNATGTNTCCCCC</td>\n      <td>151.300226</td>\n      <td>Aus</td>\n      <td>W330</td>\n      <td>N</td>\n      <td>N</td>\n      <td>N</td>\n      <td>N</td>\n      <td>N</td>\n      <td>C</td>\n      <td>...</td>\n      <td>T</td>\n      <td>G</td>\n      <td>T</td>\n      <td>N</td>\n      <td>T</td>\n      <td>C</td>\n      <td>C</td>\n      <td>C</td>\n      <td>C</td>\n      <td>C</td>\n    </tr>\n    <tr>\n      <th>11085</th>\n      <td>NNNGNNNNCCNNANTNNCTNNNNC</td>\n      <td>149.778012</td>\n      <td>Aus</td>\n      <td>W330</td>\n      <td>N</td>\n      <td>N</td>\n      <td>N</td>\n      <td>G</td>\n      <td>N</td>\n      <td>N</td>\n      <td>...</td>\n      <td>T</td>\n      <td>N</td>\n      <td>N</td>\n      <td>C</td>\n      <td>T</td>\n      <td>N</td>\n      <td>N</td>\n      <td>N</td>\n      <td>N</td>\n      <td>C</td>\n    </tr>\n    <tr>\n      <th>11086</th>\n      <td>GNNNGCCACCNNANTNNCTNCCCC</td>\n      <td>149.930487</td>\n      <td>Aus</td>\n      <td>W330</td>\n      <td>G</td>\n      <td>N</td>\n      <td>N</td>\n      <td>N</td>\n      <td>G</td>\n      <td>C</td>\n      <td>...</td>\n      <td>T</td>\n      <td>N</td>\n      <td>N</td>\n      <td>C</td>\n      <td>T</td>\n      <td>N</td>\n      <td>C</td>\n      <td>C</td>\n      <td>C</td>\n      <td>C</td>\n    </tr>\n    <tr>\n      <th>11087</th>\n      <td>NNGGNNCACCGTNANGNNNNNNNC</td>\n      <td>147.204749</td>\n      <td>Aus</td>\n      <td>W330</td>\n      <td>N</td>\n      <td>N</td>\n      <td>G</td>\n      <td>G</td>\n      <td>N</td>\n      <td>N</td>\n      <td>...</td>\n      <td>N</td>\n      <td>G</td>\n      <td>N</td>\n      <td>N</td>\n      <td>N</td>\n      <td>N</td>\n      <td>N</td>\n      <td>N</td>\n      <td>N</td>\n      <td>C</td>\n    </tr>\n  </tbody>\n</table>\n<p>11088 rows × 28 columns</p>\n</div>"
     },
     "execution_count": 5,
     "metadata": {},
     "output_type": "execute_result"
    }
   ],
   "source": [
    "new_df = pd.DataFrame(columns=['sequence','height','subpopulation','reference'])\n",
    "\n",
    "for index, data in df.iterrows():\n",
    "    seq = data['sequence']\n",
    "    ref = data['Cultivar ID']\n",
    "    height = data['Plant Height (cm)']\n",
    "    subPop = data['Subpopulation']\n",
    "    new_df = pd.concat([new_df, pd.DataFrame([[seq, height, subPop, ref]], columns=new_df.columns)], ignore_index=True)\n",
    "    for i in range(20):\n",
    "        new_sequence = replace_characters(seq)\n",
    "        new_height = add_or_subtract_value(height)\n",
    "        l=[new_sequence, new_height, subPop, ref]\n",
    "        new_df = pd.concat([new_df, pd.DataFrame([l], columns=new_df.columns)], ignore_index=True)\n",
    "\n",
    "\n",
    "add_character_columns(new_df, 'sequence')\n",
    "\n",
    "\n",
    "new_df"
   ],
   "metadata": {
    "collapsed": false,
    "ExecuteTime": {
     "end_time": "2023-07-08T06:41:48.925085Z",
     "start_time": "2023-07-08T06:41:45.929633Z"
    }
   }
  },
  {
   "cell_type": "code",
   "execution_count": 66,
   "outputs": [],
   "source": [
    "new_df.to_csv(\"synthesised.csv\", index=False)"
   ],
   "metadata": {
    "collapsed": false,
    "ExecuteTime": {
     "end_time": "2023-07-02T14:34:15.535032Z",
     "start_time": "2023-07-02T14:34:15.489448Z"
    }
   }
  },
  {
   "cell_type": "code",
   "execution_count": 6,
   "outputs": [
    {
     "data": {
      "text/plain": "array(['Indica', 'VI/Aromatic', 'Japonica', 'Aus', 'Intermediate'],\n      dtype=object)"
     },
     "execution_count": 6,
     "metadata": {},
     "output_type": "execute_result"
    }
   ],
   "source": [
    "new_df['subpopulation'].unique()"
   ],
   "metadata": {
    "collapsed": false,
    "ExecuteTime": {
     "end_time": "2023-07-08T06:41:50.352889Z",
     "start_time": "2023-07-08T06:41:50.347886Z"
    }
   }
  },
  {
   "cell_type": "code",
   "execution_count": 7,
   "outputs": [
    {
     "data": {
      "text/plain": "                       sequence      height  subpopulation reference  \\\n0      GGGAGCCATCGTAATGTTTCCCCC  144.130000              1      C001   \n1      GGGAGNNNNNGNNATGTTNNCCNN  144.913524              1      C001   \n2      GNGNGCNATCGTNATNTTNCCCNN  142.877425              1      C001   \n3      GGGAGCCNNCGTAANNTNTCCNCC  146.708178              1      C001   \n4      GGGAGCCATCGTAATGTTTCCCCC  143.726220              1      C001   \n...                         ...         ...            ...       ...   \n11083  NGNNNNNNNCNNAATNTNNNCCCN  148.938147              0      W330   \n11084  NNNNNCNACCGNNATGTNTCCCCC  151.300226              0      W330   \n11085  NNNGNNNNCCNNANTNNCTNNNNC  149.778012              0      W330   \n11086  GNNNGCCACCNNANTNNCTNCCCC  149.930487              0      W330   \n11087  NNGGNNCACCGTNANGNNNNNNNC  147.204749              0      W330   \n\n      Character_1 Character_2 Character_3 Character_4 Character_5 Character_6  \\\n0               G           G           G           A           G           C   \n1               G           G           G           A           G           N   \n2               G           N           G           N           G           C   \n3               G           G           G           A           G           C   \n4               G           G           G           A           G           C   \n...           ...         ...         ...         ...         ...         ...   \n11083           N           G           N           N           N           N   \n11084           N           N           N           N           N           C   \n11085           N           N           N           G           N           N   \n11086           G           N           N           N           G           C   \n11087           N           N           G           G           N           N   \n\n       ... Character_15 Character_16 Character_17 Character_18 Character_19  \\\n0      ...            T            G            T            T            T   \n1      ...            T            G            T            T            N   \n2      ...            T            N            T            T            N   \n3      ...            N            N            T            N            T   \n4      ...            T            G            T            T            T   \n...    ...          ...          ...          ...          ...          ...   \n11083  ...            T            N            T            N            N   \n11084  ...            T            G            T            N            T   \n11085  ...            T            N            N            C            T   \n11086  ...            T            N            N            C            T   \n11087  ...            N            G            N            N            N   \n\n      Character_20 Character_21 Character_22 Character_23 Character_24  \n0                C            C            C            C            C  \n1                N            C            C            N            N  \n2                C            C            C            N            N  \n3                C            C            N            C            C  \n4                C            C            C            C            C  \n...            ...          ...          ...          ...          ...  \n11083            N            C            C            C            N  \n11084            C            C            C            C            C  \n11085            N            N            N            N            C  \n11086            N            C            C            C            C  \n11087            N            N            N            N            C  \n\n[11088 rows x 28 columns]",
      "text/html": "<div>\n<style scoped>\n    .dataframe tbody tr th:only-of-type {\n        vertical-align: middle;\n    }\n\n    .dataframe tbody tr th {\n        vertical-align: top;\n    }\n\n    .dataframe thead th {\n        text-align: right;\n    }\n</style>\n<table border=\"1\" class=\"dataframe\">\n  <thead>\n    <tr style=\"text-align: right;\">\n      <th></th>\n      <th>sequence</th>\n      <th>height</th>\n      <th>subpopulation</th>\n      <th>reference</th>\n      <th>Character_1</th>\n      <th>Character_2</th>\n      <th>Character_3</th>\n      <th>Character_4</th>\n      <th>Character_5</th>\n      <th>Character_6</th>\n      <th>...</th>\n      <th>Character_15</th>\n      <th>Character_16</th>\n      <th>Character_17</th>\n      <th>Character_18</th>\n      <th>Character_19</th>\n      <th>Character_20</th>\n      <th>Character_21</th>\n      <th>Character_22</th>\n      <th>Character_23</th>\n      <th>Character_24</th>\n    </tr>\n  </thead>\n  <tbody>\n    <tr>\n      <th>0</th>\n      <td>GGGAGCCATCGTAATGTTTCCCCC</td>\n      <td>144.130000</td>\n      <td>1</td>\n      <td>C001</td>\n      <td>G</td>\n      <td>G</td>\n      <td>G</td>\n      <td>A</td>\n      <td>G</td>\n      <td>C</td>\n      <td>...</td>\n      <td>T</td>\n      <td>G</td>\n      <td>T</td>\n      <td>T</td>\n      <td>T</td>\n      <td>C</td>\n      <td>C</td>\n      <td>C</td>\n      <td>C</td>\n      <td>C</td>\n    </tr>\n    <tr>\n      <th>1</th>\n      <td>GGGAGNNNNNGNNATGTTNNCCNN</td>\n      <td>144.913524</td>\n      <td>1</td>\n      <td>C001</td>\n      <td>G</td>\n      <td>G</td>\n      <td>G</td>\n      <td>A</td>\n      <td>G</td>\n      <td>N</td>\n      <td>...</td>\n      <td>T</td>\n      <td>G</td>\n      <td>T</td>\n      <td>T</td>\n      <td>N</td>\n      <td>N</td>\n      <td>C</td>\n      <td>C</td>\n      <td>N</td>\n      <td>N</td>\n    </tr>\n    <tr>\n      <th>2</th>\n      <td>GNGNGCNATCGTNATNTTNCCCNN</td>\n      <td>142.877425</td>\n      <td>1</td>\n      <td>C001</td>\n      <td>G</td>\n      <td>N</td>\n      <td>G</td>\n      <td>N</td>\n      <td>G</td>\n      <td>C</td>\n      <td>...</td>\n      <td>T</td>\n      <td>N</td>\n      <td>T</td>\n      <td>T</td>\n      <td>N</td>\n      <td>C</td>\n      <td>C</td>\n      <td>C</td>\n      <td>N</td>\n      <td>N</td>\n    </tr>\n    <tr>\n      <th>3</th>\n      <td>GGGAGCCNNCGTAANNTNTCCNCC</td>\n      <td>146.708178</td>\n      <td>1</td>\n      <td>C001</td>\n      <td>G</td>\n      <td>G</td>\n      <td>G</td>\n      <td>A</td>\n      <td>G</td>\n      <td>C</td>\n      <td>...</td>\n      <td>N</td>\n      <td>N</td>\n      <td>T</td>\n      <td>N</td>\n      <td>T</td>\n      <td>C</td>\n      <td>C</td>\n      <td>N</td>\n      <td>C</td>\n      <td>C</td>\n    </tr>\n    <tr>\n      <th>4</th>\n      <td>GGGAGCCATCGTAATGTTTCCCCC</td>\n      <td>143.726220</td>\n      <td>1</td>\n      <td>C001</td>\n      <td>G</td>\n      <td>G</td>\n      <td>G</td>\n      <td>A</td>\n      <td>G</td>\n      <td>C</td>\n      <td>...</td>\n      <td>T</td>\n      <td>G</td>\n      <td>T</td>\n      <td>T</td>\n      <td>T</td>\n      <td>C</td>\n      <td>C</td>\n      <td>C</td>\n      <td>C</td>\n      <td>C</td>\n    </tr>\n    <tr>\n      <th>...</th>\n      <td>...</td>\n      <td>...</td>\n      <td>...</td>\n      <td>...</td>\n      <td>...</td>\n      <td>...</td>\n      <td>...</td>\n      <td>...</td>\n      <td>...</td>\n      <td>...</td>\n      <td>...</td>\n      <td>...</td>\n      <td>...</td>\n      <td>...</td>\n      <td>...</td>\n      <td>...</td>\n      <td>...</td>\n      <td>...</td>\n      <td>...</td>\n      <td>...</td>\n      <td>...</td>\n    </tr>\n    <tr>\n      <th>11083</th>\n      <td>NGNNNNNNNCNNAATNTNNNCCCN</td>\n      <td>148.938147</td>\n      <td>0</td>\n      <td>W330</td>\n      <td>N</td>\n      <td>G</td>\n      <td>N</td>\n      <td>N</td>\n      <td>N</td>\n      <td>N</td>\n      <td>...</td>\n      <td>T</td>\n      <td>N</td>\n      <td>T</td>\n      <td>N</td>\n      <td>N</td>\n      <td>N</td>\n      <td>C</td>\n      <td>C</td>\n      <td>C</td>\n      <td>N</td>\n    </tr>\n    <tr>\n      <th>11084</th>\n      <td>NNNNNCNACCGNNATGTNTCCCCC</td>\n      <td>151.300226</td>\n      <td>0</td>\n      <td>W330</td>\n      <td>N</td>\n      <td>N</td>\n      <td>N</td>\n      <td>N</td>\n      <td>N</td>\n      <td>C</td>\n      <td>...</td>\n      <td>T</td>\n      <td>G</td>\n      <td>T</td>\n      <td>N</td>\n      <td>T</td>\n      <td>C</td>\n      <td>C</td>\n      <td>C</td>\n      <td>C</td>\n      <td>C</td>\n    </tr>\n    <tr>\n      <th>11085</th>\n      <td>NNNGNNNNCCNNANTNNCTNNNNC</td>\n      <td>149.778012</td>\n      <td>0</td>\n      <td>W330</td>\n      <td>N</td>\n      <td>N</td>\n      <td>N</td>\n      <td>G</td>\n      <td>N</td>\n      <td>N</td>\n      <td>...</td>\n      <td>T</td>\n      <td>N</td>\n      <td>N</td>\n      <td>C</td>\n      <td>T</td>\n      <td>N</td>\n      <td>N</td>\n      <td>N</td>\n      <td>N</td>\n      <td>C</td>\n    </tr>\n    <tr>\n      <th>11086</th>\n      <td>GNNNGCCACCNNANTNNCTNCCCC</td>\n      <td>149.930487</td>\n      <td>0</td>\n      <td>W330</td>\n      <td>G</td>\n      <td>N</td>\n      <td>N</td>\n      <td>N</td>\n      <td>G</td>\n      <td>C</td>\n      <td>...</td>\n      <td>T</td>\n      <td>N</td>\n      <td>N</td>\n      <td>C</td>\n      <td>T</td>\n      <td>N</td>\n      <td>C</td>\n      <td>C</td>\n      <td>C</td>\n      <td>C</td>\n    </tr>\n    <tr>\n      <th>11087</th>\n      <td>NNGGNNCACCGTNANGNNNNNNNC</td>\n      <td>147.204749</td>\n      <td>0</td>\n      <td>W330</td>\n      <td>N</td>\n      <td>N</td>\n      <td>G</td>\n      <td>G</td>\n      <td>N</td>\n      <td>N</td>\n      <td>...</td>\n      <td>N</td>\n      <td>G</td>\n      <td>N</td>\n      <td>N</td>\n      <td>N</td>\n      <td>N</td>\n      <td>N</td>\n      <td>N</td>\n      <td>N</td>\n      <td>C</td>\n    </tr>\n  </tbody>\n</table>\n<p>11088 rows × 28 columns</p>\n</div>"
     },
     "execution_count": 7,
     "metadata": {},
     "output_type": "execute_result"
    }
   ],
   "source": [
    "from sklearn.preprocessing import LabelEncoder\n",
    "encoder = LabelEncoder()\n",
    "new_df['subpopulation'] = encoder.fit_transform(new_df['subpopulation'])\n",
    "new_df"
   ],
   "metadata": {
    "collapsed": false,
    "ExecuteTime": {
     "end_time": "2023-07-08T06:41:53.725256Z",
     "start_time": "2023-07-08T06:41:53.203186Z"
    }
   }
  },
  {
   "cell_type": "code",
   "execution_count": 8,
   "outputs": [
    {
     "data": {
      "text/plain": "array(['Aus', 'Indica', 'Intermediate', 'Japonica', 'VI/Aromatic'],\n      dtype=object)"
     },
     "execution_count": 8,
     "metadata": {},
     "output_type": "execute_result"
    }
   ],
   "source": [
    "encoder.classes_"
   ],
   "metadata": {
    "collapsed": false,
    "ExecuteTime": {
     "end_time": "2023-07-08T06:42:04.620724Z",
     "start_time": "2023-07-08T06:42:04.611980Z"
    }
   }
  },
  {
   "cell_type": "code",
   "execution_count": 69,
   "outputs": [
    {
     "data": {
      "text/plain": "       Character_1_A  Character_1_T  Character_1_C  Character_1_G  \\\n0                  0              0              0              1   \n1                  0              0              0              0   \n2                  0              0              0              1   \n3                  0              0              0              1   \n4                  0              0              0              1   \n...              ...            ...            ...            ...   \n11083              0              0              0              1   \n11084              0              0              0              0   \n11085              0              0              0              1   \n11086              0              0              0              1   \n11087              0              0              0              1   \n\n       Character_2_A  Character_2_T  Character_2_C  Character_2_G  \\\n0                  0              0              0              1   \n1                  0              0              0              0   \n2                  0              0              0              1   \n3                  0              0              0              1   \n4                  0              0              0              1   \n...              ...            ...            ...            ...   \n11083              0              0              0              1   \n11084              0              0              0              1   \n11085              0              0              0              1   \n11086              0              0              0              1   \n11087              0              0              0              1   \n\n       Character_3_A  Character_3_T  ...  Character_22_C  Character_22_G  \\\n0                  0              0  ...               1               0   \n1                  0              0  ...               1               0   \n2                  0              0  ...               1               0   \n3                  0              0  ...               1               0   \n4                  0              0  ...               1               0   \n...              ...            ...  ...             ...             ...   \n11083              0              0  ...               0               0   \n11084              0              0  ...               1               0   \n11085              0              0  ...               1               0   \n11086              0              0  ...               0               0   \n11087              0              0  ...               0               0   \n\n       Character_23_A  Character_23_T  Character_23_C  Character_23_G  \\\n0                   0               0               1               0   \n1                   0               0               0               0   \n2                   0               0               1               0   \n3                   0               0               1               0   \n4                   0               0               1               0   \n...               ...             ...             ...             ...   \n11083               0               0               0               0   \n11084               0               0               0               0   \n11085               0               0               1               0   \n11086               0               0               1               0   \n11087               0               0               1               0   \n\n       Character_24_A  Character_24_T  Character_24_C  Character_24_G  \n0                   0               0               1               0  \n1                   0               0               1               0  \n2                   0               0               1               0  \n3                   0               0               1               0  \n4                   0               0               0               0  \n...               ...             ...             ...             ...  \n11083               0               0               0               0  \n11084               0               0               0               0  \n11085               0               0               1               0  \n11086               0               0               1               0  \n11087               0               0               1               0  \n\n[11088 rows x 96 columns]",
      "text/html": "<div>\n<style scoped>\n    .dataframe tbody tr th:only-of-type {\n        vertical-align: middle;\n    }\n\n    .dataframe tbody tr th {\n        vertical-align: top;\n    }\n\n    .dataframe thead th {\n        text-align: right;\n    }\n</style>\n<table border=\"1\" class=\"dataframe\">\n  <thead>\n    <tr style=\"text-align: right;\">\n      <th></th>\n      <th>Character_1_A</th>\n      <th>Character_1_T</th>\n      <th>Character_1_C</th>\n      <th>Character_1_G</th>\n      <th>Character_2_A</th>\n      <th>Character_2_T</th>\n      <th>Character_2_C</th>\n      <th>Character_2_G</th>\n      <th>Character_3_A</th>\n      <th>Character_3_T</th>\n      <th>...</th>\n      <th>Character_22_C</th>\n      <th>Character_22_G</th>\n      <th>Character_23_A</th>\n      <th>Character_23_T</th>\n      <th>Character_23_C</th>\n      <th>Character_23_G</th>\n      <th>Character_24_A</th>\n      <th>Character_24_T</th>\n      <th>Character_24_C</th>\n      <th>Character_24_G</th>\n    </tr>\n  </thead>\n  <tbody>\n    <tr>\n      <th>0</th>\n      <td>0</td>\n      <td>0</td>\n      <td>0</td>\n      <td>1</td>\n      <td>0</td>\n      <td>0</td>\n      <td>0</td>\n      <td>1</td>\n      <td>0</td>\n      <td>0</td>\n      <td>...</td>\n      <td>1</td>\n      <td>0</td>\n      <td>0</td>\n      <td>0</td>\n      <td>1</td>\n      <td>0</td>\n      <td>0</td>\n      <td>0</td>\n      <td>1</td>\n      <td>0</td>\n    </tr>\n    <tr>\n      <th>1</th>\n      <td>0</td>\n      <td>0</td>\n      <td>0</td>\n      <td>0</td>\n      <td>0</td>\n      <td>0</td>\n      <td>0</td>\n      <td>0</td>\n      <td>0</td>\n      <td>0</td>\n      <td>...</td>\n      <td>1</td>\n      <td>0</td>\n      <td>0</td>\n      <td>0</td>\n      <td>0</td>\n      <td>0</td>\n      <td>0</td>\n      <td>0</td>\n      <td>1</td>\n      <td>0</td>\n    </tr>\n    <tr>\n      <th>2</th>\n      <td>0</td>\n      <td>0</td>\n      <td>0</td>\n      <td>1</td>\n      <td>0</td>\n      <td>0</td>\n      <td>0</td>\n      <td>1</td>\n      <td>0</td>\n      <td>0</td>\n      <td>...</td>\n      <td>1</td>\n      <td>0</td>\n      <td>0</td>\n      <td>0</td>\n      <td>1</td>\n      <td>0</td>\n      <td>0</td>\n      <td>0</td>\n      <td>1</td>\n      <td>0</td>\n    </tr>\n    <tr>\n      <th>3</th>\n      <td>0</td>\n      <td>0</td>\n      <td>0</td>\n      <td>1</td>\n      <td>0</td>\n      <td>0</td>\n      <td>0</td>\n      <td>1</td>\n      <td>0</td>\n      <td>0</td>\n      <td>...</td>\n      <td>1</td>\n      <td>0</td>\n      <td>0</td>\n      <td>0</td>\n      <td>1</td>\n      <td>0</td>\n      <td>0</td>\n      <td>0</td>\n      <td>1</td>\n      <td>0</td>\n    </tr>\n    <tr>\n      <th>4</th>\n      <td>0</td>\n      <td>0</td>\n      <td>0</td>\n      <td>1</td>\n      <td>0</td>\n      <td>0</td>\n      <td>0</td>\n      <td>1</td>\n      <td>0</td>\n      <td>0</td>\n      <td>...</td>\n      <td>1</td>\n      <td>0</td>\n      <td>0</td>\n      <td>0</td>\n      <td>1</td>\n      <td>0</td>\n      <td>0</td>\n      <td>0</td>\n      <td>0</td>\n      <td>0</td>\n    </tr>\n    <tr>\n      <th>...</th>\n      <td>...</td>\n      <td>...</td>\n      <td>...</td>\n      <td>...</td>\n      <td>...</td>\n      <td>...</td>\n      <td>...</td>\n      <td>...</td>\n      <td>...</td>\n      <td>...</td>\n      <td>...</td>\n      <td>...</td>\n      <td>...</td>\n      <td>...</td>\n      <td>...</td>\n      <td>...</td>\n      <td>...</td>\n      <td>...</td>\n      <td>...</td>\n      <td>...</td>\n      <td>...</td>\n    </tr>\n    <tr>\n      <th>11083</th>\n      <td>0</td>\n      <td>0</td>\n      <td>0</td>\n      <td>1</td>\n      <td>0</td>\n      <td>0</td>\n      <td>0</td>\n      <td>1</td>\n      <td>0</td>\n      <td>0</td>\n      <td>...</td>\n      <td>0</td>\n      <td>0</td>\n      <td>0</td>\n      <td>0</td>\n      <td>0</td>\n      <td>0</td>\n      <td>0</td>\n      <td>0</td>\n      <td>0</td>\n      <td>0</td>\n    </tr>\n    <tr>\n      <th>11084</th>\n      <td>0</td>\n      <td>0</td>\n      <td>0</td>\n      <td>0</td>\n      <td>0</td>\n      <td>0</td>\n      <td>0</td>\n      <td>1</td>\n      <td>0</td>\n      <td>0</td>\n      <td>...</td>\n      <td>1</td>\n      <td>0</td>\n      <td>0</td>\n      <td>0</td>\n      <td>0</td>\n      <td>0</td>\n      <td>0</td>\n      <td>0</td>\n      <td>0</td>\n      <td>0</td>\n    </tr>\n    <tr>\n      <th>11085</th>\n      <td>0</td>\n      <td>0</td>\n      <td>0</td>\n      <td>1</td>\n      <td>0</td>\n      <td>0</td>\n      <td>0</td>\n      <td>1</td>\n      <td>0</td>\n      <td>0</td>\n      <td>...</td>\n      <td>1</td>\n      <td>0</td>\n      <td>0</td>\n      <td>0</td>\n      <td>1</td>\n      <td>0</td>\n      <td>0</td>\n      <td>0</td>\n      <td>1</td>\n      <td>0</td>\n    </tr>\n    <tr>\n      <th>11086</th>\n      <td>0</td>\n      <td>0</td>\n      <td>0</td>\n      <td>1</td>\n      <td>0</td>\n      <td>0</td>\n      <td>0</td>\n      <td>1</td>\n      <td>0</td>\n      <td>0</td>\n      <td>...</td>\n      <td>0</td>\n      <td>0</td>\n      <td>0</td>\n      <td>0</td>\n      <td>1</td>\n      <td>0</td>\n      <td>0</td>\n      <td>0</td>\n      <td>1</td>\n      <td>0</td>\n    </tr>\n    <tr>\n      <th>11087</th>\n      <td>0</td>\n      <td>0</td>\n      <td>0</td>\n      <td>1</td>\n      <td>0</td>\n      <td>0</td>\n      <td>0</td>\n      <td>1</td>\n      <td>0</td>\n      <td>0</td>\n      <td>...</td>\n      <td>0</td>\n      <td>0</td>\n      <td>0</td>\n      <td>0</td>\n      <td>1</td>\n      <td>0</td>\n      <td>0</td>\n      <td>0</td>\n      <td>1</td>\n      <td>0</td>\n    </tr>\n  </tbody>\n</table>\n<p>11088 rows × 96 columns</p>\n</div>"
     },
     "execution_count": 69,
     "metadata": {},
     "output_type": "execute_result"
    }
   ],
   "source": [
    "x_df = new_df.iloc[:, 4:]\n",
    "\n",
    "valid_values = ['A', 'T', 'C', 'G']\n",
    "\n",
    "# Perform one-hot encoding for each column\n",
    "ohe_columns = pd.DataFrame()\n",
    "for column in x_df.columns:\n",
    "    ohe = pd.get_dummies(x_df[column])\n",
    "    missing_values = list(set(valid_values) - set(ohe.columns))\n",
    "    for missing_value in missing_values:\n",
    "        ohe[missing_value] = 0\n",
    "    ohe = ohe.reindex(columns=valid_values, fill_value=0)\n",
    "    ohe = ohe.add_prefix(column + '_')\n",
    "    ohe_columns = pd.concat([ohe_columns, ohe], axis=1)\n",
    "\n",
    "ohe_columns = ohe_columns.astype(int)\n",
    "ohe_columns"
   ],
   "metadata": {
    "collapsed": false,
    "ExecuteTime": {
     "end_time": "2023-07-02T14:34:17.638229Z",
     "start_time": "2023-07-02T14:34:17.585872Z"
    }
   }
  },
  {
   "cell_type": "code",
   "execution_count": 70,
   "outputs": [
    {
     "data": {
      "text/plain": "       subpopulation      height\n0                  1  144.130000\n1                  1  145.510167\n2                  1  144.273233\n3                  1  146.197064\n4                  1  144.162115\n...              ...         ...\n11083              0  152.555780\n11084              0  148.020471\n11085              0  147.105034\n11086              0  151.982479\n11087              0  149.705067\n\n[11088 rows x 2 columns]",
      "text/html": "<div>\n<style scoped>\n    .dataframe tbody tr th:only-of-type {\n        vertical-align: middle;\n    }\n\n    .dataframe tbody tr th {\n        vertical-align: top;\n    }\n\n    .dataframe thead th {\n        text-align: right;\n    }\n</style>\n<table border=\"1\" class=\"dataframe\">\n  <thead>\n    <tr style=\"text-align: right;\">\n      <th></th>\n      <th>subpopulation</th>\n      <th>height</th>\n    </tr>\n  </thead>\n  <tbody>\n    <tr>\n      <th>0</th>\n      <td>1</td>\n      <td>144.130000</td>\n    </tr>\n    <tr>\n      <th>1</th>\n      <td>1</td>\n      <td>145.510167</td>\n    </tr>\n    <tr>\n      <th>2</th>\n      <td>1</td>\n      <td>144.273233</td>\n    </tr>\n    <tr>\n      <th>3</th>\n      <td>1</td>\n      <td>146.197064</td>\n    </tr>\n    <tr>\n      <th>4</th>\n      <td>1</td>\n      <td>144.162115</td>\n    </tr>\n    <tr>\n      <th>...</th>\n      <td>...</td>\n      <td>...</td>\n    </tr>\n    <tr>\n      <th>11083</th>\n      <td>0</td>\n      <td>152.555780</td>\n    </tr>\n    <tr>\n      <th>11084</th>\n      <td>0</td>\n      <td>148.020471</td>\n    </tr>\n    <tr>\n      <th>11085</th>\n      <td>0</td>\n      <td>147.105034</td>\n    </tr>\n    <tr>\n      <th>11086</th>\n      <td>0</td>\n      <td>151.982479</td>\n    </tr>\n    <tr>\n      <th>11087</th>\n      <td>0</td>\n      <td>149.705067</td>\n    </tr>\n  </tbody>\n</table>\n<p>11088 rows × 2 columns</p>\n</div>"
     },
     "execution_count": 70,
     "metadata": {},
     "output_type": "execute_result"
    }
   ],
   "source": [
    "next_df = new_df.iloc[:, [2, 1]]\n",
    "next_df"
   ],
   "metadata": {
    "collapsed": false,
    "ExecuteTime": {
     "end_time": "2023-07-02T14:34:18.187395Z",
     "start_time": "2023-07-02T14:34:18.184079Z"
    }
   }
  },
  {
   "cell_type": "code",
   "execution_count": 71,
   "outputs": [
    {
     "data": {
      "text/plain": "       Character_1_A  Character_1_T  Character_1_C  Character_1_G  \\\n0                  0              0              0              1   \n1                  0              0              0              0   \n2                  0              0              0              1   \n3                  0              0              0              1   \n4                  0              0              0              1   \n...              ...            ...            ...            ...   \n11083              0              0              0              1   \n11084              0              0              0              0   \n11085              0              0              0              1   \n11086              0              0              0              1   \n11087              0              0              0              1   \n\n       Character_2_A  Character_2_T  Character_2_C  Character_2_G  \\\n0                  0              0              0              1   \n1                  0              0              0              0   \n2                  0              0              0              1   \n3                  0              0              0              1   \n4                  0              0              0              1   \n...              ...            ...            ...            ...   \n11083              0              0              0              1   \n11084              0              0              0              1   \n11085              0              0              0              1   \n11086              0              0              0              1   \n11087              0              0              0              1   \n\n       Character_3_A  Character_3_T  ...  Character_23_A  Character_23_T  \\\n0                  0              0  ...               0               0   \n1                  0              0  ...               0               0   \n2                  0              0  ...               0               0   \n3                  0              0  ...               0               0   \n4                  0              0  ...               0               0   \n...              ...            ...  ...             ...             ...   \n11083              0              0  ...               0               0   \n11084              0              0  ...               0               0   \n11085              0              0  ...               0               0   \n11086              0              0  ...               0               0   \n11087              0              0  ...               0               0   \n\n       Character_23_C  Character_23_G  Character_24_A  Character_24_T  \\\n0                   1               0               0               0   \n1                   0               0               0               0   \n2                   1               0               0               0   \n3                   1               0               0               0   \n4                   1               0               0               0   \n...               ...             ...             ...             ...   \n11083               0               0               0               0   \n11084               0               0               0               0   \n11085               1               0               0               0   \n11086               1               0               0               0   \n11087               1               0               0               0   \n\n       Character_24_C  Character_24_G  subpopulation      height  \n0                   1               0              1  144.130000  \n1                   1               0              1  145.510167  \n2                   1               0              1  144.273233  \n3                   1               0              1  146.197064  \n4                   0               0              1  144.162115  \n...               ...             ...            ...         ...  \n11083               0               0              0  152.555780  \n11084               0               0              0  148.020471  \n11085               1               0              0  147.105034  \n11086               1               0              0  151.982479  \n11087               1               0              0  149.705067  \n\n[11088 rows x 98 columns]",
      "text/html": "<div>\n<style scoped>\n    .dataframe tbody tr th:only-of-type {\n        vertical-align: middle;\n    }\n\n    .dataframe tbody tr th {\n        vertical-align: top;\n    }\n\n    .dataframe thead th {\n        text-align: right;\n    }\n</style>\n<table border=\"1\" class=\"dataframe\">\n  <thead>\n    <tr style=\"text-align: right;\">\n      <th></th>\n      <th>Character_1_A</th>\n      <th>Character_1_T</th>\n      <th>Character_1_C</th>\n      <th>Character_1_G</th>\n      <th>Character_2_A</th>\n      <th>Character_2_T</th>\n      <th>Character_2_C</th>\n      <th>Character_2_G</th>\n      <th>Character_3_A</th>\n      <th>Character_3_T</th>\n      <th>...</th>\n      <th>Character_23_A</th>\n      <th>Character_23_T</th>\n      <th>Character_23_C</th>\n      <th>Character_23_G</th>\n      <th>Character_24_A</th>\n      <th>Character_24_T</th>\n      <th>Character_24_C</th>\n      <th>Character_24_G</th>\n      <th>subpopulation</th>\n      <th>height</th>\n    </tr>\n  </thead>\n  <tbody>\n    <tr>\n      <th>0</th>\n      <td>0</td>\n      <td>0</td>\n      <td>0</td>\n      <td>1</td>\n      <td>0</td>\n      <td>0</td>\n      <td>0</td>\n      <td>1</td>\n      <td>0</td>\n      <td>0</td>\n      <td>...</td>\n      <td>0</td>\n      <td>0</td>\n      <td>1</td>\n      <td>0</td>\n      <td>0</td>\n      <td>0</td>\n      <td>1</td>\n      <td>0</td>\n      <td>1</td>\n      <td>144.130000</td>\n    </tr>\n    <tr>\n      <th>1</th>\n      <td>0</td>\n      <td>0</td>\n      <td>0</td>\n      <td>0</td>\n      <td>0</td>\n      <td>0</td>\n      <td>0</td>\n      <td>0</td>\n      <td>0</td>\n      <td>0</td>\n      <td>...</td>\n      <td>0</td>\n      <td>0</td>\n      <td>0</td>\n      <td>0</td>\n      <td>0</td>\n      <td>0</td>\n      <td>1</td>\n      <td>0</td>\n      <td>1</td>\n      <td>145.510167</td>\n    </tr>\n    <tr>\n      <th>2</th>\n      <td>0</td>\n      <td>0</td>\n      <td>0</td>\n      <td>1</td>\n      <td>0</td>\n      <td>0</td>\n      <td>0</td>\n      <td>1</td>\n      <td>0</td>\n      <td>0</td>\n      <td>...</td>\n      <td>0</td>\n      <td>0</td>\n      <td>1</td>\n      <td>0</td>\n      <td>0</td>\n      <td>0</td>\n      <td>1</td>\n      <td>0</td>\n      <td>1</td>\n      <td>144.273233</td>\n    </tr>\n    <tr>\n      <th>3</th>\n      <td>0</td>\n      <td>0</td>\n      <td>0</td>\n      <td>1</td>\n      <td>0</td>\n      <td>0</td>\n      <td>0</td>\n      <td>1</td>\n      <td>0</td>\n      <td>0</td>\n      <td>...</td>\n      <td>0</td>\n      <td>0</td>\n      <td>1</td>\n      <td>0</td>\n      <td>0</td>\n      <td>0</td>\n      <td>1</td>\n      <td>0</td>\n      <td>1</td>\n      <td>146.197064</td>\n    </tr>\n    <tr>\n      <th>4</th>\n      <td>0</td>\n      <td>0</td>\n      <td>0</td>\n      <td>1</td>\n      <td>0</td>\n      <td>0</td>\n      <td>0</td>\n      <td>1</td>\n      <td>0</td>\n      <td>0</td>\n      <td>...</td>\n      <td>0</td>\n      <td>0</td>\n      <td>1</td>\n      <td>0</td>\n      <td>0</td>\n      <td>0</td>\n      <td>0</td>\n      <td>0</td>\n      <td>1</td>\n      <td>144.162115</td>\n    </tr>\n    <tr>\n      <th>...</th>\n      <td>...</td>\n      <td>...</td>\n      <td>...</td>\n      <td>...</td>\n      <td>...</td>\n      <td>...</td>\n      <td>...</td>\n      <td>...</td>\n      <td>...</td>\n      <td>...</td>\n      <td>...</td>\n      <td>...</td>\n      <td>...</td>\n      <td>...</td>\n      <td>...</td>\n      <td>...</td>\n      <td>...</td>\n      <td>...</td>\n      <td>...</td>\n      <td>...</td>\n      <td>...</td>\n    </tr>\n    <tr>\n      <th>11083</th>\n      <td>0</td>\n      <td>0</td>\n      <td>0</td>\n      <td>1</td>\n      <td>0</td>\n      <td>0</td>\n      <td>0</td>\n      <td>1</td>\n      <td>0</td>\n      <td>0</td>\n      <td>...</td>\n      <td>0</td>\n      <td>0</td>\n      <td>0</td>\n      <td>0</td>\n      <td>0</td>\n      <td>0</td>\n      <td>0</td>\n      <td>0</td>\n      <td>0</td>\n      <td>152.555780</td>\n    </tr>\n    <tr>\n      <th>11084</th>\n      <td>0</td>\n      <td>0</td>\n      <td>0</td>\n      <td>0</td>\n      <td>0</td>\n      <td>0</td>\n      <td>0</td>\n      <td>1</td>\n      <td>0</td>\n      <td>0</td>\n      <td>...</td>\n      <td>0</td>\n      <td>0</td>\n      <td>0</td>\n      <td>0</td>\n      <td>0</td>\n      <td>0</td>\n      <td>0</td>\n      <td>0</td>\n      <td>0</td>\n      <td>148.020471</td>\n    </tr>\n    <tr>\n      <th>11085</th>\n      <td>0</td>\n      <td>0</td>\n      <td>0</td>\n      <td>1</td>\n      <td>0</td>\n      <td>0</td>\n      <td>0</td>\n      <td>1</td>\n      <td>0</td>\n      <td>0</td>\n      <td>...</td>\n      <td>0</td>\n      <td>0</td>\n      <td>1</td>\n      <td>0</td>\n      <td>0</td>\n      <td>0</td>\n      <td>1</td>\n      <td>0</td>\n      <td>0</td>\n      <td>147.105034</td>\n    </tr>\n    <tr>\n      <th>11086</th>\n      <td>0</td>\n      <td>0</td>\n      <td>0</td>\n      <td>1</td>\n      <td>0</td>\n      <td>0</td>\n      <td>0</td>\n      <td>1</td>\n      <td>0</td>\n      <td>0</td>\n      <td>...</td>\n      <td>0</td>\n      <td>0</td>\n      <td>1</td>\n      <td>0</td>\n      <td>0</td>\n      <td>0</td>\n      <td>1</td>\n      <td>0</td>\n      <td>0</td>\n      <td>151.982479</td>\n    </tr>\n    <tr>\n      <th>11087</th>\n      <td>0</td>\n      <td>0</td>\n      <td>0</td>\n      <td>1</td>\n      <td>0</td>\n      <td>0</td>\n      <td>0</td>\n      <td>1</td>\n      <td>0</td>\n      <td>0</td>\n      <td>...</td>\n      <td>0</td>\n      <td>0</td>\n      <td>1</td>\n      <td>0</td>\n      <td>0</td>\n      <td>0</td>\n      <td>1</td>\n      <td>0</td>\n      <td>0</td>\n      <td>149.705067</td>\n    </tr>\n  </tbody>\n</table>\n<p>11088 rows × 98 columns</p>\n</div>"
     },
     "execution_count": 71,
     "metadata": {},
     "output_type": "execute_result"
    }
   ],
   "source": [
    "final_df = pd.concat([ohe_columns, next_df], axis=1)\n",
    "final_df"
   ],
   "metadata": {
    "collapsed": false,
    "ExecuteTime": {
     "end_time": "2023-07-02T14:34:18.786198Z",
     "start_time": "2023-07-02T14:34:18.773946Z"
    }
   }
  },
  {
   "cell_type": "code",
   "execution_count": 74,
   "outputs": [],
   "source": [
    "final_df.to_csv(\"ohe/encoded.csv\", index=False)"
   ],
   "metadata": {
    "collapsed": false,
    "ExecuteTime": {
     "end_time": "2023-07-02T14:42:19.015305Z",
     "start_time": "2023-07-02T14:42:18.913090Z"
    }
   }
  },
  {
   "cell_type": "code",
   "execution_count": null,
   "outputs": [],
   "source": [],
   "metadata": {
    "collapsed": false
   }
  }
 ],
 "metadata": {
  "kernelspec": {
   "display_name": "Python 3",
   "language": "python",
   "name": "python3"
  },
  "language_info": {
   "codemirror_mode": {
    "name": "ipython",
    "version": 2
   },
   "file_extension": ".py",
   "mimetype": "text/x-python",
   "name": "python",
   "nbconvert_exporter": "python",
   "pygments_lexer": "ipython2",
   "version": "2.7.6"
  }
 },
 "nbformat": 4,
 "nbformat_minor": 0
}
