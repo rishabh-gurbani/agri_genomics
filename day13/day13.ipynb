{
 "cells": [
  {
   "cell_type": "code",
   "execution_count": 1,
   "metadata": {
    "collapsed": true,
    "ExecuteTime": {
     "end_time": "2023-05-11T02:23:16.270059Z",
     "start_time": "2023-05-11T02:23:16.217613Z"
    }
   },
   "outputs": [
    {
     "name": "stdout",
     "output_type": "stream",
     "text": [
      "C105 CATCGTAATG\n",
      "C106 CATGGTTATG\n",
      "Score :  6\n"
     ]
    }
   ],
   "source": [
    "\n",
    "# Importing Python packages\n",
    "from enum import IntEnum\n",
    "import numpy as np\n",
    "\n",
    "# Assigning the constants for the scores\n",
    "class Score(IntEnum):\n",
    "    MATCH = 1\n",
    "    MISMATCH = -1\n",
    "    GAP = -1\n",
    "\n",
    "# Assigning the constant values for the traceback\n",
    "class Trace(IntEnum):\n",
    "    STOP = 0\n",
    "    LEFT = 1\n",
    "    UP = 2\n",
    "    DIAGONAL = 3\n",
    "\n",
    "# Reading the fasta file and keeping the formatted sequence's name and sequence\n",
    "def fasta_reader(sequence_file):\n",
    "    lines = open(sequence_file).readlines()\n",
    "    sequence_name_row = lines[0][1:]\n",
    "    sequence = lines[1]\n",
    "    return sequence_name_row.replace(\" \", \"\").strip(), sequence.strip()\n",
    "\n",
    "# Implementing the Smith Waterman local alignment\n",
    "def smith_waterman(seq1, seq2):\n",
    "    # Generating the empty matrices for storing scores and tracing\n",
    "    row = len(seq1) + 1\n",
    "    col = len(seq2) + 1\n",
    "    matrix = np.zeros(shape=(row, col), dtype=int)\n",
    "    tracing_matrix = np.zeros(shape=(row, col), dtype=int)\n",
    "\n",
    "    # Initialising the variables to find the highest scoring cell\n",
    "    max_score = -1\n",
    "    max_index = (-1, -1)\n",
    "\n",
    "    # Calculating the scores for all cells in the matrix\n",
    "    for i in range(1, row):\n",
    "        for j in range(1, col):\n",
    "            # Calculating the diagonal score (match score)\n",
    "            match_value = Score.MATCH if seq1[i - 1] == seq2[j - 1] else Score.MISMATCH\n",
    "            diagonal_score = matrix[i - 1, j - 1] + match_value\n",
    "\n",
    "            # Calculating the vertical gap score\n",
    "            vertical_score = matrix[i - 1, j] + Score.GAP\n",
    "\n",
    "            # Calculating the horizontal gap score\n",
    "            horizontal_score = matrix[i, j - 1] + Score.GAP\n",
    "\n",
    "            # Taking the highest score\n",
    "            matrix[i, j] = max(0, diagonal_score, vertical_score, horizontal_score)\n",
    "\n",
    "            # Tracking where the cell's value is coming from\n",
    "            if matrix[i, j] == 0:\n",
    "                tracing_matrix[i, j] = Trace.STOP\n",
    "\n",
    "            elif matrix[i, j] == horizontal_score:\n",
    "                tracing_matrix[i, j] = Trace.LEFT\n",
    "\n",
    "            elif matrix[i, j] == vertical_score:\n",
    "                tracing_matrix[i, j] = Trace.UP\n",
    "\n",
    "            elif matrix[i, j] == diagonal_score:\n",
    "                tracing_matrix[i, j] = Trace.DIAGONAL\n",
    "\n",
    "            # Tracking the cell with the maximum score\n",
    "            if matrix[i, j] >= max_score:\n",
    "                max_index = (i,j)\n",
    "                max_score = matrix[i, j]\n",
    "\n",
    "    # Initialising the variables for tracing\n",
    "    aligned_seq1 = \"\"\n",
    "    aligned_seq2 = \"\"\n",
    "    current_aligned_seq1 = \"\"\n",
    "    current_aligned_seq2 = \"\"\n",
    "    (max_i, max_j) = max_index\n",
    "\n",
    "    # Tracing and computing the pathway with the local alignment\n",
    "    while tracing_matrix[max_i, max_j] != Trace.STOP:\n",
    "        if tracing_matrix[max_i, max_j] == Trace.DIAGONAL:\n",
    "            current_aligned_seq1 = seq1[max_i - 1]\n",
    "            current_aligned_seq2 = seq2[max_j - 1]\n",
    "            max_i = max_i - 1\n",
    "            max_j = max_j - 1\n",
    "\n",
    "        elif tracing_matrix[max_i, max_j] == Trace.UP:\n",
    "            current_aligned_seq1 = seq1[max_i - 1]\n",
    "            current_aligned_seq2 = '-'\n",
    "            max_i = max_i - 1\n",
    "\n",
    "        elif tracing_matrix[max_i, max_j] == Trace.LEFT:\n",
    "            current_aligned_seq1 = '-'\n",
    "            current_aligned_seq2 = seq2[max_j - 1]\n",
    "            max_j = max_j - 1\n",
    "\n",
    "        aligned_seq1 = aligned_seq1 + current_aligned_seq1\n",
    "        aligned_seq2 = aligned_seq2 + current_aligned_seq2\n",
    "\n",
    "    # Reversing the order of the sequences\n",
    "    aligned_seq1 = aligned_seq1[::-1]\n",
    "    aligned_seq2 = aligned_seq2[::-1]\n",
    "\n",
    "    return aligned_seq1, aligned_seq2, max_score\n",
    "\n",
    "if __name__ == \"__main__\":\n",
    "    # Reading the two required fasta sequences\n",
    "    file_1_name, file_1 = fasta_reader(\"s1.fasta\")\n",
    "    file_2_name, file_2  = fasta_reader(\"s2.fasta\")\n",
    "\n",
    "    # Executing the Smith Waterman local alignment algorithm\n",
    "    output_1, output_2, max_score = smith_waterman(file_1, file_2)\n",
    "\n",
    "    print(file_1_name + ' ' + output_1 + '\\n' + file_2_name + ' ' + output_2)\n",
    "    print(\"Score : \", max_score)"
   ]
  },
  {
   "cell_type": "code",
   "execution_count": 19,
   "outputs": [
    {
     "name": "stdout",
     "output_type": "stream",
     "text": [
      "529\n"
     ]
    }
   ],
   "source": [
    "from Bio import SeqIO\n",
    "sequences = {}\n",
    "for record in SeqIO.parse(\"sequences_24.fasta\", \"fasta\"):\n",
    "    sequences[record.id] = str(record.seq)\n",
    "print(len(sequences))"
   ],
   "metadata": {
    "collapsed": false,
    "ExecuteTime": {
     "end_time": "2023-05-10T05:30:24.305644Z",
     "start_time": "2023-05-10T05:30:24.299359Z"
    }
   }
  },
  {
   "cell_type": "code",
   "execution_count": 23,
   "outputs": [
    {
     "data": {
      "text/plain": "24"
     },
     "execution_count": 23,
     "metadata": {},
     "output_type": "execute_result"
    }
   ],
   "source": [
    "output_1, output_2, max_score = smith_waterman(\"GGGGGCCATCGTAATGTCACCTTT\", \"GGGGGCCATCGTAATGTCACCTTT\")\n",
    "max_score"
   ],
   "metadata": {
    "collapsed": false,
    "ExecuteTime": {
     "end_time": "2023-05-10T05:38:41.642329Z",
     "start_time": "2023-05-10T05:38:41.633192Z"
    }
   }
  },
  {
   "cell_type": "code",
   "execution_count": 21,
   "outputs": [
    {
     "name": "stdout",
     "output_type": "stream",
     "text": [
      "{'C001': 5, 'C002': 4, 'C003': 6, 'C004': 4, 'C005': 4, 'C006': 6, 'C007': 6, 'C008': 5, 'C009': 6, 'C010': 6, 'C011': 6, 'C012': 6, 'C013': 4, 'C014': 5, 'C015': 4, 'C016': 4, 'C017': 6, 'C018': 6, 'C019': 6, 'C020': 4, 'C021': 4, 'C022': 6, 'C023': 6, 'C024': 4, 'C025': 6, 'C026': 6, 'C027': 5, 'C028': 6, 'C029': 6, 'C030': 6, 'C031': 6, 'C032': 4, 'C033': 5, 'C034': 6, 'C035': 6, 'C036': 5, 'C037': 6, 'C038': 6, 'C039': 4, 'C040': 4, 'C041': 5, 'C042': 6, 'C043': 6, 'C044': 6, 'C045': 5, 'C046': 6, 'C047': 5, 'C048': 6, 'C049': 6, 'C050': 6, 'C051': 5, 'C052': 5, 'C053': 6, 'C054': 6, 'C055': 6, 'C056': 4, 'C057': 6, 'C058': 4, 'C059': 4, 'C060': 4, 'C061': 6, 'C062': 6, 'C063': 4, 'C064': 6, 'C065': 6, 'C066': 4, 'C067': 5, 'C068': 6, 'C069': 6, 'C070': 6, 'C071': 3, 'C072': 5, 'C073': 4, 'C074': 3, 'C075': 5, 'C076': 4, 'C077': 4, 'C078': 4, 'C079': 3, 'C080': 5, 'C081': 4, 'C082': 4, 'C083': 3, 'C084': 4, 'C085': 4, 'C086': 6, 'C087': 6, 'C088': 4, 'C089': 4, 'C090': 6, 'C091': 5, 'C092': 4, 'C093': 5, 'C094': 5, 'C095': 4, 'C096': 4, 'C097': 5, 'C098': 4, 'C099': 4, 'C100': 4, 'C101': 3, 'C102': 6, 'C103': 4, 'C104': 5, 'C105': 6, 'C106': 3, 'C107': 5, 'C108': 5, 'C109': 5, 'C110': 5, 'C111': 5, 'C112': 6, 'C113': 6, 'C114': 4, 'C115': 5, 'C116': 6, 'C117': 5, 'C118': 5, 'C119': 5, 'C120': 4, 'C121': 4, 'C122': 4, 'C123': 6, 'C124': 4, 'C125': 5, 'C127': 5, 'C128': 4, 'C129': 4, 'C130': 5, 'C131': 5, 'C132': 6, 'C133': 3, 'C134': 3, 'C135': 4, 'C136': 4, 'C137': 5, 'C138': 4, 'C139': 4, 'C140': 5, 'C141': 4, 'C142': 5, 'C143': 5, 'C144': 3, 'C145': 4, 'C146': 6, 'C147': 5, 'C148': 6, 'C149': 4, 'C150': 6, 'C151': 6, 'C152': 6, 'C153': 5, 'C154': 6, 'C155': 4, 'C156': 4, 'C157': 4, 'C158': 4, 'C159': 4, 'C160': 6, 'C161': 4, 'C162': 5, 'C163': 6, 'C164': 6, 'C165': 6, 'C166': 6, 'C167': 6, 'C168': 6, 'C169': 6, 'C170': 6, 'C171': 5, 'C172': 4, 'C173': 4, 'C174': 6, 'C175': 5, 'C176': 5, 'C177': 6, 'C178': 6, 'C179': 4, 'C180': 4, 'C181': 6, 'C182': 5, 'C183': 4, 'C184': 4, 'C185': 4, 'C186': 4, 'C187': 4, 'C188': 6, 'C189': 4, 'C190': 4, 'C191': 5, 'C192': 5, 'C193': 4, 'C194': 5, 'C195': 6, 'C196': 4, 'C197': 6, 'C198': 4, 'C199': 4, 'C200': 4, 'C201': 4, 'C202': 4, 'C203': 4, 'W001': 4, 'W002': 4, 'W003': 5, 'W004': 4, 'W005': 5, 'W006': 5, 'W007': 4, 'W008': 5, 'W009': 5, 'W010': 6, 'W011': 6, 'W012': 6, 'W013': 6, 'W014': 4, 'W015': 4, 'W016': 6, 'W017': 5, 'W018': 6, 'W019': 6, 'W020': 4, 'W021': 4, 'W022': 5, 'W023': 5, 'W024': 5, 'W025': 4, 'W026': 4, 'W027': 6, 'W028': 5, 'W029': 4, 'W030': 6, 'W031': 4, 'W032': 4, 'W033': 4, 'W034': 4, 'W035': 4, 'W036': 4, 'W037': 5, 'W038': 4, 'W039': 4, 'W040': 6, 'W041': 6, 'W042': 4, 'W043': 6, 'W044': 6, 'W045': 6, 'W046': 6, 'W047': 4, 'W048': 4, 'W049': 5, 'W050': 4, 'W051': 6, 'W052': 6, 'W053': 5, 'W054': 5, 'W055': 4, 'W056': 6, 'W057': 5, 'W058': 6, 'W059': 6, 'W060': 6, 'W061': 6, 'W062': 6, 'W063': 6, 'W064': 6, 'W065': 5, 'W066': 5, 'W067': 4, 'W068': 6, 'W069': 4, 'W070': 4, 'W071': 6, 'W072': 4, 'W073': 5, 'W074': 5, 'W075': 4, 'W076': 4, 'W077': 4, 'W078': 4, 'W079': 4, 'W080': 6, 'W081': 4, 'W082': 5, 'W083': 6, 'W084': 4, 'W085': 5, 'W086': 6, 'W087': 5, 'W088': 6, 'W089': 5, 'W090': 4, 'W091': 4, 'W092': 4, 'W093': 5, 'W094': 4, 'W095': 4, 'W096': 4, 'W097': 5, 'W098': 5, 'W099': 4, 'W100': 5, 'W101': 5, 'W102': 5, 'W103': 4, 'W104': 4, 'W105': 6, 'W106': 4, 'W107': 4, 'W108': 5, 'W109': 6, 'W110': 4, 'W111': 5, 'W112': 5, 'W113': 5, 'W114': 5, 'W115': 4, 'W116': 6, 'W117': 6, 'W118': 5, 'W119': 5, 'W120': 5, 'W121': 4, 'W122': 4, 'W123': 5, 'W124': 4, 'W125': 5, 'W126': 4, 'W127': 5, 'W128': 5, 'W129': 4, 'W130': 6, 'W131': 4, 'W132': 5, 'W133': 5, 'W134': 5, 'W135': 4, 'W136': 4, 'W137': 4, 'W138': 6, 'W139': 6, 'W140': 4, 'W141': 4, 'W142': 4, 'W143': 3, 'W144': 5, 'W145': 4, 'W146': 6, 'W147': 5, 'W148': 5, 'W149': 6, 'W150': 6, 'W151': 6, 'W152': 6, 'W153': 6, 'W154': 5, 'W155': 4, 'W156': 5, 'W157': 6, 'W158': 6, 'W159': 6, 'W160': 6, 'W161': 6, 'W162': 6, 'W163': 6, 'W164': 6, 'W165': 6, 'W166': 6, 'W167': 6, 'W168': 6, 'W169': 6, 'W170': 6, 'W171': 4, 'W172': 5, 'W173': 4, 'W174': 6, 'W175': 6, 'W176': 6, 'W177': 6, 'W178': 6, 'W179': 6, 'W180': 6, 'W181': 5, 'W182': 6, 'W183': 6, 'W184': 6, 'W185': 6, 'W186': 6, 'W187': 6, 'W188': 5, 'W189': 6, 'W191': 4, 'W192': 4, 'W193': 6, 'W194': 5, 'W195': 6, 'W197': 6, 'W198': 5, 'W199': 5, 'W200': 6, 'W201': 6, 'W202': 6, 'W203': 5, 'W204': 6, 'W205': 6, 'W206': 5, 'W207': 4, 'W208': 5, 'W209': 6, 'W210': 4, 'W211': 6, 'W212': 5, 'W213': 6, 'W214': 4, 'W215': 4, 'W216': 6, 'W217': 6, 'W218': 6, 'W219': 4, 'W220': 4, 'W221': 6, 'W222': 6, 'W223': 4, 'W224': 6, 'W225': 5, 'W226': 5, 'W227': 6, 'W228': 6, 'W229': 6, 'W230': 6, 'W231': 6, 'W233': 6, 'W234': 6, 'W235': 4, 'W236': 6, 'W237': 6, 'W238': 6, 'W239': 5, 'W240': 4, 'W241': 5, 'W242': 6, 'W243': 6, 'W244': 6, 'W245': 5, 'W246': 5, 'W247': 4, 'W248': 6, 'W249': 6, 'W250': 6, 'W251': 5, 'W252': 4, 'W253': 5, 'W254': 5, 'W255': 4, 'W256': 6, 'W257': 5, 'W258': 4, 'W259': 6, 'W260': 4, 'W261': 4, 'W262': 6, 'W263': 6, 'W264': 6, 'W265': 6, 'W266': 5, 'W267': 6, 'W268': 6, 'W269': 5, 'W270': 5, 'W271': 6, 'W272': 4, 'W273': 4, 'W274': 5, 'W275': 5, 'W276': 6, 'W277': 4, 'W278': 4, 'W279': 4, 'W280': 4, 'W281': 6, 'W282': 5, 'W283': 6, 'W284': 4, 'W285': 5, 'W286': 4, 'W287': 4, 'W288': 4, 'W289': 6, 'W290': 4, 'W291': 5, 'W292': 5, 'W293': 6, 'W294': 5, 'W295': 6, 'W296': 4, 'W297': 4, 'W298': 5, 'W299': 5, 'W300': 5, 'W301': 6, 'W302': 6, 'W303': 5, 'W304': 4, 'W305': 6, 'W306': 3, 'W307': 6, 'W308': 6, 'W309': 6, 'W310': 6, 'W311': 6, 'W312': 6, 'W313': 4, 'W314': 5, 'W315': 6, 'W316': 6, 'W317': 6, 'W318': 6, 'W319': 4, 'W320': 4, 'W321': 5, 'W322': 6, 'W323': 5, 'W324': 5, 'W325': 5, 'W326': 5, 'W327': 5, 'W328': 4, 'W329': 4, 'W330': 4}\n"
     ]
    }
   ],
   "source": [
    "querySequence = \"AAGATCTNNNNNNAACCTTTCACC\"\n",
    "alignmentScore = dict()\n",
    "for k,v in sequences.items():\n",
    "    output_1, output_2, max_score = smith_waterman(querySequence, v)\n",
    "    alignmentScore[k] = max_score\n",
    "print(alignmentScore)"
   ],
   "metadata": {
    "collapsed": false,
    "ExecuteTime": {
     "end_time": "2023-05-10T05:30:33.249266Z",
     "start_time": "2023-05-10T05:30:33.248039Z"
    }
   }
  },
  {
   "cell_type": "code",
   "execution_count": 22,
   "outputs": [
    {
     "data": {
      "text/plain": "{'C003': 6,\n 'C006': 6,\n 'C007': 6,\n 'C009': 6,\n 'C010': 6,\n 'C011': 6,\n 'C012': 6,\n 'C017': 6,\n 'C018': 6,\n 'C019': 6,\n 'C022': 6,\n 'C023': 6,\n 'C025': 6,\n 'C026': 6,\n 'C028': 6,\n 'C029': 6,\n 'C030': 6,\n 'C031': 6,\n 'C034': 6,\n 'C035': 6,\n 'C037': 6,\n 'C038': 6,\n 'C042': 6,\n 'C043': 6,\n 'C044': 6,\n 'C046': 6,\n 'C048': 6,\n 'C049': 6,\n 'C050': 6,\n 'C053': 6,\n 'C054': 6,\n 'C055': 6,\n 'C057': 6,\n 'C061': 6,\n 'C062': 6,\n 'C064': 6,\n 'C065': 6,\n 'C068': 6,\n 'C069': 6,\n 'C070': 6,\n 'C086': 6,\n 'C087': 6,\n 'C090': 6,\n 'C102': 6,\n 'C105': 6,\n 'C112': 6,\n 'C113': 6,\n 'C116': 6,\n 'C123': 6,\n 'C132': 6,\n 'C146': 6,\n 'C148': 6,\n 'C150': 6,\n 'C151': 6,\n 'C152': 6,\n 'C154': 6,\n 'C160': 6,\n 'C163': 6,\n 'C164': 6,\n 'C165': 6,\n 'C166': 6,\n 'C167': 6,\n 'C168': 6,\n 'C169': 6,\n 'C170': 6,\n 'C174': 6,\n 'C177': 6,\n 'C178': 6,\n 'C181': 6,\n 'C188': 6,\n 'C195': 6,\n 'C197': 6,\n 'W010': 6,\n 'W011': 6,\n 'W012': 6,\n 'W013': 6,\n 'W016': 6,\n 'W018': 6,\n 'W019': 6,\n 'W027': 6,\n 'W030': 6,\n 'W040': 6,\n 'W041': 6,\n 'W043': 6,\n 'W044': 6,\n 'W045': 6,\n 'W046': 6,\n 'W051': 6,\n 'W052': 6,\n 'W056': 6,\n 'W058': 6,\n 'W059': 6,\n 'W060': 6,\n 'W061': 6,\n 'W062': 6,\n 'W063': 6,\n 'W064': 6,\n 'W068': 6,\n 'W071': 6,\n 'W080': 6,\n 'W083': 6,\n 'W086': 6,\n 'W088': 6,\n 'W105': 6,\n 'W109': 6,\n 'W116': 6,\n 'W117': 6,\n 'W130': 6,\n 'W138': 6,\n 'W139': 6,\n 'W146': 6,\n 'W149': 6,\n 'W150': 6,\n 'W151': 6,\n 'W152': 6,\n 'W153': 6,\n 'W157': 6,\n 'W158': 6,\n 'W159': 6,\n 'W160': 6,\n 'W161': 6,\n 'W162': 6,\n 'W163': 6,\n 'W164': 6,\n 'W165': 6,\n 'W166': 6,\n 'W167': 6,\n 'W168': 6,\n 'W169': 6,\n 'W170': 6,\n 'W174': 6,\n 'W175': 6,\n 'W176': 6,\n 'W177': 6,\n 'W178': 6,\n 'W179': 6,\n 'W180': 6,\n 'W182': 6,\n 'W183': 6,\n 'W184': 6,\n 'W185': 6,\n 'W186': 6,\n 'W187': 6,\n 'W189': 6,\n 'W193': 6,\n 'W195': 6,\n 'W197': 6,\n 'W200': 6,\n 'W201': 6,\n 'W202': 6,\n 'W204': 6,\n 'W205': 6,\n 'W209': 6,\n 'W211': 6,\n 'W213': 6,\n 'W216': 6,\n 'W217': 6,\n 'W218': 6,\n 'W221': 6,\n 'W222': 6,\n 'W224': 6,\n 'W227': 6,\n 'W228': 6,\n 'W229': 6,\n 'W230': 6,\n 'W231': 6,\n 'W233': 6,\n 'W234': 6,\n 'W236': 6,\n 'W237': 6,\n 'W238': 6,\n 'W242': 6,\n 'W243': 6,\n 'W244': 6,\n 'W248': 6,\n 'W249': 6,\n 'W250': 6,\n 'W256': 6,\n 'W259': 6,\n 'W262': 6,\n 'W263': 6,\n 'W264': 6,\n 'W265': 6,\n 'W267': 6,\n 'W268': 6,\n 'W271': 6,\n 'W276': 6,\n 'W281': 6,\n 'W283': 6,\n 'W289': 6,\n 'W293': 6,\n 'W295': 6,\n 'W301': 6,\n 'W302': 6,\n 'W305': 6,\n 'W307': 6,\n 'W308': 6,\n 'W309': 6,\n 'W310': 6,\n 'W311': 6,\n 'W312': 6,\n 'W315': 6,\n 'W316': 6,\n 'W317': 6,\n 'W318': 6,\n 'W322': 6,\n 'C001': 5,\n 'C008': 5,\n 'C014': 5,\n 'C027': 5,\n 'C033': 5,\n 'C036': 5,\n 'C041': 5,\n 'C045': 5,\n 'C047': 5,\n 'C051': 5,\n 'C052': 5,\n 'C067': 5,\n 'C072': 5,\n 'C075': 5,\n 'C080': 5,\n 'C091': 5,\n 'C093': 5,\n 'C094': 5,\n 'C097': 5,\n 'C104': 5,\n 'C107': 5,\n 'C108': 5,\n 'C109': 5,\n 'C110': 5,\n 'C111': 5,\n 'C115': 5,\n 'C117': 5,\n 'C118': 5,\n 'C119': 5,\n 'C125': 5,\n 'C127': 5,\n 'C130': 5,\n 'C131': 5,\n 'C137': 5,\n 'C140': 5,\n 'C142': 5,\n 'C143': 5,\n 'C147': 5,\n 'C153': 5,\n 'C162': 5,\n 'C171': 5,\n 'C175': 5,\n 'C176': 5,\n 'C182': 5,\n 'C191': 5,\n 'C192': 5,\n 'C194': 5,\n 'W003': 5,\n 'W005': 5,\n 'W006': 5,\n 'W008': 5,\n 'W009': 5,\n 'W017': 5,\n 'W022': 5,\n 'W023': 5,\n 'W024': 5,\n 'W028': 5,\n 'W037': 5,\n 'W049': 5,\n 'W053': 5,\n 'W054': 5,\n 'W057': 5,\n 'W065': 5,\n 'W066': 5,\n 'W073': 5,\n 'W074': 5,\n 'W082': 5,\n 'W085': 5,\n 'W087': 5,\n 'W089': 5,\n 'W093': 5,\n 'W097': 5,\n 'W098': 5,\n 'W100': 5,\n 'W101': 5,\n 'W102': 5,\n 'W108': 5,\n 'W111': 5,\n 'W112': 5,\n 'W113': 5,\n 'W114': 5,\n 'W118': 5,\n 'W119': 5,\n 'W120': 5,\n 'W123': 5,\n 'W125': 5,\n 'W127': 5,\n 'W128': 5,\n 'W132': 5,\n 'W133': 5,\n 'W134': 5,\n 'W144': 5,\n 'W147': 5,\n 'W148': 5,\n 'W154': 5,\n 'W156': 5,\n 'W172': 5,\n 'W181': 5,\n 'W188': 5,\n 'W194': 5,\n 'W198': 5,\n 'W199': 5,\n 'W203': 5,\n 'W206': 5,\n 'W208': 5,\n 'W212': 5,\n 'W225': 5,\n 'W226': 5,\n 'W239': 5,\n 'W241': 5,\n 'W245': 5,\n 'W246': 5,\n 'W251': 5,\n 'W253': 5,\n 'W254': 5,\n 'W257': 5,\n 'W266': 5,\n 'W269': 5,\n 'W270': 5,\n 'W274': 5,\n 'W275': 5,\n 'W282': 5,\n 'W285': 5,\n 'W291': 5,\n 'W292': 5,\n 'W294': 5,\n 'W298': 5,\n 'W299': 5,\n 'W300': 5,\n 'W303': 5,\n 'W314': 5,\n 'W321': 5,\n 'W323': 5,\n 'W324': 5,\n 'W325': 5,\n 'W326': 5,\n 'W327': 5,\n 'C002': 4,\n 'C004': 4,\n 'C005': 4,\n 'C013': 4,\n 'C015': 4,\n 'C016': 4,\n 'C020': 4,\n 'C021': 4,\n 'C024': 4,\n 'C032': 4,\n 'C039': 4,\n 'C040': 4,\n 'C056': 4,\n 'C058': 4,\n 'C059': 4,\n 'C060': 4,\n 'C063': 4,\n 'C066': 4,\n 'C073': 4,\n 'C076': 4,\n 'C077': 4,\n 'C078': 4,\n 'C081': 4,\n 'C082': 4,\n 'C084': 4,\n 'C085': 4,\n 'C088': 4,\n 'C089': 4,\n 'C092': 4,\n 'C095': 4,\n 'C096': 4,\n 'C098': 4,\n 'C099': 4,\n 'C100': 4,\n 'C103': 4,\n 'C114': 4,\n 'C120': 4,\n 'C121': 4,\n 'C122': 4,\n 'C124': 4,\n 'C128': 4,\n 'C129': 4,\n 'C135': 4,\n 'C136': 4,\n 'C138': 4,\n 'C139': 4,\n 'C141': 4,\n 'C145': 4,\n 'C149': 4,\n 'C155': 4,\n 'C156': 4,\n 'C157': 4,\n 'C158': 4,\n 'C159': 4,\n 'C161': 4,\n 'C172': 4,\n 'C173': 4,\n 'C179': 4,\n 'C180': 4,\n 'C183': 4,\n 'C184': 4,\n 'C185': 4,\n 'C186': 4,\n 'C187': 4,\n 'C189': 4,\n 'C190': 4,\n 'C193': 4,\n 'C196': 4,\n 'C198': 4,\n 'C199': 4,\n 'C200': 4,\n 'C201': 4,\n 'C202': 4,\n 'C203': 4,\n 'W001': 4,\n 'W002': 4,\n 'W004': 4,\n 'W007': 4,\n 'W014': 4,\n 'W015': 4,\n 'W020': 4,\n 'W021': 4,\n 'W025': 4,\n 'W026': 4,\n 'W029': 4,\n 'W031': 4,\n 'W032': 4,\n 'W033': 4,\n 'W034': 4,\n 'W035': 4,\n 'W036': 4,\n 'W038': 4,\n 'W039': 4,\n 'W042': 4,\n 'W047': 4,\n 'W048': 4,\n 'W050': 4,\n 'W055': 4,\n 'W067': 4,\n 'W069': 4,\n 'W070': 4,\n 'W072': 4,\n 'W075': 4,\n 'W076': 4,\n 'W077': 4,\n 'W078': 4,\n 'W079': 4,\n 'W081': 4,\n 'W084': 4,\n 'W090': 4,\n 'W091': 4,\n 'W092': 4,\n 'W094': 4,\n 'W095': 4,\n 'W096': 4,\n 'W099': 4,\n 'W103': 4,\n 'W104': 4,\n 'W106': 4,\n 'W107': 4,\n 'W110': 4,\n 'W115': 4,\n 'W121': 4,\n 'W122': 4,\n 'W124': 4,\n 'W126': 4,\n 'W129': 4,\n 'W131': 4,\n 'W135': 4,\n 'W136': 4,\n 'W137': 4,\n 'W140': 4,\n 'W141': 4,\n 'W142': 4,\n 'W145': 4,\n 'W155': 4,\n 'W171': 4,\n 'W173': 4,\n 'W191': 4,\n 'W192': 4,\n 'W207': 4,\n 'W210': 4,\n 'W214': 4,\n 'W215': 4,\n 'W219': 4,\n 'W220': 4,\n 'W223': 4,\n 'W235': 4,\n 'W240': 4,\n 'W247': 4,\n 'W252': 4,\n 'W255': 4,\n 'W258': 4,\n 'W260': 4,\n 'W261': 4,\n 'W272': 4,\n 'W273': 4,\n 'W277': 4,\n 'W278': 4,\n 'W279': 4,\n 'W280': 4,\n 'W284': 4,\n 'W286': 4,\n 'W287': 4,\n 'W288': 4,\n 'W290': 4,\n 'W296': 4,\n 'W297': 4,\n 'W304': 4,\n 'W313': 4,\n 'W319': 4,\n 'W320': 4,\n 'W328': 4,\n 'W329': 4,\n 'W330': 4,\n 'C071': 3,\n 'C074': 3,\n 'C079': 3,\n 'C083': 3,\n 'C101': 3,\n 'C106': 3,\n 'C133': 3,\n 'C134': 3,\n 'C144': 3,\n 'W143': 3,\n 'W306': 3}"
     },
     "execution_count": 22,
     "metadata": {},
     "output_type": "execute_result"
    }
   ],
   "source": [
    "sorted_dict_by_value_desc = dict(sorted(alignmentScore.items(), key=lambda item: item[1], reverse=True))\n",
    "sorted_dict_by_value_desc"
   ],
   "metadata": {
    "collapsed": false,
    "ExecuteTime": {
     "end_time": "2023-05-10T05:30:47.110106Z",
     "start_time": "2023-05-10T05:30:47.105002Z"
    }
   }
  },
  {
   "cell_type": "code",
   "execution_count": null,
   "outputs": [],
   "source": [],
   "metadata": {
    "collapsed": false
   }
  }
 ],
 "metadata": {
  "kernelspec": {
   "display_name": "Python 3",
   "language": "python",
   "name": "python3"
  },
  "language_info": {
   "codemirror_mode": {
    "name": "ipython",
    "version": 2
   },
   "file_extension": ".py",
   "mimetype": "text/x-python",
   "name": "python",
   "nbconvert_exporter": "python",
   "pygments_lexer": "ipython2",
   "version": "2.7.6"
  }
 },
 "nbformat": 4,
 "nbformat_minor": 0
}
