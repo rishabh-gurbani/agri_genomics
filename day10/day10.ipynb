{
 "cells": [
  {
   "cell_type": "code",
   "execution_count": null,
   "metadata": {
    "collapsed": true
   },
   "outputs": [],
   "source": [
    "import pandas\n",
    "import pandas as pd\n",
    "from Bio import Phylo"
   ]
  },
  {
   "cell_type": "code",
   "execution_count": 16,
   "outputs": [
    {
     "data": {
      "text/plain": "    Cultivar ID              Cultivar Name          Subpopulation  \\\n379        C001                   Sadu-cho               Indica I   \n124        C002                  Dom_Sufid            VI/Aromatic   \n150        C003                     Gerdeh  Japonica Intermediate   \n269        C004  Li-Jiang-Xin-Tuan-Hei-Gu_     Temperate Japonica   \n46         C005                    AZUCENA      Tropical Japonica   \n..          ...                        ...                    ...   \n174        W326             Haolvguangnian  Japonica Intermediate   \n230        W327                    JinghuB     Temperate Japonica   \n403        W328               Sibeitichao6           Intermediate   \n156        W329                  GPNO_5055      Tropical Japonica   \n41         W330                 ASWINA_330                    Aus   \n\n     Plant Height (cm) vg0130976864 vg0135617816 vg0138428840 vg0405463422  \\\n379             144.13            G            C            T            T   \n124             177.62            G            C            C            T   \n150             141.57            G            C            T            G   \n269             140.40            G            C            T            G   \n46              163.33            G            C            T            T   \n..                 ...          ...          ...          ...          ...   \n174             155.40            G            C            T            G   \n230              89.80            A            C            T            G   \n403             117.40            A            C            T            G   \n156             147.40            G            C            T            G   \n41              149.60            G            C            C            T   \n\n    vg0713178880 vg0819793460 vg1019044175 vg1123563633 vg1207667840  \\\n379            T            T            C            C            C   \n124            T            T            C            C            C   \n150            T            A            C            T            T   \n269            A            A            C            T            C   \n46             A            A            T            T            C   \n..           ...          ...          ...          ...          ...   \n174            T            A            C            T            C   \n230            T            A            C            T            C   \n403            T            A            C            T            T   \n156            T            A            T            T            C   \n41             T            T            C            C            C   \n\n      Sequence  \n379  GCTTTTCCC  \n124  GCCTTTCCC  \n150  GCTGTACTT  \n269  GCTGAACTC  \n46   GCTTAATTC  \n..         ...  \n174  GCTGTACTC  \n230  ACTGTACTC  \n403  ACTGTACTT  \n156  GCTGTATTC  \n41   GCCTTTCCC  \n\n[529 rows x 14 columns]",
      "text/html": "<div>\n<style scoped>\n    .dataframe tbody tr th:only-of-type {\n        vertical-align: middle;\n    }\n\n    .dataframe tbody tr th {\n        vertical-align: top;\n    }\n\n    .dataframe thead th {\n        text-align: right;\n    }\n</style>\n<table border=\"1\" class=\"dataframe\">\n  <thead>\n    <tr style=\"text-align: right;\">\n      <th></th>\n      <th>Cultivar ID</th>\n      <th>Cultivar Name</th>\n      <th>Subpopulation</th>\n      <th>Plant Height (cm)</th>\n      <th>vg0130976864</th>\n      <th>vg0135617816</th>\n      <th>vg0138428840</th>\n      <th>vg0405463422</th>\n      <th>vg0713178880</th>\n      <th>vg0819793460</th>\n      <th>vg1019044175</th>\n      <th>vg1123563633</th>\n      <th>vg1207667840</th>\n      <th>Sequence</th>\n    </tr>\n  </thead>\n  <tbody>\n    <tr>\n      <th>379</th>\n      <td>C001</td>\n      <td>Sadu-cho</td>\n      <td>Indica I</td>\n      <td>144.13</td>\n      <td>G</td>\n      <td>C</td>\n      <td>T</td>\n      <td>T</td>\n      <td>T</td>\n      <td>T</td>\n      <td>C</td>\n      <td>C</td>\n      <td>C</td>\n      <td>GCTTTTCCC</td>\n    </tr>\n    <tr>\n      <th>124</th>\n      <td>C002</td>\n      <td>Dom_Sufid</td>\n      <td>VI/Aromatic</td>\n      <td>177.62</td>\n      <td>G</td>\n      <td>C</td>\n      <td>C</td>\n      <td>T</td>\n      <td>T</td>\n      <td>T</td>\n      <td>C</td>\n      <td>C</td>\n      <td>C</td>\n      <td>GCCTTTCCC</td>\n    </tr>\n    <tr>\n      <th>150</th>\n      <td>C003</td>\n      <td>Gerdeh</td>\n      <td>Japonica Intermediate</td>\n      <td>141.57</td>\n      <td>G</td>\n      <td>C</td>\n      <td>T</td>\n      <td>G</td>\n      <td>T</td>\n      <td>A</td>\n      <td>C</td>\n      <td>T</td>\n      <td>T</td>\n      <td>GCTGTACTT</td>\n    </tr>\n    <tr>\n      <th>269</th>\n      <td>C004</td>\n      <td>Li-Jiang-Xin-Tuan-Hei-Gu_</td>\n      <td>Temperate Japonica</td>\n      <td>140.40</td>\n      <td>G</td>\n      <td>C</td>\n      <td>T</td>\n      <td>G</td>\n      <td>A</td>\n      <td>A</td>\n      <td>C</td>\n      <td>T</td>\n      <td>C</td>\n      <td>GCTGAACTC</td>\n    </tr>\n    <tr>\n      <th>46</th>\n      <td>C005</td>\n      <td>AZUCENA</td>\n      <td>Tropical Japonica</td>\n      <td>163.33</td>\n      <td>G</td>\n      <td>C</td>\n      <td>T</td>\n      <td>T</td>\n      <td>A</td>\n      <td>A</td>\n      <td>T</td>\n      <td>T</td>\n      <td>C</td>\n      <td>GCTTAATTC</td>\n    </tr>\n    <tr>\n      <th>...</th>\n      <td>...</td>\n      <td>...</td>\n      <td>...</td>\n      <td>...</td>\n      <td>...</td>\n      <td>...</td>\n      <td>...</td>\n      <td>...</td>\n      <td>...</td>\n      <td>...</td>\n      <td>...</td>\n      <td>...</td>\n      <td>...</td>\n      <td>...</td>\n    </tr>\n    <tr>\n      <th>174</th>\n      <td>W326</td>\n      <td>Haolvguangnian</td>\n      <td>Japonica Intermediate</td>\n      <td>155.40</td>\n      <td>G</td>\n      <td>C</td>\n      <td>T</td>\n      <td>G</td>\n      <td>T</td>\n      <td>A</td>\n      <td>C</td>\n      <td>T</td>\n      <td>C</td>\n      <td>GCTGTACTC</td>\n    </tr>\n    <tr>\n      <th>230</th>\n      <td>W327</td>\n      <td>JinghuB</td>\n      <td>Temperate Japonica</td>\n      <td>89.80</td>\n      <td>A</td>\n      <td>C</td>\n      <td>T</td>\n      <td>G</td>\n      <td>T</td>\n      <td>A</td>\n      <td>C</td>\n      <td>T</td>\n      <td>C</td>\n      <td>ACTGTACTC</td>\n    </tr>\n    <tr>\n      <th>403</th>\n      <td>W328</td>\n      <td>Sibeitichao6</td>\n      <td>Intermediate</td>\n      <td>117.40</td>\n      <td>A</td>\n      <td>C</td>\n      <td>T</td>\n      <td>G</td>\n      <td>T</td>\n      <td>A</td>\n      <td>C</td>\n      <td>T</td>\n      <td>T</td>\n      <td>ACTGTACTT</td>\n    </tr>\n    <tr>\n      <th>156</th>\n      <td>W329</td>\n      <td>GPNO_5055</td>\n      <td>Tropical Japonica</td>\n      <td>147.40</td>\n      <td>G</td>\n      <td>C</td>\n      <td>T</td>\n      <td>G</td>\n      <td>T</td>\n      <td>A</td>\n      <td>T</td>\n      <td>T</td>\n      <td>C</td>\n      <td>GCTGTATTC</td>\n    </tr>\n    <tr>\n      <th>41</th>\n      <td>W330</td>\n      <td>ASWINA_330</td>\n      <td>Aus</td>\n      <td>149.60</td>\n      <td>G</td>\n      <td>C</td>\n      <td>C</td>\n      <td>T</td>\n      <td>T</td>\n      <td>T</td>\n      <td>C</td>\n      <td>C</td>\n      <td>C</td>\n      <td>GCCTTTCCC</td>\n    </tr>\n  </tbody>\n</table>\n<p>529 rows × 14 columns</p>\n</div>"
     },
     "execution_count": 16,
     "metadata": {},
     "output_type": "execute_result"
    }
   ],
   "source": [
    "df = pd.read_csv(\"merged_final.csv\")\n",
    "df = df.iloc[:, 1:]\n",
    "df = df.sort_values('Cultivar ID')\n",
    "df"
   ],
   "metadata": {
    "collapsed": false,
    "ExecuteTime": {
     "end_time": "2023-05-03T09:05:51.487779Z",
     "start_time": "2023-05-03T09:05:51.465938Z"
    }
   }
  },
  {
   "cell_type": "code",
   "execution_count": 17,
   "outputs": [
    {
     "data": {
      "text/plain": "75"
     },
     "execution_count": 17,
     "metadata": {},
     "output_type": "execute_result"
    }
   ],
   "source": [
    "len(df['Sequence'].unique())"
   ],
   "metadata": {
    "collapsed": false,
    "ExecuteTime": {
     "end_time": "2023-05-03T09:05:58.466981Z",
     "start_time": "2023-05-03T09:05:58.461916Z"
    }
   }
  },
  {
   "cell_type": "code",
   "execution_count": 18,
   "outputs": [],
   "source": [
    "df2 = pd.read_csv(\"mapping.csv\")"
   ],
   "metadata": {
    "collapsed": false,
    "ExecuteTime": {
     "end_time": "2023-05-03T09:05:59.512713Z",
     "start_time": "2023-05-03T09:05:59.502763Z"
    }
   }
  },
  {
   "cell_type": "code",
   "execution_count": 20,
   "outputs": [
    {
     "name": "stdout",
     "output_type": "stream",
     "text": [
      "GCTTTTCCC GCTTTCCC False\n",
      "GCCTTTCCC GCCTTCCC False\n",
      "GCTGTACTT GCTTACTT False\n",
      "GCTGAACTC GCTAACTC False\n",
      "GCTTAATTC GCTAATTC False\n",
      "GCTTTATTT GCTTATTT False\n",
      "GCTGTATTC GCTTATTC False\n",
      "GCTGTATTT ACTAACTT False\n",
      "ACTGAACTT GCCTTCTC False\n",
      "GCCTTTCTC ACTTATTT False\n",
      "ACTGTATTT GCTTACCT False\n",
      "GCTGTACCT ACTTACTT False\n",
      "ACTGTACTT GCTTATCT False\n",
      "GCTTTATCT ACTTATCT False\n",
      "ACTTTATCT GCTTTTCT False\n",
      "GCTTTTTCT GCCTTTTT False\n",
      "GCTGTATCT ACTTACTC False\n",
      "GCTTTATTC GCCTATTT False\n",
      "GCCTTTTTT GCTTATCC False\n",
      "ACTGTACTC ACTAACCC False\n",
      "GCCTTATTT GCTTTTTC False\n",
      "GCTTTATCC GCTTACTC False\n",
      "ACTGAACCC GCTAACTT False\n",
      "GCTGTTTTC GCTTTTTT False\n",
      "GCTGTACTC GCCTTTTC False\n",
      "GCTGAACTT GCCTATCC False\n",
      "GCTTTTTTT GCTAATCT False\n",
      "GCCTTTTTC GCTTACCC False\n",
      "GCCTTATCC GCCTACTC False\n",
      "GCTTTTTTC GTTTATTC False\n",
      "GCTGAATCT GCTAACCC False\n",
      "GCTGTACCC GCCTATTC False\n",
      "GCCTTACTC ACTAACCT False\n",
      "GCTTAACTT GCTTTTCC False\n",
      "GTTGTATTC GCTTTCTC False\n",
      "GCCGTTTTC GCTAATTT False\n",
      "GCTGAACCC GCCTTTCC False\n",
      "GCCGTATTT ACTAACTC False\n",
      "GCCTTATTC GCCTTCCT False\n",
      "ACTGAACCT GTCTTCTC False\n",
      "GCTTTACTT GCCTACTT False\n",
      "GCCGTATTC GCCTACCT False\n",
      "GCTTTTTCC GCCTTTCT False\n",
      "GCTTAACCC GCCTACCC False\n",
      "GCTTTTCTC GCCTTCTT False\n",
      "GCTGAATTT GCTTTCTT False\n",
      "GCCTTTTCC ACTAATTT False\n",
      "ACTGAACTC ACTTTCTT False\n",
      "GCTGAATTC ACCATCTT False\n",
      "GCCGTTCCT ACTTTTTT False\n",
      "GCCGTTTCC GCCTATCT False\n",
      "GCCGTTTTT GTCTTTTC False\n"
     ]
    }
   ],
   "source": [
    "for x, y in zip(df['Sequence'].unique(),df2['sequence'].unique()):\n",
    "    print(x, y, str(x)==str(y))"
   ],
   "metadata": {
    "collapsed": false,
    "ExecuteTime": {
     "end_time": "2023-05-03T09:06:28.868426Z",
     "start_time": "2023-05-03T09:06:28.862368Z"
    }
   }
  },
  {
   "cell_type": "code",
   "execution_count": null,
   "outputs": [],
   "source": [],
   "metadata": {
    "collapsed": false
   }
  }
 ],
 "metadata": {
  "kernelspec": {
   "display_name": "Python 3",
   "language": "python",
   "name": "python3"
  },
  "language_info": {
   "codemirror_mode": {
    "name": "ipython",
    "version": 2
   },
   "file_extension": ".py",
   "mimetype": "text/x-python",
   "name": "python",
   "nbconvert_exporter": "python",
   "pygments_lexer": "ipython2",
   "version": "2.7.6"
  }
 },
 "nbformat": 4,
 "nbformat_minor": 0
}
