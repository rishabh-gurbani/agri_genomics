{
 "cells": [
  {
   "cell_type": "code",
   "execution_count": 34,
   "metadata": {
    "collapsed": true,
    "ExecuteTime": {
     "end_time": "2023-05-09T02:13:15.375340Z",
     "start_time": "2023-05-09T02:13:15.369813Z"
    }
   },
   "outputs": [],
   "source": [
    "def printMatrix(mat):\n",
    "    for i in range(len(mat)):\n",
    "        for j in range(len(mat[i])):\n",
    "            print(mat[i][j], end=\" \")\n",
    "        print()\n",
    "\n",
    "def constructMatrix(str1, str2):\n",
    "    list = [[0 for i in range(len(str1)+1)] for j in range(len(str2)+1)]\n",
    "    return list\n",
    "\n",
    "def printStringMatrix(matrix, str1, str2):\n",
    "    print(\"\", end = \"  \")\n",
    "    print(\"_\", end = \" \")\n",
    "    for i in range(len(str1)):\n",
    "        print(str1[i], end = \" \")\n",
    "    print()\n",
    "    for i in range(len(matrix)):\n",
    "        if i == 0 :\n",
    "            print(\"_\", end = \" \")\n",
    "        else:\n",
    "            print(str2[i-1], end = \" \")\n",
    "        for j in range(len(matrix[i])):\n",
    "            print(matrix[i][j], end = \" \")\n",
    "        print()\n",
    "\n",
    "def initMatrix(matrix, gapPenalty):\n",
    "    x=0\n",
    "    for i in range(len(matrix)):\n",
    "        matrix[i][0] = x * gapPenalty\n",
    "        x=x+1\n",
    "    x=0\n",
    "    for i in range(len(matrix[0])):\n",
    "        matrix[0][i] = x * gapPenalty\n",
    "        x=x+1\n",
    "    return matrix\n",
    "\n",
    "def getMinPenalty(matrix, i, j, str1, str2,matchPenalty, mismatchPenalty, gapPenalty ):\n",
    "    if str2[i-1] == str1[j-1]:\n",
    "        currPenalty = matchPenalty\n",
    "    else:\n",
    "        currPenalty = mismatchPenalty\n",
    "\n",
    "    top = matrix[i-1][j] + gapPenalty\n",
    "    left = matrix[i][j-1] + gapPenalty\n",
    "    diag = matrix[i-1][j-1] + currPenalty\n",
    "    maxE = max(top, left, diag)\n",
    "    currPenalty = maxE\n",
    "\n",
    "    return currPenalty\n",
    "\n",
    "def fillMatrix(matrix, str1, str2, matchPenalty, mismatchPenalty, gapPenalty):\n",
    "    for i in range(1, len(matrix)):\n",
    "        for j in range(1, len(matrix[0])):\n",
    "            matrix[i][j] = getMinPenalty(matrix, i, j, str1, str2, matchPenalty, mismatchPenalty, gapPenalty)\n",
    "\n",
    "\n",
    "def getPrevious(matrix, i, j,matchPenalty, mismatchPenalty, gapPenalty ):\n",
    "\n",
    "    score = matrix[i][j]\n",
    "    top = matrix[i-1][j]\n",
    "    left = matrix[i][j-1]\n",
    "    diag = matrix[i-1][j-1]\n",
    "\n",
    "    maxPrevIndexI = 0\n",
    "    maxPrevIndexJ = 0\n",
    "    maxPrevDir = 0\n",
    "    if diag + matchPenalty == score or diag + mismatchPenalty == score:\n",
    "        maxPrevIndexI = i-1\n",
    "        maxPrevIndexJ = j-1\n",
    "        maxPrevDir = 0\n",
    "    elif top + gapPenalty == score:\n",
    "        maxPrevIndexI = i-1\n",
    "        maxPrevIndexJ = j\n",
    "        maxPrevDir = 1\n",
    "    elif left + gapPenalty == score:\n",
    "        maxPrevIndexI = i\n",
    "        maxPrevIndexJ = j-1\n",
    "        maxPrevDir = 2\n",
    "\n",
    "    return maxPrevDir, maxPrevIndexI, maxPrevIndexJ\n",
    "\n",
    "\n",
    "def backTrack(matrix, matchPenalty, mismatchPenalty, gapPenalty):\n",
    "\n",
    "    score = 0\n",
    "    directions = []\n",
    "\n",
    "    i = len(matrix)-1\n",
    "    j = len(matrix[0])-1\n",
    "\n",
    "    while i>=0 and j>=0:\n",
    "        score += matrix[i][j]\n",
    "        if i == 0 or j == 0:\n",
    "            break\n",
    "        prev = getPrevious(matrix, i, j, matchPenalty, mismatchPenalty, gapPenalty)\n",
    "        directions.insert(0, prev[0])\n",
    "        i = prev[1]\n",
    "        j = prev[2]\n",
    "    return directions, score\n",
    "\n"
   ]
  },
  {
   "cell_type": "code",
   "execution_count": 35,
   "outputs": [],
   "source": [
    "def alignSequences(sequence1, sequence2, matchPenalty = 1, mismatchPenalty = -1, gapPenalty = -2):\n",
    "    mat = constructMatrix(sequence1, sequence2)\n",
    "    matrix = initMatrix(mat, gapPenalty)\n",
    "    fillMatrix(matrix, sequence1, sequence2, matchPenalty, mismatchPenalty, gapPenalty)\n",
    "    dir = backTrack(matrix, matchPenalty, mismatchPenalty, gapPenalty)\n",
    "    return dir[1]"
   ],
   "metadata": {
    "collapsed": false,
    "ExecuteTime": {
     "end_time": "2023-05-09T02:13:15.697746Z",
     "start_time": "2023-05-09T02:13:15.691517Z"
    }
   }
  },
  {
   "cell_type": "code",
   "execution_count": 36,
   "outputs": [
    {
     "data": {
      "text/plain": "72"
     },
     "execution_count": 36,
     "metadata": {},
     "output_type": "execute_result"
    }
   ],
   "source": [
    "alignSequences(\"GGGGGCCATCGTAATGTCACCTTT\", \"AAGGGCCATAGGTGTGTTAACCTC\")"
   ],
   "metadata": {
    "collapsed": false,
    "ExecuteTime": {
     "end_time": "2023-05-09T02:13:16.567098Z",
     "start_time": "2023-05-09T02:13:16.559891Z"
    }
   }
  },
  {
   "cell_type": "code",
   "execution_count": 37,
   "outputs": [
    {
     "name": "stdout",
     "output_type": "stream",
     "text": [
      "529\n"
     ]
    }
   ],
   "source": [
    "from Bio import SeqIO\n",
    "sequences = {}\n",
    "for record in SeqIO.parse(\"sequences_24.fasta\", \"fasta\"):\n",
    "    sequences[record.id] = str(record.seq)\n",
    "print(len(sequences))"
   ],
   "metadata": {
    "collapsed": false,
    "ExecuteTime": {
     "end_time": "2023-05-09T02:13:17.810969Z",
     "start_time": "2023-05-09T02:13:17.802208Z"
    }
   }
  },
  {
   "cell_type": "code",
   "execution_count": 38,
   "outputs": [
    {
     "data": {
      "text/plain": "{'C001': 'GGGAGCCATCGTAATGTTTCCCCC',\n 'C002': 'GGGGGCCACCGTAATGCCTCCCCC',\n 'C003': 'GAGAGCCATAGGAGTGCCAACCTT',\n 'C004': 'GAGGGCCATAGGAGAACTACTCTC',\n 'C005': 'AGGGGCCATAGTAAAGCCAACTTC',\n 'C006': 'GGGAGCGGTATTAATGTTACCTTT',\n 'C007': 'GGGAGCGGTATTAATGTTACCTTT',\n 'C008': 'GGGGGCGGTATGTATGTTACCTTC',\n 'C009': 'GGGAGCCGTATGAATGTTACCTTT',\n 'C010': 'GAGGGCCGTATGTATGCCAACCTT',\n 'C011': 'GGGAGCGGTATGTATGTTACCTTT',\n 'C012': 'GAAAGCCATAGGTGAGTTAACCTT',\n 'C013': 'GGGGGCCACCGTAATGTCTCCCTC',\n 'C014': 'GAAAGCGGTATGTGTACCAACTTT',\n 'C015': 'GGGGGCCACAGTAATGTCTCCCCC',\n 'C016': 'GAGAGCCATAGGTGTACCAACCCT',\n 'C017': 'GAAGGCCATAGGTGTACCAACCTT',\n 'C018': 'GAAAGCCATAGGTGTACCAACCTT',\n 'C019': 'GGGAGCGGTATTAATGTTACCTTT',\n 'C020': 'GGGAGCGGTAGTAATGTTACCTCT',\n 'C021': 'GGGAGCGGTATTAATGCTACCTCT',\n 'C022': 'GGGAGCGATCGGTATGTTACCTTT',\n 'C023': 'GAGGGCCATAGGTGTACCAACCTT',\n 'C024': 'GGAAGCGATCGTAATGTTAACTCT',\n 'C025': 'GGGGGCGGTATGTATGTTACCTTT',\n 'C026': 'GAAAGCCATAGGTGTACCAACCTT',\n 'C027': 'GGGAGCGGTATGAATGTTACCTTC',\n 'C028': 'GAAAGCCATAGGTGTACCAACCTT',\n 'C029': 'GGAAGCCGTATGTATACCAACCTT',\n 'C030': 'GGGAGCGGTATTAATGTTACCTTT',\n 'C031': 'GGGAGCGGTATTAATGTTACCTTT',\n 'C032': 'AAAGGCCATAGGTGTACTACTCTT',\n 'C033': 'GGGAACGATCGTAATGTTACCTCT',\n 'C034': 'GAGGGCCATAGGTGTGTTAACCTT',\n 'C035': 'AAAGGCCATAGGTGTACCAACCTT',\n 'C036': 'GGGAACGATCGTAATGTTTCCTCT',\n 'C037': 'GGGAGCGGTATTAATGTTACCTTT',\n 'C038': 'GGGGACGATCGTAGTGTTACCTTT',\n 'C039': 'GGGGGCGGTATTAATGTTACCTCT',\n 'C040': 'GGGAGCGGTATGTATGTTACCTCT',\n 'C041': 'GGGAGCGGTAGTAATGTTACCTTC',\n 'C042': 'GGGGGCGGTATGAATGTTACCTTT',\n 'C043': 'GGGAGCGGTATGAATGTTACCTTT',\n 'C044': 'GGGGGCGGTATTAATGTTACCTTT',\n 'C045': 'GGGAGCGGTATGAATGTTACCTTC',\n 'C046': 'GGGAGCGGTAGTAATGTTACCTTT',\n 'C047': 'GGGGGCCACAGTAATGTTTCCTTT',\n 'C048': 'GAAAGCCATAGGTGTGTTAACCTT',\n 'C049': 'GGGAGCGGTATGAATGCTACCTTT',\n 'C050': 'GGGAGCGGTATGTATGCTACCTTT',\n 'C051': 'GAAAGCCGTATGTGTGTTAACTTT',\n 'C052': 'GAAAGCCATAGGAGTACCAACCTC',\n 'C053': 'GGGAGCGGTATGTATGCTACCTTT',\n 'C054': 'GAGGGCCATAGGTGTGTTAACCTT',\n 'C055': 'GGGAGCGACCGTAATGTTACCTTT',\n 'C056': 'GAGAGCCATAGGTGTACCAACCCT',\n 'C057': 'GAAGGCCATAGGTGTACCAACCTT',\n 'C058': 'GGGAGCGGTATTAATGTTACCTCT',\n 'C059': 'GGGAGCGGTATTAATGTTACCTCT',\n 'C060': 'GGGAGCGATCGTAATGTTACCTCC',\n 'C061': 'GGGAGCGGTATGTATGTTACCTTT',\n 'C062': 'GGGAGCGGTATGTATGTTACCTTT',\n 'C063': 'GAAAGCCATAGGTGAACCAACCCC',\n 'C064': 'GAAAGCCATAGGTGTGTTAACCTT',\n 'C065': 'GGGAGCGGTAGGTATGTTACCTTT',\n 'C066': 'GGGGGCGATCGGTATGTTTCCTTC',\n 'C067': 'AAGAGCCATAGGAGTGTTAACCTC',\n 'C068': 'GGGAGCGGTATGAATGTTACCTTT',\n 'C069': 'GGGAGCGGTATGTATGTTACCTTT',\n 'C070': 'GAGAGCCATAGGTGAACCAACCTT',\n 'C071': 'GAGAGCCATAGGAGTGTTACTCTC',\n 'C072': 'GGGAACGATCGTAATGTTTCCTTT',\n 'C073': 'GGGAGCGACCGTAATGTTTCCTTC',\n 'C074': 'AAGGGCCATAGGAGTACCACTCTC',\n 'C075': 'AAGAGCCATAGGAGTGTTAACCTC',\n 'C076': 'GGGAGCGACCGTAATGTTACCTCC',\n 'C077': 'GGGGGCGACCGTAATGTTACCTCC',\n 'C078': 'GGGGGCCATCGTAATGTTTCCTTC',\n 'C079': 'AGGGGCCATAGGTGAGTTACTCTC',\n 'C080': 'GGGGACCACCGTAATGTTTCCTTT',\n 'C081': 'GGGAGCGACCGTAATGTTACCTCC',\n 'C082': 'AAGAGCCATAGGAGTGTTACTCTC',\n 'C083': 'GGGGGCCATAGGTGAGTTACTTCT',\n 'C084': 'GAGAGCCATAGGTATACCAACCCC',\n 'C085': 'GAGAGCCATAGGTGTACCAACCCC',\n 'C086': 'GGGGGCCACCGTAATGTCACCCTC',\n 'C087': 'GAGGGCCATAGTAGAACTAACCTT',\n 'C088': 'GGGGGCCACAGTAATGTTTACTTC',\n 'C089': 'GAGAGCCATAGGAGTGTTACTCTT',\n 'C090': 'GGGGACCACCGTAATGTTACCTTT',\n 'C091': 'GGGGGCCATCGTAATGTTACCTTC',\n 'C092': 'GGGGGCCATCGTAATGTTAACTTC',\n 'C093': 'AAGGGCCATAGGAGAGTTAACCTC',\n 'C094': 'GGGAGTCATCGGTATGTTACCTTC',\n 'C095': 'GGGGGCGACCGGTATGTTTCCTTC',\n 'C096': 'GGGGGCCACCGTAATGTTTCCTTC',\n 'C097': 'GGGGACCACCGTAATGTTTCCTTT',\n 'C098': 'GGGGGCCACCGTAATGTTACCCTC',\n 'C099': 'GGGAACCATCGGTATGTTTCCTTC',\n 'C100': 'GGGGGCCACCGTAATGTTTCCTTC',\n 'C101': 'AAGGGCCATAGGTGAGTTACTCCC',\n 'C102': 'GGGAACCACCGGTATACTACCTTT',\n 'C103': 'AGGGGCCATAGGTAAGTTACTCTC',\n 'C104': 'GGGGACCACCGTAATGTTTCCTTT',\n 'C105': 'GGGGGCCATCGTAATGTCACCTTT',\n 'C106': 'GAGAGCCATAGGTGAGTTACTCCC',\n 'C107': 'GGGAGCGGTAGTAATGTTTCCTTT',\n 'C108': 'GGGGGCCACCGTAATGTTTCCTTT',\n 'C109': 'GGGGGCGACCGTAATGTTTCCTTT',\n 'C110': 'GGGGGCCACCGTAATGTTACCTTC',\n 'C111': 'AAGGGCCATAGGAGAACCACTCCC',\n 'C112': 'GGGAGCGATCGTAATGTTACCTTT',\n 'C113': 'GGGAACGATCGTAATGTTACCTTT',\n 'C114': 'GGAAGCGATCGTAATGTTACCTCT',\n 'C115': 'GGGGGCGGTATGAATGTTAACTTT',\n 'C116': 'GAAAGCCATAGGTGTACCAACCTT',\n 'C117': 'GGGGGCGATCGTAATGTTAACTTT',\n 'C118': 'GGGAACGATCGGTATGTTACCCTT',\n 'C119': 'GAAAGCCGTATGTATGTTAACTTT',\n 'C120': 'GAAAGCCATAGGTGAACCAACCCT',\n 'C121': 'GGGAACGATAGTAATGTTTCCTCT',\n 'C122': 'GGGAGCGGTATTAATGTTACCTCT',\n 'C123': 'GGGGGCCATAGGTAAACCAACCTT',\n 'C124': 'GGGAGCGGTATTAATGTTACCCTT',\n 'C125': 'GGGGGCCACAGGTATGTTACCTTC',\n 'C127': 'GGGAGCGATCGTAATGTTACCTTC',\n 'C128': 'GGGGGCCATCGTAATGTTTCCTCC',\n 'C129': 'GGGGGCCACCGTAATGTTTCCTTC',\n 'C130': 'AAGGGCCATAGGAGAGTTAACCTC',\n 'C131': 'GGGGACCATCGTAATGTTACCTTC',\n 'C132': 'GGGGGCCACCGTAATGTTACCTTT',\n 'C133': 'AGGGGCCATAGGTGAGTTACTCTC',\n 'C134': 'GGGAGCCATAGTAGAGTTACTCCC',\n 'C135': 'GGGGGCCACAGTAATGTTTCCTTC',\n 'C136': 'GGGGACCACAGTAATGTTTCCTTC',\n 'C137': 'AGGAGCCATAGGAGAACCACTCCC',\n 'C138': 'AAGAGCCATAGGAGTACTACTCTC',\n 'C139': 'GGGAGCGATCGTAATGTCTCTCTC',\n 'C140': 'GGGGGCCACCGTAATGTTACCTTC',\n 'C141': 'GGGGGCCACAGTAATGTTTCCTTC',\n 'C142': 'GGGAGCGGTAGTAATGTTTCCTTT',\n 'C143': 'GGGGACCACCGGTATGTTACCTTC',\n 'C144': 'AGGAGCCATAGTAGAGTTACTCCC',\n 'C145': 'GGAAGCGATCGTAATGTTAACTCT',\n 'C146': 'GAAAGCCATAGGTGTACCAACCTT',\n 'C147': 'GGGAGCGGTATGTATGCTAACTTT',\n 'C148': 'GGGAGCGATCGGAATGTTACCTTT',\n 'C149': 'GAAAGCCATAGGTGAACCAACCCT',\n 'C150': 'GAAAGCCATAGGTGTACCAACCTT',\n 'C151': 'GGGAGCGGTATTAATGTTACCTTT',\n 'C152': 'GAAAGCCGTATGTGTACCAACCTT',\n 'C153': 'GAGGGCCATAGGTGAGCCAACTTT',\n 'C154': 'GAAAGCCATAGGTGTACCAACCTT',\n 'C155': 'GGGAGCGATCGTAATGTTACCTCT',\n 'C156': 'GGGAACGGTATTAATGTTACCTCT',\n 'C157': 'GGGAGCGATCGGTATGTTAACTCT',\n 'C158': 'GGGGGCGGTATTAATGTTACCTCT',\n 'C159': 'GGGAACGGTATTAATGTTACCTCT',\n 'C160': 'GGGAGCGGTATTTATGTTACCTTT',\n 'C161': 'GGGAACGGTATTAATGTTACCTCT',\n 'C162': 'GGGGGCCATCGTAGTGTTTCCTTT',\n 'C163': 'GGGGGCGATATGAATGCTACCTTT',\n 'C164': 'GGGAGCGATATGAATGTTACCTTT',\n 'C165': 'GGGAACGGTATTAATGTTACCTTT',\n 'C166': 'GGGGGCGGTATGAATGTTACCTTT',\n 'C167': 'GGGGGCGGTATTAATGTTACCTTT',\n 'C168': 'GGGAGCGGTAGGAATGTTACCTTT',\n 'C169': 'GGGAGCGGTATTAATGTTACCTTT',\n 'C170': 'GGGAGCGGTAGTAATGTTACCTTT',\n 'C171': 'AAGGGCCATAGGTGTGTTAACCTC',\n 'C172': 'GAAAGCCATAGGTGAACCAACCCT',\n 'C173': 'GGGAGCGGTATTAATGTTTCCTTC',\n 'C174': 'GGGAACGATCGGAATGTTACCTTT',\n 'C175': 'GGGAGCGATCGTAATGTTTCCTTT',\n 'C176': 'GGGGGCGGTATTAATACTACCTTC',\n 'C177': 'GAAGGCCATAGGTGTACCAACCTT',\n 'C178': 'GGGGGCGGTATGTATGTTACCTTT',\n 'C179': 'GAGGGCCATAGGTATGTCAATCTC',\n 'C180': 'GGGGGCGATCGTAATGTTTCCTCC',\n 'C181': 'AAGAGCCATAGGAGTGTTAACCTT',\n 'C182': 'GGGGGCCACAGTAATGTTACCTTC',\n 'C183': 'GGGGGCCATCGTAATGTTTCCTCC',\n 'C184': 'GGGAACGACCGTAATGTTACCTCC',\n 'C185': 'GAAAGCCATAGGTATACCAATCTC',\n 'C186': 'GAGAGCCATAGGTATACCAATCTC',\n 'C187': 'AAGGGCCATAGGAGTGTTACTCTT',\n 'C188': 'AAGGGCCATAGGAGTGTTAACCTT',\n 'C189': 'GAGGGCCATAGGAGAACCACTCTT',\n 'C190': 'GGGGGCGACCGTAATGTTTCCTTC',\n 'C191': 'GGGGACGATCGTAATGTTACCTTC',\n 'C192': 'GGGGGCCATCGTAATGTTTCCTTT',\n 'C193': 'GGGAACCATCGTAATGTCTCCTCC',\n 'C194': 'GGGGACCACCGTAATGTTTCCTTT',\n 'C195': 'AAGGGCCATAGGTATATTAACCTT',\n 'C196': 'AGGGGCCATAGGTAAGTTACTCTC',\n 'C197': 'GGGGGCCACCGTAATGTTACCTTT',\n 'C198': 'GGGGACCACCGTAATGTTTCCTTC',\n 'C199': 'GGGGGCGACCGTAATGTTTCCTTC',\n 'C200': 'GGGGACCACAGTAATGTTTCCTTC',\n 'C201': 'GGGGACCACCGTAATGTTTCCTTC',\n 'C202': 'GGGGGCCACAGTAATGTTTCCTCC',\n 'C203': 'GGGAGCGGTATTAATGTTACCCTT',\n 'W001': 'GGGGGCCACAGTAATGTTACCTCC',\n 'W002': 'AAGGGCCATAGTAAAGCCAACTTC',\n 'W003': 'GAAAGCCATAGGTAAACCAACCTC',\n 'W004': 'AAGGGCCATAGTAAAGCCAACTTC',\n 'W005': 'GGGGGCCATAGGTAAGCCAACTTT',\n 'W006': 'GGGGGCCATAGGTAAGCCAACTTT',\n 'W007': 'AAGGGCCATAGGTGAGCCAACTTC',\n 'W008': 'AAGGGCCATAGGTAAGCCAACTTT',\n 'W009': 'GGGGGCCACCGTAATGTTTCCTTT',\n 'W010': 'GAAAGCCATAGGTGTGCCAACCTT',\n 'W011': 'AAGAGCCATAGGTGAACCAACCTT',\n 'W012': 'GAAAGCCATAGGTGTACCAACCTT',\n 'W013': 'GAAAGCCATAGGTATACCAACCTT',\n 'W014': 'GGGGGCCACCGGTATGTCTCCCCT',\n 'W015': 'GGGGGCCACCGTAATGTCTCCCTC',\n 'W016': 'GAAAGCCATAGGTGTACCAACCTT',\n 'W017': 'GGGGGCCATAGGTGAGCCAACTTT',\n 'W018': 'GAGAGCCATAGGTGTACCAACCTT',\n 'W019': 'GGGAGCCATAGGTGTACCAACCTT',\n 'W020': 'GGGGGCCACCGGAATGTCTCCTCC',\n 'W021': 'GAAAGCCATAGGTATACCAATCTC',\n 'W022': 'AAGGGCCATAGGTGAGCCAACTTT',\n 'W023': 'GGGGACCACCGGAATGCTTCCTTT',\n 'W024': 'GGGGGCCATAGGTAAGCCAACTTT',\n 'W025': 'GGGGGCCACCGTAATGTCTCCCTC',\n 'W026': 'GGGGACCACCGGTATGTTTCCTTC',\n 'W027': 'GAAAGCCATAGGTGTGTTAACCTT',\n 'W028': 'GGGGGTCACCGGTATGTCTCCCTC',\n 'W029': 'GGGGGCCATCGTAATGTTACCTCC',\n 'W030': 'GGGAGCCACCGGTATGTCACCCTT',\n 'W031': 'GGGAGCGACCGTAATGTTTCCTTC',\n 'W032': 'GGGAGCGACCGTAATGTTTCCTTC',\n 'W033': 'GGGGACCATCGGTATGTTTCCTTC',\n 'W034': 'GGGGGCCACCGTAATGTCTCCCTC',\n 'W035': 'GGGGGCCACCGTAATGTTACCCTC',\n 'W036': 'GGGGGCGACCGGTATGTTTCCTTC',\n 'W037': 'GGGGGCCACCGGTATGTTTCCCTC',\n 'W038': 'AAGAGCCATAGGTGTACCACTCTT',\n 'W039': 'GGGGACGACCGTAATGTTTCCTTC',\n 'W040': 'GGGAGCGGTATTAATGTTACCTTT',\n 'W041': 'GAGGGCCATAGGTAAGCCAACCTT',\n 'W042': 'GGGGGCCACCGTAATACCTCCCTC',\n 'W043': 'GGGAGCGGTATTAATGTTACCTTT',\n 'W044': 'GGGGGCGGTATGAATGTTACCTTT',\n 'W045': 'GAGGGCCATAGGTGTACTAACCTT',\n 'W046': 'GGGGGCGGTATTAATGTTACCTTT',\n 'W047': 'GAGGGCCACCGTAATGTTAACCCT',\n 'W048': 'GGGGGCCACCGGAATGTCTCCCCC',\n 'W049': 'GGGGGCCACCGGAATGTCACCCTC',\n 'W050': 'GGGGGCCATAGGAGTGTTAACCCC',\n 'W051': 'GGGAGCGGTATGTATGTTACCTTT',\n 'W052': 'GAAAGCCATAGGTGTGTTAACCTT',\n 'W053': 'GGGGGCCATAGGTAAGCCAACTTT',\n 'W054': 'GGGAGCCACCGTAATGTTTCCTTT',\n 'W055': 'GGGGGCGATAGGTAAGTTACCCTT',\n 'W056': 'GAGAGCCATAGGTGAGTTAACCTT',\n 'W057': 'GGGGGCCATAGGTAAGCCAACTTT',\n 'W058': 'GGGGACGATCGTAATGTTACCTTT',\n 'W059': 'GAGAGCCATAGGTGTGTTAACCTT',\n 'W060': 'GAAAGCCATAGGTGAACCAACCTT',\n 'W061': 'GAAAGCCATAGGTGTGCCAACCTT',\n 'W062': 'GAGGGCCATAGGTATGCCAACCTT',\n 'W063': 'GAAAGCCATAGGTGTGCCAACCTT',\n 'W064': 'GAGAGCCATAGGTGTACCAACCTT',\n 'W065': 'GGGGGCCATAGGTAAGCCAACTTT',\n 'W066': 'GGGGGCCACCGGTATGTCTCCTTT',\n 'W067': 'AAGGGCCATAGGAGAGCCACTTTT',\n 'W068': 'GAGGGCCATAGTTGTGTTAACCTT',\n 'W069': 'GGGGGCCACCGGTATGTCTCCCTC',\n 'W070': 'GAGAGCGATCGGTATGTTACCCTT',\n 'W071': 'GGGAGCGACCGGTGTGTTACCTTT',\n 'W072': 'GGGGGCCACCGTAATGTCTCCCTC',\n 'W073': 'GGGAGCGGTATTAATGTTACCTTC',\n 'W074': 'GGGGGCCACCGTAATACTACCTTC',\n 'W075': 'GGGGACCACCGTAATGTTACCCTC',\n 'W076': 'GGGGGCCACCGGTATGTCTCCCTC',\n 'W077': 'GGGGGCCACCGTAATGTCTCCCCC',\n 'W078': 'GGGGACGGTATGTATGTTACCTCT',\n 'W079': 'GGGGGCCACCGGTATGCTTCCTCT',\n 'W080': 'GGGGACCACAGTAATGTTACCTTT',\n 'W081': 'GGGGGCCACCGGTGTACCACCCCC',\n 'W082': 'GAGAGCCATAGGAGTGTTAACCTC',\n 'W083': 'GGGAGCGGTATGAATGTCACCTTT',\n 'W084': 'GGGAGCGGTATTAATGTTTCCTTC',\n 'W085': 'GGGAGCGGTATGTATGTTACCTTC',\n 'W086': 'GGGGGCGGTATGTATGTTACCTTT',\n 'W087': 'GGAAGCGATCGGTATGTTAACTTT',\n 'W088': 'GAAAGCCATAGGTGTACCAACCTT',\n 'W089': 'GGGGGCCACCGGTATGTCTCCTTT',\n 'W090': 'GGGGGCCACCGGAATGTCTCCCTC',\n 'W091': 'GGGGGCCACCGGAATGTCTCCCCC',\n 'W092': 'GGGGGCCACCGGAATGTCTCCCTC',\n 'W093': 'GGGGGCCACCGGTATGTCTCCTTT',\n 'W094': 'GGGGGCCACCGGTATGTCTCCCTC',\n 'W095': 'GGGGGCCACCGGTATGTCTCCCCC',\n 'W096': 'GGGGGCCACCGGAATGTCTCCCTC',\n 'W097': 'GAGAGCCATCGGTATGTCACCCTC',\n 'W098': 'GGGGGCCACCGGAATGTTTCCCTC',\n 'W099': 'GGGGGCCACCGGAATGTCTCCCTC',\n 'W100': 'GGGGGCCACCGGAATGTTTCCCTC',\n 'W101': 'GGGAACGATCGTAATGTCACCTTC',\n 'W102': 'AGGGGCCATAGGTAAGCCAACCTC',\n 'W103': 'GGGGGCCACCGTAATGTCTCCCTC',\n 'W104': 'GGGGGCCACCGGTATGTCTCCCTC',\n 'W105': 'GGGGGCCACCGTAATGTCACCCTC',\n 'W106': 'GGGGGCCACCGGAATGTCTCCCTT',\n 'W107': 'GGGGGCCATCGGTATGTTTCCTTC',\n 'W108': 'GGGGGCCACCGGAATGTTTCCCTC',\n 'W109': 'GAAAGCCATAGGAGTGTTAACCTT',\n 'W110': 'GGGGGCCATAGTAGAGCCAACTTC',\n 'W111': 'GGGGGCCACCGTAATGTTTCCTTT',\n 'W112': 'GGGAACCGTCGTAATGTTTCCCTT',\n 'W113': 'GGGGGCCATAGGTAAGCCAACTTT',\n 'W114': 'GGGGGCCACCGGTATGTTACCTTC',\n 'W115': 'GGGGGCCACCGGTATGTCTCCCTC',\n 'W116': 'AAGGGCCATAGTAAAGCCAACCTT',\n 'W117': 'GAAAGCCATAGGTGTACCAACCTT',\n 'W118': 'GAGGGCGGTATGTGTGCCAACTTT',\n 'W119': 'AAAAGCCATAGGTGAGCCAACTTT',\n 'W120': 'GAAAGCCATAGGTGTGTTAACTTT',\n 'W121': 'GGGGGCCACCGTTATGTCTCCCTC',\n 'W122': 'AAGGGCCATAGGTATACCAATCTC',\n 'W123': 'GAGGGCCATAGGTAAGCCAACTTT',\n 'W124': 'GGGAGCGACCGGTATGTTTCCTTC',\n 'W125': 'GAAAGCCATAGGTGTACCTCTCTT',\n 'W126': 'GGGGGCCACAGTAATGTTTCCTTC',\n 'W127': 'GAGAGCCATAGGTGTACCAACCTC',\n 'W128': 'GAAAGCCACAGGTAAGCCTACCTT',\n 'W129': 'GGGGGCCACCGTAGTACCACCCTC',\n 'W130': 'GAAAGCCATAGGTGTACCAACCTT',\n 'W131': 'GGGGGCCACCGGTATGTCTCCCTC',\n 'W132': 'GGGAACGATCGTAATGTTTCCTCC',\n 'W133': 'GGGAACCATCGTAATGTTACCTTC',\n 'W134': 'GGGGGCCACCGGAATGTCACCCTC',\n 'W135': 'GGGAACCATCGTAATGTTACCCTC',\n 'W136': 'GGGGGCCACCGTAATGTCTCCCCC',\n 'W137': 'GGGGGCGACCGTAATGTTACCCTC',\n 'W138': 'GGGGGCGATCGTAATGTTACCTTT',\n 'W139': 'GAGAGCCATAGGTGTACCAACCTT',\n 'W140': 'GGGGGCCACCGTAATGTCTCCCTT',\n 'W141': 'GGGGGCCACCGTAATGTCTCCCTC',\n 'W142': 'GGGGGCCACCGGTATGTCTCCCTC',\n 'W143': 'AAGGGCCATAGTAGAGCCACTCCC',\n 'W144': 'GGGGGCGACCGTAATGTTACCTTC',\n 'W145': 'GGGAGCCACCGTAATGTTACCCTT',\n 'W146': 'GGGAGCGACAGGTATGTTACCTTT',\n 'W147': 'GGGAGCGGTATGTATGTTTCCTTT',\n 'W148': 'GGGAACGATCGTAATGTTTCCTTT',\n 'W149': 'GGGAGCCGTATTAATGTTACCTTT',\n 'W150': 'GGGAGCGGTAGTAATGTTACCTTT',\n 'W151': 'GGGAGCGGTATTAATGTTACCTTT',\n 'W152': 'GGGAGCGGTATTAATGCTACCTTT',\n 'W153': 'GAGAGCGGTATGTATGTTACCTTT',\n 'W154': 'GGGAGCGGTATGAATGTTTCCTTT',\n 'W155': 'GGAAGCGGTAGGTATGTTTACTTT',\n 'W156': 'GGGAGCGATCGTAATGTTAACTTT',\n 'W157': 'GGGAGCCATAGGAATGTTACCTTT',\n 'W158': 'GAAAGCCGTATGTATGTTAACCTT',\n 'W159': 'GGGAGCGGTAGGTATACCACCTTT',\n 'W160': 'GAAAGCCATAGGAGTGTTAACCTT',\n 'W161': 'GGGAGCGGTAGGTATGTTACCTTT',\n 'W162': 'GAAAGCCATAGGAGTACCAACCTT',\n 'W163': 'GGGAGCCGTAGTTATGTTACCTTT',\n 'W164': 'GGGAGCGATCGTAATGTTACCTTT',\n 'W165': 'GGGGGCCGTATGAATGTTACCTTT',\n 'W166': 'GGGAGCGGTATGTATGTTACCTTT',\n 'W167': 'GGGAGCGGTATGTATGTTACCTTT',\n 'W168': 'GGGAGCGGTATGTATGTTACCTTT',\n 'W169': 'GGGGGCGGTATTAATGTTACCTTT',\n 'W170': 'GGGAGCGGTATTAATGTTACCTTT',\n 'W171': 'GGGAGCGGTATGTATGTTACCCTT',\n 'W172': 'GGGAGCGGTATGAATGTTTCCTTT',\n 'W173': 'AGGAGCCATAGGAATACCACCCTT',\n 'W174': 'GGGAGCGGTATTAATGTTACCTTT',\n 'W175': 'GGGGGCGATAGTAATGTTAACCTT',\n 'W176': 'GGGAGCGGTATGTATGTTACCTTT',\n 'W177': 'GGGAGCGGTATGTATGTTACCTTT',\n 'W178': 'GGGGGCCACCGGTATGTTACCTTT',\n 'W179': 'GGGAGCGGTATTAATGTTACCTTT',\n 'W180': 'GGGAGCGGTATTAATGTTACCTTT',\n 'W181': 'GGGAGCGGTATTAGTGTTTCCTTT',\n 'W182': 'GGGAGCGGTATGTATGTTACCTTT',\n 'W183': 'GGGAGCGGTATTAATGTTACCTTT',\n 'W184': 'GGGAGCGGTATGTATGTTACCTTT',\n 'W185': 'GGGGGCGGTATTAATGTTACCTTT',\n 'W186': 'GGGAGCCGTATGTATGTTACCTTT',\n 'W187': 'GGGGGCCGTATGAATGTTACCTTT',\n 'W188': 'AGGAGCGGTATGTATGTTACCTTC',\n 'W189': 'GGGGGCGGTAGTAATGTTACCTTT',\n 'W191': 'GGGGGCCGTATGAATGTTTCCTTC',\n 'W192': 'GGGGGCCGTATGAATGTTTCCTTC',\n 'W193': 'GAAAGCCATAGGTGAGCCAACCTT',\n 'W194': 'GGGAGCGATCGGTATGTTTCCTTT',\n 'W195': 'GGGAGCGGTATGTATGTTACCTTT',\n 'W197': 'GGGAGCGGTATGAATGTTACCTTT',\n 'W198': 'GGGGACGACAGTAATGTTACCTTC',\n 'W199': 'GGGAGCGGTATTAATGTTACCTTC',\n 'W200': 'GGGAACGGTATTAATGTTACCTTT',\n 'W201': 'GGGAGCGGTATGAATGTTACCTTT',\n 'W202': 'GGGAGCGGTAGGTATGTTACCTTT',\n 'W203': 'GGGGGCCACCGTAATGTTTCCTTT',\n 'W204': 'GGGGACCACCGTAATGTTACCTTT',\n 'W205': 'GGGGACCACCGTAATGTTACCTTT',\n 'W206': 'GGGAGCGGTATTAATGTTACCTTC',\n 'W207': 'GAAAGCCATAGGTGTGTTACTCTT',\n 'W208': 'GGGGGCCGTATGTAAGTTAACTTT',\n 'W209': 'GAAAGCCATAGGTGTGTTAACCTT',\n 'W210': 'GGGGACCACAGTAATGTTACCTCT',\n 'W211': 'GGGAGCGGTATGTATGTTACCTTT',\n 'W212': 'GGGGACCACAGTAATGTTACCTTC',\n 'W213': 'GGGAGCGATAGGTATGTTACCTTT',\n 'W214': 'GGGGGCCACCGGAATGTCTCCCTC',\n 'W215': 'GGGGGCCACCGTAATGTCTCCCTC',\n 'W216': 'GGGAGCGGTATGTATGTTACCTTT',\n 'W217': 'GGGGGCCATAGGAATGCTACCTTT',\n 'W218': 'GGGGGCCATAGGTATGCTACCTTT',\n 'W219': 'GGGGGCCACCGGTGTGCCTCCCCC',\n 'W220': 'GGGGGCCACCGTAATGTCTCCCCC',\n 'W221': 'GGGAGCCACCGGAATGTTACCTTT',\n 'W222': 'GGGAGCGGTATTAATGTTACCTTT',\n 'W223': 'GGGAGCGGTATTAATGTTACCTCT',\n 'W224': 'GGGAGCGGTATTAATGTTACCTTT',\n 'W225': 'GAGGGCGGTATGAATGCCAACTTT',\n 'W226': 'GAAAGCCATAGGTGTGCCAACTTT',\n 'W227': 'GGGAGCGGTATGTATGTTACCTTT',\n 'W228': 'GGGAGCGGTATTAATGTTACCTTT',\n 'W229': 'GGGAGCGGTATTAATGTTACCTTT',\n 'W230': 'GGGAGCGGTATTAATGTTACCTTT',\n 'W231': 'GGGAGCGGTATGTGTGTTACCTTT',\n 'W233': 'GGGAGCCGTATTAATGTTACCTTT',\n 'W234': 'GGGAGCCGTATGTATGTTACCTTT',\n 'W235': 'GGGGATCACAGTAATGTTTCCTTC',\n 'W236': 'GGGAGCGGTATTAATGCCACCTTT',\n 'W237': 'GGGGGCGGTATGAATGTTACCTTT',\n 'W238': 'GGGAGCGGTATGAATGTTACCTTT',\n 'W239': 'GGGAGCGGTATGTATGTTACCTTC',\n 'W240': 'GGGAGCCGTAGTAATGTTACCCTT',\n 'W241': 'GGGAGCGACCGGTATGTTTCCTTT',\n 'W242': 'GGGAGCGGTATGTATGTTACCTTT',\n 'W243': 'GGGAGCGGTATGTATGCCACCTTT',\n 'W244': 'GGGAGCGGTATTAATGCCACCTTT',\n 'W245': 'GGGAGCGATAGTAATGTTAACTTT',\n 'W246': 'GGGGACCATCTTAATGTTACCTTC',\n 'W247': 'GGGGACCACAGTAATGTTACCTCT',\n 'W248': 'GGGGGCCATCGTAATGTTACCTTT',\n 'W249': 'GAAAGCCATAGGTGAACCAACCTT',\n 'W250': 'GAAAGCCATAGGTGAACCAACCTT',\n 'W251': 'AGGGGCCATAGGTAAACCAACTTT',\n 'W252': 'GGGGGCCACCGGTATACCTCCCCC',\n 'W253': 'GGGGGCCATAGGTAAGCCAACTTT',\n 'W254': 'GGGGGCCATAGGTGAGCCAACTTT',\n 'W255': 'GGGGGCCACCGGTGTGCCTCCCCC',\n 'W256': 'GGGGGCCACCGGTATGTCACCCCC',\n 'W257': 'AGGGGCGATAGGTAAGCCAACTTT',\n 'W258': 'GGGGGCCACCGTAATACCACCCCC',\n 'W259': 'GGGAGCGGTATTAATGCCACCTTT',\n 'W260': 'AAGGGCCATAGGTATGCCAACTTC',\n 'W261': 'GGGGGCCATAGTAATGTCTACCCC',\n 'W262': 'GGGAGCGGTAGGTATGTCACCTTT',\n 'W263': 'GGGAGCGATATTAATGTTACCTTT',\n 'W264': 'GGGAGCGGTATTAATGTTACCTTT',\n 'W265': 'GGGAGCGATATTAATGTTACCTTT',\n 'W266': 'GGGGGCGATCGTAATGTTACCTTC',\n 'W267': 'GGGAGCCGTATGTATGTTACCTTT',\n 'W268': 'GGGAGCGGTAGTAATGTTACCTTT',\n 'W269': 'GGGAGCGGTATTAATGTTACCTTC',\n 'W270': 'GGGGACGGTATTAATGTTACCTTC',\n 'W271': 'GGGAGCGGTATTAATGTTACCTTT',\n 'W272': 'GGGGACCACCGTAATGTTTCCTTC',\n 'W273': 'AGGGGCCATAGGTAAGCCAACTTC',\n 'W274': 'GGGAGCGGTATTAATGTTTCCTTT',\n 'W275': 'GGGGGCCATAGGTAAGCCAACTTT',\n 'W276': 'GGGAGCGATCGTAATGTCACCTTT',\n 'W277': 'GGGGGCCACAGTAATGTCTCCCCC',\n 'W278': 'GGGGGCCACCGGAATGTCTCCCCC',\n 'W279': 'GGGGGCCACCGGTATGTCTCCCCC',\n 'W280': 'GGGGGCCACCGTAATGTCTCCCTC',\n 'W281': 'AAGAGCCATAGGTGTGTTAACCTT',\n 'W282': 'GGGAGCCACCGGAATGTTACCTTC',\n 'W283': 'GAAAGCCATAGGTGTACCAACCTT',\n 'W284': 'GAGGGCCATAGTAAAGCCAACTTC',\n 'W285': 'GAGGGCCATAGTAAAGCCAACTTT',\n 'W286': 'GGGGGCCACCGGAATGTCTCCCTC',\n 'W287': 'GGGGGCCACCGGTATGTCTCCCTC',\n 'W288': 'AAGGGCCATAGGTAAGCCAACTTC',\n 'W289': 'GGGAGCGGTATGAATGTTACCTTT',\n 'W290': 'GAGAGCCATAGGTATGTTAACCCT',\n 'W291': 'GGGAGCGGTATTAATGTTTCCTTT',\n 'W292': 'GGGGGCCACCGGAATGTTTCCCTC',\n 'W293': 'GGGAGCGGTATTTATGTTACCTTT',\n 'W294': 'GGGGGCCGTATTAATGCCAACTTT',\n 'W295': 'GGGAGCGGTATTAATGTTACCTTT',\n 'W296': 'GGGGGCCACCGTAATGTCTCCCTC',\n 'W297': 'GGGGGCCACCGTAATGTCTCCCTC',\n 'W298': 'GGGAGCGGTATTAATGTTTCCTTT',\n 'W299': 'GGGAGCGGTATGTATGTTTCCTTT',\n 'W300': 'GAGGGCCATAGTAGTGCCAACTTT',\n 'W301': 'GGGAGCGGTATGTATGTTACCTTT',\n 'W302': 'AGGGGCCATAGGTATGCCAACCTT',\n 'W303': 'GGGGGCCATAGGTAAGCCAACTTT',\n 'W304': 'GGGGGCCATAGGTATGTTTACTTT',\n 'W305': 'GAAAGCCATAGGTGTACCAACCTT',\n 'W306': 'GGGAGCGGTATGTATGTCTCCCCC',\n 'W307': 'GGGAGCGGTATTAATGTTACCTTT',\n 'W308': 'GGGAGCGGTATTAATGTTACCTTT',\n 'W309': 'GGGAGCGGTATTAATGTTACCTTT',\n 'W310': 'GGGAGCCACCGGTATGTTACCTTT',\n 'W311': 'GGGAGCGGTATGTATGTTACCTTT',\n 'W312': 'GGGAGCGGTATTAATGTTACCTTT',\n 'W313': 'GGGAGCGGTATTTATGTTACCCTT',\n 'W314': 'GGGGGCCACCGGTATGTTACCTTC',\n 'W315': 'GGGAGCGGTATTAATGTTACCTTT',\n 'W316': 'GGGAGCGGTATGTATGTTACCTTT',\n 'W317': 'GGGAGCGGTATTAATGTTACCTTT',\n 'W318': 'GGGGGCGATCGGTATGTTACCTTT',\n 'W319': 'AGGGGCCATAGGTAAGTTACTCCC',\n 'W320': 'GGGGACCACAGTAATGTTTCCTTC',\n 'W321': 'GGGAGCGGTATGTATGTTTCCTTT',\n 'W322': 'GGGAGCCGTATGAATGTTACCTTT',\n 'W323': 'GAAAGCCATAGGTATACCAACCTC',\n 'W324': 'GAGAGCCATAGGTATACCAACCTC',\n 'W325': 'AAGGGCCATAGGTGAGTTAACCTC',\n 'W326': 'GAGAGCCATAGGTGTACCAACCTC',\n 'W327': 'GAAAGCCATAGGTGTGTTAACCTC',\n 'W328': 'GAAAGCCATAGGTATACCACCCTT',\n 'W329': 'AGGGGCCATAGGTATGCCAACTTC',\n 'W330': 'GGGGGCCACCGTAATGTCTCCCCC'}"
     },
     "execution_count": 38,
     "metadata": {},
     "output_type": "execute_result"
    }
   ],
   "source": [
    "sequences"
   ],
   "metadata": {
    "collapsed": false,
    "ExecuteTime": {
     "end_time": "2023-05-09T02:13:18.580379Z",
     "start_time": "2023-05-09T02:13:18.565293Z"
    }
   }
  },
  {
   "cell_type": "code",
   "execution_count": 127,
   "outputs": [
    {
     "name": "stdout",
     "output_type": "stream",
     "text": [
      "{'C001': [0, 0, 0, 0, 0, 0, 0, 0, 0, 0, 0, 0, 0, 0, 0, 0, 0, 0, 0, 1, 0, 0, 0, 0], 'C002': [0, 0, 0, 0, 0, 0, 0, 0, 0, 0, 0, 0, 0, 0, 0, 0, 0, 0, 0, 0, 0, 0, 0, 0], 'C003': [0, 0, 0, 0, 0, 0, 0, 0, 0, 0, 0, 0, 0, 0, 0, 0, 0, 0, 0, 0, 0, 0, 0, 0], 'C004': [0, 0, 0, 0, 0, 0, 0, 0, 0, 0, 0, 0, 0, 0, 0, 0, 0, 0, 0, 0, 0, 2, 0, 0], 'C005': [0, 0, 0, 0, 0, 0, 0, 0, 0, 0, 0, 0, 0, 0, 0, 0, 0, 0, 0, 0, 0, 0, 0, 0], 'C006': [0, 0, 0, 0, 0, 0, 0, 0, 0, 0, 0, 0, 0, 0, 0, 0, 0, 0, 1, 0, 0, 0, 0, 0], 'C007': [0, 0, 0, 0, 0, 0, 0, 0, 0, 0, 0, 0, 0, 0, 0, 0, 0, 0, 1, 0, 0, 0, 0, 0], 'C008': [0, 0, 0, 0, 0, 0, 0, 0, 0, 0, 0, 0, 0, 0, 0, 0, 0, 0, 0, 0, 0, 0, 0, 0], 'C009': [0, 0, 0, 0, 0, 0, 0, 0, 0, 0, 0, 0, 0, 0, 0, 0, 0, 0, 1, 0, 0, 0, 0, 0], 'C010': [0, 0, 0, 0, 0, 0, 0, 0, 0, 0, 0, 0, 0, 0, 0, 0, 0, 0, 0, 0, 0, 0, 0, 0], 'C011': [0, 0, 0, 0, 0, 0, 0, 0, 0, 0, 0, 0, 0, 0, 0, 0, 0, 0, 0, 0, 0, 0, 0, 0], 'C012': [0, 0, 0, 0, 0, 0, 0, 0, 0, 0, 0, 0, 0, 0, 0, 0, 0, 0, 0, 0, 0, 0, 0, 0], 'C013': [0, 0, 0, 0, 0, 0, 0, 0, 0, 0, 0, 0, 0, 0, 0, 0, 0, 1, 0, 0, 0, 0, 0, 0], 'C014': [0, 0, 0, 0, 0, 0, 0, 0, 0, 0, 0, 0, 0, 0, 0, 0, 0, 2, 0, 0, 0, 0, 0, 0], 'C015': [0, 0, 0, 0, 0, 0, 0, 0, 0, 0, 0, 0, 0, 0, 0, 0, 0, 1, 0, 0, 0, 0, 0, 0], 'C016': [0, 0, 0, 0, 0, 0, 0, 0, 0, 0, 0, 0, 0, 0, 0, 0, 0, 2, 0, 0, 0, 0, 0, 0], 'C017': [0, 0, 0, 2, 0, 0, 0, 0, 0, 0, 0, 0, 0, 0, 0, 0, 0, 0, 0, 0, 0, 0, 0, 0], 'C018': [0, 0, 0, 0, 0, 0, 0, 0, 0, 0, 0, 0, 0, 0, 0, 0, 0, 2, 0, 0, 0, 0, 0, 0], 'C019': [0, 0, 0, 0, 0, 0, 0, 0, 0, 0, 0, 0, 0, 0, 0, 0, 0, 0, 1, 0, 0, 0, 0, 0], 'C020': [0, 0, 0, 0, 0, 0, 0, 0, 0, 0, 0, 0, 0, 0, 0, 0, 0, 0, 1, 0, 0, 0, 0, 0], 'C021': [0, 0, 0, 0, 0, 0, 0, 0, 0, 0, 0, 0, 0, 0, 0, 0, 0, 0, 0, 0, 0, 0, 0, 0], 'C022': [0, 0, 0, 0, 0, 0, 0, 0, 0, 0, 0, 0, 0, 0, 0, 0, 0, 0, 0, 0, 0, 0, 0, 0], 'C023': [0, 0, 0, 0, 0, 0, 0, 0, 0, 0, 0, 0, 0, 0, 0, 0, 0, 2, 0, 0, 0, 0, 0, 0], 'C024': [0, 0, 0, 0, 0, 0, 0, 0, 0, 0, 0, 0, 0, 0, 0, 0, 0, 0, 1, 0, 0, 0, 0, 0], 'C025': [0, 0, 0, 0, 0, 0, 0, 0, 0, 0, 0, 0, 0, 0, 0, 0, 0, 0, 0, 0, 0, 0, 0, 0], 'C026': [0, 0, 0, 0, 0, 0, 0, 0, 0, 0, 0, 0, 0, 0, 0, 0, 0, 2, 0, 0, 0, 0, 0, 0], 'C027': [0, 0, 0, 0, 0, 0, 0, 0, 0, 0, 0, 0, 0, 0, 0, 0, 0, 0, 1, 0, 0, 0, 0, 0], 'C028': [0, 0, 0, 0, 0, 0, 0, 0, 0, 0, 0, 0, 0, 0, 0, 0, 0, 2, 0, 0, 0, 0, 0, 0], 'C029': [0, 0, 0, 0, 0, 0, 0, 0, 0, 0, 0, 0, 0, 0, 1, 0, 0, 0, 2, 0, 0, 0, 0, 0, 0], 'C030': [0, 0, 0, 0, 0, 0, 0, 0, 0, 0, 0, 0, 0, 0, 0, 0, 0, 0, 1, 0, 0, 0, 0, 0], 'C031': [0, 0, 0, 0, 0, 0, 0, 0, 0, 0, 0, 0, 0, 0, 0, 0, 0, 0, 1, 0, 0, 0, 0, 0], 'C032': [0, 0, 0, 0, 0, 0, 0, 0, 0, 0, 0, 0, 0, 0, 0, 2, 0, 0, 0, 0, 0, 0, 0, 0], 'C033': [0, 0, 0, 0, 0, 0, 0, 0, 0, 0, 0, 0, 0, 0, 0, 0, 0, 0, 1, 0, 0, 0, 0, 0], 'C034': [0, 0, 0, 0, 0, 0, 0, 0, 0, 0, 0, 0, 0, 0, 0, 0, 0, 0, 0, 0, 0, 0, 0, 0], 'C035': [0, 0, 0, 0, 0, 0, 0, 0, 0, 0, 0, 0, 0, 0, 0, 2, 0, 0, 0, 0, 0, 0, 0, 0], 'C036': [0, 0, 0, 0, 0, 0, 0, 0, 0, 0, 0, 0, 0, 0, 0, 0, 0, 0, 0, 1, 0, 0, 0, 0], 'C037': [0, 0, 0, 0, 0, 0, 0, 0, 0, 0, 0, 0, 0, 0, 0, 0, 0, 0, 1, 0, 0, 0, 0, 0], 'C038': [0, 0, 0, 0, 0, 0, 0, 0, 0, 0, 0, 0, 0, 0, 0, 0, 0, 0, 1, 1, 0, 0, 0, 0, 2], 'C039': [0, 0, 0, 0, 0, 0, 0, 0, 0, 0, 0, 0, 0, 0, 0, 0, 0, 0, 1, 0, 0, 0, 0, 0], 'C040': [0, 0, 0, 0, 0, 0, 0, 0, 0, 0, 0, 0, 0, 0, 0, 0, 0, 0, 0, 0, 0, 0, 0, 0], 'C041': [0, 0, 0, 0, 0, 0, 0, 0, 0, 0, 0, 0, 0, 0, 0, 0, 0, 0, 1, 0, 0, 0, 0, 0], 'C042': [0, 0, 0, 0, 0, 0, 0, 0, 0, 0, 0, 0, 0, 0, 0, 0, 0, 0, 1, 0, 0, 0, 0, 0], 'C043': [0, 0, 0, 0, 0, 0, 0, 0, 0, 0, 0, 0, 0, 0, 0, 0, 0, 0, 1, 0, 0, 0, 0, 0], 'C044': [0, 0, 0, 0, 0, 0, 0, 0, 0, 0, 0, 0, 0, 0, 0, 0, 0, 0, 1, 0, 0, 0, 0, 0], 'C045': [0, 0, 0, 0, 0, 0, 0, 0, 0, 0, 0, 0, 0, 0, 0, 0, 0, 0, 1, 0, 0, 0, 0, 0], 'C046': [0, 0, 0, 0, 0, 0, 0, 0, 0, 0, 0, 0, 0, 0, 0, 0, 0, 0, 1, 0, 0, 0, 0, 0], 'C047': [0, 0, 0, 0, 0, 0, 0, 0, 0, 0, 0, 0, 0, 0, 0, 0, 0, 0, 0, 1, 0, 0, 0, 0], 'C048': [0, 0, 0, 0, 0, 0, 0, 0, 0, 0, 0, 0, 0, 0, 0, 0, 0, 0, 0, 0, 0, 0, 0, 0], 'C049': [0, 0, 0, 0, 0, 0, 0, 0, 0, 0, 0, 0, 0, 0, 0, 0, 0, 0, 0, 0, 0, 0, 0, 0], 'C050': [0, 0, 0, 0, 0, 0, 0, 0, 0, 0, 0, 0, 0, 0, 0, 0, 0, 0, 0, 0, 0, 0, 0, 0], 'C051': [0, 0, 0, 0, 0, 0, 0, 0, 0, 0, 0, 0, 0, 0, 0, 0, 0, 0, 0, 0, 0, 0, 0, 0], 'C052': [0, 0, 0, 0, 0, 0, 0, 0, 0, 0, 0, 0, 0, 0, 0, 0, 0, 2, 0, 0, 0, 0, 0, 0], 'C053': [0, 0, 0, 0, 0, 0, 0, 0, 0, 0, 0, 0, 0, 0, 0, 0, 0, 0, 0, 0, 0, 0, 0, 0], 'C054': [0, 0, 0, 0, 0, 0, 0, 0, 0, 0, 0, 0, 0, 0, 0, 0, 0, 0, 0, 0, 0, 0, 0, 0], 'C055': [0, 0, 0, 0, 0, 0, 0, 0, 0, 0, 0, 0, 0, 0, 0, 0, 0, 0, 1, 0, 0, 0, 0, 0], 'C056': [0, 0, 0, 0, 0, 0, 0, 0, 0, 0, 0, 0, 0, 0, 0, 0, 0, 2, 0, 0, 0, 0, 0, 0], 'C057': [0, 0, 0, 2, 0, 0, 0, 0, 0, 0, 0, 0, 0, 0, 0, 0, 0, 0, 0, 0, 0, 0, 0, 0], 'C058': [0, 0, 0, 0, 0, 0, 0, 0, 0, 0, 0, 0, 0, 0, 0, 0, 0, 0, 1, 0, 0, 0, 0, 0], 'C059': [0, 0, 0, 0, 0, 0, 0, 0, 0, 0, 0, 0, 0, 0, 0, 0, 0, 0, 1, 0, 0, 0, 0, 0], 'C060': [0, 0, 0, 0, 0, 0, 0, 0, 0, 0, 0, 0, 0, 0, 0, 0, 0, 0, 1, 0, 0, 0, 0, 0], 'C061': [0, 0, 0, 0, 0, 0, 0, 0, 0, 0, 0, 0, 0, 0, 0, 0, 0, 0, 0, 0, 0, 0, 0, 0], 'C062': [0, 0, 0, 0, 0, 0, 0, 0, 0, 0, 0, 0, 0, 0, 0, 0, 0, 0, 0, 0, 0, 0, 0, 0], 'C063': [0, 0, 0, 0, 0, 0, 0, 0, 0, 0, 0, 0, 0, 0, 0, 0, 0, 2, 0, 0, 0, 0, 0, 0], 'C064': [0, 0, 0, 0, 0, 0, 0, 0, 0, 0, 0, 0, 0, 0, 0, 0, 0, 0, 0, 0, 0, 0, 0, 0], 'C065': [0, 0, 0, 0, 0, 0, 0, 0, 0, 0, 0, 0, 0, 0, 0, 0, 0, 0, 0, 0, 0, 0, 0, 0], 'C066': [0, 0, 0, 0, 0, 0, 0, 0, 0, 0, 0, 0, 0, 0, 0, 0, 0, 0, 0, 0, 0, 0, 0, 0], 'C067': [0, 0, 0, 0, 0, 0, 0, 0, 0, 0, 0, 0, 0, 0, 0, 0, 0, 0, 1, 0, 0, 0, 0, 0], 'C068': [0, 0, 0, 0, 0, 0, 0, 0, 0, 0, 0, 0, 0, 0, 0, 0, 0, 0, 1, 0, 0, 0, 0, 0], 'C069': [0, 0, 0, 0, 0, 0, 0, 0, 0, 0, 0, 0, 0, 0, 0, 0, 0, 0, 0, 0, 0, 0, 0, 0], 'C070': [0, 0, 0, 0, 0, 0, 0, 0, 0, 0, 0, 0, 0, 0, 0, 0, 0, 2, 0, 0, 0, 0, 0, 0], 'C071': [0, 0, 0, 0, 0, 0, 0, 0, 0, 0, 0, 0, 0, 0, 0, 0, 0, 0, 1, 0, 0, 0, 0, 0], 'C072': [0, 0, 0, 0, 0, 0, 0, 0, 0, 0, 0, 0, 0, 0, 0, 0, 0, 0, 0, 1, 0, 0, 0, 0], 'C073': [0, 0, 0, 0, 0, 0, 0, 0, 0, 0, 0, 0, 0, 0, 0, 0, 0, 0, 0, 1, 0, 0, 0, 0], 'C074': [0, 0, 0, 0, 0, 0, 0, 0, 0, 0, 0, 0, 0, 0, 0, 0, 0, 2, 0, 0, 0, 0, 0, 0], 'C075': [0, 0, 0, 0, 0, 0, 0, 0, 0, 0, 0, 0, 0, 0, 0, 0, 0, 0, 1, 0, 0, 0, 0, 0], 'C076': [0, 0, 0, 0, 0, 0, 0, 0, 0, 0, 0, 0, 0, 0, 0, 0, 0, 0, 1, 0, 0, 0, 0, 0], 'C077': [0, 0, 0, 0, 0, 0, 0, 0, 0, 0, 0, 0, 0, 0, 0, 0, 0, 0, 1, 0, 0, 0, 0, 0], 'C078': [0, 0, 0, 0, 0, 0, 0, 0, 0, 0, 0, 0, 0, 0, 0, 0, 0, 0, 0, 1, 0, 0, 0, 0], 'C079': [0, 0, 0, 0, 0, 0, 0, 0, 0, 0, 0, 0, 0, 0, 0, 0, 0, 0, 0, 0, 1, 0, 0, 0], 'C080': [0, 0, 0, 0, 0, 0, 0, 0, 0, 0, 0, 0, 0, 0, 0, 0, 0, 0, 0, 1, 0, 0, 0, 0], 'C081': [0, 0, 0, 0, 0, 0, 0, 0, 0, 0, 0, 0, 0, 0, 0, 0, 0, 0, 1, 0, 0, 0, 0, 0], 'C082': [0, 0, 0, 0, 0, 0, 0, 0, 0, 0, 0, 0, 0, 0, 0, 0, 0, 0, 1, 0, 0, 0, 0, 0], 'C083': [0, 0, 0, 0, 0, 0, 0, 0, 0, 0, 0, 0, 0, 0, 0, 0, 0, 0, 0, 0, 1, 0, 0, 0], 'C084': [0, 0, 0, 0, 0, 0, 0, 0, 0, 0, 0, 0, 0, 0, 0, 0, 0, 2, 0, 0, 0, 0, 0, 0], 'C085': [0, 0, 0, 0, 0, 0, 0, 0, 0, 0, 0, 0, 0, 0, 0, 0, 0, 2, 0, 0, 0, 0, 0, 0], 'C086': [0, 0, 0, 0, 0, 0, 0, 0, 0, 0, 0, 0, 0, 0, 0, 0, 0, 1, 0, 0, 0, 0, 0, 0], 'C087': [0, 0, 0, 0, 0, 0, 0, 0, 0, 0, 0, 0, 0, 0, 0, 0, 0, 0, 0, 0, 0, 0, 0, 0], 'C088': [0, 0, 0, 0, 0, 0, 0, 0, 0, 0, 0, 0, 0, 0, 0, 0, 0, 0, 0, 1, 0, 0, 0, 0], 'C089': [0, 0, 0, 0, 0, 0, 0, 0, 0, 0, 0, 0, 0, 0, 0, 0, 0, 0, 1, 0, 0, 0, 0, 0], 'C090': [0, 0, 0, 0, 0, 0, 0, 0, 0, 0, 0, 0, 0, 0, 0, 0, 0, 0, 1, 0, 0, 0, 0, 0], 'C091': [0, 0, 0, 0, 0, 0, 0, 0, 0, 0, 0, 0, 0, 0, 0, 0, 0, 0, 1, 0, 0, 0, 0, 0], 'C092': [0, 0, 0, 0, 0, 0, 0, 0, 0, 0, 0, 0, 0, 0, 0, 0, 0, 0, 1, 0, 0, 0, 0, 0], 'C093': [0, 0, 0, 0, 0, 0, 0, 0, 0, 0, 0, 0, 0, 0, 0, 0, 0, 0, 0, 0, 0, 0, 0, 0], 'C094': [0, 0, 0, 0, 0, 0, 2, 0, 0, 0, 0, 0, 0, 0, 0, 0, 0, 0, 0, 0, 0, 0, 0, 0], 'C095': [0, 0, 0, 0, 0, 0, 0, 0, 0, 0, 0, 0, 0, 0, 0, 0, 0, 0, 0, 0, 0, 0, 0, 0], 'C096': [0, 0, 0, 0, 0, 0, 0, 0, 0, 0, 0, 0, 0, 0, 0, 0, 0, 0, 0, 1, 0, 0, 0, 0], 'C097': [0, 0, 0, 0, 0, 0, 0, 0, 0, 0, 0, 0, 0, 0, 0, 0, 0, 0, 0, 1, 0, 0, 0, 0], 'C098': [0, 0, 0, 0, 0, 0, 0, 0, 0, 0, 0, 0, 0, 0, 0, 0, 0, 0, 1, 0, 0, 0, 0, 0], 'C099': [0, 0, 0, 0, 0, 0, 0, 0, 0, 0, 0, 0, 0, 0, 0, 0, 0, 0, 0, 0, 0, 0, 0, 0], 'C100': [0, 0, 0, 0, 0, 0, 0, 0, 0, 0, 0, 0, 0, 0, 0, 0, 0, 0, 0, 1, 0, 0, 0, 0], 'C101': [0, 0, 0, 0, 0, 0, 0, 0, 0, 0, 0, 0, 0, 0, 0, 0, 0, 0, 0, 0, 1, 0, 0, 0], 'C102': [0, 0, 0, 0, 0, 0, 0, 0, 0, 0, 0, 0, 0, 0, 0, 0, 0, 0, 0, 0, 0, 0, 0, 0], 'C103': [0, 0, 0, 0, 0, 0, 0, 0, 0, 0, 0, 0, 0, 0, 0, 0, 0, 0, 0, 0, 1, 0, 0, 0], 'C104': [0, 0, 0, 0, 0, 0, 0, 0, 0, 0, 0, 0, 0, 0, 0, 0, 0, 0, 0, 1, 0, 0, 0, 0], 'C105': [0, 0, 0, 0, 0, 0, 0, 0, 0, 0, 0, 0, 0, 0, 0, 0, 0, 1, 0, 0, 0, 0, 0, 0], 'C106': [0, 0, 0, 0, 0, 0, 0, 0, 0, 0, 0, 0, 0, 0, 0, 0, 0, 0, 0, 0, 1, 0, 0, 0], 'C107': [0, 0, 0, 0, 0, 0, 0, 0, 0, 0, 0, 0, 0, 0, 0, 0, 0, 0, 0, 1, 0, 0, 0, 0], 'C108': [0, 0, 0, 0, 0, 0, 0, 0, 0, 0, 0, 0, 0, 0, 0, 0, 0, 0, 0, 1, 0, 0, 0, 0], 'C109': [0, 0, 0, 0, 0, 0, 0, 0, 0, 0, 0, 0, 0, 0, 0, 0, 0, 0, 0, 1, 0, 0, 0, 0], 'C110': [0, 0, 0, 0, 0, 0, 0, 0, 0, 0, 0, 0, 0, 0, 0, 0, 0, 0, 1, 0, 0, 0, 0, 0], 'C111': [0, 0, 0, 0, 0, 0, 0, 0, 0, 0, 0, 0, 0, 0, 0, 0, 0, 2, 0, 0, 0, 0, 0, 0], 'C112': [0, 0, 0, 0, 0, 0, 0, 0, 0, 0, 0, 0, 0, 0, 0, 0, 0, 0, 1, 0, 0, 0, 0, 0], 'C113': [0, 0, 0, 0, 0, 0, 0, 0, 0, 0, 0, 0, 0, 0, 0, 0, 0, 0, 1, 0, 0, 0, 0, 0], 'C114': [0, 0, 0, 0, 0, 0, 0, 0, 0, 0, 0, 0, 0, 0, 0, 0, 0, 0, 1, 0, 0, 0, 0, 0], 'C115': [0, 0, 0, 0, 0, 0, 0, 0, 0, 0, 0, 0, 0, 0, 0, 0, 0, 0, 1, 0, 0, 0, 0, 0], 'C116': [0, 0, 0, 0, 0, 0, 0, 0, 0, 0, 0, 0, 0, 0, 0, 0, 0, 2, 0, 0, 0, 0, 0, 0], 'C117': [0, 0, 0, 0, 0, 0, 0, 0, 0, 0, 0, 0, 0, 0, 0, 0, 0, 0, 1, 0, 0, 0, 0, 0], 'C118': [0, 0, 0, 0, 0, 0, 0, 0, 0, 0, 0, 0, 0, 0, 0, 0, 0, 0, 0, 0, 0, 0, 1, 0], 'C119': [0, 0, 0, 0, 0, 0, 0, 0, 0, 0, 0, 0, 0, 0, 0, 0, 0, 0, 0, 0, 0, 0, 0, 0], 'C120': [0, 0, 0, 0, 0, 0, 0, 0, 0, 0, 0, 0, 0, 0, 0, 0, 0, 2, 0, 0, 0, 0, 0, 0], 'C121': [0, 0, 0, 0, 0, 0, 0, 0, 0, 0, 0, 0, 0, 0, 0, 0, 0, 0, 0, 1, 0, 0, 0, 0], 'C122': [0, 0, 0, 0, 0, 0, 0, 0, 0, 0, 0, 0, 0, 0, 0, 0, 0, 0, 1, 0, 0, 0, 0, 0], 'C123': [0, 0, 0, 0, 0, 0, 0, 0, 0, 0, 0, 0, 0, 0, 0, 0, 0, 0, 0, 0, 0, 0, 0, 0], 'C124': [0, 0, 0, 0, 0, 0, 0, 0, 0, 0, 0, 0, 0, 0, 0, 0, 0, 0, 1, 0, 0, 0, 0, 0], 'C125': [0, 0, 0, 0, 0, 0, 0, 0, 0, 0, 0, 0, 0, 0, 0, 0, 0, 0, 0, 0, 0, 0, 0, 0], 'C127': [0, 0, 0, 0, 0, 0, 0, 0, 0, 0, 0, 0, 0, 0, 0, 0, 0, 0, 1, 0, 0, 0, 0, 0], 'C128': [0, 0, 0, 0, 0, 0, 0, 0, 0, 0, 0, 0, 0, 0, 0, 0, 0, 0, 0, 1, 0, 0, 0, 0], 'C129': [0, 0, 0, 0, 0, 0, 0, 0, 0, 0, 0, 0, 0, 0, 0, 0, 0, 0, 0, 1, 0, 0, 0, 0], 'C130': [0, 0, 0, 0, 0, 0, 0, 0, 0, 0, 0, 0, 0, 0, 0, 0, 0, 0, 0, 0, 0, 0, 0, 0], 'C131': [0, 0, 0, 0, 0, 0, 0, 0, 0, 0, 0, 0, 0, 0, 0, 0, 0, 0, 1, 0, 0, 0, 0, 0], 'C132': [0, 0, 0, 0, 0, 0, 0, 0, 0, 0, 0, 0, 0, 0, 0, 0, 0, 0, 1, 0, 0, 0, 0, 0], 'C133': [0, 0, 0, 0, 0, 0, 0, 0, 0, 0, 0, 0, 0, 0, 0, 0, 0, 0, 0, 0, 1, 0, 0, 0], 'C134': [0, 0, 0, 0, 0, 0, 0, 0, 0, 0, 0, 0, 0, 0, 0, 0, 0, 0, 0, 0, 1, 0, 0, 0], 'C135': [0, 0, 0, 0, 0, 0, 0, 0, 0, 0, 0, 0, 0, 0, 0, 0, 0, 0, 0, 1, 0, 0, 0, 0], 'C136': [0, 0, 0, 0, 0, 0, 0, 0, 0, 0, 0, 0, 0, 0, 0, 0, 0, 0, 0, 1, 0, 0, 0, 0], 'C137': [0, 0, 0, 0, 0, 0, 0, 0, 0, 0, 0, 0, 0, 0, 0, 0, 0, 2, 0, 0, 0, 0, 0, 0], 'C138': [0, 0, 0, 0, 0, 0, 0, 0, 0, 0, 0, 0, 0, 0, 0, 0, 0, 0, 0, 0, 0, 2, 0, 0], 'C139': [0, 0, 0, 0, 0, 0, 0, 0, 0, 0, 0, 0, 0, 0, 0, 0, 0, 1, 0, 0, 0, 0, 0, 0], 'C140': [0, 0, 0, 0, 0, 0, 0, 0, 0, 0, 0, 0, 0, 0, 0, 0, 0, 0, 1, 0, 0, 0, 0, 0], 'C141': [0, 0, 0, 0, 0, 0, 0, 0, 0, 0, 0, 0, 0, 0, 0, 0, 0, 0, 0, 1, 0, 0, 0, 0], 'C142': [0, 0, 0, 0, 0, 0, 0, 0, 0, 0, 0, 0, 0, 0, 0, 0, 0, 0, 0, 1, 0, 0, 0, 0], 'C143': [0, 0, 0, 0, 0, 0, 0, 0, 0, 0, 0, 0, 0, 0, 0, 0, 0, 0, 0, 0, 0, 0, 0, 0], 'C144': [0, 0, 0, 0, 0, 0, 0, 0, 0, 0, 0, 0, 0, 0, 0, 0, 0, 0, 0, 0, 1, 0, 0, 0], 'C145': [0, 0, 0, 0, 0, 0, 0, 0, 0, 0, 0, 0, 0, 0, 0, 0, 0, 0, 1, 0, 0, 0, 0, 0], 'C146': [0, 0, 0, 0, 0, 0, 0, 0, 0, 0, 0, 0, 0, 0, 0, 0, 0, 2, 0, 0, 0, 0, 0, 0], 'C147': [0, 0, 0, 0, 0, 0, 0, 0, 0, 0, 0, 0, 0, 0, 0, 0, 0, 0, 0, 0, 0, 0, 0, 0], 'C148': [0, 0, 0, 0, 0, 0, 0, 0, 0, 0, 0, 0, 0, 0, 0, 0, 0, 0, 1, 0, 0, 0, 0, 0], 'C149': [0, 0, 0, 0, 0, 0, 0, 0, 0, 0, 0, 0, 0, 0, 0, 0, 0, 2, 0, 0, 0, 0, 0, 0], 'C150': [0, 0, 0, 0, 0, 0, 0, 0, 0, 0, 0, 0, 0, 0, 0, 0, 0, 2, 0, 0, 0, 0, 0, 0], 'C151': [0, 0, 0, 0, 0, 0, 0, 0, 0, 0, 0, 0, 0, 0, 0, 0, 0, 0, 1, 0, 0, 0, 0, 0], 'C152': [0, 0, 0, 0, 0, 0, 0, 0, 0, 0, 0, 0, 0, 0, 0, 0, 0, 2, 0, 0, 0, 0, 0, 0], 'C153': [0, 0, 0, 0, 0, 0, 0, 0, 0, 0, 0, 0, 0, 0, 0, 0, 0, 0, 0, 0, 0, 0, 0, 0], 'C154': [0, 0, 0, 0, 0, 0, 0, 0, 0, 0, 0, 0, 0, 0, 0, 0, 0, 2, 0, 0, 0, 0, 0, 0], 'C155': [0, 0, 0, 0, 0, 0, 0, 0, 0, 0, 0, 0, 0, 0, 0, 0, 0, 0, 1, 0, 0, 0, 0, 0], 'C156': [0, 0, 0, 0, 0, 0, 0, 0, 0, 0, 0, 0, 0, 0, 0, 0, 0, 0, 1, 0, 0, 0, 0, 0], 'C157': [0, 0, 0, 0, 0, 0, 0, 0, 0, 0, 0, 0, 0, 0, 0, 0, 0, 0, 0, 0, 0, 0, 0, 0], 'C158': [0, 0, 0, 0, 0, 0, 0, 0, 0, 0, 0, 0, 0, 0, 0, 0, 0, 0, 1, 0, 0, 0, 0, 0], 'C159': [0, 0, 0, 0, 0, 0, 0, 0, 0, 0, 0, 0, 0, 0, 0, 0, 0, 0, 1, 0, 0, 0, 0, 0], 'C160': [0, 0, 0, 0, 0, 0, 0, 0, 0, 0, 0, 0, 0, 0, 0, 0, 0, 0, 0, 0, 0, 0, 0, 0], 'C161': [0, 0, 0, 0, 0, 0, 0, 0, 0, 0, 0, 0, 0, 0, 0, 0, 0, 0, 1, 0, 0, 0, 0, 0], 'C162': [0, 0, 0, 0, 0, 0, 0, 0, 0, 0, 0, 0, 0, 0, 0, 0, 0, 0, 0, 1, 0, 0, 0, 0], 'C163': [0, 0, 0, 0, 0, 0, 0, 0, 0, 0, 0, 0, 0, 0, 0, 0, 0, 0, 0, 0, 0, 0, 0, 0], 'C164': [0, 0, 0, 0, 0, 0, 0, 0, 0, 0, 0, 0, 0, 0, 0, 0, 0, 0, 1, 0, 0, 0, 0, 0], 'C165': [0, 0, 0, 0, 0, 0, 0, 0, 0, 0, 0, 0, 0, 0, 0, 0, 0, 0, 1, 0, 0, 0, 0, 0], 'C166': [0, 0, 0, 0, 0, 0, 0, 0, 0, 0, 0, 0, 0, 0, 0, 0, 0, 0, 1, 0, 0, 0, 0, 0], 'C167': [0, 0, 0, 0, 0, 0, 0, 0, 0, 0, 0, 0, 0, 0, 0, 0, 0, 0, 1, 0, 0, 0, 0, 0], 'C168': [0, 0, 0, 0, 0, 0, 0, 0, 0, 0, 0, 0, 0, 0, 0, 0, 0, 0, 1, 0, 0, 0, 0, 0], 'C169': [0, 0, 0, 0, 0, 0, 0, 0, 0, 0, 0, 0, 0, 0, 0, 0, 0, 0, 1, 0, 0, 0, 0, 0], 'C170': [0, 0, 0, 0, 0, 0, 0, 0, 0, 0, 0, 0, 0, 0, 0, 0, 0, 0, 1, 0, 0, 0, 0, 0], 'C171': [0, 0, 0, 0, 0, 0, 0, 0, 0, 0, 0, 0, 0, 0, 0, 0, 0, 0, 0, 0, 0, 0, 0, 0], 'C172': [0, 0, 0, 0, 0, 0, 0, 0, 0, 0, 0, 0, 0, 0, 0, 0, 0, 2, 0, 0, 0, 0, 0, 0], 'C173': [0, 0, 0, 0, 0, 0, 0, 0, 0, 0, 0, 0, 0, 0, 0, 0, 0, 0, 0, 1, 0, 0, 0, 0], 'C174': [0, 0, 0, 0, 0, 0, 0, 0, 0, 0, 0, 0, 0, 0, 0, 0, 0, 0, 1, 0, 0, 0, 0, 0], 'C175': [0, 0, 0, 0, 0, 0, 0, 0, 0, 0, 0, 0, 0, 0, 0, 0, 0, 0, 0, 1, 0, 0, 0, 0], 'C176': [0, 0, 0, 0, 0, 0, 0, 0, 0, 0, 0, 0, 0, 0, 0, 0, 0, 0, 0, 0, 0, 0, 0, 0], 'C177': [0, 0, 0, 2, 0, 0, 0, 0, 0, 0, 0, 0, 0, 0, 0, 0, 0, 0, 0, 0, 0, 0, 0, 0], 'C178': [0, 0, 0, 0, 0, 0, 0, 0, 0, 0, 0, 0, 0, 0, 0, 0, 0, 0, 0, 0, 0, 0, 0, 0], 'C179': [0, 0, 0, 0, 0, 0, 0, 0, 0, 0, 0, 0, 0, 0, 0, 0, 0, 0, 0, 0, 2, 0, 0, 0], 'C180': [0, 0, 0, 0, 0, 0, 0, 0, 0, 0, 0, 0, 0, 0, 0, 0, 0, 0, 0, 1, 0, 0, 0, 0], 'C181': [0, 0, 0, 0, 0, 0, 0, 0, 0, 0, 0, 0, 0, 0, 0, 0, 0, 0, 0, 0, 0, 0, 1, 1], 'C182': [0, 0, 0, 0, 0, 0, 0, 0, 0, 0, 0, 0, 0, 0, 0, 0, 0, 0, 1, 0, 0, 0, 0, 0], 'C183': [0, 0, 0, 0, 0, 0, 0, 0, 0, 0, 0, 0, 0, 0, 0, 0, 0, 0, 0, 1, 0, 0, 0, 0], 'C184': [0, 0, 0, 0, 0, 0, 0, 0, 0, 0, 0, 0, 0, 0, 0, 0, 0, 0, 1, 0, 0, 0, 0, 0], 'C185': [0, 0, 0, 0, 0, 0, 0, 0, 0, 0, 0, 0, 0, 0, 0, 0, 0, 2, 0, 0, 0, 0, 0, 0], 'C186': [0, 0, 0, 0, 0, 0, 0, 0, 0, 0, 0, 0, 0, 0, 0, 0, 0, 2, 0, 0, 0, 0, 0, 0], 'C187': [0, 0, 0, 0, 0, 0, 0, 0, 0, 0, 0, 0, 0, 0, 0, 0, 0, 0, 1, 0, 0, 0, 0, 0], 'C188': [0, 0, 0, 0, 0, 0, 0, 0, 0, 0, 0, 0, 0, 0, 0, 0, 0, 0, 0, 0, 0, 0, 1, 1], 'C189': [0, 0, 0, 0, 0, 0, 0, 0, 0, 0, 0, 0, 0, 0, 0, 0, 0, 2, 0, 0, 0, 0, 0, 0], 'C190': [0, 0, 0, 0, 0, 0, 0, 0, 0, 0, 0, 0, 0, 0, 0, 0, 0, 0, 0, 1, 0, 0, 0, 0], 'C191': [0, 0, 0, 0, 0, 0, 0, 0, 0, 0, 0, 0, 0, 0, 0, 0, 0, 0, 1, 0, 0, 0, 0, 0], 'C192': [0, 0, 0, 0, 0, 0, 0, 0, 0, 0, 0, 0, 0, 0, 0, 0, 0, 0, 0, 1, 0, 0, 0, 0], 'C193': [0, 0, 0, 0, 0, 0, 0, 0, 0, 0, 0, 0, 0, 0, 0, 0, 0, 1, 0, 0, 0, 0, 0, 0], 'C194': [0, 0, 0, 0, 0, 0, 0, 0, 0, 0, 0, 0, 0, 0, 0, 0, 0, 0, 0, 1, 0, 0, 0, 0], 'C195': [0, 0, 0, 0, 0, 0, 0, 0, 0, 0, 0, 0, 0, 0, 0, 0, 0, 0, 0, 0, 0, 0, 0, 0], 'C196': [0, 0, 0, 0, 0, 0, 0, 0, 0, 0, 0, 0, 0, 0, 0, 0, 0, 0, 0, 0, 1, 0, 0, 0], 'C197': [0, 0, 0, 0, 0, 0, 0, 0, 0, 0, 0, 0, 0, 0, 0, 0, 0, 0, 1, 0, 0, 0, 0, 0], 'C198': [0, 0, 0, 0, 0, 0, 0, 0, 0, 0, 0, 0, 0, 0, 0, 0, 0, 0, 0, 1, 0, 0, 0, 0], 'C199': [0, 0, 0, 0, 0, 0, 0, 0, 0, 0, 0, 0, 0, 0, 0, 0, 0, 0, 0, 1, 0, 0, 0, 0], 'C200': [0, 0, 0, 0, 0, 0, 0, 0, 0, 0, 0, 0, 0, 0, 0, 0, 0, 0, 0, 1, 0, 0, 0, 0], 'C201': [0, 0, 0, 0, 0, 0, 0, 0, 0, 0, 0, 0, 0, 0, 0, 0, 0, 0, 0, 1, 0, 0, 0, 0], 'C202': [0, 0, 0, 0, 0, 0, 0, 0, 0, 0, 0, 0, 0, 0, 0, 0, 0, 0, 0, 1, 0, 0, 0, 0], 'C203': [0, 0, 0, 0, 0, 0, 0, 0, 0, 0, 0, 0, 0, 0, 0, 0, 0, 0, 1, 0, 0, 0, 0, 0], 'W001': [0, 0, 0, 0, 0, 0, 0, 0, 0, 0, 0, 0, 0, 0, 0, 0, 0, 0, 1, 0, 0, 0, 0, 0], 'W002': [0, 0, 0, 0, 0, 0, 0, 0, 0, 0, 0, 0, 0, 0, 0, 0, 0, 0, 0, 0, 0, 0, 0, 0], 'W003': [0, 0, 0, 0, 0, 0, 0, 0, 0, 0, 0, 0, 0, 0, 0, 0, 0, 0, 0, 0, 0, 0, 0, 0], 'W004': [0, 0, 0, 0, 0, 0, 0, 0, 0, 0, 0, 0, 0, 0, 0, 0, 0, 0, 0, 0, 0, 0, 0, 0], 'W005': [0, 0, 0, 0, 0, 0, 0, 0, 0, 0, 0, 0, 0, 0, 0, 0, 0, 0, 0, 0, 0, 0, 0, 0], 'W006': [0, 0, 0, 0, 0, 0, 0, 0, 0, 0, 0, 0, 0, 0, 0, 0, 0, 0, 0, 0, 0, 0, 0, 0], 'W007': [0, 0, 0, 0, 0, 0, 0, 0, 0, 0, 0, 0, 0, 0, 0, 0, 0, 0, 0, 0, 0, 0, 0, 0], 'W008': [0, 0, 0, 0, 0, 0, 0, 0, 0, 0, 0, 0, 0, 0, 0, 0, 0, 0, 0, 0, 0, 0, 0, 0], 'W009': [0, 0, 0, 0, 0, 0, 0, 0, 0, 0, 0, 0, 0, 0, 0, 0, 0, 0, 0, 1, 0, 0, 0, 0], 'W010': [0, 0, 0, 0, 0, 0, 0, 0, 0, 0, 0, 0, 0, 0, 0, 0, 0, 0, 0, 0, 0, 0, 0, 0], 'W011': [0, 0, 0, 0, 0, 0, 0, 0, 0, 0, 0, 0, 0, 0, 0, 0, 0, 2, 0, 0, 0, 0, 0, 0], 'W012': [0, 0, 0, 0, 0, 0, 0, 0, 0, 0, 0, 0, 0, 0, 0, 0, 0, 2, 0, 0, 0, 0, 0, 0], 'W013': [0, 0, 0, 0, 0, 0, 0, 0, 0, 0, 0, 0, 0, 0, 0, 0, 0, 2, 0, 0, 0, 0, 0, 0], 'W014': [0, 0, 0, 0, 0, 0, 0, 0, 0, 0, 0, 0, 0, 0, 0, 0, 0, 0, 0, 0, 0, 0, 0, 1], 'W015': [0, 0, 0, 0, 0, 0, 0, 0, 0, 0, 0, 0, 0, 0, 0, 0, 0, 1, 0, 0, 0, 0, 0, 0], 'W016': [0, 0, 0, 0, 0, 0, 0, 0, 0, 0, 0, 0, 0, 0, 0, 0, 0, 2, 0, 0, 0, 0, 0, 0], 'W017': [0, 0, 0, 0, 0, 0, 0, 0, 0, 0, 0, 0, 0, 0, 0, 0, 0, 0, 0, 0, 0, 0, 0, 0], 'W018': [0, 0, 0, 0, 0, 0, 0, 0, 0, 0, 0, 0, 0, 0, 0, 0, 0, 2, 0, 0, 0, 0, 0, 0], 'W019': [0, 0, 0, 0, 0, 0, 0, 0, 0, 0, 0, 0, 0, 0, 0, 0, 0, 2, 0, 0, 0, 0, 0, 0], 'W020': [0, 0, 0, 0, 0, 0, 0, 0, 0, 0, 0, 0, 0, 0, 0, 0, 0, 1, 0, 0, 0, 0, 0, 0], 'W021': [0, 0, 0, 0, 0, 0, 0, 0, 0, 0, 0, 0, 0, 0, 0, 0, 0, 2, 0, 0, 0, 0, 0, 0], 'W022': [0, 0, 0, 0, 0, 0, 0, 0, 0, 0, 0, 0, 0, 0, 0, 0, 0, 0, 0, 0, 0, 0, 0, 0], 'W023': [0, 0, 0, 0, 0, 0, 0, 0, 0, 0, 0, 0, 0, 0, 0, 0, 0, 0, 0, 0, 0, 0, 0, 0], 'W024': [0, 0, 0, 0, 0, 0, 0, 0, 0, 0, 0, 0, 0, 0, 0, 0, 0, 0, 0, 0, 0, 0, 0, 0], 'W025': [0, 0, 0, 0, 0, 0, 0, 0, 0, 0, 0, 0, 0, 0, 0, 0, 0, 1, 0, 0, 0, 0, 0, 0], 'W026': [0, 0, 0, 0, 0, 0, 0, 0, 0, 0, 0, 0, 0, 0, 0, 0, 0, 0, 0, 0, 0, 0, 0, 0], 'W027': [0, 0, 0, 0, 0, 0, 0, 0, 0, 0, 0, 0, 0, 0, 0, 0, 0, 0, 0, 0, 0, 0, 0, 0], 'W028': [0, 0, 0, 0, 0, 0, 2, 0, 0, 0, 0, 0, 0, 0, 0, 0, 0, 0, 0, 0, 0, 0, 0, 0], 'W029': [0, 0, 0, 0, 0, 0, 0, 0, 0, 0, 0, 0, 0, 0, 0, 0, 0, 0, 1, 0, 0, 0, 0, 0], 'W030': [0, 0, 0, 0, 0, 0, 0, 0, 0, 0, 0, 0, 0, 0, 0, 0, 0, 0, 0, 0, 0, 0, 1, 0], 'W031': [0, 0, 0, 0, 0, 0, 0, 0, 0, 0, 0, 0, 0, 0, 0, 0, 0, 0, 0, 1, 0, 0, 0, 0], 'W032': [0, 0, 0, 0, 0, 0, 0, 0, 0, 0, 0, 0, 0, 0, 0, 0, 0, 0, 0, 1, 0, 0, 0, 0], 'W033': [0, 0, 0, 0, 0, 0, 0, 0, 0, 0, 0, 0, 0, 0, 0, 0, 0, 0, 0, 0, 0, 0, 0, 0], 'W034': [0, 0, 0, 0, 0, 0, 0, 0, 0, 0, 0, 0, 0, 0, 0, 0, 0, 1, 0, 0, 0, 0, 0, 0], 'W035': [0, 0, 0, 0, 0, 0, 0, 0, 0, 0, 0, 0, 0, 0, 0, 0, 0, 0, 1, 0, 0, 0, 0, 0], 'W036': [0, 0, 0, 0, 0, 0, 0, 0, 0, 0, 0, 0, 0, 0, 0, 0, 0, 0, 0, 0, 0, 0, 0, 0], 'W037': [0, 0, 0, 0, 0, 0, 0, 0, 0, 0, 0, 0, 0, 0, 0, 0, 0, 0, 0, 0, 0, 0, 1, 0], 'W038': [0, 0, 0, 0, 0, 0, 0, 0, 0, 0, 0, 0, 0, 0, 0, 0, 0, 2, 0, 0, 0, 0, 0, 0], 'W039': [0, 0, 0, 0, 0, 0, 0, 0, 0, 0, 0, 0, 0, 0, 0, 0, 0, 0, 0, 1, 0, 0, 0, 0], 'W040': [0, 0, 0, 0, 0, 0, 0, 0, 0, 0, 0, 0, 0, 0, 0, 0, 0, 0, 1, 0, 0, 0, 0, 0], 'W041': [0, 0, 0, 0, 0, 0, 0, 0, 0, 0, 0, 0, 0, 0, 0, 0, 0, 0, 0, 0, 0, 0, 0, 0], 'W042': [0, 0, 0, 0, 0, 0, 0, 0, 0, 0, 0, 0, 0, 0, 0, 0, 0, 2, 0, 0, 0, 0, 0, 0], 'W043': [0, 0, 0, 0, 0, 0, 0, 0, 0, 0, 0, 0, 0, 0, 0, 0, 0, 0, 1, 0, 0, 0, 0, 0], 'W044': [0, 0, 0, 0, 0, 0, 0, 0, 0, 0, 0, 0, 0, 0, 0, 0, 0, 0, 1, 0, 0, 0, 0, 0], 'W045': [0, 0, 0, 0, 0, 0, 0, 0, 0, 0, 0, 0, 0, 0, 0, 0, 0, 0, 0, 0, 0, 0, 0, 0], 'W046': [0, 0, 0, 0, 0, 0, 0, 0, 0, 0, 0, 0, 0, 0, 0, 0, 0, 0, 1, 0, 0, 0, 0, 0], 'W047': [0, 0, 0, 0, 0, 0, 0, 0, 0, 0, 0, 0, 0, 0, 0, 0, 0, 0, 1, 0, 0, 0, 0, 0], 'W048': [0, 0, 0, 0, 0, 0, 0, 0, 0, 0, 0, 0, 0, 0, 0, 0, 0, 1, 0, 0, 0, 0, 0, 0], 'W049': [0, 0, 0, 0, 0, 0, 0, 0, 0, 0, 0, 0, 0, 0, 0, 0, 0, 1, 0, 0, 0, 0, 0, 0], 'W050': [0, 0, 0, 0, 0, 0, 0, 0, 0, 0, 0, 0, 0, 0, 0, 0, 0, 0, 1, 0, 0, 0, 0, 0], 'W051': [0, 0, 0, 0, 0, 0, 0, 0, 0, 0, 0, 0, 0, 0, 0, 0, 0, 0, 0, 0, 0, 0, 0, 0], 'W052': [0, 0, 0, 0, 0, 0, 0, 0, 0, 0, 0, 0, 0, 0, 0, 0, 0, 0, 0, 0, 0, 0, 0, 0], 'W053': [0, 0, 0, 0, 0, 0, 0, 0, 0, 0, 0, 0, 0, 0, 0, 0, 0, 0, 0, 0, 0, 0, 0, 0], 'W054': [0, 0, 0, 0, 0, 0, 0, 0, 0, 0, 0, 0, 0, 0, 0, 0, 0, 0, 0, 1, 0, 0, 0, 0], 'W055': [0, 0, 0, 0, 0, 0, 0, 0, 0, 0, 0, 0, 0, 0, 0, 0, 0, 0, 0, 0, 0, 0, 1, 0], 'W056': [0, 0, 0, 0, 0, 0, 0, 0, 0, 0, 0, 0, 0, 0, 0, 0, 0, 0, 0, 0, 0, 0, 0, 0], 'W057': [0, 0, 0, 0, 0, 0, 0, 0, 0, 0, 0, 0, 0, 0, 0, 0, 0, 0, 0, 0, 0, 0, 0, 0], 'W058': [0, 0, 0, 0, 0, 0, 0, 0, 0, 0, 0, 0, 0, 0, 0, 0, 0, 0, 1, 0, 0, 0, 0, 0], 'W059': [0, 0, 0, 0, 0, 0, 0, 0, 0, 0, 0, 0, 0, 0, 0, 0, 0, 0, 0, 0, 0, 0, 0, 0], 'W060': [0, 0, 0, 0, 0, 0, 0, 0, 0, 0, 0, 0, 0, 0, 0, 0, 0, 2, 0, 0, 0, 0, 0, 0], 'W061': [0, 0, 0, 0, 0, 0, 0, 0, 0, 0, 0, 0, 0, 0, 0, 0, 0, 0, 0, 0, 0, 0, 0, 0], 'W062': [0, 0, 0, 0, 0, 0, 0, 0, 0, 0, 0, 0, 0, 0, 0, 0, 0, 0, 0, 0, 0, 0, 0, 0], 'W063': [0, 0, 0, 0, 0, 0, 0, 0, 0, 0, 0, 0, 0, 0, 0, 0, 0, 0, 0, 0, 0, 0, 0, 0], 'W064': [0, 0, 0, 0, 0, 0, 0, 0, 0, 0, 0, 0, 0, 0, 0, 0, 0, 2, 0, 0, 0, 0, 0, 0], 'W065': [0, 0, 0, 0, 0, 0, 0, 0, 0, 0, 0, 0, 0, 0, 0, 0, 0, 0, 0, 0, 0, 0, 0, 0], 'W066': [0, 0, 0, 0, 0, 0, 0, 0, 0, 0, 0, 0, 0, 0, 0, 0, 0, 0, 0, 0, 0, 0, 0, 0], 'W067': [0, 0, 0, 0, 0, 0, 0, 0, 0, 0, 0, 0, 0, 0, 0, 0, 0, 0, 0, 0, 2, 0, 0, 0], 'W068': [0, 0, 0, 0, 0, 0, 0, 0, 0, 0, 0, 0, 0, 0, 0, 0, 0, 0, 0, 0, 0, 0, 0, 0], 'W069': [0, 0, 0, 0, 0, 0, 0, 0, 0, 0, 0, 0, 0, 0, 0, 0, 0, 0, 0, 0, 0, 0, 1, 0], 'W070': [0, 0, 0, 0, 0, 0, 0, 0, 0, 0, 0, 0, 0, 0, 0, 0, 0, 0, 0, 0, 0, 0, 1, 0], 'W071': [0, 0, 0, 0, 0, 0, 0, 0, 0, 0, 0, 0, 0, 0, 0, 0, 0, 0, 0, 0, 0, 0, 0, 0], 'W072': [0, 0, 0, 0, 0, 0, 0, 0, 0, 0, 0, 0, 0, 0, 0, 0, 0, 1, 0, 0, 0, 0, 0, 0], 'W073': [0, 0, 0, 0, 0, 0, 0, 0, 0, 0, 0, 0, 0, 0, 0, 0, 0, 0, 1, 0, 0, 0, 0, 0], 'W074': [0, 0, 0, 0, 0, 0, 0, 0, 0, 0, 0, 0, 0, 0, 0, 0, 0, 0, 0, 0, 0, 0, 0, 0], 'W075': [0, 0, 0, 0, 0, 0, 0, 0, 0, 0, 0, 0, 0, 0, 0, 0, 0, 0, 1, 0, 0, 0, 0, 0], 'W076': [0, 0, 0, 0, 0, 0, 0, 0, 0, 0, 0, 0, 0, 0, 0, 0, 0, 0, 0, 0, 0, 0, 1, 0], 'W077': [0, 0, 0, 0, 0, 0, 0, 0, 0, 0, 0, 0, 0, 0, 0, 0, 0, 1, 0, 0, 0, 0, 0, 0], 'W078': [0, 0, 0, 0, 0, 0, 0, 0, 0, 0, 0, 0, 0, 0, 0, 0, 0, 0, 0, 0, 0, 0, 0, 0], 'W079': [0, 0, 0, 0, 0, 0, 0, 0, 0, 0, 0, 0, 0, 0, 0, 0, 0, 0, 0, 0, 0, 0, 0, 0], 'W080': [0, 0, 0, 0, 0, 0, 0, 0, 0, 0, 0, 0, 0, 0, 0, 0, 0, 0, 1, 0, 0, 0, 0, 0], 'W081': [0, 0, 0, 0, 0, 0, 0, 0, 0, 0, 0, 0, 0, 0, 0, 0, 0, 2, 0, 0, 0, 0, 0, 0], 'W082': [0, 0, 0, 0, 0, 0, 0, 0, 0, 0, 0, 0, 0, 0, 0, 0, 0, 0, 1, 0, 0, 0, 0, 0], 'W083': [0, 0, 0, 0, 0, 0, 0, 0, 0, 0, 0, 0, 0, 0, 0, 0, 0, 1, 0, 0, 0, 0, 0, 0], 'W084': [0, 0, 0, 0, 0, 0, 0, 0, 0, 0, 0, 0, 0, 0, 0, 0, 0, 0, 0, 1, 0, 0, 0, 0], 'W085': [0, 0, 0, 0, 0, 0, 0, 0, 0, 0, 0, 0, 0, 0, 0, 0, 0, 0, 0, 0, 0, 0, 0, 0], 'W086': [0, 0, 0, 0, 0, 0, 0, 0, 0, 0, 0, 0, 0, 0, 0, 0, 0, 0, 0, 0, 0, 0, 0, 0], 'W087': [0, 0, 0, 0, 0, 0, 0, 0, 0, 0, 0, 0, 0, 0, 0, 0, 0, 0, 0, 0, 0, 0, 0, 0], 'W088': [0, 0, 0, 0, 0, 0, 0, 0, 0, 0, 0, 0, 0, 0, 0, 0, 0, 2, 0, 0, 0, 0, 0, 0], 'W089': [0, 0, 0, 0, 0, 0, 0, 0, 0, 0, 0, 0, 0, 0, 0, 0, 0, 0, 0, 0, 0, 0, 0, 0], 'W090': [0, 0, 0, 0, 0, 0, 0, 0, 0, 0, 0, 0, 0, 0, 0, 0, 0, 1, 0, 0, 0, 0, 0, 0], 'W091': [0, 0, 0, 0, 0, 0, 0, 0, 0, 0, 0, 0, 0, 0, 0, 0, 0, 1, 0, 0, 0, 0, 0, 0], 'W092': [0, 0, 0, 0, 0, 0, 0, 0, 0, 0, 0, 0, 0, 0, 0, 0, 0, 1, 0, 0, 0, 0, 0, 0], 'W093': [0, 0, 0, 0, 0, 0, 0, 0, 0, 0, 0, 0, 0, 0, 0, 0, 0, 0, 0, 0, 0, 0, 0, 0], 'W094': [0, 0, 0, 0, 0, 0, 0, 0, 0, 0, 0, 0, 0, 0, 0, 0, 0, 0, 0, 0, 0, 0, 1, 0], 'W095': [0, 0, 0, 0, 0, 0, 0, 0, 0, 0, 0, 0, 0, 0, 0, 0, 0, 0, 0, 0, 0, 0, 0, 0], 'W096': [0, 0, 0, 0, 0, 0, 0, 0, 0, 0, 0, 0, 0, 0, 0, 0, 0, 1, 0, 0, 0, 0, 0, 0], 'W097': [0, 0, 0, 0, 0, 0, 0, 0, 0, 0, 0, 0, 0, 0, 0, 0, 0, 0, 0, 0, 0, 0, 1, 0], 'W098': [0, 0, 0, 0, 0, 0, 0, 0, 0, 0, 0, 0, 0, 0, 0, 0, 0, 0, 0, 1, 0, 0, 0, 0], 'W099': [0, 0, 0, 0, 0, 0, 0, 0, 0, 0, 0, 0, 0, 0, 0, 0, 0, 1, 0, 0, 0, 0, 0, 0], 'W100': [0, 0, 0, 0, 0, 0, 0, 0, 0, 0, 0, 0, 0, 0, 0, 0, 0, 0, 0, 1, 0, 0, 0, 0], 'W101': [0, 0, 0, 0, 0, 0, 0, 0, 0, 0, 0, 0, 0, 0, 0, 0, 0, 1, 0, 0, 0, 0, 0, 0], 'W102': [0, 0, 0, 0, 0, 0, 0, 0, 0, 0, 0, 0, 0, 0, 0, 0, 0, 0, 0, 0, 0, 0, 0, 0], 'W103': [0, 0, 0, 0, 0, 0, 0, 0, 0, 0, 0, 0, 0, 0, 0, 0, 0, 1, 0, 0, 0, 0, 0, 0], 'W104': [0, 0, 0, 0, 0, 0, 0, 0, 0, 0, 0, 0, 0, 0, 0, 0, 0, 0, 0, 0, 0, 0, 1, 0], 'W105': [0, 0, 0, 0, 0, 0, 0, 0, 0, 0, 0, 0, 0, 0, 0, 0, 0, 1, 0, 0, 0, 0, 0, 0], 'W106': [0, 0, 0, 0, 0, 0, 0, 0, 0, 0, 0, 0, 0, 0, 0, 0, 0, 1, 0, 0, 0, 0, 0, 0], 'W107': [0, 0, 0, 0, 0, 0, 0, 0, 0, 0, 0, 0, 0, 0, 0, 0, 0, 0, 0, 0, 0, 0, 0, 0], 'W108': [0, 0, 0, 0, 0, 0, 0, 0, 0, 0, 0, 0, 0, 0, 0, 0, 0, 0, 0, 1, 0, 0, 0, 0], 'W109': [0, 0, 0, 0, 0, 0, 0, 0, 0, 0, 0, 0, 0, 0, 0, 0, 0, 0, 0, 0, 0, 0, 1, 1], 'W110': [0, 0, 0, 0, 0, 0, 0, 0, 0, 0, 0, 0, 0, 0, 0, 0, 0, 0, 0, 0, 0, 0, 0, 0], 'W111': [0, 0, 0, 0, 0, 0, 0, 0, 0, 0, 0, 0, 0, 0, 0, 0, 0, 0, 0, 1, 0, 0, 0, 0], 'W112': [0, 0, 0, 0, 0, 0, 0, 0, 0, 0, 0, 0, 0, 0, 0, 0, 0, 0, 0, 1, 0, 0, 0, 0], 'W113': [0, 0, 0, 0, 0, 0, 0, 0, 0, 0, 0, 0, 0, 0, 0, 0, 0, 0, 0, 0, 0, 0, 0, 0], 'W114': [0, 0, 0, 0, 0, 0, 0, 0, 0, 0, 0, 0, 0, 0, 0, 0, 0, 0, 0, 0, 0, 0, 0, 0], 'W115': [0, 0, 0, 0, 0, 0, 0, 0, 0, 0, 0, 0, 0, 0, 0, 0, 0, 0, 0, 0, 0, 0, 1, 0], 'W116': [0, 0, 0, 0, 0, 0, 0, 0, 0, 0, 0, 0, 0, 0, 0, 0, 0, 0, 0, 0, 0, 0, 0, 0], 'W117': [0, 0, 0, 0, 0, 0, 0, 0, 0, 0, 0, 0, 0, 0, 0, 0, 0, 2, 0, 0, 0, 0, 0, 0], 'W118': [0, 0, 0, 0, 0, 0, 0, 0, 0, 0, 0, 0, 0, 0, 0, 0, 0, 0, 0, 0, 0, 0, 0, 0], 'W119': [0, 0, 0, 0, 0, 0, 0, 0, 0, 0, 0, 0, 0, 0, 0, 0, 0, 0, 0, 0, 0, 0, 0, 0], 'W120': [0, 0, 0, 0, 0, 0, 0, 0, 0, 0, 0, 0, 0, 0, 0, 0, 0, 0, 0, 0, 0, 0, 0, 0], 'W121': [0, 0, 0, 0, 0, 0, 0, 0, 0, 0, 0, 0, 0, 0, 0, 0, 0, 0, 0, 0, 0, 0, 1, 0], 'W122': [0, 0, 0, 0, 0, 0, 0, 0, 0, 0, 0, 0, 0, 0, 0, 0, 0, 2, 0, 0, 0, 0, 0, 0], 'W123': [0, 0, 0, 0, 0, 0, 0, 0, 0, 0, 0, 0, 0, 0, 0, 0, 0, 0, 0, 0, 0, 0, 0, 0], 'W124': [0, 0, 0, 0, 0, 0, 0, 0, 0, 0, 0, 0, 0, 0, 0, 0, 0, 0, 0, 0, 0, 0, 0, 0], 'W125': [0, 0, 0, 0, 0, 0, 0, 0, 0, 0, 0, 0, 0, 0, 0, 0, 0, 2, 0, 0, 0, 0, 0, 0], 'W126': [0, 0, 0, 0, 0, 0, 0, 0, 0, 0, 0, 0, 0, 0, 0, 0, 0, 0, 0, 1, 0, 0, 0, 0], 'W127': [0, 0, 0, 0, 0, 0, 0, 0, 0, 0, 0, 0, 0, 0, 0, 0, 0, 2, 0, 0, 0, 0, 0, 0], 'W128': [0, 0, 0, 0, 0, 0, 0, 0, 0, 0, 0, 0, 0, 0, 0, 0, 0, 0, 0, 0, 0, 0, 0, 0], 'W129': [0, 0, 0, 0, 0, 0, 0, 0, 0, 0, 0, 0, 0, 0, 0, 0, 0, 2, 0, 0, 0, 0, 0, 0], 'W130': [0, 0, 0, 0, 0, 0, 0, 0, 0, 0, 0, 0, 0, 0, 0, 0, 0, 2, 0, 0, 0, 0, 0, 0], 'W131': [0, 0, 0, 0, 0, 0, 0, 0, 0, 0, 0, 0, 0, 0, 0, 0, 0, 0, 0, 0, 0, 0, 1, 0], 'W132': [0, 0, 0, 0, 0, 0, 0, 0, 0, 0, 0, 0, 0, 0, 0, 0, 0, 0, 0, 1, 0, 0, 0, 0], 'W133': [0, 0, 0, 0, 0, 0, 0, 0, 0, 0, 0, 0, 0, 0, 0, 0, 0, 0, 1, 0, 0, 0, 0, 0], 'W134': [0, 0, 0, 0, 0, 0, 0, 0, 0, 0, 0, 0, 0, 0, 0, 0, 0, 1, 0, 0, 0, 0, 0, 0], 'W135': [0, 0, 0, 0, 0, 0, 0, 0, 0, 0, 0, 0, 0, 0, 0, 0, 0, 0, 1, 0, 0, 0, 0, 0], 'W136': [0, 0, 0, 0, 0, 0, 0, 0, 0, 0, 0, 0, 0, 0, 0, 0, 0, 1, 0, 0, 0, 0, 0, 0], 'W137': [0, 0, 0, 0, 0, 0, 0, 0, 0, 0, 0, 0, 0, 0, 0, 0, 0, 0, 1, 0, 0, 0, 0, 0], 'W138': [0, 0, 0, 0, 0, 0, 0, 0, 0, 0, 0, 0, 0, 0, 0, 0, 0, 0, 1, 0, 0, 0, 0, 0], 'W139': [0, 0, 0, 0, 0, 0, 0, 0, 0, 0, 0, 0, 0, 0, 0, 0, 0, 2, 0, 0, 0, 0, 0, 0], 'W140': [0, 0, 0, 0, 0, 0, 0, 0, 0, 0, 0, 0, 0, 0, 0, 0, 0, 1, 0, 0, 0, 0, 0, 0], 'W141': [0, 0, 0, 0, 0, 0, 0, 0, 0, 0, 0, 0, 0, 0, 0, 0, 0, 1, 0, 0, 0, 0, 0, 0], 'W142': [0, 0, 0, 0, 0, 0, 0, 0, 0, 0, 0, 0, 0, 0, 0, 0, 0, 0, 0, 0, 0, 0, 1, 0], 'W143': [0, 0, 0, 0, 0, 0, 0, 0, 0, 0, 0, 0, 0, 0, 0, 0, 0, 0, 0, 0, 2, 0, 0, 0], 'W144': [0, 0, 0, 0, 0, 0, 0, 0, 0, 0, 0, 0, 0, 0, 0, 0, 0, 0, 1, 0, 0, 0, 0, 0], 'W145': [0, 0, 0, 0, 0, 0, 0, 0, 0, 0, 0, 0, 0, 0, 0, 0, 0, 0, 1, 0, 0, 0, 0, 0], 'W146': [0, 0, 0, 0, 0, 0, 0, 0, 0, 0, 0, 0, 0, 0, 0, 0, 0, 0, 0, 0, 0, 0, 0, 0], 'W147': [0, 0, 0, 0, 0, 0, 0, 0, 0, 0, 0, 0, 0, 0, 0, 0, 0, 0, 0, 0, 0, 0, 0, 0], 'W148': [0, 0, 0, 0, 0, 0, 0, 0, 0, 0, 0, 0, 0, 0, 0, 0, 0, 0, 0, 1, 0, 0, 0, 0], 'W149': [0, 0, 0, 0, 0, 0, 0, 0, 0, 0, 0, 0, 0, 0, 0, 0, 0, 0, 1, 0, 0, 0, 0, 0], 'W150': [0, 0, 0, 0, 0, 0, 0, 0, 0, 0, 0, 0, 0, 0, 0, 0, 0, 0, 1, 0, 0, 0, 0, 0], 'W151': [0, 0, 0, 0, 0, 0, 0, 0, 0, 0, 0, 0, 0, 0, 0, 0, 0, 0, 1, 0, 0, 0, 0, 0], 'W152': [0, 0, 0, 0, 0, 0, 0, 0, 0, 0, 0, 0, 0, 0, 0, 0, 0, 0, 0, 0, 0, 0, 0, 0], 'W153': [0, 0, 0, 0, 0, 0, 0, 0, 0, 0, 0, 0, 0, 0, 0, 0, 0, 0, 0, 0, 0, 0, 0, 0], 'W154': [0, 0, 0, 0, 0, 0, 0, 0, 0, 0, 0, 0, 0, 0, 0, 0, 0, 0, 0, 1, 0, 0, 0, 0], 'W155': [0, 0, 0, 0, 0, 0, 0, 0, 0, 0, 0, 0, 0, 0, 0, 0, 0, 0, 0, 0, 0, 0, 0, 0], 'W156': [0, 0, 0, 0, 0, 0, 0, 0, 0, 0, 0, 0, 0, 0, 0, 0, 0, 0, 1, 0, 0, 0, 0, 0], 'W157': [0, 0, 0, 0, 0, 0, 0, 0, 0, 0, 0, 0, 0, 0, 0, 0, 0, 0, 1, 0, 0, 0, 0, 0], 'W158': [0, 0, 0, 0, 0, 0, 0, 0, 0, 0, 0, 0, 0, 0, 0, 0, 0, 0, 0, 0, 0, 0, 0, 0], 'W159': [0, 0, 0, 0, 0, 0, 0, 0, 0, 0, 0, 0, 0, 0, 0, 0, 0, 2, 0, 0, 0, 0, 0, 0], 'W160': [0, 0, 0, 0, 0, 0, 0, 0, 0, 0, 0, 0, 0, 0, 0, 0, 0, 0, 0, 0, 0, 0, 1, 1], 'W161': [0, 0, 0, 0, 0, 0, 0, 0, 0, 0, 0, 0, 0, 0, 0, 0, 0, 0, 0, 0, 0, 0, 0, 0], 'W162': [0, 0, 0, 0, 0, 0, 0, 0, 0, 0, 0, 0, 0, 0, 0, 0, 0, 2, 0, 0, 0, 0, 0, 0], 'W163': [0, 0, 0, 0, 0, 0, 0, 0, 0, 0, 0, 0, 0, 0, 0, 0, 0, 0, 0, 0, 0, 0, 0, 0], 'W164': [0, 0, 0, 0, 0, 0, 0, 0, 0, 0, 0, 0, 0, 0, 0, 0, 0, 0, 1, 0, 0, 0, 0, 0], 'W165': [0, 0, 0, 0, 0, 0, 0, 0, 0, 0, 0, 0, 0, 0, 0, 0, 0, 0, 1, 0, 0, 0, 0, 0], 'W166': [0, 0, 0, 0, 0, 0, 0, 0, 0, 0, 0, 0, 0, 0, 0, 0, 0, 0, 0, 0, 0, 0, 0, 0], 'W167': [0, 0, 0, 0, 0, 0, 0, 0, 0, 0, 0, 0, 0, 0, 0, 0, 0, 0, 0, 0, 0, 0, 0, 0], 'W168': [0, 0, 0, 0, 0, 0, 0, 0, 0, 0, 0, 0, 0, 0, 0, 0, 0, 0, 0, 0, 0, 0, 0, 0], 'W169': [0, 0, 0, 0, 0, 0, 0, 0, 0, 0, 0, 0, 0, 0, 0, 0, 0, 0, 1, 0, 0, 0, 0, 0], 'W170': [0, 0, 0, 0, 0, 0, 0, 0, 0, 0, 0, 0, 0, 0, 0, 0, 0, 0, 1, 0, 0, 0, 0, 0], 'W171': [0, 0, 0, 0, 0, 0, 0, 0, 0, 0, 0, 0, 0, 0, 0, 0, 0, 0, 0, 0, 0, 0, 1, 0], 'W172': [0, 0, 0, 0, 0, 0, 0, 0, 0, 0, 0, 0, 0, 0, 0, 0, 0, 0, 0, 1, 0, 0, 0, 0], 'W173': [0, 0, 0, 0, 0, 0, 0, 0, 0, 0, 0, 0, 0, 0, 0, 0, 0, 2, 0, 0, 0, 0, 0, 0], 'W174': [0, 0, 0, 0, 0, 0, 0, 0, 0, 0, 0, 0, 0, 0, 0, 0, 0, 0, 1, 0, 0, 0, 0, 0], 'W175': [0, 0, 0, 0, 0, 0, 0, 0, 0, 0, 0, 0, 0, 0, 0, 0, 0, 0, 0, 0, 0, 0, 1, 1], 'W176': [0, 0, 0, 0, 0, 0, 0, 0, 0, 0, 0, 0, 0, 0, 0, 0, 0, 0, 0, 0, 0, 0, 0, 0], 'W177': [0, 0, 0, 0, 0, 0, 0, 0, 0, 0, 0, 0, 0, 0, 0, 0, 0, 0, 0, 0, 0, 0, 0, 0], 'W178': [0, 0, 0, 0, 0, 0, 0, 0, 0, 0, 0, 0, 0, 0, 0, 0, 0, 0, 0, 0, 0, 0, 0, 0], 'W179': [0, 0, 0, 0, 0, 0, 0, 0, 0, 0, 0, 0, 0, 0, 0, 0, 0, 0, 1, 0, 0, 0, 0, 0], 'W180': [0, 0, 0, 0, 0, 0, 0, 0, 0, 0, 0, 0, 0, 0, 0, 0, 0, 0, 1, 0, 0, 0, 0, 0], 'W181': [0, 0, 0, 0, 0, 0, 0, 0, 0, 0, 0, 0, 0, 0, 0, 0, 0, 0, 0, 1, 0, 0, 0, 0], 'W182': [0, 0, 0, 0, 0, 0, 0, 0, 0, 0, 0, 0, 0, 0, 0, 0, 0, 0, 0, 0, 0, 0, 0, 0], 'W183': [0, 0, 0, 0, 0, 0, 0, 0, 0, 0, 0, 0, 0, 0, 0, 0, 0, 0, 1, 0, 0, 0, 0, 0], 'W184': [0, 0, 0, 0, 0, 0, 0, 0, 0, 0, 0, 0, 0, 0, 0, 0, 0, 0, 0, 0, 0, 0, 0, 0], 'W185': [0, 0, 0, 0, 0, 0, 0, 0, 0, 0, 0, 0, 0, 0, 0, 0, 0, 0, 1, 0, 0, 0, 0, 0], 'W186': [0, 0, 0, 0, 0, 0, 0, 0, 0, 0, 0, 0, 0, 0, 0, 0, 0, 0, 0, 0, 0, 0, 0, 0], 'W187': [0, 0, 0, 0, 0, 0, 0, 0, 0, 0, 0, 0, 0, 0, 0, 0, 0, 0, 1, 0, 0, 0, 0, 0], 'W188': [0, 0, 0, 0, 0, 0, 0, 0, 0, 0, 0, 0, 0, 0, 0, 0, 0, 0, 0, 0, 0, 0, 0, 0], 'W189': [0, 0, 0, 0, 0, 0, 0, 0, 0, 0, 0, 0, 0, 0, 0, 0, 0, 0, 1, 0, 0, 0, 0, 0], 'W191': [0, 0, 0, 0, 0, 0, 0, 0, 0, 0, 0, 0, 0, 0, 0, 0, 0, 0, 0, 1, 0, 0, 0, 0], 'W192': [0, 0, 0, 0, 0, 0, 0, 0, 0, 0, 0, 0, 0, 0, 0, 0, 0, 0, 0, 1, 0, 0, 0, 0], 'W193': [0, 0, 0, 0, 0, 0, 0, 0, 0, 0, 0, 0, 0, 0, 0, 0, 0, 0, 0, 0, 0, 0, 0, 0], 'W194': [0, 0, 0, 0, 0, 0, 0, 0, 0, 0, 0, 0, 0, 0, 0, 0, 0, 0, 0, 0, 0, 0, 0, 0], 'W195': [0, 0, 0, 0, 0, 0, 0, 0, 0, 0, 0, 0, 0, 0, 0, 0, 0, 0, 0, 0, 0, 0, 0, 0], 'W197': [0, 0, 0, 0, 0, 0, 0, 0, 0, 0, 0, 0, 0, 0, 0, 0, 0, 0, 1, 0, 0, 0, 0, 0], 'W198': [0, 0, 0, 0, 0, 0, 0, 0, 0, 0, 0, 0, 0, 0, 0, 0, 0, 0, 1, 0, 0, 0, 0, 0], 'W199': [0, 0, 0, 0, 0, 0, 0, 0, 0, 0, 0, 0, 0, 0, 0, 0, 0, 0, 1, 0, 0, 0, 0, 0], 'W200': [0, 0, 0, 0, 0, 0, 0, 0, 0, 0, 0, 0, 0, 0, 0, 0, 0, 0, 1, 0, 0, 0, 0, 0], 'W201': [0, 0, 0, 0, 0, 0, 0, 0, 0, 0, 0, 0, 0, 0, 0, 0, 0, 0, 1, 0, 0, 0, 0, 0], 'W202': [0, 0, 0, 0, 0, 0, 0, 0, 0, 0, 0, 0, 0, 0, 0, 0, 0, 0, 0, 0, 0, 0, 0, 0], 'W203': [0, 0, 0, 0, 0, 0, 0, 0, 0, 0, 0, 0, 0, 0, 0, 0, 0, 0, 0, 1, 0, 0, 0, 0], 'W204': [0, 0, 0, 0, 0, 0, 0, 0, 0, 0, 0, 0, 0, 0, 0, 0, 0, 0, 1, 0, 0, 0, 0, 0], 'W205': [0, 0, 0, 0, 0, 0, 0, 0, 0, 0, 0, 0, 0, 0, 0, 0, 0, 0, 1, 0, 0, 0, 0, 0], 'W206': [0, 0, 0, 0, 0, 0, 0, 0, 0, 0, 0, 0, 0, 0, 0, 0, 0, 0, 1, 0, 0, 0, 0, 0], 'W207': [0, 0, 0, 0, 0, 0, 0, 0, 0, 0, 0, 0, 0, 0, 0, 0, 0, 0, 0, 0, 1, 0, 0, 0], 'W208': [0, 0, 0, 0, 0, 0, 0, 0, 0, 0, 0, 0, 0, 0, 0, 0, 0, 0, 0, 0, 0, 0, 0, 0], 'W209': [0, 0, 0, 0, 0, 0, 0, 0, 0, 0, 0, 0, 0, 0, 0, 0, 0, 0, 0, 0, 0, 0, 0, 0], 'W210': [0, 0, 0, 0, 0, 0, 0, 0, 0, 0, 0, 0, 0, 0, 0, 0, 0, 0, 1, 0, 0, 0, 0, 0], 'W211': [0, 0, 0, 0, 0, 0, 0, 0, 0, 0, 0, 0, 0, 0, 0, 0, 0, 0, 0, 0, 0, 0, 0, 0], 'W212': [0, 0, 0, 0, 0, 0, 0, 0, 0, 0, 0, 0, 0, 0, 0, 0, 0, 0, 1, 0, 0, 0, 0, 0], 'W213': [0, 0, 0, 0, 0, 0, 0, 0, 0, 0, 0, 0, 0, 0, 0, 0, 0, 0, 0, 0, 0, 0, 0, 0], 'W214': [0, 0, 0, 0, 0, 0, 0, 0, 0, 0, 0, 0, 0, 0, 0, 0, 0, 1, 0, 0, 0, 0, 0, 0], 'W215': [0, 0, 0, 0, 0, 0, 0, 0, 0, 0, 0, 0, 0, 0, 0, 0, 0, 1, 0, 0, 0, 0, 0, 0], 'W216': [0, 0, 0, 0, 0, 0, 0, 0, 0, 0, 0, 0, 0, 0, 0, 0, 0, 0, 0, 0, 0, 0, 0, 0], 'W217': [0, 0, 0, 0, 0, 0, 0, 0, 0, 0, 0, 0, 0, 0, 0, 0, 0, 0, 0, 0, 0, 0, 0, 0], 'W218': [0, 0, 0, 0, 0, 0, 0, 0, 0, 0, 0, 0, 0, 0, 0, 0, 0, 0, 0, 0, 0, 0, 0, 0], 'W219': [0, 0, 0, 0, 0, 0, 0, 0, 0, 0, 0, 0, 0, 0, 0, 0, 0, 0, 0, 0, 0, 0, 0, 0], 'W220': [0, 0, 0, 0, 0, 0, 0, 0, 0, 0, 0, 0, 0, 0, 0, 0, 0, 1, 0, 0, 0, 0, 0, 0], 'W221': [0, 0, 0, 0, 0, 0, 0, 0, 0, 0, 0, 0, 0, 0, 0, 0, 0, 0, 1, 0, 0, 0, 0, 0], 'W222': [0, 0, 0, 0, 0, 0, 0, 0, 0, 0, 0, 0, 0, 0, 0, 0, 0, 0, 1, 0, 0, 0, 0, 0], 'W223': [0, 0, 0, 0, 0, 0, 0, 0, 0, 0, 0, 0, 0, 0, 0, 0, 0, 0, 1, 0, 0, 0, 0, 0], 'W224': [0, 0, 0, 0, 0, 0, 0, 0, 0, 0, 0, 0, 0, 0, 0, 0, 0, 0, 1, 0, 0, 0, 0, 0], 'W225': [0, 0, 0, 0, 0, 0, 0, 0, 0, 0, 0, 0, 0, 0, 0, 0, 0, 0, 0, 0, 0, 0, 0, 0], 'W226': [0, 0, 0, 0, 0, 0, 0, 0, 0, 0, 0, 0, 0, 0, 0, 0, 0, 0, 0, 0, 0, 0, 0, 0], 'W227': [0, 0, 0, 0, 0, 0, 0, 0, 0, 0, 0, 0, 0, 0, 0, 0, 0, 0, 0, 0, 0, 0, 0, 0], 'W228': [0, 0, 0, 0, 0, 0, 0, 0, 0, 0, 0, 0, 0, 0, 0, 0, 0, 0, 1, 0, 0, 0, 0, 0], 'W229': [0, 0, 0, 0, 0, 0, 0, 0, 0, 0, 0, 0, 0, 0, 0, 0, 0, 0, 1, 0, 0, 0, 0, 0], 'W230': [0, 0, 0, 0, 0, 0, 0, 0, 0, 0, 0, 0, 0, 0, 0, 0, 0, 0, 1, 0, 0, 0, 0, 0], 'W231': [0, 0, 0, 0, 0, 0, 0, 0, 0, 0, 0, 0, 0, 0, 0, 0, 0, 0, 0, 0, 0, 0, 0, 0], 'W233': [0, 0, 0, 0, 0, 0, 0, 0, 0, 0, 0, 0, 0, 0, 0, 0, 0, 0, 1, 0, 0, 0, 0, 0], 'W234': [0, 0, 0, 0, 0, 0, 0, 0, 0, 0, 0, 0, 0, 0, 0, 0, 0, 0, 0, 0, 0, 0, 0, 0], 'W235': [0, 0, 0, 0, 0, 2, 0, 2, 0, 0, 0, 0, 0, 0, 0, 0, 0, 0, 0, 0, 1, 0, 0, 0, 0], 'W236': [0, 0, 0, 0, 0, 0, 0, 0, 0, 0, 0, 0, 0, 0, 0, 0, 0, 0, 0, 0, 0, 0, 0, 0], 'W237': [0, 0, 0, 0, 0, 0, 0, 0, 0, 0, 0, 0, 0, 0, 0, 0, 0, 0, 1, 0, 0, 0, 0, 0], 'W238': [0, 0, 0, 0, 0, 0, 0, 0, 0, 0, 0, 0, 0, 0, 0, 0, 0, 0, 1, 0, 0, 0, 0, 0], 'W239': [0, 0, 0, 0, 0, 0, 0, 0, 0, 0, 0, 0, 0, 0, 0, 0, 0, 0, 0, 0, 0, 0, 0, 0], 'W240': [0, 0, 0, 0, 0, 0, 0, 0, 0, 0, 0, 0, 0, 0, 0, 0, 0, 0, 1, 0, 0, 0, 0, 0], 'W241': [0, 0, 0, 0, 0, 0, 0, 0, 0, 0, 0, 0, 0, 0, 0, 0, 0, 0, 0, 0, 0, 0, 0, 0], 'W242': [0, 0, 0, 0, 0, 0, 0, 0, 0, 0, 0, 0, 0, 0, 0, 0, 0, 0, 0, 0, 0, 0, 0, 0], 'W243': [0, 0, 0, 0, 0, 0, 0, 0, 0, 0, 0, 0, 0, 0, 0, 0, 0, 0, 0, 0, 0, 0, 0, 0], 'W244': [0, 0, 0, 0, 0, 0, 0, 0, 0, 0, 0, 0, 0, 0, 0, 0, 0, 0, 0, 0, 0, 0, 0, 0], 'W245': [0, 0, 0, 0, 0, 0, 0, 0, 0, 0, 0, 0, 0, 0, 0, 0, 0, 0, 1, 0, 0, 0, 0, 0], 'W246': [0, 0, 0, 0, 0, 0, 0, 0, 0, 0, 0, 0, 0, 0, 0, 0, 0, 0, 1, 0, 0, 0, 0, 0], 'W247': [0, 0, 0, 0, 0, 0, 0, 0, 0, 0, 0, 0, 0, 0, 0, 0, 0, 0, 1, 0, 0, 0, 0, 0], 'W248': [0, 0, 0, 0, 0, 0, 0, 0, 0, 0, 0, 0, 0, 0, 0, 0, 0, 0, 1, 0, 0, 0, 0, 0], 'W249': [0, 0, 0, 0, 0, 0, 0, 0, 0, 0, 0, 0, 0, 0, 0, 0, 0, 2, 0, 0, 0, 0, 0, 0], 'W250': [0, 0, 0, 0, 0, 0, 0, 0, 0, 0, 0, 0, 0, 0, 0, 0, 0, 2, 0, 0, 0, 0, 0, 0], 'W251': [0, 0, 0, 0, 0, 0, 0, 0, 0, 0, 0, 0, 0, 0, 0, 0, 0, 0, 0, 0, 0, 0, 0, 0], 'W252': [0, 0, 0, 0, 0, 0, 0, 0, 0, 0, 0, 0, 0, 0, 0, 0, 0, 2, 0, 0, 0, 0, 0, 0], 'W253': [0, 0, 0, 0, 0, 0, 0, 0, 0, 0, 0, 0, 0, 0, 0, 0, 0, 0, 0, 0, 0, 0, 0, 0], 'W254': [0, 0, 0, 0, 0, 0, 0, 0, 0, 0, 0, 0, 0, 0, 0, 0, 0, 0, 0, 0, 0, 0, 0, 0], 'W255': [0, 0, 0, 0, 0, 0, 0, 0, 0, 0, 0, 0, 0, 0, 0, 0, 0, 0, 0, 0, 0, 0, 0, 0], 'W256': [0, 0, 0, 0, 0, 0, 0, 0, 0, 0, 0, 0, 0, 0, 0, 0, 0, 0, 0, 0, 0, 0, 0, 0], 'W257': [0, 0, 0, 0, 0, 0, 0, 0, 0, 0, 0, 0, 0, 0, 0, 0, 0, 0, 0, 0, 0, 0, 0, 0], 'W258': [0, 0, 0, 0, 0, 0, 0, 0, 0, 0, 0, 0, 0, 0, 0, 0, 0, 2, 0, 0, 0, 0, 0, 0], 'W259': [0, 0, 0, 0, 0, 0, 0, 0, 0, 0, 0, 0, 0, 0, 0, 0, 0, 0, 0, 0, 0, 0, 0, 0], 'W260': [0, 0, 0, 0, 0, 0, 0, 0, 0, 0, 0, 0, 0, 0, 0, 0, 0, 0, 0, 0, 0, 0, 0, 0], 'W261': [0, 0, 0, 0, 0, 0, 0, 0, 0, 0, 0, 0, 0, 0, 0, 0, 0, 1, 0, 0, 0, 0, 0, 0], 'W262': [0, 0, 0, 0, 0, 0, 0, 0, 0, 0, 0, 0, 0, 0, 0, 0, 0, 0, 0, 0, 0, 0, 0, 1], 'W263': [0, 0, 0, 0, 0, 0, 0, 0, 0, 0, 0, 0, 0, 0, 0, 0, 0, 0, 1, 0, 0, 0, 0, 0], 'W264': [0, 0, 0, 0, 0, 0, 0, 0, 0, 0, 0, 0, 0, 0, 0, 0, 0, 0, 1, 0, 0, 0, 0, 0], 'W265': [0, 0, 0, 0, 0, 0, 0, 0, 0, 0, 0, 0, 0, 0, 0, 0, 0, 0, 1, 0, 0, 0, 0, 0], 'W266': [0, 0, 0, 0, 0, 0, 0, 0, 0, 0, 0, 0, 0, 0, 0, 0, 0, 0, 1, 0, 0, 0, 0, 0], 'W267': [0, 0, 0, 0, 0, 0, 0, 0, 0, 0, 0, 0, 0, 0, 0, 0, 0, 0, 0, 0, 0, 0, 0, 0], 'W268': [0, 0, 0, 0, 0, 0, 0, 0, 0, 0, 0, 0, 0, 0, 0, 0, 0, 0, 1, 0, 0, 0, 0, 0], 'W269': [0, 0, 0, 0, 0, 0, 0, 0, 0, 0, 0, 0, 0, 0, 0, 0, 0, 0, 1, 0, 0, 0, 0, 0], 'W270': [0, 0, 0, 0, 0, 0, 0, 0, 0, 0, 0, 0, 0, 0, 0, 0, 0, 0, 1, 0, 0, 0, 0, 0], 'W271': [0, 0, 0, 0, 0, 0, 0, 0, 0, 0, 0, 0, 0, 0, 0, 0, 0, 0, 1, 0, 0, 0, 0, 0], 'W272': [0, 0, 0, 0, 0, 0, 0, 0, 0, 0, 0, 0, 0, 0, 0, 0, 0, 0, 0, 1, 0, 0, 0, 0], 'W273': [0, 0, 0, 0, 0, 0, 0, 0, 0, 0, 0, 0, 0, 0, 0, 0, 0, 0, 0, 0, 0, 0, 0, 0], 'W274': [0, 0, 0, 0, 0, 0, 0, 0, 0, 0, 0, 0, 0, 0, 0, 0, 0, 0, 0, 1, 0, 0, 0, 0], 'W275': [0, 0, 0, 0, 0, 0, 0, 0, 0, 0, 0, 0, 0, 0, 0, 0, 0, 0, 0, 0, 0, 0, 0, 0], 'W276': [0, 0, 0, 0, 0, 0, 0, 0, 0, 0, 0, 0, 0, 0, 0, 0, 0, 1, 0, 0, 0, 0, 0, 0], 'W277': [0, 0, 0, 0, 0, 0, 0, 0, 0, 0, 0, 0, 0, 0, 0, 0, 0, 1, 0, 0, 0, 0, 0, 0], 'W278': [0, 0, 0, 0, 0, 0, 0, 0, 0, 0, 0, 0, 0, 0, 0, 0, 0, 1, 0, 0, 0, 0, 0, 0], 'W279': [0, 0, 0, 0, 0, 0, 0, 0, 0, 0, 0, 0, 0, 0, 0, 0, 0, 0, 0, 0, 0, 0, 0, 0], 'W280': [0, 0, 0, 0, 0, 0, 0, 0, 0, 0, 0, 0, 0, 0, 0, 0, 0, 1, 0, 0, 0, 0, 0, 0], 'W281': [0, 0, 0, 0, 0, 0, 0, 0, 0, 0, 0, 0, 0, 0, 0, 0, 0, 0, 0, 0, 0, 0, 0, 0], 'W282': [0, 0, 0, 0, 0, 0, 0, 0, 0, 0, 0, 0, 0, 0, 0, 0, 0, 0, 1, 0, 0, 0, 0, 0], 'W283': [0, 0, 0, 0, 0, 0, 0, 0, 0, 0, 0, 0, 0, 0, 0, 0, 0, 2, 0, 0, 0, 0, 0, 0], 'W284': [0, 0, 0, 0, 0, 0, 0, 0, 0, 0, 0, 0, 0, 0, 0, 0, 0, 0, 0, 0, 0, 0, 0, 0], 'W285': [0, 0, 0, 0, 0, 0, 0, 0, 0, 0, 0, 0, 0, 0, 0, 0, 0, 0, 0, 0, 0, 0, 0, 0], 'W286': [0, 0, 0, 0, 0, 0, 0, 0, 0, 0, 0, 0, 0, 0, 0, 0, 0, 1, 0, 0, 0, 0, 0, 0], 'W287': [0, 0, 0, 0, 0, 0, 0, 0, 0, 0, 0, 0, 0, 0, 0, 0, 0, 0, 0, 0, 0, 0, 1, 0], 'W288': [0, 0, 0, 0, 0, 0, 0, 0, 0, 0, 0, 0, 0, 0, 0, 0, 0, 0, 0, 0, 0, 0, 0, 0], 'W289': [0, 0, 0, 0, 0, 0, 0, 0, 0, 0, 0, 0, 0, 0, 0, 0, 0, 0, 1, 0, 0, 0, 0, 0], 'W290': [0, 0, 0, 0, 0, 0, 0, 0, 0, 0, 0, 0, 0, 0, 0, 0, 0, 0, 0, 0, 0, 0, 0, 0], 'W291': [0, 0, 0, 0, 0, 0, 0, 0, 0, 0, 0, 0, 0, 0, 0, 0, 0, 0, 0, 1, 0, 0, 0, 0], 'W292': [0, 0, 0, 0, 0, 0, 0, 0, 0, 0, 0, 0, 0, 0, 0, 0, 0, 0, 0, 1, 0, 0, 0, 0], 'W293': [0, 0, 0, 0, 0, 0, 0, 0, 0, 0, 0, 0, 0, 0, 0, 0, 0, 0, 0, 0, 0, 0, 0, 0], 'W294': [0, 0, 0, 0, 0, 0, 0, 0, 0, 0, 0, 0, 0, 0, 0, 0, 0, 0, 0, 0, 0, 0, 0, 0], 'W295': [0, 0, 0, 0, 0, 0, 0, 0, 0, 0, 0, 0, 0, 0, 0, 0, 0, 0, 1, 0, 0, 0, 0, 0], 'W296': [0, 0, 0, 0, 0, 0, 0, 0, 0, 0, 0, 0, 0, 0, 0, 0, 0, 1, 0, 0, 0, 0, 0, 0], 'W297': [0, 0, 0, 0, 0, 0, 0, 0, 0, 0, 0, 0, 0, 0, 0, 0, 0, 1, 0, 0, 0, 0, 0, 0], 'W298': [0, 0, 0, 0, 0, 0, 0, 0, 0, 0, 0, 0, 0, 0, 0, 0, 0, 0, 0, 1, 0, 0, 0, 0], 'W299': [0, 0, 0, 0, 0, 0, 0, 0, 0, 0, 0, 0, 0, 0, 0, 0, 0, 0, 0, 0, 0, 0, 0, 0], 'W300': [0, 0, 0, 0, 0, 0, 0, 0, 0, 0, 0, 0, 0, 0, 0, 0, 0, 0, 0, 0, 0, 0, 0, 0], 'W301': [0, 0, 0, 0, 0, 0, 0, 0, 0, 0, 0, 0, 0, 0, 0, 0, 0, 0, 0, 0, 0, 0, 0, 0], 'W302': [0, 0, 0, 0, 0, 0, 0, 0, 0, 0, 0, 0, 0, 0, 0, 0, 0, 0, 0, 0, 0, 0, 0, 0], 'W303': [0, 0, 0, 0, 0, 0, 0, 0, 0, 0, 0, 0, 0, 0, 0, 0, 0, 0, 0, 0, 0, 0, 0, 0], 'W304': [0, 0, 0, 0, 0, 0, 0, 0, 0, 0, 0, 0, 0, 0, 0, 0, 0, 0, 0, 0, 0, 0, 0, 0], 'W305': [0, 0, 0, 0, 0, 0, 0, 0, 0, 0, 0, 0, 0, 0, 0, 0, 0, 2, 0, 0, 0, 0, 0, 0], 'W306': [0, 0, 0, 0, 0, 0, 0, 0, 0, 0, 0, 0, 0, 0, 0, 0, 0, 0, 0, 0, 0, 0, 0, 0], 'W307': [0, 0, 0, 0, 0, 0, 0, 0, 0, 0, 0, 0, 0, 0, 0, 0, 0, 0, 1, 0, 0, 0, 0, 0], 'W308': [0, 0, 0, 0, 0, 0, 0, 0, 0, 0, 0, 0, 0, 0, 0, 0, 0, 0, 1, 0, 0, 0, 0, 0], 'W309': [0, 0, 0, 0, 0, 0, 0, 0, 0, 0, 0, 0, 0, 0, 0, 0, 0, 0, 1, 0, 0, 0, 0, 0], 'W310': [0, 0, 0, 0, 0, 0, 0, 0, 0, 0, 0, 0, 0, 0, 0, 0, 0, 0, 0, 0, 0, 0, 0, 0], 'W311': [0, 0, 0, 0, 0, 0, 0, 0, 0, 0, 0, 0, 0, 0, 0, 0, 0, 0, 0, 0, 0, 0, 0, 0], 'W312': [0, 0, 0, 0, 0, 0, 0, 0, 0, 0, 0, 0, 0, 0, 0, 0, 0, 0, 1, 0, 0, 0, 0, 0], 'W313': [0, 0, 0, 0, 0, 0, 0, 0, 0, 0, 0, 0, 0, 0, 0, 0, 0, 0, 0, 0, 0, 0, 1, 0], 'W314': [0, 0, 0, 0, 0, 0, 0, 0, 0, 0, 0, 0, 0, 0, 0, 0, 0, 0, 0, 0, 0, 0, 0, 0], 'W315': [0, 0, 0, 0, 0, 0, 0, 0, 0, 0, 0, 0, 0, 0, 0, 0, 0, 0, 1, 0, 0, 0, 0, 0], 'W316': [0, 0, 0, 0, 0, 0, 0, 0, 0, 0, 0, 0, 0, 0, 0, 0, 0, 0, 0, 0, 0, 0, 0, 0], 'W317': [0, 0, 0, 0, 0, 0, 0, 0, 0, 0, 0, 0, 0, 0, 0, 0, 0, 0, 1, 0, 0, 0, 0, 0], 'W318': [0, 0, 0, 0, 0, 0, 0, 0, 0, 0, 0, 0, 0, 0, 0, 0, 0, 0, 0, 0, 0, 0, 0, 0], 'W319': [0, 0, 0, 0, 0, 0, 0, 0, 0, 0, 0, 0, 0, 0, 0, 0, 0, 0, 0, 0, 1, 0, 0, 0], 'W320': [0, 0, 0, 0, 0, 0, 0, 0, 0, 0, 0, 0, 0, 0, 0, 0, 0, 0, 0, 1, 0, 0, 0, 0], 'W321': [0, 0, 0, 0, 0, 0, 0, 0, 0, 0, 0, 0, 0, 0, 0, 0, 0, 0, 0, 0, 0, 0, 0, 0], 'W322': [0, 0, 0, 0, 0, 0, 0, 0, 0, 0, 0, 0, 0, 0, 0, 0, 0, 0, 1, 0, 0, 0, 0, 0], 'W323': [0, 0, 0, 0, 0, 0, 0, 0, 0, 0, 0, 0, 0, 0, 0, 0, 0, 2, 0, 0, 0, 0, 0, 0], 'W324': [0, 0, 0, 0, 0, 0, 0, 0, 0, 0, 0, 0, 0, 0, 0, 0, 0, 2, 0, 0, 0, 0, 0, 0], 'W325': [0, 0, 0, 0, 0, 0, 0, 0, 0, 0, 0, 0, 0, 0, 0, 0, 0, 0, 0, 0, 0, 0, 0, 0], 'W326': [0, 0, 0, 0, 0, 0, 0, 0, 0, 0, 0, 0, 0, 0, 0, 0, 0, 2, 0, 0, 0, 0, 0, 0], 'W327': [0, 0, 0, 0, 0, 0, 0, 0, 0, 0, 0, 0, 0, 0, 0, 0, 0, 0, 0, 0, 0, 0, 0, 0], 'W328': [0, 0, 0, 0, 0, 0, 0, 0, 0, 0, 0, 0, 0, 0, 0, 0, 0, 2, 0, 0, 0, 0, 0, 0], 'W329': [0, 0, 0, 0, 0, 0, 0, 0, 0, 0, 0, 0, 0, 0, 0, 0, 0, 0, 0, 0, 0, 0, 0, 0], 'W330': [0, 0, 0, 0, 0, 0, 0, 0, 0, 0, 0, 0, 0, 0, 0, 0, 0, 1, 0, 0, 0, 0, 0, 0]}\n"
     ]
    }
   ],
   "source": [
    "querySequence = \"AAGATCTNNNNNNAACCTTTCACC\"\n",
    "alignmentScore = dict()\n",
    "for k,v in sequences.items():\n",
    "    alignmentScore[k] = alignSequences(querySequence, v)\n",
    "print(alignmentScore)"
   ],
   "metadata": {
    "collapsed": false,
    "ExecuteTime": {
     "end_time": "2023-05-09T04:40:57.588828Z",
     "start_time": "2023-05-09T04:40:57.496188Z"
    }
   }
  },
  {
   "cell_type": "code",
   "execution_count": 125,
   "outputs": [
    {
     "data": {
      "text/plain": "{'W011': -55,\n 'W002': -56,\n 'W004': -56,\n 'W288': -56,\n 'W008': -58,\n 'W116': -58,\n 'W281': -60,\n 'C082': -70,\n 'W038': -71,\n 'C067': -74,\n 'C075': -74,\n 'W260': -76,\n 'C138': -77,\n 'W007': -78,\n 'C093': -80,\n 'C130': -80,\n 'C195': -80,\n 'W022': -80,\n 'W325': -80,\n 'W119': -82,\n 'W188': -82,\n 'W290': -82,\n 'C111': -85,\n 'W153': -86,\n 'W056': -88,\n 'C137': -89,\n 'W122': -89,\n 'C186': -93,\n 'C084': -95,\n 'W128': -96,\n 'W324': -99,\n 'C171': -100,\n 'W143': -100,\n 'C070': -101,\n 'W173': -101,\n 'C005': -102,\n 'W102': -102,\n 'W273': -102,\n 'W251': -104,\n 'W257': -104,\n 'W284': -104,\n 'C003': -106,\n 'W003': -106,\n 'W041': -106,\n 'W123': -106,\n 'W285': -106,\n 'C181': -107,\n 'W059': -108,\n 'C144': -110,\n 'C074': -111,\n 'C021': -112,\n 'C101': -112,\n 'W067': -112,\n 'C087': -114,\n 'C187': -114,\n 'W070': -114,\n 'C049': -116,\n 'C050': -116,\n 'C053': -116,\n 'C102': -116,\n 'C147': -116,\n 'W152': -116,\n 'C085': -117,\n 'C071': -118,\n 'C099': -118,\n 'C106': -118,\n 'W124': -118,\n 'C016': -119,\n 'C056': -119,\n 'C089': -120,\n 'W147': -120,\n 'W194': -120,\n 'W241': -120,\n 'W299': -120,\n 'W321': -120,\n 'W127': -121,\n 'W326': -121,\n 'W082': -122,\n 'W329': -122,\n 'W018': -123,\n 'W064': -123,\n 'W139': -123,\n 'W302': -124,\n 'C035': -125,\n 'C010': -126,\n 'W062': -126,\n 'W097': -126,\n 'W225': -126,\n 'C001': -127,\n 'C032': -127,\n 'W132': -127,\n 'C040': -128,\n 'C153': -128,\n 'C157': -128,\n 'W306': -128,\n 'C036': -129,\n 'C121': -129,\n 'W112': -129,\n 'C119': -130,\n 'W085': -130,\n 'W158': -130,\n 'W193': -130,\n 'W236': -130,\n 'W239': -130,\n 'W243': -130,\n 'W244': -130,\n 'W259': -130,\n 'C073': -131,\n 'C173': -131,\n 'W031': -131,\n 'W032': -131,\n 'W084': -131,\n 'C011': -132,\n 'C012': -132,\n 'C022': -132,\n 'C061': -132,\n 'C062': -132,\n 'C065': -132,\n 'C069': -132,\n 'C160': -132,\n 'W051': -132,\n 'W146': -132,\n 'W161': -132,\n 'W163': -132,\n 'W166': -132,\n 'W167': -132,\n 'W168': -132,\n 'W176': -132,\n 'W177': -132,\n 'W182': -132,\n 'W184': -132,\n 'W186': -132,\n 'W195': -132,\n 'W202': -132,\n 'W211': -132,\n 'W213': -132,\n 'W216': -132,\n 'W227': -132,\n 'W234': -132,\n 'W242': -132,\n 'W267': -132,\n 'W293': -132,\n 'W301': -132,\n 'W310': -132,\n 'W311': -132,\n 'W316': -132,\n 'C072': -133,\n 'C107': -133,\n 'C142': -133,\n 'C175': -133,\n 'C185': -133,\n 'W021': -133,\n 'W054': -133,\n 'W148': -133,\n 'W154': -133,\n 'W172': -133,\n 'W274': -133,\n 'W291': -133,\n 'W298': -133,\n 'C103': -134,\n 'C196': -134,\n 'W045': -134,\n 'W319': -134,\n 'C063': -135,\n 'C120': -137,\n 'C149': -137,\n 'C172': -137,\n 'C189': -137,\n 'C017': -139,\n 'C057': -139,\n 'C177': -139,\n 'W323': -139,\n 'C060': -140,\n 'C076': -140,\n 'C081': -140,\n 'C184': -140,\n 'W047': -140,\n 'W135': -140,\n 'W013': -141,\n 'W060': -141,\n 'W249': -141,\n 'W250': -141,\n 'W328': -141,\n 'C020': -142,\n 'C033': -142,\n 'C058': -142,\n 'C059': -142,\n 'C122': -142,\n 'C124': -142,\n 'C155': -142,\n 'C156': -142,\n 'C159': -142,\n 'C161': -142,\n 'C203': -142,\n 'W079': -142,\n 'W145': -142,\n 'W223': -142,\n 'W240': -142,\n 'C004': -143,\n 'C139': -143,\n 'C193': -143,\n 'C027': -144,\n 'C041': -144,\n 'C045': -144,\n 'C127': -144,\n 'W073': -144,\n 'W133': -144,\n 'W199': -144,\n 'W206': -144,\n 'W269': -144,\n 'W282': -144,\n 'W125': -145,\n 'C006': -146,\n 'C007': -146,\n 'C009': -146,\n 'C019': -146,\n 'C030': -146,\n 'C031': -146,\n 'C037': -146,\n 'C043': -146,\n 'C046': -146,\n 'C055': -146,\n 'C068': -146,\n 'C112': -146,\n 'C113': -146,\n 'C148': -146,\n 'C151': -146,\n 'C164': -146,\n 'C165': -146,\n 'C168': -146,\n 'C169': -146,\n 'C170': -146,\n 'C174': -146,\n 'W023': -146,\n 'W040': -146,\n 'W043': -146,\n 'W149': -146,\n 'W150': -146,\n 'W151': -146,\n 'W156': -146,\n 'W157': -146,\n 'W164': -146,\n 'W170': -146,\n 'W174': -146,\n 'W179': -146,\n 'W180': -146,\n 'W183': -146,\n 'W197': -146,\n 'W200': -146,\n 'W201': -146,\n 'W221': -146,\n 'W222': -146,\n 'W224': -146,\n 'W228': -146,\n 'W229': -146,\n 'W230': -146,\n 'W233': -146,\n 'W238': -146,\n 'W245': -146,\n 'W263': -146,\n 'W264': -146,\n 'W265': -146,\n 'W268': -146,\n 'W271': -146,\n 'W289': -146,\n 'W295': -146,\n 'W307': -146,\n 'W308': -146,\n 'W309': -146,\n 'W312': -146,\n 'W315': -146,\n 'W317': -146,\n 'W322': -146,\n 'W118': -148,\n 'W300': -148,\n 'C188': -149,\n 'W159': -149,\n 'C034': -150,\n 'C054': -150,\n 'W010': -150,\n 'W061': -150,\n 'W063': -150,\n 'W068': -150,\n 'W226': -150,\n 'W327': -150,\n 'C048': -152,\n 'C051': -152,\n 'C064': -152,\n 'C123': -152,\n 'W005': -152,\n 'W006': -152,\n 'W024': -152,\n 'W027': -152,\n 'W052': -152,\n 'W053': -152,\n 'W057': -152,\n 'W065': -152,\n 'W113': -152,\n 'W120': -152,\n 'W209': -152,\n 'W235': -152,\n 'W253': -152,\n 'W275': -152,\n 'W303': -152,\n 'C002': -154,\n 'W071': -154,\n 'W208': -154,\n 'W231': -154,\n 'W181': -155,\n 'C079': -156,\n 'C133': -156,\n 'C176': -156,\n 'W074': -156,\n 'C094': -158,\n 'C118': -158,\n 'C134': -158,\n 'C163': -158,\n 'W171': -158,\n 'W217': -158,\n 'W218': -158,\n 'W313': -158,\n 'W083': -159,\n 'W101': -159,\n 'W276': -159,\n 'C066': -160,\n 'C095': -160,\n 'W026': -160,\n 'W033': -160,\n 'W036': -160,\n 'W107': -160,\n 'C052': -161,\n 'W304': -162,\n 'C014': -163,\n 'C018': -163,\n 'C026': -163,\n 'C028': -163,\n 'C116': -163,\n 'C146': -163,\n 'C150': -163,\n 'C152': -163,\n 'C154': -163,\n 'W012': -163,\n 'W016': -163,\n 'W088': -163,\n 'W117': -163,\n 'W130': -163,\n 'W162': -163,\n 'W283': -163,\n 'W305': -163,\n 'W155': -164,\n 'C023': -165,\n 'C179': -168,\n 'C128': -169,\n 'C180': -169,\n 'C183': -169,\n 'C202': -169,\n 'W098': -169,\n 'W100': -169,\n 'W108': -169,\n 'W292': -169,\n 'W078': -170,\n 'W095': -170,\n 'W279': -170,\n 'W019': -171,\n 'C008': -172,\n 'C125': -172,\n 'C143': -172,\n 'W030': -172,\n 'W110': -172,\n 'W114': -172,\n 'W294': -172,\n 'W314': -172,\n 'C029': -173,\n 'C078': -173,\n 'C088': -173,\n 'C096': -173,\n 'C100': -173,\n 'C129': -173,\n 'C135': -173,\n 'C136': -173,\n 'C141': -173,\n 'C190': -173,\n 'C198': -173,\n 'C199': -173,\n 'C200': -173,\n 'C201': -173,\n 'W039': -173,\n 'W126': -173,\n 'W191': -173,\n 'W192': -173,\n 'W252': -173,\n 'W262': -173,\n 'W272': -173,\n 'W320': -173,\n 'C025': -174,\n 'C178': -174,\n 'W017': -174,\n 'W086': -174,\n 'W178': -174,\n 'W254': -174,\n 'W318': -174,\n 'C047': -175,\n 'C080': -175,\n 'C097': -175,\n 'C104': -175,\n 'C108': -175,\n 'C109': -175,\n 'C192': -175,\n 'C194': -175,\n 'W009': -175,\n 'W111': -175,\n 'W203': -175,\n 'W066': -176,\n 'W087': -176,\n 'W089': -176,\n 'W093': -176,\n 'W219': -176,\n 'W255': -176,\n 'W042': -177,\n 'C024': -178,\n 'C114': -178,\n 'C145': -178,\n 'W055': -180,\n 'C077': -182,\n 'C098': -182,\n 'W001': -182,\n 'W029': -182,\n 'W035': -182,\n 'W075': -182,\n 'W137': -182,\n 'W207': -182,\n 'W256': -182,\n 'C039': -184,\n 'C158': -184,\n 'W210': -184,\n 'W247': -184,\n 'C013': -185,\n 'C015': -185,\n 'W015': -185,\n 'W020': -185,\n 'W025': -185,\n 'W034': -185,\n 'W048': -185,\n 'W072': -185,\n 'W077': -185,\n 'W090': -185,\n 'W091': -185,\n 'W092': -185,\n 'W096': -185,\n 'W099': -185,\n 'W103': -185,\n 'W136': -185,\n 'W141': -185,\n 'W214': -185,\n 'W215': -185,\n 'W220': -185,\n 'W258': -185,\n 'W261': -185,\n 'W277': -185,\n 'W278': -185,\n 'W280': -185,\n 'W286': -185,\n 'W296': -185,\n 'W297': -185,\n 'W330': -185,\n 'C091': -186,\n 'C092': -186,\n 'C110': -186,\n 'C131': -186,\n 'C140': -186,\n 'C182': -186,\n 'C191': -186,\n 'W037': -186,\n 'W144': -186,\n 'W198': -186,\n 'W212': -186,\n 'W246': -186,\n 'W266': -186,\n 'W270': -186,\n 'W106': -187,\n 'W140': -187,\n 'C042': -188,\n 'C044': -188,\n 'C090': -188,\n 'C115': -188,\n 'C117': -188,\n 'C132': -188,\n 'C166': -188,\n 'C167': -188,\n 'C197': -188,\n 'W044': -188,\n 'W046': -188,\n 'W058': -188,\n 'W080': -188,\n 'W138': -188,\n 'W165': -188,\n 'W169': -188,\n 'W185': -188,\n 'W187': -188,\n 'W189': -188,\n 'W204': -188,\n 'W205': -188,\n 'W237': -188,\n 'W248': -188,\n 'W109': -193,\n 'W160': -193,\n 'C086': -197,\n 'C162': -197,\n 'W014': -197,\n 'W049': -197,\n 'W105': -197,\n 'W134': -197,\n 'W028': -198,\n 'W069': -200,\n 'W076': -200,\n 'W094': -200,\n 'W104': -200,\n 'W115': -200,\n 'W121': -200,\n 'W131': -200,\n 'W142': -200,\n 'W287': -200,\n 'C105': -201,\n 'W050': -204,\n 'C083': -206,\n 'W081': -207,\n 'W129': -211,\n 'W175': -217,\n 'C038': -225}"
     },
     "execution_count": 125,
     "metadata": {},
     "output_type": "execute_result"
    }
   ],
   "source": [
    "sorted_dict_by_value_desc = dict(sorted(alignmentScore.items(), key=lambda item: item[1], reverse=True))\n",
    "sorted_dict_by_value_desc"
   ],
   "metadata": {
    "collapsed": false,
    "ExecuteTime": {
     "end_time": "2023-05-09T04:40:20.450401Z",
     "start_time": "2023-05-09T04:40:20.439056Z"
    }
   }
  },
  {
   "cell_type": "code",
   "execution_count": 119,
   "outputs": [],
   "source": [
    "k = 5"
   ],
   "metadata": {
    "collapsed": false,
    "ExecuteTime": {
     "end_time": "2023-05-09T04:38:29.137499Z",
     "start_time": "2023-05-09T04:38:29.130382Z"
    }
   }
  },
  {
   "cell_type": "code",
   "execution_count": 120,
   "outputs": [
    {
     "data": {
      "text/plain": "['C048', 'C064', 'W027', 'W052', 'W109']"
     },
     "execution_count": 120,
     "metadata": {},
     "output_type": "execute_result"
    }
   ],
   "source": [
    "topk = list(sorted_dict_by_value_desc.keys())[:k]\n",
    "topk"
   ],
   "metadata": {
    "collapsed": false,
    "ExecuteTime": {
     "end_time": "2023-05-09T04:38:29.741631Z",
     "start_time": "2023-05-09T04:38:29.733954Z"
    }
   }
  },
  {
   "cell_type": "code",
   "execution_count": 121,
   "outputs": [],
   "source": [
    "import pandas as pd\n",
    "df = pd.read_csv(\"mapping_24.csv\")\n",
    "df['Subpopulation']= df['Subpopulation'].astype(\"string\")"
   ],
   "metadata": {
    "collapsed": false,
    "ExecuteTime": {
     "end_time": "2023-05-09T04:38:31.692409Z",
     "start_time": "2023-05-09T04:38:31.682018Z"
    }
   }
  },
  {
   "cell_type": "code",
   "execution_count": 122,
   "outputs": [
    {
     "name": "stdout",
     "output_type": "stream",
     "text": [
      "Index(['Cultivar ID', 'vg0112116426', 'vg0128525986', 'vg0130976864',\n",
      "       'vg0131664768', 'vg0133440209', 'vg0135617816', 'vg0135642980',\n",
      "       'vg0138418739', 'vg0138428840', 'vg0138608956', 'vg0138999212',\n",
      "       'vg0405463422', 'vg0405463763', 'vg0603483061', 'vg0713178880',\n",
      "       'vg0719727299', 'vg0719727339', 'vg0719834473', 'vg0819793460',\n",
      "       'vg0904094998', 'vg0904282939', 'vg1019044175', 'vg1123563633',\n",
      "       'vg1207667840', 'Subpopulation', 'Plant Height (cm)', 'sequence'],\n",
      "      dtype='object')\n"
     ]
    }
   ],
   "source": [
    "print(df.columns)"
   ],
   "metadata": {
    "collapsed": false,
    "ExecuteTime": {
     "end_time": "2023-05-09T04:38:31.908986Z",
     "start_time": "2023-05-09T04:38:31.900907Z"
    }
   }
  },
  {
   "cell_type": "code",
   "execution_count": 123,
   "outputs": [
    {
     "name": "stdout",
     "output_type": "stream",
     "text": [
      "C048 Temperate Japonica\n",
      "C064 Temperate Japonica\n",
      "W027 Temperate Japonica\n",
      "W052 Temperate Japonica\n",
      "W109 Temperate Japonica\n"
     ]
    }
   ],
   "source": [
    "for cultivar in topk:\n",
    "    row = df.loc[df['Cultivar ID'] == cultivar]\n",
    "    print(cultivar, row['Subpopulation'].item())\n"
   ],
   "metadata": {
    "collapsed": false,
    "ExecuteTime": {
     "end_time": "2023-05-09T04:38:32.947886Z",
     "start_time": "2023-05-09T04:38:32.942569Z"
    }
   }
  },
  {
   "cell_type": "code",
   "execution_count": 92,
   "outputs": [],
   "source": [],
   "metadata": {
    "collapsed": false,
    "ExecuteTime": {
     "end_time": "2023-05-09T02:34:06.982206Z",
     "start_time": "2023-05-09T02:34:06.975141Z"
    }
   }
  },
  {
   "cell_type": "code",
   "execution_count": null,
   "outputs": [],
   "source": [
    "C051 : GAAAGCCGTATGTGTGTTAACTTT\n",
    "       GAAAGCCGTATGTGTGTTAACTTT\n",
    "C119 : GAAAGCCGTATGTATGTTAACTTT\n",
    "       GAAAGCCGTATGTATGTTAACTTT\n",
    "W158 : GAAAGCCGTATGTATGTTAACCTT\n"
   ],
   "metadata": {
    "collapsed": false
   }
  },
  {
   "cell_type": "code",
   "execution_count": 107,
   "outputs": [
    {
     "data": {
      "text/plain": "24"
     },
     "execution_count": 107,
     "metadata": {},
     "output_type": "execute_result"
    }
   ],
   "source": [
    "len(\"AAGATCTNNNNNNAACCTTTCACC\")"
   ],
   "metadata": {
    "collapsed": false,
    "ExecuteTime": {
     "end_time": "2023-05-09T04:36:58.605014Z",
     "start_time": "2023-05-09T04:36:58.600847Z"
    }
   }
  },
  {
   "cell_type": "code",
   "execution_count": 115,
   "outputs": [
    {
     "data": {
      "text/plain": "24"
     },
     "execution_count": 115,
     "metadata": {},
     "output_type": "execute_result"
    }
   ],
   "source": [
    "S2 = \"GAAAGCCATACGCGTGTTAACCTT\"\n",
    "len(S2)"
   ],
   "metadata": {
    "collapsed": false,
    "ExecuteTime": {
     "end_time": "2023-05-09T04:38:08.168902Z",
     "start_time": "2023-05-09T04:38:08.167281Z"
    }
   }
  },
  {
   "cell_type": "code",
   "execution_count": 126,
   "outputs": [],
   "source": [
    "def alignSequences(sequence1, sequence2, matchPenalty = 1, mismatchPenalty = -1, gapPenalty = -2):\n",
    "    mat = constructMatrix(sequence1, sequence2)\n",
    "    matrix = initMatrix(mat, gapPenalty)\n",
    "    fillMatrix(matrix, sequence1, sequence2, matchPenalty, mismatchPenalty, gapPenalty)\n",
    "    dir = backTrack(matrix, matchPenalty, mismatchPenalty, gapPenalty)\n",
    "    return dir[0]"
   ],
   "metadata": {
    "collapsed": false,
    "ExecuteTime": {
     "end_time": "2023-05-09T04:40:53.496441Z",
     "start_time": "2023-05-09T04:40:53.485765Z"
    }
   }
  },
  {
   "cell_type": "code",
   "execution_count": null,
   "outputs": [],
   "source": [],
   "metadata": {
    "collapsed": false
   }
  }
 ],
 "metadata": {
  "kernelspec": {
   "display_name": "Python 3",
   "language": "python",
   "name": "python3"
  },
  "language_info": {
   "codemirror_mode": {
    "name": "ipython",
    "version": 2
   },
   "file_extension": ".py",
   "mimetype": "text/x-python",
   "name": "python",
   "nbconvert_exporter": "python",
   "pygments_lexer": "ipython2",
   "version": "2.7.6"
  }
 },
 "nbformat": 4,
 "nbformat_minor": 0
}
