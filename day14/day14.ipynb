{
 "cells": [
  {
   "cell_type": "code",
   "execution_count": 10,
   "metadata": {
    "collapsed": true,
    "ExecuteTime": {
     "end_time": "2023-05-13T11:29:49.206022Z",
     "start_time": "2023-05-13T11:29:49.146910Z"
    }
   },
   "outputs": [],
   "source": [
    "import pandas as pd\n",
    "from height_score import height_range"
   ]
  },
  {
   "cell_type": "code",
   "execution_count": 11,
   "outputs": [
    {
     "data": {
      "text/plain": "    0  1  2  3  4  5  6  7  8  9  ... 17 18 19 20 21 22 23  \\\n0   G  A  G  N  G  C  C  A  T  N  ...  C  A  N  C            \n1   N  N  N  C  C  N  N  C  G  N  ...  N  C  T  T            \n2   G  N  G  N  N  N  C  N  N  N  ...  C  N  N  C  N  T  N   \n3   N  G  G  G  G  C  C  N  T  A  ...  T  A  A  C  C  N  C   \n4   G  A  G  N  G  C  C  A  T  A  ...  C  A  A  C  C  T  T   \n5   N  N  A  A  G  C  N  G  T  A  ...  N  N  N  C  T         \n6   G  N  G  N  N  N  N  G  T  A  ...  N  A  N               \n7   N  N  A  N  G  C  N  A  T  C  ...  N  A  A  C  N         \n8   N  N  G  N  N  N  C  A  N  C  ...  C  N  N  C  C         \n9   G  G  A  C  G  G  N  A  T  G  ...  N  C  N  C  T         \n10  A  G  A  G  C  C  A  T  A  G  ...  A  A  C  C  T         \n11  G  A  A  A  G  C  C  A  T  A  ...  C  A  A  C  C  T  T   \n12  G  A  A  A  G  C  C  A  T  A  ...                        \n13  G  A  G  G  G  C  C  A  T  A  ...  C  A  C  C  T  T  T   \n\n                    24     25                  sequence  \n0   TEMPORATE JAPONICA  126.0     GAGNGCCATNGGTNNGCCANC  \n1               INDICA  170.0     NNNCCNNCGNNNNNNCANCTT  \n2                  AUS  110.0  GNGNNNCNNNNNNNNNNCNNCNTN  \n3             AROMATIC  130.0  NGGGGCCNTAGNNGNGTTAACCNC  \n4             TROPICAL  169.0  GAGNGCCATAGGTNAGCCAACCTT  \n5   TEMPORATE JAPONICA   97.9    NNAAGCNGTATGTNTNNNNNCT  \n6               INDICA  106.0      GNGNNNNGTATNNNTNNNAN  \n7                  AUS  137.0    NNANGCNATCGNNNTNNNAACN  \n8         intermediate  137.0    NNGNNNCANCGNNATNNCNNCC  \n9               indica   96.0    GGACGGNATGTNNNNNANCNCT  \n10  TEMPORATE JAPONICA  128.0    AGAGCCATAGNNGNGNNAACCT  \n11              indica  147.0  GAAAGCCATAGGTGTACCAACCTT  \n12  TEMPORATE JAPONICA   98.0              GAAAGCCATAGG  \n13            AROMATIC  177.0  GAGGGCCATAGGTATGTCACCTTT  \n\n[14 rows x 27 columns]",
      "text/html": "<div>\n<style scoped>\n    .dataframe tbody tr th:only-of-type {\n        vertical-align: middle;\n    }\n\n    .dataframe tbody tr th {\n        vertical-align: top;\n    }\n\n    .dataframe thead th {\n        text-align: right;\n    }\n</style>\n<table border=\"1\" class=\"dataframe\">\n  <thead>\n    <tr style=\"text-align: right;\">\n      <th></th>\n      <th>0</th>\n      <th>1</th>\n      <th>2</th>\n      <th>3</th>\n      <th>4</th>\n      <th>5</th>\n      <th>6</th>\n      <th>7</th>\n      <th>8</th>\n      <th>9</th>\n      <th>...</th>\n      <th>17</th>\n      <th>18</th>\n      <th>19</th>\n      <th>20</th>\n      <th>21</th>\n      <th>22</th>\n      <th>23</th>\n      <th>24</th>\n      <th>25</th>\n      <th>sequence</th>\n    </tr>\n  </thead>\n  <tbody>\n    <tr>\n      <th>0</th>\n      <td>G</td>\n      <td>A</td>\n      <td>G</td>\n      <td>N</td>\n      <td>G</td>\n      <td>C</td>\n      <td>C</td>\n      <td>A</td>\n      <td>T</td>\n      <td>N</td>\n      <td>...</td>\n      <td>C</td>\n      <td>A</td>\n      <td>N</td>\n      <td>C</td>\n      <td></td>\n      <td></td>\n      <td></td>\n      <td>TEMPORATE JAPONICA</td>\n      <td>126.0</td>\n      <td>GAGNGCCATNGGTNNGCCANC</td>\n    </tr>\n    <tr>\n      <th>1</th>\n      <td>N</td>\n      <td>N</td>\n      <td>N</td>\n      <td>C</td>\n      <td>C</td>\n      <td>N</td>\n      <td>N</td>\n      <td>C</td>\n      <td>G</td>\n      <td>N</td>\n      <td>...</td>\n      <td>N</td>\n      <td>C</td>\n      <td>T</td>\n      <td>T</td>\n      <td></td>\n      <td></td>\n      <td></td>\n      <td>INDICA</td>\n      <td>170.0</td>\n      <td>NNNCCNNCGNNNNNNCANCTT</td>\n    </tr>\n    <tr>\n      <th>2</th>\n      <td>G</td>\n      <td>N</td>\n      <td>G</td>\n      <td>N</td>\n      <td>N</td>\n      <td>N</td>\n      <td>C</td>\n      <td>N</td>\n      <td>N</td>\n      <td>N</td>\n      <td>...</td>\n      <td>C</td>\n      <td>N</td>\n      <td>N</td>\n      <td>C</td>\n      <td>N</td>\n      <td>T</td>\n      <td>N</td>\n      <td>AUS</td>\n      <td>110.0</td>\n      <td>GNGNNNCNNNNNNNNNNCNNCNTN</td>\n    </tr>\n    <tr>\n      <th>3</th>\n      <td>N</td>\n      <td>G</td>\n      <td>G</td>\n      <td>G</td>\n      <td>G</td>\n      <td>C</td>\n      <td>C</td>\n      <td>N</td>\n      <td>T</td>\n      <td>A</td>\n      <td>...</td>\n      <td>T</td>\n      <td>A</td>\n      <td>A</td>\n      <td>C</td>\n      <td>C</td>\n      <td>N</td>\n      <td>C</td>\n      <td>AROMATIC</td>\n      <td>130.0</td>\n      <td>NGGGGCCNTAGNNGNGTTAACCNC</td>\n    </tr>\n    <tr>\n      <th>4</th>\n      <td>G</td>\n      <td>A</td>\n      <td>G</td>\n      <td>N</td>\n      <td>G</td>\n      <td>C</td>\n      <td>C</td>\n      <td>A</td>\n      <td>T</td>\n      <td>A</td>\n      <td>...</td>\n      <td>C</td>\n      <td>A</td>\n      <td>A</td>\n      <td>C</td>\n      <td>C</td>\n      <td>T</td>\n      <td>T</td>\n      <td>TROPICAL</td>\n      <td>169.0</td>\n      <td>GAGNGCCATAGGTNAGCCAACCTT</td>\n    </tr>\n    <tr>\n      <th>5</th>\n      <td>N</td>\n      <td>N</td>\n      <td>A</td>\n      <td>A</td>\n      <td>G</td>\n      <td>C</td>\n      <td>N</td>\n      <td>G</td>\n      <td>T</td>\n      <td>A</td>\n      <td>...</td>\n      <td>N</td>\n      <td>N</td>\n      <td>N</td>\n      <td>C</td>\n      <td>T</td>\n      <td></td>\n      <td></td>\n      <td>TEMPORATE JAPONICA</td>\n      <td>97.9</td>\n      <td>NNAAGCNGTATGTNTNNNNNCT</td>\n    </tr>\n    <tr>\n      <th>6</th>\n      <td>G</td>\n      <td>N</td>\n      <td>G</td>\n      <td>N</td>\n      <td>N</td>\n      <td>N</td>\n      <td>N</td>\n      <td>G</td>\n      <td>T</td>\n      <td>A</td>\n      <td>...</td>\n      <td>N</td>\n      <td>A</td>\n      <td>N</td>\n      <td></td>\n      <td></td>\n      <td></td>\n      <td></td>\n      <td>INDICA</td>\n      <td>106.0</td>\n      <td>GNGNNNNGTATNNNTNNNAN</td>\n    </tr>\n    <tr>\n      <th>7</th>\n      <td>N</td>\n      <td>N</td>\n      <td>A</td>\n      <td>N</td>\n      <td>G</td>\n      <td>C</td>\n      <td>N</td>\n      <td>A</td>\n      <td>T</td>\n      <td>C</td>\n      <td>...</td>\n      <td>N</td>\n      <td>A</td>\n      <td>A</td>\n      <td>C</td>\n      <td>N</td>\n      <td></td>\n      <td></td>\n      <td>AUS</td>\n      <td>137.0</td>\n      <td>NNANGCNATCGNNNTNNNAACN</td>\n    </tr>\n    <tr>\n      <th>8</th>\n      <td>N</td>\n      <td>N</td>\n      <td>G</td>\n      <td>N</td>\n      <td>N</td>\n      <td>N</td>\n      <td>C</td>\n      <td>A</td>\n      <td>N</td>\n      <td>C</td>\n      <td>...</td>\n      <td>C</td>\n      <td>N</td>\n      <td>N</td>\n      <td>C</td>\n      <td>C</td>\n      <td></td>\n      <td></td>\n      <td>intermediate</td>\n      <td>137.0</td>\n      <td>NNGNNNCANCGNNATNNCNNCC</td>\n    </tr>\n    <tr>\n      <th>9</th>\n      <td>G</td>\n      <td>G</td>\n      <td>A</td>\n      <td>C</td>\n      <td>G</td>\n      <td>G</td>\n      <td>N</td>\n      <td>A</td>\n      <td>T</td>\n      <td>G</td>\n      <td>...</td>\n      <td>N</td>\n      <td>C</td>\n      <td>N</td>\n      <td>C</td>\n      <td>T</td>\n      <td></td>\n      <td></td>\n      <td>indica</td>\n      <td>96.0</td>\n      <td>GGACGGNATGTNNNNNANCNCT</td>\n    </tr>\n    <tr>\n      <th>10</th>\n      <td>A</td>\n      <td>G</td>\n      <td>A</td>\n      <td>G</td>\n      <td>C</td>\n      <td>C</td>\n      <td>A</td>\n      <td>T</td>\n      <td>A</td>\n      <td>G</td>\n      <td>...</td>\n      <td>A</td>\n      <td>A</td>\n      <td>C</td>\n      <td>C</td>\n      <td>T</td>\n      <td></td>\n      <td></td>\n      <td>TEMPORATE JAPONICA</td>\n      <td>128.0</td>\n      <td>AGAGCCATAGNNGNGNNAACCT</td>\n    </tr>\n    <tr>\n      <th>11</th>\n      <td>G</td>\n      <td>A</td>\n      <td>A</td>\n      <td>A</td>\n      <td>G</td>\n      <td>C</td>\n      <td>C</td>\n      <td>A</td>\n      <td>T</td>\n      <td>A</td>\n      <td>...</td>\n      <td>C</td>\n      <td>A</td>\n      <td>A</td>\n      <td>C</td>\n      <td>C</td>\n      <td>T</td>\n      <td>T</td>\n      <td>indica</td>\n      <td>147.0</td>\n      <td>GAAAGCCATAGGTGTACCAACCTT</td>\n    </tr>\n    <tr>\n      <th>12</th>\n      <td>G</td>\n      <td>A</td>\n      <td>A</td>\n      <td>A</td>\n      <td>G</td>\n      <td>C</td>\n      <td>C</td>\n      <td>A</td>\n      <td>T</td>\n      <td>A</td>\n      <td>...</td>\n      <td></td>\n      <td></td>\n      <td></td>\n      <td></td>\n      <td></td>\n      <td></td>\n      <td></td>\n      <td>TEMPORATE JAPONICA</td>\n      <td>98.0</td>\n      <td>GAAAGCCATAGG</td>\n    </tr>\n    <tr>\n      <th>13</th>\n      <td>G</td>\n      <td>A</td>\n      <td>G</td>\n      <td>G</td>\n      <td>G</td>\n      <td>C</td>\n      <td>C</td>\n      <td>A</td>\n      <td>T</td>\n      <td>A</td>\n      <td>...</td>\n      <td>C</td>\n      <td>A</td>\n      <td>C</td>\n      <td>C</td>\n      <td>T</td>\n      <td>T</td>\n      <td>T</td>\n      <td>AROMATIC</td>\n      <td>177.0</td>\n      <td>GAGGGCCATAGGTATGTCACCTTT</td>\n    </tr>\n  </tbody>\n</table>\n<p>14 rows × 27 columns</p>\n</div>"
     },
     "execution_count": 11,
     "metadata": {},
     "output_type": "execute_result"
    }
   ],
   "source": [
    "df = pd.read_csv('validation.csv').iloc[:, 1:]\n",
    "df.fillna('', inplace=True)\n",
    "df"
   ],
   "metadata": {
    "collapsed": false,
    "ExecuteTime": {
     "end_time": "2023-05-13T11:29:50.126263Z",
     "start_time": "2023-05-13T11:29:50.021909Z"
    }
   }
  },
  {
   "cell_type": "code",
   "execution_count": 14,
   "outputs": [],
   "source": [
    "df['sequence'] = df.apply(lambda x: ''.join(x[0:-3]), axis=1)\n",
    "df.to_csv(\"validation.csv\")"
   ],
   "metadata": {
    "collapsed": false,
    "ExecuteTime": {
     "end_time": "2023-05-13T11:30:18.108604Z",
     "start_time": "2023-05-13T11:30:18.070926Z"
    }
   }
  },
  {
   "cell_type": "code",
   "execution_count": 15,
   "outputs": [],
   "source": [
    "\n"
   ],
   "metadata": {
    "collapsed": false,
    "ExecuteTime": {
     "end_time": "2023-05-13T11:30:18.783075Z",
     "start_time": "2023-05-13T11:30:18.724281Z"
    }
   }
  },
  {
   "cell_type": "code",
   "execution_count": 9,
   "outputs": [
    {
     "data": {
      "text/plain": "['GAGNGCCATNGGTNNGCCANC',\n 'NNNCCNNCGNNNNNNCANCTT',\n 'GNGNNNCNNNNNNNNNNCNNCNTN',\n 'NGGGGCCNTAGNNGNGTTAACCNC',\n 'GAGNGCCATAGGTNAGCCAACCTT',\n 'NNAAGCNGTATGTNTNNNNNCT',\n 'GNGNNNNGTATNNNTNNNAN',\n 'NNANGCNATCGNNNTNNNAACN',\n 'NNGNNNCANCGNNATNNCNNCC',\n 'GGACGGNATGTNNNNNANCNCT',\n 'AGAGCCATAGNNGNGNNAACCT',\n 'GAAAGCCATAGGTGTACCAACCTT',\n 'GAAAGCCATAGG',\n 'GAGGGCCATAGGTATGTCACCTTT']"
     },
     "execution_count": 9,
     "metadata": {},
     "output_type": "execute_result"
    }
   ],
   "source": [
    "header = ['k', 'sequence', 'min', 'max']\n",
    "test = pd.DataFrame(columns = header)\n",
    "k_values = [1,3, 5, 7, 9]\n",
    "for nk in k_values:\n",
    "    for sequence in df['sequence']:\n",
    "        l = [nk, sequence]\n",
    "        min_h, max_h = height_range(df, sequences, sequence_cluster_dict,clusters_dict,query_sequence)\n",
    "        l.append(min_h)\n",
    "        l.append(max_h)\n",
    "        row_df = pd.DataFrame([l], columns=header)\n",
    "        test = pd.concat([test, row_df], ignore_index=True)\n",
    "test"
   ],
   "metadata": {
    "collapsed": false,
    "ExecuteTime": {
     "end_time": "2023-05-13T11:15:49.368568Z",
     "start_time": "2023-05-13T11:15:49.358122Z"
    }
   }
  },
  {
   "cell_type": "code",
   "execution_count": 27,
   "outputs": [],
   "source": [],
   "metadata": {
    "collapsed": false,
    "ExecuteTime": {
     "end_time": "2023-05-11T09:37:03.024761Z",
     "start_time": "2023-05-11T09:37:03.019561Z"
    }
   }
  },
  {
   "cell_type": "code",
   "execution_count": 27,
   "outputs": [],
   "source": [],
   "metadata": {
    "collapsed": false,
    "ExecuteTime": {
     "end_time": "2023-05-11T09:37:05.704715Z",
     "start_time": "2023-05-11T09:37:05.703068Z"
    }
   }
  },
  {
   "cell_type": "code",
   "execution_count": 9,
   "outputs": [],
   "source": [],
   "metadata": {
    "collapsed": false,
    "ExecuteTime": {
     "end_time": "2023-05-13T11:16:15.839468Z",
     "start_time": "2023-05-13T11:16:15.838466Z"
    }
   }
  },
  {
   "cell_type": "code",
   "execution_count": null,
   "outputs": [],
   "source": [],
   "metadata": {
    "collapsed": false
   }
  }
 ],
 "metadata": {
  "kernelspec": {
   "display_name": "Python 3",
   "language": "python",
   "name": "python3"
  },
  "language_info": {
   "codemirror_mode": {
    "name": "ipython",
    "version": 2
   },
   "file_extension": ".py",
   "mimetype": "text/x-python",
   "name": "python",
   "nbconvert_exporter": "python",
   "pygments_lexer": "ipython2",
   "version": "2.7.6"
  }
 },
 "nbformat": 4,
 "nbformat_minor": 0
}
