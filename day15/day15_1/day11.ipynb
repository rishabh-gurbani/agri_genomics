{
 "cells": [
  {
   "cell_type": "markdown",
   "source": [
    "# Analysis for 24 chromosomes"
   ],
   "metadata": {
    "collapsed": false
   }
  },
  {
   "cell_type": "markdown",
   "source": [
    "merging data"
   ],
   "metadata": {
    "collapsed": false
   }
  },
  {
   "cell_type": "code",
   "execution_count": 23,
   "metadata": {
    "collapsed": true,
    "ExecuteTime": {
     "end_time": "2023-06-30T07:06:15.432444Z",
     "start_time": "2023-06-30T07:06:15.429223Z"
    }
   },
   "outputs": [],
   "source": [
    "import pandas as pd"
   ]
  },
  {
   "cell_type": "code",
   "execution_count": 24,
   "outputs": [],
   "source": [
    "mapping = pd.read_csv('mapping_24.csv')"
   ],
   "metadata": {
    "collapsed": false,
    "ExecuteTime": {
     "end_time": "2023-06-30T07:06:15.837045Z",
     "start_time": "2023-06-30T07:06:15.830081Z"
    }
   }
  },
  {
   "cell_type": "code",
   "execution_count": 25,
   "outputs": [
    {
     "data": {
      "text/plain": "    Cultivar ID vg0112116426 vg0128525986 vg0130976864 vg0131664768  \\\n0          C001            G            G            G            A   \n1          C002            G            G            G            G   \n2          C003            G            A            G            A   \n3          C004            G            A            G            G   \n4          C005            A            G            G            G   \n..          ...          ...          ...          ...          ...   \n524        W326            G            A            G            A   \n525        W327            G            A            A            A   \n526        W328            G            A            A            A   \n527        W329            A            G            G            G   \n528        W330            G            G            G            G   \n\n    vg0133440209 vg0135617816 vg0135642980 vg0138418739 vg0138428840  ...  \\\n0              G            C            C            A            T  ...   \n1              G            C            C            A            C  ...   \n2              G            C            C            A            T  ...   \n3              G            C            C            A            T  ...   \n4              G            C            C            A            T  ...   \n..           ...          ...          ...          ...          ...  ...   \n524            G            C            C            A            T  ...   \n525            G            C            C            A            T  ...   \n526            G            C            C            A            T  ...   \n527            G            C            C            A            T  ...   \n528            G            C            C            A            C  ...   \n\n    vg0719834473 vg0819793460 vg0904094998 vg0904282939 vg1019044175  \\\n0              T            T            C            C            C   \n1              C            T            C            C            C   \n2              C            A            A            C            C   \n3              T            A            C            T            C   \n4              C            A            A            C            T   \n..           ...          ...          ...          ...          ...   \n524            C            A            A            C            C   \n525            T            A            A            C            C   \n526            C            A            C            C            C   \n527            C            A            A            C            T   \n528            C            T            C            C            C   \n\n    vg1123563633 vg1207667840          Subpopulation Plant Height (cm)  \\\n0              C            C               Indica I            144.13   \n1              C            C            VI/Aromatic            177.62   \n2              T            T  Japonica Intermediate            141.57   \n3              T            C     Temperate Japonica            140.40   \n4              T            C      Tropical Japonica            163.33   \n..           ...          ...                    ...               ...   \n524            T            C  Japonica Intermediate            155.40   \n525            T            C     Temperate Japonica             89.80   \n526            T            T           Intermediate            117.40   \n527            T            C      Tropical Japonica            147.40   \n528            C            C                    Aus            149.60   \n\n                     sequence  \n0    GGGAGCCATCGTAATGTTTCCCCC  \n1    GGGGGCCACCGTAATGCCTCCCCC  \n2    GAGAGCCATAGGAGTGCCAACCTT  \n3    GAGGGCCATAGGAGAACTACTCTC  \n4    AGGGGCCATAGTAAAGCCAACTTC  \n..                        ...  \n524  GAGAGCCATAGGTGTACCAACCTC  \n525  GAAAGCCATAGGTGTGTTAACCTC  \n526  GAAAGCCATAGGTATACCACCCTT  \n527  AGGGGCCATAGGTATGCCAACTTC  \n528  GGGGGCCACCGTAATGTCTCCCCC  \n\n[529 rows x 28 columns]",
      "text/html": "<div>\n<style scoped>\n    .dataframe tbody tr th:only-of-type {\n        vertical-align: middle;\n    }\n\n    .dataframe tbody tr th {\n        vertical-align: top;\n    }\n\n    .dataframe thead th {\n        text-align: right;\n    }\n</style>\n<table border=\"1\" class=\"dataframe\">\n  <thead>\n    <tr style=\"text-align: right;\">\n      <th></th>\n      <th>Cultivar ID</th>\n      <th>vg0112116426</th>\n      <th>vg0128525986</th>\n      <th>vg0130976864</th>\n      <th>vg0131664768</th>\n      <th>vg0133440209</th>\n      <th>vg0135617816</th>\n      <th>vg0135642980</th>\n      <th>vg0138418739</th>\n      <th>vg0138428840</th>\n      <th>...</th>\n      <th>vg0719834473</th>\n      <th>vg0819793460</th>\n      <th>vg0904094998</th>\n      <th>vg0904282939</th>\n      <th>vg1019044175</th>\n      <th>vg1123563633</th>\n      <th>vg1207667840</th>\n      <th>Subpopulation</th>\n      <th>Plant Height (cm)</th>\n      <th>sequence</th>\n    </tr>\n  </thead>\n  <tbody>\n    <tr>\n      <th>0</th>\n      <td>C001</td>\n      <td>G</td>\n      <td>G</td>\n      <td>G</td>\n      <td>A</td>\n      <td>G</td>\n      <td>C</td>\n      <td>C</td>\n      <td>A</td>\n      <td>T</td>\n      <td>...</td>\n      <td>T</td>\n      <td>T</td>\n      <td>C</td>\n      <td>C</td>\n      <td>C</td>\n      <td>C</td>\n      <td>C</td>\n      <td>Indica I</td>\n      <td>144.13</td>\n      <td>GGGAGCCATCGTAATGTTTCCCCC</td>\n    </tr>\n    <tr>\n      <th>1</th>\n      <td>C002</td>\n      <td>G</td>\n      <td>G</td>\n      <td>G</td>\n      <td>G</td>\n      <td>G</td>\n      <td>C</td>\n      <td>C</td>\n      <td>A</td>\n      <td>C</td>\n      <td>...</td>\n      <td>C</td>\n      <td>T</td>\n      <td>C</td>\n      <td>C</td>\n      <td>C</td>\n      <td>C</td>\n      <td>C</td>\n      <td>VI/Aromatic</td>\n      <td>177.62</td>\n      <td>GGGGGCCACCGTAATGCCTCCCCC</td>\n    </tr>\n    <tr>\n      <th>2</th>\n      <td>C003</td>\n      <td>G</td>\n      <td>A</td>\n      <td>G</td>\n      <td>A</td>\n      <td>G</td>\n      <td>C</td>\n      <td>C</td>\n      <td>A</td>\n      <td>T</td>\n      <td>...</td>\n      <td>C</td>\n      <td>A</td>\n      <td>A</td>\n      <td>C</td>\n      <td>C</td>\n      <td>T</td>\n      <td>T</td>\n      <td>Japonica Intermediate</td>\n      <td>141.57</td>\n      <td>GAGAGCCATAGGAGTGCCAACCTT</td>\n    </tr>\n    <tr>\n      <th>3</th>\n      <td>C004</td>\n      <td>G</td>\n      <td>A</td>\n      <td>G</td>\n      <td>G</td>\n      <td>G</td>\n      <td>C</td>\n      <td>C</td>\n      <td>A</td>\n      <td>T</td>\n      <td>...</td>\n      <td>T</td>\n      <td>A</td>\n      <td>C</td>\n      <td>T</td>\n      <td>C</td>\n      <td>T</td>\n      <td>C</td>\n      <td>Temperate Japonica</td>\n      <td>140.40</td>\n      <td>GAGGGCCATAGGAGAACTACTCTC</td>\n    </tr>\n    <tr>\n      <th>4</th>\n      <td>C005</td>\n      <td>A</td>\n      <td>G</td>\n      <td>G</td>\n      <td>G</td>\n      <td>G</td>\n      <td>C</td>\n      <td>C</td>\n      <td>A</td>\n      <td>T</td>\n      <td>...</td>\n      <td>C</td>\n      <td>A</td>\n      <td>A</td>\n      <td>C</td>\n      <td>T</td>\n      <td>T</td>\n      <td>C</td>\n      <td>Tropical Japonica</td>\n      <td>163.33</td>\n      <td>AGGGGCCATAGTAAAGCCAACTTC</td>\n    </tr>\n    <tr>\n      <th>...</th>\n      <td>...</td>\n      <td>...</td>\n      <td>...</td>\n      <td>...</td>\n      <td>...</td>\n      <td>...</td>\n      <td>...</td>\n      <td>...</td>\n      <td>...</td>\n      <td>...</td>\n      <td>...</td>\n      <td>...</td>\n      <td>...</td>\n      <td>...</td>\n      <td>...</td>\n      <td>...</td>\n      <td>...</td>\n      <td>...</td>\n      <td>...</td>\n      <td>...</td>\n      <td>...</td>\n    </tr>\n    <tr>\n      <th>524</th>\n      <td>W326</td>\n      <td>G</td>\n      <td>A</td>\n      <td>G</td>\n      <td>A</td>\n      <td>G</td>\n      <td>C</td>\n      <td>C</td>\n      <td>A</td>\n      <td>T</td>\n      <td>...</td>\n      <td>C</td>\n      <td>A</td>\n      <td>A</td>\n      <td>C</td>\n      <td>C</td>\n      <td>T</td>\n      <td>C</td>\n      <td>Japonica Intermediate</td>\n      <td>155.40</td>\n      <td>GAGAGCCATAGGTGTACCAACCTC</td>\n    </tr>\n    <tr>\n      <th>525</th>\n      <td>W327</td>\n      <td>G</td>\n      <td>A</td>\n      <td>A</td>\n      <td>A</td>\n      <td>G</td>\n      <td>C</td>\n      <td>C</td>\n      <td>A</td>\n      <td>T</td>\n      <td>...</td>\n      <td>T</td>\n      <td>A</td>\n      <td>A</td>\n      <td>C</td>\n      <td>C</td>\n      <td>T</td>\n      <td>C</td>\n      <td>Temperate Japonica</td>\n      <td>89.80</td>\n      <td>GAAAGCCATAGGTGTGTTAACCTC</td>\n    </tr>\n    <tr>\n      <th>526</th>\n      <td>W328</td>\n      <td>G</td>\n      <td>A</td>\n      <td>A</td>\n      <td>A</td>\n      <td>G</td>\n      <td>C</td>\n      <td>C</td>\n      <td>A</td>\n      <td>T</td>\n      <td>...</td>\n      <td>C</td>\n      <td>A</td>\n      <td>C</td>\n      <td>C</td>\n      <td>C</td>\n      <td>T</td>\n      <td>T</td>\n      <td>Intermediate</td>\n      <td>117.40</td>\n      <td>GAAAGCCATAGGTATACCACCCTT</td>\n    </tr>\n    <tr>\n      <th>527</th>\n      <td>W329</td>\n      <td>A</td>\n      <td>G</td>\n      <td>G</td>\n      <td>G</td>\n      <td>G</td>\n      <td>C</td>\n      <td>C</td>\n      <td>A</td>\n      <td>T</td>\n      <td>...</td>\n      <td>C</td>\n      <td>A</td>\n      <td>A</td>\n      <td>C</td>\n      <td>T</td>\n      <td>T</td>\n      <td>C</td>\n      <td>Tropical Japonica</td>\n      <td>147.40</td>\n      <td>AGGGGCCATAGGTATGCCAACTTC</td>\n    </tr>\n    <tr>\n      <th>528</th>\n      <td>W330</td>\n      <td>G</td>\n      <td>G</td>\n      <td>G</td>\n      <td>G</td>\n      <td>G</td>\n      <td>C</td>\n      <td>C</td>\n      <td>A</td>\n      <td>C</td>\n      <td>...</td>\n      <td>C</td>\n      <td>T</td>\n      <td>C</td>\n      <td>C</td>\n      <td>C</td>\n      <td>C</td>\n      <td>C</td>\n      <td>Aus</td>\n      <td>149.60</td>\n      <td>GGGGGCCACCGTAATGTCTCCCCC</td>\n    </tr>\n  </tbody>\n</table>\n<p>529 rows × 28 columns</p>\n</div>"
     },
     "execution_count": 25,
     "metadata": {},
     "output_type": "execute_result"
    }
   ],
   "source": [
    "mapping"
   ],
   "metadata": {
    "collapsed": false,
    "ExecuteTime": {
     "end_time": "2023-06-30T07:06:16.317222Z",
     "start_time": "2023-06-30T07:06:16.299066Z"
    }
   }
  },
  {
   "cell_type": "code",
   "execution_count": 26,
   "outputs": [
    {
     "name": "stdout",
     "output_type": "stream",
     "text": [
      "['Indica I' 'VI/Aromatic' 'Japonica Intermediate' 'Temperate Japonica'\n",
      " 'Tropical Japonica' 'Indica Intermediate' 'Indica II' 'Aus'\n",
      " 'Intermediate' 'Indica III']\n"
     ]
    }
   ],
   "source": [
    "print(mapping['Subpopulation'].unique())"
   ],
   "metadata": {
    "collapsed": false,
    "ExecuteTime": {
     "end_time": "2023-06-30T07:06:17.309930Z",
     "start_time": "2023-06-30T07:06:17.300454Z"
    }
   }
  },
  {
   "cell_type": "code",
   "execution_count": 29,
   "outputs": [],
   "source": [
    "mapping['Subpopulation'].replace('Indica I', 'Indica', inplace=True)\n",
    "mapping['Subpopulation'].replace('Indica II', 'Indica', inplace=True)\n",
    "mapping['Subpopulation'].replace('Indica III', 'Indica', inplace=True)\n",
    "mapping['Subpopulation'].replace('Indica Intermediate', 'Indica', inplace=True)\n",
    "mapping['Subpopulation'].replace('Japonica Intermediate', 'Japonica', inplace=True)\n",
    "mapping['Subpopulation'].replace('Temperate Japonica', 'Japonica', inplace=True)\n",
    "mapping['Subpopulation'].replace('Tropical Japonica', 'Japonica', inplace=True)"
   ],
   "metadata": {
    "collapsed": false,
    "ExecuteTime": {
     "end_time": "2023-06-30T07:06:55.053643Z",
     "start_time": "2023-06-30T07:06:55.027095Z"
    }
   }
  },
  {
   "cell_type": "code",
   "execution_count": 30,
   "outputs": [
    {
     "name": "stdout",
     "output_type": "stream",
     "text": [
      "['Indica' 'VI/Aromatic' 'Japonica' 'Aus' 'Intermediate']\n"
     ]
    }
   ],
   "source": [
    "print(mapping['Subpopulation'].unique())"
   ],
   "metadata": {
    "collapsed": false,
    "ExecuteTime": {
     "end_time": "2023-06-30T07:06:58.014545Z",
     "start_time": "2023-06-30T07:06:58.011494Z"
    }
   }
  },
  {
   "cell_type": "code",
   "execution_count": 31,
   "outputs": [
    {
     "data": {
      "text/plain": "{'C001': 'Indica',\n 'C002': 'VI/Aromatic',\n 'C003': 'Japonica',\n 'C004': 'Japonica',\n 'C005': 'Japonica',\n 'C006': 'Indica',\n 'C007': 'Indica',\n 'C008': 'Indica',\n 'C009': 'Indica',\n 'C010': 'Japonica',\n 'C011': 'Indica',\n 'C012': 'Japonica',\n 'C013': 'Aus',\n 'C014': 'Japonica',\n 'C015': 'Aus',\n 'C016': 'Japonica',\n 'C017': 'Japonica',\n 'C018': 'Japonica',\n 'C019': 'Indica',\n 'C020': 'Indica',\n 'C021': 'Indica',\n 'C022': 'Indica',\n 'C023': 'Japonica',\n 'C024': 'Indica',\n 'C025': 'Indica',\n 'C026': 'Japonica',\n 'C027': 'Indica',\n 'C028': 'Japonica',\n 'C029': 'Japonica',\n 'C030': 'Indica',\n 'C031': 'Indica',\n 'C032': 'Japonica',\n 'C033': 'Indica',\n 'C034': 'Japonica',\n 'C035': 'Japonica',\n 'C036': 'Indica',\n 'C037': 'Indica',\n 'C038': 'Indica',\n 'C039': 'Indica',\n 'C040': 'Indica',\n 'C041': 'Indica',\n 'C042': 'Indica',\n 'C043': 'Indica',\n 'C044': 'Indica',\n 'C045': 'Indica',\n 'C046': 'Indica',\n 'C047': 'Indica',\n 'C048': 'Japonica',\n 'C049': 'Indica',\n 'C050': 'Indica',\n 'C051': 'Intermediate',\n 'C052': 'Japonica',\n 'C053': 'Indica',\n 'C054': 'Japonica',\n 'C055': 'Indica',\n 'C056': 'Japonica',\n 'C057': 'Japonica',\n 'C058': 'Indica',\n 'C059': 'Indica',\n 'C060': 'Indica',\n 'C061': 'Indica',\n 'C062': 'Indica',\n 'C063': 'Japonica',\n 'C064': 'Japonica',\n 'C065': 'Indica',\n 'C066': 'Indica',\n 'C067': 'Japonica',\n 'C068': 'Indica',\n 'C069': 'Indica',\n 'C070': 'Japonica',\n 'C071': 'Japonica',\n 'C072': 'Indica',\n 'C073': 'Indica',\n 'C074': 'Japonica',\n 'C075': 'Japonica',\n 'C076': 'Indica',\n 'C077': 'Indica',\n 'C078': 'Indica',\n 'C079': 'Japonica',\n 'C080': 'Indica',\n 'C081': 'Indica',\n 'C082': 'Japonica',\n 'C083': 'Japonica',\n 'C084': 'Japonica',\n 'C085': 'Japonica',\n 'C086': 'Aus',\n 'C087': 'Japonica',\n 'C088': 'Indica',\n 'C089': 'Japonica',\n 'C090': 'Indica',\n 'C091': 'Indica',\n 'C092': 'Indica',\n 'C093': 'Japonica',\n 'C094': 'Indica',\n 'C095': 'Indica',\n 'C096': 'Indica',\n 'C097': 'Indica',\n 'C098': 'Indica',\n 'C099': 'Indica',\n 'C100': 'Indica',\n 'C101': 'Japonica',\n 'C102': 'Indica',\n 'C103': 'Japonica',\n 'C104': 'Indica',\n 'C105': 'Indica',\n 'C106': 'Japonica',\n 'C107': 'Indica',\n 'C108': 'Indica',\n 'C109': 'Indica',\n 'C110': 'Indica',\n 'C111': 'Japonica',\n 'C112': 'Indica',\n 'C113': 'Indica',\n 'C114': 'Indica',\n 'C115': 'Indica',\n 'C116': 'Japonica',\n 'C117': 'Indica',\n 'C118': 'Indica',\n 'C119': 'Japonica',\n 'C120': 'Japonica',\n 'C121': 'Indica',\n 'C122': 'Indica',\n 'C123': 'Japonica',\n 'C124': 'Indica',\n 'C125': 'Indica',\n 'C127': 'Indica',\n 'C128': 'Indica',\n 'C129': 'Indica',\n 'C130': 'Japonica',\n 'C131': 'Indica',\n 'C132': 'Indica',\n 'C133': 'Japonica',\n 'C134': 'Japonica',\n 'C135': 'Indica',\n 'C136': 'Indica',\n 'C137': 'Japonica',\n 'C138': 'Japonica',\n 'C139': 'Indica',\n 'C140': 'Indica',\n 'C141': 'Indica',\n 'C142': 'Indica',\n 'C143': 'Indica',\n 'C144': 'Japonica',\n 'C145': 'Indica',\n 'C146': 'Japonica',\n 'C147': 'Indica',\n 'C148': 'Indica',\n 'C149': 'Japonica',\n 'C150': 'Japonica',\n 'C151': 'Indica',\n 'C152': 'Japonica',\n 'C153': 'Japonica',\n 'C154': 'Japonica',\n 'C155': 'Indica',\n 'C156': 'Indica',\n 'C157': 'Indica',\n 'C158': 'Indica',\n 'C159': 'Indica',\n 'C160': 'Indica',\n 'C161': 'Indica',\n 'C162': 'Indica',\n 'C163': 'Indica',\n 'C164': 'Indica',\n 'C165': 'Indica',\n 'C166': 'Indica',\n 'C167': 'Indica',\n 'C168': 'Indica',\n 'C169': 'Indica',\n 'C170': 'Indica',\n 'C171': 'Japonica',\n 'C172': 'Japonica',\n 'C173': 'Indica',\n 'C174': 'Indica',\n 'C175': 'Indica',\n 'C176': 'Indica',\n 'C177': 'Japonica',\n 'C178': 'Indica',\n 'C179': 'Japonica',\n 'C180': 'Indica',\n 'C181': 'Japonica',\n 'C182': 'Indica',\n 'C183': 'Indica',\n 'C184': 'Indica',\n 'C185': 'Japonica',\n 'C186': 'Japonica',\n 'C187': 'Japonica',\n 'C188': 'Japonica',\n 'C189': 'Japonica',\n 'C190': 'Indica',\n 'C191': 'Indica',\n 'C192': 'Indica',\n 'C193': 'Indica',\n 'C194': 'Indica',\n 'C195': 'Japonica',\n 'C196': 'Japonica',\n 'C197': 'Indica',\n 'C198': 'Indica',\n 'C199': 'Indica',\n 'C200': 'Indica',\n 'C201': 'Indica',\n 'C202': 'Indica',\n 'C203': 'Indica',\n 'W001': 'Indica',\n 'W002': 'Japonica',\n 'W003': 'Japonica',\n 'W004': 'Japonica',\n 'W005': 'Japonica',\n 'W006': 'Japonica',\n 'W007': 'Japonica',\n 'W008': 'Japonica',\n 'W009': 'Indica',\n 'W010': 'Japonica',\n 'W011': 'Japonica',\n 'W012': 'Japonica',\n 'W013': 'Japonica',\n 'W014': 'VI/Aromatic',\n 'W015': 'Aus',\n 'W016': 'Japonica',\n 'W017': 'Japonica',\n 'W018': 'Japonica',\n 'W019': 'Japonica',\n 'W020': 'Aus',\n 'W021': 'Japonica',\n 'W022': 'Japonica',\n 'W023': 'Indica',\n 'W024': 'Japonica',\n 'W025': 'Aus',\n 'W026': 'Indica',\n 'W027': 'Japonica',\n 'W028': 'Aus',\n 'W029': 'Indica',\n 'W030': 'Indica',\n 'W031': 'Indica',\n 'W032': 'Indica',\n 'W033': 'Indica',\n 'W034': 'Aus',\n 'W035': 'Indica',\n 'W036': 'Indica',\n 'W037': 'Indica',\n 'W038': 'Japonica',\n 'W039': 'Indica',\n 'W040': 'Indica',\n 'W041': 'Japonica',\n 'W042': 'Indica',\n 'W043': 'Indica',\n 'W044': 'Indica',\n 'W045': 'Japonica',\n 'W046': 'Indica',\n 'W047': 'Japonica',\n 'W048': 'Aus',\n 'W049': 'Aus',\n 'W050': 'VI/Aromatic',\n 'W051': 'Indica',\n 'W052': 'Japonica',\n 'W053': 'Japonica',\n 'W054': 'Indica',\n 'W055': 'Intermediate',\n 'W056': 'Japonica',\n 'W057': 'Japonica',\n 'W058': 'Indica',\n 'W059': 'Japonica',\n 'W060': 'Japonica',\n 'W061': 'Japonica',\n 'W062': 'Japonica',\n 'W063': 'Japonica',\n 'W064': 'Japonica',\n 'W065': 'Japonica',\n 'W066': 'Indica',\n 'W067': 'Japonica',\n 'W068': 'Japonica',\n 'W069': 'Aus',\n 'W070': 'Indica',\n 'W071': 'Indica',\n 'W072': 'Aus',\n 'W073': 'Indica',\n 'W074': 'Indica',\n 'W075': 'Indica',\n 'W076': 'Aus',\n 'W077': 'VI/Aromatic',\n 'W078': 'Indica',\n 'W079': 'Intermediate',\n 'W080': 'Indica',\n 'W081': 'VI/Aromatic',\n 'W082': 'Japonica',\n 'W083': 'Indica',\n 'W084': 'Indica',\n 'W085': 'Indica',\n 'W086': 'Indica',\n 'W087': 'Indica',\n 'W088': 'Japonica',\n 'W089': 'Indica',\n 'W090': 'Aus',\n 'W091': 'Aus',\n 'W092': 'Aus',\n 'W093': 'Indica',\n 'W094': 'Aus',\n 'W095': 'Aus',\n 'W096': 'Aus',\n 'W097': 'Intermediate',\n 'W098': 'Aus',\n 'W099': 'Aus',\n 'W100': 'Aus',\n 'W101': 'Indica',\n 'W102': 'Japonica',\n 'W103': 'Aus',\n 'W104': 'Aus',\n 'W105': 'Aus',\n 'W106': 'Aus',\n 'W107': 'Indica',\n 'W108': 'Aus',\n 'W109': 'Japonica',\n 'W110': 'Japonica',\n 'W111': 'Indica',\n 'W112': 'Indica',\n 'W113': 'Japonica',\n 'W114': 'Indica',\n 'W115': 'Aus',\n 'W116': 'Japonica',\n 'W117': 'Japonica',\n 'W118': 'Japonica',\n 'W119': 'Japonica',\n 'W120': 'Japonica',\n 'W121': 'Aus',\n 'W122': 'Japonica',\n 'W123': 'Japonica',\n 'W124': 'Indica',\n 'W125': 'Intermediate',\n 'W126': 'Indica',\n 'W127': 'Japonica',\n 'W128': 'Intermediate',\n 'W129': 'VI/Aromatic',\n 'W130': 'Japonica',\n 'W131': 'Aus',\n 'W132': 'Indica',\n 'W133': 'Indica',\n 'W134': 'Aus',\n 'W135': 'Indica',\n 'W136': 'VI/Aromatic',\n 'W137': 'Indica',\n 'W138': 'Indica',\n 'W139': 'Japonica',\n 'W140': 'Aus',\n 'W141': 'Aus',\n 'W142': 'Aus',\n 'W143': 'Japonica',\n 'W144': 'Indica',\n 'W145': 'Indica',\n 'W146': 'Indica',\n 'W147': 'Indica',\n 'W148': 'Indica',\n 'W149': 'Indica',\n 'W150': 'Indica',\n 'W151': 'Indica',\n 'W152': 'Indica',\n 'W153': 'Indica',\n 'W154': 'Indica',\n 'W155': 'Indica',\n 'W156': 'Indica',\n 'W157': 'Indica',\n 'W158': 'Intermediate',\n 'W159': 'Indica',\n 'W160': 'Japonica',\n 'W161': 'Indica',\n 'W162': 'Japonica',\n 'W163': 'Indica',\n 'W164': 'Indica',\n 'W165': 'Indica',\n 'W166': 'Indica',\n 'W167': 'Indica',\n 'W168': 'Indica',\n 'W169': 'Indica',\n 'W170': 'Indica',\n 'W171': 'Indica',\n 'W172': 'Indica',\n 'W173': 'Japonica',\n 'W174': 'Indica',\n 'W175': 'Intermediate',\n 'W176': 'Indica',\n 'W177': 'Indica',\n 'W178': 'Indica',\n 'W179': 'Indica',\n 'W180': 'Indica',\n 'W181': 'Indica',\n 'W182': 'Indica',\n 'W183': 'Indica',\n 'W184': 'Indica',\n 'W185': 'Indica',\n 'W186': 'Indica',\n 'W187': 'Indica',\n 'W188': 'Indica',\n 'W189': 'Indica',\n 'W191': 'Intermediate',\n 'W192': 'Intermediate',\n 'W193': 'Japonica',\n 'W194': 'Indica',\n 'W195': 'Indica',\n 'W197': 'Indica',\n 'W198': 'Indica',\n 'W199': 'Indica',\n 'W200': 'Indica',\n 'W201': 'Indica',\n 'W202': 'Indica',\n 'W203': 'Indica',\n 'W204': 'Indica',\n 'W205': 'Indica',\n 'W206': 'Indica',\n 'W207': 'Japonica',\n 'W208': 'Japonica',\n 'W209': 'Japonica',\n 'W210': 'Indica',\n 'W211': 'Indica',\n 'W212': 'Indica',\n 'W213': 'Indica',\n 'W214': 'Aus',\n 'W215': 'Aus',\n 'W216': 'Indica',\n 'W217': 'Indica',\n 'W218': 'Indica',\n 'W219': 'VI/Aromatic',\n 'W220': 'VI/Aromatic',\n 'W221': 'Indica',\n 'W222': 'Indica',\n 'W223': 'Indica',\n 'W224': 'Indica',\n 'W225': 'Japonica',\n 'W226': 'Japonica',\n 'W227': 'Indica',\n 'W228': 'Indica',\n 'W229': 'Indica',\n 'W230': 'Indica',\n 'W231': 'Indica',\n 'W233': 'Indica',\n 'W234': 'Indica',\n 'W235': 'Indica',\n 'W236': 'Indica',\n 'W237': 'Indica',\n 'W238': 'Indica',\n 'W239': 'Indica',\n 'W240': 'Indica',\n 'W241': 'Indica',\n 'W242': 'Indica',\n 'W243': 'Indica',\n 'W244': 'Indica',\n 'W245': 'Indica',\n 'W246': 'Indica',\n 'W247': 'Indica',\n 'W248': 'Indica',\n 'W249': 'Japonica',\n 'W250': 'Japonica',\n 'W251': 'Japonica',\n 'W252': 'VI/Aromatic',\n 'W253': 'Japonica',\n 'W254': 'Japonica',\n 'W255': 'VI/Aromatic',\n 'W256': 'VI/Aromatic',\n 'W257': 'Japonica',\n 'W258': 'VI/Aromatic',\n 'W259': 'Indica',\n 'W260': 'Japonica',\n 'W261': 'Intermediate',\n 'W262': 'Indica',\n 'W263': 'Indica',\n 'W264': 'Indica',\n 'W265': 'Indica',\n 'W266': 'Indica',\n 'W267': 'Indica',\n 'W268': 'Indica',\n 'W269': 'Indica',\n 'W270': 'Indica',\n 'W271': 'Indica',\n 'W272': 'Indica',\n 'W273': 'Japonica',\n 'W274': 'Indica',\n 'W275': 'Japonica',\n 'W276': 'Indica',\n 'W277': 'Aus',\n 'W278': 'Aus',\n 'W279': 'Aus',\n 'W280': 'Aus',\n 'W281': 'Japonica',\n 'W282': 'Indica',\n 'W283': 'Japonica',\n 'W284': 'Japonica',\n 'W285': 'Japonica',\n 'W286': 'Aus',\n 'W287': 'Aus',\n 'W288': 'Japonica',\n 'W289': 'Indica',\n 'W290': 'Japonica',\n 'W291': 'Indica',\n 'W292': 'Aus',\n 'W293': 'Indica',\n 'W294': 'Intermediate',\n 'W295': 'Indica',\n 'W296': 'Aus',\n 'W297': 'Aus',\n 'W298': 'Indica',\n 'W299': 'Indica',\n 'W300': 'Japonica',\n 'W301': 'Indica',\n 'W302': 'Japonica',\n 'W303': 'Japonica',\n 'W304': 'Intermediate',\n 'W305': 'Japonica',\n 'W306': 'VI/Aromatic',\n 'W307': 'Indica',\n 'W308': 'Indica',\n 'W309': 'Indica',\n 'W310': 'Indica',\n 'W311': 'Indica',\n 'W312': 'Indica',\n 'W313': 'Indica',\n 'W314': 'Indica',\n 'W315': 'Indica',\n 'W316': 'Indica',\n 'W317': 'Indica',\n 'W318': 'Indica',\n 'W319': 'Japonica',\n 'W320': 'Indica',\n 'W321': 'Indica',\n 'W322': 'Indica',\n 'W323': 'Japonica',\n 'W324': 'Japonica',\n 'W325': 'Japonica',\n 'W326': 'Japonica',\n 'W327': 'Japonica',\n 'W328': 'Intermediate',\n 'W329': 'Japonica',\n 'W330': 'Aus'}"
     },
     "execution_count": 31,
     "metadata": {},
     "output_type": "execute_result"
    }
   ],
   "source": [
    "sub_pop_dict = dict()\n",
    "for i in range(mapping.shape[0]):\n",
    "    sub_pop_dict[mapping.iloc[i, 0]] = mapping.iloc[i, -3]\n",
    "sub_pop_dict"
   ],
   "metadata": {
    "collapsed": false,
    "ExecuteTime": {
     "end_time": "2023-06-30T07:07:19.745119Z",
     "start_time": "2023-06-30T07:07:19.718892Z"
    }
   }
  },
  {
   "cell_type": "code",
   "execution_count": 32,
   "outputs": [],
   "source": [
    "import json\n",
    "\n",
    "# Read the JSON data from a file\n",
    "with open(\"json/clusters_dict.json\", \"r\") as f:\n",
    "    clusters_dict = json.loads(f.read())\n",
    "\n",
    "with open(\"json/sequence_cluster_dict.json\", \"r\") as f:\n",
    "    sequence_cluster_dict = json.loads(f.read())\n",
    "\n",
    "with open(\"json/sequences_dict.json\", \"r\") as f:\n",
    "    sequences_dict = json.loads(f.read())\n",
    "\n",
    "with open(\"json/unique_sequences_per_cluster.json\", \"r\") as f:\n",
    "    unique_sequences_per_cluster = json.loads(f.read())\n"
   ],
   "metadata": {
    "collapsed": false,
    "ExecuteTime": {
     "end_time": "2023-06-30T07:07:51.887031Z",
     "start_time": "2023-06-30T07:07:51.883017Z"
    }
   }
  },
  {
   "cell_type": "code",
   "execution_count": 33,
   "outputs": [
    {
     "data": {
      "text/plain": "{'0': {'GAAAGCCGTATGTGTGTTAACTTT': ['Intermediate'],\n  'GAAAGCCGTATGTATGTTAACTTT': ['Japonica'],\n  'GAAAGCCGTATGTATGTTAACCTT': ['Intermediate']},\n '1': {'GAAAGCGGTATGTGTACCAACTTT': ['Japonica'],\n  'GAAAGCCGTATGTGTACCAACCTT': ['Japonica'],\n  'GGAAGCCGTATGTATACCAACCTT': ['Japonica']},\n '2': {'GAGGGCCGTATGTATGCCAACCTT': ['Japonica']},\n '3': {'GAGGGCCATAGGTATGCCAACCTT': ['Japonica'],\n  'GAGGGCCATAGGTAAGCCAACCTT': ['Japonica']},\n '4': {'GGGGGCCGTATTAATGCCAACTTT': ['Intermediate']},\n '5': {'GAGGGCGGTATGTGTGCCAACTTT': ['Japonica'],\n  'GAGGGCGGTATGAATGCCAACTTT': ['Japonica']},\n '6': {'GAAAGCCACAGGTAAGCCTACCTT': ['Intermediate']},\n '7': {'AAAAGCCATAGGTGAGCCAACTTT': ['Japonica']},\n '8': {'GAAAGCCATAGGTGAGCCAACCTT': ['Japonica']},\n '9': {'GAAAGCCATAGGTGAACCAACCTT': ['Japonica']},\n '10': {'GAAAGCCATAGGTGTGCCAACCTT': ['Japonica'],\n  'GAAAGCCATAGGTGTGCCAACTTT': ['Japonica']},\n '11': {'AAAGGCCATAGGTGTACCAACCTT': ['Japonica']},\n '12': {'GAAGGCCATAGGTGTACCAACCTT': ['Japonica']},\n '13': {'GAGGGCCATAGGTGTACTAACCTT': ['Japonica'],\n  'GAGGGCCATAGGTGTACCAACCTT': ['Japonica']},\n '14': {'GAAAGCCATAGGTATACCAACCTC': ['Japonica'],\n  'GAAAGCCATAGGTAAACCAACCTC': ['Japonica']},\n '15': {'GAGAGCCATAGGTATACCAATCTC': ['Japonica']},\n '16': {'GAAAGCCATAGGTATACCAATCTC': ['Japonica']},\n '17': {'GAGAGCCATAGGTGTACCAACCTC': ['Japonica'],\n  'GAGAGCCATAGGTATACCAACCTC': ['Japonica']},\n '18': {'GAAAGCCATAGGTATACCACCCTT': ['Intermediate'],\n  'GAAAGCCATAGGTATACCAACCTT': ['Japonica']},\n '19': {'GAAAGCCATAGGAGTACCAACCTT': ['Japonica']},\n '20': {'GAAAGCCATAGGTGTACCAACCTT': ['Japonica'],\n  'GAAAGCCATAGGAGTACCAACCTC': ['Japonica']},\n '21': {'GAGAGCCATAGGTATACCAACCCC': ['Japonica'],\n  'GAGAGCCATAGGTGTACCAACCCC': ['Japonica']},\n '22': {'GAGAGCCATAGGTGTACCAACCCT': ['Japonica']},\n '23': {'GGGAGCCATAGGTGTACCAACCTT': ['Japonica']},\n '24': {'GAGAGCCATAGGTGTACCAACCTT': ['Japonica']},\n '25': {'GAGAGCCATAGGTGAACCAACCTT': ['Japonica'],\n  'AAGAGCCATAGGTGAACCAACCTT': ['Japonica']},\n '26': {'GAAAGCCATAGGTGAACCAACCCC': ['Japonica']},\n '27': {'GAAAGCCATAGGTGAACCAACCCT': ['Japonica']},\n '28': {'AGGAGCCATAGTAGAGTTACTCCC': ['Japonica'],\n  'GGGAGCCATAGTAGAGTTACTCCC': ['Japonica']},\n '29': {'GGGGGCCATAGGTGAGTTACTTCT': ['Japonica']},\n '30': {'AGGGGCCATAGGTAAGTTACTCCC': ['Japonica']},\n '31': {'AGGGGCCATAGGTGAGTTACTCTC': ['Japonica']},\n '32': {'AGGGGCCATAGGTAAGTTACTCTC': ['Japonica']},\n '33': {'AAGGGCCATAGGTGAGTTACTCCC': ['Japonica'],\n  'GAGAGCCATAGGTGAGTTACTCCC': ['Japonica']},\n '34': {'GAAAGCCATAGGTGTGTTACTCTT': ['Japonica']},\n '35': {'GAGAGCCATAGGAGTGTTACTCTT': ['Japonica']},\n '36': {'AAGAGCCATAGGAGTGTTACTCTC': ['Japonica'],\n  'GAGAGCCATAGGAGTGTTACTCTC': ['Japonica']},\n '37': {'GAAAGCCATAGGTGTACCTCTCTT': ['Intermediate'],\n  'AAGAGCCATAGGTGTACCACTCTT': ['Japonica'],\n  'AAAGGCCATAGGTGTACTACTCTT': ['Japonica'],\n  'AAGAGCCATAGGAGTACTACTCTC': ['Japonica']},\n '38': {'AAGGGCCATAGGAGAGCCACTTTT': ['Japonica']},\n '39': {'AAGGGCCATAGGAGTACCACTCTC': ['Japonica'],\n  'AAGGGCCATAGGAGAACCACTCCC': ['Japonica'],\n  'AAGGGCCATAGTAGAGCCACTCCC': ['Japonica'],\n  'AGGAGCCATAGGAGAACCACTCCC': ['Japonica']},\n '40': {'GAGAGCCATAGGAGTGCCAACCTT': ['Japonica'],\n  'GAGGGCCATAGTAGTGCCAACTTT': ['Japonica']},\n '41': {'GGGGGCCATAGTAGAGCCAACTTC': ['Japonica']},\n '42': {'GAGGGCCATAGTAAAGCCAACTTT': ['Japonica'],\n  'GAGGGCCATAGTAAAGCCAACTTC': ['Japonica']},\n '43': {'AAGGGCCATAGTAAAGCCAACTTC': ['Japonica'],\n  'AGGGGCCATAGTAAAGCCAACTTC': ['Japonica'],\n  'AAGGGCCATAGTAAAGCCAACCTT': ['Japonica']},\n '44': {'GAGGGCCATAGTAGAACTAACCTT': ['Japonica']},\n '45': {'GAGGGCCATAGGAGAACCACTCTT': ['Japonica'],\n  'GAGGGCCATAGGAGAACTACTCTC': ['Japonica']},\n '46': {'AAGGGCCATAGGTATACCAATCTC': ['Japonica'],\n  'GAGGGCCATAGGTATGTCAATCTC': ['Japonica']},\n '47': {'AAGGGCCATAGGTATGCCAACTTC': ['Japonica'],\n  'AAGGGCCATAGGTAAGCCAACTTC': ['Japonica'],\n  'AAGGGCCATAGGTGAGCCAACTTC': ['Japonica']},\n '48': {'AGGGGCCATAGGTATGCCAACCTT': ['Japonica']},\n '49': {'AGGGGCCATAGGTATGCCAACTTC': ['Japonica'],\n  'AGGGGCCATAGGTAAGCCAACTTC': ['Japonica'],\n  'AGGGGCCATAGGTAAGCCAACCTC': ['Japonica']},\n '50': {'GGGGGCCATAGGTAAACCAACCTT': ['Japonica'],\n  'AGGGGCCATAGGTAAACCAACTTT': ['Japonica']},\n '51': {'AGGGGCGATAGGTAAGCCAACTTT': ['Japonica']},\n '52': {'GGGGGCCATAGGTGAGCCAACTTT': ['Japonica']},\n '53': {'GGGGGCCATAGGTAAGCCAACTTT': ['Japonica']},\n '54': {'AAGGGCCATAGGTGAGCCAACTTT': ['Japonica'],\n  'GAGGGCCATAGGTGAGCCAACTTT': ['Japonica']},\n '55': {'AAGGGCCATAGGTAAGCCAACTTT': ['Japonica'],\n  'GAGGGCCATAGGTAAGCCAACTTT': ['Japonica']},\n '56': {'GAGAGCCATAGGTATGTTAACCCT': ['Japonica'],\n  'AAGGGCCATAGGTATATTAACCTT': ['Japonica']},\n '57': {'GAGGGCCATAGTTGTGTTAACCTT': ['Japonica']},\n '58': {'GAGGGCCATAGGTGTGTTAACCTT': ['Japonica']},\n '59': {'AAGAGCCATAGGAGTGTTAACCTT': ['Japonica']},\n '60': {'AAGAGCCATAGGAGTGTTAACCTC': ['Japonica'],\n  'GAGAGCCATAGGAGTGTTAACCTC': ['Japonica']},\n '61': {'GAAAGCCATAGGTGTGTTAACCTC': ['Japonica']},\n '62': {'GAAAGCCATAGGAGTGTTAACCTT': ['Japonica']},\n '63': {'GAAAGCCATAGGTGTGTTAACTTT': ['Japonica']},\n '64': {'GAAAGCCATAGGTGTGTTAACCTT': ['Japonica']},\n '65': {'GAGAGCCATAGGTGAGTTAACCTT': ['Japonica'],\n  'GAAAGCCATAGGTGAGTTAACCTT': ['Japonica']},\n '66': {'AAGAGCCATAGGTGTGTTAACCTT': ['Japonica'],\n  'GAGAGCCATAGGTGTGTTAACCTT': ['Japonica']},\n '67': {'AAGGGCCATAGGAGTGTTACTCTT': ['Japonica'],\n  'AAGGGCCATAGGAGTGTTAACCTT': ['Japonica']},\n '68': {'AAGGGCCATAGGTGAGTTAACCTC': ['Japonica']},\n '69': {'AAGGGCCATAGGAGAGTTAACCTC': ['Japonica'],\n  'AAGGGCCATAGGTGTGTTAACCTC': ['Japonica']},\n '70': {'GGGGACGGTATTAATGTTACCTTC': ['Indica'],\n  'GGGGGCGGTATTAATACTACCTTC': ['Indica']},\n '71': {'GGGAGCGGTATGTATGTCTCCCCC': ['VI/Aromatic']},\n '72': {'GGGAGCGGTAGGTATACCACCTTT': ['Indica'],\n  'AGGAGCCATAGGAATACCACCCTT': ['Japonica']},\n '73': {'GGGGGCCATAGGTATGTTTACTTT': ['Intermediate'],\n  'GGAAGCGGTAGGTATGTTTACTTT': ['Indica']},\n '74': {'GGGGGCGATAGGTAAGTTACCCTT': ['Intermediate']},\n '75': {'GGGGGCGATATGAATGCTACCTTT': ['Indica']},\n '76': {'GGGGGCCATAGGAATGCTACCTTT': ['Indica'],\n  'GGGGGCCATAGGTATGCTACCTTT': ['Indica']},\n '77': {'GGGAGCCGTAGTAATGTTACCCTT': ['Indica'],\n  'GGGAGCCGTAGTTATGTTACCTTT': ['Indica']},\n '78': {'GGGAGCCATAGGAATGTTACCTTT': ['Indica']},\n '79': {'GGGAGCCGTATTAATGTTACCTTT': ['Indica']},\n '80': {'GGGAGCCGTATGAATGTTACCTTT': ['Indica']},\n '81': {'GGGAGCCGTATGTATGTTACCTTT': ['Indica']},\n '82': {'GGGAGCGGTATTTATGTTACCCTT': ['Indica']},\n '83': {'GGGAGCGGTATTAATGTTACCCTT': ['Indica'],\n  'GGGAGCGGTATGTATGTTACCCTT': ['Indica']},\n '84': {'GGGAGCGGTATGTATGCCACCTTT': ['Indica']},\n '85': {'GGGAGCGGTATGTATGCTACCTTT': ['Indica'],\n  'GGGAGCGGTATGTATGCTAACTTT': ['Indica']},\n '86': {'AGGAGCGGTATGTATGTTACCTTC': ['Indica']},\n '87': {'GGGAGCGGTATGAATGTTACCTTC': ['Indica']},\n '88': {'GGGAGCGGTATGTATGTTACCTTC': ['Indica']},\n '89': {'GGGGGCGGTATGTATGTTACCTTC': ['Indica']},\n '90': {'GGGGGCGGTATGTATGTTACCTTT': ['Indica']},\n '91': {'GGGAGCGGTAGGTATGTCACCTTT': ['Indica']},\n '92': {'GGGAGCGGTAGGTATGTTACCTTT': ['Indica']},\n '93': {'GAGAGCGGTATGTATGTTACCTTT': ['Indica']},\n '94': {'GGGAGCGGTATGTATGTTACCTCT': ['Indica']},\n '95': {'GGGAGCGGTATGTGTGTTACCTTT': ['Indica']},\n '96': {'GGGAGCGGTATGTATGTTACCTTT': ['Indica']},\n '97': {'GGGAGCGATATGAATGTTACCTTT': ['Indica']},\n '98': {'GGGAGCGATATTAATGTTACCTTT': ['Indica']},\n '99': {'GGGAGCGGTATGAATGTCACCTTT': ['Indica']},\n '100': {'GGGAGCGGTAGGAATGTTACCTTT': ['Indica']},\n '101': {'GGGAGCGGTATGAATGTTACCTTT': ['Indica']},\n '102': {'GGGAGCGGTATTAATGCTACCTTT': ['Indica'],\n  'GGGAGCGGTATGAATGCTACCTTT': ['Indica']},\n '103': {'GGGAGCGGTATTAATGCCACCTTT': ['Indica']},\n '104': {'GGGAGCGGTATTAATGTTTCCTTC': ['Indica']},\n '105': {'GGGAGCGGTATTAATGTTACCTTC': ['Indica']},\n '106': {'GGGAGCGGTATGAATGTTTCCTTT': ['Indica']},\n '107': {'GGGAGCGGTATGTATGTTTCCTTT': ['Indica']},\n '108': {'GGGAGCGGTATTAGTGTTTCCTTT': ['Indica']},\n '109': {'GGGAGCGGTATTAATGTTTCCTTT': ['Indica']},\n '110': {'GGGAGCGGTAGTAATGTTACCTTC': ['Indica']},\n '111': {'GGGAGCGGTAGTAATGTTACCTTT': ['Indica']},\n '112': {'GGGAGCGGTAGTAATGTTTCCTTT': ['Indica'],\n  'GGGAGCGGTAGTAATGTTACCTCT': ['Indica']},\n '113': {'GGGAGCGGTATTAATGCTACCTCT': ['Indica']},\n '114': {'GGGAGCGGTATTAATGTTACCTCT': ['Indica']},\n '115': {'GGGGGCGGTATTAATGTTACCTCT': ['Indica']},\n '116': {'GGGGGCGGTAGTAATGTTACCTTT': ['Indica']},\n '117': {'GGGGGCGGTATTAATGTTACCTTT': ['Indica']},\n '118': {'GGGAACGGTATTAATGTTACCTTT': ['Indica']},\n '119': {'GGGAACGGTATTAATGTTACCTCT': ['Indica']},\n '120': {'GGGAGCGGTATTTATGTTACCTTT': ['Indica']},\n '121': {'GGGAGCGGTATTAATGTTACCTTT': ['Indica']},\n '122': {'GGGGACGGTATGTATGTTACCTCT': ['Indica']},\n '123': {'GGGGGCCGTATGAATGTTTCCTTC': ['Intermediate']},\n '124': {'GGGGGCCGTATGAATGTTACCTTT': ['Indica']},\n '125': {'GGGGGCGGTATGAATGTTACCTTT': ['Indica'],\n  'GGGGGCGGTATGAATGTTAACTTT': ['Indica'],\n  'GGGGGCCGTATGTAAGTTAACTTT': ['Japonica']},\n '126': {'GGGGGCCACCGTAATACTACCTTC': ['Indica']},\n '127': {'GGGGGCCACCGTAGTACCACCCTC': ['VI/Aromatic'],\n  'GGGGGCCACCGTAATACCACCCCC': ['VI/Aromatic'],\n  'GGGGGCCACCGTAATACCTCCCTC': ['Indica']},\n '128': {'GGGGGCCACCGGTGTACCACCCCC': ['VI/Aromatic'],\n  'GGGGGCCACCGGTATACCTCCCCC': ['VI/Aromatic']},\n '129': {'GGGGGCCACCGGTGTGCCTCCCCC': ['VI/Aromatic']},\n '130': {'GGGGGCCACCGGAATGTCTCCTCC': ['Aus']},\n '131': {'GGGGGCCACCGGAATGTCTCCCCC': ['Aus']},\n '132': {'GGGGGCCACCGTAATGCCTCCCCC': ['VI/Aromatic']},\n '133': {'GGGGGCCACAGTAATGTCTCCCCC': ['Aus']},\n '134': {'GGGGGCCACCGTAATGTCTCCCCC': ['VI/Aromatic', 'Aus']},\n '135': {'GGGGGCCACCGGTATGTCTCCTTT': ['Indica']},\n '136': {'GGGGGCCACCGGTATGTCTCCCCT': ['VI/Aromatic']},\n '137': {'GGGGGCCACCGGTATGTCACCCCC': ['VI/Aromatic']},\n '138': {'GGGGGCCACCGGTATGTCTCCCCC': ['Aus']},\n '139': {'GGGGGCCACCGGTATGTTTCCCTC': ['Indica']},\n '140': {'GGGGGCCACCGGAATGTTTCCCTC': ['Aus']},\n '141': {'GGGGGTCACCGGTATGTCTCCCTC': ['Aus']},\n '142': {'GGGGGCCACCGGTATGTCTCCCTC': ['Aus']},\n '143': {'GGGGGCCACCGGAATGTCTCCCTT': ['Aus'],\n  'GGGGGCCACCGTAATGTCTCCCTT': ['Aus']},\n '144': {'GGGGGCCACCGTTATGTCTCCCTC': ['Aus']},\n '145': {'GGGGGCCACCGTAATGTCTCCCTC': ['Aus']},\n '146': {'GGGGGCCACCGTAATGTCACCCTC': ['Aus']},\n '147': {'GGGGGCCACCGGAATGTCACCCTC': ['Aus']},\n '148': {'GGGGGCCACCGGAATGTCTCCCTC': ['Aus']},\n '149': {'GGGAACCACCGGTATACTACCTTT': ['Indica']},\n '150': {'GGGGGCCACCGGTATGCTTCCTCT': ['Intermediate'],\n  'GGGGACCACCGGAATGCTTCCTTT': ['Indica']},\n '151': {'GGGAGCCACCGGTATGTCACCCTT': ['Indica'],\n  'GAGAGCCATCGGTATGTCACCCTC': ['Intermediate']},\n '152': {'GGGGACCACCGGTATGTTTCCTTC': ['Indica'],\n  'GGGGACCACCGGTATGTTACCTTC': ['Indica']},\n '153': {'GGGAACCATCGGTATGTTTCCTTC': ['Indica'],\n  'GGGGACCATCGGTATGTTTCCTTC': ['Indica']},\n '154': {'GGGGGCGATCGGTATGTTTCCTTC': ['Indica'],\n  'GGGGGCCATCGGTATGTTTCCTTC': ['Indica']},\n '155': {'GGGAGTCATCGGTATGTTACCTTC': ['Indica']},\n '156': {'GGGGGCCACCGGTATGTTACCTTT': ['Indica'],\n  'GGGAGCCACCGGTATGTTACCTTT': ['Indica']},\n '157': {'GGGGGCCACAGGTATGTTACCTTC': ['Indica']},\n '158': {'GGGGGCCACCGGTATGTTACCTTC': ['Indica']},\n '159': {'GGGAGCCACCGGAATGTTACCTTT': ['Indica'],\n  'GGGAGCCACCGGAATGTTACCTTC': ['Indica']},\n '160': {'GGGAGCGATCGGTATGTTTCCTTT': ['Indica'],\n  'GGGAGCGACCGGTATGTTTCCTTT': ['Indica']},\n '161': {'GGGAGCGACCGGTATGTTTCCTTC': ['Indica']},\n '162': {'GGGGGCGACCGGTATGTTTCCTTC': ['Indica']},\n '163': {'GGGAGCGACCGGTGTGTTACCTTT': ['Indica'],\n  'GGGAGCGACAGGTATGTTACCTTT': ['Indica']},\n '164': {'GGGAACGATCGGTATGTTACCCTT': ['Indica'],\n  'GAGAGCGATCGGTATGTTACCCTT': ['Indica']},\n '165': {'GGGAACGATCGGAATGTTACCTTT': ['Indica'],\n  'GGGAGCGATCGGAATGTTACCTTT': ['Indica']},\n '166': {'GGGGGCGATCGGTATGTTACCTTT': ['Indica']},\n '167': {'GGGAGCGATAGGTATGTTACCTTT': ['Indica'],\n  'GGGAGCGATCGGTATGTTACCTTT': ['Indica']},\n '168': {'GGGAGCGATCGGTATGTTAACTCT': ['Indica'],\n  'GGAAGCGATCGGTATGTTAACTTT': ['Indica']},\n '169': {'GAGGGCCACCGTAATGTTAACCCT': ['Japonica']},\n '170': {'GGGGGCCATAGGAGTGTTAACCCC': ['VI/Aromatic'],\n  'GGGGGCCATAGTAATGTCTACCCC': ['Intermediate']},\n '171': {'GGGAGCGATCGTAATGTCTCTCTC': ['Indica']},\n '172': {'GGGAACCGTCGTAATGTTTCCCTT': ['Indica']},\n '173': {'GGGAGCCATCGTAATGTTTCCCCC': ['Indica']},\n '174': {'GGGAACCATCGTAATGTCTCCTCC': ['Indica']},\n '175': {'GGGAACGATCGTAATGTTTCCTCT': ['Indica'],\n  'GGGAACGATAGTAATGTTTCCTCT': ['Indica'],\n  'GGGAACGATCGTAATGTTTCCTCC': ['Indica']},\n '176': {'GGGGGCGATAGTAATGTTAACCTT': ['Intermediate']},\n '177': {'GGGAGCGATCGTAATGTTAACTTT': ['Indica'],\n  'GGGGGCGATCGTAATGTTAACTTT': ['Indica'],\n  'GGGAGCGATAGTAATGTTAACTTT': ['Indica']},\n '178': {'GGGAGCGACCGTAATGTTTCCTTC': ['Indica']},\n '179': {'GGGGGCGACCGTAATGTTTCCTTT': ['Indica']},\n '180': {'GGGGGCGACCGTAATGTTTCCTTC': ['Indica']},\n '181': {'GGGGGCGACCGTAATGTTACCTTC': ['Indica'],\n  'GGGGGCGACCGTAATGTTACCCTC': ['Indica'],\n  'GGGGGCGACCGTAATGTTACCTCC': ['Indica']},\n '182': {'GGGAACGACCGTAATGTTACCTCC': ['Indica']},\n '183': {'GGGAGCGACCGTAATGTTACCTCC': ['Indica']},\n '184': {'GGGGGCCATCGTAATGTTACCTTC': ['Indica'],\n  'GGGGGCCATCGTAATGTTACCTCC': ['Indica'],\n  'GGGGGCCATCGTAATGTTAACTTC': ['Indica']},\n '185': {'GGGAGCGATCGTAATGTTACCTTC': ['Indica'],\n  'GGGAGCGATCGTAATGTTACCTCC': ['Indica'],\n  'GGGGGCGATCGTAATGTTACCTTC': ['Indica']},\n '186': {'GGGGGCCATCGTAATGTTTCCTTC': ['Indica']},\n '187': {'GGGGGCCATCGTAATGTTTCCTCC': ['Indica'],\n  'GGGGGCGATCGTAATGTTTCCTCC': ['Indica']},\n '188': {'GGGGACCACAGTAATGTTACCTCT': ['Indica'],\n  'GGGGACCACAGTAATGTTACCTTT': ['Indica']},\n '189': {'GGGGGCCACCGTAATGTTACCTTT': ['Indica']},\n '190': {'GGGGACCACCGTAATGTTACCTTT': ['Indica']},\n '191': {'GGGGACGACCGTAATGTTTCCTTC': ['Indica']},\n '192': {'GGGGACCACCGTAATGTTTCCTTC': ['Indica']},\n '193': {'GGGGACCACCGTAATGTTTCCTTT': ['Indica']},\n '194': {'GGGGACGACAGTAATGTTACCTTC': ['Indica'],\n  'GGGGACCACAGTAATGTTACCTTC': ['Indica']},\n '195': {'GGGGATCACAGTAATGTTTCCTTC': ['Indica']},\n '196': {'GGGGACCACAGTAATGTTTCCTTC': ['Indica']},\n '197': {'GGGGGCCATCGTAGTGTTTCCTTT': ['Indica'],\n  'GGGGGCCATCGTAATGTTTCCTTT': ['Indica']},\n '198': {'GGGGGCCACAGTAATGTTTCCTTT': ['Indica']},\n '199': {'GGGAGCCACCGTAATGTTTCCTTT': ['Indica']},\n '200': {'GGGGGCCACCGTAATGTTTCCTTT': ['Indica']},\n '201': {'GGGGGCCACAGTAATGTTTACTTC': ['Indica']},\n '202': {'GGGGGCCACAGTAATGTTACCTTC': ['Indica'],\n  'GGGGGCCACAGTAATGTTACCTCC': ['Indica']},\n '203': {'GGGGGCCACAGTAATGTTTCCTCC': ['Indica']},\n '204': {'GGGGGCCACAGTAATGTTTCCTTC': ['Indica']},\n '205': {'GGGGACCACCGTAATGTTACCCTC': ['Indica']},\n '206': {'GGGGGCCACCGTAATGTTACCCTC': ['Indica']},\n '207': {'GGGGGCCACCGTAATGTTACCTTC': ['Indica']},\n '208': {'GGGGGCCACCGTAATGTTTCCTTC': ['Indica'],\n  'GGGAGCCACCGTAATGTTACCCTT': ['Indica']},\n '209': {'GGGAACGATCGTAATGTCACCTTC': ['Indica']},\n '210': {'GGGGACCATCGTAATGTTACCTTC': ['Indica'],\n  'GGGGACGATCGTAATGTTACCTTC': ['Indica'],\n  'GGGGACCATCTTAATGTTACCTTC': ['Indica']},\n '211': {'GGGAACCATCGTAATGTTACCCTC': ['Indica'],\n  'GGGAACCATCGTAATGTTACCTTC': ['Indica']},\n '212': {'GGAAGCGATCGTAATGTTAACTCT': ['Indica'],\n  'GGAAGCGATCGTAATGTTACCTCT': ['Indica']},\n '213': {'GGGAGCGATCGTAATGTTACCTCT': ['Indica'],\n  'GGGAACGATCGTAATGTTACCTCT': ['Indica']},\n '214': {'GGGAGCGATCGTAATGTCACCTTT': ['Indica']},\n '215': {'GGGAGCGACCGTAATGTTACCTTT': ['Indica']},\n '216': {'GGGAGCGATCGTAATGTTACCTTT': ['Indica']},\n '217': {'GGGAGCGATCGTAATGTTTCCTTT': ['Indica']},\n '218': {'GGGAACGATCGTAATGTTACCTTT': ['Indica']},\n '219': {'GGGAACGATCGTAATGTTTCCTTT': ['Indica']},\n '220': {'GGGGACGATCGTAGTGTTACCTTT': ['Indica'],\n  'GGGGACGATCGTAATGTTACCTTT': ['Indica']},\n '221': {'GGGGGCGATCGTAATGTTACCTTT': ['Indica'],\n  'GGGGGCCATCGTAATGTTACCTTT': ['Indica'],\n  'GGGGGCCATCGTAATGTCACCTTT': ['Indica']}}"
     },
     "execution_count": 33,
     "metadata": {},
     "output_type": "execute_result"
    }
   ],
   "source": [
    "same_sequence_diff_subpop_per_cluster = dict()\n",
    "for k,v in clusters_dict.items():\n",
    "    same_sequence_diff_subpop_per_cluster[k] = dict()\n",
    "    cluster = same_sequence_diff_subpop_per_cluster[k]\n",
    "    for cult in v:\n",
    "        sequence = sequences_dict[cult]\n",
    "        if sequence in cluster:\n",
    "            cluster[sequence].append(sub_pop_dict[cult])\n",
    "        else:\n",
    "            cluster[sequence] = [sub_pop_dict[cult]]\n",
    "        cluster[sequence] = list(set(cluster[sequence]))\n",
    "\n",
    "same_sequence_diff_subpop_per_cluster"
   ],
   "metadata": {
    "collapsed": false,
    "ExecuteTime": {
     "end_time": "2023-06-30T07:07:54.966361Z",
     "start_time": "2023-06-30T07:07:54.961778Z"
    }
   }
  },
  {
   "cell_type": "code",
   "execution_count": 35,
   "outputs": [],
   "source": [
    "mapping.to_csv('mapping_24.csv', index=False)"
   ],
   "metadata": {
    "collapsed": false,
    "ExecuteTime": {
     "end_time": "2023-06-30T07:10:43.028039Z",
     "start_time": "2023-06-30T07:10:43.023347Z"
    }
   }
  },
  {
   "cell_type": "code",
   "execution_count": null,
   "outputs": [],
   "source": [],
   "metadata": {
    "collapsed": false
   }
  }
 ],
 "metadata": {
  "kernelspec": {
   "display_name": "Python 3",
   "language": "python",
   "name": "python3"
  },
  "language_info": {
   "codemirror_mode": {
    "name": "ipython",
    "version": 2
   },
   "file_extension": ".py",
   "mimetype": "text/x-python",
   "name": "python",
   "nbconvert_exporter": "python",
   "pygments_lexer": "ipython2",
   "version": "2.7.6"
  }
 },
 "nbformat": 4,
 "nbformat_minor": 0
}
