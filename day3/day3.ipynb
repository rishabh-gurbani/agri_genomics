{
 "cells": [
  {
   "cell_type": "code",
   "execution_count": 13,
   "metadata": {
    "collapsed": true,
    "ExecuteTime": {
     "end_time": "2023-05-09T01:55:04.241445Z",
     "start_time": "2023-05-09T01:55:04.237307Z"
    }
   },
   "outputs": [
    {
     "name": "stdout",
     "output_type": "stream",
     "text": [
      "0 1 2 \n",
      "0 1 2 \n",
      "0 1 2 \n"
     ]
    }
   ],
   "source": [
    "def printMatrix(mat):\n",
    "    for i in range(len(mat)):\n",
    "        for j in range(len(mat[i])):\n",
    "            print(mat[i][j], end=\" \")\n",
    "        print()\n",
    "\n",
    "list = [[i for i in range(3)] for j in range(3)]\n",
    "\n",
    "printMatrix(list)"
   ]
  },
  {
   "cell_type": "code",
   "execution_count": 14,
   "outputs": [],
   "source": [
    "# sequence1 = \"HGWAG\"\n",
    "# sequence2 = \"PHSWG\"\n",
    "sequence1 = \"GGGGGCCATCGTAATGTCACCTTT\"\n",
    "sequence2 = \"AAGGGCCATAGGTGTGTTAACCTC\"\n",
    "matchPenalty = 1\n",
    "mismatchPenalty = -1\n",
    "gapPenalty = -2"
   ],
   "metadata": {
    "collapsed": false,
    "ExecuteTime": {
     "end_time": "2023-05-09T01:55:04.690619Z",
     "start_time": "2023-05-09T01:55:04.686464Z"
    }
   }
  },
  {
   "cell_type": "code",
   "execution_count": 15,
   "outputs": [
    {
     "name": "stdout",
     "output_type": "stream",
     "text": [
      "0 0 0 0 0 0 0 0 0 0 0 0 0 0 0 0 0 0 0 0 0 0 0 0 0 \n",
      "0 0 0 0 0 0 0 0 0 0 0 0 0 0 0 0 0 0 0 0 0 0 0 0 0 \n",
      "0 0 0 0 0 0 0 0 0 0 0 0 0 0 0 0 0 0 0 0 0 0 0 0 0 \n",
      "0 0 0 0 0 0 0 0 0 0 0 0 0 0 0 0 0 0 0 0 0 0 0 0 0 \n",
      "0 0 0 0 0 0 0 0 0 0 0 0 0 0 0 0 0 0 0 0 0 0 0 0 0 \n",
      "0 0 0 0 0 0 0 0 0 0 0 0 0 0 0 0 0 0 0 0 0 0 0 0 0 \n",
      "0 0 0 0 0 0 0 0 0 0 0 0 0 0 0 0 0 0 0 0 0 0 0 0 0 \n",
      "0 0 0 0 0 0 0 0 0 0 0 0 0 0 0 0 0 0 0 0 0 0 0 0 0 \n",
      "0 0 0 0 0 0 0 0 0 0 0 0 0 0 0 0 0 0 0 0 0 0 0 0 0 \n",
      "0 0 0 0 0 0 0 0 0 0 0 0 0 0 0 0 0 0 0 0 0 0 0 0 0 \n",
      "0 0 0 0 0 0 0 0 0 0 0 0 0 0 0 0 0 0 0 0 0 0 0 0 0 \n",
      "0 0 0 0 0 0 0 0 0 0 0 0 0 0 0 0 0 0 0 0 0 0 0 0 0 \n",
      "0 0 0 0 0 0 0 0 0 0 0 0 0 0 0 0 0 0 0 0 0 0 0 0 0 \n",
      "0 0 0 0 0 0 0 0 0 0 0 0 0 0 0 0 0 0 0 0 0 0 0 0 0 \n",
      "0 0 0 0 0 0 0 0 0 0 0 0 0 0 0 0 0 0 0 0 0 0 0 0 0 \n",
      "0 0 0 0 0 0 0 0 0 0 0 0 0 0 0 0 0 0 0 0 0 0 0 0 0 \n",
      "0 0 0 0 0 0 0 0 0 0 0 0 0 0 0 0 0 0 0 0 0 0 0 0 0 \n",
      "0 0 0 0 0 0 0 0 0 0 0 0 0 0 0 0 0 0 0 0 0 0 0 0 0 \n",
      "0 0 0 0 0 0 0 0 0 0 0 0 0 0 0 0 0 0 0 0 0 0 0 0 0 \n",
      "0 0 0 0 0 0 0 0 0 0 0 0 0 0 0 0 0 0 0 0 0 0 0 0 0 \n",
      "0 0 0 0 0 0 0 0 0 0 0 0 0 0 0 0 0 0 0 0 0 0 0 0 0 \n",
      "0 0 0 0 0 0 0 0 0 0 0 0 0 0 0 0 0 0 0 0 0 0 0 0 0 \n",
      "0 0 0 0 0 0 0 0 0 0 0 0 0 0 0 0 0 0 0 0 0 0 0 0 0 \n",
      "0 0 0 0 0 0 0 0 0 0 0 0 0 0 0 0 0 0 0 0 0 0 0 0 0 \n",
      "0 0 0 0 0 0 0 0 0 0 0 0 0 0 0 0 0 0 0 0 0 0 0 0 0 \n"
     ]
    }
   ],
   "source": [
    "def constructMatrix(str1, str2):\n",
    "    list = [[0 for i in range(len(str1)+1)] for j in range(len(str2)+1)]\n",
    "    return list\n",
    "\n",
    "\n",
    "mat = constructMatrix(sequence1, sequence2)\n",
    "\n",
    "printMatrix(mat)"
   ],
   "metadata": {
    "collapsed": false,
    "ExecuteTime": {
     "end_time": "2023-05-09T01:55:06.060726Z",
     "start_time": "2023-05-09T01:55:06.053554Z"
    }
   }
  },
  {
   "cell_type": "code",
   "execution_count": 16,
   "outputs": [
    {
     "name": "stdout",
     "output_type": "stream",
     "text": [
      "  _ G G G G G C C A T C G T A A T G T C A C C T T T \n",
      "_ 0 0 0 0 0 0 0 0 0 0 0 0 0 0 0 0 0 0 0 0 0 0 0 0 0 \n",
      "A 0 0 0 0 0 0 0 0 0 0 0 0 0 0 0 0 0 0 0 0 0 0 0 0 0 \n",
      "A 0 0 0 0 0 0 0 0 0 0 0 0 0 0 0 0 0 0 0 0 0 0 0 0 0 \n",
      "G 0 0 0 0 0 0 0 0 0 0 0 0 0 0 0 0 0 0 0 0 0 0 0 0 0 \n",
      "G 0 0 0 0 0 0 0 0 0 0 0 0 0 0 0 0 0 0 0 0 0 0 0 0 0 \n",
      "G 0 0 0 0 0 0 0 0 0 0 0 0 0 0 0 0 0 0 0 0 0 0 0 0 0 \n",
      "C 0 0 0 0 0 0 0 0 0 0 0 0 0 0 0 0 0 0 0 0 0 0 0 0 0 \n",
      "C 0 0 0 0 0 0 0 0 0 0 0 0 0 0 0 0 0 0 0 0 0 0 0 0 0 \n",
      "A 0 0 0 0 0 0 0 0 0 0 0 0 0 0 0 0 0 0 0 0 0 0 0 0 0 \n",
      "T 0 0 0 0 0 0 0 0 0 0 0 0 0 0 0 0 0 0 0 0 0 0 0 0 0 \n",
      "A 0 0 0 0 0 0 0 0 0 0 0 0 0 0 0 0 0 0 0 0 0 0 0 0 0 \n",
      "G 0 0 0 0 0 0 0 0 0 0 0 0 0 0 0 0 0 0 0 0 0 0 0 0 0 \n",
      "G 0 0 0 0 0 0 0 0 0 0 0 0 0 0 0 0 0 0 0 0 0 0 0 0 0 \n",
      "T 0 0 0 0 0 0 0 0 0 0 0 0 0 0 0 0 0 0 0 0 0 0 0 0 0 \n",
      "G 0 0 0 0 0 0 0 0 0 0 0 0 0 0 0 0 0 0 0 0 0 0 0 0 0 \n",
      "T 0 0 0 0 0 0 0 0 0 0 0 0 0 0 0 0 0 0 0 0 0 0 0 0 0 \n",
      "G 0 0 0 0 0 0 0 0 0 0 0 0 0 0 0 0 0 0 0 0 0 0 0 0 0 \n",
      "T 0 0 0 0 0 0 0 0 0 0 0 0 0 0 0 0 0 0 0 0 0 0 0 0 0 \n",
      "T 0 0 0 0 0 0 0 0 0 0 0 0 0 0 0 0 0 0 0 0 0 0 0 0 0 \n",
      "A 0 0 0 0 0 0 0 0 0 0 0 0 0 0 0 0 0 0 0 0 0 0 0 0 0 \n",
      "A 0 0 0 0 0 0 0 0 0 0 0 0 0 0 0 0 0 0 0 0 0 0 0 0 0 \n",
      "C 0 0 0 0 0 0 0 0 0 0 0 0 0 0 0 0 0 0 0 0 0 0 0 0 0 \n",
      "C 0 0 0 0 0 0 0 0 0 0 0 0 0 0 0 0 0 0 0 0 0 0 0 0 0 \n",
      "T 0 0 0 0 0 0 0 0 0 0 0 0 0 0 0 0 0 0 0 0 0 0 0 0 0 \n",
      "C 0 0 0 0 0 0 0 0 0 0 0 0 0 0 0 0 0 0 0 0 0 0 0 0 0 \n"
     ]
    }
   ],
   "source": [
    "def printStringMatrix(matrix, str1, str2):\n",
    "    print(\"\", end = \"  \")\n",
    "    print(\"_\", end = \" \")\n",
    "    for i in range(len(str1)):\n",
    "        print(str1[i], end = \" \")\n",
    "    print()\n",
    "    for i in range(len(matrix)):\n",
    "        if i == 0 :\n",
    "            print(\"_\", end = \" \")\n",
    "        else:\n",
    "            print(str2[i-1], end = \" \")\n",
    "        for j in range(len(matrix[i])):\n",
    "            print(matrix[i][j], end = \" \")\n",
    "        print()\n",
    "\n",
    "printStringMatrix(mat, sequence1, sequence2)"
   ],
   "metadata": {
    "collapsed": false,
    "ExecuteTime": {
     "end_time": "2023-05-09T01:55:07.426679Z",
     "start_time": "2023-05-09T01:55:07.414874Z"
    }
   }
  },
  {
   "cell_type": "code",
   "execution_count": 17,
   "outputs": [
    {
     "name": "stdout",
     "output_type": "stream",
     "text": [
      "0 -2 -4 -6 -8 -10 -12 -14 -16 -18 -20 -22 -24 -26 -28 -30 -32 -34 -36 -38 -40 -42 -44 -46 -48 \n",
      "-2 0 0 0 0 0 0 0 0 0 0 0 0 0 0 0 0 0 0 0 0 0 0 0 0 \n",
      "-4 0 0 0 0 0 0 0 0 0 0 0 0 0 0 0 0 0 0 0 0 0 0 0 0 \n",
      "-6 0 0 0 0 0 0 0 0 0 0 0 0 0 0 0 0 0 0 0 0 0 0 0 0 \n",
      "-8 0 0 0 0 0 0 0 0 0 0 0 0 0 0 0 0 0 0 0 0 0 0 0 0 \n",
      "-10 0 0 0 0 0 0 0 0 0 0 0 0 0 0 0 0 0 0 0 0 0 0 0 0 \n",
      "-12 0 0 0 0 0 0 0 0 0 0 0 0 0 0 0 0 0 0 0 0 0 0 0 0 \n",
      "-14 0 0 0 0 0 0 0 0 0 0 0 0 0 0 0 0 0 0 0 0 0 0 0 0 \n",
      "-16 0 0 0 0 0 0 0 0 0 0 0 0 0 0 0 0 0 0 0 0 0 0 0 0 \n",
      "-18 0 0 0 0 0 0 0 0 0 0 0 0 0 0 0 0 0 0 0 0 0 0 0 0 \n",
      "-20 0 0 0 0 0 0 0 0 0 0 0 0 0 0 0 0 0 0 0 0 0 0 0 0 \n",
      "-22 0 0 0 0 0 0 0 0 0 0 0 0 0 0 0 0 0 0 0 0 0 0 0 0 \n",
      "-24 0 0 0 0 0 0 0 0 0 0 0 0 0 0 0 0 0 0 0 0 0 0 0 0 \n",
      "-26 0 0 0 0 0 0 0 0 0 0 0 0 0 0 0 0 0 0 0 0 0 0 0 0 \n",
      "-28 0 0 0 0 0 0 0 0 0 0 0 0 0 0 0 0 0 0 0 0 0 0 0 0 \n",
      "-30 0 0 0 0 0 0 0 0 0 0 0 0 0 0 0 0 0 0 0 0 0 0 0 0 \n",
      "-32 0 0 0 0 0 0 0 0 0 0 0 0 0 0 0 0 0 0 0 0 0 0 0 0 \n",
      "-34 0 0 0 0 0 0 0 0 0 0 0 0 0 0 0 0 0 0 0 0 0 0 0 0 \n",
      "-36 0 0 0 0 0 0 0 0 0 0 0 0 0 0 0 0 0 0 0 0 0 0 0 0 \n",
      "-38 0 0 0 0 0 0 0 0 0 0 0 0 0 0 0 0 0 0 0 0 0 0 0 0 \n",
      "-40 0 0 0 0 0 0 0 0 0 0 0 0 0 0 0 0 0 0 0 0 0 0 0 0 \n",
      "-42 0 0 0 0 0 0 0 0 0 0 0 0 0 0 0 0 0 0 0 0 0 0 0 0 \n",
      "-44 0 0 0 0 0 0 0 0 0 0 0 0 0 0 0 0 0 0 0 0 0 0 0 0 \n",
      "-46 0 0 0 0 0 0 0 0 0 0 0 0 0 0 0 0 0 0 0 0 0 0 0 0 \n",
      "-48 0 0 0 0 0 0 0 0 0 0 0 0 0 0 0 0 0 0 0 0 0 0 0 0 \n"
     ]
    }
   ],
   "source": [
    "def initMatrix(matrix):\n",
    "    x=0\n",
    "    for i in range(len(matrix)):\n",
    "        matrix[i][0] = x * gapPenalty\n",
    "        x=x+1\n",
    "    x=0\n",
    "    for i in range(len(matrix[0])):\n",
    "        matrix[0][i] = x * gapPenalty\n",
    "        x=x+1\n",
    "    return matrix\n",
    "\n",
    "matrix = initMatrix(mat)\n",
    "printMatrix(matrix)"
   ],
   "metadata": {
    "collapsed": false,
    "ExecuteTime": {
     "end_time": "2023-05-09T01:55:09.087598Z",
     "start_time": "2023-05-09T01:55:09.080311Z"
    }
   }
  },
  {
   "cell_type": "code",
   "execution_count": 18,
   "outputs": [],
   "source": [
    "def getMinPenalty(matrix, i, j, str1, str2):\n",
    "    if str2[i-1] == str1[j-1]:\n",
    "        currPenalty = matchPenalty\n",
    "    else:\n",
    "        currPenalty = mismatchPenalty\n",
    "\n",
    "    top = matrix[i-1][j] + gapPenalty\n",
    "    left = matrix[i][j-1] + gapPenalty\n",
    "    diag = matrix[i-1][j-1] + currPenalty\n",
    "    maxE = max(top, left, diag)\n",
    "    currPenalty = maxE\n",
    "\n",
    "    return currPenalty"
   ],
   "metadata": {
    "collapsed": false,
    "ExecuteTime": {
     "end_time": "2023-05-09T01:55:10.541776Z",
     "start_time": "2023-05-09T01:55:10.531878Z"
    }
   }
  },
  {
   "cell_type": "code",
   "execution_count": 19,
   "outputs": [
    {
     "name": "stdout",
     "output_type": "stream",
     "text": [
      "  _ G G G G G C C A T C G T A A T G T C A C C T T T \n",
      "_ 0 -2 -4 -6 -8 -10 -12 -14 -16 -18 -20 -22 -24 -26 -28 -30 -32 -34 -36 -38 -40 -42 -44 -46 -48 \n",
      "A -2 -1 -3 -5 -7 -9 -11 -13 -13 -15 -17 -19 -21 -23 -25 -27 -29 -31 -33 -35 -37 -39 -41 -43 -45 \n",
      "A -4 -3 -2 -4 -6 -8 -10 -12 -12 -14 -16 -18 -20 -20 -22 -24 -26 -28 -30 -32 -34 -36 -38 -40 -42 \n",
      "G -6 -3 -2 -1 -3 -5 -7 -9 -11 -13 -15 -15 -17 -19 -21 -23 -23 -25 -27 -29 -31 -33 -35 -37 -39 \n",
      "G -8 -5 -2 -1 0 -2 -4 -6 -8 -10 -12 -14 -16 -18 -20 -22 -22 -24 -26 -28 -30 -32 -34 -36 -38 \n",
      "G -10 -7 -4 -1 0 1 -1 -3 -5 -7 -9 -11 -13 -15 -17 -19 -21 -23 -25 -27 -29 -31 -33 -35 -37 \n",
      "C -12 -9 -6 -3 -2 -1 2 0 -2 -4 -6 -8 -10 -12 -14 -16 -18 -20 -22 -24 -26 -28 -30 -32 -34 \n",
      "C -14 -11 -8 -5 -4 -3 0 3 1 -1 -3 -5 -7 -9 -11 -13 -15 -17 -19 -21 -23 -25 -27 -29 -31 \n",
      "A -16 -13 -10 -7 -6 -5 -2 1 4 2 0 -2 -4 -6 -8 -10 -12 -14 -16 -18 -20 -22 -24 -26 -28 \n",
      "T -18 -15 -12 -9 -8 -7 -4 -1 2 5 3 1 -1 -3 -5 -7 -9 -11 -13 -15 -17 -19 -21 -23 -25 \n",
      "A -20 -17 -14 -11 -10 -9 -6 -3 0 3 4 2 0 0 -2 -4 -6 -8 -10 -12 -14 -16 -18 -20 -22 \n",
      "G -22 -19 -16 -13 -10 -9 -8 -5 -2 1 2 5 3 1 -1 -3 -3 -5 -7 -9 -11 -13 -15 -17 -19 \n",
      "G -24 -21 -18 -15 -12 -9 -10 -7 -4 -1 0 3 4 2 0 -2 -2 -4 -6 -8 -10 -12 -14 -16 -18 \n",
      "T -26 -23 -20 -17 -14 -11 -10 -9 -6 -3 -2 1 4 3 1 1 -1 -1 -3 -5 -7 -9 -11 -13 -15 \n",
      "G -28 -25 -22 -19 -16 -13 -12 -11 -8 -5 -4 -1 2 3 2 0 2 0 -2 -4 -6 -8 -10 -12 -14 \n",
      "T -30 -27 -24 -21 -18 -15 -14 -13 -10 -7 -6 -3 0 1 2 3 1 3 1 -1 -3 -5 -7 -9 -11 \n",
      "G -32 -29 -26 -23 -20 -17 -16 -15 -12 -9 -8 -5 -2 -1 0 1 4 2 2 0 -2 -4 -6 -8 -10 \n",
      "T -34 -31 -28 -25 -22 -19 -18 -17 -14 -11 -10 -7 -4 -3 -2 1 2 5 3 1 -1 -3 -3 -5 -7 \n",
      "T -36 -33 -30 -27 -24 -21 -20 -19 -16 -13 -12 -9 -6 -5 -4 -1 0 3 4 2 0 -2 -2 -2 -4 \n",
      "A -38 -35 -32 -29 -26 -23 -22 -21 -18 -15 -14 -11 -8 -5 -4 -3 -2 1 2 5 3 1 -1 -3 -3 \n",
      "A -40 -37 -34 -31 -28 -25 -24 -23 -20 -17 -16 -13 -10 -7 -4 -5 -4 -1 0 3 4 2 0 -2 -4 \n",
      "C -42 -39 -36 -33 -30 -27 -24 -23 -22 -19 -16 -15 -12 -9 -6 -5 -6 -3 0 1 4 5 3 1 -1 \n",
      "C -44 -41 -38 -35 -32 -29 -26 -23 -24 -21 -18 -17 -14 -11 -8 -7 -6 -5 -2 -1 2 5 4 2 0 \n",
      "T -46 -43 -40 -37 -34 -31 -28 -25 -24 -23 -20 -19 -16 -13 -10 -7 -8 -5 -4 -3 0 3 6 5 3 \n",
      "C -48 -45 -42 -39 -36 -33 -30 -27 -26 -25 -22 -21 -18 -15 -12 -9 -8 -7 -4 -5 -2 1 4 5 4 \n"
     ]
    }
   ],
   "source": [
    "def fillMatrix(matrix, str1, str2):\n",
    "    for i in range(1, len(matrix)):\n",
    "        for j in range(1, len(matrix[0])):\n",
    "            matrix[i][j] = getMinPenalty(matrix, i, j, str1, str2)\n",
    "\n",
    "fillMatrix(matrix, sequence1, sequence2)\n",
    "\n",
    "printStringMatrix(matrix, sequence1, sequence2)"
   ],
   "metadata": {
    "collapsed": false,
    "ExecuteTime": {
     "end_time": "2023-05-09T01:55:11.336221Z",
     "start_time": "2023-05-09T01:55:11.329386Z"
    }
   }
  },
  {
   "cell_type": "code",
   "execution_count": 20,
   "outputs": [],
   "source": [
    "def getPrevious(matrix, i, j):\n",
    "\n",
    "    score = matrix[i][j]\n",
    "    top = matrix[i-1][j]\n",
    "    left = matrix[i][j-1]\n",
    "    diag = matrix[i-1][j-1]\n",
    "\n",
    "    maxPrevIndexI = 0\n",
    "    maxPrevIndexJ = 0\n",
    "    maxPrevDir = 0\n",
    "    if diag + matchPenalty == score or diag + mismatchPenalty == score:\n",
    "        maxPrevIndexI = i-1\n",
    "        maxPrevIndexJ = j-1\n",
    "        maxPrevDir = 0\n",
    "    elif top + gapPenalty == score:\n",
    "        maxPrevIndexI = i-1\n",
    "        maxPrevIndexJ = j\n",
    "        maxPrevDir = 1\n",
    "    elif left + gapPenalty == score:\n",
    "        maxPrevIndexI = i\n",
    "        maxPrevIndexJ = j-1\n",
    "        maxPrevDir = 2\n",
    "\n",
    "    return maxPrevDir, maxPrevIndexI, maxPrevIndexJ\n"
   ],
   "metadata": {
    "collapsed": false,
    "ExecuteTime": {
     "end_time": "2023-05-09T01:55:12.849932Z",
     "start_time": "2023-05-09T01:55:12.842588Z"
    }
   }
  },
  {
   "cell_type": "code",
   "execution_count": 21,
   "outputs": [
    {
     "name": "stdout",
     "output_type": "stream",
     "text": [
      "(0, 2, 2)\n"
     ]
    }
   ],
   "source": [
    "print(getPrevious(matrix,3, 3))"
   ],
   "metadata": {
    "collapsed": false,
    "ExecuteTime": {
     "end_time": "2023-05-09T01:55:13.562942Z",
     "start_time": "2023-05-09T01:55:13.555189Z"
    }
   }
  },
  {
   "cell_type": "code",
   "execution_count": 25,
   "outputs": [],
   "source": [
    "def backTrack(matrix):\n",
    "\n",
    "\n",
    "    score = 0\n",
    "    directions = []\n",
    "\n",
    "    i = len(matrix)-1\n",
    "    j = len(matrix[0])-1\n",
    "    print(\"score = \", end = \" \")\n",
    "\n",
    "    while i>=0 and j>=0:\n",
    "        print(matrix[i][j], \" + \", end = \" \")\n",
    "        score += matrix[i][j]\n",
    "        if i == 0 or j == 0:\n",
    "            break\n",
    "        prev = getPrevious(matrix, i, j)\n",
    "        directions.insert(0, prev[0])\n",
    "        i = prev[1]\n",
    "        j = prev[2]\n",
    "    print()\n",
    "    return directions, score\n",
    "\n"
   ],
   "metadata": {
    "collapsed": false,
    "ExecuteTime": {
     "end_time": "2023-05-09T01:56:26.268153Z",
     "start_time": "2023-05-09T01:56:26.264402Z"
    }
   }
  },
  {
   "cell_type": "code",
   "execution_count": 29,
   "outputs": [
    {
     "name": "stdout",
     "output_type": "stream",
     "text": [
      "score =  4  +  5  +  4  +  5  +  4  +  5  +  4  +  5  +  4  +  3  +  2  +  3  +  4  +  5  +  4  +  5  +  4  +  3  +  2  +  1  +  0  +  -1  +  -2  +  -1  +  0  +  \n",
      "[0, 0, 0, 0, 0, 0, 0, 0, 0, 0, 0, 0, 0, 0, 0, 0, 0, 0, 0, 0, 0, 0, 0, 0]\n",
      "alignment score =  72\n"
     ]
    }
   ],
   "source": [
    "dir = backTrack(matrix)\n",
    "print(dir[0])\n",
    "print(\"alignment score = \", dir[1])"
   ],
   "metadata": {
    "collapsed": false,
    "ExecuteTime": {
     "end_time": "2023-05-09T01:57:08.997388Z",
     "start_time": "2023-05-09T01:57:08.990922Z"
    }
   }
  },
  {
   "cell_type": "code",
   "execution_count": 28,
   "outputs": [
    {
     "name": "stdout",
     "output_type": "stream",
     "text": [
      "['G', 'G', 'G', 'G', 'G', 'C', 'C', 'A', 'T', 'C', 'G', 'T', 'A', 'A', 'T', 'G', 'T', 'C', 'A', 'C', 'C', 'T', 'T', 'T']\n",
      "['A', 'A', 'G', 'G', 'G', 'C', 'C', 'A', 'T', 'A', 'G', 'G', 'T', 'G', 'T', 'G', 'T', 'T', 'A', 'A', 'C', 'C', 'T', 'C']\n"
     ]
    }
   ],
   "source": [
    "s1=[]\n",
    "s2=[]\n",
    "l1 = len(sequence1)\n",
    "l2 = len(sequence2)\n",
    "iter1 = len(sequence1)-1\n",
    "iter2 = len(sequence2)-1\n",
    "d = len(dir)-1\n",
    "while iter1>=0 and iter2>=0:\n",
    "    direction = dir[0][d]\n",
    "    if direction == 0:\n",
    "        s1.insert(0, sequence1[iter1])\n",
    "        s2.insert(0, sequence2[iter2])\n",
    "        iter1 = iter1-1\n",
    "        iter2 = iter2-1\n",
    "    elif direction == 1:\n",
    "        s1.insert(0, \"_\")\n",
    "        s2.insert(0, sequence2[iter2])\n",
    "        iter2 = iter2-1\n",
    "    elif direction == 2:\n",
    "        s1.insert(0, sequence1[iter1])\n",
    "        s2.insert(0, \"_\")\n",
    "        iter1 = iter1-1\n",
    "    d = d-1\n",
    "\n",
    "while iter1>=0:\n",
    "    s1.insert(0, sequence1[iter1])\n",
    "    s2.insert(0, \"_\")\n",
    "    iter1 = iter1-1\n",
    "\n",
    "\n",
    "while iter2>=0:\n",
    "    s1.insert(0, \"_\")\n",
    "    s2.insert(0, sequence2[iter2])\n",
    "    iter2 = iter2-1\n",
    "\n",
    "\n",
    "print(s1)\n",
    "print(s2)"
   ],
   "metadata": {
    "collapsed": false,
    "ExecuteTime": {
     "end_time": "2023-05-09T01:56:47.023403Z",
     "start_time": "2023-05-09T01:56:47.015789Z"
    }
   }
  },
  {
   "cell_type": "code",
   "execution_count": 30,
   "outputs": [],
   "source": [
    "# def globalAlignment(sequence1, sequence2):\n"
   ],
   "metadata": {
    "collapsed": false
   }
  }
 ],
 "metadata": {
  "kernelspec": {
   "display_name": "Python 3",
   "language": "python",
   "name": "python3"
  },
  "language_info": {
   "codemirror_mode": {
    "name": "ipython",
    "version": 2
   },
   "file_extension": ".py",
   "mimetype": "text/x-python",
   "name": "python",
   "nbconvert_exporter": "python",
   "pygments_lexer": "ipython2",
   "version": "2.7.6"
  }
 },
 "nbformat": 4,
 "nbformat_minor": 0
}
