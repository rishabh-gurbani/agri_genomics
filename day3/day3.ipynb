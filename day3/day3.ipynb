{
 "cells": [
  {
   "cell_type": "code",
   "execution_count": 2,
   "metadata": {
    "collapsed": true,
    "ExecuteTime": {
     "end_time": "2023-06-30T03:41:47.138168Z",
     "start_time": "2023-06-30T03:41:47.133647Z"
    }
   },
   "outputs": [],
   "source": [
    "# script to perform global alignment of two sequences"
   ]
  },
  {
   "cell_type": "code",
   "execution_count": 1,
   "outputs": [
    {
     "name": "stdout",
     "output_type": "stream",
     "text": [
      "0 1 2 \n",
      "0 1 2 \n",
      "0 1 2 \n"
     ]
    }
   ],
   "source": [
    "def printMatrix(mat):\n",
    "    for i in range(len(mat)):\n",
    "        for j in range(len(mat[i])):\n",
    "            print(mat[i][j], end=\" \")\n",
    "        print()\n",
    "\n",
    "list = [[i for i in range(3)] for j in range(3)]\n",
    "\n",
    "printMatrix(list)"
   ],
   "metadata": {
    "collapsed": false,
    "ExecuteTime": {
     "end_time": "2023-06-30T06:15:38.273073Z",
     "start_time": "2023-06-30T06:15:38.266328Z"
    }
   }
  },
  {
   "cell_type": "code",
   "execution_count": 2,
   "outputs": [],
   "source": [
    "# sequence1 = \"HGWAG\"\n",
    "# sequence2 = \"PHSWG\"\n",
    "sequence1 = \"GGGGGCCATCGTAATGTCACCTTT\"\n",
    "sequence2 = \"AAGGGCCATAGGTGTGTTAACCTC\"\n",
    "matchPenalty = 1\n",
    "mismatchPenalty = -1\n",
    "gapPenalty = -2"
   ],
   "metadata": {
    "collapsed": false,
    "ExecuteTime": {
     "end_time": "2023-06-30T06:16:21.273386Z",
     "start_time": "2023-06-30T06:16:21.268208Z"
    }
   }
  },
  {
   "cell_type": "code",
   "execution_count": 3,
   "outputs": [
    {
     "name": "stdout",
     "output_type": "stream",
     "text": [
      "0 0 0 0 0 0 0 0 \n",
      "0 0 0 0 0 0 0 0 \n",
      "0 0 0 0 0 0 0 0 \n",
      "0 0 0 0 0 0 0 0 \n",
      "0 0 0 0 0 0 0 0 \n",
      "0 0 0 0 0 0 0 0 \n",
      "0 0 0 0 0 0 0 0 \n",
      "0 0 0 0 0 0 0 0 \n"
     ]
    }
   ],
   "source": [
    "def constructMatrix(str1, str2):\n",
    "    list = [[0 for i in range(len(str1)+1)] for j in range(len(str2)+1)]\n",
    "    return list\n",
    "\n",
    "\n",
    "mat = constructMatrix(sequence1, sequence2)\n",
    "\n",
    "printMatrix(mat)"
   ],
   "metadata": {
    "collapsed": false,
    "ExecuteTime": {
     "end_time": "2023-06-30T06:16:21.902946Z",
     "start_time": "2023-06-30T06:16:21.891884Z"
    }
   }
  },
  {
   "cell_type": "code",
   "execution_count": 4,
   "outputs": [
    {
     "name": "stdout",
     "output_type": "stream",
     "text": [
      "  _ G A T T A C A \n",
      "_ 0 0 0 0 0 0 0 0 \n",
      "G 0 0 0 0 0 0 0 0 \n",
      "C 0 0 0 0 0 0 0 0 \n",
      "A 0 0 0 0 0 0 0 0 \n",
      "T 0 0 0 0 0 0 0 0 \n",
      "G 0 0 0 0 0 0 0 0 \n",
      "C 0 0 0 0 0 0 0 0 \n",
      "U 0 0 0 0 0 0 0 0 \n"
     ]
    }
   ],
   "source": [
    "def printStringMatrix(matrix, str1, str2):\n",
    "    print(\"\", end = \"  \")\n",
    "    print(\"_\", end = \" \")\n",
    "    for i in range(len(str1)):\n",
    "        print(str1[i], end = \" \")\n",
    "    print()\n",
    "    for i in range(len(matrix)):\n",
    "        if i == 0 :\n",
    "            print(\"_\", end = \" \")\n",
    "        else:\n",
    "            print(str2[i-1], end = \" \")\n",
    "        for j in range(len(matrix[i])):\n",
    "            print(matrix[i][j], end = \" \")\n",
    "        print()\n",
    "\n",
    "printStringMatrix(mat, sequence1, sequence2)"
   ],
   "metadata": {
    "collapsed": false,
    "ExecuteTime": {
     "end_time": "2023-06-30T06:16:22.505718Z",
     "start_time": "2023-06-30T06:16:22.499960Z"
    }
   }
  },
  {
   "cell_type": "code",
   "execution_count": 5,
   "outputs": [
    {
     "name": "stdout",
     "output_type": "stream",
     "text": [
      "0 -2 -4 -6 -8 -10 -12 -14 \n",
      "-2 0 0 0 0 0 0 0 \n",
      "-4 0 0 0 0 0 0 0 \n",
      "-6 0 0 0 0 0 0 0 \n",
      "-8 0 0 0 0 0 0 0 \n",
      "-10 0 0 0 0 0 0 0 \n",
      "-12 0 0 0 0 0 0 0 \n",
      "-14 0 0 0 0 0 0 0 \n"
     ]
    }
   ],
   "source": [
    "def initMatrix(matrix):\n",
    "    x=0\n",
    "    for i in range(len(matrix)):\n",
    "        matrix[i][0] = x * gapPenalty\n",
    "        x=x+1\n",
    "    x=0\n",
    "    for i in range(len(matrix[0])):\n",
    "        matrix[0][i] = x * gapPenalty\n",
    "        x=x+1\n",
    "    return matrix\n",
    "\n",
    "matrix = initMatrix(mat)\n",
    "printMatrix(matrix)"
   ],
   "metadata": {
    "collapsed": false,
    "ExecuteTime": {
     "end_time": "2023-06-30T06:16:22.853093Z",
     "start_time": "2023-06-30T06:16:22.846034Z"
    }
   }
  },
  {
   "cell_type": "code",
   "execution_count": 6,
   "outputs": [],
   "source": [
    "def getMinPenalty(matrix, i, j, str1, str2):\n",
    "    if str2[i-1] == str1[j-1]:\n",
    "        currPenalty = matchPenalty\n",
    "    else:\n",
    "        currPenalty = mismatchPenalty\n",
    "\n",
    "    top = matrix[i-1][j] + gapPenalty\n",
    "    left = matrix[i][j-1] + gapPenalty\n",
    "    diag = matrix[i-1][j-1] + currPenalty\n",
    "    maxE = max(top, left, diag)\n",
    "    currPenalty = maxE\n",
    "\n",
    "    return currPenalty"
   ],
   "metadata": {
    "collapsed": false,
    "ExecuteTime": {
     "end_time": "2023-06-30T06:16:23.121567Z",
     "start_time": "2023-06-30T06:16:23.119047Z"
    }
   }
  },
  {
   "cell_type": "code",
   "execution_count": 7,
   "outputs": [
    {
     "name": "stdout",
     "output_type": "stream",
     "text": [
      "  _ G A T T A C A \n",
      "_ 0 -2 -4 -6 -8 -10 -12 -14 \n",
      "G -2 1 -1 -3 -5 -7 -9 -11 \n",
      "C -4 -1 0 -2 -4 -6 -6 -8 \n",
      "A -6 -3 0 -1 -3 -3 -5 -5 \n",
      "T -8 -5 -2 1 0 -2 -4 -6 \n",
      "G -10 -7 -4 -1 0 -1 -3 -5 \n",
      "C -12 -9 -6 -3 -2 -1 0 -2 \n",
      "U -14 -11 -8 -5 -4 -3 -2 -1 \n"
     ]
    }
   ],
   "source": [
    "def fillMatrix(matrix, str1, str2):\n",
    "    for i in range(1, len(matrix)):\n",
    "        for j in range(1, len(matrix[0])):\n",
    "            matrix[i][j] = getMinPenalty(matrix, i, j, str1, str2)\n",
    "\n",
    "fillMatrix(matrix, sequence1, sequence2)\n",
    "\n",
    "printStringMatrix(matrix, sequence1, sequence2)"
   ],
   "metadata": {
    "collapsed": false,
    "ExecuteTime": {
     "end_time": "2023-06-30T06:16:23.796263Z",
     "start_time": "2023-06-30T06:16:23.787595Z"
    }
   }
  },
  {
   "cell_type": "code",
   "execution_count": 8,
   "outputs": [],
   "source": [
    "def getPrevious(matrix, i, j):\n",
    "\n",
    "    score = matrix[i][j]\n",
    "    top = matrix[i-1][j]\n",
    "    left = matrix[i][j-1]\n",
    "    diag = matrix[i-1][j-1]\n",
    "\n",
    "    maxPrevIndexI = 0\n",
    "    maxPrevIndexJ = 0\n",
    "    maxPrevDir = 0\n",
    "    if diag + matchPenalty == score or diag + mismatchPenalty == score:\n",
    "        maxPrevIndexI = i-1\n",
    "        maxPrevIndexJ = j-1\n",
    "        maxPrevDir = 0\n",
    "    elif top + gapPenalty == score:\n",
    "        maxPrevIndexI = i-1\n",
    "        maxPrevIndexJ = j\n",
    "        maxPrevDir = 1\n",
    "    elif left + gapPenalty == score:\n",
    "        maxPrevIndexI = i\n",
    "        maxPrevIndexJ = j-1\n",
    "        maxPrevDir = 2\n",
    "\n",
    "    return maxPrevDir, maxPrevIndexI, maxPrevIndexJ\n"
   ],
   "metadata": {
    "collapsed": false,
    "ExecuteTime": {
     "end_time": "2023-06-30T06:16:24.473669Z",
     "start_time": "2023-06-30T06:16:24.469221Z"
    }
   }
  },
  {
   "cell_type": "code",
   "execution_count": 9,
   "outputs": [
    {
     "name": "stdout",
     "output_type": "stream",
     "text": [
      "(0, 2, 2)\n"
     ]
    }
   ],
   "source": [
    "print(getPrevious(matrix,3, 3))"
   ],
   "metadata": {
    "collapsed": false,
    "ExecuteTime": {
     "end_time": "2023-06-30T06:16:25.046247Z",
     "start_time": "2023-06-30T06:16:25.038467Z"
    }
   }
  },
  {
   "cell_type": "code",
   "execution_count": 10,
   "outputs": [],
   "source": [
    "def backTrack(matrix):\n",
    "\n",
    "\n",
    "    score = 0\n",
    "    directions = []\n",
    "\n",
    "    i = len(matrix)-1\n",
    "    j = len(matrix[0])-1\n",
    "    print(\"score = \", end = \" \")\n",
    "\n",
    "    while i>=0 and j>=0:\n",
    "        print(matrix[i][j], \" + \", end = \" \")\n",
    "        score += matrix[i][j]\n",
    "        if i == 0 or j == 0:\n",
    "            break\n",
    "        prev = getPrevious(matrix, i, j)\n",
    "        directions.insert(0, prev[0])\n",
    "        i = prev[1]\n",
    "        j = prev[2]\n",
    "    print()\n",
    "    return directions, score\n",
    "\n"
   ],
   "metadata": {
    "collapsed": false,
    "ExecuteTime": {
     "end_time": "2023-06-30T06:16:25.441833Z",
     "start_time": "2023-06-30T06:16:25.429666Z"
    }
   }
  },
  {
   "cell_type": "code",
   "execution_count": 11,
   "outputs": [
    {
     "name": "stdout",
     "output_type": "stream",
     "text": [
      "score =  -1  +  0  +  -1  +  0  +  -1  +  0  +  1  +  0  +  \n",
      "[0, 0, 0, 0, 0, 0, 0]\n",
      "alignment score =  -2\n"
     ]
    }
   ],
   "source": [
    "dir = backTrack(matrix)\n",
    "print(dir[0])\n",
    "print(\"alignment score = \", dir[1])"
   ],
   "metadata": {
    "collapsed": false,
    "ExecuteTime": {
     "end_time": "2023-06-30T06:16:26.151461Z",
     "start_time": "2023-06-30T06:16:26.147292Z"
    }
   }
  },
  {
   "cell_type": "code",
   "execution_count": 12,
   "outputs": [
    {
     "name": "stdout",
     "output_type": "stream",
     "text": [
      "['G', 'A', 'T', 'T', 'A', 'C', 'A']\n",
      "['G', 'C', 'A', 'T', 'G', 'C', 'U']\n"
     ]
    }
   ],
   "source": [
    "s1=[]\n",
    "s2=[]\n",
    "l1 = len(sequence1)\n",
    "l2 = len(sequence2)\n",
    "iter1 = len(sequence1)-1\n",
    "iter2 = len(sequence2)-1\n",
    "d = len(dir)-1\n",
    "while iter1>=0 and iter2>=0:\n",
    "    direction = dir[0][d]\n",
    "    if direction == 0:\n",
    "        s1.insert(0, sequence1[iter1])\n",
    "        s2.insert(0, sequence2[iter2])\n",
    "        iter1 = iter1-1\n",
    "        iter2 = iter2-1\n",
    "    elif direction == 1:\n",
    "        s1.insert(0, \"_\")\n",
    "        s2.insert(0, sequence2[iter2])\n",
    "        iter2 = iter2-1\n",
    "    elif direction == 2:\n",
    "        s1.insert(0, sequence1[iter1])\n",
    "        s2.insert(0, \"_\")\n",
    "        iter1 = iter1-1\n",
    "    d = d-1\n",
    "\n",
    "while iter1>=0:\n",
    "    s1.insert(0, sequence1[iter1])\n",
    "    s2.insert(0, \"_\")\n",
    "    iter1 = iter1-1\n",
    "\n",
    "\n",
    "while iter2>=0:\n",
    "    s1.insert(0, \"_\")\n",
    "    s2.insert(0, sequence2[iter2])\n",
    "    iter2 = iter2-1\n",
    "\n",
    "\n",
    "print(s1)\n",
    "print(s2)"
   ],
   "metadata": {
    "collapsed": false,
    "ExecuteTime": {
     "end_time": "2023-06-30T06:16:26.936514Z",
     "start_time": "2023-06-30T06:16:26.931805Z"
    }
   }
  },
  {
   "cell_type": "code",
   "execution_count": 30,
   "outputs": [],
   "source": [
    "# def globalAlignment(sequence1, sequence2):\n"
   ],
   "metadata": {
    "collapsed": false
   }
  }
 ],
 "metadata": {
  "kernelspec": {
   "display_name": "Python 3",
   "language": "python",
   "name": "python3"
  },
  "language_info": {
   "codemirror_mode": {
    "name": "ipython",
    "version": 2
   },
   "file_extension": ".py",
   "mimetype": "text/x-python",
   "name": "python",
   "nbconvert_exporter": "python",
   "pygments_lexer": "ipython2",
   "version": "2.7.6"
  }
 },
 "nbformat": 4,
 "nbformat_minor": 0
}
