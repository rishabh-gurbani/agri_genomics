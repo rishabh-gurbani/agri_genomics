{
 "cells": [
  {
   "cell_type": "code",
   "execution_count": 6,
   "metadata": {
    "collapsed": true
   },
   "outputs": [
    {
     "name": "stdout",
     "output_type": "stream",
     "text": [
      "0 1 2 \n",
      "0 1 2 \n",
      "0 1 2 \n"
     ]
    }
   ],
   "source": [
    "def printMatrix(mat):\n",
    "    for i in range(len(mat)):\n",
    "        for j in range(len(mat[i])):\n",
    "            print(mat[i][j], end=\" \")\n",
    "        print()\n",
    "\n",
    "list = [[i for i in range(3)] for j in range(3)]\n",
    "\n",
    "printMatrix(list)"
   ]
  },
  {
   "cell_type": "code",
   "execution_count": 19,
   "outputs": [],
   "source": [
    "sequence1 = \"HGWAG\"\n",
    "sequence2 = \"PHSWG\"\n",
    "matchPenalty = 1\n",
    "mismatchPenalty = -1\n",
    "gapPenalty = -2"
   ],
   "metadata": {
    "collapsed": false
   }
  },
  {
   "cell_type": "code",
   "execution_count": 20,
   "outputs": [
    {
     "name": "stdout",
     "output_type": "stream",
     "text": [
      "0 0 0 0 \n",
      "0 0 0 0 \n",
      "0 0 0 0 \n",
      "0 0 0 0 \n",
      "0 0 0 0 \n",
      "0 0 0 0 \n"
     ]
    }
   ],
   "source": [
    "def constructMatrix(str1, str2):\n",
    "    list = [[0 for i in range(len(str1)+1)] for j in range(len(str2)+1)]\n",
    "    return list\n",
    "\n",
    "\n",
    "mat = constructMatrix(sequence1, sequence2)\n",
    "\n",
    "printMatrix(mat)"
   ],
   "metadata": {
    "collapsed": false
   }
  },
  {
   "cell_type": "code",
   "execution_count": 21,
   "outputs": [
    {
     "name": "stdout",
     "output_type": "stream",
     "text": [
      "  _ W A G \n",
      "_ 0 0 0 0 \n",
      "H 0 0 0 0 \n",
      "G 0 0 0 0 \n",
      "W 0 0 0 0 \n",
      "A 0 0 0 0 \n",
      "G 0 0 0 0 \n"
     ]
    }
   ],
   "source": [
    "def printStringMatrix(matrix, str1, str2):\n",
    "    print(\"\", end = \"  \")\n",
    "    print(\"_\", end = \" \")\n",
    "    for i in range(len(str1)):\n",
    "        print(str1[i], end = \" \")\n",
    "    print()\n",
    "    for i in range(len(matrix)):\n",
    "        if i == 0 :\n",
    "            print(\"_\", end = \" \")\n",
    "        else:\n",
    "            print(str2[i-1], end = \" \")\n",
    "        for j in range(len(matrix[i])):\n",
    "            print(matrix[i][j], end = \" \")\n",
    "        print()\n",
    "\n",
    "printStringMatrix(mat, sequence1, sequence2)"
   ],
   "metadata": {
    "collapsed": false
   }
  },
  {
   "cell_type": "code",
   "execution_count": 22,
   "outputs": [
    {
     "name": "stdout",
     "output_type": "stream",
     "text": [
      "0 -2 -4 -6 \n",
      "-2 0 0 0 \n",
      "-4 0 0 0 \n",
      "-6 0 0 0 \n",
      "-8 0 0 0 \n",
      "-10 0 0 0 \n"
     ]
    }
   ],
   "source": [
    "def initMatrix(matrix):\n",
    "    x=0\n",
    "    for i in range(len(matrix)):\n",
    "        matrix[i][0] = x * gapPenalty\n",
    "        x=x+1\n",
    "    x=0\n",
    "    for i in range(len(matrix[0])):\n",
    "        matrix[0][i] = x * gapPenalty\n",
    "        x=x+1\n",
    "    return matrix\n",
    "\n",
    "matrix = initMatrix(mat)\n",
    "printMatrix(matrix)"
   ],
   "metadata": {
    "collapsed": false
   }
  },
  {
   "cell_type": "code",
   "execution_count": 23,
   "outputs": [],
   "source": [
    "def getMinPenalty(matrix, i, j, str1, str2):\n",
    "    if str2[i-1] == str1[j-1]:\n",
    "        currPenalty = matchPenalty\n",
    "    else:\n",
    "        currPenalty = mismatchPenalty\n",
    "\n",
    "    top = matrix[i-1][j] + gapPenalty\n",
    "    left = matrix[i][j-1] + gapPenalty\n",
    "    diag = matrix[i-1][j-1] + currPenalty\n",
    "    maxE = max(top, left, diag)\n",
    "    currPenalty = maxE\n",
    "\n",
    "    return currPenalty"
   ],
   "metadata": {
    "collapsed": false
   }
  },
  {
   "cell_type": "code",
   "execution_count": 24,
   "outputs": [
    {
     "name": "stdout",
     "output_type": "stream",
     "text": [
      "  _ W A G \n",
      "_ 0 -2 -4 -6 \n",
      "H -2 -1 -3 -5 \n",
      "G -4 -3 -2 -2 \n",
      "W -6 -3 -4 -3 \n",
      "A -8 -5 -2 -4 \n",
      "G -10 -7 -4 -1 \n"
     ]
    }
   ],
   "source": [
    "def fillMatrix(matrix, str1, str2):\n",
    "    for i in range(1, len(matrix)):\n",
    "        for j in range(1, len(matrix[0])):\n",
    "            matrix[i][j] = getMinPenalty(matrix, i, j, str1, str2)\n",
    "\n",
    "fillMatrix(matrix, sequence1, sequence2)\n",
    "\n",
    "printStringMatrix(matrix, sequence1, sequence2)"
   ],
   "metadata": {
    "collapsed": false
   }
  },
  {
   "cell_type": "code",
   "execution_count": 25,
   "outputs": [],
   "source": [
    "def getPrevious(matrix, i, j):\n",
    "\n",
    "    score = matrix[i][j]\n",
    "    top = matrix[i-1][j]\n",
    "    left = matrix[i][j-1]\n",
    "    diag = matrix[i-1][j-1]\n",
    "\n",
    "    maxPrevIndexI = 0\n",
    "    maxPrevIndexJ = 0\n",
    "    maxPrevDir = 0\n",
    "    if diag + matchPenalty == score or diag + mismatchPenalty == score:\n",
    "        maxPrevIndexI = i-1\n",
    "        maxPrevIndexJ = j-1\n",
    "        maxPrevDir = 0\n",
    "    elif top + gapPenalty == score:\n",
    "        maxPrevIndexI = i-1\n",
    "        maxPrevIndexJ = j\n",
    "        maxPrevDir = 1\n",
    "    elif left + gapPenalty == score:\n",
    "        maxPrevIndexI = i\n",
    "        maxPrevIndexJ = j-1\n",
    "        maxPrevDir = 2\n",
    "\n",
    "    return maxPrevDir, maxPrevIndexI, maxPrevIndexJ\n"
   ],
   "metadata": {
    "collapsed": false
   }
  },
  {
   "cell_type": "code",
   "execution_count": 26,
   "outputs": [
    {
     "name": "stdout",
     "output_type": "stream",
     "text": [
      "(0, 2, 2)\n"
     ]
    }
   ],
   "source": [
    "print(getPrevious(matrix,3, 3))"
   ],
   "metadata": {
    "collapsed": false
   }
  },
  {
   "cell_type": "code",
   "execution_count": 27,
   "outputs": [],
   "source": [
    "def backTrack(matrix):\n",
    "\n",
    "    directions = []\n",
    "\n",
    "    i = len(matrix)-1\n",
    "    j = len(matrix[0])-1\n",
    "    print(\"score = \", end = \" \")\n",
    "\n",
    "    while i>=0 and j>=0:\n",
    "        print(matrix[i][j], \" + \", end = \" \")\n",
    "        if i == 0 or j == 0:\n",
    "            break\n",
    "        prev = getPrevious(matrix, i, j)\n",
    "        directions.insert(0, prev[0])\n",
    "        i = prev[1]\n",
    "        j = prev[2]\n",
    "    print()\n",
    "    return directions\n",
    "\n"
   ],
   "metadata": {
    "collapsed": false
   }
  },
  {
   "cell_type": "code",
   "execution_count": 28,
   "outputs": [
    {
     "name": "stdout",
     "output_type": "stream",
     "text": [
      "score =  -1  +  -2  +  -3  +  -4  +  \n",
      "[0, 0, 0]\n"
     ]
    }
   ],
   "source": [
    "dir = backTrack(matrix)\n",
    "print(dir)"
   ],
   "metadata": {
    "collapsed": false
   }
  },
  {
   "cell_type": "code",
   "execution_count": 29,
   "outputs": [
    {
     "name": "stdout",
     "output_type": "stream",
     "text": [
      "['_', '_', 'W', 'A', 'G']\n",
      "['H', 'G', 'W', 'A', 'G']\n"
     ]
    }
   ],
   "source": [
    "s1=[]\n",
    "s2=[]\n",
    "l1 = len(sequence1)\n",
    "l2 = len(sequence2)\n",
    "iter1 = len(sequence1)-1\n",
    "iter2 = len(sequence2)-1\n",
    "d = len(dir)-1\n",
    "while iter1>=0 and iter2>=0:\n",
    "    direction = dir[d]\n",
    "    if direction == 0:\n",
    "        s1.insert(0, sequence1[iter1])\n",
    "        s2.insert(0, sequence2[iter2])\n",
    "        iter1 = iter1-1\n",
    "        iter2 = iter2-1\n",
    "    elif direction == 1:\n",
    "        s1.insert(0, \"_\")\n",
    "        s2.insert(0, sequence2[iter2])\n",
    "        iter2 = iter2-1\n",
    "    elif direction == 2:\n",
    "        s1.insert(0, sequence1[iter1])\n",
    "        s2.insert(0, \"_\")\n",
    "        iter1 = iter1-1\n",
    "    d = d-1\n",
    "\n",
    "while iter1>=0:\n",
    "    s1.insert(0, sequence1[iter1])\n",
    "    s2.insert(0, \"_\")\n",
    "    iter1 = iter1-1\n",
    "\n",
    "\n",
    "while iter2>=0:\n",
    "    s1.insert(0, \"_\")\n",
    "    s2.insert(0, sequence2[iter2])\n",
    "    iter2 = iter2-1\n",
    "\n",
    "\n",
    "print(s1)\n",
    "print(s2)"
   ],
   "metadata": {
    "collapsed": false
   }
  },
  {
   "cell_type": "code",
   "execution_count": 30,
   "outputs": [],
   "source": [
    "# def globalAlignment(sequence1, sequence2):\n"
   ],
   "metadata": {
    "collapsed": false
   }
  }
 ],
 "metadata": {
  "kernelspec": {
   "display_name": "Python 3",
   "language": "python",
   "name": "python3"
  },
  "language_info": {
   "codemirror_mode": {
    "name": "ipython",
    "version": 2
   },
   "file_extension": ".py",
   "mimetype": "text/x-python",
   "name": "python",
   "nbconvert_exporter": "python",
   "pygments_lexer": "ipython2",
   "version": "2.7.6"
  }
 },
 "nbformat": 4,
 "nbformat_minor": 0
}
