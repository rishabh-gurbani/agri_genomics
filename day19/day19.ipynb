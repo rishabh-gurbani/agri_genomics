{
 "cells": [
  {
   "cell_type": "code",
   "execution_count": 1,
   "metadata": {
    "collapsed": true,
    "ExecuteTime": {
     "end_time": "2023-07-14T05:43:25.721829Z",
     "start_time": "2023-07-14T05:43:24.130931Z"
    }
   },
   "outputs": [
    {
     "data": {
      "text/plain": "  Cultivar Name    Cultivar ID       Subpopulation   Location   Accession\n0         02428           C152  Temperate Japonica    Jiangsu  SRR1239752\n1      02428-IL          CX277  Temperate Japonica      China   ERS470588\n2        053A-3          CX351  Temperate Japonica      China   ERS470636\n3         10340           W146            Indica I      Italy  SRR1239949\n4      104_UPLA  IRIS_313-8063   Tropical Japonica  Argentina   ERS468624",
      "text/html": "<div>\n<style scoped>\n    .dataframe tbody tr th:only-of-type {\n        vertical-align: middle;\n    }\n\n    .dataframe tbody tr th {\n        vertical-align: top;\n    }\n\n    .dataframe thead th {\n        text-align: right;\n    }\n</style>\n<table border=\"1\" class=\"dataframe\">\n  <thead>\n    <tr style=\"text-align: right;\">\n      <th></th>\n      <th>Cultivar Name</th>\n      <th>Cultivar ID</th>\n      <th>Subpopulation</th>\n      <th>Location</th>\n      <th>Accession</th>\n    </tr>\n  </thead>\n  <tbody>\n    <tr>\n      <th>0</th>\n      <td>02428</td>\n      <td>C152</td>\n      <td>Temperate Japonica</td>\n      <td>Jiangsu</td>\n      <td>SRR1239752</td>\n    </tr>\n    <tr>\n      <th>1</th>\n      <td>02428-IL</td>\n      <td>CX277</td>\n      <td>Temperate Japonica</td>\n      <td>China</td>\n      <td>ERS470588</td>\n    </tr>\n    <tr>\n      <th>2</th>\n      <td>053A-3</td>\n      <td>CX351</td>\n      <td>Temperate Japonica</td>\n      <td>China</td>\n      <td>ERS470636</td>\n    </tr>\n    <tr>\n      <th>3</th>\n      <td>10340</td>\n      <td>W146</td>\n      <td>Indica I</td>\n      <td>Italy</td>\n      <td>SRR1239949</td>\n    </tr>\n    <tr>\n      <th>4</th>\n      <td>104_UPLA</td>\n      <td>IRIS_313-8063</td>\n      <td>Tropical Japonica</td>\n      <td>Argentina</td>\n      <td>ERS468624</td>\n    </tr>\n  </tbody>\n</table>\n</div>"
     },
     "execution_count": 1,
     "metadata": {},
     "output_type": "execute_result"
    }
   ],
   "source": [
    "import pandas as pd\n",
    "cultivars = pd.read_csv(\"Cultivars.csv\")\n",
    "cultivars.head()"
   ]
  },
  {
   "cell_type": "code",
   "execution_count": 3,
   "outputs": [
    {
     "data": {
      "text/plain": "  Cultivar Name Cultivar ID       Subpopulation  Yield\n0         02428        C152  Temperate Japonica  18.94\n1         10340        W146            Indica I  64.45\n2          108S        W150           Indica II  36.18\n3             2        W129         VI/Aromatic  62.08\n4          4484        W086           Indica II  33.73",
      "text/html": "<div>\n<style scoped>\n    .dataframe tbody tr th:only-of-type {\n        vertical-align: middle;\n    }\n\n    .dataframe tbody tr th {\n        vertical-align: top;\n    }\n\n    .dataframe thead th {\n        text-align: right;\n    }\n</style>\n<table border=\"1\" class=\"dataframe\">\n  <thead>\n    <tr style=\"text-align: right;\">\n      <th></th>\n      <th>Cultivar Name</th>\n      <th>Cultivar ID</th>\n      <th>Subpopulation</th>\n      <th>Yield</th>\n    </tr>\n  </thead>\n  <tbody>\n    <tr>\n      <th>0</th>\n      <td>02428</td>\n      <td>C152</td>\n      <td>Temperate Japonica</td>\n      <td>18.94</td>\n    </tr>\n    <tr>\n      <th>1</th>\n      <td>10340</td>\n      <td>W146</td>\n      <td>Indica I</td>\n      <td>64.45</td>\n    </tr>\n    <tr>\n      <th>2</th>\n      <td>108S</td>\n      <td>W150</td>\n      <td>Indica II</td>\n      <td>36.18</td>\n    </tr>\n    <tr>\n      <th>3</th>\n      <td>2</td>\n      <td>W129</td>\n      <td>VI/Aromatic</td>\n      <td>62.08</td>\n    </tr>\n    <tr>\n      <th>4</th>\n      <td>4484</td>\n      <td>W086</td>\n      <td>Indica II</td>\n      <td>33.73</td>\n    </tr>\n  </tbody>\n</table>\n</div>"
     },
     "execution_count": 3,
     "metadata": {},
     "output_type": "execute_result"
    }
   ],
   "source": [
    "yields = pd.read_csv(\"Yield.csv\")\n",
    "yields.head()"
   ],
   "metadata": {
    "collapsed": false,
    "ExecuteTime": {
     "end_time": "2023-07-14T05:43:40.309482Z",
     "start_time": "2023-07-14T05:43:40.299118Z"
    }
   }
  },
  {
   "cell_type": "code",
   "execution_count": 4,
   "outputs": [
    {
     "data": {
      "text/plain": "      Cultivar ID vg0101824220 vg0103966667 vg0121868877 vg0123227054  \\\n0      Chromosome        chr01        chr01        chr01        chr01   \n1        Position      1824220      3966667     21868877     23227054   \n2  Variation Type          SNP          SNP          SNP          SNP   \n3       Reference            C            T            T            C   \n4  Primary Allele            T            T            T            C   \n\n  vg0212604991 vg0233306848 vg0233612032 vg0307718560 vg0326795211  \\\n0        chr02        chr02        chr02        chr03        chr03   \n1     12604991     33306848     33612032      7718560     26795211   \n2          SNP          SNP          SNP          SNP          SNP   \n3            G            T            A            G            A   \n4            T            C            G            G            G   \n\n  vg0431430568 vg0624467444 vg0624681286 vg0624893517 vg0827013973  \\\n0        chr04        chr06        chr06        chr06        chr08   \n1     31430568     24467444     24681286     24893517     27013973   \n2        INDEL          SNP          SNP          SNP          SNP   \n3            C            A            C            G            C   \n4            T            G            C            A            C   \n\n  vg0828073239 vg0922675974 vg1002090270 vg1021348723  \n0        chr08        chr09        chr10        chr10  \n1     28073239     22675974      2090270     21348723  \n2          SNP          SNP          SNP          SNP  \n3            A            A            T            G  \n4            A            A            C            A  ",
      "text/html": "<div>\n<style scoped>\n    .dataframe tbody tr th:only-of-type {\n        vertical-align: middle;\n    }\n\n    .dataframe tbody tr th {\n        vertical-align: top;\n    }\n\n    .dataframe thead th {\n        text-align: right;\n    }\n</style>\n<table border=\"1\" class=\"dataframe\">\n  <thead>\n    <tr style=\"text-align: right;\">\n      <th></th>\n      <th>Cultivar ID</th>\n      <th>vg0101824220</th>\n      <th>vg0103966667</th>\n      <th>vg0121868877</th>\n      <th>vg0123227054</th>\n      <th>vg0212604991</th>\n      <th>vg0233306848</th>\n      <th>vg0233612032</th>\n      <th>vg0307718560</th>\n      <th>vg0326795211</th>\n      <th>vg0431430568</th>\n      <th>vg0624467444</th>\n      <th>vg0624681286</th>\n      <th>vg0624893517</th>\n      <th>vg0827013973</th>\n      <th>vg0828073239</th>\n      <th>vg0922675974</th>\n      <th>vg1002090270</th>\n      <th>vg1021348723</th>\n    </tr>\n  </thead>\n  <tbody>\n    <tr>\n      <th>0</th>\n      <td>Chromosome</td>\n      <td>chr01</td>\n      <td>chr01</td>\n      <td>chr01</td>\n      <td>chr01</td>\n      <td>chr02</td>\n      <td>chr02</td>\n      <td>chr02</td>\n      <td>chr03</td>\n      <td>chr03</td>\n      <td>chr04</td>\n      <td>chr06</td>\n      <td>chr06</td>\n      <td>chr06</td>\n      <td>chr08</td>\n      <td>chr08</td>\n      <td>chr09</td>\n      <td>chr10</td>\n      <td>chr10</td>\n    </tr>\n    <tr>\n      <th>1</th>\n      <td>Position</td>\n      <td>1824220</td>\n      <td>3966667</td>\n      <td>21868877</td>\n      <td>23227054</td>\n      <td>12604991</td>\n      <td>33306848</td>\n      <td>33612032</td>\n      <td>7718560</td>\n      <td>26795211</td>\n      <td>31430568</td>\n      <td>24467444</td>\n      <td>24681286</td>\n      <td>24893517</td>\n      <td>27013973</td>\n      <td>28073239</td>\n      <td>22675974</td>\n      <td>2090270</td>\n      <td>21348723</td>\n    </tr>\n    <tr>\n      <th>2</th>\n      <td>Variation Type</td>\n      <td>SNP</td>\n      <td>SNP</td>\n      <td>SNP</td>\n      <td>SNP</td>\n      <td>SNP</td>\n      <td>SNP</td>\n      <td>SNP</td>\n      <td>SNP</td>\n      <td>SNP</td>\n      <td>INDEL</td>\n      <td>SNP</td>\n      <td>SNP</td>\n      <td>SNP</td>\n      <td>SNP</td>\n      <td>SNP</td>\n      <td>SNP</td>\n      <td>SNP</td>\n      <td>SNP</td>\n    </tr>\n    <tr>\n      <th>3</th>\n      <td>Reference</td>\n      <td>C</td>\n      <td>T</td>\n      <td>T</td>\n      <td>C</td>\n      <td>G</td>\n      <td>T</td>\n      <td>A</td>\n      <td>G</td>\n      <td>A</td>\n      <td>C</td>\n      <td>A</td>\n      <td>C</td>\n      <td>G</td>\n      <td>C</td>\n      <td>A</td>\n      <td>A</td>\n      <td>T</td>\n      <td>G</td>\n    </tr>\n    <tr>\n      <th>4</th>\n      <td>Primary Allele</td>\n      <td>T</td>\n      <td>T</td>\n      <td>T</td>\n      <td>C</td>\n      <td>T</td>\n      <td>C</td>\n      <td>G</td>\n      <td>G</td>\n      <td>G</td>\n      <td>T</td>\n      <td>G</td>\n      <td>C</td>\n      <td>A</td>\n      <td>C</td>\n      <td>A</td>\n      <td>A</td>\n      <td>C</td>\n      <td>A</td>\n    </tr>\n  </tbody>\n</table>\n</div>"
     },
     "execution_count": 4,
     "metadata": {},
     "output_type": "execute_result"
    }
   ],
   "source": [
    "genotype = pd.read_csv(\"Genotype.csv\")\n",
    "genotype = genotype.rename(columns={'Variation ID': 'Cultivar ID'})\n",
    "genotype.head()"
   ],
   "metadata": {
    "collapsed": false,
    "ExecuteTime": {
     "end_time": "2023-07-14T05:43:46.272099Z",
     "start_time": "2023-07-14T05:43:46.257119Z"
    }
   }
  },
  {
   "cell_type": "code",
   "execution_count": 5,
   "outputs": [
    {
     "data": {
      "text/plain": "        Cultivar ID vg0101824220 vg0103966667 vg0121868877 vg0123227054  \\\n0        Chromosome        chr01        chr01        chr01        chr01   \n1          Position      1824220      3966667     21868877     23227054   \n2    Variation Type          SNP          SNP          SNP          SNP   \n3         Reference            C            T            T            C   \n4    Primary Allele            T            T            T            C   \n5  Secondary Allele            C            C            A            A   \n\n  vg0212604991 vg0233306848 vg0233612032 vg0307718560 vg0326795211  \\\n0        chr02        chr02        chr02        chr03        chr03   \n1     12604991     33306848     33612032      7718560     26795211   \n2          SNP          SNP          SNP          SNP          SNP   \n3            G            T            A            G            A   \n4            T            C            G            G            G   \n5            G            T            A            A            A   \n\n  vg0431430568 vg0624467444 vg0624681286 vg0624893517 vg0827013973  \\\n0        chr04        chr06        chr06        chr06        chr08   \n1     31430568     24467444     24681286     24893517     27013973   \n2        INDEL          SNP          SNP          SNP          SNP   \n3            C            A            C            G            C   \n4            T            G            C            A            C   \n5            C            A            G            G            T   \n\n  vg0828073239 vg0922675974 vg1002090270 vg1021348723  \n0        chr08        chr09        chr10        chr10  \n1     28073239     22675974      2090270     21348723  \n2          SNP          SNP          SNP          SNP  \n3            A            A            T            G  \n4            A            A            C            A  \n5            C            G            T            G  ",
      "text/html": "<div>\n<style scoped>\n    .dataframe tbody tr th:only-of-type {\n        vertical-align: middle;\n    }\n\n    .dataframe tbody tr th {\n        vertical-align: top;\n    }\n\n    .dataframe thead th {\n        text-align: right;\n    }\n</style>\n<table border=\"1\" class=\"dataframe\">\n  <thead>\n    <tr style=\"text-align: right;\">\n      <th></th>\n      <th>Cultivar ID</th>\n      <th>vg0101824220</th>\n      <th>vg0103966667</th>\n      <th>vg0121868877</th>\n      <th>vg0123227054</th>\n      <th>vg0212604991</th>\n      <th>vg0233306848</th>\n      <th>vg0233612032</th>\n      <th>vg0307718560</th>\n      <th>vg0326795211</th>\n      <th>vg0431430568</th>\n      <th>vg0624467444</th>\n      <th>vg0624681286</th>\n      <th>vg0624893517</th>\n      <th>vg0827013973</th>\n      <th>vg0828073239</th>\n      <th>vg0922675974</th>\n      <th>vg1002090270</th>\n      <th>vg1021348723</th>\n    </tr>\n  </thead>\n  <tbody>\n    <tr>\n      <th>0</th>\n      <td>Chromosome</td>\n      <td>chr01</td>\n      <td>chr01</td>\n      <td>chr01</td>\n      <td>chr01</td>\n      <td>chr02</td>\n      <td>chr02</td>\n      <td>chr02</td>\n      <td>chr03</td>\n      <td>chr03</td>\n      <td>chr04</td>\n      <td>chr06</td>\n      <td>chr06</td>\n      <td>chr06</td>\n      <td>chr08</td>\n      <td>chr08</td>\n      <td>chr09</td>\n      <td>chr10</td>\n      <td>chr10</td>\n    </tr>\n    <tr>\n      <th>1</th>\n      <td>Position</td>\n      <td>1824220</td>\n      <td>3966667</td>\n      <td>21868877</td>\n      <td>23227054</td>\n      <td>12604991</td>\n      <td>33306848</td>\n      <td>33612032</td>\n      <td>7718560</td>\n      <td>26795211</td>\n      <td>31430568</td>\n      <td>24467444</td>\n      <td>24681286</td>\n      <td>24893517</td>\n      <td>27013973</td>\n      <td>28073239</td>\n      <td>22675974</td>\n      <td>2090270</td>\n      <td>21348723</td>\n    </tr>\n    <tr>\n      <th>2</th>\n      <td>Variation Type</td>\n      <td>SNP</td>\n      <td>SNP</td>\n      <td>SNP</td>\n      <td>SNP</td>\n      <td>SNP</td>\n      <td>SNP</td>\n      <td>SNP</td>\n      <td>SNP</td>\n      <td>SNP</td>\n      <td>INDEL</td>\n      <td>SNP</td>\n      <td>SNP</td>\n      <td>SNP</td>\n      <td>SNP</td>\n      <td>SNP</td>\n      <td>SNP</td>\n      <td>SNP</td>\n      <td>SNP</td>\n    </tr>\n    <tr>\n      <th>3</th>\n      <td>Reference</td>\n      <td>C</td>\n      <td>T</td>\n      <td>T</td>\n      <td>C</td>\n      <td>G</td>\n      <td>T</td>\n      <td>A</td>\n      <td>G</td>\n      <td>A</td>\n      <td>C</td>\n      <td>A</td>\n      <td>C</td>\n      <td>G</td>\n      <td>C</td>\n      <td>A</td>\n      <td>A</td>\n      <td>T</td>\n      <td>G</td>\n    </tr>\n    <tr>\n      <th>4</th>\n      <td>Primary Allele</td>\n      <td>T</td>\n      <td>T</td>\n      <td>T</td>\n      <td>C</td>\n      <td>T</td>\n      <td>C</td>\n      <td>G</td>\n      <td>G</td>\n      <td>G</td>\n      <td>T</td>\n      <td>G</td>\n      <td>C</td>\n      <td>A</td>\n      <td>C</td>\n      <td>A</td>\n      <td>A</td>\n      <td>C</td>\n      <td>A</td>\n    </tr>\n    <tr>\n      <th>5</th>\n      <td>Secondary Allele</td>\n      <td>C</td>\n      <td>C</td>\n      <td>A</td>\n      <td>A</td>\n      <td>G</td>\n      <td>T</td>\n      <td>A</td>\n      <td>A</td>\n      <td>A</td>\n      <td>C</td>\n      <td>A</td>\n      <td>G</td>\n      <td>G</td>\n      <td>T</td>\n      <td>C</td>\n      <td>G</td>\n      <td>T</td>\n      <td>G</td>\n    </tr>\n  </tbody>\n</table>\n</div>"
     },
     "execution_count": 5,
     "metadata": {},
     "output_type": "execute_result"
    }
   ],
   "source": [
    "genotypeHeader = genotype.iloc[:6, :]\n",
    "primaryAlleleRow = 4\n",
    "secondaryAlleleRow = 5\n",
    "genotypeHeader.to_csv(\"genotype_header.csv\")\n",
    "genotypeHeader"
   ],
   "metadata": {
    "collapsed": false,
    "ExecuteTime": {
     "end_time": "2023-07-14T05:44:03.781970Z",
     "start_time": "2023-07-14T05:44:03.768552Z"
    }
   }
  },
  {
   "cell_type": "code",
   "execution_count": 6,
   "outputs": [
    {
     "data": {
      "text/plain": "                             Cultivar ID vg0101824220 vg0103966667  \\\n6                 B001 (Heibiao) Imputed            C            T   \n7               B002 (Sansuijin) Imputed            C            T   \n8           B003 (Zaoshengbai__) Imputed            C            T   \n9     B004 (Qiuguangtengxi_104_) Imputed            C            T   \n10                 B005 (Wanshi) Imputed            C            T   \n...                                  ...          ...          ...   \n4727       W326 (Haolvguangnian) Imputed            C            T   \n4728              W327 (JinghuB) Imputed            C            T   \n4729         W328 (Sibeitichao6) Imputed            C            T   \n4730            W329 (GPNO_5055) Imputed          DEL            C   \n4731           W330 (ASWINA_330) Imputed            N            T   \n\n     vg0121868877 vg0123227054 vg0212604991 vg0233306848 vg0233612032  \\\n6               T            C            G            C            A   \n7               T            C            G            T            A   \n8               T            C            T            C            G   \n9               T            C            G            T            A   \n10              T            C            G            T            A   \n...           ...          ...          ...          ...          ...   \n4727            T            C            T            C            G   \n4728            T            C            G            T            A   \n4729            T            C            T            C            G   \n4730            T            C            T            C            G   \n4731            T            C            T            C            G   \n\n     vg0307718560 vg0326795211 vg0431430568 vg0624467444 vg0624681286  \\\n6               G            A            C            A            C   \n7               G            A            C            A            C   \n8               G            A          DEL            A            C   \n9               G            A            C            A            C   \n10              G            A            C            G            G   \n...           ...          ...          ...          ...          ...   \n4727            G            A          DEL            G            G   \n4728            G            A            C            A            C   \n4729            G            A          DEL            G            C   \n4730            G            A          DEL            G          DEL   \n4731            A            G          DEL            G            G   \n\n     vg0624893517 vg0827013973 vg0828073239 vg0922675974 vg1002090270  \\\n6               G            C            A            A            T   \n7               G            C            A            A            T   \n8               G            C            C            A            T   \n9               G            C            A            A            T   \n10              A            C            C            A            T   \n...           ...          ...          ...          ...          ...   \n4727            A            C            C            A            T   \n4728            G            C            A            A            T   \n4729          DEL            C            C            G            T   \n4730            A            N            A            A            T   \n4731          DEL            C            A            G            T   \n\n     vg1021348723  \n6               A  \n7               G  \n8               G  \n9               A  \n10              A  \n...           ...  \n4727            G  \n4728            G  \n4729            A  \n4730            A  \n4731            A  \n\n[4726 rows x 19 columns]",
      "text/html": "<div>\n<style scoped>\n    .dataframe tbody tr th:only-of-type {\n        vertical-align: middle;\n    }\n\n    .dataframe tbody tr th {\n        vertical-align: top;\n    }\n\n    .dataframe thead th {\n        text-align: right;\n    }\n</style>\n<table border=\"1\" class=\"dataframe\">\n  <thead>\n    <tr style=\"text-align: right;\">\n      <th></th>\n      <th>Cultivar ID</th>\n      <th>vg0101824220</th>\n      <th>vg0103966667</th>\n      <th>vg0121868877</th>\n      <th>vg0123227054</th>\n      <th>vg0212604991</th>\n      <th>vg0233306848</th>\n      <th>vg0233612032</th>\n      <th>vg0307718560</th>\n      <th>vg0326795211</th>\n      <th>vg0431430568</th>\n      <th>vg0624467444</th>\n      <th>vg0624681286</th>\n      <th>vg0624893517</th>\n      <th>vg0827013973</th>\n      <th>vg0828073239</th>\n      <th>vg0922675974</th>\n      <th>vg1002090270</th>\n      <th>vg1021348723</th>\n    </tr>\n  </thead>\n  <tbody>\n    <tr>\n      <th>6</th>\n      <td>B001 (Heibiao) Imputed</td>\n      <td>C</td>\n      <td>T</td>\n      <td>T</td>\n      <td>C</td>\n      <td>G</td>\n      <td>C</td>\n      <td>A</td>\n      <td>G</td>\n      <td>A</td>\n      <td>C</td>\n      <td>A</td>\n      <td>C</td>\n      <td>G</td>\n      <td>C</td>\n      <td>A</td>\n      <td>A</td>\n      <td>T</td>\n      <td>A</td>\n    </tr>\n    <tr>\n      <th>7</th>\n      <td>B002 (Sansuijin) Imputed</td>\n      <td>C</td>\n      <td>T</td>\n      <td>T</td>\n      <td>C</td>\n      <td>G</td>\n      <td>T</td>\n      <td>A</td>\n      <td>G</td>\n      <td>A</td>\n      <td>C</td>\n      <td>A</td>\n      <td>C</td>\n      <td>G</td>\n      <td>C</td>\n      <td>A</td>\n      <td>A</td>\n      <td>T</td>\n      <td>G</td>\n    </tr>\n    <tr>\n      <th>8</th>\n      <td>B003 (Zaoshengbai__) Imputed</td>\n      <td>C</td>\n      <td>T</td>\n      <td>T</td>\n      <td>C</td>\n      <td>T</td>\n      <td>C</td>\n      <td>G</td>\n      <td>G</td>\n      <td>A</td>\n      <td>DEL</td>\n      <td>A</td>\n      <td>C</td>\n      <td>G</td>\n      <td>C</td>\n      <td>C</td>\n      <td>A</td>\n      <td>T</td>\n      <td>G</td>\n    </tr>\n    <tr>\n      <th>9</th>\n      <td>B004 (Qiuguangtengxi_104_) Imputed</td>\n      <td>C</td>\n      <td>T</td>\n      <td>T</td>\n      <td>C</td>\n      <td>G</td>\n      <td>T</td>\n      <td>A</td>\n      <td>G</td>\n      <td>A</td>\n      <td>C</td>\n      <td>A</td>\n      <td>C</td>\n      <td>G</td>\n      <td>C</td>\n      <td>A</td>\n      <td>A</td>\n      <td>T</td>\n      <td>A</td>\n    </tr>\n    <tr>\n      <th>10</th>\n      <td>B005 (Wanshi) Imputed</td>\n      <td>C</td>\n      <td>T</td>\n      <td>T</td>\n      <td>C</td>\n      <td>G</td>\n      <td>T</td>\n      <td>A</td>\n      <td>G</td>\n      <td>A</td>\n      <td>C</td>\n      <td>G</td>\n      <td>G</td>\n      <td>A</td>\n      <td>C</td>\n      <td>C</td>\n      <td>A</td>\n      <td>T</td>\n      <td>A</td>\n    </tr>\n    <tr>\n      <th>...</th>\n      <td>...</td>\n      <td>...</td>\n      <td>...</td>\n      <td>...</td>\n      <td>...</td>\n      <td>...</td>\n      <td>...</td>\n      <td>...</td>\n      <td>...</td>\n      <td>...</td>\n      <td>...</td>\n      <td>...</td>\n      <td>...</td>\n      <td>...</td>\n      <td>...</td>\n      <td>...</td>\n      <td>...</td>\n      <td>...</td>\n      <td>...</td>\n    </tr>\n    <tr>\n      <th>4727</th>\n      <td>W326 (Haolvguangnian) Imputed</td>\n      <td>C</td>\n      <td>T</td>\n      <td>T</td>\n      <td>C</td>\n      <td>T</td>\n      <td>C</td>\n      <td>G</td>\n      <td>G</td>\n      <td>A</td>\n      <td>DEL</td>\n      <td>G</td>\n      <td>G</td>\n      <td>A</td>\n      <td>C</td>\n      <td>C</td>\n      <td>A</td>\n      <td>T</td>\n      <td>G</td>\n    </tr>\n    <tr>\n      <th>4728</th>\n      <td>W327 (JinghuB) Imputed</td>\n      <td>C</td>\n      <td>T</td>\n      <td>T</td>\n      <td>C</td>\n      <td>G</td>\n      <td>T</td>\n      <td>A</td>\n      <td>G</td>\n      <td>A</td>\n      <td>C</td>\n      <td>A</td>\n      <td>C</td>\n      <td>G</td>\n      <td>C</td>\n      <td>A</td>\n      <td>A</td>\n      <td>T</td>\n      <td>G</td>\n    </tr>\n    <tr>\n      <th>4729</th>\n      <td>W328 (Sibeitichao6) Imputed</td>\n      <td>C</td>\n      <td>T</td>\n      <td>T</td>\n      <td>C</td>\n      <td>T</td>\n      <td>C</td>\n      <td>G</td>\n      <td>G</td>\n      <td>A</td>\n      <td>DEL</td>\n      <td>G</td>\n      <td>C</td>\n      <td>DEL</td>\n      <td>C</td>\n      <td>C</td>\n      <td>G</td>\n      <td>T</td>\n      <td>A</td>\n    </tr>\n    <tr>\n      <th>4730</th>\n      <td>W329 (GPNO_5055) Imputed</td>\n      <td>DEL</td>\n      <td>C</td>\n      <td>T</td>\n      <td>C</td>\n      <td>T</td>\n      <td>C</td>\n      <td>G</td>\n      <td>G</td>\n      <td>A</td>\n      <td>DEL</td>\n      <td>G</td>\n      <td>DEL</td>\n      <td>A</td>\n      <td>N</td>\n      <td>A</td>\n      <td>A</td>\n      <td>T</td>\n      <td>A</td>\n    </tr>\n    <tr>\n      <th>4731</th>\n      <td>W330 (ASWINA_330) Imputed</td>\n      <td>N</td>\n      <td>T</td>\n      <td>T</td>\n      <td>C</td>\n      <td>T</td>\n      <td>C</td>\n      <td>G</td>\n      <td>A</td>\n      <td>G</td>\n      <td>DEL</td>\n      <td>G</td>\n      <td>G</td>\n      <td>DEL</td>\n      <td>C</td>\n      <td>A</td>\n      <td>G</td>\n      <td>T</td>\n      <td>A</td>\n    </tr>\n  </tbody>\n</table>\n<p>4726 rows × 19 columns</p>\n</div>"
     },
     "execution_count": 6,
     "metadata": {},
     "output_type": "execute_result"
    }
   ],
   "source": [
    "genotype = genotype.iloc[6:, :]\n",
    "genotype"
   ],
   "metadata": {
    "collapsed": false,
    "ExecuteTime": {
     "end_time": "2023-07-14T05:44:36.093969Z",
     "start_time": "2023-07-14T05:44:36.089209Z"
    }
   }
  },
  {
   "cell_type": "code",
   "execution_count": 7,
   "outputs": [
    {
     "data": {
      "text/plain": "                             Cultivar ID vg0101824220 vg0103966667  \\\n6                 B001 (Heibiao) Imputed            C            T   \n7               B002 (Sansuijin) Imputed            C            T   \n8           B003 (Zaoshengbai__) Imputed            C            T   \n9     B004 (Qiuguangtengxi_104_) Imputed            C            T   \n10                 B005 (Wanshi) Imputed            C            T   \n...                                  ...          ...          ...   \n4727       W326 (Haolvguangnian) Imputed            C            T   \n4728              W327 (JinghuB) Imputed            C            T   \n4729         W328 (Sibeitichao6) Imputed            C            T   \n4730            W329 (GPNO_5055) Imputed            C            C   \n4731           W330 (ASWINA_330) Imputed            T            T   \n\n     vg0121868877 vg0123227054 vg0212604991 vg0233306848 vg0233612032  \\\n6               T            C            G            C            A   \n7               T            C            G            T            A   \n8               T            C            T            C            G   \n9               T            C            G            T            A   \n10              T            C            G            T            A   \n...           ...          ...          ...          ...          ...   \n4727            T            C            T            C            G   \n4728            T            C            G            T            A   \n4729            T            C            T            C            G   \n4730            T            C            T            C            G   \n4731            T            C            T            C            G   \n\n     vg0307718560 vg0326795211 vg0431430568 vg0624467444 vg0624681286  \\\n6               G            A            C            A            C   \n7               G            A            C            A            C   \n8               G            A            C            A            C   \n9               G            A            C            A            C   \n10              G            A            C            G            G   \n...           ...          ...          ...          ...          ...   \n4727            G            A            C            G            G   \n4728            G            A            C            A            C   \n4729            G            A            C            G            C   \n4730            G            A            C            G            G   \n4731            A            G            C            G            G   \n\n     vg0624893517 vg0827013973 vg0828073239 vg0922675974 vg1002090270  \\\n6               G            C            A            A            T   \n7               G            C            A            A            T   \n8               G            C            C            A            T   \n9               G            C            A            A            T   \n10              A            C            C            A            T   \n...           ...          ...          ...          ...          ...   \n4727            A            C            C            A            T   \n4728            G            C            A            A            T   \n4729            G            C            C            G            T   \n4730            A            C            A            A            T   \n4731            G            C            A            G            T   \n\n     vg1021348723  \n6               A  \n7               G  \n8               G  \n9               A  \n10              A  \n...           ...  \n4727            G  \n4728            G  \n4729            A  \n4730            A  \n4731            A  \n\n[4726 rows x 19 columns]",
      "text/html": "<div>\n<style scoped>\n    .dataframe tbody tr th:only-of-type {\n        vertical-align: middle;\n    }\n\n    .dataframe tbody tr th {\n        vertical-align: top;\n    }\n\n    .dataframe thead th {\n        text-align: right;\n    }\n</style>\n<table border=\"1\" class=\"dataframe\">\n  <thead>\n    <tr style=\"text-align: right;\">\n      <th></th>\n      <th>Cultivar ID</th>\n      <th>vg0101824220</th>\n      <th>vg0103966667</th>\n      <th>vg0121868877</th>\n      <th>vg0123227054</th>\n      <th>vg0212604991</th>\n      <th>vg0233306848</th>\n      <th>vg0233612032</th>\n      <th>vg0307718560</th>\n      <th>vg0326795211</th>\n      <th>vg0431430568</th>\n      <th>vg0624467444</th>\n      <th>vg0624681286</th>\n      <th>vg0624893517</th>\n      <th>vg0827013973</th>\n      <th>vg0828073239</th>\n      <th>vg0922675974</th>\n      <th>vg1002090270</th>\n      <th>vg1021348723</th>\n    </tr>\n  </thead>\n  <tbody>\n    <tr>\n      <th>6</th>\n      <td>B001 (Heibiao) Imputed</td>\n      <td>C</td>\n      <td>T</td>\n      <td>T</td>\n      <td>C</td>\n      <td>G</td>\n      <td>C</td>\n      <td>A</td>\n      <td>G</td>\n      <td>A</td>\n      <td>C</td>\n      <td>A</td>\n      <td>C</td>\n      <td>G</td>\n      <td>C</td>\n      <td>A</td>\n      <td>A</td>\n      <td>T</td>\n      <td>A</td>\n    </tr>\n    <tr>\n      <th>7</th>\n      <td>B002 (Sansuijin) Imputed</td>\n      <td>C</td>\n      <td>T</td>\n      <td>T</td>\n      <td>C</td>\n      <td>G</td>\n      <td>T</td>\n      <td>A</td>\n      <td>G</td>\n      <td>A</td>\n      <td>C</td>\n      <td>A</td>\n      <td>C</td>\n      <td>G</td>\n      <td>C</td>\n      <td>A</td>\n      <td>A</td>\n      <td>T</td>\n      <td>G</td>\n    </tr>\n    <tr>\n      <th>8</th>\n      <td>B003 (Zaoshengbai__) Imputed</td>\n      <td>C</td>\n      <td>T</td>\n      <td>T</td>\n      <td>C</td>\n      <td>T</td>\n      <td>C</td>\n      <td>G</td>\n      <td>G</td>\n      <td>A</td>\n      <td>C</td>\n      <td>A</td>\n      <td>C</td>\n      <td>G</td>\n      <td>C</td>\n      <td>C</td>\n      <td>A</td>\n      <td>T</td>\n      <td>G</td>\n    </tr>\n    <tr>\n      <th>9</th>\n      <td>B004 (Qiuguangtengxi_104_) Imputed</td>\n      <td>C</td>\n      <td>T</td>\n      <td>T</td>\n      <td>C</td>\n      <td>G</td>\n      <td>T</td>\n      <td>A</td>\n      <td>G</td>\n      <td>A</td>\n      <td>C</td>\n      <td>A</td>\n      <td>C</td>\n      <td>G</td>\n      <td>C</td>\n      <td>A</td>\n      <td>A</td>\n      <td>T</td>\n      <td>A</td>\n    </tr>\n    <tr>\n      <th>10</th>\n      <td>B005 (Wanshi) Imputed</td>\n      <td>C</td>\n      <td>T</td>\n      <td>T</td>\n      <td>C</td>\n      <td>G</td>\n      <td>T</td>\n      <td>A</td>\n      <td>G</td>\n      <td>A</td>\n      <td>C</td>\n      <td>G</td>\n      <td>G</td>\n      <td>A</td>\n      <td>C</td>\n      <td>C</td>\n      <td>A</td>\n      <td>T</td>\n      <td>A</td>\n    </tr>\n    <tr>\n      <th>...</th>\n      <td>...</td>\n      <td>...</td>\n      <td>...</td>\n      <td>...</td>\n      <td>...</td>\n      <td>...</td>\n      <td>...</td>\n      <td>...</td>\n      <td>...</td>\n      <td>...</td>\n      <td>...</td>\n      <td>...</td>\n      <td>...</td>\n      <td>...</td>\n      <td>...</td>\n      <td>...</td>\n      <td>...</td>\n      <td>...</td>\n      <td>...</td>\n    </tr>\n    <tr>\n      <th>4727</th>\n      <td>W326 (Haolvguangnian) Imputed</td>\n      <td>C</td>\n      <td>T</td>\n      <td>T</td>\n      <td>C</td>\n      <td>T</td>\n      <td>C</td>\n      <td>G</td>\n      <td>G</td>\n      <td>A</td>\n      <td>C</td>\n      <td>G</td>\n      <td>G</td>\n      <td>A</td>\n      <td>C</td>\n      <td>C</td>\n      <td>A</td>\n      <td>T</td>\n      <td>G</td>\n    </tr>\n    <tr>\n      <th>4728</th>\n      <td>W327 (JinghuB) Imputed</td>\n      <td>C</td>\n      <td>T</td>\n      <td>T</td>\n      <td>C</td>\n      <td>G</td>\n      <td>T</td>\n      <td>A</td>\n      <td>G</td>\n      <td>A</td>\n      <td>C</td>\n      <td>A</td>\n      <td>C</td>\n      <td>G</td>\n      <td>C</td>\n      <td>A</td>\n      <td>A</td>\n      <td>T</td>\n      <td>G</td>\n    </tr>\n    <tr>\n      <th>4729</th>\n      <td>W328 (Sibeitichao6) Imputed</td>\n      <td>C</td>\n      <td>T</td>\n      <td>T</td>\n      <td>C</td>\n      <td>T</td>\n      <td>C</td>\n      <td>G</td>\n      <td>G</td>\n      <td>A</td>\n      <td>C</td>\n      <td>G</td>\n      <td>C</td>\n      <td>G</td>\n      <td>C</td>\n      <td>C</td>\n      <td>G</td>\n      <td>T</td>\n      <td>A</td>\n    </tr>\n    <tr>\n      <th>4730</th>\n      <td>W329 (GPNO_5055) Imputed</td>\n      <td>C</td>\n      <td>C</td>\n      <td>T</td>\n      <td>C</td>\n      <td>T</td>\n      <td>C</td>\n      <td>G</td>\n      <td>G</td>\n      <td>A</td>\n      <td>C</td>\n      <td>G</td>\n      <td>G</td>\n      <td>A</td>\n      <td>C</td>\n      <td>A</td>\n      <td>A</td>\n      <td>T</td>\n      <td>A</td>\n    </tr>\n    <tr>\n      <th>4731</th>\n      <td>W330 (ASWINA_330) Imputed</td>\n      <td>T</td>\n      <td>T</td>\n      <td>T</td>\n      <td>C</td>\n      <td>T</td>\n      <td>C</td>\n      <td>G</td>\n      <td>A</td>\n      <td>G</td>\n      <td>C</td>\n      <td>G</td>\n      <td>G</td>\n      <td>G</td>\n      <td>C</td>\n      <td>A</td>\n      <td>G</td>\n      <td>T</td>\n      <td>A</td>\n    </tr>\n  </tbody>\n</table>\n<p>4726 rows × 19 columns</p>\n</div>"
     },
     "execution_count": 7,
     "metadata": {},
     "output_type": "execute_result"
    }
   ],
   "source": [
    "# replacing genotype for each column with their primary allele\n",
    "\n",
    "for i in range(1, genotype.shape[1]):\n",
    "    primaryAllele = genotypeHeader.iloc[primaryAlleleRow, i]\n",
    "    secondaryAllele = genotypeHeader.iloc[secondaryAlleleRow, i]\n",
    "    col = genotype.iloc[:, i]\n",
    "    col.replace(\"DEL\", secondaryAllele, inplace=True)\n",
    "    col.replace(\"N\", primaryAllele, inplace=True)\n",
    "\n",
    "genotype"
   ],
   "metadata": {
    "collapsed": false,
    "ExecuteTime": {
     "end_time": "2023-07-14T05:46:27.403586Z",
     "start_time": "2023-07-14T05:46:27.381566Z"
    }
   }
  },
  {
   "cell_type": "code",
   "execution_count": 8,
   "outputs": [
    {
     "data": {
      "text/plain": "     Cultivar ID vg0101824220 vg0103966667 vg0121868877 vg0123227054  \\\n6           B001            C            T            T            C   \n7           B002            C            T            T            C   \n8           B003            C            T            T            C   \n9           B004            C            T            T            C   \n10          B005            C            T            T            C   \n...          ...          ...          ...          ...          ...   \n4727        W326            C            T            T            C   \n4728        W327            C            T            T            C   \n4729        W328            C            T            T            C   \n4730        W329            C            C            T            C   \n4731        W330            T            T            T            C   \n\n     vg0212604991 vg0233306848 vg0233612032 vg0307718560 vg0326795211  \\\n6               G            C            A            G            A   \n7               G            T            A            G            A   \n8               T            C            G            G            A   \n9               G            T            A            G            A   \n10              G            T            A            G            A   \n...           ...          ...          ...          ...          ...   \n4727            T            C            G            G            A   \n4728            G            T            A            G            A   \n4729            T            C            G            G            A   \n4730            T            C            G            G            A   \n4731            T            C            G            A            G   \n\n     vg0431430568 vg0624467444 vg0624681286 vg0624893517 vg0827013973  \\\n6               C            A            C            G            C   \n7               C            A            C            G            C   \n8               C            A            C            G            C   \n9               C            A            C            G            C   \n10              C            G            G            A            C   \n...           ...          ...          ...          ...          ...   \n4727            C            G            G            A            C   \n4728            C            A            C            G            C   \n4729            C            G            C            G            C   \n4730            C            G            G            A            C   \n4731            C            G            G            G            C   \n\n     vg0828073239 vg0922675974 vg1002090270 vg1021348723  \n6               A            A            T            A  \n7               A            A            T            G  \n8               C            A            T            G  \n9               A            A            T            A  \n10              C            A            T            A  \n...           ...          ...          ...          ...  \n4727            C            A            T            G  \n4728            A            A            T            G  \n4729            C            G            T            A  \n4730            A            A            T            A  \n4731            A            G            T            A  \n\n[4726 rows x 19 columns]",
      "text/html": "<div>\n<style scoped>\n    .dataframe tbody tr th:only-of-type {\n        vertical-align: middle;\n    }\n\n    .dataframe tbody tr th {\n        vertical-align: top;\n    }\n\n    .dataframe thead th {\n        text-align: right;\n    }\n</style>\n<table border=\"1\" class=\"dataframe\">\n  <thead>\n    <tr style=\"text-align: right;\">\n      <th></th>\n      <th>Cultivar ID</th>\n      <th>vg0101824220</th>\n      <th>vg0103966667</th>\n      <th>vg0121868877</th>\n      <th>vg0123227054</th>\n      <th>vg0212604991</th>\n      <th>vg0233306848</th>\n      <th>vg0233612032</th>\n      <th>vg0307718560</th>\n      <th>vg0326795211</th>\n      <th>vg0431430568</th>\n      <th>vg0624467444</th>\n      <th>vg0624681286</th>\n      <th>vg0624893517</th>\n      <th>vg0827013973</th>\n      <th>vg0828073239</th>\n      <th>vg0922675974</th>\n      <th>vg1002090270</th>\n      <th>vg1021348723</th>\n    </tr>\n  </thead>\n  <tbody>\n    <tr>\n      <th>6</th>\n      <td>B001</td>\n      <td>C</td>\n      <td>T</td>\n      <td>T</td>\n      <td>C</td>\n      <td>G</td>\n      <td>C</td>\n      <td>A</td>\n      <td>G</td>\n      <td>A</td>\n      <td>C</td>\n      <td>A</td>\n      <td>C</td>\n      <td>G</td>\n      <td>C</td>\n      <td>A</td>\n      <td>A</td>\n      <td>T</td>\n      <td>A</td>\n    </tr>\n    <tr>\n      <th>7</th>\n      <td>B002</td>\n      <td>C</td>\n      <td>T</td>\n      <td>T</td>\n      <td>C</td>\n      <td>G</td>\n      <td>T</td>\n      <td>A</td>\n      <td>G</td>\n      <td>A</td>\n      <td>C</td>\n      <td>A</td>\n      <td>C</td>\n      <td>G</td>\n      <td>C</td>\n      <td>A</td>\n      <td>A</td>\n      <td>T</td>\n      <td>G</td>\n    </tr>\n    <tr>\n      <th>8</th>\n      <td>B003</td>\n      <td>C</td>\n      <td>T</td>\n      <td>T</td>\n      <td>C</td>\n      <td>T</td>\n      <td>C</td>\n      <td>G</td>\n      <td>G</td>\n      <td>A</td>\n      <td>C</td>\n      <td>A</td>\n      <td>C</td>\n      <td>G</td>\n      <td>C</td>\n      <td>C</td>\n      <td>A</td>\n      <td>T</td>\n      <td>G</td>\n    </tr>\n    <tr>\n      <th>9</th>\n      <td>B004</td>\n      <td>C</td>\n      <td>T</td>\n      <td>T</td>\n      <td>C</td>\n      <td>G</td>\n      <td>T</td>\n      <td>A</td>\n      <td>G</td>\n      <td>A</td>\n      <td>C</td>\n      <td>A</td>\n      <td>C</td>\n      <td>G</td>\n      <td>C</td>\n      <td>A</td>\n      <td>A</td>\n      <td>T</td>\n      <td>A</td>\n    </tr>\n    <tr>\n      <th>10</th>\n      <td>B005</td>\n      <td>C</td>\n      <td>T</td>\n      <td>T</td>\n      <td>C</td>\n      <td>G</td>\n      <td>T</td>\n      <td>A</td>\n      <td>G</td>\n      <td>A</td>\n      <td>C</td>\n      <td>G</td>\n      <td>G</td>\n      <td>A</td>\n      <td>C</td>\n      <td>C</td>\n      <td>A</td>\n      <td>T</td>\n      <td>A</td>\n    </tr>\n    <tr>\n      <th>...</th>\n      <td>...</td>\n      <td>...</td>\n      <td>...</td>\n      <td>...</td>\n      <td>...</td>\n      <td>...</td>\n      <td>...</td>\n      <td>...</td>\n      <td>...</td>\n      <td>...</td>\n      <td>...</td>\n      <td>...</td>\n      <td>...</td>\n      <td>...</td>\n      <td>...</td>\n      <td>...</td>\n      <td>...</td>\n      <td>...</td>\n      <td>...</td>\n    </tr>\n    <tr>\n      <th>4727</th>\n      <td>W326</td>\n      <td>C</td>\n      <td>T</td>\n      <td>T</td>\n      <td>C</td>\n      <td>T</td>\n      <td>C</td>\n      <td>G</td>\n      <td>G</td>\n      <td>A</td>\n      <td>C</td>\n      <td>G</td>\n      <td>G</td>\n      <td>A</td>\n      <td>C</td>\n      <td>C</td>\n      <td>A</td>\n      <td>T</td>\n      <td>G</td>\n    </tr>\n    <tr>\n      <th>4728</th>\n      <td>W327</td>\n      <td>C</td>\n      <td>T</td>\n      <td>T</td>\n      <td>C</td>\n      <td>G</td>\n      <td>T</td>\n      <td>A</td>\n      <td>G</td>\n      <td>A</td>\n      <td>C</td>\n      <td>A</td>\n      <td>C</td>\n      <td>G</td>\n      <td>C</td>\n      <td>A</td>\n      <td>A</td>\n      <td>T</td>\n      <td>G</td>\n    </tr>\n    <tr>\n      <th>4729</th>\n      <td>W328</td>\n      <td>C</td>\n      <td>T</td>\n      <td>T</td>\n      <td>C</td>\n      <td>T</td>\n      <td>C</td>\n      <td>G</td>\n      <td>G</td>\n      <td>A</td>\n      <td>C</td>\n      <td>G</td>\n      <td>C</td>\n      <td>G</td>\n      <td>C</td>\n      <td>C</td>\n      <td>G</td>\n      <td>T</td>\n      <td>A</td>\n    </tr>\n    <tr>\n      <th>4730</th>\n      <td>W329</td>\n      <td>C</td>\n      <td>C</td>\n      <td>T</td>\n      <td>C</td>\n      <td>T</td>\n      <td>C</td>\n      <td>G</td>\n      <td>G</td>\n      <td>A</td>\n      <td>C</td>\n      <td>G</td>\n      <td>G</td>\n      <td>A</td>\n      <td>C</td>\n      <td>A</td>\n      <td>A</td>\n      <td>T</td>\n      <td>A</td>\n    </tr>\n    <tr>\n      <th>4731</th>\n      <td>W330</td>\n      <td>T</td>\n      <td>T</td>\n      <td>T</td>\n      <td>C</td>\n      <td>T</td>\n      <td>C</td>\n      <td>G</td>\n      <td>A</td>\n      <td>G</td>\n      <td>C</td>\n      <td>G</td>\n      <td>G</td>\n      <td>G</td>\n      <td>C</td>\n      <td>A</td>\n      <td>G</td>\n      <td>T</td>\n      <td>A</td>\n    </tr>\n  </tbody>\n</table>\n<p>4726 rows × 19 columns</p>\n</div>"
     },
     "execution_count": 8,
     "metadata": {},
     "output_type": "execute_result"
    }
   ],
   "source": [
    "def extractVariantID(cultivarID):\n",
    "    return cultivarID.split(sep=\" \")[0]\n",
    "\n",
    "genotype['Cultivar ID'] = genotype['Cultivar ID'].map(extractVariantID)\n",
    "genotype"
   ],
   "metadata": {
    "collapsed": false,
    "ExecuteTime": {
     "end_time": "2023-07-14T05:46:35.581631Z",
     "start_time": "2023-07-14T05:46:35.565490Z"
    }
   }
  },
  {
   "cell_type": "code",
   "execution_count": 9,
   "outputs": [],
   "source": [
    "mapping = pd.merge(genotype, yields.iloc[:, 1:4], on='Cultivar ID' )"
   ],
   "metadata": {
    "collapsed": false,
    "ExecuteTime": {
     "end_time": "2023-07-14T05:46:45.750837Z",
     "start_time": "2023-07-14T05:46:45.738237Z"
    }
   }
  },
  {
   "cell_type": "code",
   "execution_count": 11,
   "outputs": [
    {
     "data": {
      "text/plain": "    Cultivar ID vg0101824220 vg0103966667 vg0121868877 vg0123227054  \\\n0          C001            T            C            A            C   \n1          C002            C            T            T            C   \n2          C003            C            T            T            C   \n3          C004            C            T            T            C   \n4          C005            C            T            T            C   \n..          ...          ...          ...          ...          ...   \n524        W326            C            T            T            C   \n525        W327            C            T            T            C   \n526        W328            C            T            T            C   \n527        W329            C            C            T            C   \n528        W330            T            T            T            C   \n\n    vg0212604991 vg0233306848 vg0233612032 vg0307718560 vg0326795211  ...  \\\n0              T            C            G            G            G  ...   \n1              T            C            G            A            G  ...   \n2              G            C            G            A            G  ...   \n3              T            T            G            G            A  ...   \n4              T            C            G            G            A  ...   \n..           ...          ...          ...          ...          ...  ...   \n524            T            C            G            G            A  ...   \n525            G            T            A            G            A  ...   \n526            T            C            G            G            A  ...   \n527            T            C            G            G            A  ...   \n528            T            C            G            A            G  ...   \n\n    vg0624467444 vg0624681286 vg0624893517 vg0827013973 vg0828073239  \\\n0              G            C            G            T            A   \n1              G            G            A            C            C   \n2              G            G            A            C            C   \n3              G            G            A            C            C   \n4              G            G            A            C            C   \n..           ...          ...          ...          ...          ...   \n524            G            G            A            C            C   \n525            A            C            G            C            A   \n526            G            C            G            C            C   \n527            G            G            A            C            A   \n528            G            G            G            C            A   \n\n    vg0922675974 vg1002090270 vg1021348723          Subpopulation  Yield  \n0              A            C            A               Indica I  24.13  \n1              A            T            G            VI/Aromatic  15.18  \n2              G            T            G  Japonica Intermediate  24.54  \n3              A            T            G     Temperate Japonica  18.82  \n4              A            T            G      Tropical Japonica  22.50  \n..           ...          ...          ...                    ...    ...  \n524            A            T            G  Japonica Intermediate  24.96  \n525            A            T            G     Temperate Japonica  35.33  \n526            G            T            A           Intermediate   7.69  \n527            A            T            A      Tropical Japonica  34.71  \n528            G            T            A                    Aus  33.92  \n\n[529 rows x 21 columns]",
      "text/html": "<div>\n<style scoped>\n    .dataframe tbody tr th:only-of-type {\n        vertical-align: middle;\n    }\n\n    .dataframe tbody tr th {\n        vertical-align: top;\n    }\n\n    .dataframe thead th {\n        text-align: right;\n    }\n</style>\n<table border=\"1\" class=\"dataframe\">\n  <thead>\n    <tr style=\"text-align: right;\">\n      <th></th>\n      <th>Cultivar ID</th>\n      <th>vg0101824220</th>\n      <th>vg0103966667</th>\n      <th>vg0121868877</th>\n      <th>vg0123227054</th>\n      <th>vg0212604991</th>\n      <th>vg0233306848</th>\n      <th>vg0233612032</th>\n      <th>vg0307718560</th>\n      <th>vg0326795211</th>\n      <th>...</th>\n      <th>vg0624467444</th>\n      <th>vg0624681286</th>\n      <th>vg0624893517</th>\n      <th>vg0827013973</th>\n      <th>vg0828073239</th>\n      <th>vg0922675974</th>\n      <th>vg1002090270</th>\n      <th>vg1021348723</th>\n      <th>Subpopulation</th>\n      <th>Yield</th>\n    </tr>\n  </thead>\n  <tbody>\n    <tr>\n      <th>0</th>\n      <td>C001</td>\n      <td>T</td>\n      <td>C</td>\n      <td>A</td>\n      <td>C</td>\n      <td>T</td>\n      <td>C</td>\n      <td>G</td>\n      <td>G</td>\n      <td>G</td>\n      <td>...</td>\n      <td>G</td>\n      <td>C</td>\n      <td>G</td>\n      <td>T</td>\n      <td>A</td>\n      <td>A</td>\n      <td>C</td>\n      <td>A</td>\n      <td>Indica I</td>\n      <td>24.13</td>\n    </tr>\n    <tr>\n      <th>1</th>\n      <td>C002</td>\n      <td>C</td>\n      <td>T</td>\n      <td>T</td>\n      <td>C</td>\n      <td>T</td>\n      <td>C</td>\n      <td>G</td>\n      <td>A</td>\n      <td>G</td>\n      <td>...</td>\n      <td>G</td>\n      <td>G</td>\n      <td>A</td>\n      <td>C</td>\n      <td>C</td>\n      <td>A</td>\n      <td>T</td>\n      <td>G</td>\n      <td>VI/Aromatic</td>\n      <td>15.18</td>\n    </tr>\n    <tr>\n      <th>2</th>\n      <td>C003</td>\n      <td>C</td>\n      <td>T</td>\n      <td>T</td>\n      <td>C</td>\n      <td>G</td>\n      <td>C</td>\n      <td>G</td>\n      <td>A</td>\n      <td>G</td>\n      <td>...</td>\n      <td>G</td>\n      <td>G</td>\n      <td>A</td>\n      <td>C</td>\n      <td>C</td>\n      <td>G</td>\n      <td>T</td>\n      <td>G</td>\n      <td>Japonica Intermediate</td>\n      <td>24.54</td>\n    </tr>\n    <tr>\n      <th>3</th>\n      <td>C004</td>\n      <td>C</td>\n      <td>T</td>\n      <td>T</td>\n      <td>C</td>\n      <td>T</td>\n      <td>T</td>\n      <td>G</td>\n      <td>G</td>\n      <td>A</td>\n      <td>...</td>\n      <td>G</td>\n      <td>G</td>\n      <td>A</td>\n      <td>C</td>\n      <td>C</td>\n      <td>A</td>\n      <td>T</td>\n      <td>G</td>\n      <td>Temperate Japonica</td>\n      <td>18.82</td>\n    </tr>\n    <tr>\n      <th>4</th>\n      <td>C005</td>\n      <td>C</td>\n      <td>T</td>\n      <td>T</td>\n      <td>C</td>\n      <td>T</td>\n      <td>C</td>\n      <td>G</td>\n      <td>G</td>\n      <td>A</td>\n      <td>...</td>\n      <td>G</td>\n      <td>G</td>\n      <td>A</td>\n      <td>C</td>\n      <td>C</td>\n      <td>A</td>\n      <td>T</td>\n      <td>G</td>\n      <td>Tropical Japonica</td>\n      <td>22.50</td>\n    </tr>\n    <tr>\n      <th>...</th>\n      <td>...</td>\n      <td>...</td>\n      <td>...</td>\n      <td>...</td>\n      <td>...</td>\n      <td>...</td>\n      <td>...</td>\n      <td>...</td>\n      <td>...</td>\n      <td>...</td>\n      <td>...</td>\n      <td>...</td>\n      <td>...</td>\n      <td>...</td>\n      <td>...</td>\n      <td>...</td>\n      <td>...</td>\n      <td>...</td>\n      <td>...</td>\n      <td>...</td>\n      <td>...</td>\n    </tr>\n    <tr>\n      <th>524</th>\n      <td>W326</td>\n      <td>C</td>\n      <td>T</td>\n      <td>T</td>\n      <td>C</td>\n      <td>T</td>\n      <td>C</td>\n      <td>G</td>\n      <td>G</td>\n      <td>A</td>\n      <td>...</td>\n      <td>G</td>\n      <td>G</td>\n      <td>A</td>\n      <td>C</td>\n      <td>C</td>\n      <td>A</td>\n      <td>T</td>\n      <td>G</td>\n      <td>Japonica Intermediate</td>\n      <td>24.96</td>\n    </tr>\n    <tr>\n      <th>525</th>\n      <td>W327</td>\n      <td>C</td>\n      <td>T</td>\n      <td>T</td>\n      <td>C</td>\n      <td>G</td>\n      <td>T</td>\n      <td>A</td>\n      <td>G</td>\n      <td>A</td>\n      <td>...</td>\n      <td>A</td>\n      <td>C</td>\n      <td>G</td>\n      <td>C</td>\n      <td>A</td>\n      <td>A</td>\n      <td>T</td>\n      <td>G</td>\n      <td>Temperate Japonica</td>\n      <td>35.33</td>\n    </tr>\n    <tr>\n      <th>526</th>\n      <td>W328</td>\n      <td>C</td>\n      <td>T</td>\n      <td>T</td>\n      <td>C</td>\n      <td>T</td>\n      <td>C</td>\n      <td>G</td>\n      <td>G</td>\n      <td>A</td>\n      <td>...</td>\n      <td>G</td>\n      <td>C</td>\n      <td>G</td>\n      <td>C</td>\n      <td>C</td>\n      <td>G</td>\n      <td>T</td>\n      <td>A</td>\n      <td>Intermediate</td>\n      <td>7.69</td>\n    </tr>\n    <tr>\n      <th>527</th>\n      <td>W329</td>\n      <td>C</td>\n      <td>C</td>\n      <td>T</td>\n      <td>C</td>\n      <td>T</td>\n      <td>C</td>\n      <td>G</td>\n      <td>G</td>\n      <td>A</td>\n      <td>...</td>\n      <td>G</td>\n      <td>G</td>\n      <td>A</td>\n      <td>C</td>\n      <td>A</td>\n      <td>A</td>\n      <td>T</td>\n      <td>A</td>\n      <td>Tropical Japonica</td>\n      <td>34.71</td>\n    </tr>\n    <tr>\n      <th>528</th>\n      <td>W330</td>\n      <td>T</td>\n      <td>T</td>\n      <td>T</td>\n      <td>C</td>\n      <td>T</td>\n      <td>C</td>\n      <td>G</td>\n      <td>A</td>\n      <td>G</td>\n      <td>...</td>\n      <td>G</td>\n      <td>G</td>\n      <td>G</td>\n      <td>C</td>\n      <td>A</td>\n      <td>G</td>\n      <td>T</td>\n      <td>A</td>\n      <td>Aus</td>\n      <td>33.92</td>\n    </tr>\n  </tbody>\n</table>\n<p>529 rows × 21 columns</p>\n</div>"
     },
     "execution_count": 11,
     "metadata": {},
     "output_type": "execute_result"
    }
   ],
   "source": [
    "mapping"
   ],
   "metadata": {
    "collapsed": false,
    "ExecuteTime": {
     "end_time": "2023-07-14T05:46:52.682386Z",
     "start_time": "2023-07-14T05:46:52.669007Z"
    }
   }
  },
  {
   "cell_type": "code",
   "execution_count": 12,
   "outputs": [
    {
     "data": {
      "text/plain": "    Cultivar ID vg0101824220 vg0103966667 vg0121868877 vg0123227054  \\\n0          C001            T            C            A            C   \n1          C002            C            T            T            C   \n2          C003            C            T            T            C   \n3          C004            C            T            T            C   \n4          C005            C            T            T            C   \n..          ...          ...          ...          ...          ...   \n524        W326            C            T            T            C   \n525        W327            C            T            T            C   \n526        W328            C            T            T            C   \n527        W329            C            C            T            C   \n528        W330            T            T            T            C   \n\n    vg0212604991 vg0233306848 vg0233612032 vg0307718560 vg0326795211  ...  \\\n0              T            C            G            G            G  ...   \n1              T            C            G            A            G  ...   \n2              G            C            G            A            G  ...   \n3              T            T            G            G            A  ...   \n4              T            C            G            G            A  ...   \n..           ...          ...          ...          ...          ...  ...   \n524            T            C            G            G            A  ...   \n525            G            T            A            G            A  ...   \n526            T            C            G            G            A  ...   \n527            T            C            G            G            A  ...   \n528            T            C            G            A            G  ...   \n\n    vg0624681286 vg0624893517 vg0827013973 vg0828073239 vg0922675974  \\\n0              C            G            T            A            A   \n1              G            A            C            C            A   \n2              G            A            C            C            G   \n3              G            A            C            C            A   \n4              G            A            C            C            A   \n..           ...          ...          ...          ...          ...   \n524            G            A            C            C            A   \n525            C            G            C            A            A   \n526            C            G            C            C            G   \n527            G            A            C            A            A   \n528            G            G            C            A            G   \n\n    vg1002090270 vg1021348723          Subpopulation  Yield  \\\n0              C            A               Indica I  24.13   \n1              T            G            VI/Aromatic  15.18   \n2              T            G  Japonica Intermediate  24.54   \n3              T            G     Temperate Japonica  18.82   \n4              T            G      Tropical Japonica  22.50   \n..           ...          ...                    ...    ...   \n524            T            G  Japonica Intermediate  24.96   \n525            T            G     Temperate Japonica  35.33   \n526            T            A           Intermediate   7.69   \n527            T            A      Tropical Japonica  34.71   \n528            T            A                    Aus  33.92   \n\n               sequence  \n0    TCACTCGGGTGCGTAACA  \n1    CTTCTCGAGCGGACCATG  \n2    CTTCGCGAGTGGACCGTG  \n3    CTTCTTGGATGGACCATG  \n4    CTTCTCGGACGGACCATG  \n..                  ...  \n524  CTTCTCGGACGGACCATG  \n525  CTTCGTAGACACGCAATG  \n526  CTTCTCGGACGCGCCGTA  \n527  CCTCTCGGACGGACAATA  \n528  TTTCTCGAGCGGGCAGTA  \n\n[529 rows x 22 columns]",
      "text/html": "<div>\n<style scoped>\n    .dataframe tbody tr th:only-of-type {\n        vertical-align: middle;\n    }\n\n    .dataframe tbody tr th {\n        vertical-align: top;\n    }\n\n    .dataframe thead th {\n        text-align: right;\n    }\n</style>\n<table border=\"1\" class=\"dataframe\">\n  <thead>\n    <tr style=\"text-align: right;\">\n      <th></th>\n      <th>Cultivar ID</th>\n      <th>vg0101824220</th>\n      <th>vg0103966667</th>\n      <th>vg0121868877</th>\n      <th>vg0123227054</th>\n      <th>vg0212604991</th>\n      <th>vg0233306848</th>\n      <th>vg0233612032</th>\n      <th>vg0307718560</th>\n      <th>vg0326795211</th>\n      <th>...</th>\n      <th>vg0624681286</th>\n      <th>vg0624893517</th>\n      <th>vg0827013973</th>\n      <th>vg0828073239</th>\n      <th>vg0922675974</th>\n      <th>vg1002090270</th>\n      <th>vg1021348723</th>\n      <th>Subpopulation</th>\n      <th>Yield</th>\n      <th>sequence</th>\n    </tr>\n  </thead>\n  <tbody>\n    <tr>\n      <th>0</th>\n      <td>C001</td>\n      <td>T</td>\n      <td>C</td>\n      <td>A</td>\n      <td>C</td>\n      <td>T</td>\n      <td>C</td>\n      <td>G</td>\n      <td>G</td>\n      <td>G</td>\n      <td>...</td>\n      <td>C</td>\n      <td>G</td>\n      <td>T</td>\n      <td>A</td>\n      <td>A</td>\n      <td>C</td>\n      <td>A</td>\n      <td>Indica I</td>\n      <td>24.13</td>\n      <td>TCACTCGGGTGCGTAACA</td>\n    </tr>\n    <tr>\n      <th>1</th>\n      <td>C002</td>\n      <td>C</td>\n      <td>T</td>\n      <td>T</td>\n      <td>C</td>\n      <td>T</td>\n      <td>C</td>\n      <td>G</td>\n      <td>A</td>\n      <td>G</td>\n      <td>...</td>\n      <td>G</td>\n      <td>A</td>\n      <td>C</td>\n      <td>C</td>\n      <td>A</td>\n      <td>T</td>\n      <td>G</td>\n      <td>VI/Aromatic</td>\n      <td>15.18</td>\n      <td>CTTCTCGAGCGGACCATG</td>\n    </tr>\n    <tr>\n      <th>2</th>\n      <td>C003</td>\n      <td>C</td>\n      <td>T</td>\n      <td>T</td>\n      <td>C</td>\n      <td>G</td>\n      <td>C</td>\n      <td>G</td>\n      <td>A</td>\n      <td>G</td>\n      <td>...</td>\n      <td>G</td>\n      <td>A</td>\n      <td>C</td>\n      <td>C</td>\n      <td>G</td>\n      <td>T</td>\n      <td>G</td>\n      <td>Japonica Intermediate</td>\n      <td>24.54</td>\n      <td>CTTCGCGAGTGGACCGTG</td>\n    </tr>\n    <tr>\n      <th>3</th>\n      <td>C004</td>\n      <td>C</td>\n      <td>T</td>\n      <td>T</td>\n      <td>C</td>\n      <td>T</td>\n      <td>T</td>\n      <td>G</td>\n      <td>G</td>\n      <td>A</td>\n      <td>...</td>\n      <td>G</td>\n      <td>A</td>\n      <td>C</td>\n      <td>C</td>\n      <td>A</td>\n      <td>T</td>\n      <td>G</td>\n      <td>Temperate Japonica</td>\n      <td>18.82</td>\n      <td>CTTCTTGGATGGACCATG</td>\n    </tr>\n    <tr>\n      <th>4</th>\n      <td>C005</td>\n      <td>C</td>\n      <td>T</td>\n      <td>T</td>\n      <td>C</td>\n      <td>T</td>\n      <td>C</td>\n      <td>G</td>\n      <td>G</td>\n      <td>A</td>\n      <td>...</td>\n      <td>G</td>\n      <td>A</td>\n      <td>C</td>\n      <td>C</td>\n      <td>A</td>\n      <td>T</td>\n      <td>G</td>\n      <td>Tropical Japonica</td>\n      <td>22.50</td>\n      <td>CTTCTCGGACGGACCATG</td>\n    </tr>\n    <tr>\n      <th>...</th>\n      <td>...</td>\n      <td>...</td>\n      <td>...</td>\n      <td>...</td>\n      <td>...</td>\n      <td>...</td>\n      <td>...</td>\n      <td>...</td>\n      <td>...</td>\n      <td>...</td>\n      <td>...</td>\n      <td>...</td>\n      <td>...</td>\n      <td>...</td>\n      <td>...</td>\n      <td>...</td>\n      <td>...</td>\n      <td>...</td>\n      <td>...</td>\n      <td>...</td>\n      <td>...</td>\n    </tr>\n    <tr>\n      <th>524</th>\n      <td>W326</td>\n      <td>C</td>\n      <td>T</td>\n      <td>T</td>\n      <td>C</td>\n      <td>T</td>\n      <td>C</td>\n      <td>G</td>\n      <td>G</td>\n      <td>A</td>\n      <td>...</td>\n      <td>G</td>\n      <td>A</td>\n      <td>C</td>\n      <td>C</td>\n      <td>A</td>\n      <td>T</td>\n      <td>G</td>\n      <td>Japonica Intermediate</td>\n      <td>24.96</td>\n      <td>CTTCTCGGACGGACCATG</td>\n    </tr>\n    <tr>\n      <th>525</th>\n      <td>W327</td>\n      <td>C</td>\n      <td>T</td>\n      <td>T</td>\n      <td>C</td>\n      <td>G</td>\n      <td>T</td>\n      <td>A</td>\n      <td>G</td>\n      <td>A</td>\n      <td>...</td>\n      <td>C</td>\n      <td>G</td>\n      <td>C</td>\n      <td>A</td>\n      <td>A</td>\n      <td>T</td>\n      <td>G</td>\n      <td>Temperate Japonica</td>\n      <td>35.33</td>\n      <td>CTTCGTAGACACGCAATG</td>\n    </tr>\n    <tr>\n      <th>526</th>\n      <td>W328</td>\n      <td>C</td>\n      <td>T</td>\n      <td>T</td>\n      <td>C</td>\n      <td>T</td>\n      <td>C</td>\n      <td>G</td>\n      <td>G</td>\n      <td>A</td>\n      <td>...</td>\n      <td>C</td>\n      <td>G</td>\n      <td>C</td>\n      <td>C</td>\n      <td>G</td>\n      <td>T</td>\n      <td>A</td>\n      <td>Intermediate</td>\n      <td>7.69</td>\n      <td>CTTCTCGGACGCGCCGTA</td>\n    </tr>\n    <tr>\n      <th>527</th>\n      <td>W329</td>\n      <td>C</td>\n      <td>C</td>\n      <td>T</td>\n      <td>C</td>\n      <td>T</td>\n      <td>C</td>\n      <td>G</td>\n      <td>G</td>\n      <td>A</td>\n      <td>...</td>\n      <td>G</td>\n      <td>A</td>\n      <td>C</td>\n      <td>A</td>\n      <td>A</td>\n      <td>T</td>\n      <td>A</td>\n      <td>Tropical Japonica</td>\n      <td>34.71</td>\n      <td>CCTCTCGGACGGACAATA</td>\n    </tr>\n    <tr>\n      <th>528</th>\n      <td>W330</td>\n      <td>T</td>\n      <td>T</td>\n      <td>T</td>\n      <td>C</td>\n      <td>T</td>\n      <td>C</td>\n      <td>G</td>\n      <td>A</td>\n      <td>G</td>\n      <td>...</td>\n      <td>G</td>\n      <td>G</td>\n      <td>C</td>\n      <td>A</td>\n      <td>G</td>\n      <td>T</td>\n      <td>A</td>\n      <td>Aus</td>\n      <td>33.92</td>\n      <td>TTTCTCGAGCGGGCAGTA</td>\n    </tr>\n  </tbody>\n</table>\n<p>529 rows × 22 columns</p>\n</div>"
     },
     "execution_count": 12,
     "metadata": {},
     "output_type": "execute_result"
    }
   ],
   "source": [
    "mapping['sequence'] = mapping.apply(lambda x: ''.join(x[1:-2]), axis=1)\n",
    "mapping"
   ],
   "metadata": {
    "collapsed": false,
    "ExecuteTime": {
     "end_time": "2023-07-14T05:47:09.339687Z",
     "start_time": "2023-07-14T05:47:09.318298Z"
    }
   }
  },
  {
   "cell_type": "code",
   "execution_count": 13,
   "outputs": [],
   "source": [
    "mapping.to_csv('mapping_18.csv', index=False)"
   ],
   "metadata": {
    "collapsed": false,
    "ExecuteTime": {
     "end_time": "2023-07-14T05:47:52.229365Z",
     "start_time": "2023-07-14T05:47:52.206751Z"
    }
   }
  },
  {
   "cell_type": "code",
   "execution_count": 14,
   "outputs": [
    {
     "data": {
      "text/plain": "{'C001': 'TCACTCGGGTGCGTAACA',\n 'C002': 'CTTCTCGAGCGGACCATG',\n 'C003': 'CTTCGCGAGTGGACCGTG',\n 'C004': 'CTTCTTGGATGGACCATG',\n 'C005': 'CTTCTCGGACGGACCATG',\n 'C006': 'TTAATCGAGTGCGTAATA',\n 'C007': 'TTAATCGAGTGCGTAATA',\n 'C008': 'TCACTCGGGTGGGCAACA',\n 'C009': 'TCAATCGAGTGCGTAACA',\n 'C010': 'TTTCTCAGACGGACCATG',\n 'C011': 'TCAATCGGGTGCGTAACA',\n 'C012': 'CTTCGTAAACGCGCAATA',\n 'C013': 'TTTCTCGAGCGCGCAGCA',\n 'C014': 'CTTCTCAGACACGCCGTG',\n 'C015': 'TTACTCGAGCGGGCAGCA',\n 'C016': 'CTTCGTAGACACGCAATA',\n 'C017': 'CTTCGTGGATACGCCATA',\n 'C018': 'CTTCGTAGACGGACCATA',\n 'C019': 'TCAATCGGGTGCGTAACA',\n 'C020': 'TCAATCGGGTGCGTAACA',\n 'C021': 'TCACTCGGGTGCGTAACA',\n 'C022': 'CCAATCGGGCGCGCAACA',\n 'C023': 'CTTCGCGGACGGACCATG',\n 'C024': 'TCAATCGGGTGCGTAACA',\n 'C025': 'TCAATCGGGTGCGTAACA',\n 'C026': 'CTTCGTAGACACGCAATG',\n 'C027': 'TTAATCGGGTGCGTAATA',\n 'C028': 'CTTCGTAGACACGCCGTA',\n 'C029': 'CTTCTTAAATACGCCATG',\n 'C030': 'CCTATCGGGTGCGTAACA',\n 'C031': 'TTTATCGGATGCGTAACA',\n 'C032': 'CTTCTCGGACGGACCATG',\n 'C033': 'TCAATCGGGTGCGTAACA',\n 'C034': 'CTTCTCGGACAGACCGTG',\n 'C035': 'CTTCTCGAACGGACAGTG',\n 'C036': 'TCAATCGGGTGCGTAACA',\n 'C037': 'TCAATCGGGTGCGTAACA',\n 'C038': 'TTAATCGGATGCGTAACA',\n 'C039': 'TCAATCGGGTGCGTAACA',\n 'C040': 'TCAATCGGGTGCGTAACA',\n 'C041': 'TTAATCGGATGCGTAACA',\n 'C042': 'TCAATCGAGTGCGTAACA',\n 'C043': 'TCAATCGGGTGCGTAACA',\n 'C044': 'TCAATCGGGCGCGTAACA',\n 'C045': 'TCTATCGGGTGCGTAATA',\n 'C046': 'TCAATCGGGCGCGTAACA',\n 'C047': 'TCAATCGGGTGCGTAACA',\n 'C048': 'CTTCGCAAACACGCCATA',\n 'C049': 'TCAATCGGGTGCGTAACA',\n 'C050': 'TCAATCGGGTGCGTAACA',\n 'C051': 'TCTCTTAGACACGCAGTA',\n 'C052': 'CTTCGCAAACACGCCATG',\n 'C053': 'TCAATCGGGTGCGTAACA',\n 'C054': 'TTTCGTAAACACGTAATG',\n 'C055': 'TTACTCGGGCGCGTAACA',\n 'C056': 'CTTCGCAGACGGACAATG',\n 'C057': 'CTTCTCGGACACGCCATG',\n 'C058': 'TCAATCGGGTGCGTAACA',\n 'C059': 'TTAATCGAATGCGTAACA',\n 'C060': 'TTAATCGGGTGCGTAACA',\n 'C061': 'CCTATCGGGTGCGTAACA',\n 'C062': 'TCACTCGGGTGCGTAACA',\n 'C063': 'TTTCGTAAACACGTAATA',\n 'C064': 'TTTCGCAAACGGACAATA',\n 'C065': 'CCAATCGGGCGGATAACA',\n 'C066': 'TTACTCGGGTGCGTAATA',\n 'C067': 'TCTCGCAAACAGACAATA',\n 'C068': 'TCAATCGGGTGCGTAACA',\n 'C069': 'TCTATCGGGCGCGTAACA',\n 'C070': 'CTTCGCAGACACGCCGTA',\n 'C071': 'CCTCGCAAATAGACAATA',\n 'C072': 'CCAATCGAGTGCGTAACA',\n 'C073': 'TCAATCGGGTGCGTAACA',\n 'C074': 'CTTCGCGGACGGACAATG',\n 'C075': 'CCTCGCAAACACACAATA',\n 'C076': 'CCAATCGGGTGCGTAACA',\n 'C077': 'TCAATCGGGTGCGTAACA',\n 'C078': 'TTACTCGGGTGCGTAATA',\n 'C079': 'CTTCTCGGATGGACCATG',\n 'C080': 'TCAATCGGGTGCGCAACA',\n 'C081': 'CCAATCGGGTGCGTAACA',\n 'C082': 'CTTCGCAGACGGACAATA',\n 'C083': 'CTTCTCGGACAGACCATG',\n 'C084': 'TTTCTCGGATGGACCATG',\n 'C085': 'CTTCTCGGATGGACCATG',\n 'C086': 'TTTCTCGAGCGGGCAGCA',\n 'C087': 'TTTCTCAAATAGACCATG',\n 'C088': 'TTACTCGGGTGCGTAACA',\n 'C089': 'TTTCGCGAACAGACAATA',\n 'C090': 'TCAATCGGGTGCGTAACA',\n 'C091': 'TCAATCGGGTGCGTAACA',\n 'C092': 'TCAATCGGGTGCGTAACA',\n 'C093': 'CTTCTCGGACGGACCATG',\n 'C094': 'TCACTCGGGCGCGTAACA',\n 'C095': 'TCAATCGGGTGCGTAACA',\n 'C096': 'TCAATCGGATGCGTAACG',\n 'C097': 'CCAATCGGGCGCGTAACA',\n 'C098': 'CTACTCGGGTGCGTAACA',\n 'C099': 'CCTCTCGGATGCGTAACA',\n 'C100': 'CCAATCGGGTGCGTAACA',\n 'C101': 'CTTCTCGGATGGACCATG',\n 'C102': 'TCTATCGGACGGATAACA',\n 'C103': 'CTTCTCGGATGGACCATG',\n 'C104': 'TCAATCGGGTGCGCAACA',\n 'C105': 'TTTCTCGGGTGCGTAACA',\n 'C106': 'CTTCGCGGATGGACCATG',\n 'C107': 'TTAATCGGATGCGTAACA',\n 'C108': 'TCAATCGGGTGCGTAACA',\n 'C109': 'TCTCTCGGACGCGTAACA',\n 'C110': 'TTAATCGGGTGCGTAACA',\n 'C111': 'CTTCTCGGATGGACCATG',\n 'C112': 'TCAATCGGGCGCGTAACA',\n 'C113': 'CCAATCGGGTGCGTAACA',\n 'C114': 'TTAATCGGGTGCGTAACA',\n 'C115': 'TCAATCGGATGCGTAACA',\n 'C116': 'CTTCGCAGACACGCAGTG',\n 'C117': 'TCAATCGGGTGCGTAACA',\n 'C118': 'TCAATCGGGTGCGTAACA',\n 'C119': 'TCTCTCGGACACGTAATA',\n 'C120': 'CTTCGTAGACACGCCATA',\n 'C121': 'TCAATCGGGTGCGTAACA',\n 'C122': 'TTAATCGAATGCGTAACA',\n 'C123': 'CTTCTCGGATACGTCATA',\n 'C124': 'CCAATCGGGTGCGTAACG',\n 'C125': 'TCAATCGGGTGCGTAACA',\n 'C127': 'TCAATCGGGTGCGTAACA',\n 'C128': 'TCAATCGGGTGCGCAACA',\n 'C129': 'TCAATCGGGTGCGTAACA',\n 'C130': 'CTTCTCGGACGGACCATG',\n 'C131': 'TCAATCGGGTGCGTAACA',\n 'C132': 'CTAATCGGATGCGTAACA',\n 'C133': 'CTTCTCGGATGGACCATG',\n 'C134': 'CTTCTTAGACACGCCATA',\n 'C135': 'TTAATCGAATGCGTAATA',\n 'C136': 'TCAATCGGGCGCGTAACA',\n 'C137': 'CTTCTCGGATGGACCATG',\n 'C138': 'CTTCTCGGATGGACCATG',\n 'C139': 'CTAATCGGGTGCGTCACA',\n 'C140': 'TTAATCGGGTGCGTAACA',\n 'C141': 'TTACTCGGGTGCGTAACA',\n 'C142': 'TTAATCGGATGCGTAACA',\n 'C143': 'TTAATCGGGTGCGTAACA',\n 'C144': 'CTTCTCGGATGGACCATG',\n 'C145': 'TCAATCGGGTGCGTAACA',\n 'C146': 'CTTCGTAGACACGCAATG',\n 'C147': 'TCAATCGGGTGCGTAACA',\n 'C148': 'CCAATCGGGTGCGTAACA',\n 'C149': 'CTTCGTAGACACGCAATA',\n 'C150': 'CTTCGCAGACACGCCGTG',\n 'C151': 'CCAATCGGATGCGTAACA',\n 'C152': 'CTTCTTAAATACGCAATG',\n 'C153': 'CTTCTCGGACGGACCATA',\n 'C154': 'CTTCGCGGACGGACCGTG',\n 'C155': 'TCAATCGGGTGCGTAACA',\n 'C156': 'TTAATCGGGTGCGTAACA',\n 'C157': 'TCACTCGGGTGCGTAACA',\n 'C158': 'TCAATCGGGTGCGTAACA',\n 'C159': 'TCAATCGGGTGCGTAACA',\n 'C160': 'TTAATCGGGCGCGTAATA',\n 'C161': 'TCAATCGGGTGCGTAACA',\n 'C162': 'TCACTCGGGTGCGTAACA',\n 'C163': 'TTAATCGGGTGCGTAACA',\n 'C164': 'CCAATCGGATGCGTAACA',\n 'C165': 'TTAATCGGATGCGTAACA',\n 'C166': 'CCAATCGGGTGCGTAACA',\n 'C167': 'TCAATCGAGTGCGTAACA',\n 'C168': 'TCAATCGAGTGCGTAACA',\n 'C169': 'TCAATCGGGTGCGTAACA',\n 'C170': 'TCAATCGGGTGCGTAACA',\n 'C171': 'CTTCGCGGACGGACCATG',\n 'C172': 'CTTCGTAGACACGCAATA',\n 'C173': 'TCAATCGGGTGCGTAACA',\n 'C174': 'TCAATCGGGTGCGTAACA',\n 'C175': 'TTAATCGGGTGCGTAACA',\n 'C176': 'TCACTCGGGTGCGTAACA',\n 'C177': 'CTTCTCGGACGGACCGTG',\n 'C178': 'TCACTCGGGTGCGTAACA',\n 'C179': 'CTTCTCGGACGGACCATG',\n 'C180': 'CCAATCGGGTGCGTAACA',\n 'C181': 'CTTCGCGGACAGACCATG',\n 'C182': 'CCAATCGGGTGCGTAACA',\n 'C183': 'TCAATCGGGCGCGTAACA',\n 'C184': 'TTAATCGGGTGCGTAACA',\n 'C185': 'CTTCTCGGACGGACCATG',\n 'C186': 'TTTCTCGGACGGACCATG',\n 'C187': 'CTTCTCAGACGGACCATG',\n 'C188': 'CTTCTTGGACGGACCATG',\n 'C189': 'CTTCGCGGACACACCATA',\n 'C190': 'TCACTCGGGCGCGTAACA',\n 'C191': 'TTAATCGGGTGCGTAACA',\n 'C192': 'TTAATCGGGTGCGTAACA',\n 'C193': 'TTACTCGGGCGCGTAACA',\n 'C194': 'CCAATCGAGTGCGTAACA',\n 'C195': 'CTTCTCGGACGGACCATG',\n 'C196': 'CTTCTCGGATGGACCATG',\n 'C197': 'TCAATCGGGTGCGTAACA',\n 'C198': 'CCAATCGGATGCGTAACA',\n 'C199': 'TTAATCGGGTGCGCAACA',\n 'C200': 'TTACTCGGGTGCGTAACA',\n 'C201': 'TCAATCGGGCGCGTAACA',\n 'C202': 'TTAATCGGATGCGTAACA',\n 'C203': 'TCACTCGGGTGCGTAACA',\n 'W001': 'TTACTCGGGTGCGTAACA',\n 'W002': 'CTTCTCGGACGGACCATG',\n 'W003': 'CTTCTCGGACGGACCATG',\n 'W004': 'CTTCTCGGACGGACCATG',\n 'W005': 'CTTCTCGGACGGGTCATG',\n 'W006': 'TTTCTCGGACGGACCATG',\n 'W007': 'TTTCTCGGACGGACCATG',\n 'W008': 'TTTCTCGGACGGACCATG',\n 'W009': 'TTAATCGGATGCGTAATA',\n 'W010': 'TTTCTCGGACACGCCGTG',\n 'W011': 'CTTCTCGGACGGACCGTG',\n 'W012': 'CTTCTCGGACACACCGTG',\n 'W013': 'CTTCGCAGATACGTCGTG',\n 'W014': 'CTTCTCGAGCGGATAATG',\n 'W015': 'TCTCTCGAGCGGGTAGCA',\n 'W016': 'CTTCTCGGATGGACAGTG',\n 'W017': 'TTTCTCGGACGGACCATG',\n 'W018': 'CTTCTCGGACGGACCGTG',\n 'W019': 'TTTCTCGGACGGACCGTG',\n 'W020': 'TTTCTCGAGCGGGCAGCA',\n 'W021': 'TTTCTCGGATGGACCATG',\n 'W022': 'CTTCTCGGACGGGCCATG',\n 'W023': 'TTACTCGAATGCGTAACA',\n 'W024': 'CTTCTCGGACGGGTCATG',\n 'W025': 'CTTCTCGAGCGGGCAGTA',\n 'W026': 'TCAATCGGGCGCGCAACA',\n 'W027': 'CTTCTCGGACGGACCGTG',\n 'W028': 'TTTCTCGAGCGGGCAGTA',\n 'W029': 'TTACTCGGGCGCGTAACA',\n 'W030': 'TCACTCGGGCGCGTAATA',\n 'W031': 'CTAATCGGGCGCGTAACA',\n 'W032': 'TTAATCGGGCGCGTAACA',\n 'W033': 'TCACTCGGGTGCGTAACA',\n 'W034': 'TCACTCGAGCGGGTAGCA',\n 'W035': 'TTACTCGGATGCGCAATA',\n 'W036': 'TCAATCGGGTGCGTAACA',\n 'W037': 'TTTATCGAGTGCGCAGCA',\n 'W038': 'CTTCGTAAACACGCAATA',\n 'W039': 'TCAATCGGGCGCGTAACA',\n 'W040': 'CCTATCGGGCGCGTAACA',\n 'W041': 'CTTCTCGGATGGGCCATG',\n 'W042': 'TTTCGCGGGCGGGTAACA',\n 'W043': 'TCTATCGGGTGCGTAACA',\n 'W044': 'TCTATCGGGTGCGTAACA',\n 'W045': 'CTTCTCGGACAGGCCGTG',\n 'W046': 'TCAATCGGGTGCGTAACA',\n 'W047': 'CTTCTCGGATGGACCATG',\n 'W048': 'TTACTCGAACGGGTAGCA',\n 'W049': 'CTTCTCGAGCGGGCAGTA',\n 'W050': 'CTTCTCGAACGGACCGTG',\n 'W051': 'TCAATCGGATGCGCAGCA',\n 'W052': 'CTTCTCGGACGGACCGTG',\n 'W053': 'TTTCTCGGACGGACCATG',\n 'W054': 'TCACTCGGGTGCGTAACA',\n 'W055': 'CTTCTCGGATGCGTCATG',\n 'W056': 'CTTCGTAGACAGGCAATA',\n 'W057': 'TTTCTCGGACGGACCATG',\n 'W058': 'TCACTCGGACGCGTAACA',\n 'W059': 'CTTCGCAGACACGCCGTG',\n 'W060': 'CTTCGCAGACGGACCATG',\n 'W061': 'CTTCTCGGACGGATCGTG',\n 'W062': 'TTTCTCGAACGGGCCATG',\n 'W063': 'CTTCTCGGACGGATCGTG',\n 'W064': 'CTTCTCGGACGGACCGTG',\n 'W065': 'TTTCTCGGACGGACCATG',\n 'W066': 'TTAATCGGGCGGACAATG',\n 'W067': 'CTTCTCGAACGGGCCATG',\n 'W068': 'CTTCGCGGACGGACCGTG',\n 'W069': 'TCACTCGAGCGCGCAGTA',\n 'W070': 'TCAATCGGGCGCGTAACA',\n 'W071': 'TTAATCGAATGCGTAACA',\n 'W072': 'CCTCTCGAGCGGGCAGTA',\n 'W073': 'CCAATCGGGCGCGTAACA',\n 'W074': 'TCAATCGGGTGCGTAACA',\n 'W075': 'TCTATCGGGTGCGTAACA',\n 'W076': 'TTACTCGAGCGGACAACA',\n 'W077': 'CTTCTCGAGTGGACCATG',\n 'W078': 'CCACTCGGGTGCGTAACG',\n 'W079': 'TTACTCGAATGCGTAACG',\n 'W080': 'TTAATCGGGCGCGTAACA',\n 'W081': 'CTTCTCGAATGGACCGTG',\n 'W082': 'CTTCGCGGACAGACCGTG',\n 'W083': 'TCAATCGGGTGCGTAATA',\n 'W084': 'TCTCTCGGGTGCGTAACA',\n 'W085': 'CCAATCGGGTGCGTAACA',\n 'W086': 'TCTATCGGGTGCGTAATA',\n 'W087': 'CCAATCGGGTGCGTAACA',\n 'W088': 'CTTCGTAAACGGGCAATG',\n 'W089': 'CCAATCGGATGCGTAACA',\n 'W090': 'TTTCTCGAGCGCGCAACA',\n 'W091': 'TTTCTCGAGCGCACAGCA',\n 'W092': 'TTTCTCGAGCGGACAGCA',\n 'W093': 'TCAATCGGATGCGCAACA',\n 'W094': 'TTACTCGAGTGGGCAGCA',\n 'W095': 'TTACTCGAGCGCGCAACA',\n 'W096': 'TTTCTCGAGCGGGCAGCA',\n 'W097': 'TTTCTCGGGTGGACAATG',\n 'W098': 'TTTCTCGAGCGCGCAGCA',\n 'W099': 'CTTCTCGAGTGGACAGCA',\n 'W100': 'CTTCTCGAGTGGGCAACA',\n 'W101': 'TTAATCGGGTGCGTAACA',\n 'W102': 'CTTCTCGGATGGACCATG',\n 'W103': 'CTTCTCGAGCTGTACTCAAAATGGGCAGCA',\n 'W104': 'TTACTCGAGTGCGCAGCA',\n 'W105': 'CTTCTCGAGTGGGCAGCA',\n 'W106': 'CTTCTCGAGTGGGCAGCA',\n 'W107': 'TTTCTCGGGCGCGTAACA',\n 'W108': 'TTTCTCGAGCGGGCAACA',\n 'W109': 'CTTCTCGGACGGACCGTG',\n 'W110': 'CTTCTCGGACGGACCATG',\n 'W111': 'TTAATCGGATGCGTAATA',\n 'W112': 'TTAATCGGGCGCGTAACA',\n 'W113': 'CTTCTCGGACGGGCCATG',\n 'W114': 'TTACTCGGATGCGTAACA',\n 'W115': 'TTTATCGAGTGGGCAGCA',\n 'W116': 'CTTCTCGAACGGACCATG',\n 'W117': 'CTTCTCGGACACACCGTG',\n 'W118': 'CTTCTCGGACGGACCATG',\n 'W119': 'CTTCTCGGACGGACCATG',\n 'W120': 'CTTCGCGGACGGACCATG',\n 'W121': 'TTACTCGAGTGGGCAGCA',\n 'W122': 'CTTCTCGGACGGACCATG',\n 'W123': 'TTTCTCGGACGGACCATG',\n 'W124': 'CCAATCGGGTGCGTAACA',\n 'W125': 'CCTCTCGGGTGCGCCATG',\n 'W126': 'TCAATCGGGTGCGCAACA',\n 'W127': 'CTTCTCGGATGGACCATG',\n 'W128': 'TTTCTCGGGCGCGCAATG',\n 'W129': 'CTTCGCGAGTGGACAATA',\n 'W130': 'CTTCTCAGACGGACCGTG',\n 'W131': 'TTTCTCGAACGGGCAGCA',\n 'W132': 'TCAATCGGGTGCGTAACA',\n 'W133': 'TCAATCGGATGCGTAACA',\n 'W134': 'TCTCTCGAGCGGGCAGCA',\n 'W135': 'CCTCTCGAGCGCGTAACA',\n 'W136': 'CTTCTCGAGTGGACAGTG',\n 'W137': 'TCTATCGGGTGCGTAACA',\n 'W138': 'TCAATCGGGCGCGTAACA',\n 'W139': 'CTTCTCGGACAGACCGTG',\n 'W140': 'TTTCTCGAGCGGACAGCA',\n 'W141': 'TCACTCGAGCGCGCAATA',\n 'W142': 'TTTCTCGAGCGGGCAGTA',\n 'W143': 'CTTCTCGGACGGACCATG',\n 'W144': 'TCAATCGGGTGCGTAACA',\n 'W145': 'TCAATCGGGCGCGCAACA',\n 'W146': 'TCACTCGAGCGCGTAACA',\n 'W147': 'TCAATCGGGTGCGTAACA',\n 'W148': 'TTAATCGGGCGCGTAACA',\n 'W149': 'TCAATCGGGTGCGTAACA',\n 'W150': 'TCACTCGGGTGGATAGCA',\n 'W151': 'TCAATCGGGTGCGTAATA',\n 'W152': 'TCAATCGGGTGCGTAACA',\n 'W153': 'TCAATCGGGTGCGTAACA',\n 'W154': 'TCAATCGAGTGCGTAACA',\n 'W155': 'TCAATCGAGTGCGTAACA',\n 'W156': 'CCAATCGAGTGCGTAACA',\n 'W157': 'CCTATCGAGTGCGTAACA',\n 'W158': 'TCTCTCGGGCGCGTAATA',\n 'W159': 'TCAATCAGGTGCGTAACA',\n 'W160': 'TTTCGTAGACACGCAGTG',\n 'W161': 'TCAATCGGGTGCGTAACG',\n 'W162': 'TTTCGTAAACACGCAATA',\n 'W163': 'TCAATCGAGTGCGTAACA',\n 'W164': 'TCTATCGGGTGCGTAACA',\n 'W165': 'TCAATCGAGTGCGTAACA',\n 'W166': 'TCAATCGGGTGCGTAACA',\n 'W167': 'TCAATCGGGTGCGTAACA',\n 'W168': 'TCTATCGGGTGCGTAACA',\n 'W169': 'TCAATCGGGTGCGTAACA',\n 'W170': 'TCAATCGGGCGCGTAACA',\n 'W171': 'TCTATCGGGTGCGTAACA',\n 'W172': 'CCAATCGGGCGCGTAACA',\n 'W173': 'CTAATCGGACGGACCATG',\n 'W174': 'CCAATCGGGTGCGTAACA',\n 'W175': 'CTTATCGGGCACGCAATA',\n 'W176': 'TCAATCGGGTGCGTAACA',\n 'W177': 'CCAATCGGGTGCGTAACA',\n 'W178': 'TCTATCGGGTGCGCAACA',\n 'W179': 'TCAATCGGGTGCGCAACA',\n 'W180': 'TCTATCGGGTGCGTAATA',\n 'W181': 'CCTATCGGGTGCGTAACA',\n 'W182': 'TCAATCGGGTGCGTAACA',\n 'W183': 'TCAATCGGGTGCGTAACA',\n 'W184': 'CCAATCGGGTGCGCAACA',\n 'W185': 'TCAATCGGGTGCGTAACA',\n 'W186': 'CCAATCGAGTGCGTAACA',\n 'W187': 'CCAATCGAGTGCGTAACA',\n 'W188': 'TCAATCGGGTGCGTAACA',\n 'W189': 'TCAATCGGGTGCGTAATA',\n 'W191': 'TTTATCGGGTGGACCATG',\n 'W192': 'TTTATCGGGCGGATCATG',\n 'W193': 'TTTCGTAGACACGCAATG',\n 'W194': 'TCAATCGGGTGCGCAACA',\n 'W195': 'TCTATCGGGTGCGTAACA',\n 'W197': 'TCAATCGGGTGCGTAATA',\n 'W198': 'TTAATCGGGCGCGTAACA',\n 'W199': 'TCAATCGGATGCGTAACA',\n 'W200': 'CCAATCGGGTGCGTAACA',\n 'W201': 'TTAATCGGGTGCGTAACA',\n 'W202': 'TCAATCGGGTGCGTAACA',\n 'W203': 'TCAATCGGGCGCGTAACA',\n 'W204': 'TCAATCGGGTGCGTAACA',\n 'W205': 'TCAATCGGGTGCGTAACA',\n 'W206': 'CCAATCGGATGCGTAACA',\n 'W207': 'TTTCTTAGACGGACCATA',\n 'W208': 'CTTCTCAAACACGCAATG',\n 'W209': 'TTTCGTAGACACGCAATG',\n 'W210': 'TCAATCGGGCGCGTAACA',\n 'W211': 'TCAATCGGGTGCGCAACA',\n 'W212': 'CCAATCGAATGCGTAACA',\n 'W213': 'TCAATCGGGTGGATAATA',\n 'W214': 'TTTCTCGAGCGGGCAGTA',\n 'W215': 'TTTCTCGAGCGGGTAGTA',\n 'W216': 'CCTATCGGGCGCGTAACA',\n 'W217': 'TTACTCGGGCGGATAATA',\n 'W218': 'TTACTCGGGCGGATAATA',\n 'W219': 'CTTCTCGAGCGGACCATG',\n 'W220': 'CTTCTCGAGTGGACCATG',\n 'W221': 'TCTATCGGGTGCGCAATA',\n 'W222': 'TCAATCGGGTGCGTAACA',\n 'W223': 'TCAATCGGATGCGTAACA',\n 'W224': 'TCTATCGGGTGCGTAACA',\n 'W225': 'TTTCTCGGACGGACCATG',\n 'W226': 'CTTCTCAGACACGCCGTG',\n 'W227': 'TCAATCGGGTGCGTAACA',\n 'W228': 'TCAATCGGGCGCGTAACA',\n 'W229': 'TCAATCGGGTGCGTAACA',\n 'W230': 'TCTATCGGGTGCGTAACA',\n 'W231': 'TCAATCGGGTGCGTAACA',\n 'W233': 'CCAATCGGGTGCGTAACA',\n 'W234': 'TCAATCGGGTGCGTAACA',\n 'W235': 'TCAATCGGACGCGTAACA',\n 'W236': 'TCAATCGGGCGGATAACA',\n 'W237': 'CCAATCGGGTGCGTAACA',\n 'W238': 'TCTATCGGGTGCGTAACA',\n 'W239': 'CCTATCGGGTGCGTAACA',\n 'W240': 'CCAATCGGGTGCGTAACA',\n 'W241': 'CCAATCGGATGCGCAACA',\n 'W242': 'TCAATCGGGTGCGTAATA',\n 'W243': 'TCAATCGGGCGGATAACA',\n 'W244': 'TCAATCGGGCGGATAACA',\n 'W245': 'TTTATCGGGTGGATAATA',\n 'W246': 'TCAATCGGGCGCGTAACA',\n 'W247': 'CCAATCGGGCGCGTAACA',\n 'W248': 'TCAATCGGGTGCGTAATA',\n 'W249': 'CTTCTCAGACGGACCGTG',\n 'W250': 'CTTCTCAGACGGACCGTG',\n 'W251': 'TTTCTCGGACAGACCATG',\n 'W252': 'CTTCTCGAGCGGACCATG',\n 'W253': 'TTTCTCGGACGGACCATG',\n 'W254': 'CTTCTCGGACGGACCATG',\n 'W255': 'CTTCTCGAGCGGACCATG',\n 'W256': 'CTTCTCGAACGGACCATG',\n 'W257': 'TTTCTCGGACGGACCATG',\n 'W258': 'CTTCTCGAACGGACCATG',\n 'W259': 'CCAATCGGGCGGATAACA',\n 'W260': 'TTTCTCGGACGGACCATG',\n 'W261': 'CTACTCGAATGGACCGCA',\n 'W262': 'TCAATCGGGTGCGTAACA',\n 'W263': 'TCAATCGGGTGCGTAATA',\n 'W264': 'TCTATCGGGTGCGTAACA',\n 'W265': 'TCAATCGGGTGCGTAATA',\n 'W266': 'CTACTCGGGTGCGTAATA',\n 'W267': 'TCAATTGGGCGCGTAACA',\n 'W268': 'TCTATCGAGTGCGTAACA',\n 'W269': 'TCAATCGGGTGCGTAACA',\n 'W270': 'CCAATCGGGTGCGTAACA',\n 'W271': 'TCTATCGGGTGCGTAACA',\n 'W272': 'TCAATCGGGTGCATAACA',\n 'W273': 'CTTCTCGGACGGGCCATG',\n 'W274': 'TCACTCGGGTGCGTAACA',\n 'W275': 'TTTCTCGGACGGACCATG',\n 'W276': 'TCAATCGGGTGCGTAACA',\n 'W277': 'TTACTCGAGCGGGCAGCA',\n 'W278': 'TTTCTCGAGCGGGCAGTA',\n 'W279': 'TTACTCGAGTGCGCAATA',\n 'W280': 'CTTCTCGAGTGGGCAGCA',\n 'W281': 'CTTCGCGGACGGACCGCG',\n 'W282': 'TCACTCGGATGCGTAACA',\n 'W283': 'CTTCGCGGACGGACAGTG',\n 'W284': 'TTTCTCGAACGGACCATG',\n 'W285': 'CTTCTCGGACGGATCATG',\n 'W286': 'TTTCTCGAGTGGGCAACA',\n 'W287': 'TCACTCGAGCGGGCAACA',\n 'W288': 'CTTCTCGGACGGACCATG',\n 'W289': 'TCAATCGGGTGCGTAACA',\n 'W290': 'CTTCGTAGACACGCAATA',\n 'W291': 'TCAATCGGGTGCGTAACA',\n 'W292': 'TTTCTCGAGTGGGCAACA',\n 'W293': 'TCAATCGGGCGCGTAACA',\n 'W294': 'TTTATCGGACGCACCACA',\n 'W295': 'TCAATCGGGTGCGTAACA',\n 'W296': 'TCACTCGAGCGGACAGTA',\n 'W297': 'TCACTCGAGCGGATAGTA',\n 'W298': 'CCAATCGGGCGCGTAACA',\n 'W299': 'TCAATCGGGTGGGCAACA',\n 'W300': 'CTTCTCGGACGGACCATA',\n 'W301': 'TCAATCGGGTGCGCAACA',\n 'W302': 'TTTCTCGAACGGGCCACG',\n 'W303': 'TTTCTCGGATGGACCATG',\n 'W304': 'CTTCTCGGGCGGATAACG',\n 'W305': 'CTTCGCAGACACGCAATG',\n 'W306': 'CTTCTCGAGTGGACCATG',\n 'W307': 'TCAATCGGGTGCGTAACA',\n 'W308': 'TTTCTCGGGCGCGTAATA',\n 'W309': 'TTAATCGGGTGCGTAACA',\n 'W310': 'CCTATCGGGTGCGCAACA',\n 'W311': 'CCAATCGGGTGCGTAACA',\n 'W312': 'TCAATCGGGTGCGCAACA',\n 'W313': 'CCAATCGGGTGCGTAACA',\n 'W314': 'CCAATCGGGTGCGTAACA',\n 'W315': 'TCAATCGGGTGCGTAACA',\n 'W316': 'CTAATCGGGCGCGCAACA',\n 'W317': 'CCAATCGGGTGCGCAACA',\n 'W318': 'TCAAGCGAGCGCGTAACA',\n 'W319': 'CTTCTCGGATGGACCATG',\n 'W320': 'TTACTCGGGTGCGTAATA',\n 'W321': 'TCTATCGGATGCGTAACA',\n 'W322': 'TCAATCGGGTGCGTAACA',\n 'W323': 'CTTCTCGGACGGACCATG',\n 'W324': 'CTTCTCGGACGGACCATG',\n 'W325': 'CTTCGCGGATGCGCCATG',\n 'W326': 'CTTCTCGGACGGACCATG',\n 'W327': 'CTTCGTAGACACGCAATG',\n 'W328': 'CTTCTCGGACGCGCCGTA',\n 'W329': 'CCTCTCGGACGGACAATA',\n 'W330': 'TTTCTCGAGCGGGCAGTA'}"
     },
     "execution_count": 14,
     "metadata": {},
     "output_type": "execute_result"
    }
   ],
   "source": [
    "sequences = []\n",
    "for i in range(mapping.shape[0]):\n",
    "    sequences.append((mapping.iloc[i, 0], mapping.iloc[i, -1]))\n",
    "sequences_dict = dict()\n",
    "for x, y in sequences:\n",
    "    sequences_dict[x]=y\n",
    "sequences_dict"
   ],
   "metadata": {
    "collapsed": false,
    "ExecuteTime": {
     "end_time": "2023-07-14T05:48:02.819719Z",
     "start_time": "2023-07-14T05:48:02.796271Z"
    }
   }
  },
  {
   "cell_type": "code",
   "execution_count": 15,
   "outputs": [],
   "source": [
    "filename = 'sequences_18.fasta'\n",
    "\n",
    "# open the output file for writing\n",
    "with open(filename, 'w') as f:\n",
    "\n",
    "    # iterate over each sequence and write to the file in FASTA format\n",
    "    for seq in sequences:\n",
    "        cultivar_id, sequence = seq\n",
    "        name = cultivar_id\n",
    "        f.write(f'>{name}\\n{sequence}\\n')"
   ],
   "metadata": {
    "collapsed": false,
    "ExecuteTime": {
     "end_time": "2023-07-14T05:49:27.079909Z",
     "start_time": "2023-07-14T05:49:27.072725Z"
    }
   }
  },
  {
   "cell_type": "code",
   "execution_count": 16,
   "outputs": [
    {
     "name": "stdout",
     "output_type": "stream",
     "text": [
      "\n",
      "dyld[35066]: Library not loaded: /opt/homebrew/opt/gcc/lib/gcc/11/libgomp.1.dylib\n",
      "  Referenced from: <D5494CF5-F902-3CA7-AD7D-88F4B7A3611E> /usr/local/bin/muscle\n",
      "  Reason: tried: '/opt/homebrew/opt/gcc/lib/gcc/11/libgomp.1.dylib' (no such file), '/System/Volumes/Preboot/Cryptexes/OS/opt/homebrew/opt/gcc/lib/gcc/11/libgomp.1.dylib' (no such file), '/opt/homebrew/opt/gcc/lib/gcc/11/libgomp.1.dylib' (no such file), '/usr/local/lib/libgomp.1.dylib' (no such file), '/usr/lib/libgomp.1.dylib' (no such file, not in dyld cache)\n",
      "\n"
     ]
    }
   ],
   "source": [
    "from Bio import AlignIO\n",
    "from Bio.Phylo.TreeConstruction import DistanceCalculator, DistanceTreeConstructor\n",
    "from Bio import Phylo\n",
    "# script to run muscle command line\n",
    "\n",
    "import subprocess\n",
    "\n",
    "# Set the input and output file names\n",
    "input_file = \"sequences_18.fasta\"\n",
    "output_file = \"aligned_18.fasta\"\n",
    "\n",
    "# Define the MUSCLE command as a list of arguments\n",
    "muscle_command = [\"muscle\", \"-align\", input_file, \"-output\", output_file]\n",
    "\n",
    "# Run the MUSCLE command using subprocess\n",
    "process = subprocess.Popen(muscle_command, stdout=subprocess.PIPE, stderr=subprocess.PIPE)\n",
    "\n",
    "# Get the standard output and error messages\n",
    "stdout, stderr = process.communicate()\n",
    "\n",
    "# Print the standard output and error messages\n",
    "print(stdout.decode())\n",
    "print(stderr.decode())\n"
   ],
   "metadata": {
    "collapsed": false,
    "ExecuteTime": {
     "end_time": "2023-07-14T05:49:40.341536Z",
     "start_time": "2023-07-14T05:49:40.141031Z"
    }
   }
  },
  {
   "cell_type": "code",
   "execution_count": 20,
   "outputs": [],
   "source": [
    "# Read in the FASTA file and create phylogenetic tree\n",
    "alignment = AlignIO.read(\"aligned_18.fasta\", \"fasta\")\n",
    "\n",
    "# Calculate the distance matrix\n",
    "calculator = DistanceCalculator('identity')\n",
    "dm = calculator.get_distance(alignment)\n",
    "\n",
    "# Construct the tree using the UPGMA\n",
    "constructor = DistanceTreeConstructor(calculator, 'upgma')\n",
    "tree = constructor.build_tree(alignment)\n"
   ],
   "metadata": {
    "collapsed": false,
    "ExecuteTime": {
     "end_time": "2023-07-14T06:10:40.247669Z",
     "start_time": "2023-07-14T06:10:16.946024Z"
    }
   }
  },
  {
   "cell_type": "code",
   "execution_count": 21,
   "outputs": [
    {
     "name": "stdout",
     "output_type": "stream",
     "text": [
      "               __________ W261\n",
      "              |\n",
      "              |      ______ W129\n",
      "              |     |\n",
      "              |     |     _ W100\n",
      "              |    _|    |\n",
      "         _____|   | |   ,| , W280\n",
      "        |     |   | |   || |\n",
      "        |     |   | |   ||_| W106\n",
      "        |     |   | |___|  |\n",
      "        |     |   |     |  | W105\n",
      "        |     |   |     |\n",
      "        |     |   |     |__ W099\n",
      "        |     |___|\n",
      "        |         |       ___ W136\n",
      "        |         |     ,|\n",
      "        |         |     ||___ W016\n",
      "        |         |    _|\n",
      "        |         |   | |   _ W050\n",
      "        |         |   | | ,|\n",
      "        |         |   | |_||_ W081\n",
      "        |         |   |   |\n",
      "        |         |___|   |__ C035\n",
      "        |             |\n",
      "        |             | _____ C003\n",
      "        |             ||\n",
      "        |             ||       , W219\n",
      "        |             ||       |\n",
      "        |             ||       | W252\n",
      "        |              |       |\n",
      "        |              |      _| W255\n",
      "        |              |     | |\n",
      "        |              |     | | C002\n",
      "        |              |_____|\n",
      "        |                    | , W306\n",
      "        |                    | |\n",
      "        |                    |_| W220\n",
      "        |                      |\n",
      "        |                      | W077\n",
      "        |\n",
      "        |              _______ W173\n",
      "        |             |\n",
      "        |          ___|   ____ W192\n",
      "        |         |   | _|\n",
      "        |         |   || |____ W191\n",
      "        |     ____|    |\n",
      "        |    |    |    |______ W066\n",
      "        |    |    |\n",
      "        |    |    |___________ W294\n",
      "        |    |\n",
      "  ______|    |         ___________ W042\n",
      " |      |    |        |\n",
      " |      |    |       ,|           ___ W304\n",
      " |      |    |       ||     _____|\n",
      " |      |    |       ||    |     |___ W014\n",
      " |      |    |       ||____|\n",
      " |      |    |       |     |    _____ W128\n",
      " |      |    |       |     |___|\n",
      " |      |    |       |         |_____ W097\n",
      " |      |    |     __|\n",
      " |      |    |    |  |    ________ W150\n",
      " |      |    |    |  |   |\n",
      " |      |    |    |  |   |          , W217\n",
      " |      |    |    |  |   |     _____|\n",
      " |      |    |    |  |   |    |     | W218\n",
      " |      |    |    |  |   |____|\n",
      " |      |    |    |  |   |    |  ___ W245\n",
      " |      |    |    |  |___|    |_|\n",
      " |      |    |    |      |      |___ W213\n",
      " |      |    |    |      |\n",
      " |      |    |    |      |    ____ C102\n",
      " |      |    |    |      |   |\n",
      " |      |    |    |      |___|      , W259\n",
      " |      |    |    |          |     _|\n",
      " |      |    |    |          |    | | C065\n",
      " |      |    |    |          |____|\n",
      " |      |    |    |               | , W244\n",
      " |      |    |    |               | |\n",
      " |      |    |    |               |_| W236\n",
      " |      |    |    |                 |\n",
      " |      |    |    |                 | W243\n",
      " |      |    |    |\n",
      " |      |    |    |                              _ W037\n",
      " |      |    |    |                     ________|\n",
      " |      |    |    |                    |        |_ W115\n",
      " |      |    |    |                    |\n",
      " |      |    |    |                    |          _ C008\n",
      " |      |    |    |                    |      ___|\n",
      " |      |    |    |                    |     |   |_ W299\n",
      " |      |    |    |                    |     |\n",
      " |      |    |    |              ______|     |       _ W093\n",
      " |      |    |    |             |      |     |     _|\n",
      " |      |    |    |             |      |     |    | |_ W241\n",
      " |      |    |    |             |      |     |   ,|\n",
      " |      |    |    |             |      |     |   ||   , W184\n",
      " |      |____|    |             |      |     |   ||___|\n",
      " |           |    |             |      |     |   |    | W317\n",
      " |           |    |             |      |_____|   |\n",
      " |           |    |             |            |   | __ C199\n",
      " |           |    |             |            | __||\n",
      " |           |    |             |            ||  ||  , W211\n",
      " |           |    |             |            ||  ||  |\n",
      " |           |    |             |            ||  ||  | W194\n",
      " |           |    |             |            ||  ||  |\n",
      " |           |    |             |            ||  ||  | W179\n",
      " |           |    |             |            ||  ||  |\n",
      " |           |    |             |            ||  ||  | C080\n",
      " |           |    |             |            ||   |  |\n",
      " |           |    |             |            ||   |  | C128\n",
      " |           |    |             |             |   |  |\n",
      " |           |    |             |             |   |  | W301\n",
      " |           |    |             |             |   |  |\n",
      " |           |    |             |             |   |  | W126\n",
      " |           |    |             |             |   |  |\n",
      " |           |    |             |             |   |__| W312\n",
      " |           |    |             |             |      |\n",
      " |           |    |             |             |      | C104\n",
      " |           |    |             |             |\n",
      " |           |    |             |             |____ W051\n",
      " |           |    |             |\n",
      " |           |    |             |           _____ W048\n",
      " |           |    |             |          |\n",
      " |           |    |             |         _|    _ W015\n",
      " |           |    |             |        | |  ,|\n",
      " |           |    |      _______|        | |__||_ W134\n",
      " |           |    |     |       |        |    |\n",
      " |           |    |     |       |        |    |__ W034\n",
      " |           |    |     |       |        |\n",
      " |           |    |     |       |        |       ___ W287\n",
      " |           |    |     |       |        |     ,|\n",
      " |           |    |     |       |        |     ||___ W076\n",
      " |           |    |     |       |        |     |\n",
      " |           |    |     |       |      __|    _|     _ W095\n",
      " |           |    |     |       |     |  |   | |   _|\n",
      " |           |    |     |       |     |  |   | |  | |_ W090\n",
      " |           |    |     |       |     |  |   | |__|\n",
      " |           |    |     |       |     |  |   |    |   , W292\n",
      " |           |    |     |       |     |  |   |    |  _|\n",
      " |           |    |     |       |     |  |   |    |_| | W286\n",
      " |           |    |     |       |     |  |   |      |\n",
      " |           |    |     |       |     |  |   |      |_ W108\n",
      " |           |    |     |       |     |  |   |\n",
      " |           |    |     |       |     |  |___|       __ W104\n",
      " |           |    |     |       |     |      |     ,|\n",
      " |           |    |     |       |     |      |     ||  , W121\n",
      " |           |____|     |       |     |      |     ||__|\n",
      " |                |     |       |     |      |   __|   | W094\n",
      " |                |     |       |     |      |  |  |\n",
      " |                |     |       |     |      |  |  |   , W277\n",
      " |                |     |       |     |      |  |  |___|\n",
      " |                |     |       |     |      |  |      | C015\n",
      " |                |     |       |     |      |  |\n",
      " |                |     |       |     |      |  |   ___ W131\n",
      " |                |     |       |     |      |__|  |\n",
      " |                |     |       |     |         | ,| __ W103\n",
      " |                |     |       |     |         | |||\n",
      " |                |     |       |     |         | |||  , W096\n",
      " |                |     |       |     |         | | |  |\n",
      " |                |     |       |_____|         | | |__| W020\n",
      " |                |     |             |         | |    |\n",
      " |                |     |             |         |_|    | C086\n",
      " |                |     |             |           |\n",
      " |                |     |             |           |    _ W091\n",
      " |                |     |             |           |  _|\n",
      " |                |     |             |           | | | , W098\n",
      " |                |     |             |           | | |_|\n",
      " |                |     |             |           |_|   | C013\n",
      " |                |     |             |             |\n",
      " |                |     |             |             |   , W140\n",
      " |                |     |             |             |___|\n",
      " |                |     |             |                 | W092\n",
      " |                |     |             |\n",
      " |                |     |             |                _ W072\n",
      " |                |     |             |             __|\n",
      " |                |     |             |            |  | , W049\n",
      " |                |     |             |            |  |_|\n",
      " |                |     |             |            |    | W025\n",
      " |                |     |             |       _____|\n",
      " |                |     |             |      |     |   _ W215\n",
      " |                |     |             |      |     |  |\n",
      " |                |     |             |      |     |  | , W330\n",
      " |                |     |             |      |     |  | |\n",
      " |                |     |             |      |     |__| | W028\n",
      " |                |     |             |      |        | |\n",
      " |                |     |             |      |        | | W214\n",
      " |                |     |             |______|        | |\n",
      " |                |     |                    |        |_| W142\n",
      " |                |     |                    |          |\n",
      " |                |     |                    |          | W278\n",
      " |                |     |                    |\n",
      " |                |     |                    |           _ W069\n",
      " |                |     |                    |      ____|\n",
      " |                |     |                    |     |    |_ W141\n",
      " |                |     |                    |_____|\n",
      " |                |     |                          |     _ W297\n",
      " |                |     |                          |____|\n",
      " |                |     |                               |_ W296\n",
      " |                |     |\n",
      " |                |     |           ______ W318\n",
      " |                |     |          |\n",
      " |                |     |          |       __ W316\n",
      " |                |     |          |      |\n",
      " |                |     |          |      |  , W148\n",
      " |                |     |          |      |  |\n",
      " |                |     |          |      |  | W032\n",
      " |                |     |          |     ,|  |\n",
      " |                |     |          |     ||  | W198\n",
      " |                |     |          |     ||  |\n",
      " |                |     |          |     || _| W112\n",
      " |                |     |          |     ||| |\n",
      " |                |     |          |    _||| | W080\n",
      " |                |     |          |   | | |\n",
      " |                |     |          |   | | |_ W031\n",
      " |                |     |          |   | |\n",
      " |                |     |          |   | |   , W026\n",
      " |                |     |          |   | |  _|\n",
      " |                |     |          |   | |_| | W145\n",
      " |                |     |         _|   |   |\n",
      " |                |     |        | |   |   |_ C022\n",
      " |                |     |        | |   |\n",
      " |                |     |        | |   |         , W040\n",
      " |                |     |        | |   |        _|\n",
      " |                |     |        | |   |     __| | W216\n",
      " |                |     |        | |   |    |  |\n",
      " |                |     |        | |   |    |  |_ C069\n",
      " |                |     |        | |   |    |\n",
      " |                |     |        | |   |    |      , W247\n",
      " |                |     |        | |   |    |      |\n",
      " |                |     |        | |   |    |      | W298\n",
      " |                |     |        | |   |    |      |\n",
      " |                |     |        | |   |    |      | W172\n",
      " |                |     |        | |   |    |      |\n",
      " |                |_____|        | |   |    |     _| C097\n",
      " |                      |        | |   |    |    | |\n",
      " |                      |        | |   |    |    | | W073\n",
      " |                      |        | |   |    |    |\n",
      " |                      |        | |   |    |    | , C081\n",
      " |                      |        | |___|   _|    | |\n",
      " |                      |        |     |  | |    | | W124\n",
      " |                      |        |     |  | |    | |\n",
      " |                      |        |     |  | |    | | C076\n",
      " |                      |        |     |  | |    | |\n",
      " |                      |        |     |  | |    | | W233\n",
      " |                      |        |     |  | |    | |\n",
      " |                      |        |     |  | |    | | C100\n",
      " |                      |        |     |  | |    | |\n",
      " |                      |        |     |  | |    | | W200\n",
      " |                      |        |     |  | |    | |\n",
      " |                      |        |     |  | |    | | W177\n",
      " |                      |        |     |  | |    | |\n",
      " |                      |        |     |  | |    | | C182\n",
      " |                      |        |     |  | |    | |\n",
      " |                      |        |     |  | |    | | W240\n",
      " |                      |        |     |  | |____| |\n",
      " |                      |        |     |  |      | | W313\n",
      " |                      |        |     |  |      | |\n",
      " |                      |        |     |  |      | | W174\n",
      " |                      |        |     |  |      | |\n",
      " |                      |        |     |  |      | | W270\n",
      " |                      |        |     |  |      | |\n",
      " |                      |        |     |  |      | | W314\n",
      " |                      |        |     |  |      | |\n",
      " |                      |        |     |  |      | | W311\n",
      " |                      |        |     |  |      | |\n",
      " |                      |        |     |__|      | | C148\n",
      " |                      |        |        |      | |\n",
      " |                      |        |        |      | | C166\n",
      " |                      |      __|        |      | |\n",
      " |                      |     |  |        |      | | W237\n",
      " |                      |     |  |        |      | |\n",
      " |                      |     |  |        |      | | W087\n",
      " |                      |     |  |        |      | |\n",
      " |                      |     |  |        |      | | W085\n",
      " |                      |     |  |        |      | |\n",
      " |                      |     |  |        |      |_| C113\n",
      " |                      |     |  |        |        |\n",
      " |                      |     |  |        |        | C180\n",
      " |                      |     |  |        |\n",
      " |                      |     |  |        |  __ W267\n",
      " |                      |     |  |        | |\n",
      " |                      |     |  |        | |  , W210\n",
      " |                      |     |  |        | |  |\n",
      " |                      |     |  |        | |  | W138\n",
      " |                      |     |  |        | |  |\n",
      " |                      |     |  |        | |  | W170\n",
      " |                      |     |  |        | |  |\n",
      " |                      |     |  |        | |  | W293\n",
      " |                      |     |  |        | |  |\n",
      " |                      |     |  |        | |  | C183\n",
      " |                      |     |  |        | |  |\n",
      " |                      |     |  |        | |  | W039\n",
      " |                      |     |  |        | |  |\n",
      " |                      |     |  |        |_|  | C046\n",
      " |                      |     |  |          |  |\n",
      " |                      |     |  |          |  | C044\n",
      " |                      |     |  |          |  |\n",
      " |                      |     |  |          |  | C112\n",
      " |                      |     |  |          |  |\n",
      " |                      |     |  |          |  | W246\n",
      " |                      |     |  |          |  |\n",
      " |                      |     |  |          |  | W228\n",
      " |                      |     |  |          |  |\n",
      " |                      |     |  |          |  | W070\n",
      " |                      |     |  |          |  |\n",
      " |                      |     |  |          |  | C201\n",
      " |                      |     |  |          |  |\n",
      " |                      |     |  |          |__| W203\n",
      " |                      |     |  |             |\n",
      " |                      |     |  |             | C136\n",
      " |                      |     |  |\n",
      " |                      |     |  | _______ W135\n",
      " |                      |     |  ||\n",
      " |                      |     |  ||     ____ C099\n",
      " |                      |     |  ||    |\n",
      " |                      |     |  ||   _|     _ W058\n",
      " |                      |     |  ||  | |   _|\n",
      " |                      |     |  ||  | |  | |_ C109\n",
      " |                      |     |  ||  | |__|\n",
      " |                      |     |  ||  |    |  _ W282\n",
      " |                      |     |   |  |    |_|\n",
      " |                      |     |   |  |      |_ W114\n",
      " |                      |     |   |  |\n",
      " |                      |     |   |  |         _ W308\n",
      " |                      |     |   |  |       ,|\n",
      " |                      |     |   |  |      _||_ W158\n",
      " |                      |     |   |  |     | |\n",
      " |                      |     |   |  |     | |__ W030\n",
      " |                      |     |   |__|     |\n",
      " |                      |     |      |     |      , C055\n",
      " |                      |     |      |    _|      |\n",
      " |                      |     |      |   | |     _| C193\n",
      " |                      |     |      |   | |    | |\n",
      " |                      |     |      |   | |   _| | W029\n",
      " |                      |     |      |   | |  | |\n",
      " |                      |     |      |   | |__| |_ W107\n",
      " |                      |     |      |   |    |\n",
      " |                      |     |      |   |    |  _ W146\n",
      " |                      |     |      |   |    |_|\n",
      " |                      |     |      |   |      | , C094\n",
      " |                      |     |      |   |      |_|\n",
      " |                      |_____|      |___|        | C190\n",
      " |                            |          |\n",
      " |                            |          |    __ W084\n",
      " |                            |          |  ,|\n",
      " |                            |          |  ||__ C105\n",
      " |                            |          |  |\n",
      " |                            |          |  |     , C141\n",
      " |                            |          |  |     |\n",
      " |                            |          |  |     | C088\n",
      " |                            |          |  |     |\n",
      " |                            |          |  |    _| W001\n",
      " |                            |          |  |   | |\n",
      " |                            |          |__|   | | C200\n",
      " |                            |             |   |\n",
      " |                            |             |   | , C062\n",
      " |                            |             |   | |\n",
      " |                            |             |   | | C162\n",
      " |                            |             |   | |\n",
      " |                            |             |   | | C001\n",
      " |                            |             |   | |\n",
      " |                            |             |   | | W274\n",
      " |                            |             |___| |\n",
      " |                            |                 | | W054\n",
      " |                            |                 | |\n",
      " |                            |                 | | C178\n",
      " |                            |                 | |\n",
      " |                            |                 | | C176\n",
      " |                            |                 | |\n",
      " |                            |                 | | W033\n",
      " |                            |                 | |\n",
      " |                            |                 | | C157\n",
      " |                            |                 | |\n",
      " |                            |                 |_| C021\n",
      " |                            |                   |\n",
      " |                            |                   | C203\n",
      " |                            |\n",
      " |                            |                  ___ W279\n",
      " |                            |               __|\n",
      " |                            |              |  |___ W035\n",
      " |                            |              |\n",
      " |                            |              |        , W009\n",
      " |                            |              |       _|\n",
      " |                            |           ___|     ,| | W111\n",
      " |                            |          |   |     ||\n",
      " |                            |          |   |    _||_ C135\n",
      " |                            |          |   |   | |\n",
      " |                            |          |   |   | |  , C006\n",
      " |                            |          |   |   | |__|\n",
      " |                            |          |   |___|    | C007\n",
      " |                            |          |       |\n",
      " |                            |          |       | __ C160\n",
      " |                            |          |       ||\n",
      " |                            |          |       ||  , C078\n",
      " |                            |     _____|       ||  |\n",
      " |                            |    |     |        | _| W320\n",
      " |                            |    |     |        || |\n",
      " |                            |    |     |        || | C066\n",
      " |                            |    |     |         |\n",
      " |                            |    |     |         |_ C027\n",
      " |                            |    |     |\n",
      " |                            |    |     |      _ W023\n",
      " |                            |    |     |     |\n",
      " |                            |    |     |    ,| , W071\n",
      " |                            |    |     |    || |\n",
      " |                            |    |     |    ||_| C059\n",
      " |                            |    |     |____|  |\n",
      " |                            |    |          |  | C122\n",
      " |                            |    |          |\n",
      " |                            |    |          |__ W079\n",
      " |                            |    |\n",
      " |                            |    |        _____ C139\n",
      " |                            |    |     __|\n",
      " |                            |    |    |  |   __ C098\n",
      " |                            |____|    |  |__|\n",
      " |                                 |    |     |__ W266\n",
      " |                                 |    |\n",
      " |                                 |    |          _ W161\n",
      " |                                 |    |        _|\n",
      " |                                 |    |      ,| |_ C124\n",
      " |                                 |    |      ||\n",
      " |                                 |    |    __||___ C096\n",
      " |                                 |    |   |  |\n",
      " |                                 |    |   |  |____ W078\n",
      " |                                 |    |   |\n",
      " |                                 |    |   |             __ W157\n",
      " |                                 |    |   |           ,|\n",
      " |                                 |    |   |           ||__ W268\n",
      " |                                 |    |   |           |\n",
      " |                                 |    |   |           |     , W187\n",
      " |                                 |    |   |           |     |\n",
      " |                                 |    |   |           |     | W186\n",
      "_|                                 |    |   |           |     |\n",
      " |                                 |    |   |           |     | C194\n",
      " |                                 |____|   |        ___|     |\n",
      " |                                      |   |       |   |    _| C072\n",
      " |                                      |   |       |   |   | |\n",
      " |                                      |   |       |   |   | | W156\n",
      " |                                      |   |       |   |   |\n",
      " |                                      |   |       |   |   | , W154\n",
      " |                                      |   |       |   |   | |\n",
      " |                                      |   |       |   |   | | W155\n",
      " |                                      |   |       |   |   | |\n",
      " |                                      |   |       |   |___| | W165\n",
      " |                                      |   |       |       | |\n",
      " |                                      |   |       |       | | C042\n",
      " |                                      |   |       |       | |\n",
      " |                                      |   |       |       | | W163\n",
      " |                                      |   |    ___|       | |\n",
      " |                                      |   |   |   |       | | C009\n",
      " |                                      |   |   |   |       | |\n",
      " |                                      |   |   |   |       |_| C168\n",
      " |                                      |   |   |   |         |\n",
      " |                                      |   |   |   |         | C167\n",
      " |                                      |   |   |   |\n",
      " |                                      |   |   |   |    _ C132\n",
      " |                                      |   |   |   |   |\n",
      " |                                      |___|   |   |   | , C164\n",
      " |                                          |   |   |   | |\n",
      " |                                          |   |   |  ,| | W206\n",
      " |                                          |   |   |  || |\n",
      " |                                          |   |   |  || | W089\n",
      " |                                          |   |   |  || |\n",
      " |                                          |   |   |__||_| C151\n",
      " |                                          |   |      |  |\n",
      " |                                          |   |      |  | C198\n",
      " |                                          |   |      |\n",
      " |                                          |   |      |__ W212\n",
      " |                                          |   |\n",
      " |                                          |   |             _ W221\n",
      " |                                          |   |            |\n",
      " |                                          |   |           ,| , W086\n",
      " |                                          |   |           || |\n",
      " |                                          |   |           ||_| W180\n",
      " |                                          |   |           |  |\n",
      " |                                          |   |           |  | C045\n",
      " |                                          |   |           |\n",
      " |                                          |   |           |  , W189\n",
      " |                                          |   |           |  |\n",
      " |                                          |   |           |  | W248\n",
      " |                                          |   |         __|  |\n",
      " |                                          |   |        |  |  | W242\n",
      " |                                          |   |        |  |  |\n",
      " |                                          |   |        |  |  | W197\n",
      " |                                          |   |        |  |  |\n",
      " |                                          |   |        |  |  | W263\n",
      " |                                          |   |        |  |  |\n",
      " |                                          |   |        |  |  | W083\n",
      " |                                          |   |        |  |  |\n",
      " |                                          |   |        |  |__| W151\n",
      " |                                          |   |        |     |\n",
      " |                                          |   |        |     | W265\n",
      " |                                          |   |    ____|\n",
      " |                                          |___|   |    |    _ W310\n",
      " |                                              |   |    |   |\n",
      " |                                              |   |    |   | , C030\n",
      " |                                              |   |    |  ,| |\n",
      " |                                              |   |    |  || | C061\n",
      " |                                              |   |    |  || |\n",
      " |                                              |   |    |  ||_| W239\n",
      " |                                              |   |    |  |  |\n",
      " |                                              |   |    |  |  | W181\n",
      " |                                              |   |    |  |\n",
      " |                                              |   |    |  | _ W178\n",
      " |                                              |   |    |  ||\n",
      " |                                              |   |    |__|| , W164\n",
      " |                                              |   |       || |\n",
      " |                                              |   |       || | W224\n",
      " |                                              |   |       || |\n",
      " |                                              |   |       || | W171\n",
      " |                                              |   |       || |\n",
      " |                                              |   |       || | W271\n",
      " |                                              |   |       || |\n",
      " |                                              |   |       || | W043\n",
      " |                                              |   |       || |\n",
      " |                                              |   |       || | W137\n",
      " |                                              |   |        | |\n",
      " |                                              |   |        | | W075\n",
      " |                                              |   |        | |\n",
      " |                                              |   |        | | W238\n",
      " |                                              |   |        | |\n",
      " |                                              |   |        | | W195\n",
      " |                                              |   |        | |\n",
      " |                                              |   |        | | W230\n",
      " |                                              |   |        | |\n",
      " |                                              |   |        | | W168\n",
      " |                                              |   |        | |\n",
      " |                                              |   |        |_| W044\n",
      " |                                              |   |          |\n",
      " |                                              |   |          | W264\n",
      " |                                              |   |\n",
      " |                                              |   |           __ W321\n",
      " |                                              |   |         _|\n",
      " |                                              |   |        | |__ C031\n",
      " |                                              |   |        |\n",
      " |                                              |   |       _|  __ W235\n",
      " |                                              |   |      | | |\n",
      " |                                              |   |      | | |  , W199\n",
      " |                                              |   |      | |_|  |\n",
      " |                                              |___|      |   |  | C115\n",
      " |                                                  |      |   |  |\n",
      " |                                                  |      |   |__| W133\n",
      " |                                                  |      |      |\n",
      " |                                                  |      |      | W223\n",
      " |                                                  |      |\n",
      " |                                                  |      |      , C041\n",
      " |                                                  |      |      |\n",
      " |                                                  |      |      | C107\n",
      " |                                                  |      |      |\n",
      " |                                                  |      |      | C165\n",
      " |                                                  |      |      |\n",
      " |                                                  |    __|      | C038\n",
      " |                                                  |   |  |      |\n",
      " |                                                  |   |  |    __| C202\n",
      " |                                                  |   |  |   |  |\n",
      " |                                                  |   |  |   |  | C142\n",
      " |                                                  |   |  |   |\n",
      " |                                                  |   |  |   |  , C175\n",
      " |                                                  |   |  |   |  |\n",
      " |                                                  |   |  |   |  | W101\n",
      " |                                                  |   |  |   |  |\n",
      " |                                                  |   |  |   |  | W201\n",
      " |                                                  |   |  |   |  |\n",
      " |                                                  |   |  |   |  | C114\n",
      " |                                                  |   |  |   |  |\n",
      " |                                                  |   |  |   |  | W309\n",
      " |                                                  |   |  |   |  |\n",
      " |                                                  |   |  |___|  | C184\n",
      " |                                                  |   |      |  |\n",
      " |                                                  |   |      |  | C191\n",
      " |                                                  |   |      |  |\n",
      " |                                                  |   |      |  | C156\n",
      " |                                                  |   |      |  |\n",
      " |                                                  |   |      |  | C192\n",
      " |                                                  |   |      |  |\n",
      " |                                                  |   |      |  | C163\n",
      " |                                                  |   |      |  |\n",
      " |                                                  |   |      |  | C060\n",
      " |                                                  |   |      |  |\n",
      " |                                                  |   |      |  | C110\n",
      " |                                                  |   |      |  |\n",
      " |                                                  |   |      |__| C140\n",
      " |                                                  |   |         |\n",
      " |                                                  |   |         | C143\n",
      " |                                                  |   |\n",
      " |                                                  |   |  __ W159\n",
      " |                                                  |   | |\n",
      " |                                                  |___| | _ W272\n",
      " |                                                      | ||\n",
      " |                                                      | || , W183\n",
      " |                                                      | || |\n",
      " |                                                      | || | C020\n",
      " |                                                      | || |\n",
      " |                                                      | || | C145\n",
      " |                                                      | || |\n",
      " |                                                      | || | W132\n",
      " |                                                      | || |\n",
      " |                                                      | || | C159\n",
      " |                                                      | || |\n",
      " |                                                      | || | C068\n",
      " |                                                      | || |\n",
      " |                                                      | || | W315\n",
      " |                                                      | || |\n",
      " |                                                      | || | W149\n",
      " |                                                      | || |\n",
      " |                                                      | || | C129\n",
      " |                                                      | || |\n",
      " |                                                      | || | W205\n",
      " |                                                      | || |\n",
      " |                                                      | || | C025\n",
      " |                                                      | || |\n",
      " |                                                      | || | W152\n",
      " |                                                      | || |\n",
      " |                                                      | || | C037\n",
      " |                                                      | || |\n",
      " |                                                      | || | C033\n",
      " |                                                      | || |\n",
      " |                                                      | || | W176\n",
      " |                                                      | || |\n",
      " |                                                      | || | C125\n",
      " |                                                      | || |\n",
      " |                                                      | || | C117\n",
      " |                                                      | || |\n",
      " |                                                      |_|| | W153\n",
      " |                                                        || |\n",
      " |                                                        || | C039\n",
      " |                                                        || |\n",
      " |                                                        || | C174\n",
      " |                                                        || |\n",
      " |                                                        || | W188\n",
      " |                                                        || |\n",
      " |                                                        || | W231\n",
      " |                                                        || |\n",
      " |                                                        || | C095\n",
      " |                                                        || |\n",
      " |                                                        || | C043\n",
      " |                                                        || |\n",
      " |                                                        || | C024\n",
      " |                                                        || |\n",
      " |                                                        || | W291\n",
      " |                                                        || |\n",
      " |                                                        || | W185\n",
      " |                                                        || |\n",
      " |                                                        || | C091\n",
      " |                                                        || |\n",
      " |                                                        || | W262\n",
      " |                                                        || |\n",
      " |                                                        || | C161\n",
      " |                                                        || |\n",
      " |                                                        || | C108\n",
      " |                                                        || |\n",
      " |                                                        || | W295\n",
      " |                                                        || |\n",
      " |                                                        || | W234\n",
      " |                                                        || |\n",
      " |                                                        || | C147\n",
      " |                                                        || |\n",
      " |                                                        || | C090\n",
      " |                                                        || |\n",
      " |                                                        || | W276\n",
      " |                                                        || |\n",
      " |                                                        || | W166\n",
      " |                                                        || |\n",
      " |                                                         | | C158\n",
      " |                                                         | |\n",
      " |                                                         | | W074\n",
      " |                                                         | |\n",
      " |                                                         | | W269\n",
      " |                                                         | |\n",
      " |                                                         | | C053\n",
      " |                                                         | |\n",
      " |                                                         | | C058\n",
      " |                                                         | |\n",
      " |                                                         | | W307\n",
      " |                                                         | |\n",
      " |                                                         | | C170\n",
      " |                                                         | |\n",
      " |                                                         | | C036\n",
      " |                                                         | |\n",
      " |                                                         | | C173\n",
      " |                                                         | |\n",
      " |                                                         | | W222\n",
      " |                                                         | |\n",
      " |                                                         | | C019\n",
      " |                                                         | |\n",
      " |                                                         | | C127\n",
      " |                                                         | |\n",
      " |                                                         | | C073\n",
      " |                                                         | |\n",
      " |                                                         | | W204\n",
      " |                                                         | |\n",
      " |                                                         | | W147\n",
      " |                                                         | |\n",
      " |                                                         | | C155\n",
      " |                                                         | |\n",
      " |                                                         | | W036\n",
      " |                                                         | |\n",
      " |                                                         | | W322\n",
      " |                                                         | |\n",
      " |                                                         | | C040\n",
      " |                                                         | |\n",
      " |                                                         | | W144\n",
      " |                                                         | |\n",
      " |                                                         | | W182\n",
      " |                                                         | |\n",
      " |                                                         | | W167\n",
      " |                                                         | |\n",
      " |                                                         | | C050\n",
      " |                                                         | |\n",
      " |                                                         | | C049\n",
      " |                                                         | |\n",
      " |                                                         | | C118\n",
      " |                                                         | |\n",
      " |                                                         | | C197\n",
      " |                                                         | |\n",
      " |                                                         | | C011\n",
      " |                                                         | |\n",
      " |                                                         | | W169\n",
      " |                                                         | |\n",
      " |                                                         | | W229\n",
      " |                                                         | |\n",
      " |                                                         | | C077\n",
      " |                                                         | |\n",
      " |                                                         | | C121\n",
      " |                                                         | |\n",
      " |                                                         | | W046\n",
      " |                                                         | |\n",
      " |                                                         | | C131\n",
      " |                                                         | |\n",
      " |                                                         | | W202\n",
      " |                                                         | |\n",
      " |                                                         | | W289\n",
      " |                                                         | |\n",
      " |                                                         | | C047\n",
      " |                                                         | |\n",
      " |                                                         | | W227\n",
      " |                                                         | |\n",
      " |                                                         |_| C169\n",
      " |                                                           |\n",
      " |                                                           | C092\n",
      " |\n",
      " |          ____________ W175\n",
      " |        _|\n",
      " |       | |     _______ C051\n",
      " |       | |____|\n",
      " |       |      |_______ C119\n",
      " |       |\n",
      " |       |            ______ W125\n",
      " |     __|        ___|\n",
      " |    |  |       |   |  ____ W325\n",
      " |    |  |       |   |_|\n",
      " |    |  |       |     |____ W055\n",
      " |    |  |       |\n",
      " |    |  |       |       _____ C189\n",
      " |    |  |_______|     ,|\n",
      " |    |          |   __||_____ C017\n",
      " |    |          |  |  |\n",
      " |    |          |  |  |______ C123\n",
      " |    |          |  |\n",
      " |    |          |  |        ____ W013\n",
      " |    |          |__|       |\n",
      " |    |             |    ___|      , C014\n",
      " |    |             |   |   |     _|\n",
      " |    |             |   |   |    | | W226\n",
      " |    |             |   |   |____|\n",
      " |    |             |   |        | , W059\n",
      " |    |             |___|        |_|\n",
      " |    |                 |          | C150\n",
      " |    |                 |\n",
      " |    |                 |  ______ W328\n",
      " |    |                 | |\n",
      " |    |                 | |   ____ C057\n",
      " |    |                 |_|  |\n",
      " |    |                   |  |____ W010\n",
      " |    |                   |  |\n",
      " |    |                   |__|     , W117\n",
      " |    |                      |  ___|\n",
      " |    |                      | |   | W012\n",
      " |    |                      |_|\n",
      " |    |                        |  _ W045\n",
      " |    |                        |_|\n",
      " |    |                          | , W139\n",
      " |    |                          |_|\n",
      " |    |                            | C034\n",
      " |    |\n",
      " |    |                    _ C048\n",
      " |    |                ___|\n",
      " |    |              ,|   |_ C052\n",
      " |    |              ||\n",
      " |    |           ___||_____ W208\n",
      " |    |          |   |\n",
      " |    |          |   |     _ C152\n",
      " |    |          |   |____|\n",
      " |    |          |        |_ C029\n",
      " |    |          |\n",
      " |    |          |           ___ C054\n",
      " |    |          |      ____|\n",
      " |    |          |     |    |  _ W162\n",
      " |    |          |     |    |_|\n",
      " |    |          |     |      |_ C063\n",
      " |    |          |     |\n",
      " |    |          |     |                  __ C028\n",
      " |    |          |     |                _|\n",
      " |    |          |     |               | |__ C070\n",
      " |    |          |     |            ___|\n",
      " |    |     _____|     |           |   |  __ C134\n",
      " |    |    |     |_____|           |   |_|\n",
      " |    |    |     |     |           |     |__ C120\n",
      " |    |    |     |     |       ____|\n",
      " |    |    |     |     |      |    |      __ C012\n",
      " |    |    |     |     |      |    |    _|\n",
      " |    |    |     |     |      |    |   | |__ W038\n",
      " |    |    |     |     |      |    |   |\n",
      " |    |    |     |     |      |    |___|  __ W056\n",
      " |____|    |     |     |      |        | |\n",
      "      |    |     |     |      |        | |  , C149\n",
      "      |    |     |     |      |        |_|  |\n",
      "      |    |     |     |______|          |  | W290\n",
      "      |    |     |            |          |  |\n",
      "      |    |     |            |          |__| C016\n",
      "      |    |     |            |             |\n",
      "      |    |     |            |             | C172\n",
      "      |    |     |            |\n",
      "      |    |     |            |       _ C116\n",
      "      |    |     |            |     _|\n",
      "      |    |     |            |    | |_ W305\n",
      "      |    |     |            |    |\n",
      "      |    |     |            |____|   _ W160\n",
      "      |    |     |                 | ,|\n",
      "      |    |     |                 | || , W209\n",
      "      |    |     |                 | ||_|\n",
      "      |    |     |                 |_|  | W193\n",
      "      |    |     |                   |\n",
      "      |    |     |                   |  , W327\n",
      "      |    |     |                   |  |\n",
      "      |    |     |                   |__| C146\n",
      "      |    |     |                      |\n",
      "      |    |     |                      | C026\n",
      "      |    |     |\n",
      "      |    |     |________ W088\n",
      "      |    |\n",
      "      |    |      __________ C087\n",
      "      |    |     |\n",
      "      |    |     |                _ W284\n",
      "      |    |     |               |\n",
      "      |    |     |              ,| , W258\n",
      "      |    |     |              || |\n",
      "      |    |     |              ||_| W256\n",
      "      |    |     |             ,|  |\n",
      "      |    |     |             ||  | W116\n",
      "      |    |     |             ||\n",
      "      |    |     |        _____||__ W067\n",
      "      |    |     |       |     |\n",
      "      |    |     |       |     |  _ W302\n",
      "      |    |     |       |     |_|\n",
      "      |    |     |       |       |_ W062\n",
      "      |    |     |       |\n",
      "      |    |     |       |             __ W082\n",
      "      |    |     |       |           ,|\n",
      "      |    |     |       |           ||  , W068\n",
      "      |    |     |       |          _||__|\n",
      "      |    |     |       |         | |   | C154\n",
      "      |    |     |       |         | |\n",
      "      |    |    _|       |         | |___ W281\n",
      "      |    |   | |       |         |\n",
      "      |    |   | |       |      ___|     _ C056\n",
      "      |    |   | |       |     |   |   ,|\n",
      "      |    |   | |       |     |   |  _||_ C074\n",
      "      |    |   | |       |     |   | | |\n",
      "      |    |   | |       |     |   | | |__ W283\n",
      "      |    |   | |       |     |   |_|\n",
      "      |    |   | |       |     |     |   _ C106\n",
      "      |    |   | |       |     |     |  |\n",
      "      |    |   | |       |     |     |__| , C171\n",
      "      |    |   | |       |     |        | |\n",
      "      |    |   | |       |     |        |_| C023\n",
      "      |    |   | |       |     |          |\n",
      "      |    |   | |       |     |          | W120\n",
      "      |    |   | |       |     |\n",
      "      |    |   | |       |     |             _ C083\n",
      "      |____|   | |       |     |           ,|\n",
      "           |   | |       |     |          _||_ C181\n",
      "           |   | |       |     |         | |\n",
      "           |   | |       |     |         | |__ W251\n",
      "           |   | |       |     |         |\n",
      "           |   | |_______|     |         |   _ C010\n",
      "           |   |         |     |         |  |\n",
      "           |   |         |     |         |  | , W065\n",
      "           |   |         |     |         |  | |\n",
      "           |   |         |     |       __|  | | W260\n",
      "           |   |         |     |      |  |  | |\n",
      "           |   |         |     |      |  |  | | W053\n",
      "           |   |         |     |      |  |  | |\n",
      "           |   |         |     |      |  |  | | C186\n",
      "           |   |         |     |      |  |  | |\n",
      "           |   |         |     |      |  |  | | W275\n",
      "           |   |         |     |      |  |  | |\n",
      "           |   |         |     |      |  |  | | W006\n",
      "           |   |         |     |      |  |__| |\n",
      "           |   |         |     |      |     | | W007\n",
      "           |   |         |     |      |     | |\n",
      "           |   |         |     |      |     | | W008\n",
      "           |   |         |     |      |     | |\n",
      "           |   |         |     |      |     | | W123\n",
      "           |   |         |     |      |     | |\n",
      "           |   |         |     |      |     | | W057\n",
      "           |   |         |     |      |     | |\n",
      "           |   |         |     |      |     | | W253\n",
      "           |   |         |     |      |     | |\n",
      "           |   |         |     |      |     | | W257\n",
      "           |   |         |     |      |     | |\n",
      "           |   |         |     |      |     |_| W225\n",
      "           |   |         |     |      |       |\n",
      "           |   |         |     |      |       | W017\n",
      "           |   |         |     |      |\n",
      "           |   |         |     |      |         __ C188\n",
      "           |   |         |     |      |       _|\n",
      "           |   |         |     |      |      | |__ C004\n",
      "           |   |         |     |    __|      |\n",
      "           |   |         |_____|   |  |      |      , W021\n",
      "           |   |               |   |  |      |      |\n",
      "           |   |               |   |  |      |     _| W303\n",
      "           |   |               |   |  |      |    | |\n",
      "           |   |               |   |  |      |    | | C084\n",
      "           |   |               |   |  |      |    |\n",
      "           |   |               |   |  |    __|    | , C196\n",
      "           |   |               |   |  |   |  |    | |\n",
      "           |   |               |   |  |   |  |    | | C103\n",
      "           |   |               |   |  |   |  |    | |\n",
      "           |   |               |   |  |   |  |    | | W127\n",
      "           |   |               |   |  |   |  |    | |\n",
      "           |   |               |   |  |   |  |    | | W319\n",
      "           |   |               |   |  |   |  |    | |\n",
      "           |   |               |   |  |   |  |    | | C085\n",
      "           |   |               |   |  |   |  |    | |\n",
      "           |   |               |   |  |   |  |____| | C133\n",
      "           |   |               |   |  |   |       | |\n",
      "           |   |               |   |  |   |       | | C137\n",
      "           |   |               |   |  |   |       | |\n",
      "           |   |               |   |  |   |       | | C101\n",
      "           |   |               |   |  |   |       | |\n",
      "           |   |               |   |  |   |       | | C111\n",
      "           |   |               |   |  |   |       | |\n",
      "           |   |               |   |  |   |       | | C138\n",
      "           |   |               |   |  |   |       | |\n",
      "           |   |               |   |  |   |       | | W047\n",
      "           |   |               |   |  |   |       | |\n",
      "           |   |               |   |  |   |       | | C144\n",
      "           |   |               |   |  |___|       | |\n",
      "           |   |               |   |      |       |_| C079\n",
      "           |   |               |   |      |         |\n",
      "           |   |               |   |      |         | W102\n",
      "           |   |               |   |      |\n",
      "           |   |               |   |      |        _ W041\n",
      "           |   |               |   |      |       |\n",
      "           |___|               |   |      |     __| , W273\n",
      "               |               |   |      |    |  | |\n",
      "               |               |   |      |    |  |_| W113\n",
      "               |               |   |      |   _|    |\n",
      "               |               |   |      |  | |    | W022\n",
      "               |               |   |      |  | |\n",
      "               |               |   |      |  | |   _ W285\n",
      "               |               |   |      |  | |__|\n",
      "               |               |   |      |  |    | , W005\n",
      "               |               |   |      |  |    |_|\n",
      "               |               |   |      |  |      | W024\n",
      "               |               |   |      |  |\n",
      "               |               |   |      |  |      , C153\n",
      "               |               |   |      |  |     _|\n",
      "               |               |   |      |  |    | | W300\n",
      "               |               |   |      |  |    |\n",
      "               |               |   |      |  |    | , W119\n",
      "               |               |   |      |__|    | |\n",
      "               |               |___|         |    | | C093\n",
      "               |                   |         |    | |\n",
      "               |                   |         |    | | W288\n",
      "               |                   |         |    | |\n",
      "               |                   |         |    | | W004\n",
      "               |                   |         |    | |\n",
      "               |                   |         |    | | C195\n",
      "               |                   |         |    | |\n",
      "               |                   |         |    | | C032\n",
      "               |                   |         |    | |\n",
      "               |                   |         |    | | W143\n",
      "               |                   |         |    | |\n",
      "               |                   |         |    | | W002\n",
      "               |                   |         |    | |\n",
      "               |                   |         |____| | C179\n",
      "               |                   |              | |\n",
      "               |                   |              | | W326\n",
      "               |                   |              | |\n",
      "               |                   |              | | W254\n",
      "               |                   |              | |\n",
      "               |                   |              | | W003\n",
      "               |                   |              | |\n",
      "               |                   |              | | C005\n",
      "               |                   |              | |\n",
      "               |                   |              | | W118\n",
      "               |                   |              | |\n",
      "               |                   |              | | W323\n",
      "               |                   |              | |\n",
      "               |                   |              | | C130\n",
      "               |                   |              | |\n",
      "               |                   |              | | C185\n",
      "               |                   |              | |\n",
      "               |                   |              | | W110\n",
      "               |                   |              | |\n",
      "               |                   |              |_| W122\n",
      "               |                   |                |\n",
      "               |                   |                | W324\n",
      "               |                   |\n",
      "               |                   |         _ W019\n",
      "               |                   |        |\n",
      "               |                   |        | , W109\n",
      "               |                   |        | |\n",
      "               |                   |        | | W018\n",
      "               |                   |        | |\n",
      "               |                   |       ,| | W052\n",
      "               |                   |       || |\n",
      "               |                   |       || | W064\n",
      "               |                   |       || |\n",
      "               |                   |       || | C177\n",
      "               |                   |     __|| |\n",
      "               |                   |    |  ||_| W011\n",
      "               |                   |    |  |  |\n",
      "               |                   |    |  |  | W027\n",
      "               |                   |    |  |\n",
      "               |                   |    |  |  , W061\n",
      "               |                   |____|  |__|\n",
      "               |                        |     | W063\n",
      "               |                        |\n",
      "               |                        |    _ W060\n",
      "               |                        |  ,|\n",
      "               |                        |  ||_ C187\n",
      "               |                        |__|\n",
      "               |                           |  , W130\n",
      "               |                           |  |\n",
      "               |                           |__| W249\n",
      "               |                              |\n",
      "               |                              | W250\n",
      "               |\n",
      "               |     _________ W329\n",
      "               |    |\n",
      "               |   ,|      ___ C018\n",
      "               |   ||   __|\n",
      "               |   ||__|  |___ C082\n",
      "               |   |   |\n",
      "               |___|   |______ W207\n",
      "                   |\n",
      "                   |          ___ C075\n",
      "                   |       __|\n",
      "                   |      |  |___ C071\n",
      "                   |______|\n",
      "                          |   ___ C089\n",
      "                          |  |\n",
      "                          |__|___ C067\n",
      "                             |\n",
      "                             |___ C064\n",
      "\n"
     ]
    }
   ],
   "source": [
    "Phylo.draw_ascii(tree)"
   ],
   "metadata": {
    "collapsed": false,
    "ExecuteTime": {
     "end_time": "2023-07-14T06:11:31.110423Z",
     "start_time": "2023-07-14T06:11:31.107219Z"
    }
   }
  },
  {
   "cell_type": "code",
   "execution_count": 22,
   "outputs": [
    {
     "data": {
      "text/plain": "1"
     },
     "execution_count": 22,
     "metadata": {},
     "output_type": "execute_result"
    }
   ],
   "source": [
    "Phylo.write(tree, \"tree_18.nwk\", \"newick\")"
   ],
   "metadata": {
    "collapsed": false,
    "ExecuteTime": {
     "end_time": "2023-07-14T06:11:39.361525Z",
     "start_time": "2023-07-14T06:11:39.355717Z"
    }
   }
  },
  {
   "cell_type": "code",
   "execution_count": 23,
   "outputs": [
    {
     "name": "stdout",
     "output_type": "stream",
     "text": [
      "((('W261', (('W129', (('W100', (('W280', 'W106'), 'W105')), 'W099')), ((('W136', 'W016'), (('W050', 'W081'), 'C035')), ('C003', (((('W219', 'W252'), 'W255'), 'C002'), (('W306', 'W220'), 'W077')))))), ((('W173', (('W192', 'W191'), 'W066')), 'W294'), ((('W042', (('W304', 'W014'), ('W128', 'W097'))), (('W150', (('W217', 'W218'), ('W245', 'W213'))), ('C102', (('W259', 'C065'), (('W244', 'W236'), 'W243'))))), (((('W037', 'W115'), (('C008', 'W299'), (((('W093', 'W241'), ('W184', 'W317')), ('C199', (((((((('W211', 'W194'), 'W179'), 'C080'), 'C128'), 'W301'), 'W126'), 'W312'), 'C104'))), 'W051'))), ((('W048', (('W015', 'W134'), 'W034')), ((('W287', 'W076'), (('W095', 'W090'), (('W292', 'W286'), 'W108'))), ((('W104', ('W121', 'W094')), ('W277', 'C015')), (('W131', ('W103', (('W096', 'W020'), 'C086'))), (('W091', ('W098', 'C013')), ('W140', 'W092')))))), ((('W072', ('W049', 'W025')), ('W215', (((('W330', 'W028'), 'W214'), 'W142'), 'W278'))), (('W069', 'W141'), ('W297', 'W296'))))), ((('W318', ((('W316', ((((('W148', 'W032'), 'W198'), 'W112'), 'W080'), 'W031')), (('W026', 'W145'), 'C022')), (((('W040', 'W216'), 'C069'), ((((('W247', 'W298'), 'W172'), 'C097'), 'W073'), (((((((((((((((((((('C081', 'W124'), 'C076'), 'W233'), 'C100'), 'W200'), 'W177'), 'C182'), 'W240'), 'W313'), 'W174'), 'W270'), 'W314'), 'W311'), 'C148'), 'C166'), 'W237'), 'W087'), 'W085'), 'C113'), 'C180'))), ('W267', (((((((((((((('W210', 'W138'), 'W170'), 'W293'), 'C183'), 'W039'), 'C046'), 'C044'), 'C112'), 'W246'), 'W228'), 'W070'), 'C201'), 'W203'), 'C136'))))), ('W135', (('C099', (('W058', 'C109'), ('W282', 'W114'))), (((('W308', 'W158'), 'W030'), (((('C055', 'C193'), 'W029'), 'W107'), ('W146', ('C094', 'C190')))), (('W084', 'C105'), (((('C141', 'C088'), 'W001'), 'C200'), (((((((((('C062', 'C162'), 'C001'), 'W274'), 'W054'), 'C178'), 'C176'), 'W033'), 'C157'), 'C021'), 'C203'))))))), (((('W279', 'W035'), (((('W009', 'W111'), 'C135'), ('C006', 'C007')), ('C160', ((('C078', 'W320'), 'C066'), 'C027')))), (('W023', (('W071', 'C059'), 'C122')), 'W079')), (('C139', ('C098', 'W266')), (((('W161', 'C124'), 'C096'), 'W078'), (((('W157', 'W268'), ((((('W187', 'W186'), 'C194'), 'C072'), 'W156'), ((((((('W154', 'W155'), 'W165'), 'C042'), 'W163'), 'C009'), 'C168'), 'C167'))), (('C132', (((('C164', 'W206'), 'W089'), 'C151'), 'C198')), 'W212')), (((('W221', (('W086', 'W180'), 'C045')), ((((((('W189', 'W248'), 'W242'), 'W197'), 'W263'), 'W083'), 'W151'), 'W265')), (('W310', ((('C030', 'C061'), 'W239'), 'W181')), ('W178', (((((((((((('W164', 'W224'), 'W171'), 'W271'), 'W043'), 'W137'), 'W075'), 'W238'), 'W195'), 'W230'), 'W168'), 'W044'), 'W264')))), (((('W321', 'C031'), ('W235', ((('W199', 'C115'), 'W133'), 'W223'))), (((((('C041', 'C107'), 'C165'), 'C038'), 'C202'), 'C142'), ((((((((((((('C175', 'W101'), 'W201'), 'C114'), 'W309'), 'C184'), 'C191'), 'C156'), 'C192'), 'C163'), 'C060'), 'C110'), 'C140'), 'C143'))), ('W159', ('W272', ((((((((((((((((((((((((((((((((((((((((((((((((((((((((((((((((((((((((((('W183', 'C020'), 'C145'), 'W132'), 'C159'), 'C068'), 'W315'), 'W149'), 'C129'), 'W205'), 'C025'), 'W152'), 'C037'), 'C033'), 'W176'), 'C125'), 'C117'), 'W153'), 'C039'), 'C174'), 'W188'), 'W231'), 'C095'), 'C043'), 'C024'), 'W291'), 'W185'), 'C091'), 'W262'), 'C161'), 'C108'), 'W295'), 'W234'), 'C147'), 'C090'), 'W276'), 'W166'), 'C158'), 'W074'), 'W269'), 'C053'), 'C058'), 'W307'), 'C170'), 'C036'), 'C173'), 'W222'), 'C019'), 'C127'), 'C073'), 'W204'), 'W147'), 'C155'), 'W036'), 'W322'), 'C040'), 'W144'), 'W182'), 'W167'), 'C050'), 'C049'), 'C118'), 'C197'), 'C011'), 'W169'), 'W229'), 'C077'), 'C121'), 'W046'), 'C131'), 'W202'), 'W289'), 'C047'), 'W227'), 'C169'), 'C092')))))))))))))), ((('W175', ('C051', 'C119')), (('W125', ('W325', 'W055')), ((('C189', 'C017'), 'C123'), (('W013', (('C014', 'W226'), ('W059', 'C150'))), ('W328', (('C057', 'W010'), (('W117', 'W012'), ('W045', ('W139', 'C034'))))))))), ((((('C048', 'C052'), 'W208'), ('C152', 'C029')), ((('C054', ('W162', 'C063')), (((('C028', 'C070'), ('C134', 'C120')), (('C012', 'W038'), ('W056', ((('C149', 'W290'), 'C016'), 'C172')))), (('C116', 'W305'), (('W160', ('W209', 'W193')), (('W327', 'C146'), 'C026'))))), 'W088')), (('C087', (((('W284', (('W258', 'W256'), 'W116')), 'W067'), ('W302', 'W062')), (((('W082', ('W068', 'C154')), 'W281'), ((('C056', 'C074'), 'W283'), ('C106', (('C171', 'C023'), 'W120')))), ((((('C083', 'C181'), 'W251'), ('C010', ((((((((((((('W065', 'W260'), 'W053'), 'C186'), 'W275'), 'W006'), 'W007'), 'W008'), 'W123'), 'W057'), 'W253'), 'W257'), 'W225'), 'W017'))), ((('C188', 'C004'), ((('W021', 'W303'), 'C084'), ((((((((((((('C196', 'C103'), 'W127'), 'W319'), 'C085'), 'C133'), 'C137'), 'C101'), 'C111'), 'C138'), 'W047'), 'C144'), 'C079'), 'W102'))), ((('W041', (('W273', 'W113'), 'W022')), ('W285', ('W005', 'W024'))), (('C153', 'W300'), ((((((((((((((((((('W119', 'C093'), 'W288'), 'W004'), 'C195'), 'C032'), 'W143'), 'W002'), 'C179'), 'W326'), 'W254'), 'W003'), 'C005'), 'W118'), 'W323'), 'C130'), 'C185'), 'W110'), 'W122'), 'W324'))))), ((('W019', (((((('W109', 'W018'), 'W052'), 'W064'), 'C177'), 'W011'), 'W027')), ('W061', 'W063')), (('W060', 'C187'), (('W130', 'W249'), 'W250'))))))), (('W329', (('C018', 'C082'), 'W207')), (('C075', 'C071'), (('C089', 'C067'), 'C064')))))))\n"
     ]
    }
   ],
   "source": [
    "# Get the tuple representation of the tree\n",
    "def get_tuple(clade):\n",
    "    if clade.is_terminal():\n",
    "        return clade.name\n",
    "    else:\n",
    "        return (get_tuple(clade.clades[0]), get_tuple(clade.clades[1]))\n",
    "\n",
    "tree_tuple = get_tuple(tree.clade)\n",
    "\n",
    "print(tree_tuple)"
   ],
   "metadata": {
    "collapsed": false,
    "ExecuteTime": {
     "end_time": "2023-07-14T06:12:07.494347Z",
     "start_time": "2023-07-14T06:12:07.489115Z"
    }
   }
  },
  {
   "cell_type": "code",
   "execution_count": 24,
   "outputs": [
    {
     "data": {
      "text/plain": "[['W261'],\n ['W129'],\n ['W100'],\n ['W280', 'W106', 'W105', 'W099'],\n ['W136', 'W016'],\n ['W050', 'W081', 'C035'],\n ['C003'],\n ['W219', 'W252', 'W255', 'C002'],\n ['W306', 'W220', 'W077'],\n ['W173'],\n ['W192', 'W191', 'W066', 'W294'],\n ['W042'],\n ['W304', 'W014'],\n ['W128', 'W097'],\n ['W150'],\n ['W217', 'W218'],\n ['W245', 'W213'],\n ['C102'],\n ['W259', 'C065'],\n ['W244', 'W236', 'W243'],\n ['W037', 'W115'],\n ['C008', 'W299'],\n ['W093', 'W241'],\n ['W184', 'W317'],\n ['C199'],\n ['W211',\n  'W194',\n  'W179',\n  'C080',\n  'C128',\n  'W301',\n  'W126',\n  'W312',\n  'C104',\n  'W051'],\n ['W048'],\n ['W015', 'W134', 'W034'],\n ['W287', 'W076'],\n ['W095', 'W090'],\n ['W292', 'W286', 'W108'],\n ['W104'],\n ['W121', 'W094'],\n ['W277', 'C015'],\n ['W131'],\n ['W103'],\n ['W096', 'W020', 'C086'],\n ['W091'],\n ['W098', 'C013'],\n ['W140', 'W092'],\n ['W072'],\n ['W049', 'W025'],\n ['W215'],\n ['W330', 'W028', 'W214', 'W142', 'W278'],\n ['W069', 'W141'],\n ['W297', 'W296'],\n ['W318'],\n ['W316'],\n ['W148', 'W032', 'W198', 'W112', 'W080', 'W031'],\n ['W026', 'W145', 'C022'],\n ['W040', 'W216', 'C069'],\n ['W247', 'W298', 'W172', 'C097', 'W073'],\n ['C081',\n  'W124',\n  'C076',\n  'W233',\n  'C100',\n  'W200',\n  'W177',\n  'C182',\n  'W240',\n  'W313',\n  'W174',\n  'W270',\n  'W314',\n  'W311',\n  'C148',\n  'C166',\n  'W237',\n  'W087',\n  'W085',\n  'C113',\n  'C180'],\n ['W267'],\n ['W210',\n  'W138',\n  'W170',\n  'W293',\n  'C183',\n  'W039',\n  'C046',\n  'C044',\n  'C112',\n  'W246',\n  'W228',\n  'W070',\n  'C201',\n  'W203',\n  'C136'],\n ['W135'],\n ['C099'],\n ['W058', 'C109'],\n ['W282', 'W114'],\n ['W308', 'W158', 'W030'],\n ['C055', 'C193', 'W029', 'W107'],\n ['W146'],\n ['C094', 'C190'],\n ['W084', 'C105'],\n ['C141', 'C088', 'W001', 'C200'],\n ['C062',\n  'C162',\n  'C001',\n  'W274',\n  'W054',\n  'C178',\n  'C176',\n  'W033',\n  'C157',\n  'C021',\n  'C203'],\n ['W279', 'W035'],\n ['W009', 'W111', 'C135'],\n ['C006', 'C007'],\n ['C160'],\n ['C078', 'W320', 'C066', 'C027'],\n ['W023'],\n ['W071', 'C059', 'C122', 'W079'],\n ['C139'],\n ['C098', 'W266'],\n ['W161', 'C124', 'C096', 'W078'],\n ['W157', 'W268'],\n ['W187', 'W186', 'C194', 'C072', 'W156'],\n ['W154', 'W155', 'W165', 'C042', 'W163', 'C009', 'C168', 'C167'],\n ['C132'],\n ['C164', 'W206', 'W089', 'C151', 'C198', 'W212'],\n ['W221'],\n ['W086', 'W180', 'C045'],\n ['W189', 'W248', 'W242', 'W197', 'W263', 'W083', 'W151', 'W265'],\n ['W310'],\n ['C030', 'C061', 'W239', 'W181'],\n ['W178'],\n ['W164',\n  'W224',\n  'W171',\n  'W271',\n  'W043',\n  'W137',\n  'W075',\n  'W238',\n  'W195',\n  'W230',\n  'W168',\n  'W044',\n  'W264'],\n ['W321', 'C031'],\n ['W235'],\n ['W199', 'C115', 'W133', 'W223'],\n ['C041', 'C107', 'C165', 'C038', 'C202', 'C142'],\n ['C175',\n  'W101',\n  'W201',\n  'C114',\n  'W309',\n  'C184',\n  'C191',\n  'C156',\n  'C192',\n  'C163',\n  'C060',\n  'C110',\n  'C140',\n  'C143'],\n ['W159'],\n ['W272'],\n ['W183',\n  'C020',\n  'C145',\n  'W132',\n  'C159',\n  'C068',\n  'W315',\n  'W149',\n  'C129',\n  'W205',\n  'C025',\n  'W152',\n  'C037',\n  'C033',\n  'W176',\n  'C125',\n  'C117',\n  'W153',\n  'C039',\n  'C174',\n  'W188',\n  'W231',\n  'C095',\n  'C043',\n  'C024',\n  'W291',\n  'W185',\n  'C091',\n  'W262',\n  'C161',\n  'C108',\n  'W295',\n  'W234',\n  'C147',\n  'C090',\n  'W276',\n  'W166',\n  'C158',\n  'W074',\n  'W269',\n  'C053',\n  'C058',\n  'W307',\n  'C170',\n  'C036',\n  'C173',\n  'W222',\n  'C019',\n  'C127',\n  'C073',\n  'W204',\n  'W147',\n  'C155',\n  'W036',\n  'W322',\n  'C040',\n  'W144',\n  'W182',\n  'W167',\n  'C050',\n  'C049',\n  'C118',\n  'C197',\n  'C011',\n  'W169',\n  'W229',\n  'C077',\n  'C121',\n  'W046',\n  'C131',\n  'W202',\n  'W289',\n  'C047',\n  'W227',\n  'C169',\n  'C092'],\n ['W175'],\n ['C051', 'C119'],\n ['W125'],\n ['W325', 'W055'],\n ['C189', 'C017', 'C123'],\n ['W013'],\n ['C014', 'W226'],\n ['W059', 'C150'],\n ['W328'],\n ['C057', 'W010'],\n ['W117', 'W012'],\n ['W045'],\n ['W139', 'C034'],\n ['C048', 'C052', 'W208'],\n ['C152', 'C029'],\n ['C054'],\n ['W162', 'C063'],\n ['C028', 'C070'],\n ['C134', 'C120'],\n ['C012', 'W038'],\n ['W056'],\n ['C149', 'W290', 'C016', 'C172'],\n ['C116', 'W305'],\n ['W160'],\n ['W209', 'W193'],\n ['W327', 'C146', 'C026', 'W088'],\n ['C087'],\n ['W284'],\n ['W258', 'W256', 'W116', 'W067'],\n ['W302', 'W062'],\n ['W082'],\n ['W068', 'C154', 'W281'],\n ['C056', 'C074', 'W283'],\n ['C106'],\n ['C171', 'C023', 'W120'],\n ['C083', 'C181', 'W251'],\n ['C010'],\n ['W065',\n  'W260',\n  'W053',\n  'C186',\n  'W275',\n  'W006',\n  'W007',\n  'W008',\n  'W123',\n  'W057',\n  'W253',\n  'W257',\n  'W225',\n  'W017'],\n ['C188', 'C004'],\n ['W021', 'W303', 'C084'],\n ['C196',\n  'C103',\n  'W127',\n  'W319',\n  'C085',\n  'C133',\n  'C137',\n  'C101',\n  'C111',\n  'C138',\n  'W047',\n  'C144',\n  'C079',\n  'W102'],\n ['W041'],\n ['W273', 'W113', 'W022'],\n ['W285'],\n ['W005', 'W024'],\n ['C153', 'W300'],\n ['W119',\n  'C093',\n  'W288',\n  'W004',\n  'C195',\n  'C032',\n  'W143',\n  'W002',\n  'C179',\n  'W326',\n  'W254',\n  'W003',\n  'C005',\n  'W118',\n  'W323',\n  'C130',\n  'C185',\n  'W110',\n  'W122',\n  'W324'],\n ['W019'],\n ['W109', 'W018', 'W052', 'W064', 'C177', 'W011', 'W027'],\n ['W061', 'W063'],\n ['W060', 'C187'],\n ['W130', 'W249', 'W250'],\n ['W329'],\n ['C018', 'C082', 'W207'],\n ['C075', 'C071'],\n ['C089', 'C067', 'C064']]"
     },
     "execution_count": 24,
     "metadata": {},
     "output_type": "execute_result"
    }
   ],
   "source": [
    "s = str(tree_tuple).replace(\" \", \"\").replace(\"'\", \"\")\n",
    "non_characters = [\"(\", \")\", \"'\"]\n",
    "clusters = []\n",
    "i = 0\n",
    "while i < len(s):\n",
    "    if s[i] == \"(\":\n",
    "        clusterOpen = i\n",
    "        flag = 0\n",
    "        i+=1\n",
    "        while i < len(s):\n",
    "            if s[i] not in non_characters:\n",
    "                flag = 1\n",
    "            if s[i] == \"(\" and flag == 1:\n",
    "                break\n",
    "            i+=1\n",
    "        clusterClose = i-1\n",
    "        cluster = s[clusterOpen:clusterClose].replace(\"(\", \"\").replace(\")\", \"\").split(\",\")\n",
    "        clusters.append(cluster)\n",
    "\n",
    "clusters"
   ],
   "metadata": {
    "collapsed": false,
    "ExecuteTime": {
     "end_time": "2023-07-14T06:12:12.782046Z",
     "start_time": "2023-07-14T06:12:12.775392Z"
    }
   }
  },
  {
   "cell_type": "code",
   "execution_count": 25,
   "outputs": [
    {
     "data": {
      "text/plain": "{0: ['W261'],\n 1: ['W129'],\n 2: ['W100'],\n 3: ['W280', 'W106', 'W105', 'W099'],\n 4: ['W136', 'W016'],\n 5: ['W050', 'W081', 'C035'],\n 6: ['C003'],\n 7: ['W219', 'W252', 'W255', 'C002'],\n 8: ['W306', 'W220', 'W077'],\n 9: ['W173'],\n 10: ['W192', 'W191', 'W066', 'W294'],\n 11: ['W042'],\n 12: ['W304', 'W014'],\n 13: ['W128', 'W097'],\n 14: ['W150'],\n 15: ['W217', 'W218'],\n 16: ['W245', 'W213'],\n 17: ['C102'],\n 18: ['W259', 'C065'],\n 19: ['W244', 'W236', 'W243'],\n 20: ['W037', 'W115'],\n 21: ['C008', 'W299'],\n 22: ['W093', 'W241'],\n 23: ['W184', 'W317'],\n 24: ['C199'],\n 25: ['W211',\n  'W194',\n  'W179',\n  'C080',\n  'C128',\n  'W301',\n  'W126',\n  'W312',\n  'C104',\n  'W051'],\n 26: ['W048'],\n 27: ['W015', 'W134', 'W034'],\n 28: ['W287', 'W076'],\n 29: ['W095', 'W090'],\n 30: ['W292', 'W286', 'W108'],\n 31: ['W104'],\n 32: ['W121', 'W094'],\n 33: ['W277', 'C015'],\n 34: ['W131'],\n 35: ['W103'],\n 36: ['W096', 'W020', 'C086'],\n 37: ['W091'],\n 38: ['W098', 'C013'],\n 39: ['W140', 'W092'],\n 40: ['W072'],\n 41: ['W049', 'W025'],\n 42: ['W215'],\n 43: ['W330', 'W028', 'W214', 'W142', 'W278'],\n 44: ['W069', 'W141'],\n 45: ['W297', 'W296'],\n 46: ['W318'],\n 47: ['W316'],\n 48: ['W148', 'W032', 'W198', 'W112', 'W080', 'W031'],\n 49: ['W026', 'W145', 'C022'],\n 50: ['W040', 'W216', 'C069'],\n 51: ['W247', 'W298', 'W172', 'C097', 'W073'],\n 52: ['C081',\n  'W124',\n  'C076',\n  'W233',\n  'C100',\n  'W200',\n  'W177',\n  'C182',\n  'W240',\n  'W313',\n  'W174',\n  'W270',\n  'W314',\n  'W311',\n  'C148',\n  'C166',\n  'W237',\n  'W087',\n  'W085',\n  'C113',\n  'C180'],\n 53: ['W267'],\n 54: ['W210',\n  'W138',\n  'W170',\n  'W293',\n  'C183',\n  'W039',\n  'C046',\n  'C044',\n  'C112',\n  'W246',\n  'W228',\n  'W070',\n  'C201',\n  'W203',\n  'C136'],\n 55: ['W135'],\n 56: ['C099'],\n 57: ['W058', 'C109'],\n 58: ['W282', 'W114'],\n 59: ['W308', 'W158', 'W030'],\n 60: ['C055', 'C193', 'W029', 'W107'],\n 61: ['W146'],\n 62: ['C094', 'C190'],\n 63: ['W084', 'C105'],\n 64: ['C141', 'C088', 'W001', 'C200'],\n 65: ['C062',\n  'C162',\n  'C001',\n  'W274',\n  'W054',\n  'C178',\n  'C176',\n  'W033',\n  'C157',\n  'C021',\n  'C203'],\n 66: ['W279', 'W035'],\n 67: ['W009', 'W111', 'C135'],\n 68: ['C006', 'C007'],\n 69: ['C160'],\n 70: ['C078', 'W320', 'C066', 'C027'],\n 71: ['W023'],\n 72: ['W071', 'C059', 'C122', 'W079'],\n 73: ['C139'],\n 74: ['C098', 'W266'],\n 75: ['W161', 'C124', 'C096', 'W078'],\n 76: ['W157', 'W268'],\n 77: ['W187', 'W186', 'C194', 'C072', 'W156'],\n 78: ['W154', 'W155', 'W165', 'C042', 'W163', 'C009', 'C168', 'C167'],\n 79: ['C132'],\n 80: ['C164', 'W206', 'W089', 'C151', 'C198', 'W212'],\n 81: ['W221'],\n 82: ['W086', 'W180', 'C045'],\n 83: ['W189', 'W248', 'W242', 'W197', 'W263', 'W083', 'W151', 'W265'],\n 84: ['W310'],\n 85: ['C030', 'C061', 'W239', 'W181'],\n 86: ['W178'],\n 87: ['W164',\n  'W224',\n  'W171',\n  'W271',\n  'W043',\n  'W137',\n  'W075',\n  'W238',\n  'W195',\n  'W230',\n  'W168',\n  'W044',\n  'W264'],\n 88: ['W321', 'C031'],\n 89: ['W235'],\n 90: ['W199', 'C115', 'W133', 'W223'],\n 91: ['C041', 'C107', 'C165', 'C038', 'C202', 'C142'],\n 92: ['C175',\n  'W101',\n  'W201',\n  'C114',\n  'W309',\n  'C184',\n  'C191',\n  'C156',\n  'C192',\n  'C163',\n  'C060',\n  'C110',\n  'C140',\n  'C143'],\n 93: ['W159'],\n 94: ['W272'],\n 95: ['W183',\n  'C020',\n  'C145',\n  'W132',\n  'C159',\n  'C068',\n  'W315',\n  'W149',\n  'C129',\n  'W205',\n  'C025',\n  'W152',\n  'C037',\n  'C033',\n  'W176',\n  'C125',\n  'C117',\n  'W153',\n  'C039',\n  'C174',\n  'W188',\n  'W231',\n  'C095',\n  'C043',\n  'C024',\n  'W291',\n  'W185',\n  'C091',\n  'W262',\n  'C161',\n  'C108',\n  'W295',\n  'W234',\n  'C147',\n  'C090',\n  'W276',\n  'W166',\n  'C158',\n  'W074',\n  'W269',\n  'C053',\n  'C058',\n  'W307',\n  'C170',\n  'C036',\n  'C173',\n  'W222',\n  'C019',\n  'C127',\n  'C073',\n  'W204',\n  'W147',\n  'C155',\n  'W036',\n  'W322',\n  'C040',\n  'W144',\n  'W182',\n  'W167',\n  'C050',\n  'C049',\n  'C118',\n  'C197',\n  'C011',\n  'W169',\n  'W229',\n  'C077',\n  'C121',\n  'W046',\n  'C131',\n  'W202',\n  'W289',\n  'C047',\n  'W227',\n  'C169',\n  'C092'],\n 96: ['W175'],\n 97: ['C051', 'C119'],\n 98: ['W125'],\n 99: ['W325', 'W055'],\n 100: ['C189', 'C017', 'C123'],\n 101: ['W013'],\n 102: ['C014', 'W226'],\n 103: ['W059', 'C150'],\n 104: ['W328'],\n 105: ['C057', 'W010'],\n 106: ['W117', 'W012'],\n 107: ['W045'],\n 108: ['W139', 'C034'],\n 109: ['C048', 'C052', 'W208'],\n 110: ['C152', 'C029'],\n 111: ['C054'],\n 112: ['W162', 'C063'],\n 113: ['C028', 'C070'],\n 114: ['C134', 'C120'],\n 115: ['C012', 'W038'],\n 116: ['W056'],\n 117: ['C149', 'W290', 'C016', 'C172'],\n 118: ['C116', 'W305'],\n 119: ['W160'],\n 120: ['W209', 'W193'],\n 121: ['W327', 'C146', 'C026', 'W088'],\n 122: ['C087'],\n 123: ['W284'],\n 124: ['W258', 'W256', 'W116', 'W067'],\n 125: ['W302', 'W062'],\n 126: ['W082'],\n 127: ['W068', 'C154', 'W281'],\n 128: ['C056', 'C074', 'W283'],\n 129: ['C106'],\n 130: ['C171', 'C023', 'W120'],\n 131: ['C083', 'C181', 'W251'],\n 132: ['C010'],\n 133: ['W065',\n  'W260',\n  'W053',\n  'C186',\n  'W275',\n  'W006',\n  'W007',\n  'W008',\n  'W123',\n  'W057',\n  'W253',\n  'W257',\n  'W225',\n  'W017'],\n 134: ['C188', 'C004'],\n 135: ['W021', 'W303', 'C084'],\n 136: ['C196',\n  'C103',\n  'W127',\n  'W319',\n  'C085',\n  'C133',\n  'C137',\n  'C101',\n  'C111',\n  'C138',\n  'W047',\n  'C144',\n  'C079',\n  'W102'],\n 137: ['W041'],\n 138: ['W273', 'W113', 'W022'],\n 139: ['W285'],\n 140: ['W005', 'W024'],\n 141: ['C153', 'W300'],\n 142: ['W119',\n  'C093',\n  'W288',\n  'W004',\n  'C195',\n  'C032',\n  'W143',\n  'W002',\n  'C179',\n  'W326',\n  'W254',\n  'W003',\n  'C005',\n  'W118',\n  'W323',\n  'C130',\n  'C185',\n  'W110',\n  'W122',\n  'W324'],\n 143: ['W019'],\n 144: ['W109', 'W018', 'W052', 'W064', 'C177', 'W011', 'W027'],\n 145: ['W061', 'W063'],\n 146: ['W060', 'C187'],\n 147: ['W130', 'W249', 'W250'],\n 148: ['W329'],\n 149: ['C018', 'C082', 'W207'],\n 150: ['C075', 'C071'],\n 151: ['C089', 'C067', 'C064']}"
     },
     "execution_count": 25,
     "metadata": {},
     "output_type": "execute_result"
    }
   ],
   "source": [
    "clusters_dict = dict()\n",
    "for n, cluster in enumerate(clusters):\n",
    "    clusters_dict[n] = cluster\n",
    "clusters_dict"
   ],
   "metadata": {
    "collapsed": false,
    "ExecuteTime": {
     "end_time": "2023-07-14T06:12:25.581945Z",
     "start_time": "2023-07-14T06:12:25.576713Z"
    }
   }
  },
  {
   "cell_type": "code",
   "execution_count": 26,
   "outputs": [
    {
     "data": {
      "text/plain": "{'W261': 0,\n 'W129': 1,\n 'W100': 2,\n 'W280': 3,\n 'W106': 3,\n 'W105': 3,\n 'W099': 3,\n 'W136': 4,\n 'W016': 4,\n 'W050': 5,\n 'W081': 5,\n 'C035': 5,\n 'C003': 6,\n 'W219': 7,\n 'W252': 7,\n 'W255': 7,\n 'C002': 7,\n 'W306': 8,\n 'W220': 8,\n 'W077': 8,\n 'W173': 9,\n 'W192': 10,\n 'W191': 10,\n 'W066': 10,\n 'W294': 10,\n 'W042': 11,\n 'W304': 12,\n 'W014': 12,\n 'W128': 13,\n 'W097': 13,\n 'W150': 14,\n 'W217': 15,\n 'W218': 15,\n 'W245': 16,\n 'W213': 16,\n 'C102': 17,\n 'W259': 18,\n 'C065': 18,\n 'W244': 19,\n 'W236': 19,\n 'W243': 19,\n 'W037': 20,\n 'W115': 20,\n 'C008': 21,\n 'W299': 21,\n 'W093': 22,\n 'W241': 22,\n 'W184': 23,\n 'W317': 23,\n 'C199': 24,\n 'W211': 25,\n 'W194': 25,\n 'W179': 25,\n 'C080': 25,\n 'C128': 25,\n 'W301': 25,\n 'W126': 25,\n 'W312': 25,\n 'C104': 25,\n 'W051': 25,\n 'W048': 26,\n 'W015': 27,\n 'W134': 27,\n 'W034': 27,\n 'W287': 28,\n 'W076': 28,\n 'W095': 29,\n 'W090': 29,\n 'W292': 30,\n 'W286': 30,\n 'W108': 30,\n 'W104': 31,\n 'W121': 32,\n 'W094': 32,\n 'W277': 33,\n 'C015': 33,\n 'W131': 34,\n 'W103': 35,\n 'W096': 36,\n 'W020': 36,\n 'C086': 36,\n 'W091': 37,\n 'W098': 38,\n 'C013': 38,\n 'W140': 39,\n 'W092': 39,\n 'W072': 40,\n 'W049': 41,\n 'W025': 41,\n 'W215': 42,\n 'W330': 43,\n 'W028': 43,\n 'W214': 43,\n 'W142': 43,\n 'W278': 43,\n 'W069': 44,\n 'W141': 44,\n 'W297': 45,\n 'W296': 45,\n 'W318': 46,\n 'W316': 47,\n 'W148': 48,\n 'W032': 48,\n 'W198': 48,\n 'W112': 48,\n 'W080': 48,\n 'W031': 48,\n 'W026': 49,\n 'W145': 49,\n 'C022': 49,\n 'W040': 50,\n 'W216': 50,\n 'C069': 50,\n 'W247': 51,\n 'W298': 51,\n 'W172': 51,\n 'C097': 51,\n 'W073': 51,\n 'C081': 52,\n 'W124': 52,\n 'C076': 52,\n 'W233': 52,\n 'C100': 52,\n 'W200': 52,\n 'W177': 52,\n 'C182': 52,\n 'W240': 52,\n 'W313': 52,\n 'W174': 52,\n 'W270': 52,\n 'W314': 52,\n 'W311': 52,\n 'C148': 52,\n 'C166': 52,\n 'W237': 52,\n 'W087': 52,\n 'W085': 52,\n 'C113': 52,\n 'C180': 52,\n 'W267': 53,\n 'W210': 54,\n 'W138': 54,\n 'W170': 54,\n 'W293': 54,\n 'C183': 54,\n 'W039': 54,\n 'C046': 54,\n 'C044': 54,\n 'C112': 54,\n 'W246': 54,\n 'W228': 54,\n 'W070': 54,\n 'C201': 54,\n 'W203': 54,\n 'C136': 54,\n 'W135': 55,\n 'C099': 56,\n 'W058': 57,\n 'C109': 57,\n 'W282': 58,\n 'W114': 58,\n 'W308': 59,\n 'W158': 59,\n 'W030': 59,\n 'C055': 60,\n 'C193': 60,\n 'W029': 60,\n 'W107': 60,\n 'W146': 61,\n 'C094': 62,\n 'C190': 62,\n 'W084': 63,\n 'C105': 63,\n 'C141': 64,\n 'C088': 64,\n 'W001': 64,\n 'C200': 64,\n 'C062': 65,\n 'C162': 65,\n 'C001': 65,\n 'W274': 65,\n 'W054': 65,\n 'C178': 65,\n 'C176': 65,\n 'W033': 65,\n 'C157': 65,\n 'C021': 65,\n 'C203': 65,\n 'W279': 66,\n 'W035': 66,\n 'W009': 67,\n 'W111': 67,\n 'C135': 67,\n 'C006': 68,\n 'C007': 68,\n 'C160': 69,\n 'C078': 70,\n 'W320': 70,\n 'C066': 70,\n 'C027': 70,\n 'W023': 71,\n 'W071': 72,\n 'C059': 72,\n 'C122': 72,\n 'W079': 72,\n 'C139': 73,\n 'C098': 74,\n 'W266': 74,\n 'W161': 75,\n 'C124': 75,\n 'C096': 75,\n 'W078': 75,\n 'W157': 76,\n 'W268': 76,\n 'W187': 77,\n 'W186': 77,\n 'C194': 77,\n 'C072': 77,\n 'W156': 77,\n 'W154': 78,\n 'W155': 78,\n 'W165': 78,\n 'C042': 78,\n 'W163': 78,\n 'C009': 78,\n 'C168': 78,\n 'C167': 78,\n 'C132': 79,\n 'C164': 80,\n 'W206': 80,\n 'W089': 80,\n 'C151': 80,\n 'C198': 80,\n 'W212': 80,\n 'W221': 81,\n 'W086': 82,\n 'W180': 82,\n 'C045': 82,\n 'W189': 83,\n 'W248': 83,\n 'W242': 83,\n 'W197': 83,\n 'W263': 83,\n 'W083': 83,\n 'W151': 83,\n 'W265': 83,\n 'W310': 84,\n 'C030': 85,\n 'C061': 85,\n 'W239': 85,\n 'W181': 85,\n 'W178': 86,\n 'W164': 87,\n 'W224': 87,\n 'W171': 87,\n 'W271': 87,\n 'W043': 87,\n 'W137': 87,\n 'W075': 87,\n 'W238': 87,\n 'W195': 87,\n 'W230': 87,\n 'W168': 87,\n 'W044': 87,\n 'W264': 87,\n 'W321': 88,\n 'C031': 88,\n 'W235': 89,\n 'W199': 90,\n 'C115': 90,\n 'W133': 90,\n 'W223': 90,\n 'C041': 91,\n 'C107': 91,\n 'C165': 91,\n 'C038': 91,\n 'C202': 91,\n 'C142': 91,\n 'C175': 92,\n 'W101': 92,\n 'W201': 92,\n 'C114': 92,\n 'W309': 92,\n 'C184': 92,\n 'C191': 92,\n 'C156': 92,\n 'C192': 92,\n 'C163': 92,\n 'C060': 92,\n 'C110': 92,\n 'C140': 92,\n 'C143': 92,\n 'W159': 93,\n 'W272': 94,\n 'W183': 95,\n 'C020': 95,\n 'C145': 95,\n 'W132': 95,\n 'C159': 95,\n 'C068': 95,\n 'W315': 95,\n 'W149': 95,\n 'C129': 95,\n 'W205': 95,\n 'C025': 95,\n 'W152': 95,\n 'C037': 95,\n 'C033': 95,\n 'W176': 95,\n 'C125': 95,\n 'C117': 95,\n 'W153': 95,\n 'C039': 95,\n 'C174': 95,\n 'W188': 95,\n 'W231': 95,\n 'C095': 95,\n 'C043': 95,\n 'C024': 95,\n 'W291': 95,\n 'W185': 95,\n 'C091': 95,\n 'W262': 95,\n 'C161': 95,\n 'C108': 95,\n 'W295': 95,\n 'W234': 95,\n 'C147': 95,\n 'C090': 95,\n 'W276': 95,\n 'W166': 95,\n 'C158': 95,\n 'W074': 95,\n 'W269': 95,\n 'C053': 95,\n 'C058': 95,\n 'W307': 95,\n 'C170': 95,\n 'C036': 95,\n 'C173': 95,\n 'W222': 95,\n 'C019': 95,\n 'C127': 95,\n 'C073': 95,\n 'W204': 95,\n 'W147': 95,\n 'C155': 95,\n 'W036': 95,\n 'W322': 95,\n 'C040': 95,\n 'W144': 95,\n 'W182': 95,\n 'W167': 95,\n 'C050': 95,\n 'C049': 95,\n 'C118': 95,\n 'C197': 95,\n 'C011': 95,\n 'W169': 95,\n 'W229': 95,\n 'C077': 95,\n 'C121': 95,\n 'W046': 95,\n 'C131': 95,\n 'W202': 95,\n 'W289': 95,\n 'C047': 95,\n 'W227': 95,\n 'C169': 95,\n 'C092': 95,\n 'W175': 96,\n 'C051': 97,\n 'C119': 97,\n 'W125': 98,\n 'W325': 99,\n 'W055': 99,\n 'C189': 100,\n 'C017': 100,\n 'C123': 100,\n 'W013': 101,\n 'C014': 102,\n 'W226': 102,\n 'W059': 103,\n 'C150': 103,\n 'W328': 104,\n 'C057': 105,\n 'W010': 105,\n 'W117': 106,\n 'W012': 106,\n 'W045': 107,\n 'W139': 108,\n 'C034': 108,\n 'C048': 109,\n 'C052': 109,\n 'W208': 109,\n 'C152': 110,\n 'C029': 110,\n 'C054': 111,\n 'W162': 112,\n 'C063': 112,\n 'C028': 113,\n 'C070': 113,\n 'C134': 114,\n 'C120': 114,\n 'C012': 115,\n 'W038': 115,\n 'W056': 116,\n 'C149': 117,\n 'W290': 117,\n 'C016': 117,\n 'C172': 117,\n 'C116': 118,\n 'W305': 118,\n 'W160': 119,\n 'W209': 120,\n 'W193': 120,\n 'W327': 121,\n 'C146': 121,\n 'C026': 121,\n 'W088': 121,\n 'C087': 122,\n 'W284': 123,\n 'W258': 124,\n 'W256': 124,\n 'W116': 124,\n 'W067': 124,\n 'W302': 125,\n 'W062': 125,\n 'W082': 126,\n 'W068': 127,\n 'C154': 127,\n 'W281': 127,\n 'C056': 128,\n 'C074': 128,\n 'W283': 128,\n 'C106': 129,\n 'C171': 130,\n 'C023': 130,\n 'W120': 130,\n 'C083': 131,\n 'C181': 131,\n 'W251': 131,\n 'C010': 132,\n 'W065': 133,\n 'W260': 133,\n 'W053': 133,\n 'C186': 133,\n 'W275': 133,\n 'W006': 133,\n 'W007': 133,\n 'W008': 133,\n 'W123': 133,\n 'W057': 133,\n 'W253': 133,\n 'W257': 133,\n 'W225': 133,\n 'W017': 133,\n 'C188': 134,\n 'C004': 134,\n 'W021': 135,\n 'W303': 135,\n 'C084': 135,\n 'C196': 136,\n 'C103': 136,\n 'W127': 136,\n 'W319': 136,\n 'C085': 136,\n 'C133': 136,\n 'C137': 136,\n 'C101': 136,\n 'C111': 136,\n 'C138': 136,\n 'W047': 136,\n 'C144': 136,\n 'C079': 136,\n 'W102': 136,\n 'W041': 137,\n 'W273': 138,\n 'W113': 138,\n 'W022': 138,\n 'W285': 139,\n 'W005': 140,\n 'W024': 140,\n 'C153': 141,\n 'W300': 141,\n 'W119': 142,\n 'C093': 142,\n 'W288': 142,\n 'W004': 142,\n 'C195': 142,\n 'C032': 142,\n 'W143': 142,\n 'W002': 142,\n 'C179': 142,\n 'W326': 142,\n 'W254': 142,\n 'W003': 142,\n 'C005': 142,\n 'W118': 142,\n 'W323': 142,\n 'C130': 142,\n 'C185': 142,\n 'W110': 142,\n 'W122': 142,\n 'W324': 142,\n 'W019': 143,\n 'W109': 144,\n 'W018': 144,\n 'W052': 144,\n 'W064': 144,\n 'C177': 144,\n 'W011': 144,\n 'W027': 144,\n 'W061': 145,\n 'W063': 145,\n 'W060': 146,\n 'C187': 146,\n 'W130': 147,\n 'W249': 147,\n 'W250': 147,\n 'W329': 148,\n 'C018': 149,\n 'C082': 149,\n 'W207': 149,\n 'C075': 150,\n 'C071': 150,\n 'C089': 151,\n 'C067': 151,\n 'C064': 151}"
     },
     "execution_count": 26,
     "metadata": {},
     "output_type": "execute_result"
    }
   ],
   "source": [
    "sequence_cluster_dict = dict()\n",
    "for k, v in clusters_dict.items():\n",
    "    for cultivar in v:\n",
    "        sequence_cluster_dict[cultivar] = k\n",
    "sequence_cluster_dict"
   ],
   "metadata": {
    "collapsed": false,
    "ExecuteTime": {
     "end_time": "2023-07-14T06:12:34.226992Z",
     "start_time": "2023-07-14T06:12:34.222958Z"
    }
   }
  },
  {
   "cell_type": "code",
   "execution_count": 27,
   "outputs": [
    {
     "data": {
      "text/plain": "{0: ['CTACTCGAATGGACCGCA'],\n 1: ['CTTCGCGAGTGGACAATA'],\n 2: ['CTTCTCGAGTGGGCAACA'],\n 3: ['CTTCTCGAGTGGACAGCA', 'CTTCTCGAGTGGGCAGCA'],\n 4: ['CTTCTCGGATGGACAGTG', 'CTTCTCGAGTGGACAGTG'],\n 5: ['CTTCTCGAATGGACCGTG', 'CTTCTCGAACGGACCGTG', 'CTTCTCGAACGGACAGTG'],\n 6: ['CTTCGCGAGTGGACCGTG'],\n 7: ['CTTCTCGAGCGGACCATG'],\n 8: ['CTTCTCGAGTGGACCATG'],\n 9: ['CTAATCGGACGGACCATG'],\n 10: ['TTTATCGGGCGGATCATG',\n  'TTTATCGGACGCACCACA',\n  'TTAATCGGGCGGACAATG',\n  'TTTATCGGGTGGACCATG'],\n 11: ['TTTCGCGGGCGGGTAACA'],\n 12: ['CTTCTCGAGCGGATAATG', 'CTTCTCGGGCGGATAACG'],\n 13: ['TTTCTCGGGTGGACAATG', 'TTTCTCGGGCGCGCAATG'],\n 14: ['TCACTCGGGTGGATAGCA'],\n 15: ['TTACTCGGGCGGATAATA'],\n 16: ['TTTATCGGGTGGATAATA', 'TCAATCGGGTGGATAATA'],\n 17: ['TCTATCGGACGGATAACA'],\n 18: ['CCAATCGGGCGGATAACA'],\n 19: ['TCAATCGGGCGGATAACA'],\n 20: ['TTTATCGAGTGCGCAGCA', 'TTTATCGAGTGGGCAGCA'],\n 21: ['TCAATCGGGTGGGCAACA', 'TCACTCGGGTGGGCAACA'],\n 22: ['CCAATCGGATGCGCAACA', 'TCAATCGGATGCGCAACA'],\n 23: ['CCAATCGGGTGCGCAACA'],\n 24: ['TTAATCGGGTGCGCAACA'],\n 25: ['TCAATCGGATGCGCAGCA', 'TCAATCGGGTGCGCAACA'],\n 26: ['TTACTCGAACGGGTAGCA'],\n 27: ['TCACTCGAGCGGGTAGCA', 'TCTCTCGAGCGGGCAGCA', 'TCTCTCGAGCGGGTAGCA'],\n 28: ['TCACTCGAGCGGGCAACA', 'TTACTCGAGCGGACAACA'],\n 29: ['TTTCTCGAGCGCGCAACA', 'TTACTCGAGCGCGCAACA'],\n 30: ['TTTCTCGAGTGGGCAACA', 'TTTCTCGAGCGGGCAACA'],\n 31: ['TTACTCGAGTGCGCAGCA'],\n 32: ['TTACTCGAGTGGGCAGCA'],\n 33: ['TTACTCGAGCGGGCAGCA'],\n 34: ['TTTCTCGAACGGGCAGCA'],\n 35: ['CTTCTCGAGCTGTACTCAAAATGGGCAGCA'],\n 36: ['TTTCTCGAGCGGGCAGCA'],\n 37: ['TTTCTCGAGCGCACAGCA'],\n 38: ['TTTCTCGAGCGCGCAGCA'],\n 39: ['TTTCTCGAGCGGACAGCA'],\n 40: ['CCTCTCGAGCGGGCAGTA'],\n 41: ['CTTCTCGAGCGGGCAGTA'],\n 42: ['TTTCTCGAGCGGGTAGTA'],\n 43: ['TTTCTCGAGCGGGCAGTA'],\n 44: ['TCACTCGAGCGCGCAGTA', 'TCACTCGAGCGCGCAATA'],\n 45: ['TCACTCGAGCGGATAGTA', 'TCACTCGAGCGGACAGTA'],\n 46: ['TCAAGCGAGCGCGTAACA'],\n 47: ['CTAATCGGGCGCGCAACA'],\n 48: ['TTAATCGGGCGCGTAACA', 'CTAATCGGGCGCGTAACA'],\n 49: ['TCAATCGGGCGCGCAACA', 'CCAATCGGGCGCGCAACA'],\n 50: ['CCTATCGGGCGCGTAACA', 'TCTATCGGGCGCGTAACA'],\n 51: ['CCAATCGGGCGCGTAACA'],\n 52: ['CCAATCGGGTGCGTAACA'],\n 53: ['TCAATTGGGCGCGTAACA'],\n 54: ['TCAATCGGGCGCGTAACA'],\n 55: ['CCTCTCGAGCGCGTAACA'],\n 56: ['CCTCTCGGATGCGTAACA'],\n 57: ['TCTCTCGGACGCGTAACA', 'TCACTCGGACGCGTAACA'],\n 58: ['TCACTCGGATGCGTAACA', 'TTACTCGGATGCGTAACA'],\n 59: ['TCACTCGGGCGCGTAATA', 'TTTCTCGGGCGCGTAATA', 'TCTCTCGGGCGCGTAATA'],\n 60: ['TTACTCGGGCGCGTAACA', 'TTTCTCGGGCGCGTAACA'],\n 61: ['TCACTCGAGCGCGTAACA'],\n 62: ['TCACTCGGGCGCGTAACA'],\n 63: ['TTTCTCGGGTGCGTAACA', 'TCTCTCGGGTGCGTAACA'],\n 64: ['TTACTCGGGTGCGTAACA'],\n 65: ['TCACTCGGGTGCGTAACA'],\n 66: ['TTACTCGAGTGCGCAATA', 'TTACTCGGATGCGCAATA'],\n 67: ['TTAATCGGATGCGTAATA', 'TTAATCGAATGCGTAATA'],\n 68: ['TTAATCGAGTGCGTAATA'],\n 69: ['TTAATCGGGCGCGTAATA'],\n 70: ['TTACTCGGGTGCGTAATA', 'TTAATCGGGTGCGTAATA'],\n 71: ['TTACTCGAATGCGTAACA'],\n 72: ['TTACTCGAATGCGTAACG', 'TTAATCGAATGCGTAACA'],\n 73: ['CTAATCGGGTGCGTCACA'],\n 74: ['CTACTCGGGTGCGTAACA', 'CTACTCGGGTGCGTAATA'],\n 75: ['TCAATCGGATGCGTAACG',\n  'TCAATCGGGTGCGTAACG',\n  'CCAATCGGGTGCGTAACG',\n  'CCACTCGGGTGCGTAACG'],\n 76: ['CCTATCGAGTGCGTAACA', 'TCTATCGAGTGCGTAACA'],\n 77: ['CCAATCGAGTGCGTAACA'],\n 78: ['TCAATCGAGTGCGTAACA'],\n 79: ['CTAATCGGATGCGTAACA'],\n 80: ['CCAATCGAATGCGTAACA', 'CCAATCGGATGCGTAACA'],\n 81: ['TCTATCGGGTGCGCAATA'],\n 82: ['TCTATCGGGTGCGTAATA'],\n 83: ['TCAATCGGGTGCGTAATA'],\n 84: ['CCTATCGGGTGCGCAACA'],\n 85: ['CCTATCGGGTGCGTAACA'],\n 86: ['TCTATCGGGTGCGCAACA'],\n 87: ['TCTATCGGGTGCGTAACA'],\n 88: ['TCTATCGGATGCGTAACA', 'TTTATCGGATGCGTAACA'],\n 89: ['TCAATCGGACGCGTAACA'],\n 90: ['TCAATCGGATGCGTAACA'],\n 91: ['TTAATCGGATGCGTAACA'],\n 92: ['TTAATCGGGTGCGTAACA'],\n 93: ['TCAATCAGGTGCGTAACA'],\n 94: ['TCAATCGGGTGCATAACA'],\n 95: ['TCAATCGGGTGCGTAACA'],\n 96: ['CTTATCGGGCACGCAATA'],\n 97: ['TCTCTCGGACACGTAATA', 'TCTCTTAGACACGCAGTA'],\n 98: ['CCTCTCGGGTGCGCCATG'],\n 99: ['CTTCTCGGATGCGTCATG', 'CTTCGCGGATGCGCCATG'],\n 100: ['CTTCGCGGACACACCATA', 'CTTCTCGGATACGTCATA', 'CTTCGTGGATACGCCATA'],\n 101: ['CTTCGCAGATACGTCGTG'],\n 102: ['CTTCTCAGACACGCCGTG'],\n 103: ['CTTCGCAGACACGCCGTG'],\n 104: ['CTTCTCGGACGCGCCGTA'],\n 105: ['CTTCTCGGACACGCCATG', 'TTTCTCGGACACGCCGTG'],\n 106: ['CTTCTCGGACACACCGTG'],\n 107: ['CTTCTCGGACAGGCCGTG'],\n 108: ['CTTCTCGGACAGACCGTG'],\n 109: ['CTTCGCAAACACGCCATA', 'CTTCTCAAACACGCAATG', 'CTTCGCAAACACGCCATG'],\n 110: ['CTTCTTAAATACGCAATG', 'CTTCTTAAATACGCCATG'],\n 111: ['TTTCGTAAACACGTAATG'],\n 112: ['TTTCGTAAACACGCAATA', 'TTTCGTAAACACGTAATA'],\n 113: ['CTTCGTAGACACGCCGTA', 'CTTCGCAGACACGCCGTA'],\n 114: ['CTTCGTAGACACGCCATA', 'CTTCTTAGACACGCCATA'],\n 115: ['CTTCGTAAACGCGCAATA', 'CTTCGTAAACACGCAATA'],\n 116: ['CTTCGTAGACAGGCAATA'],\n 117: ['CTTCGTAGACACGCAATA'],\n 118: ['CTTCGCAGACACGCAATG', 'CTTCGCAGACACGCAGTG'],\n 119: ['TTTCGTAGACACGCAGTG'],\n 120: ['TTTCGTAGACACGCAATG'],\n 121: ['CTTCGTAGACACGCAATG', 'CTTCGTAAACGGGCAATG'],\n 122: ['TTTCTCAAATAGACCATG'],\n 123: ['TTTCTCGAACGGACCATG'],\n 124: ['CTTCTCGAACGGACCATG', 'CTTCTCGAACGGGCCATG'],\n 125: ['TTTCTCGAACGGGCCACG', 'TTTCTCGAACGGGCCATG'],\n 126: ['CTTCGCGGACAGACCGTG'],\n 127: ['CTTCGCGGACGGACCGCG', 'CTTCGCGGACGGACCGTG'],\n 128: ['CTTCGCAGACGGACAATG', 'CTTCGCGGACGGACAATG', 'CTTCGCGGACGGACAGTG'],\n 129: ['CTTCGCGGATGGACCATG'],\n 130: ['CTTCGCGGACGGACCATG'],\n 131: ['CTTCGCGGACAGACCATG', 'TTTCTCGGACAGACCATG', 'CTTCTCGGACAGACCATG'],\n 132: ['TTTCTCAGACGGACCATG'],\n 133: ['TTTCTCGGACGGACCATG'],\n 134: ['CTTCTTGGATGGACCATG', 'CTTCTTGGACGGACCATG'],\n 135: ['TTTCTCGGATGGACCATG'],\n 136: ['CTTCTCGGATGGACCATG'],\n 137: ['CTTCTCGGATGGGCCATG'],\n 138: ['CTTCTCGGACGGGCCATG'],\n 139: ['CTTCTCGGACGGATCATG'],\n 140: ['CTTCTCGGACGGGTCATG'],\n 141: ['CTTCTCGGACGGACCATA'],\n 142: ['CTTCTCGGACGGACCATG'],\n 143: ['TTTCTCGGACGGACCGTG'],\n 144: ['CTTCTCGGACGGACCGTG'],\n 145: ['CTTCTCGGACGGATCGTG'],\n 146: ['CTTCTCAGACGGACCATG', 'CTTCGCAGACGGACCATG'],\n 147: ['CTTCTCAGACGGACCGTG'],\n 148: ['CCTCTCGGACGGACAATA'],\n 149: ['TTTCTTAGACGGACCATA', 'CTTCGTAGACGGACCATA', 'CTTCGCAGACGGACAATA'],\n 150: ['CCTCGCAAACACACAATA', 'CCTCGCAAATAGACAATA'],\n 151: ['TTTCGCGAACAGACAATA', 'TTTCGCAAACGGACAATA', 'TCTCGCAAACAGACAATA']}"
     },
     "execution_count": 27,
     "metadata": {},
     "output_type": "execute_result"
    }
   ],
   "source": [
    "unique_sequences_per_cluster = dict()\n",
    "for k,v in clusters_dict.items():\n",
    "    unique_sequences_per_cluster[k] = list(set(sequences_dict[cult] for cult in v))\n",
    "unique_sequences_per_cluster"
   ],
   "metadata": {
    "collapsed": false,
    "ExecuteTime": {
     "end_time": "2023-07-14T06:12:39.649288Z",
     "start_time": "2023-07-14T06:12:39.638285Z"
    }
   }
  },
  {
   "cell_type": "code",
   "execution_count": 28,
   "outputs": [
    {
     "data": {
      "text/plain": "{'C001': 'Indica I',\n 'C002': 'VI/Aromatic',\n 'C003': 'Japonica Intermediate',\n 'C004': 'Temperate Japonica',\n 'C005': 'Tropical Japonica',\n 'C006': 'Indica Intermediate',\n 'C007': 'Indica Intermediate',\n 'C008': 'Indica Intermediate',\n 'C009': 'Indica Intermediate',\n 'C010': 'Tropical Japonica',\n 'C011': 'Indica II',\n 'C012': 'Temperate Japonica',\n 'C013': 'Aus',\n 'C014': 'Japonica Intermediate',\n 'C015': 'Aus',\n 'C016': 'Temperate Japonica',\n 'C017': 'Temperate Japonica',\n 'C018': 'Temperate Japonica',\n 'C019': 'Indica I',\n 'C020': 'Indica I',\n 'C021': 'Indica I',\n 'C022': 'Indica I',\n 'C023': 'Temperate Japonica',\n 'C024': 'Indica I',\n 'C025': 'Indica Intermediate',\n 'C026': 'Temperate Japonica',\n 'C027': 'Indica Intermediate',\n 'C028': 'Temperate Japonica',\n 'C029': 'Japonica Intermediate',\n 'C030': 'Indica Intermediate',\n 'C031': 'Indica Intermediate',\n 'C032': 'Temperate Japonica',\n 'C033': 'Indica I',\n 'C034': 'Temperate Japonica',\n 'C035': 'Temperate Japonica',\n 'C036': 'Indica Intermediate',\n 'C037': 'Indica I',\n 'C038': 'Indica Intermediate',\n 'C039': 'Indica I',\n 'C040': 'Indica I',\n 'C041': 'Indica I',\n 'C042': 'Indica Intermediate',\n 'C043': 'Indica I',\n 'C044': 'Indica Intermediate',\n 'C045': 'Indica Intermediate',\n 'C046': 'Indica Intermediate',\n 'C047': 'Indica I',\n 'C048': 'Temperate Japonica',\n 'C049': 'Indica Intermediate',\n 'C050': 'Indica II',\n 'C051': 'Intermediate',\n 'C052': 'Temperate Japonica',\n 'C053': 'Indica Intermediate',\n 'C054': 'Temperate Japonica',\n 'C055': 'Indica I',\n 'C056': 'Temperate Japonica',\n 'C057': 'Japonica Intermediate',\n 'C058': 'Indica I',\n 'C059': 'Indica I',\n 'C060': 'Indica I',\n 'C061': 'Indica II',\n 'C062': 'Indica I',\n 'C063': 'Temperate Japonica',\n 'C064': 'Temperate Japonica',\n 'C065': 'Indica Intermediate',\n 'C066': 'Indica I',\n 'C067': 'Temperate Japonica',\n 'C068': 'Indica II',\n 'C069': 'Indica II',\n 'C070': 'Temperate Japonica',\n 'C071': 'Temperate Japonica',\n 'C072': 'Indica I',\n 'C073': 'Indica I',\n 'C074': 'Temperate Japonica',\n 'C075': 'Temperate Japonica',\n 'C076': 'Indica I',\n 'C077': 'Indica I',\n 'C078': 'Indica Intermediate',\n 'C079': 'Temperate Japonica',\n 'C080': 'Indica I',\n 'C081': 'Indica I',\n 'C082': 'Temperate Japonica',\n 'C083': 'Temperate Japonica',\n 'C084': 'Japonica Intermediate',\n 'C085': 'Japonica Intermediate',\n 'C086': 'Aus',\n 'C087': 'Temperate Japonica',\n 'C088': 'Indica I',\n 'C089': 'Temperate Japonica',\n 'C090': 'Indica Intermediate',\n 'C091': 'Indica I',\n 'C092': 'Indica I',\n 'C093': 'Temperate Japonica',\n 'C094': 'Indica Intermediate',\n 'C095': 'Indica I',\n 'C096': 'Indica Intermediate',\n 'C097': 'Indica Intermediate',\n 'C098': 'Indica Intermediate',\n 'C099': 'Indica Intermediate',\n 'C100': 'Indica Intermediate',\n 'C101': 'Temperate Japonica',\n 'C102': 'Indica Intermediate',\n 'C103': 'Temperate Japonica',\n 'C104': 'Indica I',\n 'C105': 'Indica Intermediate',\n 'C106': 'Temperate Japonica',\n 'C107': 'Indica III',\n 'C108': 'Indica I',\n 'C109': 'Indica I',\n 'C110': 'Indica I',\n 'C111': 'Temperate Japonica',\n 'C112': 'Indica I',\n 'C113': 'Indica Intermediate',\n 'C114': 'Indica Intermediate',\n 'C115': 'Indica II',\n 'C116': 'Temperate Japonica',\n 'C117': 'Indica Intermediate',\n 'C118': 'Indica II',\n 'C119': 'Temperate Japonica',\n 'C120': 'Temperate Japonica',\n 'C121': 'Indica Intermediate',\n 'C122': 'Indica I',\n 'C123': 'Tropical Japonica',\n 'C124': 'Indica Intermediate',\n 'C125': 'Indica I',\n 'C127': 'Indica I',\n 'C128': 'Indica I',\n 'C129': 'Indica Intermediate',\n 'C130': 'Temperate Japonica',\n 'C131': 'Indica I',\n 'C132': 'Indica Intermediate',\n 'C133': 'Temperate Japonica',\n 'C134': 'Temperate Japonica',\n 'C135': 'Indica I',\n 'C136': 'Indica I',\n 'C137': 'Temperate Japonica',\n 'C138': 'Temperate Japonica',\n 'C139': 'Indica I',\n 'C140': 'Indica I',\n 'C141': 'Indica I',\n 'C142': 'Indica III',\n 'C143': 'Indica I',\n 'C144': 'Temperate Japonica',\n 'C145': 'Indica I',\n 'C146': 'Temperate Japonica',\n 'C147': 'Indica II',\n 'C148': 'Indica II',\n 'C149': 'Temperate Japonica',\n 'C150': 'Temperate Japonica',\n 'C151': 'Indica I',\n 'C152': 'Temperate Japonica',\n 'C153': 'Tropical Japonica',\n 'C154': 'Temperate Japonica',\n 'C155': 'Indica I',\n 'C156': 'Indica I',\n 'C157': 'Indica I',\n 'C158': 'Indica I',\n 'C159': 'Indica I',\n 'C160': 'Indica Intermediate',\n 'C161': 'Indica I',\n 'C162': 'Indica Intermediate',\n 'C163': 'Indica II',\n 'C164': 'Indica II',\n 'C165': 'Indica I',\n 'C166': 'Indica Intermediate',\n 'C167': 'Indica Intermediate',\n 'C168': 'Indica Intermediate',\n 'C169': 'Indica Intermediate',\n 'C170': 'Indica I',\n 'C171': 'Temperate Japonica',\n 'C172': 'Temperate Japonica',\n 'C173': 'Indica I',\n 'C174': 'Indica II',\n 'C175': 'Indica Intermediate',\n 'C176': 'Indica Intermediate',\n 'C177': 'Temperate Japonica',\n 'C178': 'Indica I',\n 'C179': 'Temperate Japonica',\n 'C180': 'Indica I',\n 'C181': 'Temperate Japonica',\n 'C182': 'Indica I',\n 'C183': 'Indica I',\n 'C184': 'Indica I',\n 'C185': 'Japonica Intermediate',\n 'C186': 'Japonica Intermediate',\n 'C187': 'Temperate Japonica',\n 'C188': 'Temperate Japonica',\n 'C189': 'Temperate Japonica',\n 'C190': 'Indica I',\n 'C191': 'Indica I',\n 'C192': 'Indica Intermediate',\n 'C193': 'Indica I',\n 'C194': 'Indica Intermediate',\n 'C195': 'Temperate Japonica',\n 'C196': 'Temperate Japonica',\n 'C197': 'Indica I',\n 'C198': 'Indica Intermediate',\n 'C199': 'Indica I',\n 'C200': 'Indica I',\n 'C201': 'Indica Intermediate',\n 'C202': 'Indica I',\n 'C203': 'Indica I',\n 'W001': 'Indica I',\n 'W002': 'Tropical Japonica',\n 'W003': 'Tropical Japonica',\n 'W004': 'Tropical Japonica',\n 'W005': 'Tropical Japonica',\n 'W006': 'Tropical Japonica',\n 'W007': 'Tropical Japonica',\n 'W008': 'Tropical Japonica',\n 'W009': 'Indica III',\n 'W010': 'Japonica Intermediate',\n 'W011': 'Temperate Japonica',\n 'W012': 'Temperate Japonica',\n 'W013': 'Temperate Japonica',\n 'W014': 'VI/Aromatic',\n 'W015': 'Aus',\n 'W016': 'Temperate Japonica',\n 'W017': 'Tropical Japonica',\n 'W018': 'Temperate Japonica',\n 'W019': 'Japonica Intermediate',\n 'W020': 'Aus',\n 'W021': 'Japonica Intermediate',\n 'W022': 'Tropical Japonica',\n 'W023': 'Indica III',\n 'W024': 'Tropical Japonica',\n 'W025': 'Aus',\n 'W026': 'Indica I',\n 'W027': 'Temperate Japonica',\n 'W028': 'Aus',\n 'W029': 'Indica Intermediate',\n 'W030': 'Indica Intermediate',\n 'W031': 'Indica I',\n 'W032': 'Indica I',\n 'W033': 'Indica I',\n 'W034': 'Aus',\n 'W035': 'Indica Intermediate',\n 'W036': 'Indica I',\n 'W037': 'Indica Intermediate',\n 'W038': 'Temperate Japonica',\n 'W039': 'Indica I',\n 'W040': 'Indica II',\n 'W041': 'Tropical Japonica',\n 'W042': 'Indica Intermediate',\n 'W043': 'Indica Intermediate',\n 'W044': 'Indica II',\n 'W045': 'Temperate Japonica',\n 'W046': 'Indica II',\n 'W047': 'Japonica Intermediate',\n 'W048': 'Aus',\n 'W049': 'Aus',\n 'W050': 'VI/Aromatic',\n 'W051': 'Indica II',\n 'W052': 'Temperate Japonica',\n 'W053': 'Tropical Japonica',\n 'W054': 'Indica Intermediate',\n 'W055': 'Intermediate',\n 'W056': 'Temperate Japonica',\n 'W057': 'Tropical Japonica',\n 'W058': 'Indica I',\n 'W059': 'Temperate Japonica',\n 'W060': 'Temperate Japonica',\n 'W061': 'Japonica Intermediate',\n 'W062': 'Tropical Japonica',\n 'W063': 'Japonica Intermediate',\n 'W064': 'Temperate Japonica',\n 'W065': 'Tropical Japonica',\n 'W066': 'Indica Intermediate',\n 'W067': 'Tropical Japonica',\n 'W068': 'Temperate Japonica',\n 'W069': 'Aus',\n 'W070': 'Indica Intermediate',\n 'W071': 'Indica Intermediate',\n 'W072': 'Aus',\n 'W073': 'Indica II',\n 'W074': 'Indica Intermediate',\n 'W075': 'Indica Intermediate',\n 'W076': 'Aus',\n 'W077': 'VI/Aromatic',\n 'W078': 'Indica Intermediate',\n 'W079': 'Intermediate',\n 'W080': 'Indica I',\n 'W081': 'VI/Aromatic',\n 'W082': 'Temperate Japonica',\n 'W083': 'Indica Intermediate',\n 'W084': 'Indica Intermediate',\n 'W085': 'Indica Intermediate',\n 'W086': 'Indica II',\n 'W087': 'Indica I',\n 'W088': 'Temperate Japonica',\n 'W089': 'Indica III',\n 'W090': 'Aus',\n 'W091': 'Aus',\n 'W092': 'Aus',\n 'W093': 'Indica III',\n 'W094': 'Aus',\n 'W095': 'Aus',\n 'W096': 'Aus',\n 'W097': 'Intermediate',\n 'W098': 'Aus',\n 'W099': 'Aus',\n 'W100': 'Aus',\n 'W101': 'Indica Intermediate',\n 'W102': 'Tropical Japonica',\n 'W103': 'Aus',\n 'W104': 'Aus',\n 'W105': 'Aus',\n 'W106': 'Aus',\n 'W107': 'Indica Intermediate',\n 'W108': 'Aus',\n 'W109': 'Temperate Japonica',\n 'W110': 'Tropical Japonica',\n 'W111': 'Indica III',\n 'W112': 'Indica III',\n 'W113': 'Tropical Japonica',\n 'W114': 'Indica III',\n 'W115': 'Aus',\n 'W116': 'Tropical Japonica',\n 'W117': 'Temperate Japonica',\n 'W118': 'Tropical Japonica',\n 'W119': 'Tropical Japonica',\n 'W120': 'Temperate Japonica',\n 'W121': 'Aus',\n 'W122': 'Japonica Intermediate',\n 'W123': 'Tropical Japonica',\n 'W124': 'Indica I',\n 'W125': 'Intermediate',\n 'W126': 'Indica I',\n 'W127': 'Japonica Intermediate',\n 'W128': 'Intermediate',\n 'W129': 'VI/Aromatic',\n 'W130': 'Temperate Japonica',\n 'W131': 'Aus',\n 'W132': 'Indica I',\n 'W133': 'Indica Intermediate',\n 'W134': 'Aus',\n 'W135': 'Indica Intermediate',\n 'W136': 'VI/Aromatic',\n 'W137': 'Indica Intermediate',\n 'W138': 'Indica I',\n 'W139': 'Temperate Japonica',\n 'W140': 'Aus',\n 'W141': 'Aus',\n 'W142': 'Aus',\n 'W143': 'Japonica Intermediate',\n 'W144': 'Indica I',\n 'W145': 'Indica Intermediate',\n 'W146': 'Indica I',\n 'W147': 'Indica Intermediate',\n 'W148': 'Indica Intermediate',\n 'W149': 'Indica Intermediate',\n 'W150': 'Indica II',\n 'W151': 'Indica II',\n 'W152': 'Indica II',\n 'W153': 'Indica II',\n 'W154': 'Indica II',\n 'W155': 'Indica Intermediate',\n 'W156': 'Indica I',\n 'W157': 'Indica Intermediate',\n 'W158': 'Intermediate',\n 'W159': 'Indica II',\n 'W160': 'Temperate Japonica',\n 'W161': 'Indica II',\n 'W162': 'Temperate Japonica',\n 'W163': 'Indica Intermediate',\n 'W164': 'Indica Intermediate',\n 'W165': 'Indica Intermediate',\n 'W166': 'Indica Intermediate',\n 'W167': 'Indica Intermediate',\n 'W168': 'Indica II',\n 'W169': 'Indica II',\n 'W170': 'Indica II',\n 'W171': 'Indica Intermediate',\n 'W172': 'Indica II',\n 'W173': 'Tropical Japonica',\n 'W174': 'Indica II',\n 'W175': 'Intermediate',\n 'W176': 'Indica II',\n 'W177': 'Indica II',\n 'W178': 'Indica III',\n 'W179': 'Indica II',\n 'W180': 'Indica Intermediate',\n 'W181': 'Indica Intermediate',\n 'W182': 'Indica II',\n 'W183': 'Indica II',\n 'W184': 'Indica II',\n 'W185': 'Indica II',\n 'W186': 'Indica Intermediate',\n 'W187': 'Indica Intermediate',\n 'W188': 'Indica II',\n 'W189': 'Indica II',\n 'W191': 'Intermediate',\n 'W192': 'Intermediate',\n 'W193': 'Temperate Japonica',\n 'W194': 'Indica II',\n 'W195': 'Indica II',\n 'W197': 'Indica II',\n 'W198': 'Indica Intermediate',\n 'W199': 'Indica Intermediate',\n 'W200': 'Indica Intermediate',\n 'W201': 'Indica Intermediate',\n 'W202': 'Indica Intermediate',\n 'W203': 'Indica Intermediate',\n 'W204': 'Indica I',\n 'W205': 'Indica I',\n 'W206': 'Indica Intermediate',\n 'W207': 'Temperate Japonica',\n 'W208': 'Temperate Japonica',\n 'W209': 'Temperate Japonica',\n 'W210': 'Indica I',\n 'W211': 'Indica II',\n 'W212': 'Indica Intermediate',\n 'W213': 'Indica Intermediate',\n 'W214': 'Aus',\n 'W215': 'Aus',\n 'W216': 'Indica II',\n 'W217': 'Indica Intermediate',\n 'W218': 'Indica Intermediate',\n 'W219': 'VI/Aromatic',\n 'W220': 'VI/Aromatic',\n 'W221': 'Indica Intermediate',\n 'W222': 'Indica II',\n 'W223': 'Indica II',\n 'W224': 'Indica II',\n 'W225': 'Tropical Japonica',\n 'W226': 'Temperate Japonica',\n 'W227': 'Indica Intermediate',\n 'W228': 'Indica II',\n 'W229': 'Indica II',\n 'W230': 'Indica II',\n 'W231': 'Indica II',\n 'W233': 'Indica Intermediate',\n 'W234': 'Indica Intermediate',\n 'W235': 'Indica I',\n 'W236': 'Indica II',\n 'W237': 'Indica II',\n 'W238': 'Indica II',\n 'W239': 'Indica Intermediate',\n 'W240': 'Indica Intermediate',\n 'W241': 'Indica II',\n 'W242': 'Indica Intermediate',\n 'W243': 'Indica II',\n 'W244': 'Indica II',\n 'W245': 'Indica Intermediate',\n 'W246': 'Indica Intermediate',\n 'W247': 'Indica I',\n 'W248': 'Indica I',\n 'W249': 'Temperate Japonica',\n 'W250': 'Temperate Japonica',\n 'W251': 'Tropical Japonica',\n 'W252': 'VI/Aromatic',\n 'W253': 'Tropical Japonica',\n 'W254': 'Tropical Japonica',\n 'W255': 'VI/Aromatic',\n 'W256': 'VI/Aromatic',\n 'W257': 'Tropical Japonica',\n 'W258': 'VI/Aromatic',\n 'W259': 'Indica II',\n 'W260': 'Tropical Japonica',\n 'W261': 'Intermediate',\n 'W262': 'Indica I',\n 'W263': 'Indica Intermediate',\n 'W264': 'Indica Intermediate',\n 'W265': 'Indica Intermediate',\n 'W266': 'Indica III',\n 'W267': 'Indica Intermediate',\n 'W268': 'Indica Intermediate',\n 'W269': 'Indica Intermediate',\n 'W270': 'Indica Intermediate',\n 'W271': 'Indica Intermediate',\n 'W272': 'Indica Intermediate',\n 'W273': 'Tropical Japonica',\n 'W274': 'Indica I',\n 'W275': 'Tropical Japonica',\n 'W276': 'Indica III',\n 'W277': 'Aus',\n 'W278': 'Aus',\n 'W279': 'Aus',\n 'W280': 'Aus',\n 'W281': 'Temperate Japonica',\n 'W282': 'Indica Intermediate',\n 'W283': 'Temperate Japonica',\n 'W284': 'Tropical Japonica',\n 'W285': 'Tropical Japonica',\n 'W286': 'Aus',\n 'W287': 'Aus',\n 'W288': 'Tropical Japonica',\n 'W289': 'Indica II',\n 'W290': 'Temperate Japonica',\n 'W291': 'Indica II',\n 'W292': 'Aus',\n 'W293': 'Indica II',\n 'W294': 'Intermediate',\n 'W295': 'Indica II',\n 'W296': 'Aus',\n 'W297': 'Aus',\n 'W298': 'Indica II',\n 'W299': 'Indica Intermediate',\n 'W300': 'Tropical Japonica',\n 'W301': 'Indica II',\n 'W302': 'Tropical Japonica',\n 'W303': 'Tropical Japonica',\n 'W304': 'Intermediate',\n 'W305': 'Temperate Japonica',\n 'W306': 'VI/Aromatic',\n 'W307': 'Indica II',\n 'W308': 'Indica II',\n 'W309': 'Indica II',\n 'W310': 'Indica Intermediate',\n 'W311': 'Indica II',\n 'W312': 'Indica II',\n 'W313': 'Indica II',\n 'W314': 'Indica II',\n 'W315': 'Indica II',\n 'W316': 'Indica II',\n 'W317': 'Indica II',\n 'W318': 'Indica I',\n 'W319': 'Temperate Japonica',\n 'W320': 'Indica Intermediate',\n 'W321': 'Indica III',\n 'W322': 'Indica Intermediate',\n 'W323': 'Japonica Intermediate',\n 'W324': 'Japonica Intermediate',\n 'W325': 'Temperate Japonica',\n 'W326': 'Japonica Intermediate',\n 'W327': 'Temperate Japonica',\n 'W328': 'Intermediate',\n 'W329': 'Tropical Japonica',\n 'W330': 'Aus'}"
     },
     "execution_count": 28,
     "metadata": {},
     "output_type": "execute_result"
    }
   ],
   "source": [
    "sub_pop_dict = dict()\n",
    "for i in range(mapping.shape[0]):\n",
    "    sub_pop_dict[mapping.iloc[i, 0]] = mapping.iloc[i, -3]\n",
    "sub_pop_dict"
   ],
   "metadata": {
    "collapsed": false,
    "ExecuteTime": {
     "end_time": "2023-07-14T06:12:44.720073Z",
     "start_time": "2023-07-14T06:12:44.715681Z"
    }
   }
  },
  {
   "cell_type": "code",
   "execution_count": 32,
   "outputs": [],
   "source": [
    "import json\n",
    "\n",
    "listX = [sequences_dict, clusters_dict, sequence_cluster_dict, unique_sequences_per_cluster]\n",
    "listN = ['sequences_dict', 'clusters_dict', 'sequence_cluster_dict', 'unique_sequences_per_cluster']\n",
    "\n",
    "\n",
    "with open(\"sequences_dict.json\", \"w\") as f:\n",
    "    json.dump(sequences_dict, f)\n",
    "\n",
    "with open(\"clusters_dict.json\", \"w\") as f:\n",
    "    json.dump(clusters_dict, f)\n",
    "\n",
    "with open(\"sequence_cluster_dict.json\", \"w\") as f:\n",
    "    json.dump(sequence_cluster_dict, f)\n",
    "\n",
    "with open(\"unique_sequences_per_cluster.json\", \"w\") as f:\n",
    "    json.dump(unique_sequences_per_cluster, f)\n",
    "\n"
   ],
   "metadata": {
    "collapsed": false,
    "ExecuteTime": {
     "end_time": "2023-07-14T06:14:28.132626Z",
     "start_time": "2023-07-14T06:14:28.120452Z"
    }
   }
  },
  {
   "cell_type": "code",
   "execution_count": 33,
   "outputs": [
    {
     "data": {
      "text/plain": "    Cultivar ID vg0101824220 vg0103966667 vg0121868877 vg0123227054  \\\n0          C001            T            C            A            C   \n1          C002            C            T            T            C   \n2          C003            C            T            T            C   \n3          C004            C            T            T            C   \n4          C005            C            T            T            C   \n..          ...          ...          ...          ...          ...   \n524        W326            C            T            T            C   \n525        W327            C            T            T            C   \n526        W328            C            T            T            C   \n527        W329            C            C            T            C   \n528        W330            T            T            T            C   \n\n    vg0212604991 vg0233306848 vg0233612032 vg0307718560 vg0326795211  ...  \\\n0              T            C            G            G            G  ...   \n1              T            C            G            A            G  ...   \n2              G            C            G            A            G  ...   \n3              T            T            G            G            A  ...   \n4              T            C            G            G            A  ...   \n..           ...          ...          ...          ...          ...  ...   \n524            T            C            G            G            A  ...   \n525            G            T            A            G            A  ...   \n526            T            C            G            G            A  ...   \n527            T            C            G            G            A  ...   \n528            T            C            G            A            G  ...   \n\n    vg0624681286 vg0624893517 vg0827013973 vg0828073239 vg0922675974  \\\n0              C            G            T            A            A   \n1              G            A            C            C            A   \n2              G            A            C            C            G   \n3              G            A            C            C            A   \n4              G            A            C            C            A   \n..           ...          ...          ...          ...          ...   \n524            G            A            C            C            A   \n525            C            G            C            A            A   \n526            C            G            C            C            G   \n527            G            A            C            A            A   \n528            G            G            C            A            G   \n\n    vg1002090270 vg1021348723          Subpopulation  Yield  \\\n0              C            A               Indica I  24.13   \n1              T            G            VI/Aromatic  15.18   \n2              T            G  Japonica Intermediate  24.54   \n3              T            G     Temperate Japonica  18.82   \n4              T            G      Tropical Japonica  22.50   \n..           ...          ...                    ...    ...   \n524            T            G  Japonica Intermediate  24.96   \n525            T            G     Temperate Japonica  35.33   \n526            T            A           Intermediate   7.69   \n527            T            A      Tropical Japonica  34.71   \n528            T            A                    Aus  33.92   \n\n               sequence  \n0    TCACTCGGGTGCGTAACA  \n1    CTTCTCGAGCGGACCATG  \n2    CTTCGCGAGTGGACCGTG  \n3    CTTCTTGGATGGACCATG  \n4    CTTCTCGGACGGACCATG  \n..                  ...  \n524  CTTCTCGGACGGACCATG  \n525  CTTCGTAGACACGCAATG  \n526  CTTCTCGGACGCGCCGTA  \n527  CCTCTCGGACGGACAATA  \n528  TTTCTCGAGCGGGCAGTA  \n\n[529 rows x 22 columns]",
      "text/html": "<div>\n<style scoped>\n    .dataframe tbody tr th:only-of-type {\n        vertical-align: middle;\n    }\n\n    .dataframe tbody tr th {\n        vertical-align: top;\n    }\n\n    .dataframe thead th {\n        text-align: right;\n    }\n</style>\n<table border=\"1\" class=\"dataframe\">\n  <thead>\n    <tr style=\"text-align: right;\">\n      <th></th>\n      <th>Cultivar ID</th>\n      <th>vg0101824220</th>\n      <th>vg0103966667</th>\n      <th>vg0121868877</th>\n      <th>vg0123227054</th>\n      <th>vg0212604991</th>\n      <th>vg0233306848</th>\n      <th>vg0233612032</th>\n      <th>vg0307718560</th>\n      <th>vg0326795211</th>\n      <th>...</th>\n      <th>vg0624681286</th>\n      <th>vg0624893517</th>\n      <th>vg0827013973</th>\n      <th>vg0828073239</th>\n      <th>vg0922675974</th>\n      <th>vg1002090270</th>\n      <th>vg1021348723</th>\n      <th>Subpopulation</th>\n      <th>Yield</th>\n      <th>sequence</th>\n    </tr>\n  </thead>\n  <tbody>\n    <tr>\n      <th>0</th>\n      <td>C001</td>\n      <td>T</td>\n      <td>C</td>\n      <td>A</td>\n      <td>C</td>\n      <td>T</td>\n      <td>C</td>\n      <td>G</td>\n      <td>G</td>\n      <td>G</td>\n      <td>...</td>\n      <td>C</td>\n      <td>G</td>\n      <td>T</td>\n      <td>A</td>\n      <td>A</td>\n      <td>C</td>\n      <td>A</td>\n      <td>Indica I</td>\n      <td>24.13</td>\n      <td>TCACTCGGGTGCGTAACA</td>\n    </tr>\n    <tr>\n      <th>1</th>\n      <td>C002</td>\n      <td>C</td>\n      <td>T</td>\n      <td>T</td>\n      <td>C</td>\n      <td>T</td>\n      <td>C</td>\n      <td>G</td>\n      <td>A</td>\n      <td>G</td>\n      <td>...</td>\n      <td>G</td>\n      <td>A</td>\n      <td>C</td>\n      <td>C</td>\n      <td>A</td>\n      <td>T</td>\n      <td>G</td>\n      <td>VI/Aromatic</td>\n      <td>15.18</td>\n      <td>CTTCTCGAGCGGACCATG</td>\n    </tr>\n    <tr>\n      <th>2</th>\n      <td>C003</td>\n      <td>C</td>\n      <td>T</td>\n      <td>T</td>\n      <td>C</td>\n      <td>G</td>\n      <td>C</td>\n      <td>G</td>\n      <td>A</td>\n      <td>G</td>\n      <td>...</td>\n      <td>G</td>\n      <td>A</td>\n      <td>C</td>\n      <td>C</td>\n      <td>G</td>\n      <td>T</td>\n      <td>G</td>\n      <td>Japonica Intermediate</td>\n      <td>24.54</td>\n      <td>CTTCGCGAGTGGACCGTG</td>\n    </tr>\n    <tr>\n      <th>3</th>\n      <td>C004</td>\n      <td>C</td>\n      <td>T</td>\n      <td>T</td>\n      <td>C</td>\n      <td>T</td>\n      <td>T</td>\n      <td>G</td>\n      <td>G</td>\n      <td>A</td>\n      <td>...</td>\n      <td>G</td>\n      <td>A</td>\n      <td>C</td>\n      <td>C</td>\n      <td>A</td>\n      <td>T</td>\n      <td>G</td>\n      <td>Temperate Japonica</td>\n      <td>18.82</td>\n      <td>CTTCTTGGATGGACCATG</td>\n    </tr>\n    <tr>\n      <th>4</th>\n      <td>C005</td>\n      <td>C</td>\n      <td>T</td>\n      <td>T</td>\n      <td>C</td>\n      <td>T</td>\n      <td>C</td>\n      <td>G</td>\n      <td>G</td>\n      <td>A</td>\n      <td>...</td>\n      <td>G</td>\n      <td>A</td>\n      <td>C</td>\n      <td>C</td>\n      <td>A</td>\n      <td>T</td>\n      <td>G</td>\n      <td>Tropical Japonica</td>\n      <td>22.50</td>\n      <td>CTTCTCGGACGGACCATG</td>\n    </tr>\n    <tr>\n      <th>...</th>\n      <td>...</td>\n      <td>...</td>\n      <td>...</td>\n      <td>...</td>\n      <td>...</td>\n      <td>...</td>\n      <td>...</td>\n      <td>...</td>\n      <td>...</td>\n      <td>...</td>\n      <td>...</td>\n      <td>...</td>\n      <td>...</td>\n      <td>...</td>\n      <td>...</td>\n      <td>...</td>\n      <td>...</td>\n      <td>...</td>\n      <td>...</td>\n      <td>...</td>\n      <td>...</td>\n    </tr>\n    <tr>\n      <th>524</th>\n      <td>W326</td>\n      <td>C</td>\n      <td>T</td>\n      <td>T</td>\n      <td>C</td>\n      <td>T</td>\n      <td>C</td>\n      <td>G</td>\n      <td>G</td>\n      <td>A</td>\n      <td>...</td>\n      <td>G</td>\n      <td>A</td>\n      <td>C</td>\n      <td>C</td>\n      <td>A</td>\n      <td>T</td>\n      <td>G</td>\n      <td>Japonica Intermediate</td>\n      <td>24.96</td>\n      <td>CTTCTCGGACGGACCATG</td>\n    </tr>\n    <tr>\n      <th>525</th>\n      <td>W327</td>\n      <td>C</td>\n      <td>T</td>\n      <td>T</td>\n      <td>C</td>\n      <td>G</td>\n      <td>T</td>\n      <td>A</td>\n      <td>G</td>\n      <td>A</td>\n      <td>...</td>\n      <td>C</td>\n      <td>G</td>\n      <td>C</td>\n      <td>A</td>\n      <td>A</td>\n      <td>T</td>\n      <td>G</td>\n      <td>Temperate Japonica</td>\n      <td>35.33</td>\n      <td>CTTCGTAGACACGCAATG</td>\n    </tr>\n    <tr>\n      <th>526</th>\n      <td>W328</td>\n      <td>C</td>\n      <td>T</td>\n      <td>T</td>\n      <td>C</td>\n      <td>T</td>\n      <td>C</td>\n      <td>G</td>\n      <td>G</td>\n      <td>A</td>\n      <td>...</td>\n      <td>C</td>\n      <td>G</td>\n      <td>C</td>\n      <td>C</td>\n      <td>G</td>\n      <td>T</td>\n      <td>A</td>\n      <td>Intermediate</td>\n      <td>7.69</td>\n      <td>CTTCTCGGACGCGCCGTA</td>\n    </tr>\n    <tr>\n      <th>527</th>\n      <td>W329</td>\n      <td>C</td>\n      <td>C</td>\n      <td>T</td>\n      <td>C</td>\n      <td>T</td>\n      <td>C</td>\n      <td>G</td>\n      <td>G</td>\n      <td>A</td>\n      <td>...</td>\n      <td>G</td>\n      <td>A</td>\n      <td>C</td>\n      <td>A</td>\n      <td>A</td>\n      <td>T</td>\n      <td>A</td>\n      <td>Tropical Japonica</td>\n      <td>34.71</td>\n      <td>CCTCTCGGACGGACAATA</td>\n    </tr>\n    <tr>\n      <th>528</th>\n      <td>W330</td>\n      <td>T</td>\n      <td>T</td>\n      <td>T</td>\n      <td>C</td>\n      <td>T</td>\n      <td>C</td>\n      <td>G</td>\n      <td>A</td>\n      <td>G</td>\n      <td>...</td>\n      <td>G</td>\n      <td>G</td>\n      <td>C</td>\n      <td>A</td>\n      <td>G</td>\n      <td>T</td>\n      <td>A</td>\n      <td>Aus</td>\n      <td>33.92</td>\n      <td>TTTCTCGAGCGGGCAGTA</td>\n    </tr>\n  </tbody>\n</table>\n<p>529 rows × 22 columns</p>\n</div>"
     },
     "execution_count": 33,
     "metadata": {},
     "output_type": "execute_result"
    }
   ],
   "source": [
    "mapping"
   ],
   "metadata": {
    "collapsed": false,
    "ExecuteTime": {
     "end_time": "2023-07-14T06:23:38.309213Z",
     "start_time": "2023-07-14T06:23:38.295787Z"
    }
   }
  },
  {
   "cell_type": "code",
   "execution_count": 41,
   "outputs": [],
   "source": [
    "mapping['Subpopulation'].replace('Indica I', 'Indica', inplace=True)\n",
    "mapping['Subpopulation'].replace('Indica II', 'Indica', inplace=True)\n",
    "mapping['Subpopulation'].replace('Indica III', 'Indica', inplace=True)\n",
    "mapping['Subpopulation'].replace('Indica Intermediate', 'Indica', inplace=True)\n",
    "mapping['Subpopulation'].replace('Japonica Intermediate', 'Japonica', inplace=True)\n",
    "mapping['Subpopulation'].replace('Temperate Japonica', 'Japonica', inplace=True)\n",
    "mapping['Subpopulation'].replace('Tropical Japonica', 'Japonica', inplace=True)"
   ],
   "metadata": {
    "collapsed": false,
    "ExecuteTime": {
     "end_time": "2023-07-14T06:28:55.558800Z",
     "start_time": "2023-07-14T06:28:55.555826Z"
    }
   }
  },
  {
   "cell_type": "code",
   "execution_count": 42,
   "outputs": [
    {
     "data": {
      "text/plain": "    Cultivar ID            sequence  Yield Subpopulation\n0          C001  TCACTCGGGTGCGTAACA  24.13        Indica\n1          C002  CTTCTCGAGCGGACCATG  15.18   VI/Aromatic\n2          C003  CTTCGCGAGTGGACCGTG  24.54      Japonica\n3          C004  CTTCTTGGATGGACCATG  18.82      Japonica\n4          C005  CTTCTCGGACGGACCATG  22.50      Japonica\n..          ...                 ...    ...           ...\n524        W326  CTTCTCGGACGGACCATG  24.96      Japonica\n525        W327  CTTCGTAGACACGCAATG  35.33      Japonica\n526        W328  CTTCTCGGACGCGCCGTA   7.69  Intermediate\n527        W329  CCTCTCGGACGGACAATA  34.71      Japonica\n528        W330  TTTCTCGAGCGGGCAGTA  33.92           Aus\n\n[529 rows x 4 columns]",
      "text/html": "<div>\n<style scoped>\n    .dataframe tbody tr th:only-of-type {\n        vertical-align: middle;\n    }\n\n    .dataframe tbody tr th {\n        vertical-align: top;\n    }\n\n    .dataframe thead th {\n        text-align: right;\n    }\n</style>\n<table border=\"1\" class=\"dataframe\">\n  <thead>\n    <tr style=\"text-align: right;\">\n      <th></th>\n      <th>Cultivar ID</th>\n      <th>sequence</th>\n      <th>Yield</th>\n      <th>Subpopulation</th>\n    </tr>\n  </thead>\n  <tbody>\n    <tr>\n      <th>0</th>\n      <td>C001</td>\n      <td>TCACTCGGGTGCGTAACA</td>\n      <td>24.13</td>\n      <td>Indica</td>\n    </tr>\n    <tr>\n      <th>1</th>\n      <td>C002</td>\n      <td>CTTCTCGAGCGGACCATG</td>\n      <td>15.18</td>\n      <td>VI/Aromatic</td>\n    </tr>\n    <tr>\n      <th>2</th>\n      <td>C003</td>\n      <td>CTTCGCGAGTGGACCGTG</td>\n      <td>24.54</td>\n      <td>Japonica</td>\n    </tr>\n    <tr>\n      <th>3</th>\n      <td>C004</td>\n      <td>CTTCTTGGATGGACCATG</td>\n      <td>18.82</td>\n      <td>Japonica</td>\n    </tr>\n    <tr>\n      <th>4</th>\n      <td>C005</td>\n      <td>CTTCTCGGACGGACCATG</td>\n      <td>22.50</td>\n      <td>Japonica</td>\n    </tr>\n    <tr>\n      <th>...</th>\n      <td>...</td>\n      <td>...</td>\n      <td>...</td>\n      <td>...</td>\n    </tr>\n    <tr>\n      <th>524</th>\n      <td>W326</td>\n      <td>CTTCTCGGACGGACCATG</td>\n      <td>24.96</td>\n      <td>Japonica</td>\n    </tr>\n    <tr>\n      <th>525</th>\n      <td>W327</td>\n      <td>CTTCGTAGACACGCAATG</td>\n      <td>35.33</td>\n      <td>Japonica</td>\n    </tr>\n    <tr>\n      <th>526</th>\n      <td>W328</td>\n      <td>CTTCTCGGACGCGCCGTA</td>\n      <td>7.69</td>\n      <td>Intermediate</td>\n    </tr>\n    <tr>\n      <th>527</th>\n      <td>W329</td>\n      <td>CCTCTCGGACGGACAATA</td>\n      <td>34.71</td>\n      <td>Japonica</td>\n    </tr>\n    <tr>\n      <th>528</th>\n      <td>W330</td>\n      <td>TTTCTCGAGCGGGCAGTA</td>\n      <td>33.92</td>\n      <td>Aus</td>\n    </tr>\n  </tbody>\n</table>\n<p>529 rows × 4 columns</p>\n</div>"
     },
     "execution_count": 42,
     "metadata": {},
     "output_type": "execute_result"
    }
   ],
   "source": [
    "df = mapping.iloc[:, [0,21, 20, 19]]\n",
    "df"
   ],
   "metadata": {
    "collapsed": false,
    "ExecuteTime": {
     "end_time": "2023-07-14T06:28:57.330005Z",
     "start_time": "2023-07-14T06:28:57.324191Z"
    }
   }
  },
  {
   "cell_type": "code",
   "execution_count": 58,
   "outputs": [],
   "source": [
    "import random\n",
    "\n",
    "def replace_characters(string):\n",
    "    # Maximum number of characters to replace (between 0 and 16)\n",
    "    max_replacements = random.randint(0, 16)\n",
    "\n",
    "    # Convert the string into a list of characters\n",
    "    char_list = list(string)\n",
    "\n",
    "    # Get the indices of characters to replace\n",
    "    indices = random.sample(range(len(char_list)), max_replacements)\n",
    "\n",
    "    # Replace the characters with 'N'\n",
    "    for index in indices:\n",
    "        char_list[index] = 'N'\n",
    "\n",
    "    # Join the characters back into a string\n",
    "    replaced_string = ''.join(char_list)\n",
    "\n",
    "    return replaced_string\n",
    "\n",
    "\n",
    "def add_or_subtract_value(value):\n",
    "    # Calculate the range of 2% of the value\n",
    "    range_2_percent = 0.02 * value\n",
    "\n",
    "    # Generate a random value within the range\n",
    "    random_value = random.uniform(-range_2_percent, range_2_percent)\n",
    "\n",
    "    # Add or subtract the random value from the input value\n",
    "    result = value + random_value\n",
    "\n",
    "    return result\n",
    "\n",
    "def add_character_columns(df, column_name):\n",
    "    # Iterate over the characters and add new columns\n",
    "    for i in range(18):\n",
    "        new_column_name = f'Character_{i+1}'\n",
    "        df[new_column_name] = df[column_name].str[i]\n",
    "\n",
    "    return df"
   ],
   "metadata": {
    "collapsed": false,
    "ExecuteTime": {
     "end_time": "2023-07-14T06:31:49.569836Z",
     "start_time": "2023-07-14T06:31:49.568680Z"
    }
   }
  },
  {
   "cell_type": "code",
   "execution_count": 59,
   "outputs": [
    {
     "data": {
      "text/plain": "                 sequence      yield subpopulation reference Character_1  \\\n0      TCACTCGGGTGCGTAACA  24.130000        Indica      C001           T   \n1      TNNNNNGNNNNNNTNNNN  24.503471        Indica      C001           T   \n2      NCNCNNNNGTNNGNANCN  24.555872        Indica      C001           N   \n3      NNNNNCNNNNNNNNANNA  24.595800        Indica      C001           N   \n4      NCANTCGGGTGCGTANCA  24.085985        Indica      C001           N   \n...                   ...        ...           ...       ...         ...   \n11104  TTTCTCGAGCGGNCAGTA  34.135817           Aus      W330           T   \n11105  TNTCTCNAGCGGNNAGTA  34.465201           Aus      W330           T   \n11106  TTNCTNGANCNGGCANTA  33.512260           Aus      W330           T   \n11107  TNTCNNNAGCNGGCAGTN  33.883545           Aus      W330           T   \n11108  TTTCTCNNGCGGGCAGTA  34.140683           Aus      W330           T   \n\n      Character_2 Character_3 Character_4 Character_5 Character_6  ...  \\\n0               C           A           C           T           C  ...   \n1               N           N           N           N           N  ...   \n2               C           N           C           N           N  ...   \n3               N           N           N           N           C  ...   \n4               C           A           N           T           C  ...   \n...           ...         ...         ...         ...         ...  ...   \n11104           T           T           C           T           C  ...   \n11105           N           T           C           T           C  ...   \n11106           T           N           C           T           N  ...   \n11107           N           T           C           N           N  ...   \n11108           T           T           C           T           C  ...   \n\n      Character_9 Character_10 Character_11 Character_12 Character_13  \\\n0               G            T            G            C            G   \n1               N            N            N            N            N   \n2               G            T            N            N            G   \n3               N            N            N            N            N   \n4               G            T            G            C            G   \n...           ...          ...          ...          ...          ...   \n11104           G            C            G            G            N   \n11105           G            C            G            G            N   \n11106           N            C            N            G            G   \n11107           G            C            N            G            G   \n11108           G            C            G            G            G   \n\n      Character_14 Character_15 Character_16 Character_17 Character_18  \n0                T            A            A            C            A  \n1                T            N            N            N            N  \n2                N            A            N            C            N  \n3                N            A            N            N            A  \n4                T            A            N            C            A  \n...            ...          ...          ...          ...          ...  \n11104            C            A            G            T            A  \n11105            N            A            G            T            A  \n11106            C            A            N            T            A  \n11107            C            A            G            T            N  \n11108            C            A            G            T            A  \n\n[11109 rows x 22 columns]",
      "text/html": "<div>\n<style scoped>\n    .dataframe tbody tr th:only-of-type {\n        vertical-align: middle;\n    }\n\n    .dataframe tbody tr th {\n        vertical-align: top;\n    }\n\n    .dataframe thead th {\n        text-align: right;\n    }\n</style>\n<table border=\"1\" class=\"dataframe\">\n  <thead>\n    <tr style=\"text-align: right;\">\n      <th></th>\n      <th>sequence</th>\n      <th>yield</th>\n      <th>subpopulation</th>\n      <th>reference</th>\n      <th>Character_1</th>\n      <th>Character_2</th>\n      <th>Character_3</th>\n      <th>Character_4</th>\n      <th>Character_5</th>\n      <th>Character_6</th>\n      <th>...</th>\n      <th>Character_9</th>\n      <th>Character_10</th>\n      <th>Character_11</th>\n      <th>Character_12</th>\n      <th>Character_13</th>\n      <th>Character_14</th>\n      <th>Character_15</th>\n      <th>Character_16</th>\n      <th>Character_17</th>\n      <th>Character_18</th>\n    </tr>\n  </thead>\n  <tbody>\n    <tr>\n      <th>0</th>\n      <td>TCACTCGGGTGCGTAACA</td>\n      <td>24.130000</td>\n      <td>Indica</td>\n      <td>C001</td>\n      <td>T</td>\n      <td>C</td>\n      <td>A</td>\n      <td>C</td>\n      <td>T</td>\n      <td>C</td>\n      <td>...</td>\n      <td>G</td>\n      <td>T</td>\n      <td>G</td>\n      <td>C</td>\n      <td>G</td>\n      <td>T</td>\n      <td>A</td>\n      <td>A</td>\n      <td>C</td>\n      <td>A</td>\n    </tr>\n    <tr>\n      <th>1</th>\n      <td>TNNNNNGNNNNNNTNNNN</td>\n      <td>24.503471</td>\n      <td>Indica</td>\n      <td>C001</td>\n      <td>T</td>\n      <td>N</td>\n      <td>N</td>\n      <td>N</td>\n      <td>N</td>\n      <td>N</td>\n      <td>...</td>\n      <td>N</td>\n      <td>N</td>\n      <td>N</td>\n      <td>N</td>\n      <td>N</td>\n      <td>T</td>\n      <td>N</td>\n      <td>N</td>\n      <td>N</td>\n      <td>N</td>\n    </tr>\n    <tr>\n      <th>2</th>\n      <td>NCNCNNNNGTNNGNANCN</td>\n      <td>24.555872</td>\n      <td>Indica</td>\n      <td>C001</td>\n      <td>N</td>\n      <td>C</td>\n      <td>N</td>\n      <td>C</td>\n      <td>N</td>\n      <td>N</td>\n      <td>...</td>\n      <td>G</td>\n      <td>T</td>\n      <td>N</td>\n      <td>N</td>\n      <td>G</td>\n      <td>N</td>\n      <td>A</td>\n      <td>N</td>\n      <td>C</td>\n      <td>N</td>\n    </tr>\n    <tr>\n      <th>3</th>\n      <td>NNNNNCNNNNNNNNANNA</td>\n      <td>24.595800</td>\n      <td>Indica</td>\n      <td>C001</td>\n      <td>N</td>\n      <td>N</td>\n      <td>N</td>\n      <td>N</td>\n      <td>N</td>\n      <td>C</td>\n      <td>...</td>\n      <td>N</td>\n      <td>N</td>\n      <td>N</td>\n      <td>N</td>\n      <td>N</td>\n      <td>N</td>\n      <td>A</td>\n      <td>N</td>\n      <td>N</td>\n      <td>A</td>\n    </tr>\n    <tr>\n      <th>4</th>\n      <td>NCANTCGGGTGCGTANCA</td>\n      <td>24.085985</td>\n      <td>Indica</td>\n      <td>C001</td>\n      <td>N</td>\n      <td>C</td>\n      <td>A</td>\n      <td>N</td>\n      <td>T</td>\n      <td>C</td>\n      <td>...</td>\n      <td>G</td>\n      <td>T</td>\n      <td>G</td>\n      <td>C</td>\n      <td>G</td>\n      <td>T</td>\n      <td>A</td>\n      <td>N</td>\n      <td>C</td>\n      <td>A</td>\n    </tr>\n    <tr>\n      <th>...</th>\n      <td>...</td>\n      <td>...</td>\n      <td>...</td>\n      <td>...</td>\n      <td>...</td>\n      <td>...</td>\n      <td>...</td>\n      <td>...</td>\n      <td>...</td>\n      <td>...</td>\n      <td>...</td>\n      <td>...</td>\n      <td>...</td>\n      <td>...</td>\n      <td>...</td>\n      <td>...</td>\n      <td>...</td>\n      <td>...</td>\n      <td>...</td>\n      <td>...</td>\n      <td>...</td>\n    </tr>\n    <tr>\n      <th>11104</th>\n      <td>TTTCTCGAGCGGNCAGTA</td>\n      <td>34.135817</td>\n      <td>Aus</td>\n      <td>W330</td>\n      <td>T</td>\n      <td>T</td>\n      <td>T</td>\n      <td>C</td>\n      <td>T</td>\n      <td>C</td>\n      <td>...</td>\n      <td>G</td>\n      <td>C</td>\n      <td>G</td>\n      <td>G</td>\n      <td>N</td>\n      <td>C</td>\n      <td>A</td>\n      <td>G</td>\n      <td>T</td>\n      <td>A</td>\n    </tr>\n    <tr>\n      <th>11105</th>\n      <td>TNTCTCNAGCGGNNAGTA</td>\n      <td>34.465201</td>\n      <td>Aus</td>\n      <td>W330</td>\n      <td>T</td>\n      <td>N</td>\n      <td>T</td>\n      <td>C</td>\n      <td>T</td>\n      <td>C</td>\n      <td>...</td>\n      <td>G</td>\n      <td>C</td>\n      <td>G</td>\n      <td>G</td>\n      <td>N</td>\n      <td>N</td>\n      <td>A</td>\n      <td>G</td>\n      <td>T</td>\n      <td>A</td>\n    </tr>\n    <tr>\n      <th>11106</th>\n      <td>TTNCTNGANCNGGCANTA</td>\n      <td>33.512260</td>\n      <td>Aus</td>\n      <td>W330</td>\n      <td>T</td>\n      <td>T</td>\n      <td>N</td>\n      <td>C</td>\n      <td>T</td>\n      <td>N</td>\n      <td>...</td>\n      <td>N</td>\n      <td>C</td>\n      <td>N</td>\n      <td>G</td>\n      <td>G</td>\n      <td>C</td>\n      <td>A</td>\n      <td>N</td>\n      <td>T</td>\n      <td>A</td>\n    </tr>\n    <tr>\n      <th>11107</th>\n      <td>TNTCNNNAGCNGGCAGTN</td>\n      <td>33.883545</td>\n      <td>Aus</td>\n      <td>W330</td>\n      <td>T</td>\n      <td>N</td>\n      <td>T</td>\n      <td>C</td>\n      <td>N</td>\n      <td>N</td>\n      <td>...</td>\n      <td>G</td>\n      <td>C</td>\n      <td>N</td>\n      <td>G</td>\n      <td>G</td>\n      <td>C</td>\n      <td>A</td>\n      <td>G</td>\n      <td>T</td>\n      <td>N</td>\n    </tr>\n    <tr>\n      <th>11108</th>\n      <td>TTTCTCNNGCGGGCAGTA</td>\n      <td>34.140683</td>\n      <td>Aus</td>\n      <td>W330</td>\n      <td>T</td>\n      <td>T</td>\n      <td>T</td>\n      <td>C</td>\n      <td>T</td>\n      <td>C</td>\n      <td>...</td>\n      <td>G</td>\n      <td>C</td>\n      <td>G</td>\n      <td>G</td>\n      <td>G</td>\n      <td>C</td>\n      <td>A</td>\n      <td>G</td>\n      <td>T</td>\n      <td>A</td>\n    </tr>\n  </tbody>\n</table>\n<p>11109 rows × 22 columns</p>\n</div>"
     },
     "execution_count": 59,
     "metadata": {},
     "output_type": "execute_result"
    }
   ],
   "source": [
    "new_df = pd.DataFrame(columns=['sequence','yield','subpopulation','reference'])\n",
    "\n",
    "for index, data in df.iterrows():\n",
    "    seq = data['sequence']\n",
    "    ref = data['Cultivar ID']\n",
    "    yield_ = data['Yield']\n",
    "    subPop = data['Subpopulation']\n",
    "    new_df = pd.concat([new_df, pd.DataFrame([[seq, yield_, subPop, ref]], columns=new_df.columns)], ignore_index=True)\n",
    "    for i in range(20):\n",
    "        new_sequence = replace_characters(seq)\n",
    "        new_height = add_or_subtract_value(yield_)\n",
    "        l=[new_sequence, new_height, subPop, ref]\n",
    "        new_df = pd.concat([new_df, pd.DataFrame([l], columns=new_df.columns)], ignore_index=True)\n",
    "\n",
    "\n",
    "add_character_columns(new_df, 'sequence')\n",
    "\n",
    "\n",
    "new_df"
   ],
   "metadata": {
    "collapsed": false,
    "ExecuteTime": {
     "end_time": "2023-07-14T06:31:53.803337Z",
     "start_time": "2023-07-14T06:31:50.506923Z"
    }
   }
  },
  {
   "cell_type": "code",
   "execution_count": 60,
   "outputs": [],
   "source": [
    "new_df.to_csv(\"synthesised.csv\", index=False)"
   ],
   "metadata": {
    "collapsed": false,
    "ExecuteTime": {
     "end_time": "2023-07-14T06:31:56.264439Z",
     "start_time": "2023-07-14T06:31:56.216140Z"
    }
   }
  },
  {
   "cell_type": "code",
   "execution_count": 61,
   "outputs": [
    {
     "data": {
      "text/plain": "                 sequence      yield  subpopulation reference Character_1  \\\n0      TCACTCGGGTGCGTAACA  24.130000              1      C001           T   \n1      TNNNNNGNNNNNNTNNNN  24.503471              1      C001           T   \n2      NCNCNNNNGTNNGNANCN  24.555872              1      C001           N   \n3      NNNNNCNNNNNNNNANNA  24.595800              1      C001           N   \n4      NCANTCGGGTGCGTANCA  24.085985              1      C001           N   \n...                   ...        ...            ...       ...         ...   \n11104  TTTCTCGAGCGGNCAGTA  34.135817              0      W330           T   \n11105  TNTCTCNAGCGGNNAGTA  34.465201              0      W330           T   \n11106  TTNCTNGANCNGGCANTA  33.512260              0      W330           T   \n11107  TNTCNNNAGCNGGCAGTN  33.883545              0      W330           T   \n11108  TTTCTCNNGCGGGCAGTA  34.140683              0      W330           T   \n\n      Character_2 Character_3 Character_4 Character_5 Character_6  ...  \\\n0               C           A           C           T           C  ...   \n1               N           N           N           N           N  ...   \n2               C           N           C           N           N  ...   \n3               N           N           N           N           C  ...   \n4               C           A           N           T           C  ...   \n...           ...         ...         ...         ...         ...  ...   \n11104           T           T           C           T           C  ...   \n11105           N           T           C           T           C  ...   \n11106           T           N           C           T           N  ...   \n11107           N           T           C           N           N  ...   \n11108           T           T           C           T           C  ...   \n\n      Character_9 Character_10 Character_11 Character_12 Character_13  \\\n0               G            T            G            C            G   \n1               N            N            N            N            N   \n2               G            T            N            N            G   \n3               N            N            N            N            N   \n4               G            T            G            C            G   \n...           ...          ...          ...          ...          ...   \n11104           G            C            G            G            N   \n11105           G            C            G            G            N   \n11106           N            C            N            G            G   \n11107           G            C            N            G            G   \n11108           G            C            G            G            G   \n\n      Character_14 Character_15 Character_16 Character_17 Character_18  \n0                T            A            A            C            A  \n1                T            N            N            N            N  \n2                N            A            N            C            N  \n3                N            A            N            N            A  \n4                T            A            N            C            A  \n...            ...          ...          ...          ...          ...  \n11104            C            A            G            T            A  \n11105            N            A            G            T            A  \n11106            C            A            N            T            A  \n11107            C            A            G            T            N  \n11108            C            A            G            T            A  \n\n[11109 rows x 22 columns]",
      "text/html": "<div>\n<style scoped>\n    .dataframe tbody tr th:only-of-type {\n        vertical-align: middle;\n    }\n\n    .dataframe tbody tr th {\n        vertical-align: top;\n    }\n\n    .dataframe thead th {\n        text-align: right;\n    }\n</style>\n<table border=\"1\" class=\"dataframe\">\n  <thead>\n    <tr style=\"text-align: right;\">\n      <th></th>\n      <th>sequence</th>\n      <th>yield</th>\n      <th>subpopulation</th>\n      <th>reference</th>\n      <th>Character_1</th>\n      <th>Character_2</th>\n      <th>Character_3</th>\n      <th>Character_4</th>\n      <th>Character_5</th>\n      <th>Character_6</th>\n      <th>...</th>\n      <th>Character_9</th>\n      <th>Character_10</th>\n      <th>Character_11</th>\n      <th>Character_12</th>\n      <th>Character_13</th>\n      <th>Character_14</th>\n      <th>Character_15</th>\n      <th>Character_16</th>\n      <th>Character_17</th>\n      <th>Character_18</th>\n    </tr>\n  </thead>\n  <tbody>\n    <tr>\n      <th>0</th>\n      <td>TCACTCGGGTGCGTAACA</td>\n      <td>24.130000</td>\n      <td>1</td>\n      <td>C001</td>\n      <td>T</td>\n      <td>C</td>\n      <td>A</td>\n      <td>C</td>\n      <td>T</td>\n      <td>C</td>\n      <td>...</td>\n      <td>G</td>\n      <td>T</td>\n      <td>G</td>\n      <td>C</td>\n      <td>G</td>\n      <td>T</td>\n      <td>A</td>\n      <td>A</td>\n      <td>C</td>\n      <td>A</td>\n    </tr>\n    <tr>\n      <th>1</th>\n      <td>TNNNNNGNNNNNNTNNNN</td>\n      <td>24.503471</td>\n      <td>1</td>\n      <td>C001</td>\n      <td>T</td>\n      <td>N</td>\n      <td>N</td>\n      <td>N</td>\n      <td>N</td>\n      <td>N</td>\n      <td>...</td>\n      <td>N</td>\n      <td>N</td>\n      <td>N</td>\n      <td>N</td>\n      <td>N</td>\n      <td>T</td>\n      <td>N</td>\n      <td>N</td>\n      <td>N</td>\n      <td>N</td>\n    </tr>\n    <tr>\n      <th>2</th>\n      <td>NCNCNNNNGTNNGNANCN</td>\n      <td>24.555872</td>\n      <td>1</td>\n      <td>C001</td>\n      <td>N</td>\n      <td>C</td>\n      <td>N</td>\n      <td>C</td>\n      <td>N</td>\n      <td>N</td>\n      <td>...</td>\n      <td>G</td>\n      <td>T</td>\n      <td>N</td>\n      <td>N</td>\n      <td>G</td>\n      <td>N</td>\n      <td>A</td>\n      <td>N</td>\n      <td>C</td>\n      <td>N</td>\n    </tr>\n    <tr>\n      <th>3</th>\n      <td>NNNNNCNNNNNNNNANNA</td>\n      <td>24.595800</td>\n      <td>1</td>\n      <td>C001</td>\n      <td>N</td>\n      <td>N</td>\n      <td>N</td>\n      <td>N</td>\n      <td>N</td>\n      <td>C</td>\n      <td>...</td>\n      <td>N</td>\n      <td>N</td>\n      <td>N</td>\n      <td>N</td>\n      <td>N</td>\n      <td>N</td>\n      <td>A</td>\n      <td>N</td>\n      <td>N</td>\n      <td>A</td>\n    </tr>\n    <tr>\n      <th>4</th>\n      <td>NCANTCGGGTGCGTANCA</td>\n      <td>24.085985</td>\n      <td>1</td>\n      <td>C001</td>\n      <td>N</td>\n      <td>C</td>\n      <td>A</td>\n      <td>N</td>\n      <td>T</td>\n      <td>C</td>\n      <td>...</td>\n      <td>G</td>\n      <td>T</td>\n      <td>G</td>\n      <td>C</td>\n      <td>G</td>\n      <td>T</td>\n      <td>A</td>\n      <td>N</td>\n      <td>C</td>\n      <td>A</td>\n    </tr>\n    <tr>\n      <th>...</th>\n      <td>...</td>\n      <td>...</td>\n      <td>...</td>\n      <td>...</td>\n      <td>...</td>\n      <td>...</td>\n      <td>...</td>\n      <td>...</td>\n      <td>...</td>\n      <td>...</td>\n      <td>...</td>\n      <td>...</td>\n      <td>...</td>\n      <td>...</td>\n      <td>...</td>\n      <td>...</td>\n      <td>...</td>\n      <td>...</td>\n      <td>...</td>\n      <td>...</td>\n      <td>...</td>\n    </tr>\n    <tr>\n      <th>11104</th>\n      <td>TTTCTCGAGCGGNCAGTA</td>\n      <td>34.135817</td>\n      <td>0</td>\n      <td>W330</td>\n      <td>T</td>\n      <td>T</td>\n      <td>T</td>\n      <td>C</td>\n      <td>T</td>\n      <td>C</td>\n      <td>...</td>\n      <td>G</td>\n      <td>C</td>\n      <td>G</td>\n      <td>G</td>\n      <td>N</td>\n      <td>C</td>\n      <td>A</td>\n      <td>G</td>\n      <td>T</td>\n      <td>A</td>\n    </tr>\n    <tr>\n      <th>11105</th>\n      <td>TNTCTCNAGCGGNNAGTA</td>\n      <td>34.465201</td>\n      <td>0</td>\n      <td>W330</td>\n      <td>T</td>\n      <td>N</td>\n      <td>T</td>\n      <td>C</td>\n      <td>T</td>\n      <td>C</td>\n      <td>...</td>\n      <td>G</td>\n      <td>C</td>\n      <td>G</td>\n      <td>G</td>\n      <td>N</td>\n      <td>N</td>\n      <td>A</td>\n      <td>G</td>\n      <td>T</td>\n      <td>A</td>\n    </tr>\n    <tr>\n      <th>11106</th>\n      <td>TTNCTNGANCNGGCANTA</td>\n      <td>33.512260</td>\n      <td>0</td>\n      <td>W330</td>\n      <td>T</td>\n      <td>T</td>\n      <td>N</td>\n      <td>C</td>\n      <td>T</td>\n      <td>N</td>\n      <td>...</td>\n      <td>N</td>\n      <td>C</td>\n      <td>N</td>\n      <td>G</td>\n      <td>G</td>\n      <td>C</td>\n      <td>A</td>\n      <td>N</td>\n      <td>T</td>\n      <td>A</td>\n    </tr>\n    <tr>\n      <th>11107</th>\n      <td>TNTCNNNAGCNGGCAGTN</td>\n      <td>33.883545</td>\n      <td>0</td>\n      <td>W330</td>\n      <td>T</td>\n      <td>N</td>\n      <td>T</td>\n      <td>C</td>\n      <td>N</td>\n      <td>N</td>\n      <td>...</td>\n      <td>G</td>\n      <td>C</td>\n      <td>N</td>\n      <td>G</td>\n      <td>G</td>\n      <td>C</td>\n      <td>A</td>\n      <td>G</td>\n      <td>T</td>\n      <td>N</td>\n    </tr>\n    <tr>\n      <th>11108</th>\n      <td>TTTCTCNNGCGGGCAGTA</td>\n      <td>34.140683</td>\n      <td>0</td>\n      <td>W330</td>\n      <td>T</td>\n      <td>T</td>\n      <td>T</td>\n      <td>C</td>\n      <td>T</td>\n      <td>C</td>\n      <td>...</td>\n      <td>G</td>\n      <td>C</td>\n      <td>G</td>\n      <td>G</td>\n      <td>G</td>\n      <td>C</td>\n      <td>A</td>\n      <td>G</td>\n      <td>T</td>\n      <td>A</td>\n    </tr>\n  </tbody>\n</table>\n<p>11109 rows × 22 columns</p>\n</div>"
     },
     "execution_count": 61,
     "metadata": {},
     "output_type": "execute_result"
    }
   ],
   "source": [
    "from sklearn.preprocessing import LabelEncoder\n",
    "encoder = LabelEncoder()\n",
    "new_df['subpopulation'] = encoder.fit_transform(new_df['subpopulation'])\n",
    "new_df"
   ],
   "metadata": {
    "collapsed": false,
    "ExecuteTime": {
     "end_time": "2023-07-14T06:31:57.085160Z",
     "start_time": "2023-07-14T06:31:57.064235Z"
    }
   }
  },
  {
   "cell_type": "code",
   "execution_count": 62,
   "outputs": [
    {
     "data": {
      "text/plain": "array(['Aus', 'Indica', 'Intermediate', 'Japonica', 'VI/Aromatic'],\n      dtype=object)"
     },
     "execution_count": 62,
     "metadata": {},
     "output_type": "execute_result"
    }
   ],
   "source": [
    "encoder.classes_"
   ],
   "metadata": {
    "collapsed": false,
    "ExecuteTime": {
     "end_time": "2023-07-14T06:31:57.997527Z",
     "start_time": "2023-07-14T06:31:57.991440Z"
    }
   }
  },
  {
   "cell_type": "code",
   "execution_count": 63,
   "outputs": [
    {
     "data": {
      "text/plain": "       Character_1_A  Character_1_T  Character_1_C  Character_1_G  \\\n0                  0              1              0              0   \n1                  0              1              0              0   \n2                  0              0              0              0   \n3                  0              0              0              0   \n4                  0              0              0              0   \n...              ...            ...            ...            ...   \n11104              0              1              0              0   \n11105              0              1              0              0   \n11106              0              1              0              0   \n11107              0              1              0              0   \n11108              0              1              0              0   \n\n       Character_2_A  Character_2_T  Character_2_C  Character_2_G  \\\n0                  0              0              1              0   \n1                  0              0              0              0   \n2                  0              0              1              0   \n3                  0              0              0              0   \n4                  0              0              1              0   \n...              ...            ...            ...            ...   \n11104              0              1              0              0   \n11105              0              0              0              0   \n11106              0              1              0              0   \n11107              0              0              0              0   \n11108              0              1              0              0   \n\n       Character_3_A  Character_3_T  ...  Character_16_C  Character_16_G  \\\n0                  1              0  ...               0               0   \n1                  0              0  ...               0               0   \n2                  0              0  ...               0               0   \n3                  0              0  ...               0               0   \n4                  1              0  ...               0               0   \n...              ...            ...  ...             ...             ...   \n11104              0              1  ...               0               1   \n11105              0              1  ...               0               1   \n11106              0              0  ...               0               0   \n11107              0              1  ...               0               1   \n11108              0              1  ...               0               1   \n\n       Character_17_A  Character_17_T  Character_17_C  Character_17_G  \\\n0                   0               0               1               0   \n1                   0               0               0               0   \n2                   0               0               1               0   \n3                   0               0               0               0   \n4                   0               0               1               0   \n...               ...             ...             ...             ...   \n11104               0               1               0               0   \n11105               0               1               0               0   \n11106               0               1               0               0   \n11107               0               1               0               0   \n11108               0               1               0               0   \n\n       Character_18_A  Character_18_T  Character_18_C  Character_18_G  \n0                   1               0               0               0  \n1                   0               0               0               0  \n2                   0               0               0               0  \n3                   1               0               0               0  \n4                   1               0               0               0  \n...               ...             ...             ...             ...  \n11104               1               0               0               0  \n11105               1               0               0               0  \n11106               1               0               0               0  \n11107               0               0               0               0  \n11108               1               0               0               0  \n\n[11109 rows x 72 columns]",
      "text/html": "<div>\n<style scoped>\n    .dataframe tbody tr th:only-of-type {\n        vertical-align: middle;\n    }\n\n    .dataframe tbody tr th {\n        vertical-align: top;\n    }\n\n    .dataframe thead th {\n        text-align: right;\n    }\n</style>\n<table border=\"1\" class=\"dataframe\">\n  <thead>\n    <tr style=\"text-align: right;\">\n      <th></th>\n      <th>Character_1_A</th>\n      <th>Character_1_T</th>\n      <th>Character_1_C</th>\n      <th>Character_1_G</th>\n      <th>Character_2_A</th>\n      <th>Character_2_T</th>\n      <th>Character_2_C</th>\n      <th>Character_2_G</th>\n      <th>Character_3_A</th>\n      <th>Character_3_T</th>\n      <th>...</th>\n      <th>Character_16_C</th>\n      <th>Character_16_G</th>\n      <th>Character_17_A</th>\n      <th>Character_17_T</th>\n      <th>Character_17_C</th>\n      <th>Character_17_G</th>\n      <th>Character_18_A</th>\n      <th>Character_18_T</th>\n      <th>Character_18_C</th>\n      <th>Character_18_G</th>\n    </tr>\n  </thead>\n  <tbody>\n    <tr>\n      <th>0</th>\n      <td>0</td>\n      <td>1</td>\n      <td>0</td>\n      <td>0</td>\n      <td>0</td>\n      <td>0</td>\n      <td>1</td>\n      <td>0</td>\n      <td>1</td>\n      <td>0</td>\n      <td>...</td>\n      <td>0</td>\n      <td>0</td>\n      <td>0</td>\n      <td>0</td>\n      <td>1</td>\n      <td>0</td>\n      <td>1</td>\n      <td>0</td>\n      <td>0</td>\n      <td>0</td>\n    </tr>\n    <tr>\n      <th>1</th>\n      <td>0</td>\n      <td>1</td>\n      <td>0</td>\n      <td>0</td>\n      <td>0</td>\n      <td>0</td>\n      <td>0</td>\n      <td>0</td>\n      <td>0</td>\n      <td>0</td>\n      <td>...</td>\n      <td>0</td>\n      <td>0</td>\n      <td>0</td>\n      <td>0</td>\n      <td>0</td>\n      <td>0</td>\n      <td>0</td>\n      <td>0</td>\n      <td>0</td>\n      <td>0</td>\n    </tr>\n    <tr>\n      <th>2</th>\n      <td>0</td>\n      <td>0</td>\n      <td>0</td>\n      <td>0</td>\n      <td>0</td>\n      <td>0</td>\n      <td>1</td>\n      <td>0</td>\n      <td>0</td>\n      <td>0</td>\n      <td>...</td>\n      <td>0</td>\n      <td>0</td>\n      <td>0</td>\n      <td>0</td>\n      <td>1</td>\n      <td>0</td>\n      <td>0</td>\n      <td>0</td>\n      <td>0</td>\n      <td>0</td>\n    </tr>\n    <tr>\n      <th>3</th>\n      <td>0</td>\n      <td>0</td>\n      <td>0</td>\n      <td>0</td>\n      <td>0</td>\n      <td>0</td>\n      <td>0</td>\n      <td>0</td>\n      <td>0</td>\n      <td>0</td>\n      <td>...</td>\n      <td>0</td>\n      <td>0</td>\n      <td>0</td>\n      <td>0</td>\n      <td>0</td>\n      <td>0</td>\n      <td>1</td>\n      <td>0</td>\n      <td>0</td>\n      <td>0</td>\n    </tr>\n    <tr>\n      <th>4</th>\n      <td>0</td>\n      <td>0</td>\n      <td>0</td>\n      <td>0</td>\n      <td>0</td>\n      <td>0</td>\n      <td>1</td>\n      <td>0</td>\n      <td>1</td>\n      <td>0</td>\n      <td>...</td>\n      <td>0</td>\n      <td>0</td>\n      <td>0</td>\n      <td>0</td>\n      <td>1</td>\n      <td>0</td>\n      <td>1</td>\n      <td>0</td>\n      <td>0</td>\n      <td>0</td>\n    </tr>\n    <tr>\n      <th>...</th>\n      <td>...</td>\n      <td>...</td>\n      <td>...</td>\n      <td>...</td>\n      <td>...</td>\n      <td>...</td>\n      <td>...</td>\n      <td>...</td>\n      <td>...</td>\n      <td>...</td>\n      <td>...</td>\n      <td>...</td>\n      <td>...</td>\n      <td>...</td>\n      <td>...</td>\n      <td>...</td>\n      <td>...</td>\n      <td>...</td>\n      <td>...</td>\n      <td>...</td>\n      <td>...</td>\n    </tr>\n    <tr>\n      <th>11104</th>\n      <td>0</td>\n      <td>1</td>\n      <td>0</td>\n      <td>0</td>\n      <td>0</td>\n      <td>1</td>\n      <td>0</td>\n      <td>0</td>\n      <td>0</td>\n      <td>1</td>\n      <td>...</td>\n      <td>0</td>\n      <td>1</td>\n      <td>0</td>\n      <td>1</td>\n      <td>0</td>\n      <td>0</td>\n      <td>1</td>\n      <td>0</td>\n      <td>0</td>\n      <td>0</td>\n    </tr>\n    <tr>\n      <th>11105</th>\n      <td>0</td>\n      <td>1</td>\n      <td>0</td>\n      <td>0</td>\n      <td>0</td>\n      <td>0</td>\n      <td>0</td>\n      <td>0</td>\n      <td>0</td>\n      <td>1</td>\n      <td>...</td>\n      <td>0</td>\n      <td>1</td>\n      <td>0</td>\n      <td>1</td>\n      <td>0</td>\n      <td>0</td>\n      <td>1</td>\n      <td>0</td>\n      <td>0</td>\n      <td>0</td>\n    </tr>\n    <tr>\n      <th>11106</th>\n      <td>0</td>\n      <td>1</td>\n      <td>0</td>\n      <td>0</td>\n      <td>0</td>\n      <td>1</td>\n      <td>0</td>\n      <td>0</td>\n      <td>0</td>\n      <td>0</td>\n      <td>...</td>\n      <td>0</td>\n      <td>0</td>\n      <td>0</td>\n      <td>1</td>\n      <td>0</td>\n      <td>0</td>\n      <td>1</td>\n      <td>0</td>\n      <td>0</td>\n      <td>0</td>\n    </tr>\n    <tr>\n      <th>11107</th>\n      <td>0</td>\n      <td>1</td>\n      <td>0</td>\n      <td>0</td>\n      <td>0</td>\n      <td>0</td>\n      <td>0</td>\n      <td>0</td>\n      <td>0</td>\n      <td>1</td>\n      <td>...</td>\n      <td>0</td>\n      <td>1</td>\n      <td>0</td>\n      <td>1</td>\n      <td>0</td>\n      <td>0</td>\n      <td>0</td>\n      <td>0</td>\n      <td>0</td>\n      <td>0</td>\n    </tr>\n    <tr>\n      <th>11108</th>\n      <td>0</td>\n      <td>1</td>\n      <td>0</td>\n      <td>0</td>\n      <td>0</td>\n      <td>1</td>\n      <td>0</td>\n      <td>0</td>\n      <td>0</td>\n      <td>1</td>\n      <td>...</td>\n      <td>0</td>\n      <td>1</td>\n      <td>0</td>\n      <td>1</td>\n      <td>0</td>\n      <td>0</td>\n      <td>1</td>\n      <td>0</td>\n      <td>0</td>\n      <td>0</td>\n    </tr>\n  </tbody>\n</table>\n<p>11109 rows × 72 columns</p>\n</div>"
     },
     "execution_count": 63,
     "metadata": {},
     "output_type": "execute_result"
    }
   ],
   "source": [
    "x_df = new_df.iloc[:, 4:]\n",
    "\n",
    "valid_values = ['A', 'T', 'C', 'G']\n",
    "\n",
    "# Perform one-hot encoding for each column\n",
    "ohe_columns = pd.DataFrame()\n",
    "for column in x_df.columns:\n",
    "    ohe = pd.get_dummies(x_df[column])\n",
    "    missing_values = list(set(valid_values) - set(ohe.columns))\n",
    "    for missing_value in missing_values:\n",
    "        ohe[missing_value] = 0\n",
    "    ohe = ohe.reindex(columns=valid_values, fill_value=0)\n",
    "    ohe = ohe.add_prefix(column + '_')\n",
    "    ohe_columns = pd.concat([ohe_columns, ohe], axis=1)\n",
    "\n",
    "ohe_columns = ohe_columns.astype(int)\n",
    "ohe_columns"
   ],
   "metadata": {
    "collapsed": false,
    "ExecuteTime": {
     "end_time": "2023-07-14T06:31:59.349041Z",
     "start_time": "2023-07-14T06:31:59.293978Z"
    }
   }
  },
  {
   "cell_type": "code",
   "execution_count": 64,
   "outputs": [
    {
     "data": {
      "text/plain": "       subpopulation      yield\n0                  1  24.130000\n1                  1  24.503471\n2                  1  24.555872\n3                  1  24.595800\n4                  1  24.085985\n...              ...        ...\n11104              0  34.135817\n11105              0  34.465201\n11106              0  33.512260\n11107              0  33.883545\n11108              0  34.140683\n\n[11109 rows x 2 columns]",
      "text/html": "<div>\n<style scoped>\n    .dataframe tbody tr th:only-of-type {\n        vertical-align: middle;\n    }\n\n    .dataframe tbody tr th {\n        vertical-align: top;\n    }\n\n    .dataframe thead th {\n        text-align: right;\n    }\n</style>\n<table border=\"1\" class=\"dataframe\">\n  <thead>\n    <tr style=\"text-align: right;\">\n      <th></th>\n      <th>subpopulation</th>\n      <th>yield</th>\n    </tr>\n  </thead>\n  <tbody>\n    <tr>\n      <th>0</th>\n      <td>1</td>\n      <td>24.130000</td>\n    </tr>\n    <tr>\n      <th>1</th>\n      <td>1</td>\n      <td>24.503471</td>\n    </tr>\n    <tr>\n      <th>2</th>\n      <td>1</td>\n      <td>24.555872</td>\n    </tr>\n    <tr>\n      <th>3</th>\n      <td>1</td>\n      <td>24.595800</td>\n    </tr>\n    <tr>\n      <th>4</th>\n      <td>1</td>\n      <td>24.085985</td>\n    </tr>\n    <tr>\n      <th>...</th>\n      <td>...</td>\n      <td>...</td>\n    </tr>\n    <tr>\n      <th>11104</th>\n      <td>0</td>\n      <td>34.135817</td>\n    </tr>\n    <tr>\n      <th>11105</th>\n      <td>0</td>\n      <td>34.465201</td>\n    </tr>\n    <tr>\n      <th>11106</th>\n      <td>0</td>\n      <td>33.512260</td>\n    </tr>\n    <tr>\n      <th>11107</th>\n      <td>0</td>\n      <td>33.883545</td>\n    </tr>\n    <tr>\n      <th>11108</th>\n      <td>0</td>\n      <td>34.140683</td>\n    </tr>\n  </tbody>\n</table>\n<p>11109 rows × 2 columns</p>\n</div>"
     },
     "execution_count": 64,
     "metadata": {},
     "output_type": "execute_result"
    }
   ],
   "source": [
    "next_df = new_df.iloc[:, [2, 1]]\n",
    "next_df"
   ],
   "metadata": {
    "collapsed": false,
    "ExecuteTime": {
     "end_time": "2023-07-14T06:32:00.368269Z",
     "start_time": "2023-07-14T06:32:00.351104Z"
    }
   }
  },
  {
   "cell_type": "code",
   "execution_count": 65,
   "outputs": [
    {
     "data": {
      "text/plain": "       Character_1_A  Character_1_T  Character_1_C  Character_1_G  \\\n0                  0              1              0              0   \n1                  0              1              0              0   \n2                  0              0              0              0   \n3                  0              0              0              0   \n4                  0              0              0              0   \n...              ...            ...            ...            ...   \n11104              0              1              0              0   \n11105              0              1              0              0   \n11106              0              1              0              0   \n11107              0              1              0              0   \n11108              0              1              0              0   \n\n       Character_2_A  Character_2_T  Character_2_C  Character_2_G  \\\n0                  0              0              1              0   \n1                  0              0              0              0   \n2                  0              0              1              0   \n3                  0              0              0              0   \n4                  0              0              1              0   \n...              ...            ...            ...            ...   \n11104              0              1              0              0   \n11105              0              0              0              0   \n11106              0              1              0              0   \n11107              0              0              0              0   \n11108              0              1              0              0   \n\n       Character_3_A  Character_3_T  ...  Character_17_A  Character_17_T  \\\n0                  1              0  ...               0               0   \n1                  0              0  ...               0               0   \n2                  0              0  ...               0               0   \n3                  0              0  ...               0               0   \n4                  1              0  ...               0               0   \n...              ...            ...  ...             ...             ...   \n11104              0              1  ...               0               1   \n11105              0              1  ...               0               1   \n11106              0              0  ...               0               1   \n11107              0              1  ...               0               1   \n11108              0              1  ...               0               1   \n\n       Character_17_C  Character_17_G  Character_18_A  Character_18_T  \\\n0                   1               0               1               0   \n1                   0               0               0               0   \n2                   1               0               0               0   \n3                   0               0               1               0   \n4                   1               0               1               0   \n...               ...             ...             ...             ...   \n11104               0               0               1               0   \n11105               0               0               1               0   \n11106               0               0               1               0   \n11107               0               0               0               0   \n11108               0               0               1               0   \n\n       Character_18_C  Character_18_G  subpopulation      yield  \n0                   0               0              1  24.130000  \n1                   0               0              1  24.503471  \n2                   0               0              1  24.555872  \n3                   0               0              1  24.595800  \n4                   0               0              1  24.085985  \n...               ...             ...            ...        ...  \n11104               0               0              0  34.135817  \n11105               0               0              0  34.465201  \n11106               0               0              0  33.512260  \n11107               0               0              0  33.883545  \n11108               0               0              0  34.140683  \n\n[11109 rows x 74 columns]",
      "text/html": "<div>\n<style scoped>\n    .dataframe tbody tr th:only-of-type {\n        vertical-align: middle;\n    }\n\n    .dataframe tbody tr th {\n        vertical-align: top;\n    }\n\n    .dataframe thead th {\n        text-align: right;\n    }\n</style>\n<table border=\"1\" class=\"dataframe\">\n  <thead>\n    <tr style=\"text-align: right;\">\n      <th></th>\n      <th>Character_1_A</th>\n      <th>Character_1_T</th>\n      <th>Character_1_C</th>\n      <th>Character_1_G</th>\n      <th>Character_2_A</th>\n      <th>Character_2_T</th>\n      <th>Character_2_C</th>\n      <th>Character_2_G</th>\n      <th>Character_3_A</th>\n      <th>Character_3_T</th>\n      <th>...</th>\n      <th>Character_17_A</th>\n      <th>Character_17_T</th>\n      <th>Character_17_C</th>\n      <th>Character_17_G</th>\n      <th>Character_18_A</th>\n      <th>Character_18_T</th>\n      <th>Character_18_C</th>\n      <th>Character_18_G</th>\n      <th>subpopulation</th>\n      <th>yield</th>\n    </tr>\n  </thead>\n  <tbody>\n    <tr>\n      <th>0</th>\n      <td>0</td>\n      <td>1</td>\n      <td>0</td>\n      <td>0</td>\n      <td>0</td>\n      <td>0</td>\n      <td>1</td>\n      <td>0</td>\n      <td>1</td>\n      <td>0</td>\n      <td>...</td>\n      <td>0</td>\n      <td>0</td>\n      <td>1</td>\n      <td>0</td>\n      <td>1</td>\n      <td>0</td>\n      <td>0</td>\n      <td>0</td>\n      <td>1</td>\n      <td>24.130000</td>\n    </tr>\n    <tr>\n      <th>1</th>\n      <td>0</td>\n      <td>1</td>\n      <td>0</td>\n      <td>0</td>\n      <td>0</td>\n      <td>0</td>\n      <td>0</td>\n      <td>0</td>\n      <td>0</td>\n      <td>0</td>\n      <td>...</td>\n      <td>0</td>\n      <td>0</td>\n      <td>0</td>\n      <td>0</td>\n      <td>0</td>\n      <td>0</td>\n      <td>0</td>\n      <td>0</td>\n      <td>1</td>\n      <td>24.503471</td>\n    </tr>\n    <tr>\n      <th>2</th>\n      <td>0</td>\n      <td>0</td>\n      <td>0</td>\n      <td>0</td>\n      <td>0</td>\n      <td>0</td>\n      <td>1</td>\n      <td>0</td>\n      <td>0</td>\n      <td>0</td>\n      <td>...</td>\n      <td>0</td>\n      <td>0</td>\n      <td>1</td>\n      <td>0</td>\n      <td>0</td>\n      <td>0</td>\n      <td>0</td>\n      <td>0</td>\n      <td>1</td>\n      <td>24.555872</td>\n    </tr>\n    <tr>\n      <th>3</th>\n      <td>0</td>\n      <td>0</td>\n      <td>0</td>\n      <td>0</td>\n      <td>0</td>\n      <td>0</td>\n      <td>0</td>\n      <td>0</td>\n      <td>0</td>\n      <td>0</td>\n      <td>...</td>\n      <td>0</td>\n      <td>0</td>\n      <td>0</td>\n      <td>0</td>\n      <td>1</td>\n      <td>0</td>\n      <td>0</td>\n      <td>0</td>\n      <td>1</td>\n      <td>24.595800</td>\n    </tr>\n    <tr>\n      <th>4</th>\n      <td>0</td>\n      <td>0</td>\n      <td>0</td>\n      <td>0</td>\n      <td>0</td>\n      <td>0</td>\n      <td>1</td>\n      <td>0</td>\n      <td>1</td>\n      <td>0</td>\n      <td>...</td>\n      <td>0</td>\n      <td>0</td>\n      <td>1</td>\n      <td>0</td>\n      <td>1</td>\n      <td>0</td>\n      <td>0</td>\n      <td>0</td>\n      <td>1</td>\n      <td>24.085985</td>\n    </tr>\n    <tr>\n      <th>...</th>\n      <td>...</td>\n      <td>...</td>\n      <td>...</td>\n      <td>...</td>\n      <td>...</td>\n      <td>...</td>\n      <td>...</td>\n      <td>...</td>\n      <td>...</td>\n      <td>...</td>\n      <td>...</td>\n      <td>...</td>\n      <td>...</td>\n      <td>...</td>\n      <td>...</td>\n      <td>...</td>\n      <td>...</td>\n      <td>...</td>\n      <td>...</td>\n      <td>...</td>\n      <td>...</td>\n    </tr>\n    <tr>\n      <th>11104</th>\n      <td>0</td>\n      <td>1</td>\n      <td>0</td>\n      <td>0</td>\n      <td>0</td>\n      <td>1</td>\n      <td>0</td>\n      <td>0</td>\n      <td>0</td>\n      <td>1</td>\n      <td>...</td>\n      <td>0</td>\n      <td>1</td>\n      <td>0</td>\n      <td>0</td>\n      <td>1</td>\n      <td>0</td>\n      <td>0</td>\n      <td>0</td>\n      <td>0</td>\n      <td>34.135817</td>\n    </tr>\n    <tr>\n      <th>11105</th>\n      <td>0</td>\n      <td>1</td>\n      <td>0</td>\n      <td>0</td>\n      <td>0</td>\n      <td>0</td>\n      <td>0</td>\n      <td>0</td>\n      <td>0</td>\n      <td>1</td>\n      <td>...</td>\n      <td>0</td>\n      <td>1</td>\n      <td>0</td>\n      <td>0</td>\n      <td>1</td>\n      <td>0</td>\n      <td>0</td>\n      <td>0</td>\n      <td>0</td>\n      <td>34.465201</td>\n    </tr>\n    <tr>\n      <th>11106</th>\n      <td>0</td>\n      <td>1</td>\n      <td>0</td>\n      <td>0</td>\n      <td>0</td>\n      <td>1</td>\n      <td>0</td>\n      <td>0</td>\n      <td>0</td>\n      <td>0</td>\n      <td>...</td>\n      <td>0</td>\n      <td>1</td>\n      <td>0</td>\n      <td>0</td>\n      <td>1</td>\n      <td>0</td>\n      <td>0</td>\n      <td>0</td>\n      <td>0</td>\n      <td>33.512260</td>\n    </tr>\n    <tr>\n      <th>11107</th>\n      <td>0</td>\n      <td>1</td>\n      <td>0</td>\n      <td>0</td>\n      <td>0</td>\n      <td>0</td>\n      <td>0</td>\n      <td>0</td>\n      <td>0</td>\n      <td>1</td>\n      <td>...</td>\n      <td>0</td>\n      <td>1</td>\n      <td>0</td>\n      <td>0</td>\n      <td>0</td>\n      <td>0</td>\n      <td>0</td>\n      <td>0</td>\n      <td>0</td>\n      <td>33.883545</td>\n    </tr>\n    <tr>\n      <th>11108</th>\n      <td>0</td>\n      <td>1</td>\n      <td>0</td>\n      <td>0</td>\n      <td>0</td>\n      <td>1</td>\n      <td>0</td>\n      <td>0</td>\n      <td>0</td>\n      <td>1</td>\n      <td>...</td>\n      <td>0</td>\n      <td>1</td>\n      <td>0</td>\n      <td>0</td>\n      <td>1</td>\n      <td>0</td>\n      <td>0</td>\n      <td>0</td>\n      <td>0</td>\n      <td>34.140683</td>\n    </tr>\n  </tbody>\n</table>\n<p>11109 rows × 74 columns</p>\n</div>"
     },
     "execution_count": 65,
     "metadata": {},
     "output_type": "execute_result"
    }
   ],
   "source": [
    "final_df = pd.concat([ohe_columns, next_df], axis=1)\n",
    "final_df"
   ],
   "metadata": {
    "collapsed": false,
    "ExecuteTime": {
     "end_time": "2023-07-14T06:32:01.167562Z",
     "start_time": "2023-07-14T06:32:01.153633Z"
    }
   }
  },
  {
   "cell_type": "code",
   "execution_count": 66,
   "outputs": [],
   "source": [
    "final_df.to_csv(\"encoded.csv\", index=False)"
   ],
   "metadata": {
    "collapsed": false,
    "ExecuteTime": {
     "end_time": "2023-07-14T06:32:01.804140Z",
     "start_time": "2023-07-14T06:32:01.692311Z"
    }
   }
  },
  {
   "cell_type": "code",
   "execution_count": 69,
   "outputs": [
    {
     "data": {
      "text/plain": "       Character_1_A  Character_1_T  Character_1_C  Character_1_G  \\\n0                  0              1              0              0   \n1                  0              1              0              0   \n2                  0              0              0              0   \n3                  0              0              0              0   \n4                  0              0              0              0   \n...              ...            ...            ...            ...   \n11104              0              1              0              0   \n11105              0              1              0              0   \n11106              0              1              0              0   \n11107              0              1              0              0   \n11108              0              1              0              0   \n\n       Character_2_A  Character_2_T  Character_2_C  Character_2_G  \\\n0                  0              0              1              0   \n1                  0              0              0              0   \n2                  0              0              1              0   \n3                  0              0              0              0   \n4                  0              0              1              0   \n...              ...            ...            ...            ...   \n11104              0              1              0              0   \n11105              0              0              0              0   \n11106              0              1              0              0   \n11107              0              0              0              0   \n11108              0              1              0              0   \n\n       Character_3_A  Character_3_T  ...  Character_16_G  Character_17_A  \\\n0                  1              0  ...               0               0   \n1                  0              0  ...               0               0   \n2                  0              0  ...               0               0   \n3                  0              0  ...               0               0   \n4                  1              0  ...               0               0   \n...              ...            ...  ...             ...             ...   \n11104              0              1  ...               1               0   \n11105              0              1  ...               1               0   \n11106              0              0  ...               0               0   \n11107              0              1  ...               1               0   \n11108              0              1  ...               1               0   \n\n       Character_17_T  Character_17_C  Character_17_G  Character_18_A  \\\n0                   0               1               0               1   \n1                   0               0               0               0   \n2                   0               1               0               0   \n3                   0               0               0               1   \n4                   0               1               0               1   \n...               ...             ...             ...             ...   \n11104               1               0               0               1   \n11105               1               0               0               1   \n11106               1               0               0               1   \n11107               1               0               0               0   \n11108               1               0               0               1   \n\n       Character_18_T  Character_18_C  Character_18_G  subpopulation  \n0                   0               0               0              1  \n1                   0               0               0              1  \n2                   0               0               0              1  \n3                   0               0               0              1  \n4                   0               0               0              1  \n...               ...             ...             ...            ...  \n11104               0               0               0              0  \n11105               0               0               0              0  \n11106               0               0               0              0  \n11107               0               0               0              0  \n11108               0               0               0              0  \n\n[11109 rows x 73 columns]",
      "text/html": "<div>\n<style scoped>\n    .dataframe tbody tr th:only-of-type {\n        vertical-align: middle;\n    }\n\n    .dataframe tbody tr th {\n        vertical-align: top;\n    }\n\n    .dataframe thead th {\n        text-align: right;\n    }\n</style>\n<table border=\"1\" class=\"dataframe\">\n  <thead>\n    <tr style=\"text-align: right;\">\n      <th></th>\n      <th>Character_1_A</th>\n      <th>Character_1_T</th>\n      <th>Character_1_C</th>\n      <th>Character_1_G</th>\n      <th>Character_2_A</th>\n      <th>Character_2_T</th>\n      <th>Character_2_C</th>\n      <th>Character_2_G</th>\n      <th>Character_3_A</th>\n      <th>Character_3_T</th>\n      <th>...</th>\n      <th>Character_16_G</th>\n      <th>Character_17_A</th>\n      <th>Character_17_T</th>\n      <th>Character_17_C</th>\n      <th>Character_17_G</th>\n      <th>Character_18_A</th>\n      <th>Character_18_T</th>\n      <th>Character_18_C</th>\n      <th>Character_18_G</th>\n      <th>subpopulation</th>\n    </tr>\n  </thead>\n  <tbody>\n    <tr>\n      <th>0</th>\n      <td>0</td>\n      <td>1</td>\n      <td>0</td>\n      <td>0</td>\n      <td>0</td>\n      <td>0</td>\n      <td>1</td>\n      <td>0</td>\n      <td>1</td>\n      <td>0</td>\n      <td>...</td>\n      <td>0</td>\n      <td>0</td>\n      <td>0</td>\n      <td>1</td>\n      <td>0</td>\n      <td>1</td>\n      <td>0</td>\n      <td>0</td>\n      <td>0</td>\n      <td>1</td>\n    </tr>\n    <tr>\n      <th>1</th>\n      <td>0</td>\n      <td>1</td>\n      <td>0</td>\n      <td>0</td>\n      <td>0</td>\n      <td>0</td>\n      <td>0</td>\n      <td>0</td>\n      <td>0</td>\n      <td>0</td>\n      <td>...</td>\n      <td>0</td>\n      <td>0</td>\n      <td>0</td>\n      <td>0</td>\n      <td>0</td>\n      <td>0</td>\n      <td>0</td>\n      <td>0</td>\n      <td>0</td>\n      <td>1</td>\n    </tr>\n    <tr>\n      <th>2</th>\n      <td>0</td>\n      <td>0</td>\n      <td>0</td>\n      <td>0</td>\n      <td>0</td>\n      <td>0</td>\n      <td>1</td>\n      <td>0</td>\n      <td>0</td>\n      <td>0</td>\n      <td>...</td>\n      <td>0</td>\n      <td>0</td>\n      <td>0</td>\n      <td>1</td>\n      <td>0</td>\n      <td>0</td>\n      <td>0</td>\n      <td>0</td>\n      <td>0</td>\n      <td>1</td>\n    </tr>\n    <tr>\n      <th>3</th>\n      <td>0</td>\n      <td>0</td>\n      <td>0</td>\n      <td>0</td>\n      <td>0</td>\n      <td>0</td>\n      <td>0</td>\n      <td>0</td>\n      <td>0</td>\n      <td>0</td>\n      <td>...</td>\n      <td>0</td>\n      <td>0</td>\n      <td>0</td>\n      <td>0</td>\n      <td>0</td>\n      <td>1</td>\n      <td>0</td>\n      <td>0</td>\n      <td>0</td>\n      <td>1</td>\n    </tr>\n    <tr>\n      <th>4</th>\n      <td>0</td>\n      <td>0</td>\n      <td>0</td>\n      <td>0</td>\n      <td>0</td>\n      <td>0</td>\n      <td>1</td>\n      <td>0</td>\n      <td>1</td>\n      <td>0</td>\n      <td>...</td>\n      <td>0</td>\n      <td>0</td>\n      <td>0</td>\n      <td>1</td>\n      <td>0</td>\n      <td>1</td>\n      <td>0</td>\n      <td>0</td>\n      <td>0</td>\n      <td>1</td>\n    </tr>\n    <tr>\n      <th>...</th>\n      <td>...</td>\n      <td>...</td>\n      <td>...</td>\n      <td>...</td>\n      <td>...</td>\n      <td>...</td>\n      <td>...</td>\n      <td>...</td>\n      <td>...</td>\n      <td>...</td>\n      <td>...</td>\n      <td>...</td>\n      <td>...</td>\n      <td>...</td>\n      <td>...</td>\n      <td>...</td>\n      <td>...</td>\n      <td>...</td>\n      <td>...</td>\n      <td>...</td>\n      <td>...</td>\n    </tr>\n    <tr>\n      <th>11104</th>\n      <td>0</td>\n      <td>1</td>\n      <td>0</td>\n      <td>0</td>\n      <td>0</td>\n      <td>1</td>\n      <td>0</td>\n      <td>0</td>\n      <td>0</td>\n      <td>1</td>\n      <td>...</td>\n      <td>1</td>\n      <td>0</td>\n      <td>1</td>\n      <td>0</td>\n      <td>0</td>\n      <td>1</td>\n      <td>0</td>\n      <td>0</td>\n      <td>0</td>\n      <td>0</td>\n    </tr>\n    <tr>\n      <th>11105</th>\n      <td>0</td>\n      <td>1</td>\n      <td>0</td>\n      <td>0</td>\n      <td>0</td>\n      <td>0</td>\n      <td>0</td>\n      <td>0</td>\n      <td>0</td>\n      <td>1</td>\n      <td>...</td>\n      <td>1</td>\n      <td>0</td>\n      <td>1</td>\n      <td>0</td>\n      <td>0</td>\n      <td>1</td>\n      <td>0</td>\n      <td>0</td>\n      <td>0</td>\n      <td>0</td>\n    </tr>\n    <tr>\n      <th>11106</th>\n      <td>0</td>\n      <td>1</td>\n      <td>0</td>\n      <td>0</td>\n      <td>0</td>\n      <td>1</td>\n      <td>0</td>\n      <td>0</td>\n      <td>0</td>\n      <td>0</td>\n      <td>...</td>\n      <td>0</td>\n      <td>0</td>\n      <td>1</td>\n      <td>0</td>\n      <td>0</td>\n      <td>1</td>\n      <td>0</td>\n      <td>0</td>\n      <td>0</td>\n      <td>0</td>\n    </tr>\n    <tr>\n      <th>11107</th>\n      <td>0</td>\n      <td>1</td>\n      <td>0</td>\n      <td>0</td>\n      <td>0</td>\n      <td>0</td>\n      <td>0</td>\n      <td>0</td>\n      <td>0</td>\n      <td>1</td>\n      <td>...</td>\n      <td>1</td>\n      <td>0</td>\n      <td>1</td>\n      <td>0</td>\n      <td>0</td>\n      <td>0</td>\n      <td>0</td>\n      <td>0</td>\n      <td>0</td>\n      <td>0</td>\n    </tr>\n    <tr>\n      <th>11108</th>\n      <td>0</td>\n      <td>1</td>\n      <td>0</td>\n      <td>0</td>\n      <td>0</td>\n      <td>1</td>\n      <td>0</td>\n      <td>0</td>\n      <td>0</td>\n      <td>1</td>\n      <td>...</td>\n      <td>1</td>\n      <td>0</td>\n      <td>1</td>\n      <td>0</td>\n      <td>0</td>\n      <td>1</td>\n      <td>0</td>\n      <td>0</td>\n      <td>0</td>\n      <td>0</td>\n    </tr>\n  </tbody>\n</table>\n<p>11109 rows × 73 columns</p>\n</div>"
     },
     "execution_count": 69,
     "metadata": {},
     "output_type": "execute_result"
    }
   ],
   "source": [
    "import numpy as np\n",
    "import matplotlib.pyplot as plt\n",
    "import pandas as pd\n",
    "df = pd.read_csv('encoded.csv')\n",
    "x = df.iloc[:, :-1]\n",
    "y = df.iloc[:, -1]\n",
    "x"
   ],
   "metadata": {
    "collapsed": false,
    "ExecuteTime": {
     "end_time": "2023-07-14T06:37:14.196215Z",
     "start_time": "2023-07-14T06:37:14.160572Z"
    }
   }
  },
  {
   "cell_type": "code",
   "execution_count": 70,
   "outputs": [
    {
     "name": "stdout",
     "output_type": "stream",
     "text": [
      "Mean Squared Error (MSE): 165.77820767544955\n",
      "Root Mean Squared Error (RMSE): 12.875488638317753\n",
      "Mean Absolute Error (MAE): 9.567803917853587\n",
      "R-squared (R2) Score: 0.20004334741285967\n",
      "Accuracy : 57.357115958052454\n"
     ]
    }
   ],
   "source": [
    "from sklearn.ensemble import RandomForestRegressor\n",
    "from sklearn.model_selection import train_test_split\n",
    "from sklearn.metrics import mean_squared_error, mean_absolute_error, r2_score\n",
    "from sklearn.metrics import mean_absolute_percentage_error as mape\n",
    "\n",
    "\n",
    "# Split the dataset into training and testing sets\n",
    "X_train, X_test, y_train, y_test = train_test_split(x, y, test_size=0.35, random_state=42)\n",
    "\n",
    "# Create a Random Forest Regressor model\n",
    "rf_model = RandomForestRegressor(n_estimators=100, random_state=42)\n",
    "\n",
    "# Fit the model to the training data\n",
    "rf_model.fit(X_train, y_train)\n",
    "\n",
    "# Make predictions on the test data\n",
    "y_pred = rf_model.predict(X_test)\n",
    "\n",
    "mse = mean_squared_error(y_test, y_pred)\n",
    "\n",
    "# Calculate Root Mean Squared Error (RMSE)\n",
    "rmse = mean_squared_error(y_test, y_pred, squared=False)\n",
    "\n",
    "# Calculate Mean Absolute Error (MAE)\n",
    "mae = mean_absolute_error(y_test, y_pred)\n",
    "\n",
    "# Calculate R-squared (R2) Score\n",
    "r2 = r2_score(y_test, y_pred)\n",
    "\n",
    "accuracy = (1-mape(y_test, y_pred))*100\n",
    "\n",
    "# Print the evaluation metrics\n",
    "print(\"Mean Squared Error (MSE):\", mse)\n",
    "print(\"Root Mean Squared Error (RMSE):\", rmse)\n",
    "print(\"Mean Absolute Error (MAE):\", mae)\n",
    "print(\"R-squared (R2) Score:\", r2)\n",
    "print(\"Accuracy :\", accuracy)"
   ],
   "metadata": {
    "collapsed": false,
    "ExecuteTime": {
     "end_time": "2023-07-14T06:37:57.469999Z",
     "start_time": "2023-07-14T06:37:55.326328Z"
    }
   }
  },
  {
   "cell_type": "code",
   "execution_count": 71,
   "outputs": [
    {
     "name": "stdout",
     "output_type": "stream",
     "text": [
      "Mean Squared Error (MSE): 170.00326832996691\n",
      "Root Mean Squared Error (RMSE): 13.038530144535729\n",
      "Mean Absolute Error (MAE): 9.814650958609677\n",
      "R-squared (R2) Score: 0.17965547239865853\n",
      "Accuracy : 57.0269743918304\n"
     ]
    }
   ],
   "source": [
    "import xgboost as xgb\n",
    "\n",
    "xgb_model = xgb.XGBRegressor()\n",
    "\n",
    "# Fit the model to the training data\n",
    "xgb_model.fit(X_train, y_train)\n",
    "\n",
    "# Make predictions on the test data\n",
    "y_pred = xgb_model.predict(X_test)\n",
    "\n",
    "mse = mean_squared_error(y_test, y_pred)\n",
    "\n",
    "# Calculate Root Mean Squared Error (RMSE)\n",
    "rmse = mean_squared_error(y_test, y_pred, squared=False)\n",
    "\n",
    "# Calculate Mean Absolute Error (MAE)\n",
    "mae = mean_absolute_error(y_test, y_pred)\n",
    "\n",
    "# Calculate R-squared (R2) Score\n",
    "r2 = r2_score(y_test, y_pred)\n",
    "\n",
    "accuracy = (1-mape(y_test, y_pred))*100\n",
    "\n",
    "# Print the evaluation metrics\n",
    "print(\"Mean Squared Error (MSE):\", mse)\n",
    "print(\"Root Mean Squared Error (RMSE):\", rmse)\n",
    "print(\"Mean Absolute Error (MAE):\", mae)\n",
    "print(\"R-squared (R2) Score:\", r2)\n",
    "print(\"Accuracy :\", accuracy)"
   ],
   "metadata": {
    "collapsed": false,
    "ExecuteTime": {
     "end_time": "2023-07-14T06:38:33.517224Z",
     "start_time": "2023-07-14T06:38:32.356532Z"
    }
   }
  },
  {
   "cell_type": "code",
   "execution_count": null,
   "outputs": [],
   "source": [],
   "metadata": {
    "collapsed": false
   }
  }
 ],
 "metadata": {
  "kernelspec": {
   "display_name": "Python 3",
   "language": "python",
   "name": "python3"
  },
  "language_info": {
   "codemirror_mode": {
    "name": "ipython",
    "version": 2
   },
   "file_extension": ".py",
   "mimetype": "text/x-python",
   "name": "python",
   "nbconvert_exporter": "python",
   "pygments_lexer": "ipython2",
   "version": "2.7.6"
  }
 },
 "nbformat": 4,
 "nbformat_minor": 0
}
