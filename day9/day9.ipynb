{
 "cells": [
  {
   "cell_type": "code",
   "execution_count": 1,
   "metadata": {
    "collapsed": true,
    "ExecuteTime": {
     "end_time": "2023-05-03T16:48:27.009770Z",
     "start_time": "2023-05-03T16:48:26.164871Z"
    }
   },
   "outputs": [],
   "source": [
    "from Bio import SeqIO\n",
    "from Bio import Phylo\n",
    "import pandas as pd\n",
    "import matplotlib.pyplot as plt"
   ]
  },
  {
   "cell_type": "code",
   "execution_count": 2,
   "outputs": [
    {
     "name": "stdout",
     "output_type": "stream",
     "text": [
      "529\n"
     ]
    }
   ],
   "source": [
    "sequences = {}\n",
    "for record in SeqIO.parse(\"sequences.fasta\", \"fasta\"):\n",
    "    sequences[record.id] = str(record.seq)\n",
    "print(len(sequences))"
   ],
   "metadata": {
    "collapsed": false,
    "ExecuteTime": {
     "end_time": "2023-05-03T16:48:27.011232Z",
     "start_time": "2023-05-03T16:48:27.002095Z"
    }
   }
  },
  {
   "cell_type": "code",
   "execution_count": 3,
   "outputs": [],
   "source": [
    "subpopulations = {}\n",
    "df = pd.read_csv(\"mapping.csv\")\n",
    "for index, row in df.iterrows():\n",
    "    subpopulations[row[\"Cultivar ID\"]] = row[\"Subpopulation\"]\n"
   ],
   "metadata": {
    "collapsed": false,
    "ExecuteTime": {
     "end_time": "2023-05-03T16:48:28.284608Z",
     "start_time": "2023-05-03T16:48:28.263278Z"
    }
   }
  },
  {
   "cell_type": "code",
   "execution_count": 4,
   "outputs": [],
   "source": [
    "tree = Phylo.read(\"tree.nwk\", \"newick\")"
   ],
   "metadata": {
    "collapsed": false,
    "ExecuteTime": {
     "end_time": "2023-05-03T16:48:29.882074Z",
     "start_time": "2023-05-03T16:48:29.865331Z"
    }
   }
  },
  {
   "cell_type": "code",
   "execution_count": null,
   "outputs": [],
   "source": [
    "# Set the figure size\n",
    "fig, ax = plt.subplots(figsize=(96, 64))\n",
    "\n",
    "# Draw the tree with the larger size\n",
    "Phylo.draw(tree, axes=ax)\n",
    "\n",
    "plt.show()"
   ],
   "metadata": {
    "collapsed": false
   }
  },
  {
   "cell_type": "code",
   "execution_count": null,
   "outputs": [],
   "source": [
    "for clade in tree.find_clades():\n",
    "    if not clade.is_terminal():\n",
    "        seq_ids = [term.name for term in clade.get_terminals()]\n",
    "        subpop_counts = {}\n",
    "        for seq_id in seq_ids:\n",
    "            subpop = subpopulations.get(seq_id, \"\")\n",
    "            subpop_counts[subpop] = subpop_counts.get(subpop, 0) + 1\n",
    "        if subpop_counts:\n",
    "            max_count = max(subpop_counts.values())\n",
    "            subpops = [k for k, v in subpop_counts.items() if v == max_count]\n",
    "            if len(subpops) == 1:\n",
    "                clade.name = subpops[0]"
   ],
   "metadata": {
    "collapsed": false
   }
  },
  {
   "cell_type": "code",
   "execution_count": null,
   "outputs": [],
   "source": [
    "Phylo.draw(tree)"
   ],
   "metadata": {
    "collapsed": false
   }
  },
  {
   "cell_type": "code",
   "execution_count": null,
   "outputs": [],
   "source": [
    "Phylo.draw_ascii(tree)"
   ],
   "metadata": {
    "collapsed": false
   }
  },
  {
   "cell_type": "code",
   "execution_count": null,
   "outputs": [],
   "source": [
    "import matplotlib.pyplot as plt\n",
    "\n",
    "# Set the figure size\n",
    "fig, ax = plt.subplots(figsize=(96, 64))\n",
    "\n",
    "# Draw the tree with the larger size\n",
    "Phylo.draw(tree, axes=ax)\n",
    "\n",
    "plt.show()"
   ],
   "metadata": {
    "collapsed": false
   }
  },
  {
   "cell_type": "code",
   "execution_count": null,
   "outputs": [],
   "source": [
    "Phylo.write(tree, \"annotated_tree.nwk\", \"newick\")"
   ],
   "metadata": {
    "collapsed": false
   }
  },
  {
   "cell_type": "code",
   "execution_count": null,
   "outputs": [],
   "source": [
    "for clade in tree.find_clades():\n",
    "    if clade.is_terminal():\n",
    "        print(clade)"
   ],
   "metadata": {
    "collapsed": false
   }
  },
  {
   "cell_type": "code",
   "execution_count": null,
   "outputs": [],
   "source": [
    "str = \"C134\"\n",
    "# Find the path from the root to the clade\n",
    "path = tree.get_path(str)"
   ],
   "metadata": {
    "collapsed": false
   }
  },
  {
   "cell_type": "code",
   "execution_count": null,
   "outputs": [],
   "source": [
    "print(path[-2])"
   ],
   "metadata": {
    "collapsed": false
   }
  },
  {
   "cell_type": "code",
   "execution_count": null,
   "outputs": [],
   "source": [
    "clusters = []\n",
    "for clade in tree.find_clades():\n",
    "    if clade.is_preterminal():\n",
    "        cluster = []\n",
    "        nodes = clade.get_terminals()\n",
    "        for node in nodes:\n",
    "            cluster.append((node.name, sequences.get(node.name)))\n",
    "        clusters.append(cluster)\n",
    "\n",
    "for cluster in clusters:\n",
    "    print()\n",
    "    print(cluster)"
   ],
   "metadata": {
    "collapsed": false
   }
  },
  {
   "cell_type": "code",
   "execution_count": null,
   "outputs": [],
   "source": [
    "seq_map = {}\n",
    "for clade in tree.find_clades():\n",
    "    if clade.is_terminal():\n",
    "        l = seq_map.get(sequences.get(clade.name))\n",
    "        if l is None:\n",
    "            l = []\n",
    "        l.append(clade.name)\n",
    "        seq_map[sequences.get(clade.name)] = l"
   ],
   "metadata": {
    "collapsed": false
   }
  },
  {
   "cell_type": "code",
   "execution_count": null,
   "outputs": [],
   "source": [
    "len(seq_map.keys())"
   ],
   "metadata": {
    "collapsed": false
   }
  },
  {
   "cell_type": "code",
   "execution_count": null,
   "outputs": [],
   "source": [
    "tree.get_path(\"W193\")"
   ],
   "metadata": {
    "collapsed": false
   }
  },
  {
   "cell_type": "markdown",
   "source": [
    "# Clustering using phylogenetic tree"
   ],
   "metadata": {
    "collapsed": false
   }
  },
  {
   "cell_type": "code",
   "execution_count": 3,
   "outputs": [
    {
     "name": "stdout",
     "output_type": "stream",
     "text": [
      "(('W128', ((('W119', (((('C012', 'W060'), 'W193'), 'W249'), 'W250')), (('W003', 'C063'), (('C172', 'C120'), 'C149'))), (('W155', 'W125'), ((((('W323', 'C052'), 'W021'), 'C185'), 'W327'), ((((((((((((((((((((((((((((((((((('W158', 'W027'), 'C048'), 'W010'), 'W130'), 'W328'), 'W052'), 'C032'), 'W109'), 'W160'), 'C057'), 'C028'), 'C017'), 'C029'), 'C150'), 'W012'), 'C146'), 'W283'), 'W063'), 'W209'), 'W013'), 'C177'), 'C116'), 'C154'), 'W117'), 'W207'), 'W305'), 'W061'), 'W162'), 'C035'), 'W088'), 'C018'), 'C152'), 'C026'), 'C064'), 'W016'))))), (((((('W014', ('W106', 'W140')), (('W079', ('W247', 'W210')), ((((((((((((((('C109', 'W241'), 'W009'), 'C080'), 'C097'), 'C047'), 'W066'), 'W023'), 'W111'), 'C104'), 'W054'), 'C194'), 'C108'), 'W089'), 'W203'), 'W093'))), (((((((((((((('W071', 'W204'), 'W310'), 'W080'), 'C197'), 'C132'), 'W221'), 'W146'), 'C090'), 'C102'), 'W205'), 'C055'), 'W178'), ('W030', 'W145')), (((((((((((('W282', 'W144'), 'C125'), 'W198'), 'W314'), 'W114'), 'C182'), 'C143'), 'W212'), 'W074'), 'C110'), 'C140'), (((((((('W105', 'W137'), 'W049'), 'C086'), 'W134'), 'W035'), 'C098'), 'W075'), 'W129')))), (('W028', 'W235'), (((((((((((((((((((((((((((((((('W297', 'W099'), 'W098'), 'W072'), 'W096'), 'W287'), 'W037'), 'W296'), 'W025'), 'W094'), 'W292'), 'W280'), 'W214'), 'W104'), 'W015'), 'W103'), 'W121'), 'W100'), 'C013'), 'W034'), 'W115'), 'W108'), 'W286'), 'W076'), 'W142'), 'W092'), 'W215'), 'W141'), 'W131'), 'W069'), 'W090'), 'W042'), (((((((((((((((((((((('C129', 'C088'), 'W036'), 'C136'), 'C095'), 'W320'), 'C135'), 'C198'), 'W039'), 'C073'), 'W031'), 'W124'), 'W272'), 'W026'), 'C190'), 'C141'), 'W126'), 'C201'), 'C200'), 'C096'), 'C199'), 'W032'), 'C100')))), ((((((('C180', 'C128'), 'C193'), 'C183'), 'W132'), ('W020', 'C202')), ((('W306', 'C001'), 'W261'), (((((((((((((('W048', 'W278'), 'C002'), 'W220'), 'W252'), 'W279'), 'W330'), 'W255'), 'W277'), 'W091'), 'W077'), 'W219'), 'C015'), 'W095'), 'W136'))), ((('C036', 'C121'), ((((((((((((((((('W298', 'W148'), 'W299'), 'W291'), 'W181'), 'C175'), 'C142'), 'W147'), 'C107'), 'C162'), 'C072'), 'W194'), 'C192'), 'W304'), 'W321'), 'W154'), 'W172'), 'W274')), (('C139', 'W112'), (((((((('W033', 'W084'), 'W107'), 'C066'), 'C173'), 'C099'), 'W192'), 'W191'), 'C078'))))), (((('W047', (('C056', 'W290'), 'C016')), (((((('C076', 'C081'), 'C184'), 'W001'), 'C077'), (('W256', 'W081'), 'W258')), (('C060', 'W029'), (('C085', 'W050'), 'C084')))), ((((((((((('C196', 'C093'), 'C079'), 'C004'), 'C130'), 'W325'), 'W102'), 'C133'), 'C103'), ((((((((((((((('C179', 'C171'), 'C074'), 'C138'), 'C067'), 'C075'), 'W127'), 'C082'), 'W097'), 'C071'), 'W082'), 'W326'), 'W135'), 'W324'), 'W122'), 'C186')), (((((((((((((((((((((((((((((('W175', 'C188'), 'W070'), 'W059'), 'C023'), 'C181'), 'W062'), 'C124'), 'W173'), 'C187'), 'W018'), 'C003'), 'C010'), 'W019'), 'W139'), 'W038'), 'C195'), 'C089'), 'W302'), 'W064'), 'W171'), 'C054'), 'W313'), 'W240'), 'W068'), 'C203'), 'C034'), 'C118'), 'W045'), 'W281'), (((((((('W041', 'W116'), 'W011'), 'W055'), 'C070'), 'C087'), 'C189'), 'W056'), 'C123'))), ((((((('W319', 'C134'), 'C111'), 'C144'), 'C137'), 'C106'), 'C101'), 'W143'))), ((('C083', ((((((((((((((('C156', 'C020'), 'C157'), 'C039'), 'W078'), 'C155'), 'W223'), 'C058'), 'C159'), 'C040'), 'C122'), 'C021'), 'C033'), 'C059'), 'C158'), 'C161')), (((('C145', 'C114'), 'C024'), ((((('W226', 'W120'), 'C014'), 'W087'), 'C119'), 'C051')), ((((((((((((((((((((((((((((((((((((((((((((((((((((((((((((((((((((((((((((((((((((((((((((((((((((((((((((((((((((((((((((((((((((('C030', 'W166'), 'W179'), 'W149'), 'W300'), 'W271'), 'W244'), 'W309'), 'W118'), 'W308'), 'W216'), 'W040'), 'C112'), 'W046'), 'W044'), 'W242'), 'W165'), 'C068'), 'C160'), 'W083'), 'C043'), 'C115'), 'W318'), 'C042'), 'C174'), 'W294'), 'W233'), 'W167'), 'W230'), 'W170'), 'W183'), 'C178'), 'W174'), 'W058'), 'W202'), 'W222'), 'W184'), 'W307'), 'W322'), 'C049'), 'C117'), 'C038'), 'C170'), 'W153'), 'W180'), 'W186'), 'W163'), 'C147'), 'C168'), 'W263'), 'C006'), 'C011'), 'W238'), 'C065'), 'W316'), 'W289'), 'W315'), 'C105'), 'W234'), 'W265'), 'C151'), 'C009'), 'C037'), 'W152'), 'C069'), 'C050'), 'W264'), 'W159'), 'C164'), 'W156'), 'W151'), 'W195'), 'C163'), 'W086'), 'W225'), 'W182'), 'W229'), 'W245'), 'W236'), 'C062'), 'C061'), 'C022'), 'W227'), 'W295'), 'W189'), 'W197'), 'W150'), 'C025'), 'C044'), 'W051'), 'W168'), 'C053'), 'W224'), 'W237'), 'W262'), 'C169'), 'W217'), 'C046'), 'C031'), 'W177'), 'W201'), 'C165'), 'C166'), 'W311'), 'W231'), 'W276'), 'W267'), 'W248'), 'W259'), 'W185'), 'W301'), 'W293'), 'W228'), 'W218'), 'W157'), 'W164'), 'W176'), 'C113'), 'W243'), 'W043'), 'W169'), 'W312'), 'C007'), 'W138'), 'C167'), 'W317'), 'W211'), 'C019'), 'W213'), 'W268'), 'W200'), 'W161'), 'W187'), 'C148'))), (('C094', ((((((((((((((((((((((('W199', 'W073'), 'C176'), 'W206'), 'W269'), 'C045'), 'C191'), 'W188'), 'W329'), 'C091'), 'W260'), 'C092'), 'W085'), 'W239'), 'C027'), 'W101'), 'W246'), 'W133'), 'W270'), 'W266'), 'C127'), 'C131'), 'C041'), 'C008')), (((((((('W284', 'W110'), 'W002'), 'C005'), 'W004'), 'W273'), 'W007'), 'W288'), (((((((((((((((((((('W057', 'W251'), 'W065'), 'W208'), 'W022'), 'W024'), 'W253'), 'W254'), 'W257'), 'W113'), 'W017'), 'W123'), 'W303'), 'W275'), 'W008'), 'W005'), 'C153'), 'W053'), 'W285'), 'W067'), 'W006')))))))\n"
     ]
    }
   ],
   "source": [
    "from Bio import Phylo\n",
    "\n",
    "# Load the tree\n",
    "tree = Phylo.read(\"tree.nwk\", \"newick\")\n",
    "\n",
    "# Get the tuple representation of the tree\n",
    "def get_tuple(clade):\n",
    "    if clade.is_terminal():\n",
    "        return clade.name\n",
    "    else:\n",
    "        return (get_tuple(clade.clades[0]), get_tuple(clade.clades[1]))\n",
    "\n",
    "tree_tuple = get_tuple(tree.clade)\n",
    "\n",
    "print(tree_tuple)\n"
   ],
   "metadata": {
    "collapsed": false,
    "ExecuteTime": {
     "end_time": "2023-05-03T16:52:05.157711Z",
     "start_time": "2023-05-03T16:52:04.949902Z"
    }
   }
  },
  {
   "cell_type": "code",
   "execution_count": 5,
   "outputs": [
    {
     "data": {
      "text/plain": "'((W128,(((W119,((((C012,W060),W193),W249),W250)),((W003,C063),((C172,C120),C149))),((W155,W125),(((((W323,C052),W021),C185),W327),(((((((((((((((((((((((((((((((((((W158,W027),C048),W010),W130),W328),W052),C032),W109),W160),C057),C028),C017),C029),C150),W012),C146),W283),W063),W209),W013),C177),C116),C154),W117),W207),W305),W061),W162),C035),W088),C018),C152),C026),C064),W016))))),((((((W014,(W106,W140)),((W079,(W247,W210)),(((((((((((((((C109,W241),W009),C080),C097),C047),W066),W023),W111),C104),W054),C194),C108),W089),W203),W093))),((((((((((((((W071,W204),W310),W080),C197),C132),W221),W146),C090),C102),W205),C055),W178),(W030,W145)),((((((((((((W282,W144),C125),W198),W314),W114),C182),C143),W212),W074),C110),C140),((((((((W105,W137),W049),C086),W134),W035),C098),W075),W129)))),((W028,W235),((((((((((((((((((((((((((((((((W297,W099),W098),W072),W096),W287),W037),W296),W025),W094),W292),W280),W214),W104),W015),W103),W121),W100),C013),W034),W115),W108),W286),W076),W142),W092),W215),W141),W131),W069),W090),W042),((((((((((((((((((((((C129,C088),W036),C136),C095),W320),C135),C198),W039),C073),W031),W124),W272),W026),C190),C141),W126),C201),C200),C096),C199),W032),C100)))),(((((((C180,C128),C193),C183),W132),(W020,C202)),(((W306,C001),W261),((((((((((((((W048,W278),C002),W220),W252),W279),W330),W255),W277),W091),W077),W219),C015),W095),W136))),(((C036,C121),(((((((((((((((((W298,W148),W299),W291),W181),C175),C142),W147),C107),C162),C072),W194),C192),W304),W321),W154),W172),W274)),((C139,W112),((((((((W033,W084),W107),C066),C173),C099),W192),W191),C078))))),((((W047,((C056,W290),C016)),((((((C076,C081),C184),W001),C077),((W256,W081),W258)),((C060,W029),((C085,W050),C084)))),(((((((((((C196,C093),C079),C004),C130),W325),W102),C133),C103),(((((((((((((((C179,C171),C074),C138),C067),C075),W127),C082),W097),C071),W082),W326),W135),W324),W122),C186)),((((((((((((((((((((((((((((((W175,C188),W070),W059),C023),C181),W062),C124),W173),C187),W018),C003),C010),W019),W139),W038),C195),C089),W302),W064),W171),C054),W313),W240),W068),C203),C034),C118),W045),W281),((((((((W041,W116),W011),W055),C070),C087),C189),W056),C123))),(((((((W319,C134),C111),C144),C137),C106),C101),W143))),(((C083,(((((((((((((((C156,C020),C157),C039),W078),C155),W223),C058),C159),C040),C122),C021),C033),C059),C158),C161)),((((C145,C114),C024),(((((W226,W120),C014),W087),C119),C051)),(((((((((((((((((((((((((((((((((((((((((((((((((((((((((((((((((((((((((((((((((((((((((((((((((((((((((((((((((((((((((((((((((((((C030,W166),W179),W149),W300),W271),W244),W309),W118),W308),W216),W040),C112),W046),W044),W242),W165),C068),C160),W083),C043),C115),W318),C042),C174),W294),W233),W167),W230),W170),W183),C178),W174),W058),W202),W222),W184),W307),W322),C049),C117),C038),C170),W153),W180),W186),W163),C147),C168),W263),C006),C011),W238),C065),W316),W289),W315),C105),W234),W265),C151),C009),C037),W152),C069),C050),W264),W159),C164),W156),W151),W195),C163),W086),W225),W182),W229),W245),W236),C062),C061),C022),W227),W295),W189),W197),W150),C025),C044),W051),W168),C053),W224),W237),W262),C169),W217),C046),C031),W177),W201),C165),C166),W311),W231),W276),W267),W248),W259),W185),W301),W293),W228),W218),W157),W164),W176),C113),W243),W043),W169),W312),C007),W138),C167),W317),W211),C019),W213),W268),W200),W161),W187),C148))),((C094,(((((((((((((((((((((((W199,W073),C176),W206),W269),C045),C191),W188),W329),C091),W260),C092),W085),W239),C027),W101),W246),W133),W270),W266),C127),C131),C041),C008)),((((((((W284,W110),W002),C005),W004),W273),W007),W288),((((((((((((((((((((W057,W251),W065),W208),W022),W024),W253),W254),W257),W113),W017),W123),W303),W275),W008),W005),C153),W053),W285),W067),W006)))))))'"
     },
     "execution_count": 5,
     "metadata": {},
     "output_type": "execute_result"
    }
   ],
   "source": [],
   "metadata": {
    "collapsed": false,
    "ExecuteTime": {
     "end_time": "2023-05-03T16:52:08.311301Z",
     "start_time": "2023-05-03T16:52:08.299959Z"
    }
   }
  },
  {
   "cell_type": "code",
   "execution_count": 7,
   "outputs": [
    {
     "name": "stdout",
     "output_type": "stream",
     "text": [
      "0\n",
      "['W128']\n",
      "7\n",
      "['W119']\n",
      "15\n",
      "['C012', 'W060', 'W193', 'W249', 'W250']\n",
      "49\n",
      "['W003', 'C063']\n",
      "62\n",
      "['C172', 'C120', 'C149']\n",
      "83\n",
      "['W155', 'W125']\n",
      "96\n",
      "['W323', 'C052', 'W021', 'C185', 'W327']\n",
      "130\n",
      "['W158', 'W027', 'C048', 'W010', 'W130', 'W328', 'W052', 'C032', 'W109', 'W160', 'C057', 'C028', 'C017', 'C029', 'C150', 'W012', 'C146', 'W283', 'W063', 'W209', 'W013', 'C177', 'C116', 'C154', 'W117', 'W207', 'W305', 'W061', 'W162', 'C035', 'W088', 'C018', 'C152', 'C026', 'C064', 'W016']\n",
      "384\n",
      "['W014']\n",
      "395\n",
      "['W106', 'W140']\n",
      "408\n",
      "['W079']\n",
      "415\n",
      "['W247', 'W210']\n",
      "428\n",
      "['C109', 'W241', 'W009', 'C080', 'C097', 'C047', 'W066', 'W023', 'W111', 'C104', 'W054', 'C194', 'C108', 'W089', 'W203', 'W093']\n",
      "540\n",
      "['W071', 'W204', 'W310', 'W080', 'C197', 'C132', 'W221', 'W146', 'C090', 'C102', 'W205', 'C055', 'W178']\n",
      "631\n",
      "['W030', 'W145']\n",
      "644\n",
      "['W282', 'W144', 'C125', 'W198', 'W314', 'W114', 'C182', 'C143', 'W212', 'W074', 'C110', 'C140']\n",
      "727\n",
      "['W105', 'W137', 'W049', 'C086', 'W134', 'W035', 'C098', 'W075', 'W129']\n",
      "791\n",
      "['W028', 'W235']\n",
      "804\n",
      "['W297', 'W099', 'W098', 'W072', 'W096', 'W287', 'W037', 'W296', 'W025', 'W094', 'W292', 'W280', 'W214', 'W104', 'W015', 'W103', 'W121', 'W100', 'C013', 'W034', 'W115', 'W108', 'W286', 'W076', 'W142', 'W092', 'W215', 'W141', 'W131', 'W069', 'W090', 'W042']\n",
      "1027\n",
      "['C129', 'C088', 'W036', 'C136', 'C095', 'W320', 'C135', 'C198', 'W039', 'C073', 'W031', 'W124', 'W272', 'W026', 'C190', 'C141', 'W126', 'C201', 'C200', 'C096', 'C199', 'W032', 'C100']\n",
      "1189\n",
      "['C180', 'C128', 'C193', 'C183', 'W132']\n",
      "1225\n",
      "['W020', 'C202']\n",
      "1238\n",
      "['W306', 'C001', 'W261']\n",
      "1258\n",
      "['W048', 'W278', 'C002', 'W220', 'W252', 'W279', 'W330', 'W255', 'W277', 'W091', 'W077', 'W219', 'C015', 'W095', 'W136']\n",
      "1363\n",
      "['C036', 'C121']\n",
      "1377\n",
      "['W298', 'W148', 'W299', 'W291', 'W181', 'C175', 'C142', 'W147', 'C107', 'C162', 'C072', 'W194', 'C192', 'W304', 'W321', 'W154', 'W172', 'W274']\n",
      "1502\n",
      "['C139', 'W112']\n",
      "1515\n",
      "['W033', 'W084', 'W107', 'C066', 'C173', 'C099', 'W192', 'W191', 'C078']\n",
      "1580\n",
      "['W047']\n",
      "1589\n",
      "['C056', 'W290', 'C016']\n",
      "1609\n",
      "['C076', 'C081', 'C184', 'W001', 'C077']\n",
      "1644\n",
      "['W256', 'W081', 'W258']\n",
      "1664\n",
      "['C060', 'W029']\n",
      "1677\n",
      "['C085', 'W050', 'C084']\n",
      "1699\n",
      "['C196', 'C093', 'C079', 'C004', 'C130', 'W325', 'W102', 'C133', 'C103']\n",
      "1763\n",
      "['C179', 'C171', 'C074', 'C138', 'C067', 'C075', 'W127', 'C082', 'W097', 'C071', 'W082', 'W326', 'W135', 'W324', 'W122', 'C186']\n",
      "1874\n",
      "['W175', 'C188', 'W070', 'W059', 'C023', 'C181', 'W062', 'C124', 'W173', 'C187', 'W018', 'C003', 'C010', 'W019', 'W139', 'W038', 'C195', 'C089', 'W302', 'W064', 'W171', 'C054', 'W313', 'W240', 'W068', 'C203', 'C034', 'C118', 'W045', 'W281']\n",
      "2083\n",
      "['W041', 'W116', 'W011', 'W055', 'C070', 'C087', 'C189', 'W056', 'C123']\n",
      "2146\n",
      "['W319', 'C134', 'C111', 'C144', 'C137', 'C106', 'C101', 'W143']\n",
      "2202\n",
      "['C083']\n",
      "2210\n",
      "['C156', 'C020', 'C157', 'C039', 'W078', 'C155', 'W223', 'C058', 'C159', 'C040', 'C122', 'C021', 'C033', 'C059', 'C158', 'C161']\n",
      "2321\n",
      "['C145', 'C114', 'C024']\n",
      "2342\n",
      "['W226', 'W120', 'C014', 'W087', 'C119', 'C051']\n",
      "2383\n",
      "['C030', 'W166', 'W179', 'W149', 'W300', 'W271', 'W244', 'W309', 'W118', 'W308', 'W216', 'W040', 'C112', 'W046', 'W044', 'W242', 'W165', 'C068', 'C160', 'W083', 'C043', 'C115', 'W318', 'C042', 'C174', 'W294', 'W233', 'W167', 'W230', 'W170', 'W183', 'C178', 'W174', 'W058', 'W202', 'W222', 'W184', 'W307', 'W322', 'C049', 'C117', 'C038', 'C170', 'W153', 'W180', 'W186', 'W163', 'C147', 'C168', 'W263', 'C006', 'C011', 'W238', 'C065', 'W316', 'W289', 'W315', 'C105', 'W234', 'W265', 'C151', 'C009', 'C037', 'W152', 'C069', 'C050', 'W264', 'W159', 'C164', 'W156', 'W151', 'W195', 'C163', 'W086', 'W225', 'W182', 'W229', 'W245', 'W236', 'C062', 'C061', 'C022', 'W227', 'W295', 'W189', 'W197', 'W150', 'C025', 'C044', 'W051', 'W168', 'C053', 'W224', 'W237', 'W262', 'C169', 'W217', 'C046', 'C031', 'W177', 'W201', 'C165', 'C166', 'W311', 'W231', 'W276', 'W267', 'W248', 'W259', 'W185', 'W301', 'W293', 'W228', 'W218', 'W157', 'W164', 'W176', 'C113', 'W243', 'W043', 'W169', 'W312', 'C007', 'W138', 'C167', 'W317', 'W211', 'C019', 'W213', 'W268', 'W200', 'W161', 'W187', 'C148']\n",
      "3321\n",
      "['C094']\n",
      "3328\n",
      "['W199', 'W073', 'C176', 'W206', 'W269', 'C045', 'C191', 'W188', 'W329', 'C091', 'W260', 'C092', 'W085', 'W239', 'C027', 'W101', 'W246', 'W133', 'W270', 'W266', 'C127', 'C131', 'C041', 'C008']\n",
      "3495\n",
      "['W284', 'W110', 'W002', 'C005', 'W004', 'W273', 'W007', 'W288']\n",
      "3550\n",
      "['W057', 'W251', 'W065', 'W208', 'W022', 'W024', 'W253', 'W254', 'W257', 'W113', 'W017', 'W123', 'W303', 'W275', 'W008', 'W005', 'C153', 'W053', 'W285', 'W067', 'W006']\n"
     ]
    }
   ],
   "source": [
    "# clustering\n",
    "\n",
    "fin=[]\n",
    "s=str(tree_tuple)\n",
    "leng = len(s)\n",
    "for i in range(leng-1):\n",
    "  if(i>0):\n",
    "    i=k\n",
    "  if i>=leng-1:\n",
    "    break\n",
    "  c1=0\n",
    "  c2=0\n",
    "  if s[i]== '(':\n",
    "      c1+=1\n",
    "  flag=0\n",
    "  for j in range(i+1,leng):\n",
    "    if s[j]!= '(' and s[j]!= ')' and s[j]!= ',' and s[j]!= \" \":\n",
    "      flag+=1\n",
    "    elif s[j]== ')':\n",
    "      if c1==0 and flag>5:\n",
    "        strr=s[j-6:j]\n",
    "        fin.append(strr)\n",
    "        k=j+1\n",
    "        break\n",
    "      elif c1==0:\n",
    "        k=j+1\n",
    "        break\n",
    "      else:\n",
    "        c2+=1\n",
    "        if c1==c2:\n",
    "          strr1=s[i+c1:j]\n",
    "          fin.append(strr1)\n",
    "          k=j+1\n",
    "          break\n",
    "    else:\n",
    "      if s[j]== '(' and flag>5 and c1-c2>=1:\n",
    "        strr2=s[i+(c1-c2):j]\n",
    "        fin.append(strr2)\n",
    "        k=j\n",
    "        break\n",
    "      elif s[j]== '(' and flag>5:\n",
    "        c1=1\n",
    "        strr3=s[j-8:j-1]\n",
    "        fin.append(strr3)\n",
    "        k=j\n",
    "        break\n",
    "      else:\n",
    "        if s[j]== '(':\n",
    "          c1+=1\n",
    "        else:\n",
    "          continue\n",
    "for i in range(len(fin)):\n",
    "  fin[i] = fin[i].replace(\"(\", \"\").replace(\")\", \"\").replace(\",\", \"\").replace(\"'\", \"\")\n",
    "cll=[]\n",
    "for i in range(len(fin)):\n",
    "  w=fin[i].split()\n",
    "  res=\",\".join(w)\n",
    "  w1=res.split(\",\")\n",
    "  cll.append(w1)\n",
    "cll\n"
   ],
   "metadata": {
    "collapsed": false,
    "ExecuteTime": {
     "end_time": "2023-05-03T16:55:01.198271Z",
     "start_time": "2023-05-03T16:55:01.194708Z"
    }
   }
  },
  {
   "cell_type": "code",
   "execution_count": 9,
   "outputs": [
    {
     "data": {
      "text/plain": "48"
     },
     "execution_count": 9,
     "metadata": {},
     "output_type": "execute_result"
    }
   ],
   "source": [
    "print(len(cll))"
   ],
   "metadata": {
    "collapsed": false,
    "ExecuteTime": {
     "end_time": "2023-05-03T16:55:10.892974Z",
     "start_time": "2023-05-03T16:55:10.886607Z"
    }
   }
  },
  {
   "cell_type": "code",
   "execution_count": null,
   "outputs": [],
   "source": [
    "def cluster(stack):\n",
    "    temp=\"\"\n",
    "    for i in stack:\n",
    "        if(i==\"(\" or i==\")\"):\n",
    "            pass\n",
    "        else:\n",
    "            temp+=i\n",
    "    return temp\n",
    "\n",
    "def dnd_to_clusters(s):\n",
    "    s=str(s)\n",
    "    s=s.replace(\" \",\"\")\n",
    "    s=s.replace(\"'\",\"\")\n",
    "    stack=[]\n",
    "    final=[]\n",
    "    previous_char=None\n",
    "    i=0\n",
    "    count_close=0\n",
    "    count_open=0\n",
    "    while(i!=len(s)):\n",
    "        if((((s[i]==\"(\" and previous_char=='(') or (s[i]==\"(\" and previous_char==')')) and s[i-1]!=previous_char) or (count_close==count_open and count_close!=0)):\n",
    "            stack.append(s[i])\n",
    "            final.append(cluster(stack))\n",
    "            stack=[]\n",
    "            count_open=0\n",
    "            count_close=0\n",
    "\n",
    "        if(s[i]=='(' or s[i]==\")\"):\n",
    "            if not (len(stack)==0 and s[i]==\")\"):\n",
    "                previous_char=s[i]\n",
    "                if(s[i]==\"(\"):\n",
    "                    count_open+=1\n",
    "                else:\n",
    "                    count_close+=1\n",
    "        if(not(len(stack)==0 and s[i]==\")\")):\n",
    "            stack.append(s[i])\n",
    "        i=i+1\n",
    "    lst=[]\n",
    "    for i in final:\n",
    "        if(len(i)==1):\n",
    "            pass\n",
    "        else:\n",
    "            lst.append([ t for t in i.split(\",\") if len(t)!=0])\n",
    "    return lst"
   ],
   "metadata": {
    "collapsed": false
   }
  },
  {
   "cell_type": "code",
   "execution_count": null,
   "outputs": [],
   "source": [
    "final=dnd_to_clusters(tree_tuple)"
   ],
   "metadata": {
    "collapsed": false,
    "ExecuteTime": {
     "end_time": "2023-05-03T16:50:29.728164Z",
     "start_time": "2023-05-03T16:50:29.718854Z"
    }
   }
  },
  {
   "cell_type": "code",
   "execution_count": 1,
   "outputs": [
    {
     "ename": "NameError",
     "evalue": "name 'final' is not defined",
     "output_type": "error",
     "traceback": [
      "\u001B[0;31m---------------------------------------------------------------------------\u001B[0m",
      "\u001B[0;31mNameError\u001B[0m                                 Traceback (most recent call last)",
      "Input \u001B[0;32mIn [1]\u001B[0m, in \u001B[0;36m<cell line: 1>\u001B[0;34m()\u001B[0m\n\u001B[0;32m----> 1\u001B[0m \u001B[43mfinal\u001B[49m\n",
      "\u001B[0;31mNameError\u001B[0m: name 'final' is not defined"
     ]
    }
   ],
   "source": [
    "final"
   ],
   "metadata": {
    "collapsed": false,
    "ExecuteTime": {
     "end_time": "2023-05-03T16:50:29.955789Z",
     "start_time": "2023-05-03T16:50:29.720716Z"
    }
   }
  },
  {
   "cell_type": "code",
   "execution_count": null,
   "outputs": [],
   "source": [
    "len(final)"
   ],
   "metadata": {
    "collapsed": false
   }
  },
  {
   "cell_type": "code",
   "execution_count": null,
   "outputs": [],
   "source": [
    "df_clu=pd.DataFrame(cll).stack()"
   ],
   "metadata": {
    "collapsed": false
   }
  },
  {
   "cell_type": "code",
   "execution_count": null,
   "outputs": [],
   "source": [
    "df_clu"
   ],
   "metadata": {
    "collapsed": false
   }
  },
  {
   "cell_type": "code",
   "execution_count": 63,
   "outputs": [
    {
     "data": {
      "text/plain": "'C012'"
     },
     "execution_count": 63,
     "metadata": {},
     "output_type": "execute_result"
    }
   ],
   "source": [],
   "metadata": {
    "collapsed": false,
    "ExecuteTime": {
     "end_time": "2023-05-03T16:44:32.240910Z",
     "start_time": "2023-05-03T16:44:32.240021Z"
    }
   }
  }
 ],
 "metadata": {
  "kernelspec": {
   "display_name": "Python 3",
   "language": "python",
   "name": "python3"
  },
  "language_info": {
   "codemirror_mode": {
    "name": "ipython",
    "version": 2
   },
   "file_extension": ".py",
   "mimetype": "text/x-python",
   "name": "python",
   "nbconvert_exporter": "python",
   "pygments_lexer": "ipython2",
   "version": "2.7.6"
  }
 },
 "nbformat": 4,
 "nbformat_minor": 0
}
